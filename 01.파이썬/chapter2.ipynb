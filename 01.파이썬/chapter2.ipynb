{
 "cells": [
  {
   "cell_type": "code",
   "execution_count": 3,
   "metadata": {},
   "outputs": [],
   "source": [
    "strdata = 'adbcde' # 문자열\n",
    "listdata = [1, [2,3], 4, 5] # 리스트\n",
    "tubledata = (100, 200, 300) # 튜플 (리스트와 같음, 보안이 좋음, 괄호사용)"
   ]
  },
  {
   "cell_type": "code",
   "execution_count": 9,
   "metadata": {},
   "outputs": [
    {
     "name": "stdout",
     "output_type": "stream",
     "text": [
      "7\n",
      "3\n",
      "[7, [2, 3]]\n"
     ]
    }
   ],
   "source": [
    "print(listdata[0])\n",
    "print(listdata[1][1])\n",
    "\n",
    "# 리스트는 바꿀 수 있음\n",
    "listdata[0]=7\n",
    "print(listdata)"
   ]
  },
  {
   "cell_type": "code",
   "execution_count": null,
   "metadata": {},
   "outputs": [],
   "source": []
  },
  {
   "cell_type": "code",
   "execution_count": 7,
   "metadata": {
    "scrolled": true
   },
   "outputs": [
    {
     "ename": "TypeError",
     "evalue": "'tuple' object does not support item assignment",
     "output_type": "error",
     "traceback": [
      "\u001b[1;31m---------------------------------------------------------------------------\u001b[0m",
      "\u001b[1;31mTypeError\u001b[0m                                 Traceback (most recent call last)",
      "\u001b[1;32m<ipython-input-7-8dfd85db036c>\u001b[0m in \u001b[0;36m<module>\u001b[1;34m\u001b[0m\n\u001b[1;32m----> 1\u001b[1;33m \u001b[0mtubledata\u001b[0m\u001b[1;33m[\u001b[0m\u001b[1;36m0\u001b[0m\u001b[1;33m]\u001b[0m\u001b[1;33m=\u001b[0m\u001b[1;36m7\u001b[0m\u001b[1;33m\u001b[0m\u001b[1;33m\u001b[0m\u001b[0m\n\u001b[0m\u001b[0;32m      2\u001b[0m \u001b[0mprint\u001b[0m\u001b[1;33m(\u001b[0m\u001b[0mtubledata\u001b[0m\u001b[1;33m)\u001b[0m\u001b[1;33m\u001b[0m\u001b[1;33m\u001b[0m\u001b[0m\n",
      "\u001b[1;31mTypeError\u001b[0m: 'tuple' object does not support item assignment"
     ]
    }
   ],
   "source": [
    "# 튜플은 바꿀 수 없음, 에러남\n",
    "tubledata[0]=7\n",
    "print(tubledata)"
   ]
  },
  {
   "cell_type": "code",
   "execution_count": 10,
   "metadata": {},
   "outputs": [
    {
     "name": "stdout",
     "output_type": "stream",
     "text": [
      "i\n",
      "!\n",
      "1\n",
      "[1, 2, 3]\n",
      "3\n",
      "3\n"
     ]
    }
   ],
   "source": [
    "strdata = 'Time is money!!'\n",
    "listdata = [1, 2, [1, 2, 3]]\n",
    "print(strdata[5])     # ‘i'가 출력됨\n",
    "print(strdata[-2])    # ‘!’가 출력됨\n",
    "print(listdata[0])     # 1이 출력됨\n",
    "print(listdata[-1])    # [1, 2, 3]이 출력됨\n",
    "print(listdata[2][-1])  # 3이 출력됨\n",
    "print(listdata[-1][2])  # 3이 출력됨"
   ]
  },
  {
   "cell_type": "code",
   "execution_count": 21,
   "metadata": {},
   "outputs": [
    {
     "name": "stdout",
     "output_type": "stream",
     "text": [
      "<class 'int'>\n",
      "<class 'str'>\n",
      "<class 'list'>\n",
      "<class 'tuple'>\n",
      "<class 'dict'>\n",
      "<class 'function'>\n"
     ]
    }
   ],
   "source": [
    "numdata = 57\n",
    "strdata = '파이썬'\n",
    "listdata = [1, 2, 3]\n",
    "tubledata = (1, 2, 3)\n",
    "dictdata = {'a':1, 'b':2}\n",
    "\n",
    "def func():\n",
    "    print('안녕하세요.')\n",
    "\n",
    "print(type(numdata))\n",
    "print(type(strdata))\n",
    "print(type(listdata))\n",
    "print(type(tubledata))\n",
    "print(type(dictdata))\n",
    "print(type(func))"
   ]
  },
  {
   "cell_type": "code",
   "execution_count": 17,
   "metadata": {},
   "outputs": [
    {
     "name": "stdout",
     "output_type": "stream",
     "text": [
      "<50>를 <23>로 나누면 <4>가 나머지로 남습니다.\n"
     ]
    }
   ],
   "source": [
    "a = 50\n",
    "b = 23\n",
    "ret = a%b\n",
    "print('<%d>를 <%d>로 나누면 <%d>가 나머지로 남습니다.' %(a, b, ret))"
   ]
  },
  {
   "cell_type": "code",
   "execution_count": 19,
   "metadata": {},
   "outputs": [
    {
     "name": "stdout",
     "output_type": "stream",
     "text": [
      "<50/23>는 몫이 <2>, 나머지가 <4>입니다.\n"
     ]
    }
   ],
   "source": [
    "a = 50\n",
    "b = 23\n",
    "ret1, ret2 = divmod(a, b)\n",
    "print('<%d/%d>는 몫이 <%d>, 나머지가 <%d>입니다.' %(a, b, ret1, ret2))"
   ]
  },
  {
   "cell_type": "code",
   "execution_count": 22,
   "metadata": {},
   "outputs": [
    {
     "name": "stdout",
     "output_type": "stream",
     "text": [
      "1118\n",
      "17\n",
      "1120\n",
      "16.55\n"
     ]
    }
   ],
   "source": [
    "ret1 = round(1118)    # 소수점 첫째자리에서 반올림해줌\n",
    "ret2 = round(16.554)    # 소수점 첫째자리에서 반올림해줌\n",
    "ret3 = round(1118, -1)  # 1자리에서 반올림해줌\n",
    "ret4 = round(16.554, 2)  # 소수점 셋째자리에서 반올림해줌\n",
    "print(ret1)   # 1118\n",
    "print(ret2)   # 17\n",
    "print(ret3)   # 1120\n",
    "print(ret4)   # 16.55"
   ]
  },
  {
   "cell_type": "code",
   "execution_count": 23,
   "metadata": {},
   "outputs": [
    {
     "name": "stdout",
     "output_type": "stream",
     "text": [
      "-5\n",
      "17\n",
      "171\n"
     ]
    }
   ],
   "source": [
    "# 실수형 자료를 정수형 자료로 변환 (소수부분은 버림)\n",
    "idata1 = int(-5.4)\n",
    "idata2 = int(1.78e1)\n",
    "idata3 = int(171.56)\n",
    "print(idata1)   # -5가 출력됨\n",
    "print(idata2)   # 17이 출력됨\n",
    "print(idata3)   # 171이 출력됨"
   ]
  },
  {
   "cell_type": "code",
   "execution_count": 24,
   "metadata": {},
   "outputs": [
    {
     "name": "stdout",
     "output_type": "stream",
     "text": [
      "10.0\n"
     ]
    }
   ],
   "source": [
    "# 정수형 자료를 실수형 자료로 변환\n",
    "fdata = float(10)\n",
    "print(fdata)   # 10.0으로 출력됨"
   ]
  },
  {
   "cell_type": "code",
   "execution_count": 32,
   "metadata": {},
   "outputs": [
    {
     "name": "stdout",
     "output_type": "stream",
     "text": [
      "9.96\n",
      "0.93\n",
      "9.96\n",
      "0.93\n"
     ]
    }
   ],
   "source": [
    "listdata = [9.96, 1.27, 5.07, 6.45, 8.38, 9.29, 4.93, 7.73, 3.71, 0.93]\n",
    "maxval = max(listdata)\n",
    "minval = min(listdata)\n",
    "print(maxval)     # 9.96이 출력됨\n",
    "print(minval)     # 0.93이 출력됨\n",
    "print(max(listdata)) \n",
    "print(min(listdata)) "
   ]
  },
  {
   "cell_type": "code",
   "execution_count": 27,
   "metadata": {},
   "outputs": [
    {
     "data": {
      "text/plain": [
       "9.96"
      ]
     },
     "execution_count": 27,
     "metadata": {},
     "output_type": "execute_result"
    }
   ],
   "source": [
    "# 최대값\n",
    "mx = 0\n",
    "listdata = [9.96, 1.27, 5.07, 6.45, 8.38, 9.29, 4.93, 7.73, 3.71, 0.93]\n",
    "for data in listdata:\n",
    "    if data > mx:\n",
    "        mx = data\n",
    "mx"
   ]
  },
  {
   "cell_type": "code",
   "execution_count": 29,
   "metadata": {},
   "outputs": [
    {
     "data": {
      "text/plain": [
       "0.93"
      ]
     },
     "execution_count": 29,
     "metadata": {},
     "output_type": "execute_result"
    }
   ],
   "source": [
    "# 최소값\n",
    "mx = 999\n",
    "listdata = [9.96, 1.27, 5.07, 6.45, 8.38, 9.29, 4.93, 7.73, 3.71, 0.93]\n",
    "for data in listdata:\n",
    "    if data < mx:\n",
    "        mx = data\n",
    "mx"
   ]
  },
  {
   "cell_type": "code",
   "execution_count": 34,
   "metadata": {},
   "outputs": [
    {
     "name": "stdout",
     "output_type": "stream",
     "text": [
      "y\n",
      "A\n"
     ]
    }
   ],
   "source": [
    "txt = 'Alotofthingsoccureachday'\n",
    "maxval = max(txt)\n",
    "minval = min(txt)\n",
    "print(maxval);     # ‘y’가 출력됨\n",
    "print(minval)     # ‘A’가 출력됨"
   ]
  },
  {
   "cell_type": "code",
   "execution_count": 35,
   "metadata": {},
   "outputs": [
    {
     "name": "stdout",
     "output_type": "stream",
     "text": [
      "9\n",
      "a12\n"
     ]
    }
   ],
   "source": [
    "maxval = max(2+3, 2*3, 2**3, 3**2)\n",
    "minval = min('abz', 'a12')\n",
    "print(maxval)    # 9가 출력됨\n",
    "print(minval)     # ‘a12’가 출력됨"
   ]
  },
  {
   "cell_type": "code",
   "execution_count": 39,
   "metadata": {},
   "outputs": [
    {
     "name": "stdout",
     "output_type": "stream",
     "text": [
      "ime \n",
      "Time is\n",
      "oney!!\n",
      "Time is mone\n",
      "y!!\n",
      "Time is money!!\n",
      "Tm smny!\n"
     ]
    }
   ],
   "source": [
    "# 슬라이싱\n",
    "strdata = 'Time is money!!'\n",
    "print(strdata[1:5])   # ‘ime ’가 출력됨\n",
    "print(strdata[:7])    # ‘Time is’가 출력됨\n",
    "print(strdata[9:])    # ‘oney!!’가 출력됨\n",
    "print(strdata[:-3])   # ‘Time is mone’이 출력됨\n",
    "print(strdata[-3:])   # ‘y!!’이 출력됨\n",
    "print(strdata[:])    # ‘Time is money!!’가 출력됨\n",
    "print(strdata[::2])  # ‘2칸씩 띄어서 Tm smny!’가 출력됨"
   ]
  },
  {
   "cell_type": "code",
   "execution_count": 40,
   "metadata": {},
   "outputs": [
    {
     "name": "stdout",
     "output_type": "stream",
     "text": [
      "I love Python\n",
      "I love you\n",
      "[1, 2, 3, 4, 5, 6]\n"
     ]
    }
   ],
   "source": [
    "# 시퀀스 자료 연결하기\n",
    "strdata1 = 'I love '; strdata2 = 'Python'; strdata3 = 'you'\n",
    "listdata1 = [1, 2, 3]; listdata2 = [4, 5, 6]\n",
    "print(strdata1 + strdata2)     # ‘I love Python’이 출력됨\n",
    "print(strdata1 + strdata3)     # ‘I love you’가 출력됨\n",
    "print(listdata1 + listdata2)    # [1, 2, 3, 4, 5, 6]이 출력됨"
   ]
  },
  {
   "cell_type": "code",
   "execution_count": 42,
   "metadata": {},
   "outputs": [
    {
     "name": "stdout",
     "output_type": "stream",
     "text": [
      "빅뱅이 부르는 뱅~뱅~뱅~\n"
     ]
    }
   ],
   "source": [
    "# 시퀀스 자료 반복\n",
    "artist = '빅뱅'\n",
    "sing = '뱅~'\n",
    "dispdata = artist + '이 부르는 ' + sing*3 # <-- 비워 놓고 채우기 연습\n",
    "print(dispdata)  # ‘빅뱅이 부르는 뱅~뱅~뱅~’이 출력됨"
   ]
  },
  {
   "cell_type": "code",
   "execution_count": 43,
   "metadata": {},
   "outputs": [
    {
     "name": "stdout",
     "output_type": "stream",
     "text": [
      "13\n",
      "13\n",
      "5\n",
      "13\n"
     ]
    }
   ],
   "source": [
    "# 시퀀스 자료 크기\n",
    "strdata1 = 'I love python'\n",
    "strdata2 = '나는 파이썬을 사랑합니다'\n",
    "listdata = ['a', 'b', 'c', strdata1, strdata2]  # 변수도 정의 가능\n",
    "print(len(strdata1))    # 13이 출력됨\n",
    "print(len(strdata2))    # 13이 출력됨\n",
    "print(len(listdata))     # 5가 출력됨\n",
    "print(len(listdata[3]))  # 13이 출력됨"
   ]
  },
  {
   "cell_type": "code",
   "execution_count": 44,
   "metadata": {},
   "outputs": [
    {
     "name": "stdout",
     "output_type": "stream",
     "text": [
      "False\n",
      "True\n",
      "True\n",
      "False\n"
     ]
    }
   ],
   "source": [
    "# 멤버체크\n",
    "listdata =[1, 2, 3, 4]\n",
    "ret1 = 5 in listdata    # False\n",
    "ret2 = 4 in listdata    # True\n",
    "print(ret1); print(ret2)\n",
    "strdata = 'abcde'\n",
    "ret3 = 'c' in strdata    # True\n",
    "ret4 = '1' in strdata    # False\n",
    "print(ret3); print(ret4)"
   ]
  },
  {
   "cell_type": "code",
   "execution_count": 45,
   "metadata": {},
   "outputs": [
    {
     "data": {
      "text/plain": [
       "'a = 1\\nb = 2\\nc = 3\\nd = 4'"
      ]
     },
     "execution_count": 45,
     "metadata": {},
     "output_type": "execute_result"
    }
   ],
   "source": [
    "# 삼중 따옴표 : 여러 줄을 주석처리 하고 싶을때\n",
    "\"\"\"a = 1\n",
    "b = 2\n",
    "c = 3\n",
    "d = 4\"\"\""
   ]
  },
  {
   "cell_type": "code",
   "execution_count": 46,
   "metadata": {},
   "outputs": [
    {
     "name": "stdout",
     "output_type": "stream",
     "text": [
      "x가 y보다 작습니다.\n"
     ]
    }
   ],
   "source": [
    "# if문\n",
    "x = 1\n",
    "y = 2\n",
    "\n",
    "if x >= y:\n",
    "    print('x가 y보다 크거나 같습니다.')\n",
    "else:\n",
    "    print('x가 y보다 작습니다.')"
   ]
  },
  {
   "cell_type": "code",
   "execution_count": 48,
   "metadata": {},
   "outputs": [
    {
     "name": "stdout",
     "output_type": "stream",
     "text": [
      "x가 y보다 작습니다.\n"
     ]
    }
   ],
   "source": [
    "x = 1\n",
    "y = 2\n",
    "\n",
    "if x > y:\n",
    "    print('x가 y보다 큽니다.')\n",
    "elif x < y:\n",
    "    print('x가 y보다 작습니다.')\n",
    "else:\n",
    "    print('x와 y가 같습니다.')"
   ]
  },
  {
   "cell_type": "code",
   "execution_count": 52,
   "metadata": {},
   "outputs": [
    {
     "name": "stdout",
     "output_type": "stream",
     "text": [
      "4\n",
      "5\n",
      "6\n",
      "7\n",
      "8\n"
     ]
    }
   ],
   "source": [
    "# for문\n",
    "scope = [4, 5, 6, 7, 8]\n",
    "for x in scope:\n",
    "    print(x)"
   ]
  },
  {
   "cell_type": "code",
   "execution_count": 51,
   "metadata": {},
   "outputs": [
    {
     "name": "stdout",
     "output_type": "stream",
     "text": [
      "0\n",
      "1\n",
      "2\n",
      "3\n",
      "4\n",
      "5\n",
      "6\n"
     ]
    }
   ],
   "source": [
    "for y in range(7):\n",
    "    print(y)"
   ]
  },
  {
   "cell_type": "code",
   "execution_count": 50,
   "metadata": {},
   "outputs": [
    {
     "name": "stdout",
     "output_type": "stream",
     "text": [
      "1\n",
      "2\n",
      "3\n"
     ]
    }
   ],
   "source": [
    "scope = [1, 2, 3, 4, 5]\n",
    "for x in scope:\n",
    "    print(x)\n",
    "    if x < 3:\n",
    "        continue  # 다음 반복문 수행\n",
    "    else:\n",
    "        break     # for 반복문 탈출"
   ]
  },
  {
   "cell_type": "code",
   "execution_count": 53,
   "metadata": {},
   "outputs": [
    {
     "name": "stdout",
     "output_type": "stream",
     "text": [
      "1\n",
      "2\n"
     ]
    }
   ],
   "source": [
    "scope = [1, 2, 3, 4, 5]\n",
    "for x in scope:\n",
    "\n",
    "    if x < 3:\n",
    "        print(x)\n",
    "        continue  # 다음 반복문 수행\n",
    "    else:\n",
    "        break     # for 반복문 탈출"
   ]
  },
  {
   "cell_type": "code",
   "execution_count": 54,
   "metadata": {},
   "outputs": [
    {
     "name": "stdout",
     "output_type": "stream",
     "text": [
      "1\n",
      "2\n",
      "3\n",
      "Perfect\n"
     ]
    }
   ],
   "source": [
    "scope = [1, 2, 3]\n",
    "for x in scope:\n",
    "    print(x)\n",
    "  # break\n",
    "else:\n",
    "    print('Perfect')"
   ]
  },
  {
   "cell_type": "code",
   "execution_count": 56,
   "metadata": {},
   "outputs": [
    {
     "name": "stdout",
     "output_type": "stream",
     "text": [
      "3\n",
      "4\n",
      "5\n",
      "6\n",
      "7\n",
      "8\n"
     ]
    }
   ],
   "source": [
    "# while문\n",
    "x = 0\n",
    "while x < 10:\n",
    "    x += 1\n",
    "    if x < 3:\n",
    "        continue\n",
    "    print(x)\n",
    "    if x > 7:\n",
    "        break"
   ]
  },
  {
   "cell_type": "code",
   "execution_count": 58,
   "metadata": {},
   "outputs": [
    {
     "name": "stdout",
     "output_type": "stream",
     "text": [
      "<값>을 입력하세요: 파이썬\n",
      "당신이 입력한 값은 <파이썬> 입니다.\n"
     ]
    }
   ],
   "source": [
    "# 사용자 입력받기\n",
    "k = input('<값>을 입력하세요: ')\n",
    "print('당신이 입력한 값은 <' + k + '> 입니다.')"
   ]
  },
  {
   "cell_type": "code",
   "execution_count": 59,
   "metadata": {},
   "outputs": [
    {
     "name": "stdout",
     "output_type": "stream",
     "text": [
      "[타자 게임] 준비되면 엔터!\n",
      "\n",
      "*문제 1\n",
      "wolf\n",
      "wolf\n",
      "통과!\n",
      "*문제 2\n",
      "monkey\n",
      "monkey\n",
      "통과!\n",
      "*문제 3\n",
      "frog\n",
      "frog\n",
      "통과!\n",
      "*문제 4\n",
      "monkey\n",
      "monkey\n",
      "통과!\n",
      "*문제 5\n",
      "dog\n",
      "dog\n",
      "통과!\n",
      "타자시간: 12.18 초\n"
     ]
    }
   ],
   "source": [
    "# 타자 게임 만들기\n",
    "\"\"\"\n",
    " 1. 사전 준비\n",
    "   게임에 필요한 모듈을 import 합니다. input 함수를 이용하여 사용자가 \n",
    "   타자 게임을 시작할 준비를 하고 enter 를 누를 때까지 기다립니다.\n",
    "  2. 메인 프로그램\n",
    "   사용자에게 문제를 보여 주고 타자 입력을 받고 처리하는 과정을 다섯 번 반복합니다.\n",
    "   (오타가 나면 다섯 번 이상 반복해야 할 수 있으므로 for가 아니 while 명령을 사용합니다.)\n",
    "  3. 결과를 계산해서 보여주기\n",
    "   사용자가 타자 문제를 모두 입력하는 데 걸린 시간을 소수점 둘째자리까지 계산해서 출력합니다.\n",
    "\"\"\"\n",
    "\n",
    "import random\n",
    "import time\n",
    "\n",
    "# 단어 리스트: 여기에 단어를 추가하면 문제에 나옵니다.\n",
    "w = [\"cat\", \"dog\", \"fox\", \"monkey\", \"mouse\", \"panda\", \"frog\", \"snake\", \"wolf\"]\n",
    "n = 1                   # 문제 번호\n",
    "\n",
    "print(\"[타자 게임] 준비되면 엔터!\")\n",
    "input()                 # 사용자가 엔터를 누를 때까지 기다립니다.\n",
    "\n",
    "start = time.time()     # 시작 시간을 기록합니다.\n",
    "q = random.choice(w)    # 단어 리스트에서 아무거나 하나 뽑습니다.\n",
    "\n",
    "while n <= 5:           # 문제를 5번 반복합니다.\n",
    "    print(\"*문제\", n)\n",
    "    print(q)            # 문제를 보여줍니다.\n",
    "    x = input()         # 사용자 입력을 받습니다.\n",
    "    if q == x:          # 문제와 입력이 같을 때(올바로 입력했을 때)\n",
    "        print(\"통과!\")  # \"통과!\"라고 출력합니다.\n",
    "        n = n + 1       # 문제 번호를 1 증가시킵니다.\n",
    "        q = random.choice(w)   # 새 문제를 뽑습니다.\n",
    "    else:\n",
    "        print(\"오타! 다시도전!\")\n",
    "\n",
    "end = time.time()       # 끝난 시간을 기록합니다.\n",
    "et = end - start        # 실제로 걸린 시간을 계산합니다.\n",
    "et = format(et, \".2f\")  # 보기 좋게 소수점 2자리까지만 표기합니다.\n",
    "\n",
    "print(\"타자시간:\", et, \"초\")"
   ]
  },
  {
   "cell_type": "code",
   "execution_count": 60,
   "metadata": {},
   "outputs": [
    {
     "name": "stdout",
     "output_type": "stream",
     "text": [
      "나는 자바보다 파이썬에 더 익숙합니다.\n",
      "파이썬은 자바보다 5배 더 쉽습니다.\n",
      "5 + 10 = 15\n",
      "작년 세계 경제 성장률은 전년에 비해 5% 포인트 증가했다.\n"
     ]
    }
   ],
   "source": [
    "# 문자열 포맷팅\n",
    "txt1 = '자바';txt2='파이썬'\n",
    "num1= 5; num2=10\n",
    "print('나는 %s보다 %s에 더 익숙합니다.' %(txt1, txt2))\n",
    "print('%s은 %s보다 %d배 더 쉽습니다.' %(txt2, txt1, num1))\n",
    "print('%d + %d = %d' %(num1, num2, num1+num2))\n",
    "print('작년 세계 경제 성장률은 전년에 비해 %d%% 포인트 증가했다.' %num1)\n",
    "\n",
    "# %s 문자열에 대응\n",
    "# %c 문자나 기호 한개에 대응됨\n",
    "# %f 실수에 대응됨\n",
    "# %d 정수에 대응됨\n",
    "# %% %라는 기호 자체를 의미함"
   ]
  },
  {
   "cell_type": "code",
   "execution_count": 63,
   "metadata": {},
   "outputs": [
    {
     "name": "stdout",
     "output_type": "stream",
     "text": [
      "진행률 0%                                                                                                                                                                                                                                                                                                                                                                                                    "
     ]
    }
   ],
   "source": [
    "from time import sleep\n",
    "\n",
    "for i in range(100):\n",
    "    msg = '\\r진행률 %d%%' %(100-i-1)  # \\r 줄의 맨처음\n",
    "    print(' '*len(msg), end='')       # msg 길이만큼 공백문자를 줄바꿈 없이 화면에 출력\n",
    "    print(msg, end='')\n",
    "    sleep(0.1)"
   ]
  },
  {
   "cell_type": "code",
   "execution_count": 66,
   "metadata": {},
   "outputs": [
    {
     "name": "stdout",
     "output_type": "stream",
     "text": [
      "나는 파이썬을 사랑합니다.\n",
      "파이썬은 자바보다 훨씬 쉽습니다.\n",
      "Name: John Smith\tSex: Male\tAge: 22\n",
      "이 문장은 화면폭에 비해 너무 길어 보기가 힘듭니다. 그래서 Enter키를 이용해 문장을 다음줄과 연속되도록 했습니다.\n",
      "작은따옴표(')와 큰 따옴표(\")는 문자열을 정의할 때 사용합니다.\n"
     ]
    }
   ],
   "source": [
    "# 이스케이프 문자\n",
    "print('나는 파이썬을 사랑합니다.\\n파이썬은 자바보다 훨씬 쉽습니다.')\n",
    "print('Name: John Smith\\tSex: Male\\tAge: 22')\n",
    "print('이 문장은 화면폭에 비해 너무 길어 보기가 힘듭니다. \\\n",
    "그래서 Enter키를 이용해 문장을 다음줄과 연속되도록 했습니다.')\n",
    "print('작은따옴표(\\')와 큰 따옴표(\")는 문자열을 정의할 때 사용합니다.')"
   ]
  },
  {
   "cell_type": "code",
   "execution_count": 72,
   "metadata": {},
   "outputs": [
    {
     "name": "stdout",
     "output_type": "stream",
     "text": [
      "[6, 2, 3, 4, 5]\n",
      "안녕하세요\n"
     ]
    }
   ],
   "source": [
    "# 리스트 와 튜플\n",
    "list1 = [1, 2, 3, 4, 5]\n",
    "list2 = ['a', 'b', 'c']\n",
    "list3 = [1, 'a', 'abc', [1, 2, 3, 4, 5], ['a', 'b', 'c']]\n",
    "list1[0] = 6\n",
    "print(list1)      # [6, 2, 3, 4, 5]가 출력됨\n",
    "def myfunc():\n",
    "    print('안녕하세요')\n",
    "list4 = [1, 2, myfunc]\n",
    "list4[2]()       # ‘안녕하세요’ 가 출력됨"
   ]
  },
  {
   "cell_type": "code",
   "execution_count": 74,
   "metadata": {},
   "outputs": [
    {
     "name": "stdout",
     "output_type": "stream",
     "text": [
      "안녕하세요\n"
     ]
    }
   ],
   "source": [
    "tuple1 = (1, 2, 3, 4, 5)\n",
    "tuple2 = ('a', 'b', 'c')\n",
    "tuple3 = (1, 'a', 'abc', [1, 2, 3, 4, 5], ['a', 'b', 'c'])\n",
    "#tuple1[0] = 6\n",
    "\n",
    "def myfunc():\n",
    "    print('안녕하세요')\n",
    "\n",
    "tuple4 = (1, 2, myfunc)\n",
    "tuple4[2]()       # ‘안녕하세요’ 가 출력됨"
   ]
  },
  {
   "cell_type": "code",
   "execution_count": 75,
   "metadata": {},
   "outputs": [
    {
     "name": "stdout",
     "output_type": "stream",
     "text": [
      "1\n",
      "{'a': 1, 'b': 2, 'c': 3, 'd': 4}\n",
      "{'a': 1, 'b': 7, 'c': 3, 'd': 4}\n",
      "4\n"
     ]
    }
   ],
   "source": [
    "# 사전\n",
    "dict1 = {'a':1, 'b':2, 'c':3}\n",
    "print(dict1['a'])     # 1이 출력됨\n",
    "dict1['d'] = 4\n",
    "print(dict1)        # {‘a’:1, ‘b’:2’, ‘c’:3, ‘d’:4}가 출력되나 순서가 틀릴 수 있음\n",
    "dict1['b'] = 7\n",
    "print(dict1)        # {‘a’:1, ‘b’:7’, ‘c’:3, ‘d’:4}가 출력되나 순서가 틀릴 수 있음\n",
    "print(len(dict1))    # 4가 출력됨"
   ]
  },
  {
   "cell_type": "code",
   "execution_count": 79,
   "metadata": {},
   "outputs": [
    {
     "name": "stdout",
     "output_type": "stream",
     "text": [
      "25\n",
      "25\n",
      "대한민국~만세!!\n"
     ]
    }
   ],
   "source": [
    "# 함수\n",
    "def add_number(n1, n2):\n",
    "    ret = n1+n2\n",
    "    return ret\n",
    "\n",
    "def add_txt(t1, t2):\n",
    "    print(t1+t2)\n",
    "\n",
    "ans = add_number(10, 15)\n",
    "print(ans)                   # 25가 출력됨\n",
    "\n",
    "print(add_number(10, 15))    # 25가 출력됨\n",
    "\n",
    "text1 = '대한민국~'\n",
    "text2 = '만세!!'\n",
    "add_txt(text1, text2)         # ‘대한민국~만세!!’가 출력됨"
   ]
  },
  {
   "cell_type": "code",
   "execution_count": 81,
   "metadata": {},
   "outputs": [
    {
     "name": "stdout",
     "output_type": "stream",
     "text": [
      "베스트 : 파이썬\n",
      "1등 : 대한민국\n",
      "()\n",
      "(3, 5, 1, 5)\n",
      "{}\n",
      "{'depth': 50, 'color': 'blue'}\n"
     ]
    }
   ],
   "source": [
    "def add_txt(t1, t2='파이썬'):\n",
    "    print(t1+' : ' +t2)\n",
    "    \n",
    "add_txt('베스트')                   # ‘베스트 : 파이썬’이 출력됨\n",
    "add_txt(t2='대한민국', t1='1등')    # ‘1등 : 대한민국’이 출력됨\n",
    "\n",
    "def func1(*args):\n",
    "    print(args)\n",
    "\n",
    "def func2(width, height, **kwargs):\n",
    "    print(kwargs)\n",
    "\n",
    "func1()                          # 빈 튜플 ( ) 이 출력됨 (* 1개)\n",
    "func1(3, 5, 1, 5)                  # (3, 5, 1, 5)가 출력됨\n",
    "func2(10, 20)                          # 빈 사전 { }이 출력됨 (* 2개)\n",
    "func2(10, 20, depth=50, color='blue')  #{‘depth’:50, ‘color’:’blue’} 이 출력됨"
   ]
  },
  {
   "cell_type": "code",
   "execution_count": 6,
   "metadata": {},
   "outputs": [
    {
     "name": "stdout",
     "output_type": "stream",
     "text": [
      "지역변수\n",
      "전역변수\n",
      "10\n",
      "10\n",
      "50\n"
     ]
    }
   ],
   "source": [
    "# 전역 변수와 지역변수\n",
    "param = 10\n",
    "strdata = '전역변수'\n",
    "\n",
    "def func1():\n",
    "    strdata = '지역변수'\n",
    "    print(strdata)\n",
    "    \n",
    "def func2(param):\n",
    "    param = 1\n",
    "    \n",
    "def func3():\n",
    "    global param\n",
    "    param = 50\n",
    "\n",
    "func1()                  # '지역변수’가 출력됨\n",
    "print(strdata)           # '전역변수’가 출력됨\n",
    "print(param)             # 10이 출력됨\n",
    "func2(param)\n",
    "print(param)             # 10이 출력됨\n",
    "func3()\n",
    "print(param)             # 50이 출력됨"
   ]
  },
  {
   "cell_type": "code",
   "execution_count": 4,
   "metadata": {},
   "outputs": [
    {
     "name": "stdout",
     "output_type": "stream",
     "text": [
      "(3, 2, 1)\n",
      "c\n",
      "b\n",
      "a\n"
     ]
    }
   ],
   "source": [
    "def reverse(x, y, z):\n",
    "    return z, y, x\n",
    "\n",
    "ret = reverse(1, 2, 3)\n",
    "print(ret)                       # (3, 2, 1)이 출력됨\n",
    "\n",
    "r1, r2, r3 = reverse('a', 'b', 'c')\n",
    "print(r1); print(r2); print(r3)      # ‘c’, ‘b’, ‘a’ 순으로 출력됨"
   ]
  },
  {
   "cell_type": "code",
   "execution_count": null,
   "metadata": {},
   "outputs": [],
   "source": []
  }
 ],
 "metadata": {
  "kernelspec": {
   "display_name": "Python 3",
   "language": "python",
   "name": "python3"
  },
  "language_info": {
   "codemirror_mode": {
    "name": "ipython",
    "version": 3
   },
   "file_extension": ".py",
   "mimetype": "text/x-python",
   "name": "python",
   "nbconvert_exporter": "python",
   "pygments_lexer": "ipython3",
   "version": "3.8.5"
  }
 },
 "nbformat": 4,
 "nbformat_minor": 4
}
