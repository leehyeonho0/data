{
 "cells": [
  {
   "cell_type": "markdown",
   "metadata": {},
   "source": [
    "# Feature Engineering"
   ]
  },
  {
   "cell_type": "code",
   "execution_count": null,
   "metadata": {},
   "outputs": [],
   "source": [
    "# Allstate Purchase Prediction Challenge\n",
    "\n",
    "# 고객이 자동차 보험상품을 구매하기까지의 transaction 기록\n",
    "# 각 customer ID 별로 quote history 포함\n",
    "# 각 customer ID 별 마지막 행이 구매 포인트 (record_type=1)"
   ]
  },
  {
   "cell_type": "code",
   "execution_count": 49,
   "metadata": {},
   "outputs": [],
   "source": [
    "import pandas as pd\n",
    "import copy\n",
    "import numpy as np\n",
    "import matplotlib.pyplot as plt\n",
    "%matplotlib inline"
   ]
  },
  {
   "cell_type": "code",
   "execution_count": 50,
   "metadata": {
    "scrolled": false
   },
   "outputs": [
    {
     "data": {
      "text/html": [
       "<div>\n",
       "<style scoped>\n",
       "    .dataframe tbody tr th:only-of-type {\n",
       "        vertical-align: middle;\n",
       "    }\n",
       "\n",
       "    .dataframe tbody tr th {\n",
       "        vertical-align: top;\n",
       "    }\n",
       "\n",
       "    .dataframe thead th {\n",
       "        text-align: right;\n",
       "    }\n",
       "</style>\n",
       "<table border=\"1\" class=\"dataframe\">\n",
       "  <thead>\n",
       "    <tr style=\"text-align: right;\">\n",
       "      <th></th>\n",
       "      <th>customer_ID</th>\n",
       "      <th>shopping_pt</th>\n",
       "      <th>record_type</th>\n",
       "      <th>day</th>\n",
       "      <th>time</th>\n",
       "      <th>state</th>\n",
       "      <th>location</th>\n",
       "      <th>group_size</th>\n",
       "      <th>homeowner</th>\n",
       "      <th>car_age</th>\n",
       "      <th>...</th>\n",
       "      <th>C_previous</th>\n",
       "      <th>duration_previous</th>\n",
       "      <th>A</th>\n",
       "      <th>B</th>\n",
       "      <th>C</th>\n",
       "      <th>D</th>\n",
       "      <th>E</th>\n",
       "      <th>F</th>\n",
       "      <th>G</th>\n",
       "      <th>cost</th>\n",
       "    </tr>\n",
       "  </thead>\n",
       "  <tbody>\n",
       "    <tr>\n",
       "      <th>0</th>\n",
       "      <td>10000000</td>\n",
       "      <td>1</td>\n",
       "      <td>0</td>\n",
       "      <td>0</td>\n",
       "      <td>08:35</td>\n",
       "      <td>IN</td>\n",
       "      <td>10001</td>\n",
       "      <td>2</td>\n",
       "      <td>0</td>\n",
       "      <td>2</td>\n",
       "      <td>...</td>\n",
       "      <td>1.0</td>\n",
       "      <td>2.0</td>\n",
       "      <td>1</td>\n",
       "      <td>0</td>\n",
       "      <td>2</td>\n",
       "      <td>2</td>\n",
       "      <td>1</td>\n",
       "      <td>2</td>\n",
       "      <td>2</td>\n",
       "      <td>633</td>\n",
       "    </tr>\n",
       "    <tr>\n",
       "      <th>1</th>\n",
       "      <td>10000000</td>\n",
       "      <td>2</td>\n",
       "      <td>0</td>\n",
       "      <td>0</td>\n",
       "      <td>08:38</td>\n",
       "      <td>IN</td>\n",
       "      <td>10001</td>\n",
       "      <td>2</td>\n",
       "      <td>0</td>\n",
       "      <td>2</td>\n",
       "      <td>...</td>\n",
       "      <td>1.0</td>\n",
       "      <td>2.0</td>\n",
       "      <td>1</td>\n",
       "      <td>0</td>\n",
       "      <td>2</td>\n",
       "      <td>2</td>\n",
       "      <td>1</td>\n",
       "      <td>2</td>\n",
       "      <td>1</td>\n",
       "      <td>630</td>\n",
       "    </tr>\n",
       "    <tr>\n",
       "      <th>2</th>\n",
       "      <td>10000000</td>\n",
       "      <td>3</td>\n",
       "      <td>0</td>\n",
       "      <td>0</td>\n",
       "      <td>08:38</td>\n",
       "      <td>IN</td>\n",
       "      <td>10001</td>\n",
       "      <td>2</td>\n",
       "      <td>0</td>\n",
       "      <td>2</td>\n",
       "      <td>...</td>\n",
       "      <td>1.0</td>\n",
       "      <td>2.0</td>\n",
       "      <td>1</td>\n",
       "      <td>0</td>\n",
       "      <td>2</td>\n",
       "      <td>2</td>\n",
       "      <td>1</td>\n",
       "      <td>2</td>\n",
       "      <td>1</td>\n",
       "      <td>630</td>\n",
       "    </tr>\n",
       "    <tr>\n",
       "      <th>3</th>\n",
       "      <td>10000000</td>\n",
       "      <td>4</td>\n",
       "      <td>0</td>\n",
       "      <td>0</td>\n",
       "      <td>08:39</td>\n",
       "      <td>IN</td>\n",
       "      <td>10001</td>\n",
       "      <td>2</td>\n",
       "      <td>0</td>\n",
       "      <td>2</td>\n",
       "      <td>...</td>\n",
       "      <td>1.0</td>\n",
       "      <td>2.0</td>\n",
       "      <td>1</td>\n",
       "      <td>0</td>\n",
       "      <td>2</td>\n",
       "      <td>2</td>\n",
       "      <td>1</td>\n",
       "      <td>2</td>\n",
       "      <td>1</td>\n",
       "      <td>630</td>\n",
       "    </tr>\n",
       "    <tr>\n",
       "      <th>4</th>\n",
       "      <td>10000000</td>\n",
       "      <td>5</td>\n",
       "      <td>0</td>\n",
       "      <td>0</td>\n",
       "      <td>11:55</td>\n",
       "      <td>IN</td>\n",
       "      <td>10001</td>\n",
       "      <td>2</td>\n",
       "      <td>0</td>\n",
       "      <td>2</td>\n",
       "      <td>...</td>\n",
       "      <td>1.0</td>\n",
       "      <td>2.0</td>\n",
       "      <td>1</td>\n",
       "      <td>0</td>\n",
       "      <td>2</td>\n",
       "      <td>2</td>\n",
       "      <td>1</td>\n",
       "      <td>2</td>\n",
       "      <td>1</td>\n",
       "      <td>630</td>\n",
       "    </tr>\n",
       "  </tbody>\n",
       "</table>\n",
       "<p>5 rows × 25 columns</p>\n",
       "</div>"
      ],
      "text/plain": [
       "   customer_ID  shopping_pt  record_type  day   time state  location  \\\n",
       "0     10000000            1            0    0  08:35    IN     10001   \n",
       "1     10000000            2            0    0  08:38    IN     10001   \n",
       "2     10000000            3            0    0  08:38    IN     10001   \n",
       "3     10000000            4            0    0  08:39    IN     10001   \n",
       "4     10000000            5            0    0  11:55    IN     10001   \n",
       "\n",
       "   group_size  homeowner  car_age  ... C_previous  duration_previous  A  B  C  \\\n",
       "0           2          0        2  ...        1.0                2.0  1  0  2   \n",
       "1           2          0        2  ...        1.0                2.0  1  0  2   \n",
       "2           2          0        2  ...        1.0                2.0  1  0  2   \n",
       "3           2          0        2  ...        1.0                2.0  1  0  2   \n",
       "4           2          0        2  ...        1.0                2.0  1  0  2   \n",
       "\n",
       "   D  E  F  G  cost  \n",
       "0  2  1  2  2   633  \n",
       "1  2  1  2  1   630  \n",
       "2  2  1  2  1   630  \n",
       "3  2  1  2  1   630  \n",
       "4  2  1  2  1   630  \n",
       "\n",
       "[5 rows x 25 columns]"
      ]
     },
     "execution_count": 50,
     "metadata": {},
     "output_type": "execute_result"
    }
   ],
   "source": [
    "data = pd.read_csv('Allstate_train.csv')\n",
    "data.head()"
   ]
  },
  {
   "cell_type": "markdown",
   "metadata": {},
   "source": [
    "### Handling Missing Values"
   ]
  },
  {
   "cell_type": "code",
   "execution_count": 51,
   "metadata": {},
   "outputs": [
    {
     "data": {
      "text/plain": [
       "(665249, 25)"
      ]
     },
     "execution_count": 51,
     "metadata": {},
     "output_type": "execute_result"
    }
   ],
   "source": [
    "data.shape"
   ]
  },
  {
   "cell_type": "code",
   "execution_count": 52,
   "metadata": {},
   "outputs": [
    {
     "name": "stdout",
     "output_type": "stream",
     "text": [
      "<class 'pandas.core.frame.DataFrame'>\n",
      "RangeIndex: 665249 entries, 0 to 665248\n",
      "Data columns (total 25 columns):\n",
      " #   Column             Non-Null Count   Dtype  \n",
      "---  ------             --------------   -----  \n",
      " 0   customer_ID        665249 non-null  int64  \n",
      " 1   shopping_pt        665249 non-null  int64  \n",
      " 2   record_type        665249 non-null  int64  \n",
      " 3   day                665249 non-null  int64  \n",
      " 4   time               665249 non-null  object \n",
      " 5   state              665249 non-null  object \n",
      " 6   location           665249 non-null  int64  \n",
      " 7   group_size         665249 non-null  int64  \n",
      " 8   homeowner          665249 non-null  int64  \n",
      " 9   car_age            665249 non-null  int64  \n",
      " 10  car_value          663718 non-null  object \n",
      " 11  risk_factor        424831 non-null  float64\n",
      " 12  age_oldest         665249 non-null  int64  \n",
      " 13  age_youngest       665249 non-null  int64  \n",
      " 14  married_couple     665249 non-null  int64  \n",
      " 15  C_previous         646538 non-null  float64\n",
      " 16  duration_previous  646538 non-null  float64\n",
      " 17  A                  665249 non-null  int64  \n",
      " 18  B                  665249 non-null  int64  \n",
      " 19  C                  665249 non-null  int64  \n",
      " 20  D                  665249 non-null  int64  \n",
      " 21  E                  665249 non-null  int64  \n",
      " 22  F                  665249 non-null  int64  \n",
      " 23  G                  665249 non-null  int64  \n",
      " 24  cost               665249 non-null  int64  \n",
      "dtypes: float64(3), int64(19), object(3)\n",
      "memory usage: 126.9+ MB\n"
     ]
    }
   ],
   "source": [
    "data.info()"
   ]
  },
  {
   "cell_type": "code",
   "execution_count": 53,
   "metadata": {},
   "outputs": [
    {
     "data": {
      "text/html": [
       "<div>\n",
       "<style scoped>\n",
       "    .dataframe tbody tr th:only-of-type {\n",
       "        vertical-align: middle;\n",
       "    }\n",
       "\n",
       "    .dataframe tbody tr th {\n",
       "        vertical-align: top;\n",
       "    }\n",
       "\n",
       "    .dataframe thead th {\n",
       "        text-align: right;\n",
       "    }\n",
       "</style>\n",
       "<table border=\"1\" class=\"dataframe\">\n",
       "  <thead>\n",
       "    <tr style=\"text-align: right;\">\n",
       "      <th></th>\n",
       "      <th>customer_ID</th>\n",
       "      <th>shopping_pt</th>\n",
       "      <th>record_type</th>\n",
       "      <th>day</th>\n",
       "      <th>time</th>\n",
       "      <th>state</th>\n",
       "      <th>location</th>\n",
       "      <th>group_size</th>\n",
       "      <th>homeowner</th>\n",
       "      <th>car_age</th>\n",
       "      <th>...</th>\n",
       "      <th>C_previous</th>\n",
       "      <th>duration_previous</th>\n",
       "      <th>A</th>\n",
       "      <th>B</th>\n",
       "      <th>C</th>\n",
       "      <th>D</th>\n",
       "      <th>E</th>\n",
       "      <th>F</th>\n",
       "      <th>G</th>\n",
       "      <th>cost</th>\n",
       "    </tr>\n",
       "  </thead>\n",
       "  <tbody>\n",
       "    <tr>\n",
       "      <th>0</th>\n",
       "      <td>10000000</td>\n",
       "      <td>1</td>\n",
       "      <td>0</td>\n",
       "      <td>0</td>\n",
       "      <td>08:35</td>\n",
       "      <td>IN</td>\n",
       "      <td>10001</td>\n",
       "      <td>2</td>\n",
       "      <td>0</td>\n",
       "      <td>2</td>\n",
       "      <td>...</td>\n",
       "      <td>1.0</td>\n",
       "      <td>2.0</td>\n",
       "      <td>1</td>\n",
       "      <td>0</td>\n",
       "      <td>2</td>\n",
       "      <td>2</td>\n",
       "      <td>1</td>\n",
       "      <td>2</td>\n",
       "      <td>2</td>\n",
       "      <td>633</td>\n",
       "    </tr>\n",
       "    <tr>\n",
       "      <th>1</th>\n",
       "      <td>10000000</td>\n",
       "      <td>2</td>\n",
       "      <td>0</td>\n",
       "      <td>0</td>\n",
       "      <td>08:38</td>\n",
       "      <td>IN</td>\n",
       "      <td>10001</td>\n",
       "      <td>2</td>\n",
       "      <td>0</td>\n",
       "      <td>2</td>\n",
       "      <td>...</td>\n",
       "      <td>1.0</td>\n",
       "      <td>2.0</td>\n",
       "      <td>1</td>\n",
       "      <td>0</td>\n",
       "      <td>2</td>\n",
       "      <td>2</td>\n",
       "      <td>1</td>\n",
       "      <td>2</td>\n",
       "      <td>1</td>\n",
       "      <td>630</td>\n",
       "    </tr>\n",
       "    <tr>\n",
       "      <th>2</th>\n",
       "      <td>10000000</td>\n",
       "      <td>3</td>\n",
       "      <td>0</td>\n",
       "      <td>0</td>\n",
       "      <td>08:38</td>\n",
       "      <td>IN</td>\n",
       "      <td>10001</td>\n",
       "      <td>2</td>\n",
       "      <td>0</td>\n",
       "      <td>2</td>\n",
       "      <td>...</td>\n",
       "      <td>1.0</td>\n",
       "      <td>2.0</td>\n",
       "      <td>1</td>\n",
       "      <td>0</td>\n",
       "      <td>2</td>\n",
       "      <td>2</td>\n",
       "      <td>1</td>\n",
       "      <td>2</td>\n",
       "      <td>1</td>\n",
       "      <td>630</td>\n",
       "    </tr>\n",
       "    <tr>\n",
       "      <th>3</th>\n",
       "      <td>10000000</td>\n",
       "      <td>4</td>\n",
       "      <td>0</td>\n",
       "      <td>0</td>\n",
       "      <td>08:39</td>\n",
       "      <td>IN</td>\n",
       "      <td>10001</td>\n",
       "      <td>2</td>\n",
       "      <td>0</td>\n",
       "      <td>2</td>\n",
       "      <td>...</td>\n",
       "      <td>1.0</td>\n",
       "      <td>2.0</td>\n",
       "      <td>1</td>\n",
       "      <td>0</td>\n",
       "      <td>2</td>\n",
       "      <td>2</td>\n",
       "      <td>1</td>\n",
       "      <td>2</td>\n",
       "      <td>1</td>\n",
       "      <td>630</td>\n",
       "    </tr>\n",
       "    <tr>\n",
       "      <th>4</th>\n",
       "      <td>10000000</td>\n",
       "      <td>5</td>\n",
       "      <td>0</td>\n",
       "      <td>0</td>\n",
       "      <td>11:55</td>\n",
       "      <td>IN</td>\n",
       "      <td>10001</td>\n",
       "      <td>2</td>\n",
       "      <td>0</td>\n",
       "      <td>2</td>\n",
       "      <td>...</td>\n",
       "      <td>1.0</td>\n",
       "      <td>2.0</td>\n",
       "      <td>1</td>\n",
       "      <td>0</td>\n",
       "      <td>2</td>\n",
       "      <td>2</td>\n",
       "      <td>1</td>\n",
       "      <td>2</td>\n",
       "      <td>1</td>\n",
       "      <td>630</td>\n",
       "    </tr>\n",
       "    <tr>\n",
       "      <th>5</th>\n",
       "      <td>10000000</td>\n",
       "      <td>6</td>\n",
       "      <td>0</td>\n",
       "      <td>0</td>\n",
       "      <td>11:57</td>\n",
       "      <td>IN</td>\n",
       "      <td>10001</td>\n",
       "      <td>2</td>\n",
       "      <td>0</td>\n",
       "      <td>2</td>\n",
       "      <td>...</td>\n",
       "      <td>1.0</td>\n",
       "      <td>2.0</td>\n",
       "      <td>1</td>\n",
       "      <td>0</td>\n",
       "      <td>2</td>\n",
       "      <td>2</td>\n",
       "      <td>1</td>\n",
       "      <td>2</td>\n",
       "      <td>1</td>\n",
       "      <td>638</td>\n",
       "    </tr>\n",
       "    <tr>\n",
       "      <th>6</th>\n",
       "      <td>10000000</td>\n",
       "      <td>7</td>\n",
       "      <td>0</td>\n",
       "      <td>0</td>\n",
       "      <td>11:58</td>\n",
       "      <td>IN</td>\n",
       "      <td>10001</td>\n",
       "      <td>2</td>\n",
       "      <td>0</td>\n",
       "      <td>2</td>\n",
       "      <td>...</td>\n",
       "      <td>1.0</td>\n",
       "      <td>2.0</td>\n",
       "      <td>1</td>\n",
       "      <td>0</td>\n",
       "      <td>2</td>\n",
       "      <td>2</td>\n",
       "      <td>1</td>\n",
       "      <td>2</td>\n",
       "      <td>1</td>\n",
       "      <td>638</td>\n",
       "    </tr>\n",
       "    <tr>\n",
       "      <th>7</th>\n",
       "      <td>10000000</td>\n",
       "      <td>8</td>\n",
       "      <td>0</td>\n",
       "      <td>0</td>\n",
       "      <td>12:03</td>\n",
       "      <td>IN</td>\n",
       "      <td>10001</td>\n",
       "      <td>2</td>\n",
       "      <td>0</td>\n",
       "      <td>2</td>\n",
       "      <td>...</td>\n",
       "      <td>1.0</td>\n",
       "      <td>2.0</td>\n",
       "      <td>1</td>\n",
       "      <td>0</td>\n",
       "      <td>2</td>\n",
       "      <td>2</td>\n",
       "      <td>1</td>\n",
       "      <td>2</td>\n",
       "      <td>1</td>\n",
       "      <td>638</td>\n",
       "    </tr>\n",
       "    <tr>\n",
       "      <th>8</th>\n",
       "      <td>10000000</td>\n",
       "      <td>9</td>\n",
       "      <td>1</td>\n",
       "      <td>0</td>\n",
       "      <td>12:07</td>\n",
       "      <td>IN</td>\n",
       "      <td>10001</td>\n",
       "      <td>2</td>\n",
       "      <td>0</td>\n",
       "      <td>2</td>\n",
       "      <td>...</td>\n",
       "      <td>1.0</td>\n",
       "      <td>2.0</td>\n",
       "      <td>1</td>\n",
       "      <td>0</td>\n",
       "      <td>2</td>\n",
       "      <td>2</td>\n",
       "      <td>1</td>\n",
       "      <td>2</td>\n",
       "      <td>1</td>\n",
       "      <td>634</td>\n",
       "    </tr>\n",
       "  </tbody>\n",
       "</table>\n",
       "<p>9 rows × 25 columns</p>\n",
       "</div>"
      ],
      "text/plain": [
       "   customer_ID  shopping_pt  record_type  day   time state  location  \\\n",
       "0     10000000            1            0    0  08:35    IN     10001   \n",
       "1     10000000            2            0    0  08:38    IN     10001   \n",
       "2     10000000            3            0    0  08:38    IN     10001   \n",
       "3     10000000            4            0    0  08:39    IN     10001   \n",
       "4     10000000            5            0    0  11:55    IN     10001   \n",
       "5     10000000            6            0    0  11:57    IN     10001   \n",
       "6     10000000            7            0    0  11:58    IN     10001   \n",
       "7     10000000            8            0    0  12:03    IN     10001   \n",
       "8     10000000            9            1    0  12:07    IN     10001   \n",
       "\n",
       "   group_size  homeowner  car_age  ... C_previous  duration_previous  A  B  C  \\\n",
       "0           2          0        2  ...        1.0                2.0  1  0  2   \n",
       "1           2          0        2  ...        1.0                2.0  1  0  2   \n",
       "2           2          0        2  ...        1.0                2.0  1  0  2   \n",
       "3           2          0        2  ...        1.0                2.0  1  0  2   \n",
       "4           2          0        2  ...        1.0                2.0  1  0  2   \n",
       "5           2          0        2  ...        1.0                2.0  1  0  2   \n",
       "6           2          0        2  ...        1.0                2.0  1  0  2   \n",
       "7           2          0        2  ...        1.0                2.0  1  0  2   \n",
       "8           2          0        2  ...        1.0                2.0  1  0  2   \n",
       "\n",
       "   D  E  F  G  cost  \n",
       "0  2  1  2  2   633  \n",
       "1  2  1  2  1   630  \n",
       "2  2  1  2  1   630  \n",
       "3  2  1  2  1   630  \n",
       "4  2  1  2  1   630  \n",
       "5  2  1  2  1   638  \n",
       "6  2  1  2  1   638  \n",
       "7  2  1  2  1   638  \n",
       "8  2  1  2  1   634  \n",
       "\n",
       "[9 rows x 25 columns]"
      ]
     },
     "execution_count": 53,
     "metadata": {},
     "output_type": "execute_result"
    }
   ],
   "source": [
    "data[data.customer_ID == 10000000]"
   ]
  },
  {
   "cell_type": "code",
   "execution_count": 54,
   "metadata": {
    "scrolled": true
   },
   "outputs": [
    {
     "data": {
      "text/html": [
       "<div>\n",
       "<style scoped>\n",
       "    .dataframe tbody tr th:only-of-type {\n",
       "        vertical-align: middle;\n",
       "    }\n",
       "\n",
       "    .dataframe tbody tr th {\n",
       "        vertical-align: top;\n",
       "    }\n",
       "\n",
       "    .dataframe thead th {\n",
       "        text-align: right;\n",
       "    }\n",
       "</style>\n",
       "<table border=\"1\" class=\"dataframe\">\n",
       "  <thead>\n",
       "    <tr style=\"text-align: right;\">\n",
       "      <th></th>\n",
       "      <th>customer_ID</th>\n",
       "      <th>shopping_pt</th>\n",
       "      <th>record_type</th>\n",
       "      <th>day</th>\n",
       "      <th>time</th>\n",
       "      <th>state</th>\n",
       "      <th>location</th>\n",
       "      <th>group_size</th>\n",
       "      <th>homeowner</th>\n",
       "      <th>car_age</th>\n",
       "      <th>...</th>\n",
       "      <th>C_previous</th>\n",
       "      <th>duration_previous</th>\n",
       "      <th>A</th>\n",
       "      <th>B</th>\n",
       "      <th>C</th>\n",
       "      <th>D</th>\n",
       "      <th>E</th>\n",
       "      <th>F</th>\n",
       "      <th>G</th>\n",
       "      <th>cost</th>\n",
       "    </tr>\n",
       "  </thead>\n",
       "  <tbody>\n",
       "    <tr>\n",
       "      <th>8</th>\n",
       "      <td>10000000</td>\n",
       "      <td>9</td>\n",
       "      <td>1</td>\n",
       "      <td>0</td>\n",
       "      <td>12:07</td>\n",
       "      <td>IN</td>\n",
       "      <td>10001</td>\n",
       "      <td>2</td>\n",
       "      <td>0</td>\n",
       "      <td>2</td>\n",
       "      <td>...</td>\n",
       "      <td>1.0</td>\n",
       "      <td>2.0</td>\n",
       "      <td>1</td>\n",
       "      <td>0</td>\n",
       "      <td>2</td>\n",
       "      <td>2</td>\n",
       "      <td>1</td>\n",
       "      <td>2</td>\n",
       "      <td>1</td>\n",
       "      <td>634</td>\n",
       "    </tr>\n",
       "    <tr>\n",
       "      <th>14</th>\n",
       "      <td>10000005</td>\n",
       "      <td>6</td>\n",
       "      <td>1</td>\n",
       "      <td>3</td>\n",
       "      <td>09:09</td>\n",
       "      <td>NY</td>\n",
       "      <td>10006</td>\n",
       "      <td>1</td>\n",
       "      <td>0</td>\n",
       "      <td>10</td>\n",
       "      <td>...</td>\n",
       "      <td>3.0</td>\n",
       "      <td>13.0</td>\n",
       "      <td>0</td>\n",
       "      <td>0</td>\n",
       "      <td>3</td>\n",
       "      <td>2</td>\n",
       "      <td>0</td>\n",
       "      <td>0</td>\n",
       "      <td>2</td>\n",
       "      <td>731</td>\n",
       "    </tr>\n",
       "    <tr>\n",
       "      <th>22</th>\n",
       "      <td>10000007</td>\n",
       "      <td>8</td>\n",
       "      <td>1</td>\n",
       "      <td>4</td>\n",
       "      <td>14:26</td>\n",
       "      <td>PA</td>\n",
       "      <td>10008</td>\n",
       "      <td>1</td>\n",
       "      <td>0</td>\n",
       "      <td>11</td>\n",
       "      <td>...</td>\n",
       "      <td>2.0</td>\n",
       "      <td>4.0</td>\n",
       "      <td>0</td>\n",
       "      <td>0</td>\n",
       "      <td>1</td>\n",
       "      <td>2</td>\n",
       "      <td>0</td>\n",
       "      <td>0</td>\n",
       "      <td>1</td>\n",
       "      <td>602</td>\n",
       "    </tr>\n",
       "  </tbody>\n",
       "</table>\n",
       "<p>3 rows × 25 columns</p>\n",
       "</div>"
      ],
      "text/plain": [
       "    customer_ID  shopping_pt  record_type  day   time state  location  \\\n",
       "8      10000000            9            1    0  12:07    IN     10001   \n",
       "14     10000005            6            1    3  09:09    NY     10006   \n",
       "22     10000007            8            1    4  14:26    PA     10008   \n",
       "\n",
       "    group_size  homeowner  car_age  ... C_previous  duration_previous  A  B  \\\n",
       "8            2          0        2  ...        1.0                2.0  1  0   \n",
       "14           1          0       10  ...        3.0               13.0  0  0   \n",
       "22           1          0       11  ...        2.0                4.0  0  0   \n",
       "\n",
       "    C  D  E  F  G  cost  \n",
       "8   2  2  1  2  1   634  \n",
       "14  3  2  0  0  2   731  \n",
       "22  1  2  0  0  1   602  \n",
       "\n",
       "[3 rows x 25 columns]"
      ]
     },
     "execution_count": 54,
     "metadata": {},
     "output_type": "execute_result"
    }
   ],
   "source": [
    "dataP = data.loc[data.record_type == 1].copy()\n",
    "dataP.head(3)"
   ]
  },
  {
   "cell_type": "code",
   "execution_count": 55,
   "metadata": {},
   "outputs": [
    {
     "data": {
      "text/plain": [
       "(97009, 25)"
      ]
     },
     "execution_count": 55,
     "metadata": {},
     "output_type": "execute_result"
    }
   ],
   "source": [
    "dataP.shape"
   ]
  },
  {
   "cell_type": "code",
   "execution_count": 56,
   "metadata": {},
   "outputs": [],
   "source": [
    "con = ['group_size','car_age','age_oldest','age_youngest','duration_previous','cost']\n",
    "cat = ['day','homeowner','car_value','risk_factor','married_couple','C_previous','state', 'location','shopping_pt']"
   ]
  },
  {
   "cell_type": "code",
   "execution_count": 57,
   "metadata": {},
   "outputs": [
    {
     "name": "stdout",
     "output_type": "stream",
     "text": [
      "<class 'pandas.core.frame.DataFrame'>\n",
      "Int64Index: 97009 entries, 8 to 665248\n",
      "Data columns (total 25 columns):\n",
      " #   Column             Non-Null Count  Dtype  \n",
      "---  ------             --------------  -----  \n",
      " 0   customer_ID        97009 non-null  int64  \n",
      " 1   shopping_pt        97009 non-null  int64  \n",
      " 2   record_type        97009 non-null  int64  \n",
      " 3   day                97009 non-null  int64  \n",
      " 4   time               97009 non-null  object \n",
      " 5   state              97009 non-null  object \n",
      " 6   location           97009 non-null  int64  \n",
      " 7   group_size         97009 non-null  int64  \n",
      " 8   homeowner          97009 non-null  int64  \n",
      " 9   car_age            97009 non-null  int64  \n",
      " 10  car_value          97009 non-null  object \n",
      " 11  risk_factor        62663 non-null  float64\n",
      " 12  age_oldest         97009 non-null  int64  \n",
      " 13  age_youngest       97009 non-null  int64  \n",
      " 14  married_couple     97009 non-null  int64  \n",
      " 15  C_previous         96173 non-null  float64\n",
      " 16  duration_previous  96173 non-null  float64\n",
      " 17  A                  97009 non-null  int64  \n",
      " 18  B                  97009 non-null  int64  \n",
      " 19  C                  97009 non-null  int64  \n",
      " 20  D                  97009 non-null  int64  \n",
      " 21  E                  97009 non-null  int64  \n",
      " 22  F                  97009 non-null  int64  \n",
      " 23  G                  97009 non-null  int64  \n",
      " 24  cost               97009 non-null  int64  \n",
      "dtypes: float64(3), int64(19), object(3)\n",
      "memory usage: 19.2+ MB\n"
     ]
    }
   ],
   "source": [
    "dataP.info()"
   ]
  },
  {
   "cell_type": "code",
   "execution_count": 58,
   "metadata": {},
   "outputs": [
    {
     "data": {
      "text/plain": [
       "customer_ID              0\n",
       "shopping_pt              0\n",
       "record_type              0\n",
       "day                      0\n",
       "time                     0\n",
       "state                    0\n",
       "location                 0\n",
       "group_size               0\n",
       "homeowner                0\n",
       "car_age                  0\n",
       "car_value                0\n",
       "risk_factor          34346\n",
       "age_oldest               0\n",
       "age_youngest             0\n",
       "married_couple           0\n",
       "C_previous             836\n",
       "duration_previous      836\n",
       "A                        0\n",
       "B                        0\n",
       "C                        0\n",
       "D                        0\n",
       "E                        0\n",
       "F                        0\n",
       "G                        0\n",
       "cost                     0\n",
       "dtype: int64"
      ]
     },
     "execution_count": 58,
     "metadata": {},
     "output_type": "execute_result"
    }
   ],
   "source": [
    "dataP.isnull().sum()"
   ]
  },
  {
   "cell_type": "markdown",
   "metadata": {},
   "source": [
    "### 1. Drop"
   ]
  },
  {
   "cell_type": "code",
   "execution_count": 59,
   "metadata": {},
   "outputs": [
    {
     "data": {
      "text/plain": [
       "(62255, 25)"
      ]
     },
     "execution_count": 59,
     "metadata": {},
     "output_type": "execute_result"
    }
   ],
   "source": [
    "dataP_drop = dataP.dropna(subset=['risk_factor','C_previous','duration_previous'])\n",
    "dataP_drop.shape"
   ]
  },
  {
   "cell_type": "code",
   "execution_count": 60,
   "metadata": {},
   "outputs": [
    {
     "data": {
      "text/plain": [
       "0"
      ]
     },
     "execution_count": 60,
     "metadata": {},
     "output_type": "execute_result"
    }
   ],
   "source": [
    "dataP_drop.isnull().sum().sum()"
   ]
  },
  {
   "cell_type": "markdown",
   "metadata": {},
   "source": [
    "### 2. SimpleImputer\n",
    "##### Continuous feature의 결측값 대체"
   ]
  },
  {
   "cell_type": "code",
   "execution_count": 61,
   "metadata": {
    "scrolled": true
   },
   "outputs": [
    {
     "data": {
      "text/html": [
       "<div>\n",
       "<style scoped>\n",
       "    .dataframe tbody tr th:only-of-type {\n",
       "        vertical-align: middle;\n",
       "    }\n",
       "\n",
       "    .dataframe tbody tr th {\n",
       "        vertical-align: top;\n",
       "    }\n",
       "\n",
       "    .dataframe thead th {\n",
       "        text-align: right;\n",
       "    }\n",
       "</style>\n",
       "<table border=\"1\" class=\"dataframe\">\n",
       "  <thead>\n",
       "    <tr style=\"text-align: right;\">\n",
       "      <th></th>\n",
       "      <th>group_size</th>\n",
       "      <th>car_age</th>\n",
       "      <th>age_oldest</th>\n",
       "      <th>age_youngest</th>\n",
       "      <th>duration_previous</th>\n",
       "      <th>cost</th>\n",
       "    </tr>\n",
       "  </thead>\n",
       "  <tbody>\n",
       "    <tr>\n",
       "      <th>8</th>\n",
       "      <td>2</td>\n",
       "      <td>2</td>\n",
       "      <td>46</td>\n",
       "      <td>42</td>\n",
       "      <td>2.0</td>\n",
       "      <td>634</td>\n",
       "    </tr>\n",
       "    <tr>\n",
       "      <th>14</th>\n",
       "      <td>1</td>\n",
       "      <td>10</td>\n",
       "      <td>28</td>\n",
       "      <td>28</td>\n",
       "      <td>13.0</td>\n",
       "      <td>731</td>\n",
       "    </tr>\n",
       "    <tr>\n",
       "      <th>22</th>\n",
       "      <td>1</td>\n",
       "      <td>11</td>\n",
       "      <td>43</td>\n",
       "      <td>43</td>\n",
       "      <td>4.0</td>\n",
       "      <td>602</td>\n",
       "    </tr>\n",
       "  </tbody>\n",
       "</table>\n",
       "</div>"
      ],
      "text/plain": [
       "    group_size  car_age  age_oldest  age_youngest  duration_previous  cost\n",
       "8            2        2          46            42                2.0   634\n",
       "14           1       10          28            28               13.0   731\n",
       "22           1       11          43            43                4.0   602"
      ]
     },
     "execution_count": 61,
     "metadata": {},
     "output_type": "execute_result"
    }
   ],
   "source": [
    "dataP[con].head(3)"
   ]
  },
  {
   "cell_type": "code",
   "execution_count": 62,
   "metadata": {},
   "outputs": [
    {
     "name": "stdout",
     "output_type": "stream",
     "text": [
      "<class 'pandas.core.frame.DataFrame'>\n",
      "Int64Index: 97009 entries, 8 to 665248\n",
      "Data columns (total 6 columns):\n",
      " #   Column             Non-Null Count  Dtype  \n",
      "---  ------             --------------  -----  \n",
      " 0   group_size         97009 non-null  int64  \n",
      " 1   car_age            97009 non-null  int64  \n",
      " 2   age_oldest         97009 non-null  int64  \n",
      " 3   age_youngest       97009 non-null  int64  \n",
      " 4   duration_previous  96173 non-null  float64\n",
      " 5   cost               97009 non-null  int64  \n",
      "dtypes: float64(1), int64(5)\n",
      "memory usage: 5.2 MB\n"
     ]
    }
   ],
   "source": [
    "dataP[con].info()"
   ]
  },
  {
   "cell_type": "code",
   "execution_count": 63,
   "metadata": {},
   "outputs": [],
   "source": [
    "#from sklearn.preprocessing import Imputer\n",
    "#imputer_con = Imputer(strategy=\"median\")  \n",
    "#imputer_con.fit(dataP[con])\n",
    "\n",
    "from sklearn.impute import SimpleImputer"
   ]
  },
  {
   "cell_type": "code",
   "execution_count": 64,
   "metadata": {},
   "outputs": [],
   "source": [
    "imputer_con = SimpleImputer(missing_values=np.nan, strategy='median')"
   ]
  },
  {
   "cell_type": "markdown",
   "metadata": {},
   "source": [
    "<div>\n",
    "- strategy=\"mean\": 평균 대체 <br/>\n",
    "- strategy=\"median\": 중위수 대체 <br/>\n",
    "- strategy=\"most_frequent\":최빈값 대체 <br/>\n",
    "</div>"
   ]
  },
  {
   "cell_type": "code",
   "execution_count": 65,
   "metadata": {},
   "outputs": [
    {
     "data": {
      "text/plain": [
       "SimpleImputer(strategy='median')"
      ]
     },
     "execution_count": 65,
     "metadata": {},
     "output_type": "execute_result"
    }
   ],
   "source": [
    "imputer_con.fit(dataP[con])"
   ]
  },
  {
   "cell_type": "code",
   "execution_count": 66,
   "metadata": {},
   "outputs": [
    {
     "data": {
      "text/plain": [
       "array([[  2.,   2.,  46.,  42.,   2., 634.],\n",
       "       [  1.,  10.,  28.,  28.,  13., 731.],\n",
       "       [  1.,  11.,  43.,  43.,   4., 602.],\n",
       "       ...,\n",
       "       [  1.,   8.,  23.,  23.,   5., 716.],\n",
       "       [  1.,   0.,  39.,  39.,   7., 651.],\n",
       "       [  1.,   1.,  20.,  20.,   4., 681.]])"
      ]
     },
     "execution_count": 66,
     "metadata": {},
     "output_type": "execute_result"
    }
   ],
   "source": [
    "imputer_con.transform(dataP[con])"
   ]
  },
  {
   "cell_type": "code",
   "execution_count": 67,
   "metadata": {
    "scrolled": true
   },
   "outputs": [
    {
     "data": {
      "text/plain": [
       "array([[  2.,   2.,  46.,  42.,   2., 634.],\n",
       "       [  1.,  10.,  28.,  28.,  13., 731.],\n",
       "       [  1.,  11.,  43.,  43.,   4., 602.],\n",
       "       ...,\n",
       "       [  1.,   8.,  23.,  23.,   5., 716.],\n",
       "       [  1.,   0.,  39.,  39.,   7., 651.],\n",
       "       [  1.,   1.,  20.,  20.,   4., 681.]])"
      ]
     },
     "execution_count": 67,
     "metadata": {},
     "output_type": "execute_result"
    }
   ],
   "source": [
    "x = imputer_con.transform(dataP[con])\n",
    "x"
   ]
  },
  {
   "cell_type": "code",
   "execution_count": 68,
   "metadata": {
    "scrolled": true
   },
   "outputs": [
    {
     "data": {
      "text/html": [
       "<div>\n",
       "<style scoped>\n",
       "    .dataframe tbody tr th:only-of-type {\n",
       "        vertical-align: middle;\n",
       "    }\n",
       "\n",
       "    .dataframe tbody tr th {\n",
       "        vertical-align: top;\n",
       "    }\n",
       "\n",
       "    .dataframe thead th {\n",
       "        text-align: right;\n",
       "    }\n",
       "</style>\n",
       "<table border=\"1\" class=\"dataframe\">\n",
       "  <thead>\n",
       "    <tr style=\"text-align: right;\">\n",
       "      <th></th>\n",
       "      <th>group_size</th>\n",
       "      <th>car_age</th>\n",
       "      <th>age_oldest</th>\n",
       "      <th>age_youngest</th>\n",
       "      <th>duration_previous</th>\n",
       "      <th>cost</th>\n",
       "    </tr>\n",
       "  </thead>\n",
       "  <tbody>\n",
       "    <tr>\n",
       "      <th>8</th>\n",
       "      <td>2.0</td>\n",
       "      <td>2.0</td>\n",
       "      <td>46.0</td>\n",
       "      <td>42.0</td>\n",
       "      <td>2.0</td>\n",
       "      <td>634.0</td>\n",
       "    </tr>\n",
       "    <tr>\n",
       "      <th>14</th>\n",
       "      <td>1.0</td>\n",
       "      <td>10.0</td>\n",
       "      <td>28.0</td>\n",
       "      <td>28.0</td>\n",
       "      <td>13.0</td>\n",
       "      <td>731.0</td>\n",
       "    </tr>\n",
       "    <tr>\n",
       "      <th>22</th>\n",
       "      <td>1.0</td>\n",
       "      <td>11.0</td>\n",
       "      <td>43.0</td>\n",
       "      <td>43.0</td>\n",
       "      <td>4.0</td>\n",
       "      <td>602.0</td>\n",
       "    </tr>\n",
       "    <tr>\n",
       "      <th>26</th>\n",
       "      <td>2.0</td>\n",
       "      <td>3.0</td>\n",
       "      <td>62.0</td>\n",
       "      <td>60.0</td>\n",
       "      <td>3.0</td>\n",
       "      <td>626.0</td>\n",
       "    </tr>\n",
       "    <tr>\n",
       "      <th>32</th>\n",
       "      <td>1.0</td>\n",
       "      <td>5.0</td>\n",
       "      <td>32.0</td>\n",
       "      <td>28.0</td>\n",
       "      <td>2.0</td>\n",
       "      <td>614.0</td>\n",
       "    </tr>\n",
       "  </tbody>\n",
       "</table>\n",
       "</div>"
      ],
      "text/plain": [
       "    group_size  car_age  age_oldest  age_youngest  duration_previous   cost\n",
       "8          2.0      2.0        46.0          42.0                2.0  634.0\n",
       "14         1.0     10.0        28.0          28.0               13.0  731.0\n",
       "22         1.0     11.0        43.0          43.0                4.0  602.0\n",
       "26         2.0      3.0        62.0          60.0                3.0  626.0\n",
       "32         1.0      5.0        32.0          28.0                2.0  614.0"
      ]
     },
     "execution_count": 68,
     "metadata": {},
     "output_type": "execute_result"
    }
   ],
   "source": [
    "dataP_imp = dataP\n",
    "dataP_imp[con] = pd.DataFrame(x, columns=dataP[con].columns, index=dataP[con].index)\n",
    "dataP_imp[con].head()"
   ]
  },
  {
   "cell_type": "code",
   "execution_count": 69,
   "metadata": {},
   "outputs": [
    {
     "data": {
      "text/plain": [
       "(97009, 6)"
      ]
     },
     "execution_count": 69,
     "metadata": {},
     "output_type": "execute_result"
    }
   ],
   "source": [
    "dataP_imp[con].shape"
   ]
  },
  {
   "cell_type": "code",
   "execution_count": null,
   "metadata": {},
   "outputs": [],
   "source": []
  },
  {
   "cell_type": "markdown",
   "metadata": {},
   "source": [
    "##### Categorical feature 의 결측값 대체"
   ]
  },
  {
   "cell_type": "code",
   "execution_count": 70,
   "metadata": {},
   "outputs": [
    {
     "data": {
      "text/plain": [
       "['day',\n",
       " 'homeowner',\n",
       " 'car_value',\n",
       " 'risk_factor',\n",
       " 'married_couple',\n",
       " 'C_previous',\n",
       " 'state',\n",
       " 'location',\n",
       " 'shopping_pt']"
      ]
     },
     "execution_count": 70,
     "metadata": {},
     "output_type": "execute_result"
    }
   ],
   "source": [
    "cat"
   ]
  },
  {
   "cell_type": "code",
   "execution_count": 71,
   "metadata": {},
   "outputs": [
    {
     "data": {
      "text/plain": [
       "day                 int64\n",
       "homeowner           int64\n",
       "car_value          object\n",
       "risk_factor       float64\n",
       "married_couple      int64\n",
       "C_previous        float64\n",
       "state              object\n",
       "location            int64\n",
       "shopping_pt         int64\n",
       "dtype: object"
      ]
     },
     "execution_count": 71,
     "metadata": {},
     "output_type": "execute_result"
    }
   ],
   "source": [
    "dataP_imp[cat].dtypes"
   ]
  },
  {
   "cell_type": "code",
   "execution_count": 72,
   "metadata": {},
   "outputs": [],
   "source": [
    "obj=['car_value','state'] "
   ]
  },
  {
   "cell_type": "code",
   "execution_count": 73,
   "metadata": {},
   "outputs": [
    {
     "data": {
      "text/plain": [
       "8     g\n",
       "14    e\n",
       "22    c\n",
       "26    d\n",
       "32    d\n",
       "Name: car_value, dtype: object"
      ]
     },
     "execution_count": 73,
     "metadata": {},
     "output_type": "execute_result"
    }
   ],
   "source": [
    "dataP['car_value'].head()"
   ]
  },
  {
   "cell_type": "code",
   "execution_count": 74,
   "metadata": {},
   "outputs": [
    {
     "name": "stdout",
     "output_type": "stream",
     "text": [
      "Index(['a', 'b', 'c', 'd', 'e', 'f', 'g', 'h', 'i'], dtype='object')\n"
     ]
    }
   ],
   "source": [
    "print(dataP['car_value'].astype('category').cat.categories)"
   ]
  },
  {
   "cell_type": "code",
   "execution_count": 75,
   "metadata": {},
   "outputs": [
    {
     "name": "stdout",
     "output_type": "stream",
     "text": [
      "Index(['AL', 'AR', 'CO', 'CT', 'DC', 'DE', 'FL', 'GA', 'IA', 'ID', 'IN', 'KS',\n",
      "       'KY', 'MD', 'ME', 'MO', 'MS', 'MT', 'ND', 'NE', 'NH', 'NM', 'NV', 'NY',\n",
      "       'OH', 'OK', 'OR', 'PA', 'RI', 'SD', 'TN', 'UT', 'WA', 'WI', 'WV', 'WY'],\n",
      "      dtype='object')\n"
     ]
    }
   ],
   "source": [
    "print(dataP['state'].astype('category').cat.categories)"
   ]
  },
  {
   "cell_type": "code",
   "execution_count": 76,
   "metadata": {},
   "outputs": [
    {
     "data": {
      "text/html": [
       "<div>\n",
       "<style scoped>\n",
       "    .dataframe tbody tr th:only-of-type {\n",
       "        vertical-align: middle;\n",
       "    }\n",
       "\n",
       "    .dataframe tbody tr th {\n",
       "        vertical-align: top;\n",
       "    }\n",
       "\n",
       "    .dataframe thead th {\n",
       "        text-align: right;\n",
       "    }\n",
       "</style>\n",
       "<table border=\"1\" class=\"dataframe\">\n",
       "  <thead>\n",
       "    <tr style=\"text-align: right;\">\n",
       "      <th></th>\n",
       "      <th>car_value</th>\n",
       "      <th>state</th>\n",
       "    </tr>\n",
       "  </thead>\n",
       "  <tbody>\n",
       "    <tr>\n",
       "      <th>8</th>\n",
       "      <td>g</td>\n",
       "      <td>IN</td>\n",
       "    </tr>\n",
       "    <tr>\n",
       "      <th>14</th>\n",
       "      <td>e</td>\n",
       "      <td>NY</td>\n",
       "    </tr>\n",
       "    <tr>\n",
       "      <th>22</th>\n",
       "      <td>c</td>\n",
       "      <td>PA</td>\n",
       "    </tr>\n",
       "    <tr>\n",
       "      <th>26</th>\n",
       "      <td>d</td>\n",
       "      <td>WV</td>\n",
       "    </tr>\n",
       "    <tr>\n",
       "      <th>32</th>\n",
       "      <td>d</td>\n",
       "      <td>MO</td>\n",
       "    </tr>\n",
       "    <tr>\n",
       "      <th>...</th>\n",
       "      <td>...</td>\n",
       "      <td>...</td>\n",
       "    </tr>\n",
       "    <tr>\n",
       "      <th>665225</th>\n",
       "      <td>e</td>\n",
       "      <td>FL</td>\n",
       "    </tr>\n",
       "    <tr>\n",
       "      <th>665233</th>\n",
       "      <td>g</td>\n",
       "      <td>FL</td>\n",
       "    </tr>\n",
       "    <tr>\n",
       "      <th>665239</th>\n",
       "      <td>e</td>\n",
       "      <td>CT</td>\n",
       "    </tr>\n",
       "    <tr>\n",
       "      <th>665242</th>\n",
       "      <td>g</td>\n",
       "      <td>FL</td>\n",
       "    </tr>\n",
       "    <tr>\n",
       "      <th>665248</th>\n",
       "      <td>d</td>\n",
       "      <td>KY</td>\n",
       "    </tr>\n",
       "  </tbody>\n",
       "</table>\n",
       "<p>97009 rows × 2 columns</p>\n",
       "</div>"
      ],
      "text/plain": [
       "       car_value state\n",
       "8              g    IN\n",
       "14             e    NY\n",
       "22             c    PA\n",
       "26             d    WV\n",
       "32             d    MO\n",
       "...          ...   ...\n",
       "665225         e    FL\n",
       "665233         g    FL\n",
       "665239         e    CT\n",
       "665242         g    FL\n",
       "665248         d    KY\n",
       "\n",
       "[97009 rows x 2 columns]"
      ]
     },
     "execution_count": 76,
     "metadata": {},
     "output_type": "execute_result"
    }
   ],
   "source": [
    "dataP_imp[obj]"
   ]
  },
  {
   "cell_type": "code",
   "execution_count": 77,
   "metadata": {},
   "outputs": [
    {
     "data": {
      "text/plain": [
       "0    2\n",
       "1    3\n",
       "2    4\n",
       "dtype: int64"
      ]
     },
     "execution_count": 77,
     "metadata": {},
     "output_type": "execute_result"
    }
   ],
   "source": [
    "def f(x):\n",
    "    return x+1\n",
    "pd.Series([1,2,3]).apply(f)"
   ]
  },
  {
   "cell_type": "code",
   "execution_count": 78,
   "metadata": {},
   "outputs": [
    {
     "data": {
      "text/plain": [
       "0    2\n",
       "1    3\n",
       "2    4\n",
       "dtype: int64"
      ]
     },
     "execution_count": 78,
     "metadata": {},
     "output_type": "execute_result"
    }
   ],
   "source": [
    "#pd.Series([1,2,3]).apply(f)\n",
    "# lambda : 익명의 함수\n",
    "\n",
    "pd.Series([1,2,3]).apply(lambda x: x+1)"
   ]
  },
  {
   "cell_type": "code",
   "execution_count": 79,
   "metadata": {},
   "outputs": [
    {
     "data": {
      "text/html": [
       "<div>\n",
       "<style scoped>\n",
       "    .dataframe tbody tr th:only-of-type {\n",
       "        vertical-align: middle;\n",
       "    }\n",
       "\n",
       "    .dataframe tbody tr th {\n",
       "        vertical-align: top;\n",
       "    }\n",
       "\n",
       "    .dataframe thead th {\n",
       "        text-align: right;\n",
       "    }\n",
       "</style>\n",
       "<table border=\"1\" class=\"dataframe\">\n",
       "  <thead>\n",
       "    <tr style=\"text-align: right;\">\n",
       "      <th></th>\n",
       "      <th>car_value</th>\n",
       "      <th>state</th>\n",
       "    </tr>\n",
       "  </thead>\n",
       "  <tbody>\n",
       "    <tr>\n",
       "      <th>8</th>\n",
       "      <td>6</td>\n",
       "      <td>10</td>\n",
       "    </tr>\n",
       "    <tr>\n",
       "      <th>14</th>\n",
       "      <td>4</td>\n",
       "      <td>23</td>\n",
       "    </tr>\n",
       "    <tr>\n",
       "      <th>22</th>\n",
       "      <td>2</td>\n",
       "      <td>27</td>\n",
       "    </tr>\n",
       "    <tr>\n",
       "      <th>26</th>\n",
       "      <td>3</td>\n",
       "      <td>34</td>\n",
       "    </tr>\n",
       "    <tr>\n",
       "      <th>32</th>\n",
       "      <td>3</td>\n",
       "      <td>15</td>\n",
       "    </tr>\n",
       "  </tbody>\n",
       "</table>\n",
       "</div>"
      ],
      "text/plain": [
       "    car_value  state\n",
       "8           6     10\n",
       "14          4     23\n",
       "22          2     27\n",
       "26          3     34\n",
       "32          3     15"
      ]
     },
     "execution_count": 79,
     "metadata": {},
     "output_type": "execute_result"
    }
   ],
   "source": [
    "# cat.code : 문자가 범주형으로 바뀌면 생기는 코드\n",
    "\n",
    "dataP_imp[obj] = dataP_imp[obj].apply(lambda x: x.astype('category').cat.codes) \n",
    "dataP_imp[obj].head()"
   ]
  },
  {
   "cell_type": "code",
   "execution_count": 80,
   "metadata": {},
   "outputs": [
    {
     "data": {
      "text/plain": [
       "customer_ID            int64\n",
       "shopping_pt            int64\n",
       "record_type            int64\n",
       "day                    int64\n",
       "time                  object\n",
       "state                   int8\n",
       "location               int64\n",
       "group_size           float64\n",
       "homeowner              int64\n",
       "car_age              float64\n",
       "car_value               int8\n",
       "risk_factor          float64\n",
       "age_oldest           float64\n",
       "age_youngest         float64\n",
       "married_couple         int64\n",
       "C_previous           float64\n",
       "duration_previous    float64\n",
       "A                      int64\n",
       "B                      int64\n",
       "C                      int64\n",
       "D                      int64\n",
       "E                      int64\n",
       "F                      int64\n",
       "G                      int64\n",
       "cost                 float64\n",
       "dtype: object"
      ]
     },
     "execution_count": 80,
     "metadata": {},
     "output_type": "execute_result"
    }
   ],
   "source": [
    "dataP_imp.dtypes"
   ]
  },
  {
   "cell_type": "code",
   "execution_count": 81,
   "metadata": {},
   "outputs": [
    {
     "data": {
      "text/plain": [
       "day                   0\n",
       "homeowner             0\n",
       "car_value             0\n",
       "risk_factor       34346\n",
       "married_couple        0\n",
       "C_previous          836\n",
       "state                 0\n",
       "location              0\n",
       "shopping_pt           0\n",
       "dtype: int64"
      ]
     },
     "execution_count": 81,
     "metadata": {},
     "output_type": "execute_result"
    }
   ],
   "source": [
    "dataP_imp[cat].isnull().sum()"
   ]
  },
  {
   "cell_type": "code",
   "execution_count": 82,
   "metadata": {},
   "outputs": [],
   "source": [
    "imputer_cat = SimpleImputer(strategy=\"most_frequent\")\n",
    "dataP_imp[cat] = imputer_cat.fit_transform(dataP_imp[cat])"
   ]
  },
  {
   "cell_type": "code",
   "execution_count": 83,
   "metadata": {
    "scrolled": true
   },
   "outputs": [
    {
     "data": {
      "text/html": [
       "<div>\n",
       "<style scoped>\n",
       "    .dataframe tbody tr th:only-of-type {\n",
       "        vertical-align: middle;\n",
       "    }\n",
       "\n",
       "    .dataframe tbody tr th {\n",
       "        vertical-align: top;\n",
       "    }\n",
       "\n",
       "    .dataframe thead th {\n",
       "        text-align: right;\n",
       "    }\n",
       "</style>\n",
       "<table border=\"1\" class=\"dataframe\">\n",
       "  <thead>\n",
       "    <tr style=\"text-align: right;\">\n",
       "      <th></th>\n",
       "      <th>day</th>\n",
       "      <th>homeowner</th>\n",
       "      <th>car_value</th>\n",
       "      <th>risk_factor</th>\n",
       "      <th>married_couple</th>\n",
       "      <th>C_previous</th>\n",
       "      <th>state</th>\n",
       "      <th>location</th>\n",
       "      <th>shopping_pt</th>\n",
       "    </tr>\n",
       "  </thead>\n",
       "  <tbody>\n",
       "    <tr>\n",
       "      <th>8</th>\n",
       "      <td>0.0</td>\n",
       "      <td>0.0</td>\n",
       "      <td>6.0</td>\n",
       "      <td>3.0</td>\n",
       "      <td>1.0</td>\n",
       "      <td>1.0</td>\n",
       "      <td>10.0</td>\n",
       "      <td>10001.0</td>\n",
       "      <td>9.0</td>\n",
       "    </tr>\n",
       "    <tr>\n",
       "      <th>14</th>\n",
       "      <td>3.0</td>\n",
       "      <td>0.0</td>\n",
       "      <td>4.0</td>\n",
       "      <td>4.0</td>\n",
       "      <td>0.0</td>\n",
       "      <td>3.0</td>\n",
       "      <td>23.0</td>\n",
       "      <td>10006.0</td>\n",
       "      <td>6.0</td>\n",
       "    </tr>\n",
       "    <tr>\n",
       "      <th>22</th>\n",
       "      <td>4.0</td>\n",
       "      <td>0.0</td>\n",
       "      <td>2.0</td>\n",
       "      <td>3.0</td>\n",
       "      <td>0.0</td>\n",
       "      <td>2.0</td>\n",
       "      <td>27.0</td>\n",
       "      <td>10008.0</td>\n",
       "      <td>8.0</td>\n",
       "    </tr>\n",
       "    <tr>\n",
       "      <th>26</th>\n",
       "      <td>4.0</td>\n",
       "      <td>1.0</td>\n",
       "      <td>3.0</td>\n",
       "      <td>3.0</td>\n",
       "      <td>1.0</td>\n",
       "      <td>3.0</td>\n",
       "      <td>34.0</td>\n",
       "      <td>10014.0</td>\n",
       "      <td>4.0</td>\n",
       "    </tr>\n",
       "    <tr>\n",
       "      <th>32</th>\n",
       "      <td>1.0</td>\n",
       "      <td>0.0</td>\n",
       "      <td>3.0</td>\n",
       "      <td>3.0</td>\n",
       "      <td>1.0</td>\n",
       "      <td>1.0</td>\n",
       "      <td>15.0</td>\n",
       "      <td>10015.0</td>\n",
       "      <td>6.0</td>\n",
       "    </tr>\n",
       "  </tbody>\n",
       "</table>\n",
       "</div>"
      ],
      "text/plain": [
       "    day  homeowner  car_value  risk_factor  married_couple  C_previous  state  \\\n",
       "8   0.0        0.0        6.0          3.0             1.0         1.0   10.0   \n",
       "14  3.0        0.0        4.0          4.0             0.0         3.0   23.0   \n",
       "22  4.0        0.0        2.0          3.0             0.0         2.0   27.0   \n",
       "26  4.0        1.0        3.0          3.0             1.0         3.0   34.0   \n",
       "32  1.0        0.0        3.0          3.0             1.0         1.0   15.0   \n",
       "\n",
       "    location  shopping_pt  \n",
       "8    10001.0          9.0  \n",
       "14   10006.0          6.0  \n",
       "22   10008.0          8.0  \n",
       "26   10014.0          4.0  \n",
       "32   10015.0          6.0  "
      ]
     },
     "execution_count": 83,
     "metadata": {},
     "output_type": "execute_result"
    }
   ],
   "source": [
    "dataP_imp[cat].head()"
   ]
  },
  {
   "cell_type": "code",
   "execution_count": 84,
   "metadata": {},
   "outputs": [
    {
     "data": {
      "text/plain": [
       "day               0\n",
       "homeowner         0\n",
       "car_value         0\n",
       "risk_factor       0\n",
       "married_couple    0\n",
       "C_previous        0\n",
       "state             0\n",
       "location          0\n",
       "shopping_pt       0\n",
       "dtype: int64"
      ]
     },
     "execution_count": 84,
     "metadata": {},
     "output_type": "execute_result"
    }
   ],
   "source": [
    "dataP_imp[cat].isnull().sum()"
   ]
  },
  {
   "cell_type": "code",
   "execution_count": 85,
   "metadata": {
    "scrolled": false
   },
   "outputs": [
    {
     "data": {
      "text/plain": [
       "day               float64\n",
       "homeowner         float64\n",
       "car_value         float64\n",
       "risk_factor       float64\n",
       "married_couple    float64\n",
       "C_previous        float64\n",
       "state             float64\n",
       "location          float64\n",
       "shopping_pt       float64\n",
       "dtype: object"
      ]
     },
     "execution_count": 85,
     "metadata": {},
     "output_type": "execute_result"
    }
   ],
   "source": [
    "dataP_imp[cat].dtypes"
   ]
  },
  {
   "cell_type": "markdown",
   "metadata": {},
   "source": [
    "### Handling Categorical Variables"
   ]
  },
  {
   "cell_type": "code",
   "execution_count": 86,
   "metadata": {},
   "outputs": [
    {
     "data": {
      "text/plain": [
       "day               int32\n",
       "homeowner         int32\n",
       "car_value         int32\n",
       "risk_factor       int32\n",
       "married_couple    int32\n",
       "C_previous        int32\n",
       "state             int32\n",
       "location          int32\n",
       "shopping_pt       int32\n",
       "dtype: object"
      ]
     },
     "execution_count": 86,
     "metadata": {},
     "output_type": "execute_result"
    }
   ],
   "source": [
    "dataP_imp[cat] = dataP_imp[cat].astype(int)\n",
    "dataP_imp[cat].dtypes"
   ]
  },
  {
   "cell_type": "markdown",
   "metadata": {},
   "source": [
    "##### 1. One-Hot Encoding"
   ]
  },
  {
   "cell_type": "code",
   "execution_count": 87,
   "metadata": {},
   "outputs": [
    {
     "data": {
      "text/plain": [
       "8     0\n",
       "14    3\n",
       "22    4\n",
       "26    4\n",
       "32    1\n",
       "Name: day, dtype: int32"
      ]
     },
     "execution_count": 87,
     "metadata": {},
     "output_type": "execute_result"
    }
   ],
   "source": [
    "dataP_imp['day'].head()"
   ]
  },
  {
   "cell_type": "code",
   "execution_count": 88,
   "metadata": {},
   "outputs": [
    {
     "data": {
      "text/html": [
       "<div>\n",
       "<style scoped>\n",
       "    .dataframe tbody tr th:only-of-type {\n",
       "        vertical-align: middle;\n",
       "    }\n",
       "\n",
       "    .dataframe tbody tr th {\n",
       "        vertical-align: top;\n",
       "    }\n",
       "\n",
       "    .dataframe thead th {\n",
       "        text-align: right;\n",
       "    }\n",
       "</style>\n",
       "<table border=\"1\" class=\"dataframe\">\n",
       "  <thead>\n",
       "    <tr style=\"text-align: right;\">\n",
       "      <th></th>\n",
       "      <th>customer_ID</th>\n",
       "      <th>shopping_pt</th>\n",
       "      <th>record_type</th>\n",
       "      <th>time</th>\n",
       "      <th>state</th>\n",
       "      <th>location</th>\n",
       "      <th>group_size</th>\n",
       "      <th>homeowner</th>\n",
       "      <th>car_age</th>\n",
       "      <th>car_value</th>\n",
       "      <th>...</th>\n",
       "      <th>F</th>\n",
       "      <th>G</th>\n",
       "      <th>cost</th>\n",
       "      <th>day_0</th>\n",
       "      <th>day_1</th>\n",
       "      <th>day_2</th>\n",
       "      <th>day_3</th>\n",
       "      <th>day_4</th>\n",
       "      <th>day_5</th>\n",
       "      <th>day_6</th>\n",
       "    </tr>\n",
       "  </thead>\n",
       "  <tbody>\n",
       "    <tr>\n",
       "      <th>8</th>\n",
       "      <td>10000000</td>\n",
       "      <td>9</td>\n",
       "      <td>1</td>\n",
       "      <td>12:07</td>\n",
       "      <td>10</td>\n",
       "      <td>10001</td>\n",
       "      <td>2.0</td>\n",
       "      <td>0</td>\n",
       "      <td>2.0</td>\n",
       "      <td>6</td>\n",
       "      <td>...</td>\n",
       "      <td>2</td>\n",
       "      <td>1</td>\n",
       "      <td>634.0</td>\n",
       "      <td>1</td>\n",
       "      <td>0</td>\n",
       "      <td>0</td>\n",
       "      <td>0</td>\n",
       "      <td>0</td>\n",
       "      <td>0</td>\n",
       "      <td>0</td>\n",
       "    </tr>\n",
       "    <tr>\n",
       "      <th>14</th>\n",
       "      <td>10000005</td>\n",
       "      <td>6</td>\n",
       "      <td>1</td>\n",
       "      <td>09:09</td>\n",
       "      <td>23</td>\n",
       "      <td>10006</td>\n",
       "      <td>1.0</td>\n",
       "      <td>0</td>\n",
       "      <td>10.0</td>\n",
       "      <td>4</td>\n",
       "      <td>...</td>\n",
       "      <td>0</td>\n",
       "      <td>2</td>\n",
       "      <td>731.0</td>\n",
       "      <td>0</td>\n",
       "      <td>0</td>\n",
       "      <td>0</td>\n",
       "      <td>1</td>\n",
       "      <td>0</td>\n",
       "      <td>0</td>\n",
       "      <td>0</td>\n",
       "    </tr>\n",
       "    <tr>\n",
       "      <th>22</th>\n",
       "      <td>10000007</td>\n",
       "      <td>8</td>\n",
       "      <td>1</td>\n",
       "      <td>14:26</td>\n",
       "      <td>27</td>\n",
       "      <td>10008</td>\n",
       "      <td>1.0</td>\n",
       "      <td>0</td>\n",
       "      <td>11.0</td>\n",
       "      <td>2</td>\n",
       "      <td>...</td>\n",
       "      <td>0</td>\n",
       "      <td>1</td>\n",
       "      <td>602.0</td>\n",
       "      <td>0</td>\n",
       "      <td>0</td>\n",
       "      <td>0</td>\n",
       "      <td>0</td>\n",
       "      <td>1</td>\n",
       "      <td>0</td>\n",
       "      <td>0</td>\n",
       "    </tr>\n",
       "    <tr>\n",
       "      <th>26</th>\n",
       "      <td>10000013</td>\n",
       "      <td>4</td>\n",
       "      <td>1</td>\n",
       "      <td>09:31</td>\n",
       "      <td>34</td>\n",
       "      <td>10014</td>\n",
       "      <td>2.0</td>\n",
       "      <td>1</td>\n",
       "      <td>3.0</td>\n",
       "      <td>3</td>\n",
       "      <td>...</td>\n",
       "      <td>1</td>\n",
       "      <td>3</td>\n",
       "      <td>626.0</td>\n",
       "      <td>0</td>\n",
       "      <td>0</td>\n",
       "      <td>0</td>\n",
       "      <td>0</td>\n",
       "      <td>1</td>\n",
       "      <td>0</td>\n",
       "      <td>0</td>\n",
       "    </tr>\n",
       "    <tr>\n",
       "      <th>32</th>\n",
       "      <td>10000014</td>\n",
       "      <td>6</td>\n",
       "      <td>1</td>\n",
       "      <td>17:50</td>\n",
       "      <td>15</td>\n",
       "      <td>10015</td>\n",
       "      <td>1.0</td>\n",
       "      <td>0</td>\n",
       "      <td>5.0</td>\n",
       "      <td>3</td>\n",
       "      <td>...</td>\n",
       "      <td>2</td>\n",
       "      <td>2</td>\n",
       "      <td>614.0</td>\n",
       "      <td>0</td>\n",
       "      <td>1</td>\n",
       "      <td>0</td>\n",
       "      <td>0</td>\n",
       "      <td>0</td>\n",
       "      <td>0</td>\n",
       "      <td>0</td>\n",
       "    </tr>\n",
       "  </tbody>\n",
       "</table>\n",
       "<p>5 rows × 31 columns</p>\n",
       "</div>"
      ],
      "text/plain": [
       "    customer_ID  shopping_pt  record_type   time  state  location  group_size  \\\n",
       "8      10000000            9            1  12:07     10     10001         2.0   \n",
       "14     10000005            6            1  09:09     23     10006         1.0   \n",
       "22     10000007            8            1  14:26     27     10008         1.0   \n",
       "26     10000013            4            1  09:31     34     10014         2.0   \n",
       "32     10000014            6            1  17:50     15     10015         1.0   \n",
       "\n",
       "    homeowner  car_age  car_value  ...  F  G   cost  day_0  day_1  day_2  \\\n",
       "8           0      2.0          6  ...  2  1  634.0      1      0      0   \n",
       "14          0     10.0          4  ...  0  2  731.0      0      0      0   \n",
       "22          0     11.0          2  ...  0  1  602.0      0      0      0   \n",
       "26          1      3.0          3  ...  1  3  626.0      0      0      0   \n",
       "32          0      5.0          3  ...  2  2  614.0      0      1      0   \n",
       "\n",
       "    day_3  day_4  day_5  day_6  \n",
       "8       0      0      0      0  \n",
       "14      1      0      0      0  \n",
       "22      0      1      0      0  \n",
       "26      0      1      0      0  \n",
       "32      0      0      0      0  \n",
       "\n",
       "[5 rows x 31 columns]"
      ]
     },
     "execution_count": 88,
     "metadata": {},
     "output_type": "execute_result"
    }
   ],
   "source": [
    "# get_dummies : 판다스에서 제공하는 메소드, 넘파이로 바뀌면 필드가 안보여서 이것을 많이 쓴다.\n",
    "# 쪼개기 전에 실행한다. 아니면 학습시 달라질 수 있어 또는 합친후 다시 실행한다.\n",
    "\n",
    "dataP_imp = pd.get_dummies(dataP_imp,columns=['day'])\n",
    "dataP_imp.head()"
   ]
  },
  {
   "cell_type": "code",
   "execution_count": 89,
   "metadata": {},
   "outputs": [
    {
     "data": {
      "text/html": [
       "<div>\n",
       "<style scoped>\n",
       "    .dataframe tbody tr th:only-of-type {\n",
       "        vertical-align: middle;\n",
       "    }\n",
       "\n",
       "    .dataframe tbody tr th {\n",
       "        vertical-align: top;\n",
       "    }\n",
       "\n",
       "    .dataframe thead th {\n",
       "        text-align: right;\n",
       "    }\n",
       "</style>\n",
       "<table border=\"1\" class=\"dataframe\">\n",
       "  <thead>\n",
       "    <tr style=\"text-align: right;\">\n",
       "      <th></th>\n",
       "      <th>day_0</th>\n",
       "      <th>day_1</th>\n",
       "      <th>day_2</th>\n",
       "      <th>day_3</th>\n",
       "      <th>day_4</th>\n",
       "      <th>day_5</th>\n",
       "      <th>day_6</th>\n",
       "    </tr>\n",
       "  </thead>\n",
       "  <tbody>\n",
       "    <tr>\n",
       "      <th>8</th>\n",
       "      <td>1</td>\n",
       "      <td>0</td>\n",
       "      <td>0</td>\n",
       "      <td>0</td>\n",
       "      <td>0</td>\n",
       "      <td>0</td>\n",
       "      <td>0</td>\n",
       "    </tr>\n",
       "    <tr>\n",
       "      <th>14</th>\n",
       "      <td>0</td>\n",
       "      <td>0</td>\n",
       "      <td>0</td>\n",
       "      <td>1</td>\n",
       "      <td>0</td>\n",
       "      <td>0</td>\n",
       "      <td>0</td>\n",
       "    </tr>\n",
       "    <tr>\n",
       "      <th>22</th>\n",
       "      <td>0</td>\n",
       "      <td>0</td>\n",
       "      <td>0</td>\n",
       "      <td>0</td>\n",
       "      <td>1</td>\n",
       "      <td>0</td>\n",
       "      <td>0</td>\n",
       "    </tr>\n",
       "    <tr>\n",
       "      <th>26</th>\n",
       "      <td>0</td>\n",
       "      <td>0</td>\n",
       "      <td>0</td>\n",
       "      <td>0</td>\n",
       "      <td>1</td>\n",
       "      <td>0</td>\n",
       "      <td>0</td>\n",
       "    </tr>\n",
       "    <tr>\n",
       "      <th>32</th>\n",
       "      <td>0</td>\n",
       "      <td>1</td>\n",
       "      <td>0</td>\n",
       "      <td>0</td>\n",
       "      <td>0</td>\n",
       "      <td>0</td>\n",
       "      <td>0</td>\n",
       "    </tr>\n",
       "  </tbody>\n",
       "</table>\n",
       "</div>"
      ],
      "text/plain": [
       "    day_0  day_1  day_2  day_3  day_4  day_5  day_6\n",
       "8       1      0      0      0      0      0      0\n",
       "14      0      0      0      1      0      0      0\n",
       "22      0      0      0      0      1      0      0\n",
       "26      0      0      0      0      1      0      0\n",
       "32      0      1      0      0      0      0      0"
      ]
     },
     "execution_count": 89,
     "metadata": {},
     "output_type": "execute_result"
    }
   ],
   "source": [
    "dataP_imp.filter(like='day').head()"
   ]
  },
  {
   "cell_type": "code",
   "execution_count": 90,
   "metadata": {},
   "outputs": [
    {
     "data": {
      "text/plain": [
       "(97009, 31)"
      ]
     },
     "execution_count": 90,
     "metadata": {},
     "output_type": "execute_result"
    }
   ],
   "source": [
    "dataP_imp.shape"
   ]
  },
  {
   "cell_type": "markdown",
   "metadata": {},
   "source": [
    "##### 2. Label Encoding"
   ]
  },
  {
   "cell_type": "code",
   "execution_count": 91,
   "metadata": {},
   "outputs": [
    {
     "data": {
      "text/plain": [
       "4    32161\n",
       "5    25943\n",
       "3    16402\n",
       "6    14387\n",
       "7     4158\n",
       "2     3072\n",
       "8      502\n",
       "1      210\n",
       "0      174\n",
       "Name: car_value, dtype: int64"
      ]
     },
     "execution_count": 91,
     "metadata": {},
     "output_type": "execute_result"
    }
   ],
   "source": [
    "dataP['car_value'].value_counts()"
   ]
  },
  {
   "cell_type": "code",
   "execution_count": 92,
   "metadata": {},
   "outputs": [],
   "source": [
    "dataP['car_value'] = dataP['car_value'].astype('category')"
   ]
  },
  {
   "cell_type": "code",
   "execution_count": 93,
   "metadata": {},
   "outputs": [],
   "source": [
    "dataP['car_value'] = dataP['car_value'].cat.codes"
   ]
  },
  {
   "cell_type": "code",
   "execution_count": 94,
   "metadata": {},
   "outputs": [
    {
     "data": {
      "text/plain": [
       "4    32161\n",
       "5    25943\n",
       "3    16402\n",
       "6    14387\n",
       "7     4158\n",
       "2     3072\n",
       "8      502\n",
       "1      210\n",
       "0      174\n",
       "Name: car_value, dtype: int64"
      ]
     },
     "execution_count": 94,
     "metadata": {},
     "output_type": "execute_result"
    }
   ],
   "source": [
    "dataP['car_value'].value_counts()"
   ]
  },
  {
   "cell_type": "markdown",
   "metadata": {},
   "source": [
    "### Feature Scaling\n",
    "##### 1. Min-max scaling ( 0 ~ 1 사이 )"
   ]
  },
  {
   "cell_type": "code",
   "execution_count": 95,
   "metadata": {},
   "outputs": [
    {
     "name": "stdout",
     "output_type": "stream",
     "text": [
      "<class 'pandas.core.frame.DataFrame'>\n",
      "Int64Index: 97009 entries, 8 to 665248\n",
      "Data columns (total 27 columns):\n",
      " #   Column             Non-Null Count  Dtype  \n",
      "---  ------             --------------  -----  \n",
      " 0   shopping_pt        97009 non-null  int32  \n",
      " 1   state              97009 non-null  int32  \n",
      " 2   group_size         97009 non-null  float64\n",
      " 3   homeowner          97009 non-null  int32  \n",
      " 4   car_age            97009 non-null  float64\n",
      " 5   car_value          97009 non-null  int32  \n",
      " 6   risk_factor        97009 non-null  int32  \n",
      " 7   age_oldest         97009 non-null  float64\n",
      " 8   age_youngest       97009 non-null  float64\n",
      " 9   married_couple     97009 non-null  int32  \n",
      " 10  C_previous         97009 non-null  int32  \n",
      " 11  duration_previous  97009 non-null  float64\n",
      " 12  A                  97009 non-null  int64  \n",
      " 13  B                  97009 non-null  int64  \n",
      " 14  C                  97009 non-null  int64  \n",
      " 15  D                  97009 non-null  int64  \n",
      " 16  E                  97009 non-null  int64  \n",
      " 17  F                  97009 non-null  int64  \n",
      " 18  G                  97009 non-null  int64  \n",
      " 19  cost               97009 non-null  float64\n",
      " 20  day_0              97009 non-null  uint8  \n",
      " 21  day_1              97009 non-null  uint8  \n",
      " 22  day_2              97009 non-null  uint8  \n",
      " 23  day_3              97009 non-null  uint8  \n",
      " 24  day_4              97009 non-null  uint8  \n",
      " 25  day_5              97009 non-null  uint8  \n",
      " 26  day_6              97009 non-null  uint8  \n",
      "dtypes: float64(6), int32(7), int64(7), uint8(7)\n",
      "memory usage: 13.6 MB\n"
     ]
    }
   ],
   "source": [
    "dataP_imp = dataP_imp.drop(['customer_ID', 'record_type', 'time','location'], axis=1)\n",
    "dataP_imp.info()"
   ]
  },
  {
   "cell_type": "code",
   "execution_count": 96,
   "metadata": {},
   "outputs": [
    {
     "data": {
      "text/plain": [
       "MinMaxScaler()"
      ]
     },
     "execution_count": 96,
     "metadata": {},
     "output_type": "execute_result"
    }
   ],
   "source": [
    "from sklearn.preprocessing import MinMaxScaler\n",
    "scaler = MinMaxScaler()\n",
    "scaler.fit(dataP_imp)"
   ]
  },
  {
   "cell_type": "code",
   "execution_count": 97,
   "metadata": {},
   "outputs": [
    {
     "data": {
      "text/plain": [
       "array([[0.6       , 0.28571429, 0.33333333, ..., 0.        , 0.        ,\n",
       "        0.        ],\n",
       "       [0.3       , 0.65714286, 0.        , ..., 0.        , 0.        ,\n",
       "        0.        ],\n",
       "       [0.5       , 0.77142857, 0.        , ..., 1.        , 0.        ,\n",
       "        0.        ],\n",
       "       ...,\n",
       "       [0.3       , 0.08571429, 0.        , ..., 1.        , 0.        ,\n",
       "        0.        ],\n",
       "       [0.        , 0.17142857, 0.        , ..., 0.        , 0.        ,\n",
       "        0.        ],\n",
       "       [0.3       , 0.34285714, 0.        , ..., 0.        , 0.        ,\n",
       "        0.        ]])"
      ]
     },
     "execution_count": 97,
     "metadata": {},
     "output_type": "execute_result"
    }
   ],
   "source": [
    "x = scaler.transform(dataP_imp)\n",
    "x"
   ]
  },
  {
   "cell_type": "code",
   "execution_count": 98,
   "metadata": {},
   "outputs": [
    {
     "data": {
      "text/html": [
       "<div>\n",
       "<style scoped>\n",
       "    .dataframe tbody tr th:only-of-type {\n",
       "        vertical-align: middle;\n",
       "    }\n",
       "\n",
       "    .dataframe tbody tr th {\n",
       "        vertical-align: top;\n",
       "    }\n",
       "\n",
       "    .dataframe thead th {\n",
       "        text-align: right;\n",
       "    }\n",
       "</style>\n",
       "<table border=\"1\" class=\"dataframe\">\n",
       "  <thead>\n",
       "    <tr style=\"text-align: right;\">\n",
       "      <th></th>\n",
       "      <th>shopping_pt</th>\n",
       "      <th>state</th>\n",
       "      <th>group_size</th>\n",
       "      <th>homeowner</th>\n",
       "      <th>car_age</th>\n",
       "      <th>car_value</th>\n",
       "      <th>risk_factor</th>\n",
       "      <th>age_oldest</th>\n",
       "      <th>age_youngest</th>\n",
       "      <th>married_couple</th>\n",
       "      <th>...</th>\n",
       "      <th>F</th>\n",
       "      <th>G</th>\n",
       "      <th>cost</th>\n",
       "      <th>day_0</th>\n",
       "      <th>day_1</th>\n",
       "      <th>day_2</th>\n",
       "      <th>day_3</th>\n",
       "      <th>day_4</th>\n",
       "      <th>day_5</th>\n",
       "      <th>day_6</th>\n",
       "    </tr>\n",
       "  </thead>\n",
       "  <tbody>\n",
       "    <tr>\n",
       "      <th>0</th>\n",
       "      <td>0.6</td>\n",
       "      <td>0.285714</td>\n",
       "      <td>0.333333</td>\n",
       "      <td>0.0</td>\n",
       "      <td>0.023529</td>\n",
       "      <td>0.750</td>\n",
       "      <td>0.666667</td>\n",
       "      <td>0.491228</td>\n",
       "      <td>0.440678</td>\n",
       "      <td>1.0</td>\n",
       "      <td>...</td>\n",
       "      <td>0.666667</td>\n",
       "      <td>0.000000</td>\n",
       "      <td>0.644097</td>\n",
       "      <td>1.0</td>\n",
       "      <td>0.0</td>\n",
       "      <td>0.0</td>\n",
       "      <td>0.0</td>\n",
       "      <td>0.0</td>\n",
       "      <td>0.0</td>\n",
       "      <td>0.0</td>\n",
       "    </tr>\n",
       "    <tr>\n",
       "      <th>1</th>\n",
       "      <td>0.3</td>\n",
       "      <td>0.657143</td>\n",
       "      <td>0.000000</td>\n",
       "      <td>0.0</td>\n",
       "      <td>0.117647</td>\n",
       "      <td>0.500</td>\n",
       "      <td>1.000000</td>\n",
       "      <td>0.175439</td>\n",
       "      <td>0.203390</td>\n",
       "      <td>0.0</td>\n",
       "      <td>...</td>\n",
       "      <td>0.000000</td>\n",
       "      <td>0.333333</td>\n",
       "      <td>0.812500</td>\n",
       "      <td>0.0</td>\n",
       "      <td>0.0</td>\n",
       "      <td>0.0</td>\n",
       "      <td>1.0</td>\n",
       "      <td>0.0</td>\n",
       "      <td>0.0</td>\n",
       "      <td>0.0</td>\n",
       "    </tr>\n",
       "    <tr>\n",
       "      <th>2</th>\n",
       "      <td>0.5</td>\n",
       "      <td>0.771429</td>\n",
       "      <td>0.000000</td>\n",
       "      <td>0.0</td>\n",
       "      <td>0.129412</td>\n",
       "      <td>0.250</td>\n",
       "      <td>0.666667</td>\n",
       "      <td>0.438596</td>\n",
       "      <td>0.457627</td>\n",
       "      <td>0.0</td>\n",
       "      <td>...</td>\n",
       "      <td>0.000000</td>\n",
       "      <td>0.000000</td>\n",
       "      <td>0.588542</td>\n",
       "      <td>0.0</td>\n",
       "      <td>0.0</td>\n",
       "      <td>0.0</td>\n",
       "      <td>0.0</td>\n",
       "      <td>1.0</td>\n",
       "      <td>0.0</td>\n",
       "      <td>0.0</td>\n",
       "    </tr>\n",
       "    <tr>\n",
       "      <th>3</th>\n",
       "      <td>0.1</td>\n",
       "      <td>0.971429</td>\n",
       "      <td>0.333333</td>\n",
       "      <td>1.0</td>\n",
       "      <td>0.035294</td>\n",
       "      <td>0.375</td>\n",
       "      <td>0.666667</td>\n",
       "      <td>0.771930</td>\n",
       "      <td>0.745763</td>\n",
       "      <td>1.0</td>\n",
       "      <td>...</td>\n",
       "      <td>0.333333</td>\n",
       "      <td>0.666667</td>\n",
       "      <td>0.630208</td>\n",
       "      <td>0.0</td>\n",
       "      <td>0.0</td>\n",
       "      <td>0.0</td>\n",
       "      <td>0.0</td>\n",
       "      <td>1.0</td>\n",
       "      <td>0.0</td>\n",
       "      <td>0.0</td>\n",
       "    </tr>\n",
       "    <tr>\n",
       "      <th>4</th>\n",
       "      <td>0.3</td>\n",
       "      <td>0.428571</td>\n",
       "      <td>0.000000</td>\n",
       "      <td>0.0</td>\n",
       "      <td>0.058824</td>\n",
       "      <td>0.375</td>\n",
       "      <td>0.666667</td>\n",
       "      <td>0.245614</td>\n",
       "      <td>0.203390</td>\n",
       "      <td>1.0</td>\n",
       "      <td>...</td>\n",
       "      <td>0.666667</td>\n",
       "      <td>0.333333</td>\n",
       "      <td>0.609375</td>\n",
       "      <td>0.0</td>\n",
       "      <td>1.0</td>\n",
       "      <td>0.0</td>\n",
       "      <td>0.0</td>\n",
       "      <td>0.0</td>\n",
       "      <td>0.0</td>\n",
       "      <td>0.0</td>\n",
       "    </tr>\n",
       "  </tbody>\n",
       "</table>\n",
       "<p>5 rows × 27 columns</p>\n",
       "</div>"
      ],
      "text/plain": [
       "   shopping_pt     state  group_size  homeowner   car_age  car_value  \\\n",
       "0          0.6  0.285714    0.333333        0.0  0.023529      0.750   \n",
       "1          0.3  0.657143    0.000000        0.0  0.117647      0.500   \n",
       "2          0.5  0.771429    0.000000        0.0  0.129412      0.250   \n",
       "3          0.1  0.971429    0.333333        1.0  0.035294      0.375   \n",
       "4          0.3  0.428571    0.000000        0.0  0.058824      0.375   \n",
       "\n",
       "   risk_factor  age_oldest  age_youngest  married_couple  ...         F  \\\n",
       "0     0.666667    0.491228      0.440678             1.0  ...  0.666667   \n",
       "1     1.000000    0.175439      0.203390             0.0  ...  0.000000   \n",
       "2     0.666667    0.438596      0.457627             0.0  ...  0.000000   \n",
       "3     0.666667    0.771930      0.745763             1.0  ...  0.333333   \n",
       "4     0.666667    0.245614      0.203390             1.0  ...  0.666667   \n",
       "\n",
       "          G      cost  day_0  day_1  day_2  day_3  day_4  day_5  day_6  \n",
       "0  0.000000  0.644097    1.0    0.0    0.0    0.0    0.0    0.0    0.0  \n",
       "1  0.333333  0.812500    0.0    0.0    0.0    1.0    0.0    0.0    0.0  \n",
       "2  0.000000  0.588542    0.0    0.0    0.0    0.0    1.0    0.0    0.0  \n",
       "3  0.666667  0.630208    0.0    0.0    0.0    0.0    1.0    0.0    0.0  \n",
       "4  0.333333  0.609375    0.0    1.0    0.0    0.0    0.0    0.0    0.0  \n",
       "\n",
       "[5 rows x 27 columns]"
      ]
     },
     "execution_count": 98,
     "metadata": {},
     "output_type": "execute_result"
    }
   ],
   "source": [
    "dataP_imp_s = pd.DataFrame(x, columns=dataP_imp.columns)\n",
    "dataP_imp_s.head()"
   ]
  },
  {
   "cell_type": "code",
   "execution_count": 100,
   "metadata": {},
   "outputs": [
    {
     "data": {
      "text/html": [
       "<div>\n",
       "<style scoped>\n",
       "    .dataframe tbody tr th:only-of-type {\n",
       "        vertical-align: middle;\n",
       "    }\n",
       "\n",
       "    .dataframe tbody tr th {\n",
       "        vertical-align: top;\n",
       "    }\n",
       "\n",
       "    .dataframe thead th {\n",
       "        text-align: right;\n",
       "    }\n",
       "</style>\n",
       "<table border=\"1\" class=\"dataframe\">\n",
       "  <thead>\n",
       "    <tr style=\"text-align: right;\">\n",
       "      <th></th>\n",
       "      <th>count</th>\n",
       "      <th>mean</th>\n",
       "      <th>std</th>\n",
       "      <th>min</th>\n",
       "      <th>25%</th>\n",
       "      <th>50%</th>\n",
       "      <th>75%</th>\n",
       "      <th>max</th>\n",
       "    </tr>\n",
       "  </thead>\n",
       "  <tbody>\n",
       "    <tr>\n",
       "      <th>shopping_pt</th>\n",
       "      <td>97009.0</td>\n",
       "      <td>0.385760</td>\n",
       "      <td>0.199836</td>\n",
       "      <td>0.0</td>\n",
       "      <td>0.200000</td>\n",
       "      <td>0.400000</td>\n",
       "      <td>0.500000</td>\n",
       "      <td>1.0</td>\n",
       "    </tr>\n",
       "    <tr>\n",
       "      <th>state</th>\n",
       "      <td>97009.0</td>\n",
       "      <td>0.483866</td>\n",
       "      <td>0.288620</td>\n",
       "      <td>0.0</td>\n",
       "      <td>0.171429</td>\n",
       "      <td>0.571429</td>\n",
       "      <td>0.714286</td>\n",
       "      <td>1.0</td>\n",
       "    </tr>\n",
       "    <tr>\n",
       "      <th>group_size</th>\n",
       "      <td>97009.0</td>\n",
       "      <td>0.078539</td>\n",
       "      <td>0.153932</td>\n",
       "      <td>0.0</td>\n",
       "      <td>0.000000</td>\n",
       "      <td>0.000000</td>\n",
       "      <td>0.000000</td>\n",
       "      <td>1.0</td>\n",
       "    </tr>\n",
       "    <tr>\n",
       "      <th>homeowner</th>\n",
       "      <td>97009.0</td>\n",
       "      <td>0.545485</td>\n",
       "      <td>0.497929</td>\n",
       "      <td>0.0</td>\n",
       "      <td>0.000000</td>\n",
       "      <td>1.000000</td>\n",
       "      <td>1.000000</td>\n",
       "      <td>1.0</td>\n",
       "    </tr>\n",
       "    <tr>\n",
       "      <th>car_age</th>\n",
       "      <td>97009.0</td>\n",
       "      <td>0.096248</td>\n",
       "      <td>0.068194</td>\n",
       "      <td>0.0</td>\n",
       "      <td>0.035294</td>\n",
       "      <td>0.094118</td>\n",
       "      <td>0.141176</td>\n",
       "      <td>1.0</td>\n",
       "    </tr>\n",
       "    <tr>\n",
       "      <th>car_value</th>\n",
       "      <td>97009.0</td>\n",
       "      <td>0.558406</td>\n",
       "      <td>0.150770</td>\n",
       "      <td>0.0</td>\n",
       "      <td>0.500000</td>\n",
       "      <td>0.500000</td>\n",
       "      <td>0.625000</td>\n",
       "      <td>1.0</td>\n",
       "    </tr>\n",
       "    <tr>\n",
       "      <th>risk_factor</th>\n",
       "      <td>97009.0</td>\n",
       "      <td>0.572363</td>\n",
       "      <td>0.307027</td>\n",
       "      <td>0.0</td>\n",
       "      <td>0.333333</td>\n",
       "      <td>0.666667</td>\n",
       "      <td>0.666667</td>\n",
       "      <td>1.0</td>\n",
       "    </tr>\n",
       "    <tr>\n",
       "      <th>age_oldest</th>\n",
       "      <td>97009.0</td>\n",
       "      <td>0.476871</td>\n",
       "      <td>0.305082</td>\n",
       "      <td>0.0</td>\n",
       "      <td>0.192982</td>\n",
       "      <td>0.456140</td>\n",
       "      <td>0.736842</td>\n",
       "      <td>1.0</td>\n",
       "    </tr>\n",
       "    <tr>\n",
       "      <th>age_youngest</th>\n",
       "      <td>97009.0</td>\n",
       "      <td>0.452247</td>\n",
       "      <td>0.296423</td>\n",
       "      <td>0.0</td>\n",
       "      <td>0.169492</td>\n",
       "      <td>0.406780</td>\n",
       "      <td>0.694915</td>\n",
       "      <td>1.0</td>\n",
       "    </tr>\n",
       "    <tr>\n",
       "      <th>married_couple</th>\n",
       "      <td>97009.0</td>\n",
       "      <td>0.211692</td>\n",
       "      <td>0.408510</td>\n",
       "      <td>0.0</td>\n",
       "      <td>0.000000</td>\n",
       "      <td>0.000000</td>\n",
       "      <td>0.000000</td>\n",
       "      <td>1.0</td>\n",
       "    </tr>\n",
       "    <tr>\n",
       "      <th>C_previous</th>\n",
       "      <td>97009.0</td>\n",
       "      <td>0.486230</td>\n",
       "      <td>0.343398</td>\n",
       "      <td>0.0</td>\n",
       "      <td>0.000000</td>\n",
       "      <td>0.666667</td>\n",
       "      <td>0.666667</td>\n",
       "      <td>1.0</td>\n",
       "    </tr>\n",
       "    <tr>\n",
       "      <th>duration_previous</th>\n",
       "      <td>97009.0</td>\n",
       "      <td>0.405556</td>\n",
       "      <td>0.311994</td>\n",
       "      <td>0.0</td>\n",
       "      <td>0.133333</td>\n",
       "      <td>0.333333</td>\n",
       "      <td>0.600000</td>\n",
       "      <td>1.0</td>\n",
       "    </tr>\n",
       "    <tr>\n",
       "      <th>A</th>\n",
       "      <td>97009.0</td>\n",
       "      <td>0.472533</td>\n",
       "      <td>0.309352</td>\n",
       "      <td>0.0</td>\n",
       "      <td>0.500000</td>\n",
       "      <td>0.500000</td>\n",
       "      <td>0.500000</td>\n",
       "      <td>1.0</td>\n",
       "    </tr>\n",
       "    <tr>\n",
       "      <th>B</th>\n",
       "      <td>97009.0</td>\n",
       "      <td>0.476090</td>\n",
       "      <td>0.499431</td>\n",
       "      <td>0.0</td>\n",
       "      <td>0.000000</td>\n",
       "      <td>0.000000</td>\n",
       "      <td>1.000000</td>\n",
       "      <td>1.0</td>\n",
       "    </tr>\n",
       "    <tr>\n",
       "      <th>C</th>\n",
       "      <td>97009.0</td>\n",
       "      <td>0.430541</td>\n",
       "      <td>0.333914</td>\n",
       "      <td>0.0</td>\n",
       "      <td>0.000000</td>\n",
       "      <td>0.333333</td>\n",
       "      <td>0.666667</td>\n",
       "      <td>1.0</td>\n",
       "    </tr>\n",
       "    <tr>\n",
       "      <th>D</th>\n",
       "      <td>97009.0</td>\n",
       "      <td>0.758126</td>\n",
       "      <td>0.357088</td>\n",
       "      <td>0.0</td>\n",
       "      <td>0.500000</td>\n",
       "      <td>1.000000</td>\n",
       "      <td>1.000000</td>\n",
       "      <td>1.0</td>\n",
       "    </tr>\n",
       "    <tr>\n",
       "      <th>E</th>\n",
       "      <td>97009.0</td>\n",
       "      <td>0.462607</td>\n",
       "      <td>0.498602</td>\n",
       "      <td>0.0</td>\n",
       "      <td>0.000000</td>\n",
       "      <td>0.000000</td>\n",
       "      <td>1.000000</td>\n",
       "      <td>1.0</td>\n",
       "    </tr>\n",
       "    <tr>\n",
       "      <th>F</th>\n",
       "      <td>97009.0</td>\n",
       "      <td>0.388954</td>\n",
       "      <td>0.316110</td>\n",
       "      <td>0.0</td>\n",
       "      <td>0.000000</td>\n",
       "      <td>0.333333</td>\n",
       "      <td>0.666667</td>\n",
       "      <td>1.0</td>\n",
       "    </tr>\n",
       "    <tr>\n",
       "      <th>G</th>\n",
       "      <td>97009.0</td>\n",
       "      <td>0.426088</td>\n",
       "      <td>0.296107</td>\n",
       "      <td>0.0</td>\n",
       "      <td>0.333333</td>\n",
       "      <td>0.333333</td>\n",
       "      <td>0.666667</td>\n",
       "      <td>1.0</td>\n",
       "    </tr>\n",
       "    <tr>\n",
       "      <th>cost</th>\n",
       "      <td>97009.0</td>\n",
       "      <td>0.644911</td>\n",
       "      <td>0.074767</td>\n",
       "      <td>0.0</td>\n",
       "      <td>0.593750</td>\n",
       "      <td>0.644097</td>\n",
       "      <td>0.694444</td>\n",
       "      <td>1.0</td>\n",
       "    </tr>\n",
       "    <tr>\n",
       "      <th>day_0</th>\n",
       "      <td>97009.0</td>\n",
       "      <td>0.191560</td>\n",
       "      <td>0.393530</td>\n",
       "      <td>0.0</td>\n",
       "      <td>0.000000</td>\n",
       "      <td>0.000000</td>\n",
       "      <td>0.000000</td>\n",
       "      <td>1.0</td>\n",
       "    </tr>\n",
       "    <tr>\n",
       "      <th>day_1</th>\n",
       "      <td>97009.0</td>\n",
       "      <td>0.198373</td>\n",
       "      <td>0.398777</td>\n",
       "      <td>0.0</td>\n",
       "      <td>0.000000</td>\n",
       "      <td>0.000000</td>\n",
       "      <td>0.000000</td>\n",
       "      <td>1.0</td>\n",
       "    </tr>\n",
       "    <tr>\n",
       "      <th>day_2</th>\n",
       "      <td>97009.0</td>\n",
       "      <td>0.194054</td>\n",
       "      <td>0.395473</td>\n",
       "      <td>0.0</td>\n",
       "      <td>0.000000</td>\n",
       "      <td>0.000000</td>\n",
       "      <td>0.000000</td>\n",
       "      <td>1.0</td>\n",
       "    </tr>\n",
       "    <tr>\n",
       "      <th>day_3</th>\n",
       "      <td>97009.0</td>\n",
       "      <td>0.185076</td>\n",
       "      <td>0.388361</td>\n",
       "      <td>0.0</td>\n",
       "      <td>0.000000</td>\n",
       "      <td>0.000000</td>\n",
       "      <td>0.000000</td>\n",
       "      <td>1.0</td>\n",
       "    </tr>\n",
       "    <tr>\n",
       "      <th>day_4</th>\n",
       "      <td>97009.0</td>\n",
       "      <td>0.214939</td>\n",
       "      <td>0.410782</td>\n",
       "      <td>0.0</td>\n",
       "      <td>0.000000</td>\n",
       "      <td>0.000000</td>\n",
       "      <td>0.000000</td>\n",
       "      <td>1.0</td>\n",
       "    </tr>\n",
       "    <tr>\n",
       "      <th>day_5</th>\n",
       "      <td>97009.0</td>\n",
       "      <td>0.014772</td>\n",
       "      <td>0.120639</td>\n",
       "      <td>0.0</td>\n",
       "      <td>0.000000</td>\n",
       "      <td>0.000000</td>\n",
       "      <td>0.000000</td>\n",
       "      <td>1.0</td>\n",
       "    </tr>\n",
       "    <tr>\n",
       "      <th>day_6</th>\n",
       "      <td>97009.0</td>\n",
       "      <td>0.001227</td>\n",
       "      <td>0.035003</td>\n",
       "      <td>0.0</td>\n",
       "      <td>0.000000</td>\n",
       "      <td>0.000000</td>\n",
       "      <td>0.000000</td>\n",
       "      <td>1.0</td>\n",
       "    </tr>\n",
       "  </tbody>\n",
       "</table>\n",
       "</div>"
      ],
      "text/plain": [
       "                     count      mean       std  min       25%       50%  \\\n",
       "shopping_pt        97009.0  0.385760  0.199836  0.0  0.200000  0.400000   \n",
       "state              97009.0  0.483866  0.288620  0.0  0.171429  0.571429   \n",
       "group_size         97009.0  0.078539  0.153932  0.0  0.000000  0.000000   \n",
       "homeowner          97009.0  0.545485  0.497929  0.0  0.000000  1.000000   \n",
       "car_age            97009.0  0.096248  0.068194  0.0  0.035294  0.094118   \n",
       "car_value          97009.0  0.558406  0.150770  0.0  0.500000  0.500000   \n",
       "risk_factor        97009.0  0.572363  0.307027  0.0  0.333333  0.666667   \n",
       "age_oldest         97009.0  0.476871  0.305082  0.0  0.192982  0.456140   \n",
       "age_youngest       97009.0  0.452247  0.296423  0.0  0.169492  0.406780   \n",
       "married_couple     97009.0  0.211692  0.408510  0.0  0.000000  0.000000   \n",
       "C_previous         97009.0  0.486230  0.343398  0.0  0.000000  0.666667   \n",
       "duration_previous  97009.0  0.405556  0.311994  0.0  0.133333  0.333333   \n",
       "A                  97009.0  0.472533  0.309352  0.0  0.500000  0.500000   \n",
       "B                  97009.0  0.476090  0.499431  0.0  0.000000  0.000000   \n",
       "C                  97009.0  0.430541  0.333914  0.0  0.000000  0.333333   \n",
       "D                  97009.0  0.758126  0.357088  0.0  0.500000  1.000000   \n",
       "E                  97009.0  0.462607  0.498602  0.0  0.000000  0.000000   \n",
       "F                  97009.0  0.388954  0.316110  0.0  0.000000  0.333333   \n",
       "G                  97009.0  0.426088  0.296107  0.0  0.333333  0.333333   \n",
       "cost               97009.0  0.644911  0.074767  0.0  0.593750  0.644097   \n",
       "day_0              97009.0  0.191560  0.393530  0.0  0.000000  0.000000   \n",
       "day_1              97009.0  0.198373  0.398777  0.0  0.000000  0.000000   \n",
       "day_2              97009.0  0.194054  0.395473  0.0  0.000000  0.000000   \n",
       "day_3              97009.0  0.185076  0.388361  0.0  0.000000  0.000000   \n",
       "day_4              97009.0  0.214939  0.410782  0.0  0.000000  0.000000   \n",
       "day_5              97009.0  0.014772  0.120639  0.0  0.000000  0.000000   \n",
       "day_6              97009.0  0.001227  0.035003  0.0  0.000000  0.000000   \n",
       "\n",
       "                        75%  max  \n",
       "shopping_pt        0.500000  1.0  \n",
       "state              0.714286  1.0  \n",
       "group_size         0.000000  1.0  \n",
       "homeowner          1.000000  1.0  \n",
       "car_age            0.141176  1.0  \n",
       "car_value          0.625000  1.0  \n",
       "risk_factor        0.666667  1.0  \n",
       "age_oldest         0.736842  1.0  \n",
       "age_youngest       0.694915  1.0  \n",
       "married_couple     0.000000  1.0  \n",
       "C_previous         0.666667  1.0  \n",
       "duration_previous  0.600000  1.0  \n",
       "A                  0.500000  1.0  \n",
       "B                  1.000000  1.0  \n",
       "C                  0.666667  1.0  \n",
       "D                  1.000000  1.0  \n",
       "E                  1.000000  1.0  \n",
       "F                  0.666667  1.0  \n",
       "G                  0.666667  1.0  \n",
       "cost               0.694444  1.0  \n",
       "day_0              0.000000  1.0  \n",
       "day_1              0.000000  1.0  \n",
       "day_2              0.000000  1.0  \n",
       "day_3              0.000000  1.0  \n",
       "day_4              0.000000  1.0  \n",
       "day_5              0.000000  1.0  \n",
       "day_6              0.000000  1.0  "
      ]
     },
     "execution_count": 100,
     "metadata": {},
     "output_type": "execute_result"
    }
   ],
   "source": [
    "dataP_imp_s.describe().T"
   ]
  },
  {
   "cell_type": "markdown",
   "metadata": {},
   "source": [
    "##### 2. Standardization"
   ]
  },
  {
   "cell_type": "code",
   "execution_count": 101,
   "metadata": {},
   "outputs": [
    {
     "data": {
      "text/plain": [
       "StandardScaler()"
      ]
     },
     "execution_count": 101,
     "metadata": {},
     "output_type": "execute_result"
    }
   ],
   "source": [
    "from sklearn.preprocessing import StandardScaler\n",
    "scaler = StandardScaler()\n",
    "scaler.fit(dataP_imp)"
   ]
  },
  {
   "cell_type": "code",
   "execution_count": 102,
   "metadata": {},
   "outputs": [
    {
     "data": {
      "text/plain": [
       "array([[ 1.07208558, -0.68655238,  1.65524735, ..., -0.52324571,\n",
       "        -0.12244715, -0.03504564],\n",
       "       [-0.42915509,  0.60036737, -0.51022209, ..., -0.52324571,\n",
       "        -0.12244715, -0.03504564],\n",
       "       [ 0.57167202,  0.99634268, -0.51022209, ...,  1.911148  ,\n",
       "        -0.12244715, -0.03504564],\n",
       "       ...,\n",
       "       [-0.42915509, -1.37950917, -0.51022209, ...,  1.911148  ,\n",
       "        -0.12244715, -0.03504564],\n",
       "       [-1.93039575, -1.08252769, -0.51022209, ..., -0.52324571,\n",
       "        -0.12244715, -0.03504564],\n",
       "       [-0.42915509, -0.48856473, -0.51022209, ..., -0.52324571,\n",
       "        -0.12244715, -0.03504564]])"
      ]
     },
     "execution_count": 102,
     "metadata": {},
     "output_type": "execute_result"
    }
   ],
   "source": [
    "x = scaler.transform(dataP_imp)\n",
    "x"
   ]
  },
  {
   "cell_type": "code",
   "execution_count": 104,
   "metadata": {},
   "outputs": [
    {
     "data": {
      "text/html": [
       "<div>\n",
       "<style scoped>\n",
       "    .dataframe tbody tr th:only-of-type {\n",
       "        vertical-align: middle;\n",
       "    }\n",
       "\n",
       "    .dataframe tbody tr th {\n",
       "        vertical-align: top;\n",
       "    }\n",
       "\n",
       "    .dataframe thead th {\n",
       "        text-align: right;\n",
       "    }\n",
       "</style>\n",
       "<table border=\"1\" class=\"dataframe\">\n",
       "  <thead>\n",
       "    <tr style=\"text-align: right;\">\n",
       "      <th></th>\n",
       "      <th>shopping_pt</th>\n",
       "      <th>state</th>\n",
       "      <th>group_size</th>\n",
       "      <th>homeowner</th>\n",
       "      <th>car_age</th>\n",
       "      <th>car_value</th>\n",
       "      <th>risk_factor</th>\n",
       "      <th>age_oldest</th>\n",
       "      <th>age_youngest</th>\n",
       "      <th>married_couple</th>\n",
       "      <th>...</th>\n",
       "      <th>F</th>\n",
       "      <th>G</th>\n",
       "      <th>cost</th>\n",
       "      <th>day_0</th>\n",
       "      <th>day_1</th>\n",
       "      <th>day_2</th>\n",
       "      <th>day_3</th>\n",
       "      <th>day_4</th>\n",
       "      <th>day_5</th>\n",
       "      <th>day_6</th>\n",
       "    </tr>\n",
       "  </thead>\n",
       "  <tbody>\n",
       "    <tr>\n",
       "      <th>0</th>\n",
       "      <td>1.072086</td>\n",
       "      <td>-0.686552</td>\n",
       "      <td>1.655247</td>\n",
       "      <td>-1.095513</td>\n",
       "      <td>-1.066349</td>\n",
       "      <td>1.270775</td>\n",
       "      <td>0.307154</td>\n",
       "      <td>0.047061</td>\n",
       "      <td>-0.039027</td>\n",
       "      <td>1.929728</td>\n",
       "      <td>...</td>\n",
       "      <td>0.878538</td>\n",
       "      <td>-1.438971</td>\n",
       "      <td>-0.010880</td>\n",
       "      <td>2.054339</td>\n",
       "      <td>-0.497457</td>\n",
       "      <td>-0.490692</td>\n",
       "      <td>-0.476558</td>\n",
       "      <td>-0.523246</td>\n",
       "      <td>-0.122447</td>\n",
       "      <td>-0.035046</td>\n",
       "    </tr>\n",
       "    <tr>\n",
       "      <th>1</th>\n",
       "      <td>-0.429155</td>\n",
       "      <td>0.600367</td>\n",
       "      <td>-0.510222</td>\n",
       "      <td>-1.095513</td>\n",
       "      <td>0.313800</td>\n",
       "      <td>-0.387383</td>\n",
       "      <td>1.392841</td>\n",
       "      <td>-0.988043</td>\n",
       "      <td>-0.839537</td>\n",
       "      <td>-0.518208</td>\n",
       "      <td>...</td>\n",
       "      <td>-1.230445</td>\n",
       "      <td>-0.313247</td>\n",
       "      <td>2.241491</td>\n",
       "      <td>-0.486775</td>\n",
       "      <td>-0.497457</td>\n",
       "      <td>-0.490692</td>\n",
       "      <td>2.098380</td>\n",
       "      <td>-0.523246</td>\n",
       "      <td>-0.122447</td>\n",
       "      <td>-0.035046</td>\n",
       "    </tr>\n",
       "    <tr>\n",
       "      <th>2</th>\n",
       "      <td>0.571672</td>\n",
       "      <td>0.996343</td>\n",
       "      <td>-0.510222</td>\n",
       "      <td>-1.095513</td>\n",
       "      <td>0.486319</td>\n",
       "      <td>-2.045542</td>\n",
       "      <td>0.307154</td>\n",
       "      <td>-0.125456</td>\n",
       "      <td>0.018152</td>\n",
       "      <td>-0.518208</td>\n",
       "      <td>...</td>\n",
       "      <td>-1.230445</td>\n",
       "      <td>-1.438971</td>\n",
       "      <td>-0.753929</td>\n",
       "      <td>-0.486775</td>\n",
       "      <td>-0.497457</td>\n",
       "      <td>-0.490692</td>\n",
       "      <td>-0.476558</td>\n",
       "      <td>1.911148</td>\n",
       "      <td>-0.122447</td>\n",
       "      <td>-0.035046</td>\n",
       "    </tr>\n",
       "    <tr>\n",
       "      <th>3</th>\n",
       "      <td>-1.429982</td>\n",
       "      <td>1.689299</td>\n",
       "      <td>1.655247</td>\n",
       "      <td>0.912814</td>\n",
       "      <td>-0.893831</td>\n",
       "      <td>-1.216463</td>\n",
       "      <td>0.307154</td>\n",
       "      <td>0.967154</td>\n",
       "      <td>0.990199</td>\n",
       "      <td>1.929728</td>\n",
       "      <td>...</td>\n",
       "      <td>-0.175953</td>\n",
       "      <td>0.812477</td>\n",
       "      <td>-0.196642</td>\n",
       "      <td>-0.486775</td>\n",
       "      <td>-0.497457</td>\n",
       "      <td>-0.490692</td>\n",
       "      <td>-0.476558</td>\n",
       "      <td>1.911148</td>\n",
       "      <td>-0.122447</td>\n",
       "      <td>-0.035046</td>\n",
       "    </tr>\n",
       "    <tr>\n",
       "      <th>4</th>\n",
       "      <td>-0.429155</td>\n",
       "      <td>-0.191583</td>\n",
       "      <td>-0.510222</td>\n",
       "      <td>-1.095513</td>\n",
       "      <td>-0.548793</td>\n",
       "      <td>-1.216463</td>\n",
       "      <td>0.307154</td>\n",
       "      <td>-0.758019</td>\n",
       "      <td>-0.839537</td>\n",
       "      <td>1.929728</td>\n",
       "      <td>...</td>\n",
       "      <td>0.878538</td>\n",
       "      <td>-0.313247</td>\n",
       "      <td>-0.475286</td>\n",
       "      <td>-0.486775</td>\n",
       "      <td>2.010224</td>\n",
       "      <td>-0.490692</td>\n",
       "      <td>-0.476558</td>\n",
       "      <td>-0.523246</td>\n",
       "      <td>-0.122447</td>\n",
       "      <td>-0.035046</td>\n",
       "    </tr>\n",
       "  </tbody>\n",
       "</table>\n",
       "<p>5 rows × 27 columns</p>\n",
       "</div>"
      ],
      "text/plain": [
       "   shopping_pt     state  group_size  homeowner   car_age  car_value  \\\n",
       "0     1.072086 -0.686552    1.655247  -1.095513 -1.066349   1.270775   \n",
       "1    -0.429155  0.600367   -0.510222  -1.095513  0.313800  -0.387383   \n",
       "2     0.571672  0.996343   -0.510222  -1.095513  0.486319  -2.045542   \n",
       "3    -1.429982  1.689299    1.655247   0.912814 -0.893831  -1.216463   \n",
       "4    -0.429155 -0.191583   -0.510222  -1.095513 -0.548793  -1.216463   \n",
       "\n",
       "   risk_factor  age_oldest  age_youngest  married_couple  ...         F  \\\n",
       "0     0.307154    0.047061     -0.039027        1.929728  ...  0.878538   \n",
       "1     1.392841   -0.988043     -0.839537       -0.518208  ... -1.230445   \n",
       "2     0.307154   -0.125456      0.018152       -0.518208  ... -1.230445   \n",
       "3     0.307154    0.967154      0.990199        1.929728  ... -0.175953   \n",
       "4     0.307154   -0.758019     -0.839537        1.929728  ...  0.878538   \n",
       "\n",
       "          G      cost     day_0     day_1     day_2     day_3     day_4  \\\n",
       "0 -1.438971 -0.010880  2.054339 -0.497457 -0.490692 -0.476558 -0.523246   \n",
       "1 -0.313247  2.241491 -0.486775 -0.497457 -0.490692  2.098380 -0.523246   \n",
       "2 -1.438971 -0.753929 -0.486775 -0.497457 -0.490692 -0.476558  1.911148   \n",
       "3  0.812477 -0.196642 -0.486775 -0.497457 -0.490692 -0.476558  1.911148   \n",
       "4 -0.313247 -0.475286 -0.486775  2.010224 -0.490692 -0.476558 -0.523246   \n",
       "\n",
       "      day_5     day_6  \n",
       "0 -0.122447 -0.035046  \n",
       "1 -0.122447 -0.035046  \n",
       "2 -0.122447 -0.035046  \n",
       "3 -0.122447 -0.035046  \n",
       "4 -0.122447 -0.035046  \n",
       "\n",
       "[5 rows x 27 columns]"
      ]
     },
     "execution_count": 104,
     "metadata": {},
     "output_type": "execute_result"
    }
   ],
   "source": [
    "dataP_imp_s = pd.DataFrame(x, columns=dataP_imp.columns)\n",
    "dataP_imp_s.head()"
   ]
  },
  {
   "cell_type": "code",
   "execution_count": 106,
   "metadata": {},
   "outputs": [
    {
     "data": {
      "text/html": [
       "<div>\n",
       "<style scoped>\n",
       "    .dataframe tbody tr th:only-of-type {\n",
       "        vertical-align: middle;\n",
       "    }\n",
       "\n",
       "    .dataframe tbody tr th {\n",
       "        vertical-align: top;\n",
       "    }\n",
       "\n",
       "    .dataframe thead th {\n",
       "        text-align: right;\n",
       "    }\n",
       "</style>\n",
       "<table border=\"1\" class=\"dataframe\">\n",
       "  <thead>\n",
       "    <tr style=\"text-align: right;\">\n",
       "      <th></th>\n",
       "      <th>count</th>\n",
       "      <th>mean</th>\n",
       "      <th>std</th>\n",
       "      <th>min</th>\n",
       "      <th>25%</th>\n",
       "      <th>50%</th>\n",
       "      <th>75%</th>\n",
       "      <th>max</th>\n",
       "    </tr>\n",
       "  </thead>\n",
       "  <tbody>\n",
       "    <tr>\n",
       "      <th>shopping_pt</th>\n",
       "      <td>97009.0</td>\n",
       "      <td>-1.134155e-15</td>\n",
       "      <td>1.000005</td>\n",
       "      <td>-1.930396</td>\n",
       "      <td>-0.929569</td>\n",
       "      <td>0.071258</td>\n",
       "      <td>0.571672</td>\n",
       "      <td>3.073740</td>\n",
       "    </tr>\n",
       "    <tr>\n",
       "      <th>state</th>\n",
       "      <td>97009.0</td>\n",
       "      <td>1.294966e-16</td>\n",
       "      <td>1.000005</td>\n",
       "      <td>-1.676491</td>\n",
       "      <td>-1.082528</td>\n",
       "      <td>0.303386</td>\n",
       "      <td>0.798355</td>\n",
       "      <td>1.788293</td>\n",
       "    </tr>\n",
       "    <tr>\n",
       "      <th>group_size</th>\n",
       "      <td>97009.0</td>\n",
       "      <td>3.469409e-15</td>\n",
       "      <td>1.000005</td>\n",
       "      <td>-0.510222</td>\n",
       "      <td>-0.510222</td>\n",
       "      <td>-0.510222</td>\n",
       "      <td>-0.510222</td>\n",
       "      <td>5.986186</td>\n",
       "    </tr>\n",
       "    <tr>\n",
       "      <th>homeowner</th>\n",
       "      <td>97009.0</td>\n",
       "      <td>-1.152506e-15</td>\n",
       "      <td>1.000005</td>\n",
       "      <td>-1.095513</td>\n",
       "      <td>-1.095513</td>\n",
       "      <td>0.912814</td>\n",
       "      <td>0.912814</td>\n",
       "      <td>0.912814</td>\n",
       "    </tr>\n",
       "    <tr>\n",
       "      <th>car_age</th>\n",
       "      <td>97009.0</td>\n",
       "      <td>1.387513e-16</td>\n",
       "      <td>1.000005</td>\n",
       "      <td>-1.411386</td>\n",
       "      <td>-0.893831</td>\n",
       "      <td>-0.031237</td>\n",
       "      <td>0.658837</td>\n",
       "      <td>13.252700</td>\n",
       "    </tr>\n",
       "    <tr>\n",
       "      <th>car_value</th>\n",
       "      <td>97009.0</td>\n",
       "      <td>-1.462664e-15</td>\n",
       "      <td>1.000005</td>\n",
       "      <td>-3.703701</td>\n",
       "      <td>-0.387383</td>\n",
       "      <td>-0.387383</td>\n",
       "      <td>0.441696</td>\n",
       "      <td>2.928934</td>\n",
       "    </tr>\n",
       "    <tr>\n",
       "      <th>risk_factor</th>\n",
       "      <td>97009.0</td>\n",
       "      <td>-8.593073e-16</td>\n",
       "      <td>1.000005</td>\n",
       "      <td>-1.864221</td>\n",
       "      <td>-0.778534</td>\n",
       "      <td>0.307154</td>\n",
       "      <td>0.307154</td>\n",
       "      <td>1.392841</td>\n",
       "    </tr>\n",
       "    <tr>\n",
       "      <th>age_oldest</th>\n",
       "      <td>97009.0</td>\n",
       "      <td>4.946145e-16</td>\n",
       "      <td>1.000005</td>\n",
       "      <td>-1.563100</td>\n",
       "      <td>-0.930537</td>\n",
       "      <td>-0.067950</td>\n",
       "      <td>0.852142</td>\n",
       "      <td>1.714729</td>\n",
       "    </tr>\n",
       "    <tr>\n",
       "      <th>age_youngest</th>\n",
       "      <td>97009.0</td>\n",
       "      <td>-2.303648e-16</td>\n",
       "      <td>1.000005</td>\n",
       "      <td>-1.525688</td>\n",
       "      <td>-0.953895</td>\n",
       "      <td>-0.153386</td>\n",
       "      <td>0.818661</td>\n",
       "      <td>1.847888</td>\n",
       "    </tr>\n",
       "    <tr>\n",
       "      <th>married_couple</th>\n",
       "      <td>97009.0</td>\n",
       "      <td>-1.236307e-15</td>\n",
       "      <td>1.000005</td>\n",
       "      <td>-0.518208</td>\n",
       "      <td>-0.518208</td>\n",
       "      <td>-0.518208</td>\n",
       "      <td>-0.518208</td>\n",
       "      <td>1.929728</td>\n",
       "    </tr>\n",
       "    <tr>\n",
       "      <th>C_previous</th>\n",
       "      <td>97009.0</td>\n",
       "      <td>4.124840e-17</td>\n",
       "      <td>1.000005</td>\n",
       "      <td>-1.415943</td>\n",
       "      <td>-1.415943</td>\n",
       "      <td>0.525448</td>\n",
       "      <td>0.525448</td>\n",
       "      <td>1.496143</td>\n",
       "    </tr>\n",
       "    <tr>\n",
       "      <th>duration_previous</th>\n",
       "      <td>97009.0</td>\n",
       "      <td>-9.744450e-18</td>\n",
       "      <td>1.000005</td>\n",
       "      <td>-1.299890</td>\n",
       "      <td>-0.872529</td>\n",
       "      <td>-0.231489</td>\n",
       "      <td>0.623232</td>\n",
       "      <td>1.905313</td>\n",
       "    </tr>\n",
       "    <tr>\n",
       "      <th>A</th>\n",
       "      <td>97009.0</td>\n",
       "      <td>3.089392e-16</td>\n",
       "      <td>1.000005</td>\n",
       "      <td>-1.527500</td>\n",
       "      <td>0.088788</td>\n",
       "      <td>0.088788</td>\n",
       "      <td>0.088788</td>\n",
       "      <td>1.705075</td>\n",
       "    </tr>\n",
       "    <tr>\n",
       "      <th>B</th>\n",
       "      <td>97009.0</td>\n",
       "      <td>2.140014e-16</td>\n",
       "      <td>1.000005</td>\n",
       "      <td>-0.953270</td>\n",
       "      <td>-0.953270</td>\n",
       "      <td>-0.953270</td>\n",
       "      <td>1.049020</td>\n",
       "      <td>1.049020</td>\n",
       "    </tr>\n",
       "    <tr>\n",
       "      <th>C</th>\n",
       "      <td>97009.0</td>\n",
       "      <td>1.041196e-15</td>\n",
       "      <td>1.000005</td>\n",
       "      <td>-1.289385</td>\n",
       "      <td>-1.289385</td>\n",
       "      <td>-0.291117</td>\n",
       "      <td>0.707150</td>\n",
       "      <td>1.705418</td>\n",
       "    </tr>\n",
       "    <tr>\n",
       "      <th>D</th>\n",
       "      <td>97009.0</td>\n",
       "      <td>2.119688e-16</td>\n",
       "      <td>1.000005</td>\n",
       "      <td>-2.123089</td>\n",
       "      <td>-0.722867</td>\n",
       "      <td>0.677356</td>\n",
       "      <td>0.677356</td>\n",
       "      <td>0.677356</td>\n",
       "    </tr>\n",
       "    <tr>\n",
       "      <th>E</th>\n",
       "      <td>97009.0</td>\n",
       "      <td>3.110671e-16</td>\n",
       "      <td>1.000005</td>\n",
       "      <td>-0.927811</td>\n",
       "      <td>-0.927811</td>\n",
       "      <td>-0.927811</td>\n",
       "      <td>1.077805</td>\n",
       "      <td>1.077805</td>\n",
       "    </tr>\n",
       "    <tr>\n",
       "      <th>F</th>\n",
       "      <td>97009.0</td>\n",
       "      <td>-9.529476e-16</td>\n",
       "      <td>1.000005</td>\n",
       "      <td>-1.230445</td>\n",
       "      <td>-1.230445</td>\n",
       "      <td>-0.175953</td>\n",
       "      <td>0.878538</td>\n",
       "      <td>1.933030</td>\n",
       "    </tr>\n",
       "    <tr>\n",
       "      <th>G</th>\n",
       "      <td>97009.0</td>\n",
       "      <td>1.698140e-16</td>\n",
       "      <td>1.000005</td>\n",
       "      <td>-1.438971</td>\n",
       "      <td>-0.313247</td>\n",
       "      <td>-0.313247</td>\n",
       "      <td>0.812477</td>\n",
       "      <td>1.938200</td>\n",
       "    </tr>\n",
       "    <tr>\n",
       "      <th>cost</th>\n",
       "      <td>97009.0</td>\n",
       "      <td>1.010825e-15</td>\n",
       "      <td>1.000005</td>\n",
       "      <td>-8.625614</td>\n",
       "      <td>-0.684268</td>\n",
       "      <td>-0.010880</td>\n",
       "      <td>0.662509</td>\n",
       "      <td>4.749284</td>\n",
       "    </tr>\n",
       "    <tr>\n",
       "      <th>day_0</th>\n",
       "      <td>97009.0</td>\n",
       "      <td>2.277425e-15</td>\n",
       "      <td>1.000005</td>\n",
       "      <td>-0.486775</td>\n",
       "      <td>-0.486775</td>\n",
       "      <td>-0.486775</td>\n",
       "      <td>-0.486775</td>\n",
       "      <td>2.054339</td>\n",
       "    </tr>\n",
       "    <tr>\n",
       "      <th>day_1</th>\n",
       "      <td>97009.0</td>\n",
       "      <td>-1.974228e-15</td>\n",
       "      <td>1.000005</td>\n",
       "      <td>-0.497457</td>\n",
       "      <td>-0.497457</td>\n",
       "      <td>-0.497457</td>\n",
       "      <td>-0.497457</td>\n",
       "      <td>2.010224</td>\n",
       "    </tr>\n",
       "    <tr>\n",
       "      <th>day_2</th>\n",
       "      <td>97009.0</td>\n",
       "      <td>-1.524056e-15</td>\n",
       "      <td>1.000005</td>\n",
       "      <td>-0.490692</td>\n",
       "      <td>-0.490692</td>\n",
       "      <td>-0.490692</td>\n",
       "      <td>-0.490692</td>\n",
       "      <td>2.037940</td>\n",
       "    </tr>\n",
       "    <tr>\n",
       "      <th>day_3</th>\n",
       "      <td>97009.0</td>\n",
       "      <td>2.801313e-16</td>\n",
       "      <td>1.000005</td>\n",
       "      <td>-0.476558</td>\n",
       "      <td>-0.476558</td>\n",
       "      <td>-0.476558</td>\n",
       "      <td>-0.476558</td>\n",
       "      <td>2.098380</td>\n",
       "    </tr>\n",
       "    <tr>\n",
       "      <th>day_4</th>\n",
       "      <td>97009.0</td>\n",
       "      <td>-3.211245e-16</td>\n",
       "      <td>1.000005</td>\n",
       "      <td>-0.523246</td>\n",
       "      <td>-0.523246</td>\n",
       "      <td>-0.523246</td>\n",
       "      <td>-0.523246</td>\n",
       "      <td>1.911148</td>\n",
       "    </tr>\n",
       "    <tr>\n",
       "      <th>day_5</th>\n",
       "      <td>97009.0</td>\n",
       "      <td>1.612565e-15</td>\n",
       "      <td>1.000005</td>\n",
       "      <td>-0.122447</td>\n",
       "      <td>-0.122447</td>\n",
       "      <td>-0.122447</td>\n",
       "      <td>-0.122447</td>\n",
       "      <td>8.166789</td>\n",
       "    </tr>\n",
       "    <tr>\n",
       "      <th>day_6</th>\n",
       "      <td>97009.0</td>\n",
       "      <td>-6.357584e-16</td>\n",
       "      <td>1.000005</td>\n",
       "      <td>-0.035046</td>\n",
       "      <td>-0.035046</td>\n",
       "      <td>-0.035046</td>\n",
       "      <td>-0.035046</td>\n",
       "      <td>28.534219</td>\n",
       "    </tr>\n",
       "  </tbody>\n",
       "</table>\n",
       "</div>"
      ],
      "text/plain": [
       "                     count          mean       std       min       25%  \\\n",
       "shopping_pt        97009.0 -1.134155e-15  1.000005 -1.930396 -0.929569   \n",
       "state              97009.0  1.294966e-16  1.000005 -1.676491 -1.082528   \n",
       "group_size         97009.0  3.469409e-15  1.000005 -0.510222 -0.510222   \n",
       "homeowner          97009.0 -1.152506e-15  1.000005 -1.095513 -1.095513   \n",
       "car_age            97009.0  1.387513e-16  1.000005 -1.411386 -0.893831   \n",
       "car_value          97009.0 -1.462664e-15  1.000005 -3.703701 -0.387383   \n",
       "risk_factor        97009.0 -8.593073e-16  1.000005 -1.864221 -0.778534   \n",
       "age_oldest         97009.0  4.946145e-16  1.000005 -1.563100 -0.930537   \n",
       "age_youngest       97009.0 -2.303648e-16  1.000005 -1.525688 -0.953895   \n",
       "married_couple     97009.0 -1.236307e-15  1.000005 -0.518208 -0.518208   \n",
       "C_previous         97009.0  4.124840e-17  1.000005 -1.415943 -1.415943   \n",
       "duration_previous  97009.0 -9.744450e-18  1.000005 -1.299890 -0.872529   \n",
       "A                  97009.0  3.089392e-16  1.000005 -1.527500  0.088788   \n",
       "B                  97009.0  2.140014e-16  1.000005 -0.953270 -0.953270   \n",
       "C                  97009.0  1.041196e-15  1.000005 -1.289385 -1.289385   \n",
       "D                  97009.0  2.119688e-16  1.000005 -2.123089 -0.722867   \n",
       "E                  97009.0  3.110671e-16  1.000005 -0.927811 -0.927811   \n",
       "F                  97009.0 -9.529476e-16  1.000005 -1.230445 -1.230445   \n",
       "G                  97009.0  1.698140e-16  1.000005 -1.438971 -0.313247   \n",
       "cost               97009.0  1.010825e-15  1.000005 -8.625614 -0.684268   \n",
       "day_0              97009.0  2.277425e-15  1.000005 -0.486775 -0.486775   \n",
       "day_1              97009.0 -1.974228e-15  1.000005 -0.497457 -0.497457   \n",
       "day_2              97009.0 -1.524056e-15  1.000005 -0.490692 -0.490692   \n",
       "day_3              97009.0  2.801313e-16  1.000005 -0.476558 -0.476558   \n",
       "day_4              97009.0 -3.211245e-16  1.000005 -0.523246 -0.523246   \n",
       "day_5              97009.0  1.612565e-15  1.000005 -0.122447 -0.122447   \n",
       "day_6              97009.0 -6.357584e-16  1.000005 -0.035046 -0.035046   \n",
       "\n",
       "                        50%       75%        max  \n",
       "shopping_pt        0.071258  0.571672   3.073740  \n",
       "state              0.303386  0.798355   1.788293  \n",
       "group_size        -0.510222 -0.510222   5.986186  \n",
       "homeowner          0.912814  0.912814   0.912814  \n",
       "car_age           -0.031237  0.658837  13.252700  \n",
       "car_value         -0.387383  0.441696   2.928934  \n",
       "risk_factor        0.307154  0.307154   1.392841  \n",
       "age_oldest        -0.067950  0.852142   1.714729  \n",
       "age_youngest      -0.153386  0.818661   1.847888  \n",
       "married_couple    -0.518208 -0.518208   1.929728  \n",
       "C_previous         0.525448  0.525448   1.496143  \n",
       "duration_previous -0.231489  0.623232   1.905313  \n",
       "A                  0.088788  0.088788   1.705075  \n",
       "B                 -0.953270  1.049020   1.049020  \n",
       "C                 -0.291117  0.707150   1.705418  \n",
       "D                  0.677356  0.677356   0.677356  \n",
       "E                 -0.927811  1.077805   1.077805  \n",
       "F                 -0.175953  0.878538   1.933030  \n",
       "G                 -0.313247  0.812477   1.938200  \n",
       "cost              -0.010880  0.662509   4.749284  \n",
       "day_0             -0.486775 -0.486775   2.054339  \n",
       "day_1             -0.497457 -0.497457   2.010224  \n",
       "day_2             -0.490692 -0.490692   2.037940  \n",
       "day_3             -0.476558 -0.476558   2.098380  \n",
       "day_4             -0.523246 -0.523246   1.911148  \n",
       "day_5             -0.122447 -0.122447   8.166789  \n",
       "day_6             -0.035046 -0.035046  28.534219  "
      ]
     },
     "execution_count": 106,
     "metadata": {},
     "output_type": "execute_result"
    }
   ],
   "source": [
    "dataP_imp_s.describe().T"
   ]
  },
  {
   "cell_type": "markdown",
   "metadata": {},
   "source": [
    "#### The effect of preprocessing on supervised learning"
   ]
  },
  {
   "cell_type": "code",
   "execution_count": 107,
   "metadata": {
    "scrolled": true
   },
   "outputs": [
    {
     "data": {
      "text/plain": [
       "array([[1.799e+01, 1.038e+01, 1.228e+02, ..., 2.654e-01, 4.601e-01,\n",
       "        1.189e-01],\n",
       "       [2.057e+01, 1.777e+01, 1.329e+02, ..., 1.860e-01, 2.750e-01,\n",
       "        8.902e-02],\n",
       "       [1.969e+01, 2.125e+01, 1.300e+02, ..., 2.430e-01, 3.613e-01,\n",
       "        8.758e-02],\n",
       "       ...,\n",
       "       [1.660e+01, 2.808e+01, 1.083e+02, ..., 1.418e-01, 2.218e-01,\n",
       "        7.820e-02],\n",
       "       [2.060e+01, 2.933e+01, 1.401e+02, ..., 2.650e-01, 4.087e-01,\n",
       "        1.240e-01],\n",
       "       [7.760e+00, 2.454e+01, 4.792e+01, ..., 0.000e+00, 2.871e-01,\n",
       "        7.039e-02]])"
      ]
     },
     "execution_count": 107,
     "metadata": {},
     "output_type": "execute_result"
    }
   ],
   "source": [
    "from sklearn.datasets import load_breast_cancer\n",
    "from sklearn.model_selection import train_test_split\n",
    "cancer = load_breast_cancer()\n",
    "cancer.data "
   ]
  },
  {
   "cell_type": "code",
   "execution_count": 108,
   "metadata": {},
   "outputs": [
    {
     "data": {
      "text/plain": [
       "array([0, 0, 0, 0, 0, 0, 0, 0, 0, 0, 0, 0, 0, 0, 0, 0, 0, 0, 0, 1, 1, 1,\n",
       "       0, 0, 0, 0, 0, 0, 0, 0, 0, 0, 0, 0, 0, 0, 0, 1, 0, 0, 0, 0, 0, 0,\n",
       "       0, 0, 1, 0, 1, 1, 1, 1, 1, 0, 0, 1, 0, 0, 1, 1, 1, 1, 0, 1, 0, 0,\n",
       "       1, 1, 1, 1, 0, 1, 0, 0, 1, 0, 1, 0, 0, 1, 1, 1, 0, 0, 1, 0, 0, 0,\n",
       "       1, 1, 1, 0, 1, 1, 0, 0, 1, 1, 1, 0, 0, 1, 1, 1, 1, 0, 1, 1, 0, 1,\n",
       "       1, 1, 1, 1, 1, 1, 1, 0, 0, 0, 1, 0, 0, 1, 1, 1, 0, 0, 1, 0, 1, 0,\n",
       "       0, 1, 0, 0, 1, 1, 0, 1, 1, 0, 1, 1, 1, 1, 0, 1, 1, 1, 1, 1, 1, 1,\n",
       "       1, 1, 0, 1, 1, 1, 1, 0, 0, 1, 0, 1, 1, 0, 0, 1, 1, 0, 0, 1, 1, 1,\n",
       "       1, 0, 1, 1, 0, 0, 0, 1, 0, 1, 0, 1, 1, 1, 0, 1, 1, 0, 0, 1, 0, 0,\n",
       "       0, 0, 1, 0, 0, 0, 1, 0, 1, 0, 1, 1, 0, 1, 0, 0, 0, 0, 1, 1, 0, 0,\n",
       "       1, 1, 1, 0, 1, 1, 1, 1, 1, 0, 0, 1, 1, 0, 1, 1, 0, 0, 1, 0, 1, 1,\n",
       "       1, 1, 0, 1, 1, 1, 1, 1, 0, 1, 0, 0, 0, 0, 0, 0, 0, 0, 0, 0, 0, 0,\n",
       "       0, 0, 1, 1, 1, 1, 1, 1, 0, 1, 0, 1, 1, 0, 1, 1, 0, 1, 0, 0, 1, 1,\n",
       "       1, 1, 1, 1, 1, 1, 1, 1, 1, 1, 1, 0, 1, 1, 0, 1, 0, 1, 1, 1, 1, 1,\n",
       "       1, 1, 1, 1, 1, 1, 1, 1, 1, 0, 1, 1, 1, 0, 1, 0, 1, 1, 1, 1, 0, 0,\n",
       "       0, 1, 1, 1, 1, 0, 1, 0, 1, 0, 1, 1, 1, 0, 1, 1, 1, 1, 1, 1, 1, 0,\n",
       "       0, 0, 1, 1, 1, 1, 1, 1, 1, 1, 1, 1, 1, 0, 0, 1, 0, 0, 0, 1, 0, 0,\n",
       "       1, 1, 1, 1, 1, 0, 1, 1, 1, 1, 1, 0, 1, 1, 1, 0, 1, 1, 0, 0, 1, 1,\n",
       "       1, 1, 1, 1, 0, 1, 1, 1, 1, 1, 1, 1, 0, 1, 1, 1, 1, 1, 0, 1, 1, 0,\n",
       "       1, 1, 1, 1, 1, 1, 1, 1, 1, 1, 1, 1, 0, 1, 0, 0, 1, 0, 1, 1, 1, 1,\n",
       "       1, 0, 1, 1, 0, 1, 0, 1, 1, 0, 1, 0, 1, 1, 1, 1, 1, 1, 1, 1, 0, 0,\n",
       "       1, 1, 1, 1, 1, 1, 0, 1, 1, 1, 1, 1, 1, 1, 1, 1, 1, 0, 1, 1, 1, 1,\n",
       "       1, 1, 1, 0, 1, 0, 1, 1, 0, 1, 1, 1, 1, 1, 0, 0, 1, 0, 1, 0, 1, 1,\n",
       "       1, 1, 1, 0, 1, 1, 0, 1, 0, 1, 0, 0, 1, 1, 1, 0, 1, 1, 1, 1, 1, 1,\n",
       "       1, 1, 1, 1, 1, 0, 1, 0, 0, 1, 1, 1, 1, 1, 1, 1, 1, 1, 1, 1, 1, 1,\n",
       "       1, 1, 1, 1, 1, 1, 1, 1, 1, 1, 1, 1, 0, 0, 0, 0, 0, 0, 1])"
      ]
     },
     "execution_count": 108,
     "metadata": {},
     "output_type": "execute_result"
    }
   ],
   "source": [
    "cancer.target"
   ]
  },
  {
   "cell_type": "code",
   "execution_count": 109,
   "metadata": {},
   "outputs": [],
   "source": [
    "X_train, X_test, y_train, y_test = train_test_split(\n",
    "    cancer.data, cancer.target, random_state=0)  "
   ]
  },
  {
   "cell_type": "code",
   "execution_count": 111,
   "metadata": {},
   "outputs": [
    {
     "data": {
      "text/plain": [
       "0.9440559440559441"
      ]
     },
     "execution_count": 111,
     "metadata": {},
     "output_type": "execute_result"
    }
   ],
   "source": [
    "from sklearn.svm import SVC\n",
    "svm = SVC(C=100)\n",
    "svm.fit(X_train, y_train).score(X_test, y_test)"
   ]
  },
  {
   "cell_type": "code",
   "execution_count": 113,
   "metadata": {},
   "outputs": [
    {
     "data": {
      "text/plain": [
       "0.965034965034965"
      ]
     },
     "execution_count": 113,
     "metadata": {},
     "output_type": "execute_result"
    }
   ],
   "source": [
    "# preprocessing using 0-1 scaling\n",
    "from sklearn.preprocessing import MinMaxScaler\n",
    "scaler = MinMaxScaler()\n",
    "X_train_scaled = scaler.fit(X_train).transform(X_train)\n",
    "# Scaling training and test data the same way\n",
    "#X_test_scaled = scaler.fit(X_test).transform(X_test)\n",
    "X_test_scaled = scaler.transform(X_test) \n",
    "svm.fit(X_train_scaled, y_train).score(X_test_scaled, y_test)"
   ]
  },
  {
   "cell_type": "code",
   "execution_count": 114,
   "metadata": {},
   "outputs": [
    {
     "data": {
      "text/plain": [
       "0.958041958041958"
      ]
     },
     "execution_count": 114,
     "metadata": {},
     "output_type": "execute_result"
    }
   ],
   "source": [
    "# preprocessing using zero mean and unit variance scaling\n",
    "from sklearn.preprocessing import StandardScaler\n",
    "scaler = StandardScaler()\n",
    "X_train_scaled = scaler.fit_transform(X_train)\n",
    "#X_test_scaled = scaler.fit_transform(X_test)\n",
    "X_test_scaled = scaler.transform(X_test)\n",
    "svm.fit(X_train_scaled, y_train).score(X_test_scaled, y_test)"
   ]
  },
  {
   "cell_type": "markdown",
   "metadata": {},
   "source": [
    "### Feature Selection\n",
    "##### 1. Model based feature selection"
   ]
  },
  {
   "cell_type": "code",
   "execution_count": 115,
   "metadata": {},
   "outputs": [],
   "source": [
    "from sklearn.feature_selection import SelectFromModel\n",
    "\n",
    "from sklearn.ensemble import RandomForestClassifier\n",
    "\n",
    "select = SelectFromModel(RandomForestClassifier(), threshold=None) # threshold=None 스스로 알아서 처리\n",
    "# select 는 전처리기"
   ]
  },
  {
   "cell_type": "code",
   "execution_count": 116,
   "metadata": {},
   "outputs": [
    {
     "name": "stdout",
     "output_type": "stream",
     "text": [
      "X_train.shape: (426, 30), X_train_fs.shape: (426, 9)\n"
     ]
    }
   ],
   "source": [
    "X_train_fs = select.fit(X_train, y_train).transform(X_train)\n",
    "# 변수의 중요도가 나온다.\n",
    "print(\"X_train.shape: {}, X_train_fs.shape: {}\".format(\n",
    "    X_train.shape, X_train_fs.shape))"
   ]
  },
  {
   "cell_type": "code",
   "execution_count": 117,
   "metadata": {},
   "outputs": [
    {
     "data": {
      "text/plain": [
       "array([[7.554e+01, 4.327e+02, 2.688e-02, ..., 8.435e+01, 5.178e+02,\n",
       "        9.140e-02],\n",
       "       [7.194e+01, 3.873e+02, 5.006e-03, ..., 7.691e+01, 4.361e+02,\n",
       "        2.022e-02],\n",
       "       [1.312e+02, 1.261e+03, 1.440e-01, ..., 1.550e+02, 1.731e+03,\n",
       "        1.628e-01],\n",
       "       ...,\n",
       "       [5.982e+01, 2.786e+02, 2.710e-02, ..., 7.579e+01, 4.396e+02,\n",
       "        5.052e-02],\n",
       "       [6.073e+01, 2.881e+02, 0.000e+00, ..., 6.225e+01, 3.038e+02,\n",
       "        0.000e+00],\n",
       "       [7.452e+01, 4.035e+02, 1.112e-01, ..., 8.228e+01, 4.742e+02,\n",
       "        9.653e-02]])"
      ]
     },
     "execution_count": 117,
     "metadata": {},
     "output_type": "execute_result"
    }
   ],
   "source": [
    "X_train_fs"
   ]
  },
  {
   "cell_type": "code",
   "execution_count": 118,
   "metadata": {},
   "outputs": [
    {
     "data": {
      "text/plain": [
       "<matplotlib.image.AxesImage at 0x1c0d5d98760>"
      ]
     },
     "execution_count": 118,
     "metadata": {},
     "output_type": "execute_result"
    },
    {
     "data": {
      "image/png": "[encoded data removed]",
      "text/plain": [
       "<Figure size 1152x144 with 1 Axes>"
      ]
     },
     "metadata": {
      "needs_background": "light"
     },
     "output_type": "display_data"
    }
   ],
   "source": [
    "mask = select.get_support()\n",
    "plt.matshow(mask.reshape(1,-1), cmap=\"gray_r\")"
   ]
  },
  {
   "cell_type": "code",
   "execution_count": 119,
   "metadata": {},
   "outputs": [
    {
     "data": {
      "text/plain": [
       "0.9370629370629371"
      ]
     },
     "execution_count": 119,
     "metadata": {},
     "output_type": "execute_result"
    }
   ],
   "source": [
    "X_test_fs = select.transform(X_test)\n",
    "svm.fit(X_train_fs, y_train).score(X_test_fs, y_test)"
   ]
  },
  {
   "cell_type": "code",
   "execution_count": 120,
   "metadata": {},
   "outputs": [
    {
     "name": "stdout",
     "output_type": "stream",
     "text": [
      "(426, 30)\n"
     ]
    }
   ],
   "source": [
    "from sklearn.feature_selection import SelectKBest\n",
    "\n",
    "print(X_train.shape)"
   ]
  },
  {
   "cell_type": "code",
   "execution_count": 121,
   "metadata": {},
   "outputs": [
    {
     "data": {
      "text/plain": [
       "(426, 5)"
      ]
     },
     "execution_count": 121,
     "metadata": {},
     "output_type": "execute_result"
    }
   ],
   "source": [
    "X_train_new = SelectKBest(k=5).fit_transform(X_train, y_train) # 5개를 선택해 fit, transform을 동시에 해야함.\n",
    "X_train_new.shape"
   ]
  },
  {
   "cell_type": "markdown",
   "metadata": {},
   "source": [
    "### Feature Generation\n",
    "##### Automatic generating polynomial and interaction features\n",
    "\"\"\"입력값 x 를 다항식으로 변환한다.\n",
    "x→[1,x,x2,x3,⋯]\n",
    " \n",
    "만약 열의 갯수가 두 개이고 2차 다항식으로 변환하는 경우에는 다음처럼 변환한다.\n",
    "[x1,x2]→[1,x1,x2,x21,x1x2,x22]\n",
    " \n",
    "다음과 같은 파라미터를 가진다.\n",
    "\"\"\"\n",
    "###### degree : 차수\n",
    "###### interaction_only: interaction 항 생성 여부\n",
    "###### include_bias : 상수항 생성 여부"
   ]
  },
  {
   "cell_type": "code",
   "execution_count": 122,
   "metadata": {},
   "outputs": [
    {
     "data": {
      "text/plain": [
       "array([[1, 2],\n",
       "       [3, 4],\n",
       "       [5, 6]])"
      ]
     },
     "execution_count": 122,
     "metadata": {},
     "output_type": "execute_result"
    }
   ],
   "source": [
    "from sklearn.preprocessing import PolynomialFeatures\n",
    "\n",
    "X = np.arange(1,7).reshape(3, 2)\n",
    "X"
   ]
  },
  {
   "cell_type": "code",
   "execution_count": 123,
   "metadata": {},
   "outputs": [
    {
     "data": {
      "text/plain": [
       "array([[ 1.,  1.,  2.,  1.,  2.,  4.],\n",
       "       [ 1.,  3.,  4.,  9., 12., 16.],\n",
       "       [ 1.,  5.,  6., 25., 30., 36.]])"
      ]
     },
     "execution_count": 123,
     "metadata": {},
     "output_type": "execute_result"
    }
   ],
   "source": [
    "poly = PolynomialFeatures(2)\n",
    "poly.fit_transform(X)"
   ]
  },
  {
   "cell_type": "code",
   "execution_count": 125,
   "metadata": {},
   "outputs": [
    {
     "data": {
      "text/plain": [
       "array([[ 1.,  1.,  2.,  2.],\n",
       "       [ 1.,  3.,  4., 12.],\n",
       "       [ 1.,  5.,  6., 30.]])"
      ]
     },
     "execution_count": 125,
     "metadata": {},
     "output_type": "execute_result"
    }
   ],
   "source": [
    "poly = PolynomialFeatures(interaction_only=True)\n",
    "poly.fit_transform(X)"
   ]
  },
  {
   "cell_type": "code",
   "execution_count": 124,
   "metadata": {},
   "outputs": [
    {
     "name": "stdout",
     "output_type": "stream",
     "text": [
      "(426, 30)\n"
     ]
    },
    {
     "data": {
      "text/plain": [
       "(426, 496)"
      ]
     },
     "execution_count": 124,
     "metadata": {},
     "output_type": "execute_result"
    }
   ],
   "source": [
    "print(X_train.shape)\n",
    "\n",
    "poly = PolynomialFeatures(2)\n",
    "poly.fit_transform(X_train).shape"
   ]
  },
  {
   "cell_type": "code",
   "execution_count": null,
   "metadata": {},
   "outputs": [],
   "source": []
  }
 ],
 "metadata": {
  "kernelspec": {
   "display_name": "Python 3",
   "language": "python",
   "name": "python3"
  },
  "language_info": {
   "codemirror_mode": {
    "name": "ipython",
    "version": 3
   },
   "file_extension": ".py",
   "mimetype": "text/x-python",
   "name": "python",
   "nbconvert_exporter": "python",
   "pygments_lexer": "ipython3",
   "version": "3.8.5"
  }
 },
 "nbformat": 4,
 "nbformat_minor": 4
}
