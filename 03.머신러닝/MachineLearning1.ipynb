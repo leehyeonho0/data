{
 "cells": [
  {
   "cell_type": "markdown",
   "metadata": {
    "colab_type": "text",
    "id": "HrGfVsYC55eL"
   },
   "source": [
    "<font color = \"#CC3D3D\">\n",
    "# End-to-End Machine Learning Project #\n",
    "<p>\n",
    "- #### *Based on CRISP-DM & scikit-learn*    \n",
    "<br>\n",
    "<img align=\"left\" src=\"http://www.kdnuggets.com/wp-content/uploads/crisp-dm-4-problems-fig1.png\" alt=\"CRISP-DM\">"
   ]
  },
  {
   "cell_type": "markdown",
   "metadata": {
    "colab_type": "text",
    "id": "RTnVrBNx55eM"
   },
   "source": [
    "## Step 1: Business Understanding ##\n",
    "\n",
    "1. Business Objectives\n",
    " - 새로운 개인연금상품(PEP: Personal Equity Plan)을 개발하여 기존 고객들을 대상으로 가능한 많은 계좌를 유치\n",
    "2. Analytics Goals\n",
    " - PEP 가입 예측모형 개발\n",
    " - 고객 프로파일 개발\n",
    " - 다이렉트 메일 광고 효율성 제고\n",
    " - 타겟 메일링에 의한 응답률 제고 "
   ]
  },
  {
   "cell_type": "markdown",
   "metadata": {
    "colab_type": "text",
    "id": "b6F-PwAo55eN"
   },
   "source": [
    "## Step 2: Data Understanding ##\n",
    "1. 데이터 획득 절차\n",
    " - 기존고객 DB로부터 시험메일 발송을 위한 표본고객목록을 추출\n",
    " - 새로운 금융상품(PEP)의 제안 메일을 발송\n",
    " - 고객의 반응을 기록\n",
    "2. 분석 데이터\n",
    " - 학습용 데이터 600건\n",
    " - 신규고객 데이터 200건"
   ]
  },
  {
   "cell_type": "code",
   "execution_count": 3,
   "metadata": {
    "colab": {},
    "colab_type": "code",
    "id": "dmudgueV55eO"
   },
   "outputs": [],
   "source": [
    "import pandas as pd\n",
    "from pandas import Series, DataFrame\n",
    "import numpy as np\n",
    "import matplotlib.pyplot as plt\n",
    "%matplotlib inline"
   ]
  },
  {
   "cell_type": "markdown",
   "metadata": {
    "colab_type": "text",
    "id": "6aHVQv0K55eQ"
   },
   "source": [
    "### Collect Initial Data ###"
   ]
  },
  {
   "cell_type": "markdown",
   "metadata": {
    "colab_type": "text",
    "id": "JCPSq7tn55eR"
   },
   "source": [
    "##### for modeling"
   ]
  },
  {
   "cell_type": "code",
   "execution_count": 4,
   "metadata": {
    "colab": {},
    "colab_type": "code",
    "id": "ZLtlrPCt55eS",
    "scrolled": true
   },
   "outputs": [
    {
     "data": {
      "text/html": [
       "<div>\n",
       "<style scoped>\n",
       "    .dataframe tbody tr th:only-of-type {\n",
       "        vertical-align: middle;\n",
       "    }\n",
       "\n",
       "    .dataframe tbody tr th {\n",
       "        vertical-align: top;\n",
       "    }\n",
       "\n",
       "    .dataframe thead th {\n",
       "        text-align: right;\n",
       "    }\n",
       "</style>\n",
       "<table border=\"1\" class=\"dataframe\">\n",
       "  <thead>\n",
       "    <tr style=\"text-align: right;\">\n",
       "      <th></th>\n",
       "      <th>id</th>\n",
       "      <th>age</th>\n",
       "      <th>sex</th>\n",
       "      <th>region</th>\n",
       "      <th>income</th>\n",
       "      <th>married</th>\n",
       "      <th>children</th>\n",
       "      <th>car</th>\n",
       "      <th>save_act</th>\n",
       "      <th>current_act</th>\n",
       "      <th>mortgage</th>\n",
       "      <th>pep</th>\n",
       "    </tr>\n",
       "  </thead>\n",
       "  <tbody>\n",
       "    <tr>\n",
       "      <th>0</th>\n",
       "      <td>ID12101</td>\n",
       "      <td>48.0</td>\n",
       "      <td>0</td>\n",
       "      <td>0</td>\n",
       "      <td>17546.0</td>\n",
       "      <td>0</td>\n",
       "      <td>1</td>\n",
       "      <td>0</td>\n",
       "      <td>0</td>\n",
       "      <td>0</td>\n",
       "      <td>0</td>\n",
       "      <td>1</td>\n",
       "    </tr>\n",
       "    <tr>\n",
       "      <th>1</th>\n",
       "      <td>ID12102</td>\n",
       "      <td>40.0</td>\n",
       "      <td>1</td>\n",
       "      <td>3</td>\n",
       "      <td>30085.1</td>\n",
       "      <td>1</td>\n",
       "      <td>3</td>\n",
       "      <td>1</td>\n",
       "      <td>0</td>\n",
       "      <td>1</td>\n",
       "      <td>1</td>\n",
       "      <td>0</td>\n",
       "    </tr>\n",
       "    <tr>\n",
       "      <th>2</th>\n",
       "      <td>ID12103</td>\n",
       "      <td>NaN</td>\n",
       "      <td>0</td>\n",
       "      <td>0</td>\n",
       "      <td>16575.4</td>\n",
       "      <td>1</td>\n",
       "      <td>0</td>\n",
       "      <td>1</td>\n",
       "      <td>1</td>\n",
       "      <td>1</td>\n",
       "      <td>0</td>\n",
       "      <td>0</td>\n",
       "    </tr>\n",
       "    <tr>\n",
       "      <th>3</th>\n",
       "      <td>ID12104</td>\n",
       "      <td>23.0</td>\n",
       "      <td>0</td>\n",
       "      <td>3</td>\n",
       "      <td>20375.4</td>\n",
       "      <td>1</td>\n",
       "      <td>3</td>\n",
       "      <td>0</td>\n",
       "      <td>0</td>\n",
       "      <td>1</td>\n",
       "      <td>0</td>\n",
       "      <td>0</td>\n",
       "    </tr>\n",
       "    <tr>\n",
       "      <th>4</th>\n",
       "      <td>ID12105</td>\n",
       "      <td>57.0</td>\n",
       "      <td>0</td>\n",
       "      <td>1</td>\n",
       "      <td>50576.3</td>\n",
       "      <td>1</td>\n",
       "      <td>0</td>\n",
       "      <td>0</td>\n",
       "      <td>1</td>\n",
       "      <td>0</td>\n",
       "      <td>0</td>\n",
       "      <td>0</td>\n",
       "    </tr>\n",
       "  </tbody>\n",
       "</table>\n",
       "</div>"
      ],
      "text/plain": [
       "        id   age  sex  region   income  married  children  car  save_act  \\\n",
       "0  ID12101  48.0    0       0  17546.0        0         1    0         0   \n",
       "1  ID12102  40.0    1       3  30085.1        1         3    1         0   \n",
       "2  ID12103   NaN    0       0  16575.4        1         0    1         1   \n",
       "3  ID12104  23.0    0       3  20375.4        1         3    0         0   \n",
       "4  ID12105  57.0    0       1  50576.3        1         0    0         1   \n",
       "\n",
       "   current_act  mortgage  pep  \n",
       "0            0         0    1  \n",
       "1            1         1    0  \n",
       "2            1         0    0  \n",
       "3            1         0    0  \n",
       "4            0         0    0  "
      ]
     },
     "execution_count": 4,
     "metadata": {},
     "output_type": "execute_result"
    }
   ],
   "source": [
    "df = pd.read_csv(\"data_pepTestCustomers.csv\")\n",
    "df.head()"
   ]
  },
  {
   "cell_type": "code",
   "execution_count": 5,
   "metadata": {},
   "outputs": [
    {
     "data": {
      "text/plain": [
       "(600, 12)"
      ]
     },
     "execution_count": 5,
     "metadata": {},
     "output_type": "execute_result"
    }
   ],
   "source": [
    "df.shape"
   ]
  },
  {
   "cell_type": "markdown",
   "metadata": {
    "colab_type": "text",
    "id": "JaFH_Pmh55eU"
   },
   "source": [
    "##### for deployment"
   ]
  },
  {
   "cell_type": "code",
   "execution_count": 6,
   "metadata": {
    "colab": {},
    "colab_type": "code",
    "id": "xaS7r86s55eU",
    "scrolled": true
   },
   "outputs": [
    {
     "data": {
      "text/html": [
       "<div>\n",
       "<style scoped>\n",
       "    .dataframe tbody tr th:only-of-type {\n",
       "        vertical-align: middle;\n",
       "    }\n",
       "\n",
       "    .dataframe tbody tr th {\n",
       "        vertical-align: top;\n",
       "    }\n",
       "\n",
       "    .dataframe thead th {\n",
       "        text-align: right;\n",
       "    }\n",
       "</style>\n",
       "<table border=\"1\" class=\"dataframe\">\n",
       "  <thead>\n",
       "    <tr style=\"text-align: right;\">\n",
       "      <th></th>\n",
       "      <th>id</th>\n",
       "      <th>age</th>\n",
       "      <th>sex</th>\n",
       "      <th>region</th>\n",
       "      <th>income</th>\n",
       "      <th>married</th>\n",
       "      <th>children</th>\n",
       "      <th>car</th>\n",
       "      <th>save_act</th>\n",
       "      <th>current_act</th>\n",
       "      <th>mortgage</th>\n",
       "    </tr>\n",
       "  </thead>\n",
       "  <tbody>\n",
       "    <tr>\n",
       "      <th>0</th>\n",
       "      <td>ID12701</td>\n",
       "      <td>23</td>\n",
       "      <td>1</td>\n",
       "      <td>0</td>\n",
       "      <td>18766.90</td>\n",
       "      <td>1</td>\n",
       "      <td>0</td>\n",
       "      <td>1</td>\n",
       "      <td>1</td>\n",
       "      <td>0</td>\n",
       "      <td>1</td>\n",
       "    </tr>\n",
       "    <tr>\n",
       "      <th>1</th>\n",
       "      <td>ID12702</td>\n",
       "      <td>30</td>\n",
       "      <td>1</td>\n",
       "      <td>1</td>\n",
       "      <td>9915.67</td>\n",
       "      <td>0</td>\n",
       "      <td>1</td>\n",
       "      <td>0</td>\n",
       "      <td>1</td>\n",
       "      <td>0</td>\n",
       "      <td>1</td>\n",
       "    </tr>\n",
       "    <tr>\n",
       "      <th>2</th>\n",
       "      <td>ID12703</td>\n",
       "      <td>45</td>\n",
       "      <td>0</td>\n",
       "      <td>1</td>\n",
       "      <td>21881.60</td>\n",
       "      <td>0</td>\n",
       "      <td>0</td>\n",
       "      <td>1</td>\n",
       "      <td>1</td>\n",
       "      <td>1</td>\n",
       "      <td>0</td>\n",
       "    </tr>\n",
       "    <tr>\n",
       "      <th>3</th>\n",
       "      <td>ID12704</td>\n",
       "      <td>50</td>\n",
       "      <td>1</td>\n",
       "      <td>3</td>\n",
       "      <td>46794.40</td>\n",
       "      <td>1</td>\n",
       "      <td>2</td>\n",
       "      <td>0</td>\n",
       "      <td>1</td>\n",
       "      <td>0</td>\n",
       "      <td>1</td>\n",
       "    </tr>\n",
       "    <tr>\n",
       "      <th>4</th>\n",
       "      <td>ID12705</td>\n",
       "      <td>41</td>\n",
       "      <td>0</td>\n",
       "      <td>0</td>\n",
       "      <td>20721.10</td>\n",
       "      <td>1</td>\n",
       "      <td>0</td>\n",
       "      <td>1</td>\n",
       "      <td>1</td>\n",
       "      <td>1</td>\n",
       "      <td>0</td>\n",
       "    </tr>\n",
       "  </tbody>\n",
       "</table>\n",
       "</div>"
      ],
      "text/plain": [
       "        id  age  sex  region    income  married  children  car  save_act  \\\n",
       "0  ID12701   23    1       0  18766.90        1         0    1         1   \n",
       "1  ID12702   30    1       1   9915.67        0         1    0         1   \n",
       "2  ID12703   45    0       1  21881.60        0         0    1         1   \n",
       "3  ID12704   50    1       3  46794.40        1         2    0         1   \n",
       "4  ID12705   41    0       0  20721.10        1         0    1         1   \n",
       "\n",
       "   current_act  mortgage  \n",
       "0            0         1  \n",
       "1            0         1  \n",
       "2            1         0  \n",
       "3            0         1  \n",
       "4            1         0  "
      ]
     },
     "execution_count": 6,
     "metadata": {},
     "output_type": "execute_result"
    }
   ],
   "source": [
    "new = pd.read_csv(\"data_pepNewCustomers.csv\")\n",
    "new.head()"
   ]
  },
  {
   "cell_type": "code",
   "execution_count": 7,
   "metadata": {},
   "outputs": [
    {
     "data": {
      "text/plain": [
       "(200, 11)"
      ]
     },
     "execution_count": 7,
     "metadata": {},
     "output_type": "execute_result"
    }
   ],
   "source": [
    "new.shape"
   ]
  },
  {
   "cell_type": "markdown",
   "metadata": {
    "colab_type": "text",
    "id": "Uus0MPta55eW"
   },
   "source": [
    "### Describe Data ###"
   ]
  },
  {
   "cell_type": "code",
   "execution_count": 8,
   "metadata": {
    "colab": {},
    "colab_type": "code",
    "id": "s0Em_ULP55eX"
   },
   "outputs": [
    {
     "name": "stdout",
     "output_type": "stream",
     "text": [
      "<class 'pandas.core.frame.DataFrame'>\n",
      "RangeIndex: 600 entries, 0 to 599\n",
      "Data columns (total 12 columns):\n",
      " #   Column       Non-Null Count  Dtype  \n",
      "---  ------       --------------  -----  \n",
      " 0   id           600 non-null    object \n",
      " 1   age          540 non-null    float64\n",
      " 2   sex          600 non-null    int64  \n",
      " 3   region       600 non-null    int64  \n",
      " 4   income       600 non-null    float64\n",
      " 5   married      600 non-null    int64  \n",
      " 6   children     600 non-null    int64  \n",
      " 7   car          600 non-null    int64  \n",
      " 8   save_act     600 non-null    int64  \n",
      " 9   current_act  600 non-null    int64  \n",
      " 10  mortgage     600 non-null    int64  \n",
      " 11  pep          600 non-null    int64  \n",
      "dtypes: float64(2), int64(9), object(1)\n",
      "memory usage: 56.4+ KB\n"
     ]
    }
   ],
   "source": [
    "# 데이터 구조 살펴보기\n",
    "# ex) age의 경우 600개중 540개만 있어서 60개가 결측치로 예상\n",
    "df.info()"
   ]
  },
  {
   "cell_type": "markdown",
   "metadata": {},
   "source": [
    "##### Find Missing Values"
   ]
  },
  {
   "cell_type": "code",
   "execution_count": 9,
   "metadata": {
    "scrolled": true
   },
   "outputs": [
    {
     "data": {
      "text/plain": [
       "id              0\n",
       "age            60\n",
       "sex             0\n",
       "region          0\n",
       "income          0\n",
       "married         0\n",
       "children        0\n",
       "car             0\n",
       "save_act        0\n",
       "current_act     0\n",
       "mortgage        0\n",
       "pep             0\n",
       "dtype: int64"
      ]
     },
     "execution_count": 9,
     "metadata": {},
     "output_type": "execute_result"
    }
   ],
   "source": [
    "# 결측값이 존재하는 속성이 무엇인지, 몇개나 있는지 파악할 수 있는 두번째 방법\n",
    "# null 갯수 체크\n",
    "df.isnull().sum()"
   ]
  },
  {
   "cell_type": "code",
   "execution_count": 8,
   "metadata": {},
   "outputs": [
    {
     "data": {
      "text/plain": [
       "60"
      ]
     },
     "execution_count": 8,
     "metadata": {},
     "output_type": "execute_result"
    }
   ],
   "source": [
    "df.isnull().sum().sum()"
   ]
  },
  {
   "cell_type": "markdown",
   "metadata": {
    "colab_type": "text",
    "id": "bLdREJI855ez"
   },
   "source": [
    "## Step 3: Data Preparation ##"
   ]
  },
  {
   "cell_type": "markdown",
   "metadata": {
    "colab_type": "text",
    "id": "cjxUKc0E55e0"
   },
   "source": [
    "### Clean Data ###\n",
    "##### Replace Missing Values #####"
   ]
  },
  {
   "cell_type": "code",
   "execution_count": 10,
   "metadata": {},
   "outputs": [
    {
     "data": {
      "text/plain": [
       "43"
      ]
     },
     "execution_count": 10,
     "metadata": {},
     "output_type": "execute_result"
    }
   ],
   "source": [
    "round(df.age.mean())  # round로 나이 반올림"
   ]
  },
  {
   "cell_type": "code",
   "execution_count": 11,
   "metadata": {
    "colab": {},
    "colab_type": "code",
    "id": "No0NPewT55e6",
    "scrolled": true
   },
   "outputs": [
    {
     "name": "stdout",
     "output_type": "stream",
     "text": [
      "<class 'pandas.core.frame.DataFrame'>\n",
      "RangeIndex: 600 entries, 0 to 599\n",
      "Data columns (total 12 columns):\n",
      " #   Column       Non-Null Count  Dtype  \n",
      "---  ------       --------------  -----  \n",
      " 0   id           600 non-null    object \n",
      " 1   age          600 non-null    float64\n",
      " 2   sex          600 non-null    int64  \n",
      " 3   region       600 non-null    int64  \n",
      " 4   income       600 non-null    float64\n",
      " 5   married      600 non-null    int64  \n",
      " 6   children     600 non-null    int64  \n",
      " 7   car          600 non-null    int64  \n",
      " 8   save_act     600 non-null    int64  \n",
      " 9   current_act  600 non-null    int64  \n",
      " 10  mortgage     600 non-null    int64  \n",
      " 11  pep          600 non-null    int64  \n",
      "dtypes: float64(2), int64(9), object(1)\n",
      "memory usage: 56.4+ KB\n"
     ]
    }
   ],
   "source": [
    "# 평균값으로 결측값 대체하기\n",
    "# fillna 는 널값을 채우라. 여기서는 평균으로 채우고 있음.\n",
    "# 분석의 상황에 따라 null 값을 그대로 사용함.\n",
    "df.age.fillna(round(df.age.mean(),0), inplace=True)\n",
    "df.info()"
   ]
  },
  {
   "cell_type": "code",
   "execution_count": 12,
   "metadata": {
    "colab": {},
    "colab_type": "code",
    "id": "Bk51JIS755fE"
   },
   "outputs": [],
   "source": [
    "## 콘솔창에서 pip uninstall scipy 후 재설치 pip install scipy\n",
    "# for Hold-out validation\n",
    "from sklearn.model_selection import train_test_split  "
   ]
  },
  {
   "cell_type": "code",
   "execution_count": 13,
   "metadata": {},
   "outputs": [
    {
     "data": {
      "text/html": [
       "<div>\n",
       "<style scoped>\n",
       "    .dataframe tbody tr th:only-of-type {\n",
       "        vertical-align: middle;\n",
       "    }\n",
       "\n",
       "    .dataframe tbody tr th {\n",
       "        vertical-align: top;\n",
       "    }\n",
       "\n",
       "    .dataframe thead th {\n",
       "        text-align: right;\n",
       "    }\n",
       "</style>\n",
       "<table border=\"1\" class=\"dataframe\">\n",
       "  <thead>\n",
       "    <tr style=\"text-align: right;\">\n",
       "      <th></th>\n",
       "      <th>id</th>\n",
       "      <th>age</th>\n",
       "      <th>sex</th>\n",
       "      <th>region</th>\n",
       "      <th>income</th>\n",
       "      <th>married</th>\n",
       "      <th>children</th>\n",
       "      <th>car</th>\n",
       "      <th>save_act</th>\n",
       "      <th>current_act</th>\n",
       "      <th>mortgage</th>\n",
       "      <th>pep</th>\n",
       "    </tr>\n",
       "  </thead>\n",
       "  <tbody>\n",
       "    <tr>\n",
       "      <th>0</th>\n",
       "      <td>ID12101</td>\n",
       "      <td>48.0</td>\n",
       "      <td>0</td>\n",
       "      <td>0</td>\n",
       "      <td>17546.0</td>\n",
       "      <td>0</td>\n",
       "      <td>1</td>\n",
       "      <td>0</td>\n",
       "      <td>0</td>\n",
       "      <td>0</td>\n",
       "      <td>0</td>\n",
       "      <td>1</td>\n",
       "    </tr>\n",
       "    <tr>\n",
       "      <th>1</th>\n",
       "      <td>ID12102</td>\n",
       "      <td>40.0</td>\n",
       "      <td>1</td>\n",
       "      <td>3</td>\n",
       "      <td>30085.1</td>\n",
       "      <td>1</td>\n",
       "      <td>3</td>\n",
       "      <td>1</td>\n",
       "      <td>0</td>\n",
       "      <td>1</td>\n",
       "      <td>1</td>\n",
       "      <td>0</td>\n",
       "    </tr>\n",
       "    <tr>\n",
       "      <th>2</th>\n",
       "      <td>ID12103</td>\n",
       "      <td>43.0</td>\n",
       "      <td>0</td>\n",
       "      <td>0</td>\n",
       "      <td>16575.4</td>\n",
       "      <td>1</td>\n",
       "      <td>0</td>\n",
       "      <td>1</td>\n",
       "      <td>1</td>\n",
       "      <td>1</td>\n",
       "      <td>0</td>\n",
       "      <td>0</td>\n",
       "    </tr>\n",
       "    <tr>\n",
       "      <th>3</th>\n",
       "      <td>ID12104</td>\n",
       "      <td>23.0</td>\n",
       "      <td>0</td>\n",
       "      <td>3</td>\n",
       "      <td>20375.4</td>\n",
       "      <td>1</td>\n",
       "      <td>3</td>\n",
       "      <td>0</td>\n",
       "      <td>0</td>\n",
       "      <td>1</td>\n",
       "      <td>0</td>\n",
       "      <td>0</td>\n",
       "    </tr>\n",
       "    <tr>\n",
       "      <th>4</th>\n",
       "      <td>ID12105</td>\n",
       "      <td>57.0</td>\n",
       "      <td>0</td>\n",
       "      <td>1</td>\n",
       "      <td>50576.3</td>\n",
       "      <td>1</td>\n",
       "      <td>0</td>\n",
       "      <td>0</td>\n",
       "      <td>1</td>\n",
       "      <td>0</td>\n",
       "      <td>0</td>\n",
       "      <td>0</td>\n",
       "    </tr>\n",
       "  </tbody>\n",
       "</table>\n",
       "</div>"
      ],
      "text/plain": [
       "        id   age  sex  region   income  married  children  car  save_act  \\\n",
       "0  ID12101  48.0    0       0  17546.0        0         1    0         0   \n",
       "1  ID12102  40.0    1       3  30085.1        1         3    1         0   \n",
       "2  ID12103  43.0    0       0  16575.4        1         0    1         1   \n",
       "3  ID12104  23.0    0       3  20375.4        1         3    0         0   \n",
       "4  ID12105  57.0    0       1  50576.3        1         0    0         1   \n",
       "\n",
       "   current_act  mortgage  pep  \n",
       "0            0         0    1  \n",
       "1            1         1    0  \n",
       "2            1         0    0  \n",
       "3            1         0    0  \n",
       "4            0         0    0  "
      ]
     },
     "execution_count": 13,
     "metadata": {},
     "output_type": "execute_result"
    }
   ],
   "source": [
    "df.head()"
   ]
  },
  {
   "cell_type": "code",
   "execution_count": 14,
   "metadata": {
    "scrolled": true
   },
   "outputs": [
    {
     "data": {
      "text/html": [
       "<div>\n",
       "<style scoped>\n",
       "    .dataframe tbody tr th:only-of-type {\n",
       "        vertical-align: middle;\n",
       "    }\n",
       "\n",
       "    .dataframe tbody tr th {\n",
       "        vertical-align: top;\n",
       "    }\n",
       "\n",
       "    .dataframe thead th {\n",
       "        text-align: right;\n",
       "    }\n",
       "</style>\n",
       "<table border=\"1\" class=\"dataframe\">\n",
       "  <thead>\n",
       "    <tr style=\"text-align: right;\">\n",
       "      <th></th>\n",
       "      <th>age</th>\n",
       "      <th>sex</th>\n",
       "      <th>region</th>\n",
       "      <th>income</th>\n",
       "      <th>married</th>\n",
       "      <th>children</th>\n",
       "      <th>car</th>\n",
       "      <th>save_act</th>\n",
       "      <th>current_act</th>\n",
       "      <th>mortgage</th>\n",
       "    </tr>\n",
       "  </thead>\n",
       "  <tbody>\n",
       "    <tr>\n",
       "      <th>0</th>\n",
       "      <td>48.0</td>\n",
       "      <td>0</td>\n",
       "      <td>0</td>\n",
       "      <td>17546.00</td>\n",
       "      <td>0</td>\n",
       "      <td>1</td>\n",
       "      <td>0</td>\n",
       "      <td>0</td>\n",
       "      <td>0</td>\n",
       "      <td>0</td>\n",
       "    </tr>\n",
       "    <tr>\n",
       "      <th>1</th>\n",
       "      <td>40.0</td>\n",
       "      <td>1</td>\n",
       "      <td>3</td>\n",
       "      <td>30085.10</td>\n",
       "      <td>1</td>\n",
       "      <td>3</td>\n",
       "      <td>1</td>\n",
       "      <td>0</td>\n",
       "      <td>1</td>\n",
       "      <td>1</td>\n",
       "    </tr>\n",
       "    <tr>\n",
       "      <th>2</th>\n",
       "      <td>43.0</td>\n",
       "      <td>0</td>\n",
       "      <td>0</td>\n",
       "      <td>16575.40</td>\n",
       "      <td>1</td>\n",
       "      <td>0</td>\n",
       "      <td>1</td>\n",
       "      <td>1</td>\n",
       "      <td>1</td>\n",
       "      <td>0</td>\n",
       "    </tr>\n",
       "    <tr>\n",
       "      <th>3</th>\n",
       "      <td>23.0</td>\n",
       "      <td>0</td>\n",
       "      <td>3</td>\n",
       "      <td>20375.40</td>\n",
       "      <td>1</td>\n",
       "      <td>3</td>\n",
       "      <td>0</td>\n",
       "      <td>0</td>\n",
       "      <td>1</td>\n",
       "      <td>0</td>\n",
       "    </tr>\n",
       "    <tr>\n",
       "      <th>4</th>\n",
       "      <td>57.0</td>\n",
       "      <td>0</td>\n",
       "      <td>1</td>\n",
       "      <td>50576.30</td>\n",
       "      <td>1</td>\n",
       "      <td>0</td>\n",
       "      <td>0</td>\n",
       "      <td>1</td>\n",
       "      <td>0</td>\n",
       "      <td>0</td>\n",
       "    </tr>\n",
       "    <tr>\n",
       "      <th>...</th>\n",
       "      <td>...</td>\n",
       "      <td>...</td>\n",
       "      <td>...</td>\n",
       "      <td>...</td>\n",
       "      <td>...</td>\n",
       "      <td>...</td>\n",
       "      <td>...</td>\n",
       "      <td>...</td>\n",
       "      <td>...</td>\n",
       "      <td>...</td>\n",
       "    </tr>\n",
       "    <tr>\n",
       "      <th>595</th>\n",
       "      <td>61.0</td>\n",
       "      <td>0</td>\n",
       "      <td>0</td>\n",
       "      <td>47025.00</td>\n",
       "      <td>0</td>\n",
       "      <td>2</td>\n",
       "      <td>1</td>\n",
       "      <td>1</td>\n",
       "      <td>1</td>\n",
       "      <td>1</td>\n",
       "    </tr>\n",
       "    <tr>\n",
       "      <th>596</th>\n",
       "      <td>30.0</td>\n",
       "      <td>0</td>\n",
       "      <td>0</td>\n",
       "      <td>9672.25</td>\n",
       "      <td>1</td>\n",
       "      <td>0</td>\n",
       "      <td>1</td>\n",
       "      <td>1</td>\n",
       "      <td>1</td>\n",
       "      <td>0</td>\n",
       "    </tr>\n",
       "    <tr>\n",
       "      <th>597</th>\n",
       "      <td>31.0</td>\n",
       "      <td>0</td>\n",
       "      <td>3</td>\n",
       "      <td>15976.30</td>\n",
       "      <td>1</td>\n",
       "      <td>0</td>\n",
       "      <td>1</td>\n",
       "      <td>1</td>\n",
       "      <td>0</td>\n",
       "      <td>0</td>\n",
       "    </tr>\n",
       "    <tr>\n",
       "      <th>598</th>\n",
       "      <td>29.0</td>\n",
       "      <td>1</td>\n",
       "      <td>0</td>\n",
       "      <td>14711.80</td>\n",
       "      <td>1</td>\n",
       "      <td>0</td>\n",
       "      <td>0</td>\n",
       "      <td>1</td>\n",
       "      <td>0</td>\n",
       "      <td>1</td>\n",
       "    </tr>\n",
       "    <tr>\n",
       "      <th>599</th>\n",
       "      <td>43.0</td>\n",
       "      <td>1</td>\n",
       "      <td>3</td>\n",
       "      <td>26671.60</td>\n",
       "      <td>0</td>\n",
       "      <td>0</td>\n",
       "      <td>1</td>\n",
       "      <td>0</td>\n",
       "      <td>1</td>\n",
       "      <td>1</td>\n",
       "    </tr>\n",
       "  </tbody>\n",
       "</table>\n",
       "<p>600 rows × 10 columns</p>\n",
       "</div>"
      ],
      "text/plain": [
       "      age  sex  region    income  married  children  car  save_act  \\\n",
       "0    48.0    0       0  17546.00        0         1    0         0   \n",
       "1    40.0    1       3  30085.10        1         3    1         0   \n",
       "2    43.0    0       0  16575.40        1         0    1         1   \n",
       "3    23.0    0       3  20375.40        1         3    0         0   \n",
       "4    57.0    0       1  50576.30        1         0    0         1   \n",
       "..    ...  ...     ...       ...      ...       ...  ...       ...   \n",
       "595  61.0    0       0  47025.00        0         2    1         1   \n",
       "596  30.0    0       0   9672.25        1         0    1         1   \n",
       "597  31.0    0       3  15976.30        1         0    1         1   \n",
       "598  29.0    1       0  14711.80        1         0    0         1   \n",
       "599  43.0    1       3  26671.60        0         0    1         0   \n",
       "\n",
       "     current_act  mortgage  \n",
       "0              0         0  \n",
       "1              1         1  \n",
       "2              1         0  \n",
       "3              1         0  \n",
       "4              0         0  \n",
       "..           ...       ...  \n",
       "595            1         1  \n",
       "596            1         0  \n",
       "597            0         0  \n",
       "598            0         1  \n",
       "599            1         1  \n",
       "\n",
       "[600 rows x 10 columns]"
      ]
     },
     "execution_count": 14,
     "metadata": {},
     "output_type": "execute_result"
    }
   ],
   "source": [
    "df.drop(['id','pep'], axis=1)"
   ]
  },
  {
   "cell_type": "code",
   "execution_count": 15,
   "metadata": {
    "scrolled": true
   },
   "outputs": [
    {
     "data": {
      "text/plain": [
       "0    1\n",
       "1    0\n",
       "2    0\n",
       "3    0\n",
       "4    0\n",
       "Name: pep, dtype: int64"
      ]
     },
     "execution_count": 15,
     "metadata": {},
     "output_type": "execute_result"
    }
   ],
   "source": [
    "df['pep'].head()"
   ]
  },
  {
   "cell_type": "code",
   "execution_count": 16,
   "metadata": {
    "colab": {},
    "colab_type": "code",
    "id": "noBquO9G55fG"
   },
   "outputs": [],
   "source": [
    "# scikit-learn에서는 속성과 클래스를 분리하여야 한다.\n",
    "# 예측 알고리즘은 숫자만 가능 (id는 현재 문자형)\n",
    "dfX = df.drop(['id','pep'], axis=1)  # exclude 'id' attribute & class variable\n",
    "dfy = df['pep']                    # class variable\n",
    "X_train, X_test, y_train, y_test = train_test_split(dfX, dfy, test_size=0.25, random_state=0)"
   ]
  },
  {
   "cell_type": "code",
   "execution_count": 17,
   "metadata": {
    "colab": {},
    "colab_type": "code",
    "id": "8h_qx8zq55fI"
   },
   "outputs": [
    {
     "data": {
      "text/plain": [
       "(450, 10)"
      ]
     },
     "metadata": {},
     "output_type": "display_data"
    },
    {
     "data": {
      "text/plain": [
       "(150, 10)"
      ]
     },
     "metadata": {},
     "output_type": "display_data"
    },
    {
     "data": {
      "text/html": [
       "<div>\n",
       "<style scoped>\n",
       "    .dataframe tbody tr th:only-of-type {\n",
       "        vertical-align: middle;\n",
       "    }\n",
       "\n",
       "    .dataframe tbody tr th {\n",
       "        vertical-align: top;\n",
       "    }\n",
       "\n",
       "    .dataframe thead th {\n",
       "        text-align: right;\n",
       "    }\n",
       "</style>\n",
       "<table border=\"1\" class=\"dataframe\">\n",
       "  <thead>\n",
       "    <tr style=\"text-align: right;\">\n",
       "      <th></th>\n",
       "      <th>age</th>\n",
       "      <th>sex</th>\n",
       "      <th>region</th>\n",
       "      <th>income</th>\n",
       "      <th>married</th>\n",
       "      <th>children</th>\n",
       "      <th>car</th>\n",
       "      <th>save_act</th>\n",
       "      <th>current_act</th>\n",
       "      <th>mortgage</th>\n",
       "    </tr>\n",
       "  </thead>\n",
       "  <tbody>\n",
       "    <tr>\n",
       "      <th>46</th>\n",
       "      <td>50.0</td>\n",
       "      <td>0</td>\n",
       "      <td>0</td>\n",
       "      <td>13283.9</td>\n",
       "      <td>0</td>\n",
       "      <td>1</td>\n",
       "      <td>1</td>\n",
       "      <td>1</td>\n",
       "      <td>1</td>\n",
       "      <td>0</td>\n",
       "    </tr>\n",
       "    <tr>\n",
       "      <th>263</th>\n",
       "      <td>60.0</td>\n",
       "      <td>0</td>\n",
       "      <td>0</td>\n",
       "      <td>46358.4</td>\n",
       "      <td>1</td>\n",
       "      <td>0</td>\n",
       "      <td>1</td>\n",
       "      <td>1</td>\n",
       "      <td>1</td>\n",
       "      <td>1</td>\n",
       "    </tr>\n",
       "    <tr>\n",
       "      <th>458</th>\n",
       "      <td>18.0</td>\n",
       "      <td>1</td>\n",
       "      <td>2</td>\n",
       "      <td>13700.2</td>\n",
       "      <td>0</td>\n",
       "      <td>1</td>\n",
       "      <td>0</td>\n",
       "      <td>1</td>\n",
       "      <td>1</td>\n",
       "      <td>0</td>\n",
       "    </tr>\n",
       "    <tr>\n",
       "      <th>230</th>\n",
       "      <td>59.0</td>\n",
       "      <td>0</td>\n",
       "      <td>0</td>\n",
       "      <td>30189.4</td>\n",
       "      <td>1</td>\n",
       "      <td>0</td>\n",
       "      <td>1</td>\n",
       "      <td>0</td>\n",
       "      <td>1</td>\n",
       "      <td>1</td>\n",
       "    </tr>\n",
       "    <tr>\n",
       "      <th>107</th>\n",
       "      <td>23.0</td>\n",
       "      <td>1</td>\n",
       "      <td>0</td>\n",
       "      <td>13039.9</td>\n",
       "      <td>1</td>\n",
       "      <td>0</td>\n",
       "      <td>0</td>\n",
       "      <td>0</td>\n",
       "      <td>1</td>\n",
       "      <td>0</td>\n",
       "    </tr>\n",
       "  </tbody>\n",
       "</table>\n",
       "</div>"
      ],
      "text/plain": [
       "      age  sex  region   income  married  children  car  save_act  \\\n",
       "46   50.0    0       0  13283.9        0         1    1         1   \n",
       "263  60.0    0       0  46358.4        1         0    1         1   \n",
       "458  18.0    1       2  13700.2        0         1    0         1   \n",
       "230  59.0    0       0  30189.4        1         0    1         0   \n",
       "107  23.0    1       0  13039.9        1         0    0         0   \n",
       "\n",
       "     current_act  mortgage  \n",
       "46             1         0  \n",
       "263            1         1  \n",
       "458            1         0  \n",
       "230            1         1  \n",
       "107            1         0  "
      ]
     },
     "execution_count": 17,
     "metadata": {},
     "output_type": "execute_result"
    }
   ],
   "source": [
    "# 지정한 비율(75:25)로 데이터가 잘 나누어졌는지 확인\n",
    "display(X_train.shape, X_test.shape)\n",
    "X_train.head()"
   ]
  },
  {
   "cell_type": "markdown",
   "metadata": {
    "colab_type": "text",
    "id": "rJTXjpmX55fM"
   },
   "source": [
    "## Step 4: Modeling ##"
   ]
  },
  {
   "cell_type": "code",
   "execution_count": 18,
   "metadata": {
    "colab": {},
    "colab_type": "code",
    "id": "Js4HNHDz55fO"
   },
   "outputs": [],
   "source": [
    "# 1. Import the estimator\n",
    "from sklearn.tree import DecisionTreeClassifier"
   ]
  },
  {
   "cell_type": "code",
   "execution_count": 19,
   "metadata": {
    "colab": {},
    "colab_type": "code",
    "id": "pSDift3255fQ"
   },
   "outputs": [],
   "source": [
    "# 2. Instantiate the estimator\n",
    "tree = DecisionTreeClassifier(max_depth=6, random_state=0)"
   ]
  },
  {
   "cell_type": "code",
   "execution_count": 20,
   "metadata": {
    "colab": {},
    "colab_type": "code",
    "id": "pDtnaIag55fT"
   },
   "outputs": [
    {
     "data": {
      "text/plain": [
       "DecisionTreeClassifier(max_depth=6, random_state=0)"
      ]
     },
     "execution_count": 20,
     "metadata": {},
     "output_type": "execute_result"
    }
   ],
   "source": [
    "# 3. Fit the data to the estimator\n",
    "tree.fit(X_train, y_train)"
   ]
  },
  {
   "cell_type": "code",
   "execution_count": 21,
   "metadata": {},
   "outputs": [
    {
     "data": {
      "text/plain": [
       "0.8733333333333333"
      ]
     },
     "metadata": {},
     "output_type": "display_data"
    }
   ],
   "source": [
    "# 평가\n",
    "display(tree.score(X_test, y_test))"
   ]
  },
  {
   "cell_type": "code",
   "execution_count": 24,
   "metadata": {},
   "outputs": [
    {
     "data": {
      "text/plain": [
       "434    0\n",
       "122    1\n",
       "224    1\n",
       "479    1\n",
       "205    1\n",
       "      ..\n",
       "598    0\n",
       "89     1\n",
       "382    0\n",
       "408    1\n",
       "157    0\n",
       "Name: pep, Length: 150, dtype: int64"
      ]
     },
     "execution_count": 24,
     "metadata": {},
     "output_type": "execute_result"
    }
   ],
   "source": [
    "y_test"
   ]
  },
  {
   "cell_type": "code",
   "execution_count": 22,
   "metadata": {
    "colab": {},
    "colab_type": "code",
    "id": "qsJ--LzO55fV"
   },
   "outputs": [
    {
     "data": {
      "text/plain": [
       "array([0, 1, 1, 1, 1, 1, 0, 0, 1, 0, 0, 1, 1, 0, 0, 1, 0, 1, 1, 0, 0, 0,\n",
       "       0, 1, 0, 1, 0, 1, 0, 0, 0, 0, 1, 0, 0, 1, 1, 0, 1, 0, 0, 1, 0, 1,\n",
       "       0, 1, 1, 0, 0, 1, 0, 1, 0, 0, 0, 0, 1, 1, 1, 1, 0, 0, 1, 1, 1, 1,\n",
       "       1, 0, 0, 1, 0, 0, 1, 1, 0, 1, 1, 0, 0, 0, 0, 0, 1, 0, 1, 0, 0, 0,\n",
       "       0, 1, 1, 0, 1, 1, 0, 1, 1, 0, 0, 1, 1, 1, 0, 0, 1, 0, 0, 0, 0, 1,\n",
       "       0, 0, 1, 0, 0, 1, 1, 1, 0, 0, 1, 0, 1, 1, 0, 0, 0, 1, 1, 0, 1, 0,\n",
       "       1, 0, 0, 0, 0, 1, 1, 1, 0, 0, 0, 0, 0, 0, 1, 0, 1, 0], dtype=int64)"
      ]
     },
     "execution_count": 22,
     "metadata": {},
     "output_type": "execute_result"
    }
   ],
   "source": [
    "# 4. Generate a prediction\n",
    "pred_tree = tree.predict(X_test); pred_tree"
   ]
  },
  {
   "cell_type": "code",
   "execution_count": 23,
   "metadata": {
    "colab": {},
    "colab_type": "code",
    "id": "JXFoFn7j55fe"
   },
   "outputs": [
    {
     "data": {
      "text/plain": [
       "0.9355555555555556"
      ]
     },
     "metadata": {},
     "output_type": "display_data"
    },
    {
     "data": {
      "text/plain": [
       "0.8733333333333333"
      ]
     },
     "metadata": {},
     "output_type": "display_data"
    }
   ],
   "source": [
    "# 5. Evaluate the estimator\n",
    "display(tree.score(X_train, y_train))\n",
    "display(tree.score(X_test, y_test))"
   ]
  },
  {
   "cell_type": "markdown",
   "metadata": {
    "colab_type": "text",
    "id": "2eH3biQf55fl"
   },
   "source": [
    "## Step 5: Evaluation ##"
   ]
  },
  {
   "cell_type": "markdown",
   "metadata": {
    "colab_type": "text",
    "id": "O8VBlwmB55fm"
   },
   "source": [
    "<font color = \"red\">\n",
    "- *Which model is the best ?*\n",
    "- *Is the model useful ?*\n",
    "<font>"
   ]
  },
  {
   "cell_type": "code",
   "execution_count": 26,
   "metadata": {
    "colab": {},
    "colab_type": "code",
    "id": "0sEszdbk55fm"
   },
   "outputs": [
    {
     "data": {
      "text/plain": [
       "0.8733333333333333"
      ]
     },
     "execution_count": 26,
     "metadata": {},
     "output_type": "execute_result"
    }
   ],
   "source": [
    "tree.score(X_test, y_test)"
   ]
  },
  {
   "cell_type": "markdown",
   "metadata": {
    "colab_type": "text",
    "id": "68G_maaD55fp"
   },
   "source": [
    "## Step 6: Deployment ##"
   ]
  },
  {
   "cell_type": "code",
   "execution_count": 25,
   "metadata": {
    "colab": {},
    "colab_type": "code",
    "id": "ka-V7sgC55ft"
   },
   "outputs": [],
   "source": [
    "# ndf = new\n",
    "ndf = new.copy()"
   ]
  },
  {
   "cell_type": "code",
   "execution_count": null,
   "metadata": {},
   "outputs": [],
   "source": [
    "ndf.head(3)"
   ]
  },
  {
   "cell_type": "markdown",
   "metadata": {
    "colab_type": "text",
    "id": "FPy8Dr_A55fv"
   },
   "source": [
    "### A Case: Apply the best model to select target customers ###"
   ]
  },
  {
   "cell_type": "code",
   "execution_count": 28,
   "metadata": {
    "colab": {},
    "colab_type": "code",
    "id": "9Q6vtJm_55fx"
   },
   "outputs": [],
   "source": [
    "# 개발 모형에 고객 데이터를 적용하여 개인연금 구매여부를 예측: id 제외\n",
    "ndf['pred'] = tree.predict(ndf.loc[:,'age':'mortgage'])"
   ]
  },
  {
   "cell_type": "code",
   "execution_count": 29,
   "metadata": {},
   "outputs": [
    {
     "data": {
      "text/html": [
       "<div>\n",
       "<style scoped>\n",
       "    .dataframe tbody tr th:only-of-type {\n",
       "        vertical-align: middle;\n",
       "    }\n",
       "\n",
       "    .dataframe tbody tr th {\n",
       "        vertical-align: top;\n",
       "    }\n",
       "\n",
       "    .dataframe thead th {\n",
       "        text-align: right;\n",
       "    }\n",
       "</style>\n",
       "<table border=\"1\" class=\"dataframe\">\n",
       "  <thead>\n",
       "    <tr style=\"text-align: right;\">\n",
       "      <th></th>\n",
       "      <th>id</th>\n",
       "      <th>age</th>\n",
       "      <th>sex</th>\n",
       "      <th>region</th>\n",
       "      <th>income</th>\n",
       "      <th>married</th>\n",
       "      <th>children</th>\n",
       "      <th>car</th>\n",
       "      <th>save_act</th>\n",
       "      <th>current_act</th>\n",
       "      <th>mortgage</th>\n",
       "      <th>pred</th>\n",
       "    </tr>\n",
       "  </thead>\n",
       "  <tbody>\n",
       "    <tr>\n",
       "      <th>0</th>\n",
       "      <td>ID12701</td>\n",
       "      <td>23</td>\n",
       "      <td>1</td>\n",
       "      <td>0</td>\n",
       "      <td>18766.90</td>\n",
       "      <td>1</td>\n",
       "      <td>0</td>\n",
       "      <td>1</td>\n",
       "      <td>1</td>\n",
       "      <td>0</td>\n",
       "      <td>1</td>\n",
       "      <td>0</td>\n",
       "    </tr>\n",
       "    <tr>\n",
       "      <th>1</th>\n",
       "      <td>ID12702</td>\n",
       "      <td>30</td>\n",
       "      <td>1</td>\n",
       "      <td>1</td>\n",
       "      <td>9915.67</td>\n",
       "      <td>0</td>\n",
       "      <td>1</td>\n",
       "      <td>0</td>\n",
       "      <td>1</td>\n",
       "      <td>0</td>\n",
       "      <td>1</td>\n",
       "      <td>0</td>\n",
       "    </tr>\n",
       "    <tr>\n",
       "      <th>2</th>\n",
       "      <td>ID12703</td>\n",
       "      <td>45</td>\n",
       "      <td>0</td>\n",
       "      <td>1</td>\n",
       "      <td>21881.60</td>\n",
       "      <td>0</td>\n",
       "      <td>0</td>\n",
       "      <td>1</td>\n",
       "      <td>1</td>\n",
       "      <td>1</td>\n",
       "      <td>0</td>\n",
       "      <td>1</td>\n",
       "    </tr>\n",
       "  </tbody>\n",
       "</table>\n",
       "</div>"
      ],
      "text/plain": [
       "        id  age  sex  region    income  married  children  car  save_act  \\\n",
       "0  ID12701   23    1       0  18766.90        1         0    1         1   \n",
       "1  ID12702   30    1       1   9915.67        0         1    0         1   \n",
       "2  ID12703   45    0       1  21881.60        0         0    1         1   \n",
       "\n",
       "   current_act  mortgage  pred  \n",
       "0            0         1     0  \n",
       "1            0         1     0  \n",
       "2            1         0     1  "
      ]
     },
     "execution_count": 29,
     "metadata": {},
     "output_type": "execute_result"
    }
   ],
   "source": [
    "ndf.head(3)"
   ]
  },
  {
   "cell_type": "code",
   "execution_count": 31,
   "metadata": {
    "colab": {},
    "colab_type": "code",
    "id": "L0XH9KwW55fy"
   },
   "outputs": [
    {
     "name": "stdout",
     "output_type": "stream",
     "text": [
      "[[0.88       0.12      ]\n",
      " [1.         0.        ]\n",
      " [0.         1.        ]\n",
      " [0.         1.        ]\n",
      " [0.81395349 0.18604651]\n",
      " [0.         1.        ]\n",
      " [0.88       0.12      ]\n",
      " [0.         1.        ]\n",
      " [0.90909091 0.09090909]\n",
      " [0.07142857 0.92857143]\n",
      " [0.88       0.12      ]\n",
      " [0.         1.        ]\n",
      " [0.81395349 0.18604651]\n",
      " [0.96       0.04      ]\n",
      " [1.         0.        ]\n",
      " [0.         1.        ]\n",
      " [0.88       0.12      ]\n",
      " [0.         1.        ]\n",
      " [0.         1.        ]\n",
      " [1.         0.        ]\n",
      " [0.         1.        ]\n",
      " [0.86956522 0.13043478]\n",
      " [0.         1.        ]\n",
      " [0.88       0.12      ]\n",
      " [1.         0.        ]\n",
      " [0.         1.        ]\n",
      " [0.96       0.04      ]\n",
      " [0.88       0.12      ]\n",
      " [0.         1.        ]\n",
      " [0.         1.        ]\n",
      " [0.         1.        ]\n",
      " [0.86956522 0.13043478]\n",
      " [0.15       0.85      ]\n",
      " [1.         0.        ]\n",
      " [0.81395349 0.18604651]\n",
      " [0.         1.        ]\n",
      " [0.81395349 0.18604651]\n",
      " [0.88       0.12      ]\n",
      " [1.         0.        ]\n",
      " [1.         0.        ]\n",
      " [0.         1.        ]\n",
      " [1.         0.        ]\n",
      " [0.07142857 0.92857143]\n",
      " [0.07142857 0.92857143]\n",
      " [0.         1.        ]\n",
      " [0.07142857 0.92857143]\n",
      " [0.         1.        ]\n",
      " [1.         0.        ]\n",
      " [0.81395349 0.18604651]\n",
      " [0.96       0.04      ]\n",
      " [0.88       0.12      ]\n",
      " [0.         1.        ]\n",
      " [0.         1.        ]\n",
      " [0.81395349 0.18604651]\n",
      " [1.         0.        ]\n",
      " [0.         1.        ]\n",
      " [0.         1.        ]\n",
      " [1.         0.        ]\n",
      " [0.86956522 0.13043478]\n",
      " [0.         1.        ]\n",
      " [0.         1.        ]\n",
      " [1.         0.        ]\n",
      " [0.         1.        ]\n",
      " [0.         1.        ]\n",
      " [1.         0.        ]\n",
      " [0.         1.        ]\n",
      " [1.         0.        ]\n",
      " [0.90909091 0.09090909]\n",
      " [1.         0.        ]\n",
      " [0.         1.        ]\n",
      " [0.         1.        ]\n",
      " [0.81395349 0.18604651]\n",
      " [1.         0.        ]\n",
      " [0.         1.        ]\n",
      " [0.96       0.04      ]\n",
      " [0.66666667 0.33333333]\n",
      " [0.96       0.04      ]\n",
      " [0.18181818 0.81818182]\n",
      " [0.90909091 0.09090909]\n",
      " [0.88       0.12      ]\n",
      " [0.         1.        ]\n",
      " [0.         1.        ]\n",
      " [0.90909091 0.09090909]\n",
      " [0.         1.        ]\n",
      " [0.96       0.04      ]\n",
      " [0.18181818 0.81818182]\n",
      " [1.         0.        ]\n",
      " [0.7        0.3       ]\n",
      " [1.         0.        ]\n",
      " [0.         1.        ]\n",
      " [0.         1.        ]\n",
      " [0.81395349 0.18604651]\n",
      " [0.96       0.04      ]\n",
      " [1.         0.        ]\n",
      " [0.96       0.04      ]\n",
      " [0.86956522 0.13043478]\n",
      " [0.07142857 0.92857143]\n",
      " [0.         1.        ]\n",
      " [0.96       0.04      ]\n",
      " [0.88       0.12      ]\n",
      " [0.81395349 0.18604651]\n",
      " [0.         1.        ]\n",
      " [1.         0.        ]\n",
      " [0.07142857 0.92857143]\n",
      " [1.         0.        ]\n",
      " [1.         0.        ]\n",
      " [0.15       0.85      ]\n",
      " [0.         1.        ]\n",
      " [0.86956522 0.13043478]\n",
      " [0.         1.        ]\n",
      " [0.         1.        ]\n",
      " [0.         1.        ]\n",
      " [1.         0.        ]\n",
      " [0.         1.        ]\n",
      " [1.         0.        ]\n",
      " [0.90909091 0.09090909]\n",
      " [0.         1.        ]\n",
      " [0.18181818 0.81818182]\n",
      " [1.         0.        ]\n",
      " [0.         1.        ]\n",
      " [0.18181818 0.81818182]\n",
      " [0.96       0.04      ]\n",
      " [0.         1.        ]\n",
      " [1.         0.        ]\n",
      " [0.88       0.12      ]\n",
      " [1.         0.        ]\n",
      " [0.81395349 0.18604651]\n",
      " [1.         0.        ]\n",
      " [0.15       0.85      ]\n",
      " [0.         1.        ]\n",
      " [0.         1.        ]\n",
      " [0.86956522 0.13043478]\n",
      " [0.81395349 0.18604651]\n",
      " [0.96       0.04      ]\n",
      " [0.66666667 0.33333333]\n",
      " [0.         1.        ]\n",
      " [1.         0.        ]\n",
      " [0.         1.        ]\n",
      " [0.15       0.85      ]\n",
      " [0.         1.        ]\n",
      " [0.86956522 0.13043478]\n",
      " [1.         0.        ]\n",
      " [0.7        0.3       ]\n",
      " [0.88       0.12      ]\n",
      " [0.         1.        ]\n",
      " [0.15       0.85      ]\n",
      " [1.         0.        ]\n",
      " [0.         1.        ]\n",
      " [0.66666667 0.33333333]\n",
      " [0.96       0.04      ]\n",
      " [0.         1.        ]\n",
      " [1.         0.        ]\n",
      " [0.         1.        ]\n",
      " [0.         1.        ]\n",
      " [0.07142857 0.92857143]\n",
      " [0.7        0.3       ]\n",
      " [0.96       0.04      ]\n",
      " [0.86956522 0.13043478]\n",
      " [0.96       0.04      ]\n",
      " [0.15       0.85      ]\n",
      " [0.88       0.12      ]\n",
      " [0.15       0.85      ]\n",
      " [0.66666667 0.33333333]\n",
      " [0.88       0.12      ]\n",
      " [1.         0.        ]\n",
      " [0.86956522 0.13043478]\n",
      " [1.         0.        ]\n",
      " [0.         1.        ]\n",
      " [1.         0.        ]\n",
      " [1.         0.        ]\n",
      " [0.88       0.12      ]\n",
      " [1.         0.        ]\n",
      " [0.18181818 0.81818182]\n",
      " [1.         0.        ]\n",
      " [0.86956522 0.13043478]\n",
      " [1.         0.        ]\n",
      " [1.         0.        ]\n",
      " [0.81395349 0.18604651]\n",
      " [0.7        0.3       ]\n",
      " [0.88       0.12      ]\n",
      " [0.88       0.12      ]\n",
      " [0.         1.        ]\n",
      " [0.         1.        ]\n",
      " [0.         1.        ]\n",
      " [0.81395349 0.18604651]\n",
      " [1.         0.        ]\n",
      " [1.         0.        ]\n",
      " [1.         0.        ]\n",
      " [0.90909091 0.09090909]\n",
      " [1.         0.        ]\n",
      " [0.         1.        ]\n",
      " [0.88       0.12      ]\n",
      " [0.81395349 0.18604651]\n",
      " [1.         0.        ]\n",
      " [1.         0.        ]\n",
      " [0.         1.        ]\n",
      " [1.         0.        ]\n",
      " [0.         1.        ]\n",
      " [0.81395349 0.18604651]\n",
      " [0.86956522 0.13043478]]\n"
     ]
    },
    {
     "data": {
      "text/html": [
       "<div>\n",
       "<style scoped>\n",
       "    .dataframe tbody tr th:only-of-type {\n",
       "        vertical-align: middle;\n",
       "    }\n",
       "\n",
       "    .dataframe tbody tr th {\n",
       "        vertical-align: top;\n",
       "    }\n",
       "\n",
       "    .dataframe thead th {\n",
       "        text-align: right;\n",
       "    }\n",
       "</style>\n",
       "<table border=\"1\" class=\"dataframe\">\n",
       "  <thead>\n",
       "    <tr style=\"text-align: right;\">\n",
       "      <th></th>\n",
       "      <th>id</th>\n",
       "      <th>age</th>\n",
       "      <th>sex</th>\n",
       "      <th>region</th>\n",
       "      <th>income</th>\n",
       "      <th>married</th>\n",
       "      <th>children</th>\n",
       "      <th>car</th>\n",
       "      <th>save_act</th>\n",
       "      <th>current_act</th>\n",
       "      <th>mortgage</th>\n",
       "      <th>pred</th>\n",
       "      <th>pred_prob</th>\n",
       "    </tr>\n",
       "  </thead>\n",
       "  <tbody>\n",
       "    <tr>\n",
       "      <th>0</th>\n",
       "      <td>ID12701</td>\n",
       "      <td>23</td>\n",
       "      <td>1</td>\n",
       "      <td>0</td>\n",
       "      <td>18766.90</td>\n",
       "      <td>1</td>\n",
       "      <td>0</td>\n",
       "      <td>1</td>\n",
       "      <td>1</td>\n",
       "      <td>0</td>\n",
       "      <td>1</td>\n",
       "      <td>0</td>\n",
       "      <td>0.12</td>\n",
       "    </tr>\n",
       "    <tr>\n",
       "      <th>1</th>\n",
       "      <td>ID12702</td>\n",
       "      <td>30</td>\n",
       "      <td>1</td>\n",
       "      <td>1</td>\n",
       "      <td>9915.67</td>\n",
       "      <td>0</td>\n",
       "      <td>1</td>\n",
       "      <td>0</td>\n",
       "      <td>1</td>\n",
       "      <td>0</td>\n",
       "      <td>1</td>\n",
       "      <td>0</td>\n",
       "      <td>0.00</td>\n",
       "    </tr>\n",
       "    <tr>\n",
       "      <th>2</th>\n",
       "      <td>ID12703</td>\n",
       "      <td>45</td>\n",
       "      <td>0</td>\n",
       "      <td>1</td>\n",
       "      <td>21881.60</td>\n",
       "      <td>0</td>\n",
       "      <td>0</td>\n",
       "      <td>1</td>\n",
       "      <td>1</td>\n",
       "      <td>1</td>\n",
       "      <td>0</td>\n",
       "      <td>1</td>\n",
       "      <td>1.00</td>\n",
       "    </tr>\n",
       "  </tbody>\n",
       "</table>\n",
       "</div>"
      ],
      "text/plain": [
       "        id  age  sex  region    income  married  children  car  save_act  \\\n",
       "0  ID12701   23    1       0  18766.90        1         0    1         1   \n",
       "1  ID12702   30    1       1   9915.67        0         1    0         1   \n",
       "2  ID12703   45    0       1  21881.60        0         0    1         1   \n",
       "\n",
       "   current_act  mortgage  pred  pred_prob  \n",
       "0            0         1     0       0.12  \n",
       "1            0         1     0       0.00  \n",
       "2            1         0     1       1.00  "
      ]
     },
     "execution_count": 31,
     "metadata": {},
     "output_type": "execute_result"
    }
   ],
   "source": [
    "# 개인연금 구매확률을 예측: predict_proba() 사용\n",
    "print(tree.predict_proba(ndf.loc[:,'age':'mortgage']))\n",
    "ndf['pred_prob'] = tree.predict_proba(ndf.loc[:,'age':'mortgage'])[:,1]\n",
    "ndf.head(3)"
   ]
  },
  {
   "cell_type": "code",
   "execution_count": 32,
   "metadata": {
    "colab": {},
    "colab_type": "code",
    "id": "jPmfTq5J55f3"
   },
   "outputs": [
    {
     "data": {
      "text/html": [
       "<div>\n",
       "<style scoped>\n",
       "    .dataframe tbody tr th:only-of-type {\n",
       "        vertical-align: middle;\n",
       "    }\n",
       "\n",
       "    .dataframe tbody tr th {\n",
       "        vertical-align: top;\n",
       "    }\n",
       "\n",
       "    .dataframe thead th {\n",
       "        text-align: right;\n",
       "    }\n",
       "</style>\n",
       "<table border=\"1\" class=\"dataframe\">\n",
       "  <thead>\n",
       "    <tr style=\"text-align: right;\">\n",
       "      <th></th>\n",
       "      <th>id</th>\n",
       "      <th>age</th>\n",
       "      <th>sex</th>\n",
       "      <th>region</th>\n",
       "      <th>income</th>\n",
       "      <th>married</th>\n",
       "      <th>children</th>\n",
       "      <th>car</th>\n",
       "      <th>save_act</th>\n",
       "      <th>current_act</th>\n",
       "      <th>mortgage</th>\n",
       "      <th>pred</th>\n",
       "      <th>pred_prob</th>\n",
       "    </tr>\n",
       "  </thead>\n",
       "  <tbody>\n",
       "    <tr>\n",
       "      <th>76</th>\n",
       "      <td>ID12778</td>\n",
       "      <td>64</td>\n",
       "      <td>1</td>\n",
       "      <td>3</td>\n",
       "      <td>29107.5</td>\n",
       "      <td>0</td>\n",
       "      <td>0</td>\n",
       "      <td>1</td>\n",
       "      <td>0</td>\n",
       "      <td>1</td>\n",
       "      <td>0</td>\n",
       "      <td>1</td>\n",
       "      <td>0.818182</td>\n",
       "    </tr>\n",
       "    <tr>\n",
       "      <th>77</th>\n",
       "      <td>ID12873</td>\n",
       "      <td>43</td>\n",
       "      <td>1</td>\n",
       "      <td>3</td>\n",
       "      <td>28741.6</td>\n",
       "      <td>0</td>\n",
       "      <td>0</td>\n",
       "      <td>0</td>\n",
       "      <td>0</td>\n",
       "      <td>0</td>\n",
       "      <td>0</td>\n",
       "      <td>1</td>\n",
       "      <td>0.818182</td>\n",
       "    </tr>\n",
       "    <tr>\n",
       "      <th>78</th>\n",
       "      <td>ID12786</td>\n",
       "      <td>18</td>\n",
       "      <td>0</td>\n",
       "      <td>3</td>\n",
       "      <td>15800.6</td>\n",
       "      <td>0</td>\n",
       "      <td>0</td>\n",
       "      <td>1</td>\n",
       "      <td>0</td>\n",
       "      <td>1</td>\n",
       "      <td>0</td>\n",
       "      <td>1</td>\n",
       "      <td>0.818182</td>\n",
       "    </tr>\n",
       "    <tr>\n",
       "      <th>79</th>\n",
       "      <td>ID12821</td>\n",
       "      <td>60</td>\n",
       "      <td>0</td>\n",
       "      <td>3</td>\n",
       "      <td>27558.6</td>\n",
       "      <td>0</td>\n",
       "      <td>0</td>\n",
       "      <td>1</td>\n",
       "      <td>1</td>\n",
       "      <td>0</td>\n",
       "      <td>0</td>\n",
       "      <td>1</td>\n",
       "      <td>0.818182</td>\n",
       "    </tr>\n",
       "    <tr>\n",
       "      <th>80</th>\n",
       "      <td>ID12818</td>\n",
       "      <td>54</td>\n",
       "      <td>0</td>\n",
       "      <td>3</td>\n",
       "      <td>44982.1</td>\n",
       "      <td>0</td>\n",
       "      <td>0</td>\n",
       "      <td>1</td>\n",
       "      <td>1</td>\n",
       "      <td>0</td>\n",
       "      <td>0</td>\n",
       "      <td>1</td>\n",
       "      <td>0.818182</td>\n",
       "    </tr>\n",
       "  </tbody>\n",
       "</table>\n",
       "</div>"
      ],
      "text/plain": [
       "         id  age  sex  region   income  married  children  car  save_act  \\\n",
       "76  ID12778   64    1       3  29107.5        0         0    1         0   \n",
       "77  ID12873   43    1       3  28741.6        0         0    0         0   \n",
       "78  ID12786   18    0       3  15800.6        0         0    1         0   \n",
       "79  ID12821   60    0       3  27558.6        0         0    1         1   \n",
       "80  ID12818   54    0       3  44982.1        0         0    1         1   \n",
       "\n",
       "    current_act  mortgage  pred  pred_prob  \n",
       "76            1         0     1   0.818182  \n",
       "77            0         0     1   0.818182  \n",
       "78            1         0     1   0.818182  \n",
       "79            0         0     1   0.818182  \n",
       "80            0         0     1   0.818182  "
      ]
     },
     "execution_count": 32,
     "metadata": {},
     "output_type": "execute_result"
    }
   ],
   "source": [
    "# 특정 조건을 만족하는 고객 리스트를 추출하고 저장\n",
    "# query 조건 만족 행을 뽑을 때 사용\n",
    "target = ndf.query('pred == 1 & pred_prob > 0.7')  # PEP에 가입할 확율이 70%가 넘는 고객만 추출\n",
    "target.sort_values(by=\"pred_prob\", ascending=False).to_csv(\"pep_target_홍길동.csv\", index=False)\n",
    "pd.read_csv(\"pep_target_홍길동.csv\").tail()"
   ]
  },
  {
   "cell_type": "code",
   "execution_count": null,
   "metadata": {},
   "outputs": [],
   "source": []
  }
 ],
 "metadata": {
  "colab": {
   "name": "code_0416_01.ipynb",
   "provenance": [],
   "version": "0.3.2"
  },
  "kernelspec": {
   "display_name": "Python 3",
   "language": "python",
   "name": "python3"
  },
  "language_info": {
   "codemirror_mode": {
    "name": "ipython",
    "version": 3
   },
   "file_extension": ".py",
   "mimetype": "text/x-python",
   "name": "python",
   "nbconvert_exporter": "python",
   "pygments_lexer": "ipython3",
   "version": "3.8.5"
  }
 },
 "nbformat": 4,
 "nbformat_minor": 4
}
