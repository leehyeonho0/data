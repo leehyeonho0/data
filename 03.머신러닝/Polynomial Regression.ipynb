{
 "cells": [
  {
   "cell_type": "markdown",
   "metadata": {},
   "source": [
    "# Polynomial Regression\n",
    "- 실생활 데이터들은 선형 보다는 비선형 형태를 띄고 있는 경우가 많습니다. 이럴 경우 선형 모델로는 원하는 성능을 얻을 수 없습니다. 이때는 비선형 데이터를 고차원 함수를 통해 새로운 공간에 맵핑하여 선형 회귀를 이용하는 방법이 많이 쓰입니다.<br>\n",
    "- PolynomialFeatures 함수는 주어인 degree 를 이용하여 입력된 데이터를 새로운 차원으로 맵핑한 결과를 돌려 줍니다."
   ]
  },
  {
   "cell_type": "code",
   "execution_count": 1,
   "metadata": {},
   "outputs": [
    {
     "name": "stdout",
     "output_type": "stream",
     "text": [
      "[[0 1]\n",
      " [2 3]\n",
      " [4 5]]\n",
      "[[ 1.  0.  1.  0.  0.  1.]\n",
      " [ 1.  2.  3.  4.  6.  9.]\n",
      " [ 1.  4.  5. 16. 20. 25.]]\n"
     ]
    }
   ],
   "source": [
    "from sklearn import preprocessing\n",
    "import numpy as np\n",
    "X = np.arange(6).reshape(3, 2)\n",
    "print(X)\n",
    "\n",
    "poly = preprocessing.PolynomialFeatures(degree=2)\n",
    "new_X = poly.fit_transform(X)\n",
    "print(new_X)"
   ]
  },
  {
   "cell_type": "markdown",
   "metadata": {},
   "source": [
    "- [x1,x2] 변수를 [1,x1,x2,x21,x1x2,x22] 2차원 공간으로 맵핑한 전처리 결과입니다. \n",
    "- 전처리 후에는 다양한 선형 회귀 함수들을 이용하여 모델을 만드는 것이 가능합니다.\n",
    "- 경우에 따라서 고차원 맵핑이 아닌 교차 특징(intersaction features)\n",
    "  [1,x1,x2,x1x2]만 필요한 경우는 interaction_only=True 를 사용할 수 있습니다. \n",
    "  예를 들면 XOR 문제를 이 방식으로 선형 회귀를 통해 풀수 있게 됩니다."
   ]
  },
  {
   "cell_type": "code",
   "execution_count": 2,
   "metadata": {},
   "outputs": [],
   "source": [
    "import warnings\n",
    "warnings.filterwarnings(\"ignore\")\n",
    "from sklearn import linear_model\n",
    "from sklearn import preprocessing\n",
    "import numpy as np"
   ]
  },
  {
   "cell_type": "code",
   "execution_count": 4,
   "metadata": {},
   "outputs": [
    {
     "name": "stdout",
     "output_type": "stream",
     "text": [
      "[[0 0]\n",
      " [0 1]\n",
      " [1 0]\n",
      " [1 1]]\n",
      "[0 1 1 0]\n"
     ]
    }
   ],
   "source": [
    "X = np.array([[0, 0], [0, 1], [1, 0], [1, 1]])\n",
    "y = X[:, 0] ^ X[:, 1]\n",
    "print(X)\n",
    "print(y)"
   ]
  },
  {
   "cell_type": "code",
   "execution_count": 5,
   "metadata": {},
   "outputs": [
    {
     "name": "stdout",
     "output_type": "stream",
     "text": [
      "[[1 0 0 0]\n",
      " [1 0 1 0]\n",
      " [1 1 0 0]\n",
      " [1 1 1 1]]\n"
     ]
    }
   ],
   "source": [
    "X = preprocessing.PolynomialFeatures(interaction_only=True).fit_transform(X).astype(int)\n",
    "print(X)\n",
    "clf = linear_model.Perceptron(fit_intercept=False, max_iter=10, tol=None, shuffle=False).fit(X, y)"
   ]
  },
  {
   "cell_type": "code",
   "execution_count": 6,
   "metadata": {},
   "outputs": [
    {
     "name": "stdout",
     "output_type": "stream",
     "text": [
      "1.0\n"
     ]
    }
   ],
   "source": [
    "clf.predict(X)\n",
    "print(clf.score(X, y))"
   ]
  },
  {
   "cell_type": "code",
   "execution_count": 7,
   "metadata": {},
   "outputs": [],
   "source": [
    "%matplotlib inline\n",
    "import matplotlib.pyplot as plt\n",
    "import warnings\n",
    "warnings.filterwarnings(\"ignore\")\n",
    "from sklearn import datasets, preprocessing, model_selection, linear_model, metrics"
   ]
  },
  {
   "cell_type": "code",
   "execution_count": 8,
   "metadata": {},
   "outputs": [
    {
     "name": "stdout",
     "output_type": "stream",
     "text": [
      "data shape: np_data_xs=(1000, 1), np_data_ys=(1000,)\n",
      "train shape: np_train_xs=(700, 1), np_train_ys=(700,)\n",
      "test shape: np_test_xs=(300, 1), np_test_ys=(300,)\n"
     ]
    },
    {
     "data": {
      "image/png": "[encoded data removed]",
      "text/plain": [
       "<Figure size 432x288 with 1 Axes>"
      ]
     },
     "metadata": {
      "needs_background": "light"
     },
     "output_type": "display_data"
    }
   ],
   "source": [
    "# 데이터\n",
    "np.random.seed(0)\n",
    "n_samples = 1000\n",
    "# np_data_xs = 2 - 3 * np.random.normal(0, 1, n_samples)\n",
    "# np_data_ys = np_data_xs - 2 * (np_data_xs ** 2) + 0.5 * (np_data_xs ** 3) + np.random.normal(-3, 3, n_samples)\n",
    "# np_data_xs = np_data_xs.reshape(-1, 1)\n",
    "# np_data_ys = np_data_ys.reshape(-1)\n",
    "np_data_xs, np_data_ys = datasets.make_regression(\n",
    "    n_samples=n_samples, # 데이터 수\n",
    "    n_features=1, # X feature 수\n",
    "    bias=1.0, # Y 절편\n",
    "    noise=0.3, # X 변수들에 더해지는 잡음의 표준 편차\n",
    "    random_state=0) # 난수 발생용 Seed 값\n",
    "np_data_ys = np_data_ys**3 # Y 차원\n",
    "print(\"data shape: np_data_xs={}, np_data_ys={}\".format(np_data_xs.shape, np_data_ys.shape))\n",
    "np_train_xs, np_test_xs, np_train_ys, np_test_ys = model_selection.train_test_split(\n",
    "    np_data_xs, np_data_ys, \n",
    "    test_size=0.3, shuffle=True, random_state=2)\n",
    "print(\"train shape: np_train_xs={}, np_train_ys={}\".format(np_train_xs.shape, np_train_ys.shape))\n",
    "print(\"test shape: np_test_xs={}, np_test_ys={}\".format(np_test_xs.shape, np_test_ys.shape))\n",
    "plt.scatter(np_train_xs, np_train_ys, label='train', c='b')\n",
    "plt.scatter(np_test_xs, np_test_ys, label='test', c='g')\n",
    "plt.legend()\n",
    "plt.show()"
   ]
  },
  {
   "cell_type": "code",
   "execution_count": 9,
   "metadata": {},
   "outputs": [],
   "source": [
    "# 전처리\n",
    "# PolynomialFeature 로 변환\n",
    "poly = preprocessing.PolynomialFeatures(degree=3)\n",
    "np_train_poly_xs = poly.fit_transform(np_train_xs)\n",
    "np_test_poly_xs = poly.transform(np_test_xs)"
   ]
  },
  {
   "cell_type": "code",
   "execution_count": 10,
   "metadata": {},
   "outputs": [
    {
     "data": {
      "text/plain": [
       "[LinearRegression()]"
      ]
     },
     "execution_count": 10,
     "metadata": {},
     "output_type": "execute_result"
    }
   ],
   "source": [
    "# 모델\n",
    "models = [\n",
    "    linear_model.LinearRegression()\n",
    "]\n",
    "models"
   ]
  },
  {
   "cell_type": "code",
   "execution_count": 11,
   "metadata": {},
   "outputs": [
    {
     "name": "stdout",
     "output_type": "stream",
     "text": [
      "\n",
      "model=LinearRegression()\n",
      "r_square=0.99997\n"
     ]
    },
    {
     "data": {
      "image/png": "[encoded data removed]",
      "text/plain": [
       "<Figure size 432x288 with 1 Axes>"
      ]
     },
     "metadata": {
      "needs_background": "light"
     },
     "output_type": "display_data"
    }
   ],
   "source": [
    "for model in models:\n",
    "    # 학습\n",
    "    print(\"\\nmodel={}\".format(model))\n",
    "    model.fit(np_train_poly_xs, np_train_ys)\n",
    "\n",
    "    # 평가\n",
    "    np_pred_ys = model.predict(np_test_poly_xs)\n",
    "\n",
    "    r_square = metrics.r2_score(np_test_ys, np_pred_ys)\n",
    "    print(\"r_square={:.5f}\".format(r_square))\n",
    "    \n",
    "    plt.scatter(np_test_xs, np_test_ys, label='test', c='g')\n",
    "    plt.scatter(np_test_xs, np_pred_ys, label='predict', c='r', alpha=0.5)\n",
    "    plt.legend()\n",
    "    plt.show()"
   ]
  },
  {
   "cell_type": "code",
   "execution_count": null,
   "metadata": {},
   "outputs": [],
   "source": []
  }
 ],
 "metadata": {
  "kernelspec": {
   "display_name": "Python 3",
   "language": "python",
   "name": "python3"
  },
  "language_info": {
   "codemirror_mode": {
    "name": "ipython",
    "version": 3
   },
   "file_extension": ".py",
   "mimetype": "text/x-python",
   "name": "python",
   "nbconvert_exporter": "python",
   "pygments_lexer": "ipython3",
   "version": "3.8.5"
  }
 },
 "nbformat": 4,
 "nbformat_minor": 4
}
