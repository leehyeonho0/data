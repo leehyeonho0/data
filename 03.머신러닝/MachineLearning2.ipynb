{
 "cells": [
  {
   "cell_type": "markdown",
   "metadata": {
    "colab_type": "text",
    "id": "HrGfVsYC55eL"
   },
   "source": [
    "<font color = \"#CC3D3D\">\n",
    "# End-to-End Machine Learning Project #\n",
    "<p>\n",
    "- #### *Based on CRISP-DM & scikit-learn*    \n",
    "<br>\n",
    "<img align=\"left\" src=\"http://www.kdnuggets.com/wp-content/uploads/crisp-dm-4-problems-fig1.png\" alt=\"CRISP-DM\">"
   ]
  },
  {
   "cell_type": "markdown",
   "metadata": {
    "colab_type": "text",
    "id": "RTnVrBNx55eM"
   },
   "source": [
    "## Step 1: Business Understanding ##\n",
    "\n",
    "1. Business Objectives\n",
    " - 새로운 개인연금상품(PEP: Personal Equity Plan)을 개발하여 기존 고객들을 대상으로 가능한 많은 계좌를 유치\n",
    "2. Analytics Goals\n",
    " - PEP 가입 예측모형 개발\n",
    " - 고객 프로파일 개발\n",
    " - 다이렉트 메일 광고 효율성 제고\n",
    " - 타겟 메일링에 의한 응답률 제고 "
   ]
  },
  {
   "cell_type": "markdown",
   "metadata": {
    "colab_type": "text",
    "id": "b6F-PwAo55eN"
   },
   "source": [
    "## Step 2: Data Understanding ##\n",
    "1. 데이터 획득 절차\n",
    " - 기존고객 DB로부터 시험메일 발송을 위한 표본고객목록을 추출\n",
    " - 새로운 금융상품(PEP)의 제안 메일을 발송\n",
    " - 고객의 반응을 기록\n",
    "2. 분석 데이터\n",
    " - 학습용 데이터 600건\n",
    " - 신규고객 데이터 200건"
   ]
  },
  {
   "cell_type": "code",
   "execution_count": 1,
   "metadata": {
    "colab": {},
    "colab_type": "code",
    "id": "dmudgueV55eO"
   },
   "outputs": [],
   "source": [
    "import pandas as pd\n",
    "from pandas import Series, DataFrame\n",
    "import numpy as np\n",
    "import matplotlib.pyplot as plt\n",
    "%matplotlib inline"
   ]
  },
  {
   "cell_type": "markdown",
   "metadata": {
    "colab_type": "text",
    "id": "6aHVQv0K55eQ"
   },
   "source": [
    "### Collect Initial Data ###"
   ]
  },
  {
   "cell_type": "markdown",
   "metadata": {
    "colab_type": "text",
    "id": "JCPSq7tn55eR"
   },
   "source": [
    "##### for modeling"
   ]
  },
  {
   "cell_type": "code",
   "execution_count": 4,
   "metadata": {
    "colab": {},
    "colab_type": "code",
    "id": "ZLtlrPCt55eS"
   },
   "outputs": [
    {
     "data": {
      "text/html": [
       "<div>\n",
       "<style scoped>\n",
       "    .dataframe tbody tr th:only-of-type {\n",
       "        vertical-align: middle;\n",
       "    }\n",
       "\n",
       "    .dataframe tbody tr th {\n",
       "        vertical-align: top;\n",
       "    }\n",
       "\n",
       "    .dataframe thead th {\n",
       "        text-align: right;\n",
       "    }\n",
       "</style>\n",
       "<table border=\"1\" class=\"dataframe\">\n",
       "  <thead>\n",
       "    <tr style=\"text-align: right;\">\n",
       "      <th></th>\n",
       "      <th>id</th>\n",
       "      <th>age</th>\n",
       "      <th>sex</th>\n",
       "      <th>region</th>\n",
       "      <th>income</th>\n",
       "      <th>married</th>\n",
       "      <th>children</th>\n",
       "      <th>car</th>\n",
       "      <th>save_act</th>\n",
       "      <th>current_act</th>\n",
       "      <th>mortgage</th>\n",
       "      <th>pep</th>\n",
       "    </tr>\n",
       "  </thead>\n",
       "  <tbody>\n",
       "    <tr>\n",
       "      <th>0</th>\n",
       "      <td>ID12101</td>\n",
       "      <td>48.0</td>\n",
       "      <td>0</td>\n",
       "      <td>0</td>\n",
       "      <td>17546.00</td>\n",
       "      <td>0</td>\n",
       "      <td>1</td>\n",
       "      <td>0</td>\n",
       "      <td>0</td>\n",
       "      <td>0</td>\n",
       "      <td>0</td>\n",
       "      <td>1</td>\n",
       "    </tr>\n",
       "    <tr>\n",
       "      <th>1</th>\n",
       "      <td>ID12102</td>\n",
       "      <td>40.0</td>\n",
       "      <td>1</td>\n",
       "      <td>3</td>\n",
       "      <td>30085.10</td>\n",
       "      <td>1</td>\n",
       "      <td>3</td>\n",
       "      <td>1</td>\n",
       "      <td>0</td>\n",
       "      <td>1</td>\n",
       "      <td>1</td>\n",
       "      <td>0</td>\n",
       "    </tr>\n",
       "    <tr>\n",
       "      <th>2</th>\n",
       "      <td>ID12103</td>\n",
       "      <td>NaN</td>\n",
       "      <td>0</td>\n",
       "      <td>0</td>\n",
       "      <td>16575.40</td>\n",
       "      <td>1</td>\n",
       "      <td>0</td>\n",
       "      <td>1</td>\n",
       "      <td>1</td>\n",
       "      <td>1</td>\n",
       "      <td>0</td>\n",
       "      <td>0</td>\n",
       "    </tr>\n",
       "    <tr>\n",
       "      <th>3</th>\n",
       "      <td>ID12104</td>\n",
       "      <td>23.0</td>\n",
       "      <td>0</td>\n",
       "      <td>3</td>\n",
       "      <td>20375.40</td>\n",
       "      <td>1</td>\n",
       "      <td>3</td>\n",
       "      <td>0</td>\n",
       "      <td>0</td>\n",
       "      <td>1</td>\n",
       "      <td>0</td>\n",
       "      <td>0</td>\n",
       "    </tr>\n",
       "    <tr>\n",
       "      <th>4</th>\n",
       "      <td>ID12105</td>\n",
       "      <td>57.0</td>\n",
       "      <td>0</td>\n",
       "      <td>1</td>\n",
       "      <td>50576.30</td>\n",
       "      <td>1</td>\n",
       "      <td>0</td>\n",
       "      <td>0</td>\n",
       "      <td>1</td>\n",
       "      <td>0</td>\n",
       "      <td>0</td>\n",
       "      <td>0</td>\n",
       "    </tr>\n",
       "    <tr>\n",
       "      <th>...</th>\n",
       "      <td>...</td>\n",
       "      <td>...</td>\n",
       "      <td>...</td>\n",
       "      <td>...</td>\n",
       "      <td>...</td>\n",
       "      <td>...</td>\n",
       "      <td>...</td>\n",
       "      <td>...</td>\n",
       "      <td>...</td>\n",
       "      <td>...</td>\n",
       "      <td>...</td>\n",
       "      <td>...</td>\n",
       "    </tr>\n",
       "    <tr>\n",
       "      <th>595</th>\n",
       "      <td>ID12696</td>\n",
       "      <td>61.0</td>\n",
       "      <td>0</td>\n",
       "      <td>0</td>\n",
       "      <td>47025.00</td>\n",
       "      <td>0</td>\n",
       "      <td>2</td>\n",
       "      <td>1</td>\n",
       "      <td>1</td>\n",
       "      <td>1</td>\n",
       "      <td>1</td>\n",
       "      <td>0</td>\n",
       "    </tr>\n",
       "    <tr>\n",
       "      <th>596</th>\n",
       "      <td>ID12697</td>\n",
       "      <td>30.0</td>\n",
       "      <td>0</td>\n",
       "      <td>0</td>\n",
       "      <td>9672.25</td>\n",
       "      <td>1</td>\n",
       "      <td>0</td>\n",
       "      <td>1</td>\n",
       "      <td>1</td>\n",
       "      <td>1</td>\n",
       "      <td>0</td>\n",
       "      <td>0</td>\n",
       "    </tr>\n",
       "    <tr>\n",
       "      <th>597</th>\n",
       "      <td>ID12698</td>\n",
       "      <td>31.0</td>\n",
       "      <td>0</td>\n",
       "      <td>3</td>\n",
       "      <td>15976.30</td>\n",
       "      <td>1</td>\n",
       "      <td>0</td>\n",
       "      <td>1</td>\n",
       "      <td>1</td>\n",
       "      <td>0</td>\n",
       "      <td>0</td>\n",
       "      <td>1</td>\n",
       "    </tr>\n",
       "    <tr>\n",
       "      <th>598</th>\n",
       "      <td>ID12699</td>\n",
       "      <td>29.0</td>\n",
       "      <td>1</td>\n",
       "      <td>0</td>\n",
       "      <td>14711.80</td>\n",
       "      <td>1</td>\n",
       "      <td>0</td>\n",
       "      <td>0</td>\n",
       "      <td>1</td>\n",
       "      <td>0</td>\n",
       "      <td>1</td>\n",
       "      <td>0</td>\n",
       "    </tr>\n",
       "    <tr>\n",
       "      <th>599</th>\n",
       "      <td>ID12700</td>\n",
       "      <td>NaN</td>\n",
       "      <td>1</td>\n",
       "      <td>3</td>\n",
       "      <td>26671.60</td>\n",
       "      <td>0</td>\n",
       "      <td>0</td>\n",
       "      <td>1</td>\n",
       "      <td>0</td>\n",
       "      <td>1</td>\n",
       "      <td>1</td>\n",
       "      <td>1</td>\n",
       "    </tr>\n",
       "  </tbody>\n",
       "</table>\n",
       "<p>600 rows × 12 columns</p>\n",
       "</div>"
      ],
      "text/plain": [
       "          id   age  sex  region    income  married  children  car  save_act  \\\n",
       "0    ID12101  48.0    0       0  17546.00        0         1    0         0   \n",
       "1    ID12102  40.0    1       3  30085.10        1         3    1         0   \n",
       "2    ID12103   NaN    0       0  16575.40        1         0    1         1   \n",
       "3    ID12104  23.0    0       3  20375.40        1         3    0         0   \n",
       "4    ID12105  57.0    0       1  50576.30        1         0    0         1   \n",
       "..       ...   ...  ...     ...       ...      ...       ...  ...       ...   \n",
       "595  ID12696  61.0    0       0  47025.00        0         2    1         1   \n",
       "596  ID12697  30.0    0       0   9672.25        1         0    1         1   \n",
       "597  ID12698  31.0    0       3  15976.30        1         0    1         1   \n",
       "598  ID12699  29.0    1       0  14711.80        1         0    0         1   \n",
       "599  ID12700   NaN    1       3  26671.60        0         0    1         0   \n",
       "\n",
       "     current_act  mortgage  pep  \n",
       "0              0         0    1  \n",
       "1              1         1    0  \n",
       "2              1         0    0  \n",
       "3              1         0    0  \n",
       "4              0         0    0  \n",
       "..           ...       ...  ...  \n",
       "595            1         1    0  \n",
       "596            1         0    0  \n",
       "597            0         0    1  \n",
       "598            0         1    0  \n",
       "599            1         1    1  \n",
       "\n",
       "[600 rows x 12 columns]"
      ]
     },
     "execution_count": 4,
     "metadata": {},
     "output_type": "execute_result"
    }
   ],
   "source": [
    "df = pd.read_csv(\"data_pepTestCustomers.csv\")\n",
    "df"
   ]
  },
  {
   "cell_type": "markdown",
   "metadata": {
    "colab_type": "text",
    "id": "JaFH_Pmh55eU"
   },
   "source": [
    "##### for deployment"
   ]
  },
  {
   "cell_type": "code",
   "execution_count": 6,
   "metadata": {
    "colab": {},
    "colab_type": "code",
    "id": "xaS7r86s55eU"
   },
   "outputs": [
    {
     "data": {
      "text/html": [
       "<div>\n",
       "<style scoped>\n",
       "    .dataframe tbody tr th:only-of-type {\n",
       "        vertical-align: middle;\n",
       "    }\n",
       "\n",
       "    .dataframe tbody tr th {\n",
       "        vertical-align: top;\n",
       "    }\n",
       "\n",
       "    .dataframe thead th {\n",
       "        text-align: right;\n",
       "    }\n",
       "</style>\n",
       "<table border=\"1\" class=\"dataframe\">\n",
       "  <thead>\n",
       "    <tr style=\"text-align: right;\">\n",
       "      <th></th>\n",
       "      <th>id</th>\n",
       "      <th>age</th>\n",
       "      <th>sex</th>\n",
       "      <th>region</th>\n",
       "      <th>income</th>\n",
       "      <th>married</th>\n",
       "      <th>children</th>\n",
       "      <th>car</th>\n",
       "      <th>save_act</th>\n",
       "      <th>current_act</th>\n",
       "      <th>mortgage</th>\n",
       "    </tr>\n",
       "  </thead>\n",
       "  <tbody>\n",
       "    <tr>\n",
       "      <th>0</th>\n",
       "      <td>ID12701</td>\n",
       "      <td>23</td>\n",
       "      <td>1</td>\n",
       "      <td>0</td>\n",
       "      <td>18766.90</td>\n",
       "      <td>1</td>\n",
       "      <td>0</td>\n",
       "      <td>1</td>\n",
       "      <td>1</td>\n",
       "      <td>0</td>\n",
       "      <td>1</td>\n",
       "    </tr>\n",
       "    <tr>\n",
       "      <th>1</th>\n",
       "      <td>ID12702</td>\n",
       "      <td>30</td>\n",
       "      <td>1</td>\n",
       "      <td>1</td>\n",
       "      <td>9915.67</td>\n",
       "      <td>0</td>\n",
       "      <td>1</td>\n",
       "      <td>0</td>\n",
       "      <td>1</td>\n",
       "      <td>0</td>\n",
       "      <td>1</td>\n",
       "    </tr>\n",
       "    <tr>\n",
       "      <th>2</th>\n",
       "      <td>ID12703</td>\n",
       "      <td>45</td>\n",
       "      <td>0</td>\n",
       "      <td>1</td>\n",
       "      <td>21881.60</td>\n",
       "      <td>0</td>\n",
       "      <td>0</td>\n",
       "      <td>1</td>\n",
       "      <td>1</td>\n",
       "      <td>1</td>\n",
       "      <td>0</td>\n",
       "    </tr>\n",
       "    <tr>\n",
       "      <th>3</th>\n",
       "      <td>ID12704</td>\n",
       "      <td>50</td>\n",
       "      <td>1</td>\n",
       "      <td>3</td>\n",
       "      <td>46794.40</td>\n",
       "      <td>1</td>\n",
       "      <td>2</td>\n",
       "      <td>0</td>\n",
       "      <td>1</td>\n",
       "      <td>0</td>\n",
       "      <td>1</td>\n",
       "    </tr>\n",
       "    <tr>\n",
       "      <th>4</th>\n",
       "      <td>ID12705</td>\n",
       "      <td>41</td>\n",
       "      <td>0</td>\n",
       "      <td>0</td>\n",
       "      <td>20721.10</td>\n",
       "      <td>1</td>\n",
       "      <td>0</td>\n",
       "      <td>1</td>\n",
       "      <td>1</td>\n",
       "      <td>1</td>\n",
       "      <td>0</td>\n",
       "    </tr>\n",
       "    <tr>\n",
       "      <th>...</th>\n",
       "      <td>...</td>\n",
       "      <td>...</td>\n",
       "      <td>...</td>\n",
       "      <td>...</td>\n",
       "      <td>...</td>\n",
       "      <td>...</td>\n",
       "      <td>...</td>\n",
       "      <td>...</td>\n",
       "      <td>...</td>\n",
       "      <td>...</td>\n",
       "      <td>...</td>\n",
       "    </tr>\n",
       "    <tr>\n",
       "      <th>195</th>\n",
       "      <td>ID12896</td>\n",
       "      <td>66</td>\n",
       "      <td>1</td>\n",
       "      <td>0</td>\n",
       "      <td>58792.60</td>\n",
       "      <td>0</td>\n",
       "      <td>1</td>\n",
       "      <td>1</td>\n",
       "      <td>1</td>\n",
       "      <td>1</td>\n",
       "      <td>1</td>\n",
       "    </tr>\n",
       "    <tr>\n",
       "      <th>196</th>\n",
       "      <td>ID12897</td>\n",
       "      <td>19</td>\n",
       "      <td>1</td>\n",
       "      <td>0</td>\n",
       "      <td>17906.80</td>\n",
       "      <td>0</td>\n",
       "      <td>2</td>\n",
       "      <td>1</td>\n",
       "      <td>1</td>\n",
       "      <td>0</td>\n",
       "      <td>0</td>\n",
       "    </tr>\n",
       "    <tr>\n",
       "      <th>197</th>\n",
       "      <td>ID12898</td>\n",
       "      <td>54</td>\n",
       "      <td>1</td>\n",
       "      <td>1</td>\n",
       "      <td>29348.80</td>\n",
       "      <td>0</td>\n",
       "      <td>0</td>\n",
       "      <td>0</td>\n",
       "      <td>0</td>\n",
       "      <td>1</td>\n",
       "      <td>1</td>\n",
       "    </tr>\n",
       "    <tr>\n",
       "      <th>198</th>\n",
       "      <td>ID12899</td>\n",
       "      <td>42</td>\n",
       "      <td>0</td>\n",
       "      <td>3</td>\n",
       "      <td>20552.50</td>\n",
       "      <td>1</td>\n",
       "      <td>0</td>\n",
       "      <td>1</td>\n",
       "      <td>1</td>\n",
       "      <td>1</td>\n",
       "      <td>0</td>\n",
       "    </tr>\n",
       "    <tr>\n",
       "      <th>199</th>\n",
       "      <td>ID12900</td>\n",
       "      <td>34</td>\n",
       "      <td>1</td>\n",
       "      <td>0</td>\n",
       "      <td>25843.10</td>\n",
       "      <td>0</td>\n",
       "      <td>2</td>\n",
       "      <td>0</td>\n",
       "      <td>1</td>\n",
       "      <td>1</td>\n",
       "      <td>0</td>\n",
       "    </tr>\n",
       "  </tbody>\n",
       "</table>\n",
       "<p>200 rows × 11 columns</p>\n",
       "</div>"
      ],
      "text/plain": [
       "          id  age  sex  region    income  married  children  car  save_act  \\\n",
       "0    ID12701   23    1       0  18766.90        1         0    1         1   \n",
       "1    ID12702   30    1       1   9915.67        0         1    0         1   \n",
       "2    ID12703   45    0       1  21881.60        0         0    1         1   \n",
       "3    ID12704   50    1       3  46794.40        1         2    0         1   \n",
       "4    ID12705   41    0       0  20721.10        1         0    1         1   \n",
       "..       ...  ...  ...     ...       ...      ...       ...  ...       ...   \n",
       "195  ID12896   66    1       0  58792.60        0         1    1         1   \n",
       "196  ID12897   19    1       0  17906.80        0         2    1         1   \n",
       "197  ID12898   54    1       1  29348.80        0         0    0         0   \n",
       "198  ID12899   42    0       3  20552.50        1         0    1         1   \n",
       "199  ID12900   34    1       0  25843.10        0         2    0         1   \n",
       "\n",
       "     current_act  mortgage  \n",
       "0              0         1  \n",
       "1              0         1  \n",
       "2              1         0  \n",
       "3              0         1  \n",
       "4              1         0  \n",
       "..           ...       ...  \n",
       "195            1         1  \n",
       "196            0         0  \n",
       "197            1         1  \n",
       "198            1         0  \n",
       "199            1         0  \n",
       "\n",
       "[200 rows x 11 columns]"
      ]
     },
     "execution_count": 6,
     "metadata": {},
     "output_type": "execute_result"
    }
   ],
   "source": [
    "new = pd.read_csv(\"data_pepNewCustomers.csv\")\n",
    "new"
   ]
  },
  {
   "cell_type": "markdown",
   "metadata": {
    "colab_type": "text",
    "id": "Uus0MPta55eW"
   },
   "source": [
    "### Describe Data ###"
   ]
  },
  {
   "cell_type": "code",
   "execution_count": 7,
   "metadata": {
    "colab": {},
    "colab_type": "code",
    "id": "s0Em_ULP55eX"
   },
   "outputs": [
    {
     "name": "stdout",
     "output_type": "stream",
     "text": [
      "<class 'pandas.core.frame.DataFrame'>\n",
      "RangeIndex: 600 entries, 0 to 599\n",
      "Data columns (total 12 columns):\n",
      " #   Column       Non-Null Count  Dtype  \n",
      "---  ------       --------------  -----  \n",
      " 0   id           600 non-null    object \n",
      " 1   age          540 non-null    float64\n",
      " 2   sex          600 non-null    int64  \n",
      " 3   region       600 non-null    int64  \n",
      " 4   income       600 non-null    float64\n",
      " 5   married      600 non-null    int64  \n",
      " 6   children     600 non-null    int64  \n",
      " 7   car          600 non-null    int64  \n",
      " 8   save_act     600 non-null    int64  \n",
      " 9   current_act  600 non-null    int64  \n",
      " 10  mortgage     600 non-null    int64  \n",
      " 11  pep          600 non-null    int64  \n",
      "dtypes: float64(2), int64(9), object(1)\n",
      "memory usage: 56.4+ KB\n"
     ]
    }
   ],
   "source": [
    "# 데이터 구조 살펴보기\n",
    "# ex) age의 경우 600개중 540개만 있어서 60개가 결측치로 예상\n",
    "\n",
    "df.info()"
   ]
  },
  {
   "cell_type": "code",
   "execution_count": 8,
   "metadata": {
    "colab": {},
    "colab_type": "code",
    "id": "r720EEtN55eb"
   },
   "outputs": [
    {
     "data": {
      "text/html": [
       "<div>\n",
       "<style scoped>\n",
       "    .dataframe tbody tr th:only-of-type {\n",
       "        vertical-align: middle;\n",
       "    }\n",
       "\n",
       "    .dataframe tbody tr th {\n",
       "        vertical-align: top;\n",
       "    }\n",
       "\n",
       "    .dataframe thead th {\n",
       "        text-align: right;\n",
       "    }\n",
       "</style>\n",
       "<table border=\"1\" class=\"dataframe\">\n",
       "  <thead>\n",
       "    <tr style=\"text-align: right;\">\n",
       "      <th></th>\n",
       "      <th>age</th>\n",
       "      <th>sex</th>\n",
       "      <th>region</th>\n",
       "      <th>income</th>\n",
       "      <th>married</th>\n",
       "      <th>children</th>\n",
       "      <th>car</th>\n",
       "      <th>save_act</th>\n",
       "      <th>current_act</th>\n",
       "      <th>mortgage</th>\n",
       "      <th>pep</th>\n",
       "    </tr>\n",
       "  </thead>\n",
       "  <tbody>\n",
       "    <tr>\n",
       "      <th>count</th>\n",
       "      <td>540.000000</td>\n",
       "      <td>600.000000</td>\n",
       "      <td>600.000000</td>\n",
       "      <td>600.000000</td>\n",
       "      <td>600.000000</td>\n",
       "      <td>600.000000</td>\n",
       "      <td>600.000000</td>\n",
       "      <td>600.000000</td>\n",
       "      <td>600.000000</td>\n",
       "      <td>600.000000</td>\n",
       "      <td>600.000000</td>\n",
       "    </tr>\n",
       "    <tr>\n",
       "      <th>mean</th>\n",
       "      <td>42.662963</td>\n",
       "      <td>0.500000</td>\n",
       "      <td>1.231667</td>\n",
       "      <td>27619.973883</td>\n",
       "      <td>0.660000</td>\n",
       "      <td>1.011667</td>\n",
       "      <td>0.493333</td>\n",
       "      <td>0.690000</td>\n",
       "      <td>0.758333</td>\n",
       "      <td>0.348333</td>\n",
       "      <td>0.456667</td>\n",
       "    </tr>\n",
       "    <tr>\n",
       "      <th>std</th>\n",
       "      <td>14.299387</td>\n",
       "      <td>0.500417</td>\n",
       "      <td>1.286113</td>\n",
       "      <td>13187.408966</td>\n",
       "      <td>0.474104</td>\n",
       "      <td>1.056752</td>\n",
       "      <td>0.500373</td>\n",
       "      <td>0.462879</td>\n",
       "      <td>0.428451</td>\n",
       "      <td>0.476840</td>\n",
       "      <td>0.498534</td>\n",
       "    </tr>\n",
       "    <tr>\n",
       "      <th>min</th>\n",
       "      <td>18.000000</td>\n",
       "      <td>0.000000</td>\n",
       "      <td>0.000000</td>\n",
       "      <td>5014.210000</td>\n",
       "      <td>0.000000</td>\n",
       "      <td>0.000000</td>\n",
       "      <td>0.000000</td>\n",
       "      <td>0.000000</td>\n",
       "      <td>0.000000</td>\n",
       "      <td>0.000000</td>\n",
       "      <td>0.000000</td>\n",
       "    </tr>\n",
       "    <tr>\n",
       "      <th>25%</th>\n",
       "      <td>31.000000</td>\n",
       "      <td>0.000000</td>\n",
       "      <td>0.000000</td>\n",
       "      <td>17264.500000</td>\n",
       "      <td>0.000000</td>\n",
       "      <td>0.000000</td>\n",
       "      <td>0.000000</td>\n",
       "      <td>0.000000</td>\n",
       "      <td>1.000000</td>\n",
       "      <td>0.000000</td>\n",
       "      <td>0.000000</td>\n",
       "    </tr>\n",
       "    <tr>\n",
       "      <th>50%</th>\n",
       "      <td>42.500000</td>\n",
       "      <td>0.500000</td>\n",
       "      <td>1.000000</td>\n",
       "      <td>24925.300000</td>\n",
       "      <td>1.000000</td>\n",
       "      <td>1.000000</td>\n",
       "      <td>0.000000</td>\n",
       "      <td>1.000000</td>\n",
       "      <td>1.000000</td>\n",
       "      <td>0.000000</td>\n",
       "      <td>0.000000</td>\n",
       "    </tr>\n",
       "    <tr>\n",
       "      <th>75%</th>\n",
       "      <td>56.000000</td>\n",
       "      <td>1.000000</td>\n",
       "      <td>3.000000</td>\n",
       "      <td>36172.675000</td>\n",
       "      <td>1.000000</td>\n",
       "      <td>2.000000</td>\n",
       "      <td>1.000000</td>\n",
       "      <td>1.000000</td>\n",
       "      <td>1.000000</td>\n",
       "      <td>1.000000</td>\n",
       "      <td>1.000000</td>\n",
       "    </tr>\n",
       "    <tr>\n",
       "      <th>max</th>\n",
       "      <td>67.000000</td>\n",
       "      <td>1.000000</td>\n",
       "      <td>3.000000</td>\n",
       "      <td>95435.200000</td>\n",
       "      <td>1.000000</td>\n",
       "      <td>3.000000</td>\n",
       "      <td>1.000000</td>\n",
       "      <td>1.000000</td>\n",
       "      <td>1.000000</td>\n",
       "      <td>1.000000</td>\n",
       "      <td>1.000000</td>\n",
       "    </tr>\n",
       "  </tbody>\n",
       "</table>\n",
       "</div>"
      ],
      "text/plain": [
       "              age         sex      region        income     married  \\\n",
       "count  540.000000  600.000000  600.000000    600.000000  600.000000   \n",
       "mean    42.662963    0.500000    1.231667  27619.973883    0.660000   \n",
       "std     14.299387    0.500417    1.286113  13187.408966    0.474104   \n",
       "min     18.000000    0.000000    0.000000   5014.210000    0.000000   \n",
       "25%     31.000000    0.000000    0.000000  17264.500000    0.000000   \n",
       "50%     42.500000    0.500000    1.000000  24925.300000    1.000000   \n",
       "75%     56.000000    1.000000    3.000000  36172.675000    1.000000   \n",
       "max     67.000000    1.000000    3.000000  95435.200000    1.000000   \n",
       "\n",
       "         children         car    save_act  current_act    mortgage         pep  \n",
       "count  600.000000  600.000000  600.000000   600.000000  600.000000  600.000000  \n",
       "mean     1.011667    0.493333    0.690000     0.758333    0.348333    0.456667  \n",
       "std      1.056752    0.500373    0.462879     0.428451    0.476840    0.498534  \n",
       "min      0.000000    0.000000    0.000000     0.000000    0.000000    0.000000  \n",
       "25%      0.000000    0.000000    0.000000     1.000000    0.000000    0.000000  \n",
       "50%      1.000000    0.000000    1.000000     1.000000    0.000000    0.000000  \n",
       "75%      2.000000    1.000000    1.000000     1.000000    1.000000    1.000000  \n",
       "max      3.000000    1.000000    1.000000     1.000000    1.000000    1.000000  "
      ]
     },
     "execution_count": 8,
     "metadata": {},
     "output_type": "execute_result"
    }
   ],
   "source": [
    "# 수치형 속성의 요약통계 보기\n",
    "df.describe()"
   ]
  },
  {
   "cell_type": "code",
   "execution_count": 9,
   "metadata": {
    "colab": {},
    "colab_type": "code",
    "id": "MgSeeg6y55ed"
   },
   "outputs": [
    {
     "data": {
      "text/plain": [
       "array([[<AxesSubplot:title={'center':'age'}>,\n",
       "        <AxesSubplot:title={'center':'sex'}>,\n",
       "        <AxesSubplot:title={'center':'region'}>],\n",
       "       [<AxesSubplot:title={'center':'income'}>,\n",
       "        <AxesSubplot:title={'center':'married'}>,\n",
       "        <AxesSubplot:title={'center':'children'}>],\n",
       "       [<AxesSubplot:title={'center':'car'}>,\n",
       "        <AxesSubplot:title={'center':'save_act'}>,\n",
       "        <AxesSubplot:title={'center':'current_act'}>],\n",
       "       [<AxesSubplot:title={'center':'mortgage'}>,\n",
       "        <AxesSubplot:title={'center':'pep'}>, <AxesSubplot:>]],\n",
       "      dtype=object)"
      ]
     },
     "execution_count": 9,
     "metadata": {},
     "output_type": "execute_result"
    },
    {
     "data": {
      "image/png": "[encoded data removed]",
      "text/plain": [
       "<Figure size 1440x1080 with 12 Axes>"
      ]
     },
     "metadata": {
      "needs_background": "light"
     },
     "output_type": "display_data"
    }
   ],
   "source": [
    "# 모든 수치형 속성에 대한 히스토그램 한꺼번에 그리기\n",
    "# 숫치형은 age와 income 나머지는 범주형이라 볼 수 있다\n",
    "# bins = 30 은 x축을 30개로 쪼개라\n",
    "\n",
    "df.hist(bins=30, figsize=(20,15))"
   ]
  },
  {
   "cell_type": "code",
   "execution_count": 10,
   "metadata": {
    "colab": {},
    "colab_type": "code",
    "id": "E2PFjdKr55ef"
   },
   "outputs": [
    {
     "data": {
      "text/plain": [
       "(600, 12)"
      ]
     },
     "metadata": {},
     "output_type": "display_data"
    },
    {
     "data": {
      "text/plain": [
       "(200, 11)"
      ]
     },
     "metadata": {},
     "output_type": "display_data"
    }
   ],
   "source": [
    "# 모형을 적용할 new 데이터에는 class 필드(즉, pep)가 없다.\n",
    "\n",
    "display(df.shape) \n",
    "display(new.shape)"
   ]
  },
  {
   "cell_type": "code",
   "execution_count": 11,
   "metadata": {},
   "outputs": [
    {
     "data": {
      "text/plain": [
       "(200, 11)"
      ]
     },
     "execution_count": 11,
     "metadata": {},
     "output_type": "execute_result"
    }
   ],
   "source": [
    "df.shape\n",
    "new.shape"
   ]
  },
  {
   "cell_type": "markdown",
   "metadata": {
    "colab_type": "text",
    "id": "ZQVOu34m55ei"
   },
   "source": [
    "### Explore Data ###"
   ]
  },
  {
   "cell_type": "markdown",
   "metadata": {
    "colab_type": "text",
    "id": "_QVxxtjU55ei"
   },
   "source": [
    "##### Look for Correlations #####\n",
    "<img align=\"left\" src=\"https://upload.wikimedia.org/wikipedia/commons/thumb/d/d4/Correlation_examples2.svg/506px-Correlation_examples2.svg.png\" alt=\"correlation\">"
   ]
  },
  {
   "cell_type": "code",
   "execution_count": 12,
   "metadata": {
    "colab": {},
    "colab_type": "code",
    "id": "iq9T_jbD55ei"
   },
   "outputs": [
    {
     "data": {
      "text/html": [
       "<div>\n",
       "<style scoped>\n",
       "    .dataframe tbody tr th:only-of-type {\n",
       "        vertical-align: middle;\n",
       "    }\n",
       "\n",
       "    .dataframe tbody tr th {\n",
       "        vertical-align: top;\n",
       "    }\n",
       "\n",
       "    .dataframe thead th {\n",
       "        text-align: right;\n",
       "    }\n",
       "</style>\n",
       "<table border=\"1\" class=\"dataframe\">\n",
       "  <thead>\n",
       "    <tr style=\"text-align: right;\">\n",
       "      <th></th>\n",
       "      <th>age</th>\n",
       "      <th>sex</th>\n",
       "      <th>region</th>\n",
       "      <th>income</th>\n",
       "      <th>married</th>\n",
       "      <th>children</th>\n",
       "      <th>car</th>\n",
       "      <th>save_act</th>\n",
       "      <th>current_act</th>\n",
       "      <th>mortgage</th>\n",
       "      <th>pep</th>\n",
       "    </tr>\n",
       "  </thead>\n",
       "  <tbody>\n",
       "    <tr>\n",
       "      <th>age</th>\n",
       "      <td>1.000000</td>\n",
       "      <td>-0.127984</td>\n",
       "      <td>0.025891</td>\n",
       "      <td>0.743619</td>\n",
       "      <td>0.017157</td>\n",
       "      <td>0.023944</td>\n",
       "      <td>0.068454</td>\n",
       "      <td>0.171417</td>\n",
       "      <td>-0.035449</td>\n",
       "      <td>-0.030696</td>\n",
       "      <td>0.193604</td>\n",
       "    </tr>\n",
       "    <tr>\n",
       "      <th>sex</th>\n",
       "      <td>-0.127984</td>\n",
       "      <td>1.000000</td>\n",
       "      <td>-0.035018</td>\n",
       "      <td>-0.030606</td>\n",
       "      <td>0.021110</td>\n",
       "      <td>-0.014206</td>\n",
       "      <td>0.006667</td>\n",
       "      <td>0.007207</td>\n",
       "      <td>-0.019466</td>\n",
       "      <td>0.066465</td>\n",
       "      <td>0.046843</td>\n",
       "    </tr>\n",
       "    <tr>\n",
       "      <th>region</th>\n",
       "      <td>0.025891</td>\n",
       "      <td>-0.035018</td>\n",
       "      <td>1.000000</td>\n",
       "      <td>0.009813</td>\n",
       "      <td>0.006188</td>\n",
       "      <td>0.011520</td>\n",
       "      <td>0.021860</td>\n",
       "      <td>0.084382</td>\n",
       "      <td>-0.013356</td>\n",
       "      <td>0.026083</td>\n",
       "      <td>-0.027279</td>\n",
       "    </tr>\n",
       "    <tr>\n",
       "      <th>income</th>\n",
       "      <td>0.743619</td>\n",
       "      <td>-0.030606</td>\n",
       "      <td>0.009813</td>\n",
       "      <td>1.000000</td>\n",
       "      <td>-0.002977</td>\n",
       "      <td>0.042774</td>\n",
       "      <td>0.072590</td>\n",
       "      <td>0.265233</td>\n",
       "      <td>0.035036</td>\n",
       "      <td>-0.019666</td>\n",
       "      <td>0.225086</td>\n",
       "    </tr>\n",
       "    <tr>\n",
       "      <th>married</th>\n",
       "      <td>0.017157</td>\n",
       "      <td>0.021110</td>\n",
       "      <td>0.006188</td>\n",
       "      <td>-0.002977</td>\n",
       "      <td>1.000000</td>\n",
       "      <td>-0.048716</td>\n",
       "      <td>-0.009571</td>\n",
       "      <td>0.028604</td>\n",
       "      <td>-0.059996</td>\n",
       "      <td>-0.021711</td>\n",
       "      <td>-0.189578</td>\n",
       "    </tr>\n",
       "    <tr>\n",
       "      <th>children</th>\n",
       "      <td>0.023944</td>\n",
       "      <td>-0.014206</td>\n",
       "      <td>0.011520</td>\n",
       "      <td>0.042774</td>\n",
       "      <td>-0.048716</td>\n",
       "      <td>1.000000</td>\n",
       "      <td>0.036455</td>\n",
       "      <td>0.041536</td>\n",
       "      <td>0.006238</td>\n",
       "      <td>-0.074339</td>\n",
       "      <td>-0.057663</td>\n",
       "    </tr>\n",
       "    <tr>\n",
       "      <th>car</th>\n",
       "      <td>0.068454</td>\n",
       "      <td>0.006667</td>\n",
       "      <td>0.021860</td>\n",
       "      <td>0.072590</td>\n",
       "      <td>-0.009571</td>\n",
       "      <td>0.036455</td>\n",
       "      <td>1.000000</td>\n",
       "      <td>0.034310</td>\n",
       "      <td>-0.034783</td>\n",
       "      <td>-0.007743</td>\n",
       "      <td>0.018917</td>\n",
       "    </tr>\n",
       "    <tr>\n",
       "      <th>save_act</th>\n",
       "      <td>0.171417</td>\n",
       "      <td>0.007207</td>\n",
       "      <td>0.084382</td>\n",
       "      <td>0.265233</td>\n",
       "      <td>0.028604</td>\n",
       "      <td>0.041536</td>\n",
       "      <td>0.034310</td>\n",
       "      <td>1.000000</td>\n",
       "      <td>0.042511</td>\n",
       "      <td>-0.001588</td>\n",
       "      <td>-0.072779</td>\n",
       "    </tr>\n",
       "    <tr>\n",
       "      <th>current_act</th>\n",
       "      <td>-0.035449</td>\n",
       "      <td>-0.019466</td>\n",
       "      <td>-0.013356</td>\n",
       "      <td>0.035036</td>\n",
       "      <td>-0.059996</td>\n",
       "      <td>0.006238</td>\n",
       "      <td>-0.034783</td>\n",
       "      <td>0.042511</td>\n",
       "      <td>1.000000</td>\n",
       "      <td>-0.036704</td>\n",
       "      <td>0.025141</td>\n",
       "    </tr>\n",
       "    <tr>\n",
       "      <th>mortgage</th>\n",
       "      <td>-0.030696</td>\n",
       "      <td>0.066465</td>\n",
       "      <td>0.026083</td>\n",
       "      <td>-0.019666</td>\n",
       "      <td>-0.021711</td>\n",
       "      <td>-0.074339</td>\n",
       "      <td>-0.007743</td>\n",
       "      <td>-0.001588</td>\n",
       "      <td>-0.036704</td>\n",
       "      <td>1.000000</td>\n",
       "      <td>-0.024182</td>\n",
       "    </tr>\n",
       "    <tr>\n",
       "      <th>pep</th>\n",
       "      <td>0.193604</td>\n",
       "      <td>0.046843</td>\n",
       "      <td>-0.027279</td>\n",
       "      <td>0.225086</td>\n",
       "      <td>-0.189578</td>\n",
       "      <td>-0.057663</td>\n",
       "      <td>0.018917</td>\n",
       "      <td>-0.072779</td>\n",
       "      <td>0.025141</td>\n",
       "      <td>-0.024182</td>\n",
       "      <td>1.000000</td>\n",
       "    </tr>\n",
       "  </tbody>\n",
       "</table>\n",
       "</div>"
      ],
      "text/plain": [
       "                  age       sex    region    income   married  children  \\\n",
       "age          1.000000 -0.127984  0.025891  0.743619  0.017157  0.023944   \n",
       "sex         -0.127984  1.000000 -0.035018 -0.030606  0.021110 -0.014206   \n",
       "region       0.025891 -0.035018  1.000000  0.009813  0.006188  0.011520   \n",
       "income       0.743619 -0.030606  0.009813  1.000000 -0.002977  0.042774   \n",
       "married      0.017157  0.021110  0.006188 -0.002977  1.000000 -0.048716   \n",
       "children     0.023944 -0.014206  0.011520  0.042774 -0.048716  1.000000   \n",
       "car          0.068454  0.006667  0.021860  0.072590 -0.009571  0.036455   \n",
       "save_act     0.171417  0.007207  0.084382  0.265233  0.028604  0.041536   \n",
       "current_act -0.035449 -0.019466 -0.013356  0.035036 -0.059996  0.006238   \n",
       "mortgage    -0.030696  0.066465  0.026083 -0.019666 -0.021711 -0.074339   \n",
       "pep          0.193604  0.046843 -0.027279  0.225086 -0.189578 -0.057663   \n",
       "\n",
       "                  car  save_act  current_act  mortgage       pep  \n",
       "age          0.068454  0.171417    -0.035449 -0.030696  0.193604  \n",
       "sex          0.006667  0.007207    -0.019466  0.066465  0.046843  \n",
       "region       0.021860  0.084382    -0.013356  0.026083 -0.027279  \n",
       "income       0.072590  0.265233     0.035036 -0.019666  0.225086  \n",
       "married     -0.009571  0.028604    -0.059996 -0.021711 -0.189578  \n",
       "children     0.036455  0.041536     0.006238 -0.074339 -0.057663  \n",
       "car          1.000000  0.034310    -0.034783 -0.007743  0.018917  \n",
       "save_act     0.034310  1.000000     0.042511 -0.001588 -0.072779  \n",
       "current_act -0.034783  0.042511     1.000000 -0.036704  0.025141  \n",
       "mortgage    -0.007743 -0.001588    -0.036704  1.000000 -0.024182  \n",
       "pep          0.018917 -0.072779     0.025141 -0.024182  1.000000  "
      ]
     },
     "execution_count": 12,
     "metadata": {},
     "output_type": "execute_result"
    }
   ],
   "source": [
    "# 속성 간 피어슨 상관계수 출력하기\n",
    "# 전체 수치형 데이터를 콜러에이션으로 보여 줌\n",
    "# 상관관계 예측변수를 줄여줌\n",
    "\n",
    "corr = df.corr()\n",
    "corr"
   ]
  },
  {
   "cell_type": "code",
   "execution_count": 13,
   "metadata": {
    "colab": {},
    "colab_type": "code",
    "id": "5bo4IJ-B55em"
   },
   "outputs": [
    {
     "data": {
      "text/plain": [
       "<matplotlib.image.AxesImage at 0x2d30808f7f0>"
      ]
     },
     "execution_count": 13,
     "metadata": {},
     "output_type": "execute_result"
    },
    {
     "data": {
      "image/png": "[encoded data removed]",
      "text/plain": [
       "<Figure size 288x288 with 1 Axes>"
      ]
     },
     "metadata": {
      "needs_background": "light"
     },
     "output_type": "display_data"
    }
   ],
   "source": [
    "# 속성간 상관계수를 한눈에 파악하기 위해 그림으로 도식하기\n",
    "\n",
    "plt.matshow(corr)"
   ]
  },
  {
   "cell_type": "code",
   "execution_count": 14,
   "metadata": {},
   "outputs": [
    {
     "data": {
      "text/plain": [
       "age            0.193604\n",
       "sex            0.046843\n",
       "region        -0.027279\n",
       "income         0.225086\n",
       "married       -0.189578\n",
       "children      -0.057663\n",
       "car            0.018917\n",
       "save_act      -0.072779\n",
       "current_act    0.025141\n",
       "mortgage      -0.024182\n",
       "pep            1.000000\n",
       "Name: pep, dtype: float64"
      ]
     },
     "execution_count": 14,
     "metadata": {},
     "output_type": "execute_result"
    }
   ],
   "source": [
    "corr.pep"
   ]
  },
  {
   "cell_type": "code",
   "execution_count": 15,
   "metadata": {
    "colab": {},
    "colab_type": "code",
    "id": "P9I-3CZY55es"
   },
   "outputs": [
    {
     "data": {
      "text/plain": [
       "pep            1.000000\n",
       "income         0.225086\n",
       "age            0.193604\n",
       "sex            0.046843\n",
       "current_act    0.025141\n",
       "car            0.018917\n",
       "mortgage      -0.024182\n",
       "region        -0.027279\n",
       "children      -0.057663\n",
       "save_act      -0.072779\n",
       "married       -0.189578\n",
       "Name: pep, dtype: float64"
      ]
     },
     "execution_count": 15,
     "metadata": {},
     "output_type": "execute_result"
    }
   ],
   "source": [
    "# 클래스 변수인 pep와 각 속성간의 피어슨 상관계수를 내림차순으로 출력하기\n",
    "# pep 데이터 sorting\n",
    "\n",
    "corr.pep.sort_values(ascending=False)"
   ]
  },
  {
   "cell_type": "markdown",
   "metadata": {},
   "source": [
    "##### Find Missing Values"
   ]
  },
  {
   "cell_type": "code",
   "execution_count": 16,
   "metadata": {},
   "outputs": [
    {
     "name": "stdout",
     "output_type": "stream",
     "text": [
      "<class 'pandas.core.frame.DataFrame'>\n",
      "RangeIndex: 600 entries, 0 to 599\n",
      "Data columns (total 12 columns):\n",
      " #   Column       Non-Null Count  Dtype  \n",
      "---  ------       --------------  -----  \n",
      " 0   id           600 non-null    object \n",
      " 1   age          540 non-null    float64\n",
      " 2   sex          600 non-null    int64  \n",
      " 3   region       600 non-null    int64  \n",
      " 4   income       600 non-null    float64\n",
      " 5   married      600 non-null    int64  \n",
      " 6   children     600 non-null    int64  \n",
      " 7   car          600 non-null    int64  \n",
      " 8   save_act     600 non-null    int64  \n",
      " 9   current_act  600 non-null    int64  \n",
      " 10  mortgage     600 non-null    int64  \n",
      " 11  pep          600 non-null    int64  \n",
      "dtypes: float64(2), int64(9), object(1)\n",
      "memory usage: 56.4+ KB\n"
     ]
    }
   ],
   "source": [
    "# 결측값이 존재하는 속성이 무엇인지, 몇개나 있는지 파악할 수 있는 첫번째 방법\n",
    "\n",
    "df.info()"
   ]
  },
  {
   "cell_type": "code",
   "execution_count": 17,
   "metadata": {},
   "outputs": [
    {
     "data": {
      "text/plain": [
       "id              0\n",
       "age            60\n",
       "sex             0\n",
       "region          0\n",
       "income          0\n",
       "married         0\n",
       "children        0\n",
       "car             0\n",
       "save_act        0\n",
       "current_act     0\n",
       "mortgage        0\n",
       "pep             0\n",
       "dtype: int64"
      ]
     },
     "execution_count": 17,
     "metadata": {},
     "output_type": "execute_result"
    }
   ],
   "source": [
    "# 결측값이 존재하는 속성이 무엇인지, 몇개나 있는지 파악할 수 있는 두번째 방법\n",
    "# null 갯수 체크\n",
    "\n",
    "df.isnull().sum()"
   ]
  },
  {
   "cell_type": "markdown",
   "metadata": {
    "colab_type": "text",
    "id": "hIqdDYnN55ev"
   },
   "source": [
    "##### Detect Outliers #####\n",
    "<img align=\"left\" src=\"http://www.whatissixsigma.net/wp-content/uploads/2015/07/Box-Plot-Diagram-to-identify-Outliers-figure-1.png\" alt=\"Boxplot Outlier\">"
   ]
  },
  {
   "cell_type": "code",
   "execution_count": 18,
   "metadata": {
    "colab": {},
    "colab_type": "code",
    "id": "P1STkrS955ew"
   },
   "outputs": [
    {
     "data": {
      "text/plain": [
       "age       AxesSubplot(0.125,0.536818;0.775x0.343182)\n",
       "income       AxesSubplot(0.125,0.125;0.775x0.343182)\n",
       "dtype: object"
      ]
     },
     "execution_count": 18,
     "metadata": {},
     "output_type": "execute_result"
    },
    {
     "data": {
      "image/png": "[encoded data removed]",
      "text/plain": [
       "<Figure size 360x360 with 2 Axes>"
      ]
     },
     "metadata": {
      "needs_background": "light"
     },
     "output_type": "display_data"
    }
   ],
   "source": [
    "# 나이와 수입 속성에 이상치가 있는지 Boxplot을 그려서 알아본다.\n",
    "# 이상치 발굴은 boxplot에서 박스 밖에 있는 점을 이상치(Outlier)로 본다.\n",
    "\n",
    "df.loc[:,['age','income']].plot.box(subplots=True, layout=(2,1), figsize=(5,5))"
   ]
  },
  {
   "cell_type": "markdown",
   "metadata": {
    "colab_type": "text",
    "id": "bLdREJI855ez"
   },
   "source": [
    "## Step 3: Data Preparation ##"
   ]
  },
  {
   "cell_type": "markdown",
   "metadata": {
    "colab_type": "text",
    "id": "cjxUKc0E55e0"
   },
   "source": [
    "### Clean Data ###\n",
    "##### Replace Missing Values #####"
   ]
  },
  {
   "cell_type": "code",
   "execution_count": 19,
   "metadata": {
    "colab": {},
    "colab_type": "code",
    "id": "4yIeSgqM55e0"
   },
   "outputs": [],
   "source": [
    "# Save original data \n",
    "# => 학습 데이터를 조작하다가 문제가 생겨 처음으로 되돌아 가려면 이 셀부터 다시 시작하세요 !!!\n",
    "# 데이터 원본 유지를 이해 copy를 사용\n",
    "\n",
    "mdf = df.copy()"
   ]
  },
  {
   "cell_type": "code",
   "execution_count": 20,
   "metadata": {},
   "outputs": [
    {
     "name": "stdout",
     "output_type": "stream",
     "text": [
      "<class 'pandas.core.frame.DataFrame'>\n",
      "RangeIndex: 600 entries, 0 to 599\n",
      "Data columns (total 12 columns):\n",
      " #   Column       Non-Null Count  Dtype  \n",
      "---  ------       --------------  -----  \n",
      " 0   id           600 non-null    object \n",
      " 1   age          540 non-null    float64\n",
      " 2   sex          600 non-null    int64  \n",
      " 3   region       600 non-null    int64  \n",
      " 4   income       600 non-null    float64\n",
      " 5   married      600 non-null    int64  \n",
      " 6   children     600 non-null    int64  \n",
      " 7   car          600 non-null    int64  \n",
      " 8   save_act     600 non-null    int64  \n",
      " 9   current_act  600 non-null    int64  \n",
      " 10  mortgage     600 non-null    int64  \n",
      " 11  pep          600 non-null    int64  \n",
      "dtypes: float64(2), int64(9), object(1)\n",
      "memory usage: 56.4+ KB\n"
     ]
    }
   ],
   "source": [
    "# 결측값이 있는 속성 파악\n",
    "\n",
    "mdf.info()"
   ]
  },
  {
   "cell_type": "code",
   "execution_count": 21,
   "metadata": {
    "colab": {},
    "colab_type": "code",
    "id": "kJfFRL8l55e2"
   },
   "outputs": [
    {
     "data": {
      "text/plain": [
       "42.662962962962965"
      ]
     },
     "metadata": {},
     "output_type": "display_data"
    },
    {
     "data": {
      "text/plain": [
       "40.0    19\n",
       "64.0    18\n",
       "58.0    17\n",
       "27.0    17\n",
       "43.0    17\n",
       "Name: age, dtype: int64"
      ]
     },
     "metadata": {},
     "output_type": "display_data"
    }
   ],
   "source": [
    "# 나이의 평균값과 나이별 발생빈도 계산하기\n",
    "# 채워넣을 땐 평균 또는 최빈값(가장 많이 나오는 값)을 쓴다\n",
    "\n",
    "display(mdf.age.mean())\n",
    "display(mdf.age.value_counts().head())"
   ]
  },
  {
   "cell_type": "code",
   "execution_count": 22,
   "metadata": {
    "colab": {},
    "colab_type": "code",
    "id": "No0NPewT55e6"
   },
   "outputs": [
    {
     "name": "stdout",
     "output_type": "stream",
     "text": [
      "<class 'pandas.core.frame.DataFrame'>\n",
      "RangeIndex: 600 entries, 0 to 599\n",
      "Data columns (total 12 columns):\n",
      " #   Column       Non-Null Count  Dtype  \n",
      "---  ------       --------------  -----  \n",
      " 0   id           600 non-null    object \n",
      " 1   age          600 non-null    float64\n",
      " 2   sex          600 non-null    int64  \n",
      " 3   region       600 non-null    int64  \n",
      " 4   income       600 non-null    float64\n",
      " 5   married      600 non-null    int64  \n",
      " 6   children     600 non-null    int64  \n",
      " 7   car          600 non-null    int64  \n",
      " 8   save_act     600 non-null    int64  \n",
      " 9   current_act  600 non-null    int64  \n",
      " 10  mortgage     600 non-null    int64  \n",
      " 11  pep          600 non-null    int64  \n",
      "dtypes: float64(2), int64(9), object(1)\n",
      "memory usage: 56.4+ KB\n"
     ]
    }
   ],
   "source": [
    "# 평균값으로 결측값 대체하기\n",
    "# fillna 는 널값을 채우라. 여기서는 평균으로 채우고 있음.\n",
    "# 분석의 상황에 따라 null 값을 그대로 사용함.\n",
    " \n",
    "mdf.age.fillna(round(mdf.age.mean(),0), inplace=True)\n",
    "mdf.info()"
   ]
  },
  {
   "cell_type": "markdown",
   "metadata": {
    "colab_type": "text",
    "id": "xPBW9Hbp55e8"
   },
   "source": [
    "### Construct Data ###\n",
    "##### Derive Attributes #####"
   ]
  },
  {
   "cell_type": "code",
   "execution_count": 23,
   "metadata": {},
   "outputs": [
    {
     "data": {
      "text/html": [
       "<div>\n",
       "<style scoped>\n",
       "    .dataframe tbody tr th:only-of-type {\n",
       "        vertical-align: middle;\n",
       "    }\n",
       "\n",
       "    .dataframe tbody tr th {\n",
       "        vertical-align: top;\n",
       "    }\n",
       "\n",
       "    .dataframe thead th {\n",
       "        text-align: right;\n",
       "    }\n",
       "</style>\n",
       "<table border=\"1\" class=\"dataframe\">\n",
       "  <thead>\n",
       "    <tr style=\"text-align: right;\">\n",
       "      <th></th>\n",
       "      <th>id</th>\n",
       "      <th>age</th>\n",
       "      <th>sex</th>\n",
       "      <th>region</th>\n",
       "      <th>income</th>\n",
       "      <th>married</th>\n",
       "      <th>children</th>\n",
       "      <th>car</th>\n",
       "      <th>save_act</th>\n",
       "      <th>current_act</th>\n",
       "      <th>mortgage</th>\n",
       "      <th>pep</th>\n",
       "    </tr>\n",
       "  </thead>\n",
       "  <tbody>\n",
       "    <tr>\n",
       "      <th>0</th>\n",
       "      <td>ID12101</td>\n",
       "      <td>48.0</td>\n",
       "      <td>0</td>\n",
       "      <td>0</td>\n",
       "      <td>17546.0</td>\n",
       "      <td>0</td>\n",
       "      <td>1</td>\n",
       "      <td>0</td>\n",
       "      <td>0</td>\n",
       "      <td>0</td>\n",
       "      <td>0</td>\n",
       "      <td>1</td>\n",
       "    </tr>\n",
       "    <tr>\n",
       "      <th>1</th>\n",
       "      <td>ID12102</td>\n",
       "      <td>40.0</td>\n",
       "      <td>1</td>\n",
       "      <td>3</td>\n",
       "      <td>30085.1</td>\n",
       "      <td>1</td>\n",
       "      <td>3</td>\n",
       "      <td>1</td>\n",
       "      <td>0</td>\n",
       "      <td>1</td>\n",
       "      <td>1</td>\n",
       "      <td>0</td>\n",
       "    </tr>\n",
       "  </tbody>\n",
       "</table>\n",
       "</div>"
      ],
      "text/plain": [
       "        id   age  sex  region   income  married  children  car  save_act  \\\n",
       "0  ID12101  48.0    0       0  17546.0        0         1    0         0   \n",
       "1  ID12102  40.0    1       3  30085.1        1         3    1         0   \n",
       "\n",
       "   current_act  mortgage  pep  \n",
       "0            0         0    1  \n",
       "1            1         1    0  "
      ]
     },
     "execution_count": 23,
     "metadata": {},
     "output_type": "execute_result"
    }
   ],
   "source": [
    "mdf.head(2)"
   ]
  },
  {
   "cell_type": "code",
   "execution_count": 24,
   "metadata": {
    "colab": {},
    "colab_type": "code",
    "id": "x4qZzZK655e8",
    "scrolled": true
   },
   "outputs": [
    {
     "data": {
      "text/html": [
       "<div>\n",
       "<style scoped>\n",
       "    .dataframe tbody tr th:only-of-type {\n",
       "        vertical-align: middle;\n",
       "    }\n",
       "\n",
       "    .dataframe tbody tr th {\n",
       "        vertical-align: top;\n",
       "    }\n",
       "\n",
       "    .dataframe thead th {\n",
       "        text-align: right;\n",
       "    }\n",
       "</style>\n",
       "<table border=\"1\" class=\"dataframe\">\n",
       "  <thead>\n",
       "    <tr style=\"text-align: right;\">\n",
       "      <th></th>\n",
       "      <th>id</th>\n",
       "      <th>age</th>\n",
       "      <th>sex</th>\n",
       "      <th>region</th>\n",
       "      <th>income</th>\n",
       "      <th>married</th>\n",
       "      <th>children</th>\n",
       "      <th>car</th>\n",
       "      <th>save_act</th>\n",
       "      <th>current_act</th>\n",
       "      <th>mortgage</th>\n",
       "      <th>pep</th>\n",
       "      <th>realincome</th>\n",
       "    </tr>\n",
       "  </thead>\n",
       "  <tbody>\n",
       "    <tr>\n",
       "      <th>0</th>\n",
       "      <td>ID12101</td>\n",
       "      <td>48.0</td>\n",
       "      <td>0</td>\n",
       "      <td>0</td>\n",
       "      <td>17546.0</td>\n",
       "      <td>0</td>\n",
       "      <td>1</td>\n",
       "      <td>0</td>\n",
       "      <td>0</td>\n",
       "      <td>0</td>\n",
       "      <td>0</td>\n",
       "      <td>1</td>\n",
       "      <td>17546.000000</td>\n",
       "    </tr>\n",
       "    <tr>\n",
       "      <th>1</th>\n",
       "      <td>ID12102</td>\n",
       "      <td>40.0</td>\n",
       "      <td>1</td>\n",
       "      <td>3</td>\n",
       "      <td>30085.1</td>\n",
       "      <td>1</td>\n",
       "      <td>3</td>\n",
       "      <td>1</td>\n",
       "      <td>0</td>\n",
       "      <td>1</td>\n",
       "      <td>1</td>\n",
       "      <td>0</td>\n",
       "      <td>10028.366667</td>\n",
       "    </tr>\n",
       "    <tr>\n",
       "      <th>2</th>\n",
       "      <td>ID12103</td>\n",
       "      <td>43.0</td>\n",
       "      <td>0</td>\n",
       "      <td>0</td>\n",
       "      <td>16575.4</td>\n",
       "      <td>1</td>\n",
       "      <td>0</td>\n",
       "      <td>1</td>\n",
       "      <td>1</td>\n",
       "      <td>1</td>\n",
       "      <td>0</td>\n",
       "      <td>0</td>\n",
       "      <td>16575.400000</td>\n",
       "    </tr>\n",
       "    <tr>\n",
       "      <th>3</th>\n",
       "      <td>ID12104</td>\n",
       "      <td>23.0</td>\n",
       "      <td>0</td>\n",
       "      <td>3</td>\n",
       "      <td>20375.4</td>\n",
       "      <td>1</td>\n",
       "      <td>3</td>\n",
       "      <td>0</td>\n",
       "      <td>0</td>\n",
       "      <td>1</td>\n",
       "      <td>0</td>\n",
       "      <td>0</td>\n",
       "      <td>6791.800000</td>\n",
       "    </tr>\n",
       "    <tr>\n",
       "      <th>4</th>\n",
       "      <td>ID12105</td>\n",
       "      <td>57.0</td>\n",
       "      <td>0</td>\n",
       "      <td>1</td>\n",
       "      <td>50576.3</td>\n",
       "      <td>1</td>\n",
       "      <td>0</td>\n",
       "      <td>0</td>\n",
       "      <td>1</td>\n",
       "      <td>0</td>\n",
       "      <td>0</td>\n",
       "      <td>0</td>\n",
       "      <td>50576.300000</td>\n",
       "    </tr>\n",
       "  </tbody>\n",
       "</table>\n",
       "</div>"
      ],
      "text/plain": [
       "        id   age  sex  region   income  married  children  car  save_act  \\\n",
       "0  ID12101  48.0    0       0  17546.0        0         1    0         0   \n",
       "1  ID12102  40.0    1       3  30085.1        1         3    1         0   \n",
       "2  ID12103  43.0    0       0  16575.4        1         0    1         1   \n",
       "3  ID12104  23.0    0       3  20375.4        1         3    0         0   \n",
       "4  ID12105  57.0    0       1  50576.3        1         0    0         1   \n",
       "\n",
       "   current_act  mortgage  pep    realincome  \n",
       "0            0         0    1  17546.000000  \n",
       "1            1         1    0  10028.366667  \n",
       "2            1         0    0  16575.400000  \n",
       "3            1         0    0   6791.800000  \n",
       "4            0         0    0  50576.300000  "
      ]
     },
     "execution_count": 24,
     "metadata": {},
     "output_type": "execute_result"
    }
   ],
   "source": [
    "# 명목소득 보다 명목소득을 자녀수로 나눈 실질소득이 개인연금 가입에 더 유효한 속성이라고 가정하고 이를 구현\n",
    "# 자식에 따라 realincome 변수를 추가\n",
    "# children이 0이면, income 입력 / children이 0이 아니면, income/children 입력\n",
    "\n",
    "mdf['realincome'] = np.where(mdf['children']==0, mdf['income'], mdf['income']/mdf['children'])\n",
    "mdf.head()"
   ]
  },
  {
   "cell_type": "markdown",
   "metadata": {
    "colab_type": "text",
    "id": "1qKAUMWH55fB"
   },
   "source": [
    "<font color = \"blue\">\n",
    "***[numpy.where(condition, x, y)](https://docs.scipy.org/doc/numpy/reference/generated/numpy.where.html#numpy.where)***<br>\n",
    "***True이면 x를 , 그렇지 않으면 y ***<br>                                 \n",
    "*return elements, either from x or y, depending on condition*"
   ]
  },
  {
   "cell_type": "code",
   "execution_count": 27,
   "metadata": {
    "scrolled": true
   },
   "outputs": [
    {
     "data": {
      "text/plain": [
       "pep            1.000000\n",
       "realincome     0.228975\n",
       "income         0.225086\n",
       "age            0.183699\n",
       "sex            0.046843\n",
       "current_act    0.025141\n",
       "car            0.018917\n",
       "mortgage      -0.024182\n",
       "region        -0.027279\n",
       "children      -0.057663\n",
       "save_act      -0.072779\n",
       "married       -0.189578\n",
       "Name: pep, dtype: float64"
      ]
     },
     "execution_count": 27,
     "metadata": {},
     "output_type": "execute_result"
    }
   ],
   "source": [
    "corr = mdf.corr()\n",
    "corr.pep.sort_values(ascending=False)"
   ]
  },
  {
   "cell_type": "code",
   "execution_count": 28,
   "metadata": {},
   "outputs": [
    {
     "data": {
      "text/plain": [
       "income         1.000000\n",
       "realincome     0.772406\n",
       "age            0.707379\n",
       "save_act       0.265233\n",
       "pep            0.225086\n",
       "car            0.072590\n",
       "children       0.042774\n",
       "current_act    0.035036\n",
       "region         0.009813\n",
       "married       -0.002977\n",
       "mortgage      -0.019666\n",
       "sex           -0.030606\n",
       "Name: income, dtype: float64"
      ]
     },
     "execution_count": 28,
     "metadata": {},
     "output_type": "execute_result"
    }
   ],
   "source": [
    "corr.income.sort_values(ascending=False)"
   ]
  },
  {
   "cell_type": "markdown",
   "metadata": {
    "colab_type": "text",
    "id": "4K1TjCOz55fB"
   },
   "source": [
    "### Select Data ###\n",
    "##### Filter Attributes  #####"
   ]
  },
  {
   "cell_type": "code",
   "execution_count": 29,
   "metadata": {
    "colab": {},
    "colab_type": "code",
    "id": "MjtfXWOU55fC"
   },
   "outputs": [
    {
     "data": {
      "text/html": [
       "<div>\n",
       "<style scoped>\n",
       "    .dataframe tbody tr th:only-of-type {\n",
       "        vertical-align: middle;\n",
       "    }\n",
       "\n",
       "    .dataframe tbody tr th {\n",
       "        vertical-align: top;\n",
       "    }\n",
       "\n",
       "    .dataframe thead th {\n",
       "        text-align: right;\n",
       "    }\n",
       "</style>\n",
       "<table border=\"1\" class=\"dataframe\">\n",
       "  <thead>\n",
       "    <tr style=\"text-align: right;\">\n",
       "      <th></th>\n",
       "      <th>id</th>\n",
       "      <th>age</th>\n",
       "      <th>sex</th>\n",
       "      <th>married</th>\n",
       "      <th>save_act</th>\n",
       "      <th>pep</th>\n",
       "      <th>realincome</th>\n",
       "    </tr>\n",
       "  </thead>\n",
       "  <tbody>\n",
       "    <tr>\n",
       "      <th>0</th>\n",
       "      <td>ID12101</td>\n",
       "      <td>48.0</td>\n",
       "      <td>0</td>\n",
       "      <td>0</td>\n",
       "      <td>0</td>\n",
       "      <td>1</td>\n",
       "      <td>17546.000000</td>\n",
       "    </tr>\n",
       "    <tr>\n",
       "      <th>1</th>\n",
       "      <td>ID12102</td>\n",
       "      <td>40.0</td>\n",
       "      <td>1</td>\n",
       "      <td>1</td>\n",
       "      <td>0</td>\n",
       "      <td>0</td>\n",
       "      <td>10028.366667</td>\n",
       "    </tr>\n",
       "    <tr>\n",
       "      <th>2</th>\n",
       "      <td>ID12103</td>\n",
       "      <td>43.0</td>\n",
       "      <td>0</td>\n",
       "      <td>1</td>\n",
       "      <td>1</td>\n",
       "      <td>0</td>\n",
       "      <td>16575.400000</td>\n",
       "    </tr>\n",
       "    <tr>\n",
       "      <th>3</th>\n",
       "      <td>ID12104</td>\n",
       "      <td>23.0</td>\n",
       "      <td>0</td>\n",
       "      <td>1</td>\n",
       "      <td>0</td>\n",
       "      <td>0</td>\n",
       "      <td>6791.800000</td>\n",
       "    </tr>\n",
       "    <tr>\n",
       "      <th>4</th>\n",
       "      <td>ID12105</td>\n",
       "      <td>57.0</td>\n",
       "      <td>0</td>\n",
       "      <td>1</td>\n",
       "      <td>1</td>\n",
       "      <td>0</td>\n",
       "      <td>50576.300000</td>\n",
       "    </tr>\n",
       "  </tbody>\n",
       "</table>\n",
       "</div>"
      ],
      "text/plain": [
       "        id   age  sex  married  save_act  pep    realincome\n",
       "0  ID12101  48.0    0        0         0    1  17546.000000\n",
       "1  ID12102  40.0    1        1         0    0  10028.366667\n",
       "2  ID12103  43.0    0        1         1    0  16575.400000\n",
       "3  ID12104  23.0    0        1         0    0   6791.800000\n",
       "4  ID12105  57.0    0        1         1    0  50576.300000"
      ]
     },
     "execution_count": 29,
     "metadata": {},
     "output_type": "execute_result"
    }
   ],
   "source": [
    "# 파생변수인 실질소득을 유도하는데 사용된 명목소득과 자녀수를 제거\n",
    "# pep와 상관관계가 거의 없는 current_act, car, mortgage, region 속성 제거\n",
    "# 아래 컬럼은 없애고 분석하겠다.\n",
    "\n",
    "drop_columns = ['income', 'children', 'current_act', 'car', 'mortgage', 'region']\n",
    "mdf = mdf.drop(drop_columns, axis=1)\n",
    "mdf.head()"
   ]
  },
  {
   "cell_type": "markdown",
   "metadata": {
    "colab_type": "text",
    "id": "qd18u0p155fE"
   },
   "source": [
    "### Split Data ###\n",
    "<img align=\"left\" src=\"https://www.developer.com/imagesvr_ce/6793/ML4.png\" width=500 height=500 alt=\"Boxplot Outlier\">"
   ]
  },
  {
   "cell_type": "code",
   "execution_count": 30,
   "metadata": {
    "colab": {},
    "colab_type": "code",
    "id": "Bk51JIS755fE"
   },
   "outputs": [],
   "source": [
    "# for Hold-out validation\n",
    "\n",
    "from sklearn.model_selection import train_test_split  "
   ]
  },
  {
   "cell_type": "code",
   "execution_count": 31,
   "metadata": {},
   "outputs": [
    {
     "data": {
      "text/html": [
       "<div>\n",
       "<style scoped>\n",
       "    .dataframe tbody tr th:only-of-type {\n",
       "        vertical-align: middle;\n",
       "    }\n",
       "\n",
       "    .dataframe tbody tr th {\n",
       "        vertical-align: top;\n",
       "    }\n",
       "\n",
       "    .dataframe thead th {\n",
       "        text-align: right;\n",
       "    }\n",
       "</style>\n",
       "<table border=\"1\" class=\"dataframe\">\n",
       "  <thead>\n",
       "    <tr style=\"text-align: right;\">\n",
       "      <th></th>\n",
       "      <th>id</th>\n",
       "      <th>age</th>\n",
       "      <th>sex</th>\n",
       "      <th>married</th>\n",
       "      <th>save_act</th>\n",
       "      <th>pep</th>\n",
       "      <th>realincome</th>\n",
       "    </tr>\n",
       "  </thead>\n",
       "  <tbody>\n",
       "    <tr>\n",
       "      <th>0</th>\n",
       "      <td>ID12101</td>\n",
       "      <td>48.0</td>\n",
       "      <td>0</td>\n",
       "      <td>0</td>\n",
       "      <td>0</td>\n",
       "      <td>1</td>\n",
       "      <td>17546.000000</td>\n",
       "    </tr>\n",
       "    <tr>\n",
       "      <th>1</th>\n",
       "      <td>ID12102</td>\n",
       "      <td>40.0</td>\n",
       "      <td>1</td>\n",
       "      <td>1</td>\n",
       "      <td>0</td>\n",
       "      <td>0</td>\n",
       "      <td>10028.366667</td>\n",
       "    </tr>\n",
       "  </tbody>\n",
       "</table>\n",
       "</div>"
      ],
      "text/plain": [
       "        id   age  sex  married  save_act  pep    realincome\n",
       "0  ID12101  48.0    0        0         0    1  17546.000000\n",
       "1  ID12102  40.0    1        1         0    0  10028.366667"
      ]
     },
     "execution_count": 31,
     "metadata": {},
     "output_type": "execute_result"
    }
   ],
   "source": [
    "mdf.head(2)"
   ]
  },
  {
   "cell_type": "code",
   "execution_count": 32,
   "metadata": {
    "colab": {},
    "colab_type": "code",
    "id": "noBquO9G55fG"
   },
   "outputs": [],
   "source": [
    "# scikit-learn에서는 속성과 클래스를 분리하여야 한다.\n",
    "\n",
    "dfX = mdf.drop(['id','pep'], axis=1)  # exclude 'id' attribute & class variable\n",
    "dfy = mdf['pep']                    # class variable\n",
    "X_train, X_test, y_train, y_test = train_test_split(dfX, dfy, test_size=0.25, random_state=0)"
   ]
  },
  {
   "cell_type": "code",
   "execution_count": 34,
   "metadata": {
    "colab": {},
    "colab_type": "code",
    "id": "8h_qx8zq55fI"
   },
   "outputs": [
    {
     "data": {
      "text/plain": [
       "(450, 5)"
      ]
     },
     "metadata": {},
     "output_type": "display_data"
    },
    {
     "data": {
      "text/plain": [
       "(150, 5)"
      ]
     },
     "metadata": {},
     "output_type": "display_data"
    },
    {
     "data": {
      "text/html": [
       "<div>\n",
       "<style scoped>\n",
       "    .dataframe tbody tr th:only-of-type {\n",
       "        vertical-align: middle;\n",
       "    }\n",
       "\n",
       "    .dataframe tbody tr th {\n",
       "        vertical-align: top;\n",
       "    }\n",
       "\n",
       "    .dataframe thead th {\n",
       "        text-align: right;\n",
       "    }\n",
       "</style>\n",
       "<table border=\"1\" class=\"dataframe\">\n",
       "  <thead>\n",
       "    <tr style=\"text-align: right;\">\n",
       "      <th></th>\n",
       "      <th>age</th>\n",
       "      <th>sex</th>\n",
       "      <th>married</th>\n",
       "      <th>save_act</th>\n",
       "      <th>realincome</th>\n",
       "    </tr>\n",
       "  </thead>\n",
       "  <tbody>\n",
       "    <tr>\n",
       "      <th>46</th>\n",
       "      <td>50.0</td>\n",
       "      <td>0</td>\n",
       "      <td>0</td>\n",
       "      <td>1</td>\n",
       "      <td>13283.9</td>\n",
       "    </tr>\n",
       "    <tr>\n",
       "      <th>263</th>\n",
       "      <td>60.0</td>\n",
       "      <td>0</td>\n",
       "      <td>1</td>\n",
       "      <td>1</td>\n",
       "      <td>46358.4</td>\n",
       "    </tr>\n",
       "    <tr>\n",
       "      <th>458</th>\n",
       "      <td>18.0</td>\n",
       "      <td>1</td>\n",
       "      <td>0</td>\n",
       "      <td>1</td>\n",
       "      <td>13700.2</td>\n",
       "    </tr>\n",
       "  </tbody>\n",
       "</table>\n",
       "</div>"
      ],
      "text/plain": [
       "      age  sex  married  save_act  realincome\n",
       "46   50.0    0        0         1     13283.9\n",
       "263  60.0    0        1         1     46358.4\n",
       "458  18.0    1        0         1     13700.2"
      ]
     },
     "execution_count": 34,
     "metadata": {},
     "output_type": "execute_result"
    }
   ],
   "source": [
    "# 지정한 비율(75:25)로 데이터가 잘 나누어졌는지 확인\n",
    "\n",
    "display(X_train.shape, X_test.shape)\n",
    "X_train.head(3)"
   ]
  },
  {
   "cell_type": "markdown",
   "metadata": {
    "colab_type": "text",
    "id": "rJTXjpmX55fM"
   },
   "source": [
    "## Step 4: Modeling ##\n",
    "<br>\n",
    "<font color = \"blue\">\n",
    "**Scikit-Learn Estimator Interface**\n",
    "1. Import the estimator\n",
    "2. Instantiate the estimator\n",
    "3. Fit the data to the estimator: **.fit()**\n",
    "4. Generate a prediction: **.predict()**\n",
    "5. Evaluate the estimator: **.score()**\n",
    "</font>\n",
    "*ref) \"Introduction to Machine Learning with Python\", pp.254*"
   ]
  },
  {
   "cell_type": "markdown",
   "metadata": {
    "colab_type": "text",
    "id": "ynMDgbAV55fN"
   },
   "source": [
    "### Build Model ###"
   ]
  },
  {
   "cell_type": "markdown",
   "metadata": {
    "colab_type": "text",
    "id": "wGbDUK2H55fO"
   },
   "source": [
    "<font color = \"darkgreen\">\n",
    "##### 1. Decision Trees #####\n",
    "</font>\n",
    "<img align=\"left\" src=\"https://cdn-images-1.medium.com/max/870/1*xzF10JmR3K0rnZ8jtIHI_g.png\" width=700 height=500 alt=\"Decision Tree\">"
   ]
  },
  {
   "cell_type": "markdown",
   "metadata": {},
   "source": [
    "<font color = \"blue\">\n",
    "***[sklearn.tree.DecisionTreeClassifier()](http://scikit-learn.org/stable/modules/generated/sklearn.tree.DecisionTreeClassifier.html)***"
   ]
  },
  {
   "cell_type": "code",
   "execution_count": 35,
   "metadata": {
    "colab": {},
    "colab_type": "code",
    "id": "Js4HNHDz55fO"
   },
   "outputs": [],
   "source": [
    "# 1. Import the estimator\n",
    "\n",
    "from sklearn.tree import DecisionTreeClassifier"
   ]
  },
  {
   "cell_type": "code",
   "execution_count": 36,
   "metadata": {
    "colab": {},
    "colab_type": "code",
    "id": "pSDift3255fQ"
   },
   "outputs": [],
   "source": [
    "# 2. Instantiate the estimator\n",
    "\n",
    "tree = DecisionTreeClassifier(max_depth=6, random_state=0)"
   ]
  },
  {
   "cell_type": "code",
   "execution_count": 37,
   "metadata": {
    "colab": {},
    "colab_type": "code",
    "id": "pDtnaIag55fT"
   },
   "outputs": [
    {
     "data": {
      "text/plain": [
       "DecisionTreeClassifier(max_depth=6, random_state=0)"
      ]
     },
     "execution_count": 37,
     "metadata": {},
     "output_type": "execute_result"
    }
   ],
   "source": [
    "# 3. Fit the data to the estimator\n",
    "\n",
    "tree.fit(X_train, y_train)"
   ]
  },
  {
   "cell_type": "code",
   "execution_count": 39,
   "metadata": {
    "colab": {},
    "colab_type": "code",
    "id": "qsJ--LzO55fV"
   },
   "outputs": [
    {
     "data": {
      "text/plain": [
       "array([0, 0, 1, 1, 1, 1, 1, 0, 1, 0, 1, 1, 0, 0, 1, 1, 1, 0, 0, 0, 0, 0,\n",
       "       0, 1, 0, 1, 0, 0, 0, 0, 0, 0, 1, 0, 0, 1, 1, 0, 0, 0, 1, 1, 1, 1,\n",
       "       0, 0, 0, 0, 1, 1, 0, 1, 0, 1, 1, 0, 1, 1, 0, 0, 1, 0, 1, 1, 0, 1,\n",
       "       1, 0, 0, 1, 0, 0, 1, 1, 0, 0, 1, 0, 0, 0, 0, 0, 0, 0, 1, 0, 0, 0,\n",
       "       0, 0, 1, 0, 0, 1, 1, 1, 0, 0, 0, 1, 0, 1, 0, 0, 1, 1, 0, 0, 0, 0,\n",
       "       0, 0, 0, 0, 1, 0, 1, 1, 0, 0, 1, 1, 0, 1, 0, 0, 0, 0, 0, 0, 0, 0,\n",
       "       0, 0, 0, 0, 1, 1, 1, 0, 0, 0, 0, 0, 0, 0, 1, 0, 0, 0], dtype=int64)"
      ]
     },
     "execution_count": 39,
     "metadata": {},
     "output_type": "execute_result"
    }
   ],
   "source": [
    "# 4. Generate a prediction\n",
    "\n",
    "pred_tree = tree.predict(X_test)\n",
    "pred_tree"
   ]
  },
  {
   "cell_type": "markdown",
   "metadata": {},
   "source": [
    "<font color = \"darkgreen\">\n",
    "##### 2. SVM (Support Vector Machine) #####\n",
    "<img align=\"left\" src=\"https://78.media.tumblr.com/0e459c9df3dc85c301ae41db5e058cb8/tumblr_inline_n9xq5hiRsC1rmpjcz.jpg\"\n",
    "width=500 height=500 alt=\"SVM\">"
   ]
  },
  {
   "cell_type": "markdown",
   "metadata": {},
   "source": [
    "<font color = \"blue\">\n",
    "***[sklearn.svm.SVC()](http://scikit-learn.org/stable/modules/generated/sklearn.svm.SVC.html)***"
   ]
  },
  {
   "cell_type": "code",
   "execution_count": 40,
   "metadata": {},
   "outputs": [
    {
     "data": {
      "text/plain": [
       "SVC(random_state=0)"
      ]
     },
     "execution_count": 40,
     "metadata": {},
     "output_type": "execute_result"
    }
   ],
   "source": [
    "from sklearn.svm import SVC \n",
    "svm = SVC(random_state=0)\n",
    "svm.fit(X_train, y_train)"
   ]
  },
  {
   "cell_type": "markdown",
   "metadata": {},
   "source": [
    "<font color = \"darkgreen\">\n",
    "##### 3. Neural Networks (Multi-layer Perceptron) #####\n",
    "</font>  \n",
    "<img align=\"left\" src=\"https://3.bp.blogspot.com/-vYvrkXroyDY/WdObH7y6rBI/AAAAAAAAAZ0/nqYZCwLD2doT354ZJLI0HBkcY-Pjc8LqACLcBGAs/s1600/neural_nets_thumbnail.png\" width=400 height=300 alt=\"NN\">\n",
    "<img align=\"left\" src=\"https://cdn-images-1.medium.com/max/479/1*QVIyc5HnGDWTNX3m-nIm9w.png\" width=600 height=400 alt=\"NN\">"
   ]
  },
  {
   "cell_type": "markdown",
   "metadata": {},
   "source": [
    "단지 클릭만으로 신경망 체험하기: [Neural Network Playground 실습](https://developers.google.com/machine-learning/crash-course/introduction-to-neural-networks/playground-exercises?hl=ko)"
   ]
  },
  {
   "cell_type": "markdown",
   "metadata": {},
   "source": [
    "<font color = \"blue\">\n",
    "***[sklearn.neural_network.MLPClassifier()](http://scikit-learn.org/stable/modules/generated/sklearn.neural_network.MLPClassifier.html)***"
   ]
  },
  {
   "cell_type": "code",
   "execution_count": 41,
   "metadata": {
    "colab": {},
    "colab_type": "code",
    "id": "wxrM6JbF55fW"
   },
   "outputs": [
    {
     "data": {
      "text/plain": [
       "MLPClassifier()"
      ]
     },
     "execution_count": 41,
     "metadata": {},
     "output_type": "execute_result"
    }
   ],
   "source": [
    "# 아래에 Neural Network 모형을 생성하는 코드를 작성하시오.\n",
    "# 단, 모형을 저장하는 변수명을 mlp로 할 것!\n",
    "\n",
    "from sklearn.neural_network import MLPClassifier \n",
    "mlp = MLPClassifier()\n",
    "mlp.fit(X_train, y_train)"
   ]
  },
  {
   "cell_type": "markdown",
   "metadata": {
    "colab_type": "text",
    "id": "UCQM7MT655fe"
   },
   "source": [
    "### Assess Model ###"
   ]
  },
  {
   "cell_type": "markdown",
   "metadata": {
    "colab_type": "text",
    "id": "PKZiOmfl55fe"
   },
   "source": [
    "<font color = \"darkgreen\">\n",
    "##### 1. Decision Trees #####"
   ]
  },
  {
   "cell_type": "code",
   "execution_count": 42,
   "metadata": {
    "colab": {},
    "colab_type": "code",
    "id": "JXFoFn7j55fe"
   },
   "outputs": [
    {
     "data": {
      "text/plain": [
       "0.8177777777777778"
      ]
     },
     "metadata": {},
     "output_type": "display_data"
    },
    {
     "data": {
      "text/plain": [
       "0.66"
      ]
     },
     "metadata": {},
     "output_type": "display_data"
    }
   ],
   "source": [
    "# 5. Evaluate the estimator\n",
    "# \n",
    "\n",
    "display(tree.score(X_train, y_train))\n",
    "display(tree.score(X_test, y_test))"
   ]
  },
  {
   "cell_type": "markdown",
   "metadata": {
    "colab_type": "text",
    "id": "deAAp9jj55fi"
   },
   "source": [
    "<font color = \"darkgreen\">\n",
    "##### 2. SVM"
   ]
  },
  {
   "cell_type": "code",
   "execution_count": 43,
   "metadata": {
    "colab": {},
    "colab_type": "code",
    "id": "NAP7VObV55fj"
   },
   "outputs": [
    {
     "data": {
      "text/plain": [
       "0.6955555555555556"
      ]
     },
     "metadata": {},
     "output_type": "display_data"
    },
    {
     "data": {
      "text/plain": [
       "0.6533333333333333"
      ]
     },
     "metadata": {},
     "output_type": "display_data"
    }
   ],
   "source": [
    "display(svm.score(X_train, y_train))\n",
    "display(svm.score(X_test, y_test))"
   ]
  },
  {
   "cell_type": "markdown",
   "metadata": {},
   "source": [
    "<font color = \"darkgreen\">\n",
    "##### 3. Neural Networks"
   ]
  },
  {
   "cell_type": "code",
   "execution_count": 45,
   "metadata": {},
   "outputs": [
    {
     "data": {
      "text/plain": [
       "0.5511111111111111"
      ]
     },
     "metadata": {},
     "output_type": "display_data"
    },
    {
     "data": {
      "text/plain": [
       "0.52"
      ]
     },
     "metadata": {},
     "output_type": "display_data"
    }
   ],
   "source": [
    "# 아래에 Neural Network 모형의 성능을 평가하는 코드를 작성하시오.\n",
    "\n",
    "display(mlp.score(X_train, y_train))\n",
    "display(mlp.score(X_test, y_test))"
   ]
  },
  {
   "cell_type": "markdown",
   "metadata": {
    "colab_type": "text",
    "id": "2eH3biQf55fl"
   },
   "source": [
    "## Step 5: Evaluation ##"
   ]
  },
  {
   "cell_type": "markdown",
   "metadata": {
    "colab_type": "text",
    "id": "O8VBlwmB55fm"
   },
   "source": [
    "<font color = \"red\">\n",
    "- *Which model is the best ?*\n",
    "- *Is the model useful ?*\n",
    "<font>"
   ]
  },
  {
   "cell_type": "code",
   "execution_count": 46,
   "metadata": {
    "colab": {},
    "colab_type": "code",
    "id": "0sEszdbk55fm"
   },
   "outputs": [
    {
     "data": {
      "text/plain": [
       "0.66"
      ]
     },
     "execution_count": 46,
     "metadata": {},
     "output_type": "execute_result"
    }
   ],
   "source": [
    "best_model = tree   # Change this code if the best model is not decision tree.\n",
    "best_model.score(X_test, y_test)"
   ]
  },
  {
   "cell_type": "code",
   "execution_count": 47,
   "metadata": {
    "colab": {},
    "colab_type": "code",
    "id": "RdcLQX5-55fo"
   },
   "outputs": [
    {
     "name": "stdout",
     "output_type": "stream",
     "text": [
      "0    78\n",
      "1    72\n",
      "Name: pep, dtype: int64\n"
     ]
    },
    {
     "data": {
      "text/plain": [
       "0.52"
      ]
     },
     "execution_count": 47,
     "metadata": {},
     "output_type": "execute_result"
    }
   ],
   "source": [
    "# 랜덤 모형의 성능과 개발 모형의 성능을 비교한다.\n",
    "\n",
    "from sklearn.dummy import DummyClassifier\n",
    "print(y_test.value_counts())\n",
    "DummyClassifier(strategy='most_frequent').fit(X_train, y_train).score(X_test, y_test)"
   ]
  },
  {
   "cell_type": "markdown",
   "metadata": {
    "colab_type": "text",
    "id": "68G_maaD55fp"
   },
   "source": [
    "## Step 6: Deployment ##"
   ]
  },
  {
   "cell_type": "code",
   "execution_count": 48,
   "metadata": {},
   "outputs": [
    {
     "data": {
      "text/html": [
       "<div>\n",
       "<style scoped>\n",
       "    .dataframe tbody tr th:only-of-type {\n",
       "        vertical-align: middle;\n",
       "    }\n",
       "\n",
       "    .dataframe tbody tr th {\n",
       "        vertical-align: top;\n",
       "    }\n",
       "\n",
       "    .dataframe thead th {\n",
       "        text-align: right;\n",
       "    }\n",
       "</style>\n",
       "<table border=\"1\" class=\"dataframe\">\n",
       "  <thead>\n",
       "    <tr style=\"text-align: right;\">\n",
       "      <th></th>\n",
       "      <th>id</th>\n",
       "      <th>age</th>\n",
       "      <th>sex</th>\n",
       "      <th>region</th>\n",
       "      <th>income</th>\n",
       "      <th>married</th>\n",
       "      <th>children</th>\n",
       "      <th>car</th>\n",
       "      <th>save_act</th>\n",
       "      <th>current_act</th>\n",
       "      <th>mortgage</th>\n",
       "    </tr>\n",
       "  </thead>\n",
       "  <tbody>\n",
       "    <tr>\n",
       "      <th>0</th>\n",
       "      <td>ID12701</td>\n",
       "      <td>23</td>\n",
       "      <td>1</td>\n",
       "      <td>0</td>\n",
       "      <td>18766.90</td>\n",
       "      <td>1</td>\n",
       "      <td>0</td>\n",
       "      <td>1</td>\n",
       "      <td>1</td>\n",
       "      <td>0</td>\n",
       "      <td>1</td>\n",
       "    </tr>\n",
       "    <tr>\n",
       "      <th>1</th>\n",
       "      <td>ID12702</td>\n",
       "      <td>30</td>\n",
       "      <td>1</td>\n",
       "      <td>1</td>\n",
       "      <td>9915.67</td>\n",
       "      <td>0</td>\n",
       "      <td>1</td>\n",
       "      <td>0</td>\n",
       "      <td>1</td>\n",
       "      <td>0</td>\n",
       "      <td>1</td>\n",
       "    </tr>\n",
       "  </tbody>\n",
       "</table>\n",
       "</div>"
      ],
      "text/plain": [
       "        id  age  sex  region    income  married  children  car  save_act  \\\n",
       "0  ID12701   23    1       0  18766.90        1         0    1         1   \n",
       "1  ID12702   30    1       1   9915.67        0         1    0         1   \n",
       "\n",
       "   current_act  mortgage  \n",
       "0            0         1  \n",
       "1            0         1  "
      ]
     },
     "execution_count": 48,
     "metadata": {},
     "output_type": "execute_result"
    }
   ],
   "source": [
    "new.head(2)"
   ]
  },
  {
   "cell_type": "code",
   "execution_count": 49,
   "metadata": {
    "colab": {},
    "colab_type": "code",
    "id": "ka-V7sgC55ft"
   },
   "outputs": [
    {
     "data": {
      "text/html": [
       "<div>\n",
       "<style scoped>\n",
       "    .dataframe tbody tr th:only-of-type {\n",
       "        vertical-align: middle;\n",
       "    }\n",
       "\n",
       "    .dataframe tbody tr th {\n",
       "        vertical-align: top;\n",
       "    }\n",
       "\n",
       "    .dataframe thead th {\n",
       "        text-align: right;\n",
       "    }\n",
       "</style>\n",
       "<table border=\"1\" class=\"dataframe\">\n",
       "  <thead>\n",
       "    <tr style=\"text-align: right;\">\n",
       "      <th></th>\n",
       "      <th>id</th>\n",
       "      <th>age</th>\n",
       "      <th>sex</th>\n",
       "      <th>married</th>\n",
       "      <th>save_act</th>\n",
       "      <th>realincome</th>\n",
       "    </tr>\n",
       "  </thead>\n",
       "  <tbody>\n",
       "    <tr>\n",
       "      <th>0</th>\n",
       "      <td>ID12701</td>\n",
       "      <td>23</td>\n",
       "      <td>1</td>\n",
       "      <td>1</td>\n",
       "      <td>1</td>\n",
       "      <td>18766.90</td>\n",
       "    </tr>\n",
       "    <tr>\n",
       "      <th>1</th>\n",
       "      <td>ID12702</td>\n",
       "      <td>30</td>\n",
       "      <td>1</td>\n",
       "      <td>0</td>\n",
       "      <td>1</td>\n",
       "      <td>9915.67</td>\n",
       "    </tr>\n",
       "    <tr>\n",
       "      <th>2</th>\n",
       "      <td>ID12703</td>\n",
       "      <td>45</td>\n",
       "      <td>0</td>\n",
       "      <td>0</td>\n",
       "      <td>1</td>\n",
       "      <td>21881.60</td>\n",
       "    </tr>\n",
       "    <tr>\n",
       "      <th>3</th>\n",
       "      <td>ID12704</td>\n",
       "      <td>50</td>\n",
       "      <td>1</td>\n",
       "      <td>1</td>\n",
       "      <td>1</td>\n",
       "      <td>23397.20</td>\n",
       "    </tr>\n",
       "    <tr>\n",
       "      <th>4</th>\n",
       "      <td>ID12705</td>\n",
       "      <td>41</td>\n",
       "      <td>0</td>\n",
       "      <td>1</td>\n",
       "      <td>1</td>\n",
       "      <td>20721.10</td>\n",
       "    </tr>\n",
       "  </tbody>\n",
       "</table>\n",
       "</div>"
      ],
      "text/plain": [
       "        id  age  sex  married  save_act  realincome\n",
       "0  ID12701   23    1        1         1    18766.90\n",
       "1  ID12702   30    1        0         1     9915.67\n",
       "2  ID12703   45    0        0         1    21881.60\n",
       "3  ID12704   50    1        1         1    23397.20\n",
       "4  ID12705   41    0        1         1    20721.10"
      ]
     },
     "execution_count": 49,
     "metadata": {},
     "output_type": "execute_result"
    }
   ],
   "source": [
    "# You must do the same preprocessing as the modeling data.\n",
    "\n",
    "ndf = new.copy()\n",
    "ndf['realincome'] = np.where(ndf['children']==0, ndf['income'], ndf['income']/ndf['children'])\n",
    "ndf = ndf.drop(drop_columns, axis=1)\n",
    "ndf.head()"
   ]
  },
  {
   "cell_type": "markdown",
   "metadata": {
    "colab_type": "text",
    "id": "FPy8Dr_A55fv"
   },
   "source": [
    "### A Case: Apply the best model to select target customers ###"
   ]
  },
  {
   "cell_type": "code",
   "execution_count": 50,
   "metadata": {
    "colab": {},
    "colab_type": "code",
    "id": "9Q6vtJm_55fx"
   },
   "outputs": [],
   "source": [
    "# 개발 모형에 고객 데이터를 적용하여 개인연금 구매여부를 예측: id 제외\n",
    "\n",
    "ndf['pred'] = best_model.predict(ndf.loc[:,'age':'realincome'])"
   ]
  },
  {
   "cell_type": "code",
   "execution_count": 51,
   "metadata": {
    "colab": {},
    "colab_type": "code",
    "id": "L0XH9KwW55fy"
   },
   "outputs": [
    {
     "name": "stdout",
     "output_type": "stream",
     "text": [
      "[[0.51470588 0.48529412]\n",
      " [1.         0.        ]\n",
      " [0.         1.        ]\n",
      " [0.         1.        ]\n",
      " [0.51470588 0.48529412]\n",
      " [0.13333333 0.86666667]\n",
      " [0.83870968 0.16129032]\n",
      " [0.7027027  0.2972973 ]\n",
      " [1.         0.        ]\n",
      " [0.1        0.9       ]\n",
      " [0.61538462 0.38461538]\n",
      " [0.         1.        ]\n",
      " [0.1        0.9       ]\n",
      " [0.51470588 0.48529412]\n",
      " [0.925      0.075     ]\n",
      " [0.7027027  0.2972973 ]\n",
      " [0.         1.        ]\n",
      " [0.1        0.9       ]\n",
      " [0.75       0.25      ]\n",
      " [1.         0.        ]\n",
      " [0.13333333 0.86666667]\n",
      " [0.925      0.075     ]\n",
      " [0.61538462 0.38461538]\n",
      " [0.83870968 0.16129032]\n",
      " [0.925      0.075     ]\n",
      " [1.         0.        ]\n",
      " [0.83870968 0.16129032]\n",
      " [0.83870968 0.16129032]\n",
      " [0.1        0.9       ]\n",
      " [1.         0.        ]\n",
      " [0.13333333 0.86666667]\n",
      " [0.925      0.075     ]\n",
      " [0.925      0.075     ]\n",
      " [0.925      0.075     ]\n",
      " [0.51470588 0.48529412]\n",
      " [0.         1.        ]\n",
      " [0.51470588 0.48529412]\n",
      " [0.7027027  0.2972973 ]\n",
      " [1.         0.        ]\n",
      " [1.         0.        ]\n",
      " [0.         1.        ]\n",
      " [0.32352941 0.67647059]\n",
      " [0.         1.        ]\n",
      " [0.125      0.875     ]\n",
      " [0.         1.        ]\n",
      " [0.         1.        ]\n",
      " [0.32352941 0.67647059]\n",
      " [1.         0.        ]\n",
      " [0.51470588 0.48529412]\n",
      " [0.83870968 0.16129032]\n",
      " [0.51470588 0.48529412]\n",
      " [0.1        0.9       ]\n",
      " [0.32352941 0.67647059]\n",
      " [0.925      0.075     ]\n",
      " [0.13333333 0.86666667]\n",
      " [0.         1.        ]\n",
      " [1.         0.        ]\n",
      " [1.         0.        ]\n",
      " [0.         1.        ]\n",
      " [0.         1.        ]\n",
      " [0.1        0.9       ]\n",
      " [0.75       0.25      ]\n",
      " [0.1        0.9       ]\n",
      " [0.83870968 0.16129032]\n",
      " [0.925      0.075     ]\n",
      " [1.         0.        ]\n",
      " [0.75       0.25      ]\n",
      " [1.         0.        ]\n",
      " [0.5        0.5       ]\n",
      " [0.13333333 0.86666667]\n",
      " [0.         1.        ]\n",
      " [0.51470588 0.48529412]\n",
      " [1.         0.        ]\n",
      " [0.51470588 0.48529412]\n",
      " [0.7027027  0.2972973 ]\n",
      " [0.         1.        ]\n",
      " [0.7027027  0.2972973 ]\n",
      " [0.         1.        ]\n",
      " [0.         1.        ]\n",
      " [0.83870968 0.16129032]\n",
      " [0.13333333 0.86666667]\n",
      " [0.13333333 0.86666667]\n",
      " [1.         0.        ]\n",
      " [0.51470588 0.48529412]\n",
      " [0.125      0.875     ]\n",
      " [0.         1.        ]\n",
      " [0.75       0.25      ]\n",
      " [1.         0.        ]\n",
      " [0.         1.        ]\n",
      " [0.         1.        ]\n",
      " [0.32352941 0.67647059]\n",
      " [0.51470588 0.48529412]\n",
      " [0.7027027  0.2972973 ]\n",
      " [1.         0.        ]\n",
      " [0.51470588 0.48529412]\n",
      " [0.925      0.075     ]\n",
      " [0.32352941 0.67647059]\n",
      " [0.13333333 0.86666667]\n",
      " [0.7027027  0.2972973 ]\n",
      " [0.61538462 0.38461538]\n",
      " [0.1        0.9       ]\n",
      " [0.         1.        ]\n",
      " [0.         1.        ]\n",
      " [0.         1.        ]\n",
      " [0.75       0.25      ]\n",
      " [0.925      0.075     ]\n",
      " [0.83870968 0.16129032]\n",
      " [0.32352941 0.67647059]\n",
      " [1.         0.        ]\n",
      " [0.         1.        ]\n",
      " [0.         1.        ]\n",
      " [0.51470588 0.48529412]\n",
      " [0.925      0.075     ]\n",
      " [0.         1.        ]\n",
      " [0.925      0.075     ]\n",
      " [1.         0.        ]\n",
      " [0.         1.        ]\n",
      " [0.32352941 0.67647059]\n",
      " [1.         0.        ]\n",
      " [0.         1.        ]\n",
      " [0.32352941 0.67647059]\n",
      " [0.83870968 0.16129032]\n",
      " [1.         0.        ]\n",
      " [1.         0.        ]\n",
      " [1.         0.        ]\n",
      " [0.5        0.5       ]\n",
      " [0.925      0.075     ]\n",
      " [0.75       0.25      ]\n",
      " [0.51470588 0.48529412]\n",
      " [0.         1.        ]\n",
      " [0.32352941 0.67647059]\n",
      " [1.         0.        ]\n",
      " [0.925      0.075     ]\n",
      " [0.83870968 0.16129032]\n",
      " [0.51470588 0.48529412]\n",
      " [0.         1.        ]\n",
      " [0.         1.        ]\n",
      " [0.83870968 0.16129032]\n",
      " [1.         0.        ]\n",
      " [1.         0.        ]\n",
      " [1.         0.        ]\n",
      " [0.         1.        ]\n",
      " [1.         0.        ]\n",
      " [0.51470588 0.48529412]\n",
      " [0.         1.        ]\n",
      " [0.1        0.9       ]\n",
      " [0.925      0.075     ]\n",
      " [0.51470588 0.48529412]\n",
      " [0.32352941 0.67647059]\n",
      " [0.83870968 0.16129032]\n",
      " [0.51470588 0.48529412]\n",
      " [0.         1.        ]\n",
      " [0.32352941 0.67647059]\n",
      " [0.51470588 0.48529412]\n",
      " [0.61538462 0.38461538]\n",
      " [1.         0.        ]\n",
      " [0.51470588 0.48529412]\n",
      " [0.         1.        ]\n",
      " [0.7027027  0.2972973 ]\n",
      " [0.51470588 0.48529412]\n",
      " [0.51470588 0.48529412]\n",
      " [0.83870968 0.16129032]\n",
      " [0.51470588 0.48529412]\n",
      " [0.61538462 0.38461538]\n",
      " [0.5        0.5       ]\n",
      " [1.         0.        ]\n",
      " [0.         1.        ]\n",
      " [0.32352941 0.67647059]\n",
      " [0.13333333 0.86666667]\n",
      " [0.925      0.075     ]\n",
      " [0.83870968 0.16129032]\n",
      " [1.         0.        ]\n",
      " [0.         1.        ]\n",
      " [1.         0.        ]\n",
      " [0.925      0.075     ]\n",
      " [1.         0.        ]\n",
      " [0.925      0.075     ]\n",
      " [0.         1.        ]\n",
      " [1.         0.        ]\n",
      " [0.         1.        ]\n",
      " [1.         0.        ]\n",
      " [0.51470588 0.48529412]\n",
      " [0.51470588 0.48529412]\n",
      " [0.         1.        ]\n",
      " [0.925      0.075     ]\n",
      " [1.         0.        ]\n",
      " [0.5        0.5       ]\n",
      " [0.925      0.075     ]\n",
      " [1.         0.        ]\n",
      " [1.         0.        ]\n",
      " [0.51470588 0.48529412]\n",
      " [0.7027027  0.2972973 ]\n",
      " [0.51470588 0.48529412]\n",
      " [0.925      0.075     ]\n",
      " [0.925      0.075     ]\n",
      " [0.         1.        ]\n",
      " [0.75       0.25      ]\n",
      " [0.         1.        ]\n",
      " [0.51470588 0.48529412]\n",
      " [1.         0.        ]]\n"
     ]
    },
    {
     "data": {
      "text/html": [
       "<div>\n",
       "<style scoped>\n",
       "    .dataframe tbody tr th:only-of-type {\n",
       "        vertical-align: middle;\n",
       "    }\n",
       "\n",
       "    .dataframe tbody tr th {\n",
       "        vertical-align: top;\n",
       "    }\n",
       "\n",
       "    .dataframe thead th {\n",
       "        text-align: right;\n",
       "    }\n",
       "</style>\n",
       "<table border=\"1\" class=\"dataframe\">\n",
       "  <thead>\n",
       "    <tr style=\"text-align: right;\">\n",
       "      <th></th>\n",
       "      <th>id</th>\n",
       "      <th>age</th>\n",
       "      <th>sex</th>\n",
       "      <th>married</th>\n",
       "      <th>save_act</th>\n",
       "      <th>realincome</th>\n",
       "      <th>pred</th>\n",
       "      <th>pred_prob</th>\n",
       "    </tr>\n",
       "  </thead>\n",
       "  <tbody>\n",
       "    <tr>\n",
       "      <th>0</th>\n",
       "      <td>ID12701</td>\n",
       "      <td>23</td>\n",
       "      <td>1</td>\n",
       "      <td>1</td>\n",
       "      <td>1</td>\n",
       "      <td>18766.90</td>\n",
       "      <td>0</td>\n",
       "      <td>0.485294</td>\n",
       "    </tr>\n",
       "    <tr>\n",
       "      <th>1</th>\n",
       "      <td>ID12702</td>\n",
       "      <td>30</td>\n",
       "      <td>1</td>\n",
       "      <td>0</td>\n",
       "      <td>1</td>\n",
       "      <td>9915.67</td>\n",
       "      <td>0</td>\n",
       "      <td>0.000000</td>\n",
       "    </tr>\n",
       "    <tr>\n",
       "      <th>2</th>\n",
       "      <td>ID12703</td>\n",
       "      <td>45</td>\n",
       "      <td>0</td>\n",
       "      <td>0</td>\n",
       "      <td>1</td>\n",
       "      <td>21881.60</td>\n",
       "      <td>1</td>\n",
       "      <td>1.000000</td>\n",
       "    </tr>\n",
       "    <tr>\n",
       "      <th>3</th>\n",
       "      <td>ID12704</td>\n",
       "      <td>50</td>\n",
       "      <td>1</td>\n",
       "      <td>1</td>\n",
       "      <td>1</td>\n",
       "      <td>23397.20</td>\n",
       "      <td>1</td>\n",
       "      <td>1.000000</td>\n",
       "    </tr>\n",
       "    <tr>\n",
       "      <th>4</th>\n",
       "      <td>ID12705</td>\n",
       "      <td>41</td>\n",
       "      <td>0</td>\n",
       "      <td>1</td>\n",
       "      <td>1</td>\n",
       "      <td>20721.10</td>\n",
       "      <td>0</td>\n",
       "      <td>0.485294</td>\n",
       "    </tr>\n",
       "  </tbody>\n",
       "</table>\n",
       "</div>"
      ],
      "text/plain": [
       "        id  age  sex  married  save_act  realincome  pred  pred_prob\n",
       "0  ID12701   23    1        1         1    18766.90     0   0.485294\n",
       "1  ID12702   30    1        0         1     9915.67     0   0.000000\n",
       "2  ID12703   45    0        0         1    21881.60     1   1.000000\n",
       "3  ID12704   50    1        1         1    23397.20     1   1.000000\n",
       "4  ID12705   41    0        1         1    20721.10     0   0.485294"
      ]
     },
     "execution_count": 51,
     "metadata": {},
     "output_type": "execute_result"
    }
   ],
   "source": [
    "# 개인연금 구매확률을 예측: predict_proba() 사용\n",
    "print(best_model.predict_proba(ndf.loc[:,'age':'realincome']))\n",
    "ndf['pred_prob'] = best_model.predict_proba(ndf.loc[:,'age':'realincome'])[:,1]\n",
    "ndf.head()"
   ]
  },
  {
   "cell_type": "code",
   "execution_count": 52,
   "metadata": {
    "colab": {},
    "colab_type": "code",
    "id": "jPmfTq5J55f3"
   },
   "outputs": [
    {
     "data": {
      "text/html": [
       "<div>\n",
       "<style scoped>\n",
       "    .dataframe tbody tr th:only-of-type {\n",
       "        vertical-align: middle;\n",
       "    }\n",
       "\n",
       "    .dataframe tbody tr th {\n",
       "        vertical-align: top;\n",
       "    }\n",
       "\n",
       "    .dataframe thead th {\n",
       "        text-align: right;\n",
       "    }\n",
       "</style>\n",
       "<table border=\"1\" class=\"dataframe\">\n",
       "  <thead>\n",
       "    <tr style=\"text-align: right;\">\n",
       "      <th></th>\n",
       "      <th>id</th>\n",
       "      <th>age</th>\n",
       "      <th>sex</th>\n",
       "      <th>married</th>\n",
       "      <th>save_act</th>\n",
       "      <th>realincome</th>\n",
       "      <th>pred</th>\n",
       "      <th>pred_prob</th>\n",
       "    </tr>\n",
       "  </thead>\n",
       "  <tbody>\n",
       "    <tr>\n",
       "      <th>56</th>\n",
       "      <td>ID12869</td>\n",
       "      <td>41</td>\n",
       "      <td>1</td>\n",
       "      <td>0</td>\n",
       "      <td>1</td>\n",
       "      <td>21122.6</td>\n",
       "      <td>1</td>\n",
       "      <td>0.866667</td>\n",
       "    </tr>\n",
       "    <tr>\n",
       "      <th>57</th>\n",
       "      <td>ID12798</td>\n",
       "      <td>37</td>\n",
       "      <td>1</td>\n",
       "      <td>0</td>\n",
       "      <td>1</td>\n",
       "      <td>31979.9</td>\n",
       "      <td>1</td>\n",
       "      <td>0.866667</td>\n",
       "    </tr>\n",
       "    <tr>\n",
       "      <th>58</th>\n",
       "      <td>ID12755</td>\n",
       "      <td>34</td>\n",
       "      <td>1</td>\n",
       "      <td>0</td>\n",
       "      <td>1</td>\n",
       "      <td>17221.3</td>\n",
       "      <td>1</td>\n",
       "      <td>0.866667</td>\n",
       "    </tr>\n",
       "    <tr>\n",
       "      <th>59</th>\n",
       "      <td>ID12706</td>\n",
       "      <td>20</td>\n",
       "      <td>1</td>\n",
       "      <td>0</td>\n",
       "      <td>1</td>\n",
       "      <td>16688.5</td>\n",
       "      <td>1</td>\n",
       "      <td>0.866667</td>\n",
       "    </tr>\n",
       "    <tr>\n",
       "      <th>60</th>\n",
       "      <td>ID12782</td>\n",
       "      <td>44</td>\n",
       "      <td>1</td>\n",
       "      <td>0</td>\n",
       "      <td>1</td>\n",
       "      <td>39202.2</td>\n",
       "      <td>1</td>\n",
       "      <td>0.866667</td>\n",
       "    </tr>\n",
       "  </tbody>\n",
       "</table>\n",
       "</div>"
      ],
      "text/plain": [
       "         id  age  sex  married  save_act  realincome  pred  pred_prob\n",
       "56  ID12869   41    1        0         1     21122.6     1   0.866667\n",
       "57  ID12798   37    1        0         1     31979.9     1   0.866667\n",
       "58  ID12755   34    1        0         1     17221.3     1   0.866667\n",
       "59  ID12706   20    1        0         1     16688.5     1   0.866667\n",
       "60  ID12782   44    1        0         1     39202.2     1   0.866667"
      ]
     },
     "execution_count": 52,
     "metadata": {},
     "output_type": "execute_result"
    }
   ],
   "source": [
    "# 특정 조건을 만족하는 고객 리스트를 추출하고 저장\n",
    "# query 조건 만족 행을 뽑을 때 사용\n",
    "\n",
    "target = ndf.query('pred == 1 & pred_prob > 0.7')  # PEP에 가입할 확율이 70%가 넘는 고객만 추출\n",
    "target.sort_values(by=\"pred_prob\", ascending=False).to_csv(\"pep_target.csv\", index=False)\n",
    "pd.read_csv(\"pep_target.csv\").tail()"
   ]
  },
  {
   "cell_type": "code",
   "execution_count": null,
   "metadata": {},
   "outputs": [],
   "source": []
  }
 ],
 "metadata": {
  "colab": {
   "name": "code_0416_01.ipynb",
   "provenance": [],
   "version": "0.3.2"
  },
  "kernelspec": {
   "display_name": "Python 3",
   "language": "python",
   "name": "python3"
  },
  "language_info": {
   "codemirror_mode": {
    "name": "ipython",
    "version": 3
   },
   "file_extension": ".py",
   "mimetype": "text/x-python",
   "name": "python",
   "nbconvert_exporter": "python",
   "pygments_lexer": "ipython3",
   "version": "3.8.5"
  }
 },
 "nbformat": 4,
 "nbformat_minor": 4
}
