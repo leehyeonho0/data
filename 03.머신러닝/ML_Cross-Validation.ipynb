{
 "cells": [
  {
   "cell_type": "markdown",
   "metadata": {},
   "source": [
    "# Cross-Validation"
   ]
  },
  {
   "cell_type": "code",
   "execution_count": null,
   "metadata": {},
   "outputs": [],
   "source": [
    "\"\"\"\n",
    "hold out 방법 : 운이 좋으면 잘 나오지만 그렇지 않을 수 있는 것이 큰 단점이다. \n",
    "더욱이 데이터가 작으면 더욱 문제(오버피팅)가 된다. 데이터가 많을때 사용, \n",
    "데이터를 2분화 시키는 방법\n",
    "\"\"\""
   ]
  },
  {
   "cell_type": "code",
   "execution_count": 3,
   "metadata": {},
   "outputs": [],
   "source": [
    "from sklearn.datasets import load_digits\n",
    "digits = load_digits() # 손글씨 데이터"
   ]
  },
  {
   "cell_type": "code",
   "execution_count": 4,
   "metadata": {},
   "outputs": [],
   "source": [
    "import matplotlib.pyplot as plt\n",
    "%matplotlib inline"
   ]
  },
  {
   "cell_type": "code",
   "execution_count": 6,
   "metadata": {},
   "outputs": [
    {
     "data": {
      "text/plain": [
       "<matplotlib.image.AxesImage at 0x239c3606a60>"
      ]
     },
     "execution_count": 6,
     "metadata": {},
     "output_type": "execute_result"
    },
    {
     "data": {
      "image/png": "[encoded data removed]",
      "text/plain": [
       "<Figure size 432x288 with 1 Axes>"
      ]
     },
     "metadata": {
      "needs_background": "light"
     },
     "output_type": "display_data"
    }
   ],
   "source": [
    "plt.imshow(digits.data[40].reshape(8,8), cmap=plt.cm.gray_r)"
   ]
  },
  {
   "cell_type": "code",
   "execution_count": 7,
   "metadata": {},
   "outputs": [
    {
     "data": {
      "text/plain": [
       "8"
      ]
     },
     "execution_count": 7,
     "metadata": {},
     "output_type": "execute_result"
    }
   ],
   "source": [
    "digits.target[40]"
   ]
  },
  {
   "cell_type": "code",
   "execution_count": 9,
   "metadata": {},
   "outputs": [],
   "source": [
    "from sklearn.model_selection import train_test_split\n",
    "X_train, X_test, y_train, y_test = train_test_split(\n",
    "    digits.data, digits.target, random_state=0)\n",
    "# digits.target : 실제 아웃풋 값이 들어가 있다\n",
    "# 75:25로 기본 쪼개진다."
   ]
  },
  {
   "cell_type": "code",
   "execution_count": 10,
   "metadata": {
    "scrolled": true
   },
   "outputs": [
    {
     "data": {
      "text/plain": [
       "array([[ 0.,  3., 13., ..., 12.,  9.,  1.],\n",
       "       [ 0.,  0.,  1., ..., 13.,  1.,  0.],\n",
       "       [ 0.,  0.,  4., ...,  9.,  0.,  0.],\n",
       "       ...,\n",
       "       [ 0.,  0.,  5., ...,  0.,  0.,  0.],\n",
       "       [ 0.,  0.,  4., ...,  0.,  0.,  0.],\n",
       "       [ 0.,  0.,  6., ..., 11.,  0.,  0.]])"
      ]
     },
     "execution_count": 10,
     "metadata": {},
     "output_type": "execute_result"
    }
   ],
   "source": [
    "X_train"
   ]
  },
  {
   "cell_type": "code",
   "execution_count": 11,
   "metadata": {},
   "outputs": [
    {
     "data": {
      "text/plain": [
       "(1347, 64)"
      ]
     },
     "execution_count": 11,
     "metadata": {},
     "output_type": "execute_result"
    }
   ],
   "source": [
    "X_train.shape"
   ]
  },
  {
   "cell_type": "markdown",
   "metadata": {},
   "source": [
    "### k-NN(Nearest Neighber)"
   ]
  },
  {
   "cell_type": "code",
   "execution_count": null,
   "metadata": {},
   "outputs": [],
   "source": [
    "\"\"\"\n",
    "k-최근접 이웃 분류\n",
    "가장 간단한 k-NN 알고리즘은 가장 가까운 훈련 데이터 포인트 하나를 최근접 이웃으로 찾아 예측에 사용\n",
    "\"\"\""
   ]
  },
  {
   "cell_type": "code",
   "execution_count": null,
   "metadata": {},
   "outputs": [],
   "source": [
    "\"\"\"\n",
    "최근접 이웃의 수가 하나일 때는 훈련 데이터에 대한 예측이 완벽합니다.\n",
    "하지만 이웃의 수가 늘어나면 모델은 단순해지고 훈련 데이터의 정확도는 줄어듭니다.\n",
    "이웃을 하나 사용한 테스트 세트의 정확도는 이웃을 많이 사용했을 때보다 낮습니다.\n",
    "이것은 1-최근접 이웃이 모델을 너무 복잡하게 만든다는 것을 설명해줍니다.\n",
    "반대로 이웃을 10개 사용했을 때는 모델이 너무 단순해서 정확도는 더 나빠집니다.\n",
    "정확도가 가장 좋을 때는 중간 정도인 여섯 개를 사용한 경우입니다.\n",
    "\"\"\""
   ]
  },
  {
   "cell_type": "code",
   "execution_count": 15,
   "metadata": {},
   "outputs": [],
   "source": [
    "from sklearn.linear_model import LogisticRegression\n",
    "from sklearn.neighbors import KNeighborsClassifier\n",
    "from sklearn.tree import DecisionTreeClassifier\n",
    "\n",
    "model = KNeighborsClassifier()\n",
    "#model = LogisticRegression()\n",
    "#model = DecisionTreeClassifier()"
   ]
  },
  {
   "cell_type": "markdown",
   "metadata": {},
   "source": [
    "### K-폴드 교차검증(K-fold cross validation)"
   ]
  },
  {
   "cell_type": "code",
   "execution_count": null,
   "metadata": {},
   "outputs": [],
   "source": [
    "\"\"\"\n",
    "데이터의 수가 적은 경우에는 이 데이터 중의 일부인 검증 데이터의 수도 적기 때문에 검증 성능의 신뢰도가 떨어진다. 그렇다고 검증 데이터의 수를 증가시키면 학습용 데이터의 수가 적어지므로 정상적인 학습이 되지 않는다. 이러한 딜레마를 해결하기 위한 검증 방법이 K-폴드(K-fold) 교차검증 방법이다.\n",
    "K-폴드 교차검증에서는 다음처럼 학습과 검증을 반복한다.\n",
    "전체 데이터를 K개의 부분 집합( {D1,D2,⋯,DK} )으로 나눈다.\n",
    "데이터 {D1,D2,⋯,DK−1} 를 학습용 데이터로 사용하여 회귀분석 모형을 만들고 데이터 {DK} 로 교차검증을 한다.\n",
    "데이터 {D1,D2,⋯,DK−2,DK} 를 학습용 데이터로 사용하여 회귀분석 모형을 만들고 데이터 {DK−1} 로 교차검증을 한다. ⋮\n",
    "데이터 {D2,⋯,DK} 를 학습용 데이터로 사용하여 회귀분석 모형을 만들고 데이터 {D1} 로 교차검증을 한다.\n",
    "이렇게 하면 총 K개의 모형과 K개의 교차검증 성능이 나온다. 이 K개의 교차검증 성능을 평균하여 최종 교차검증 성능을 계산한다.\n",
    "\"\"\""
   ]
  },
  {
   "cell_type": "code",
   "execution_count": 16,
   "metadata": {},
   "outputs": [
    {
     "data": {
      "text/plain": [
       "array([0.98888889, 0.9962963 , 0.9739777 , 0.98513011, 0.98513011])"
      ]
     },
     "execution_count": 16,
     "metadata": {},
     "output_type": "execute_result"
    }
   ],
   "source": [
    "# 크로스 밸리데이션\n",
    "from sklearn.model_selection import cross_val_score\n",
    "scores = cross_val_score(model, X_train, y_train)\n",
    "scores\n",
    "# 예제 데이터가 심플하여 일반적인 예측 알고리즘에서도 결과가 좋다"
   ]
  },
  {
   "cell_type": "code",
   "execution_count": 17,
   "metadata": {},
   "outputs": [
    {
     "data": {
      "text/plain": [
       "array([0.98518519, 0.98518519, 0.99259259, 1.        , 0.98518519,\n",
       "       0.96296296, 1.        , 0.97014925, 0.98507463, 0.99253731])"
      ]
     },
     "execution_count": 17,
     "metadata": {},
     "output_type": "execute_result"
    }
   ],
   "source": [
    "# k를 조정하여 열번(cv=10) 돌려본다.\n",
    "scores = cross_val_score(model, X_train, y_train, cv=10)\n",
    "scores"
   ]
  },
  {
   "cell_type": "code",
   "execution_count": 18,
   "metadata": {},
   "outputs": [
    {
     "name": "stdout",
     "output_type": "stream",
     "text": [
      "Mean: 0.986\n",
      "Std: 0.011\n",
      "Min: 0.963\n",
      "Max: 1.000\n"
     ]
    }
   ],
   "source": [
    "print(\"Mean: {:.3f}\\nStd: {:.3f}\\nMin: {:.3f}\\nMax: {:.3f}\".format(\n",
    "    scores.mean(), scores.std(), scores.min(), scores.max()))\n",
    "# 분산이 작으면 Overfitting 이 적다"
   ]
  },
  {
   "cell_type": "markdown",
   "metadata": {},
   "source": [
    "### LOOCV(Leave-One-Out Cross-Validation)"
   ]
  },
  {
   "cell_type": "code",
   "execution_count": 19,
   "metadata": {},
   "outputs": [
    {
     "data": {
      "text/plain": [
       "0.9881217520415738"
      ]
     },
     "execution_count": 19,
     "metadata": {},
     "output_type": "execute_result"
    }
   ],
   "source": [
    "# 하나씩 빼면서 돌린다. 테이터 데이터를 하나로 두는 것. 데이터 수많큼 크로스 벨리데이션 한다.\n",
    "from sklearn.model_selection import LeaveOneOut\n",
    "scores = cross_val_score(model, X_train, y_train, cv=LeaveOneOut())\n",
    "scores.mean()"
   ]
  },
  {
   "cell_type": "markdown",
   "metadata": {},
   "source": [
    "### Shuffle-Split Cross-Validation"
   ]
  },
  {
   "cell_type": "code",
   "execution_count": 20,
   "metadata": {},
   "outputs": [],
   "source": [
    "from sklearn.model_selection import ShuffleSplit\n",
    "\n",
    "sscv = ShuffleSplit(test_size=.5, train_size=.5, n_splits=10)"
   ]
  },
  {
   "cell_type": "code",
   "execution_count": 21,
   "metadata": {},
   "outputs": [
    {
     "data": {
      "text/plain": [
       "0.9768545994065283"
      ]
     },
     "execution_count": 21,
     "metadata": {},
     "output_type": "execute_result"
    }
   ],
   "source": [
    "scores = cross_val_score(model, X_train, y_train, cv=sscv)\n",
    "scores.mean()"
   ]
  },
  {
   "cell_type": "code",
   "execution_count": null,
   "metadata": {},
   "outputs": [],
   "source": []
  },
  {
   "cell_type": "markdown",
   "metadata": {},
   "source": [
    "# Model Tuning"
   ]
  },
  {
   "cell_type": "markdown",
   "metadata": {},
   "source": [
    "### Grid search , Random Search 를 주로 사용"
   ]
  },
  {
   "cell_type": "markdown",
   "metadata": {},
   "source": [
    "##### Set the parameters for grid search"
   ]
  },
  {
   "cell_type": "code",
   "execution_count": 22,
   "metadata": {},
   "outputs": [
    {
     "data": {
      "text/plain": [
       "{'n_neighbors': range(1, 5), 'weights': ['uniform', 'distance']}"
      ]
     },
     "execution_count": 22,
     "metadata": {},
     "output_type": "execute_result"
    }
   ],
   "source": [
    "# 파라미터는 dict 타입으로 지정됨.\n",
    "param_grid = {'n_neighbors': range(1,5),\n",
    "              'weights': ['uniform','distance']}\n",
    "param_grid"
   ]
  },
  {
   "cell_type": "markdown",
   "metadata": {},
   "source": [
    "##### Grid search with cross-validation"
   ]
  },
  {
   "cell_type": "code",
   "execution_count": 24,
   "metadata": {},
   "outputs": [],
   "source": [
    "#  자동으로 복수개의 내부 모형을 생성하고 이를 모두 실행시켜서 \n",
    "#  최적 파라미터를 찾아준다\n",
    "from sklearn.model_selection import GridSearchCV\n",
    "grid_search = GridSearchCV(KNeighborsClassifier(), param_grid, cv=5, n_jobs=-1)\n",
    "\n",
    "#n_jobs=-1: 너가 가지고 있는 컴퓨터 리소스를 최대한 이용해 돌려라\n",
    "# 1 : 2 core를 사용하라"
   ]
  },
  {
   "cell_type": "code",
   "execution_count": 25,
   "metadata": {},
   "outputs": [
    {
     "name": "stdout",
     "output_type": "stream",
     "text": [
      "372 ms ± 3.3 ms per loop (mean ± std. dev. of 7 runs, 1 loop each)\n"
     ]
    }
   ],
   "source": [
    "%%timeit # 아래소스가 돌때 얼마나 걸리는지 알려\n",
    "grid_search.fit(X_train, y_train)"
   ]
  },
  {
   "cell_type": "markdown",
   "metadata": {},
   "source": [
    "##### Evaluate the model with best parameters"
   ]
  },
  {
   "cell_type": "code",
   "execution_count": 27,
   "metadata": {},
   "outputs": [
    {
     "data": {
      "text/plain": [
       "(0.9888888888888889, 0.98)"
      ]
     },
     "execution_count": 27,
     "metadata": {},
     "output_type": "execute_result"
    }
   ],
   "source": [
    "grid_search.score(X_test, y_test), KNeighborsClassifier().fit(X_train, y_train).score(X_test, y_test)"
   ]
  },
  {
   "cell_type": "code",
   "execution_count": 28,
   "metadata": {},
   "outputs": [
    {
     "name": "stdout",
     "output_type": "stream",
     "text": [
      "Best parameters: {'n_neighbors': 3, 'weights': 'distance'}\n",
      "Best CV score: 0.99\n"
     ]
    }
   ],
   "source": [
    "print(\"Best parameters: {}\".format(grid_search.best_params_))\n",
    "print(\"Best CV score: {:.2f}\".format(grid_search.best_score_))"
   ]
  },
  {
   "cell_type": "code",
   "execution_count": 29,
   "metadata": {},
   "outputs": [
    {
     "name": "stdout",
     "output_type": "stream",
     "text": [
      "Best estimator:\n",
      "KNeighborsClassifier(n_neighbors=3, weights='distance')\n"
     ]
    }
   ],
   "source": [
    "print(\"Best estimator:\\n{}\".format(grid_search.best_estimator_))"
   ]
  },
  {
   "cell_type": "markdown",
   "metadata": {},
   "source": [
    "##### When the parameters are asymmetric"
   ]
  },
  {
   "cell_type": "code",
   "execution_count": 30,
   "metadata": {},
   "outputs": [],
   "source": [
    "# In the case of SVM\n",
    "param_grid = [{'kernel': ['rbf'],\n",
    "               'C': [0.001, 0.01, 0.1, 1, 10, 100],\n",
    "               'gamma': [0.001, 0.01, 0.1, 1, 10, 100]},\n",
    "              {'kernel': ['linear'],\n",
    "               'C': [0.001, 0.01, 0.1, 1, 10, 100]}]"
   ]
  },
  {
   "cell_type": "markdown",
   "metadata": {},
   "source": [
    "### Random Search CV"
   ]
  },
  {
   "cell_type": "markdown",
   "metadata": {},
   "source": [
    "##### Set the parameters for random search"
   ]
  },
  {
   "cell_type": "code",
   "execution_count": 31,
   "metadata": {},
   "outputs": [
    {
     "data": {
      "text/plain": [
       "{'n_neighbors': <scipy.stats._distn_infrastructure.rv_frozen at 0x239c3b33eb0>,\n",
       " 'weights': ['uniform', 'distance']}"
      ]
     },
     "execution_count": 31,
     "metadata": {},
     "output_type": "execute_result"
    }
   ],
   "source": [
    "#from scipy.stats import uniform as sp_rand\n",
    "from scipy.stats import randint as sp_randint\n",
    "# sp_randint(1, 100) : 1 ~ 100까지 랜덤한 정수값을 리턴\n",
    "# 랜덤CV가 돌때 함수가 실행\n",
    "param_grid = {'n_neighbors': sp_randint(1, 100), \n",
    "              'weights': ['uniform','distance']}\n",
    "param_grid"
   ]
  },
  {
   "cell_type": "markdown",
   "metadata": {},
   "source": [
    "##### Random search with cross-validation"
   ]
  },
  {
   "cell_type": "code",
   "execution_count": 32,
   "metadata": {},
   "outputs": [],
   "source": [
    "from sklearn.model_selection import RandomizedSearchCV\n",
    "rand_search = RandomizedSearchCV(KNeighborsClassifier(), param_distributions=param_grid, n_iter=20, random_state=1)\n",
    "# n_iter=20 : 이 중에 20개의 조합을 Random 하게 선택"
   ]
  },
  {
   "cell_type": "code",
   "execution_count": 33,
   "metadata": {
    "scrolled": true
   },
   "outputs": [
    {
     "data": {
      "text/plain": [
       "RandomizedSearchCV(estimator=KNeighborsClassifier(), n_iter=20,\n",
       "                   param_distributions={'n_neighbors': <scipy.stats._distn_infrastructure.rv_frozen object at 0x00000239C3B33EB0>,\n",
       "                                        'weights': ['uniform', 'distance']},\n",
       "                   random_state=1)"
      ]
     },
     "execution_count": 33,
     "metadata": {},
     "output_type": "execute_result"
    }
   ],
   "source": [
    "rand_search.fit(X_train, y_train)"
   ]
  },
  {
   "cell_type": "markdown",
   "metadata": {},
   "source": [
    "##### Evaluate the model with best parameters"
   ]
  },
  {
   "cell_type": "code",
   "execution_count": 34,
   "metadata": {},
   "outputs": [
    {
     "data": {
      "text/plain": [
       "0.9844444444444445"
      ]
     },
     "execution_count": 34,
     "metadata": {},
     "output_type": "execute_result"
    }
   ],
   "source": [
    "rand_search.score(X_test, y_test)"
   ]
  },
  {
   "cell_type": "code",
   "execution_count": 37,
   "metadata": {},
   "outputs": [
    {
     "name": "stdout",
     "output_type": "stream",
     "text": [
      "Best estimator:\n",
      "KNeighborsClassifier(n_neighbors=6, weights='distance')\n"
     ]
    }
   ],
   "source": [
    "print(\"Best estimator:\\n{}\".format(rand_search.best_estimator_))"
   ]
  },
  {
   "cell_type": "code",
   "execution_count": 35,
   "metadata": {},
   "outputs": [],
   "source": [
    "from sklearn.datasets import load_digits\n",
    "digits = load_digits()\n",
    "y = digits.target == 9  # 숫자 9를 posive class로 설정"
   ]
  },
  {
   "cell_type": "code",
   "execution_count": 36,
   "metadata": {},
   "outputs": [
    {
     "data": {
      "text/plain": [
       "180"
      ]
     },
     "execution_count": 36,
     "metadata": {},
     "output_type": "execute_result"
    }
   ],
   "source": [
    "(y == True).sum()"
   ]
  },
  {
   "cell_type": "code",
   "execution_count": 38,
   "metadata": {
    "scrolled": true
   },
   "outputs": [
    {
     "name": "stdout",
     "output_type": "stream",
     "text": [
      "Populating the interactive namespace from numpy and matplotlib\n"
     ]
    },
    {
     "data": {
      "text/plain": [
       "4"
      ]
     },
     "execution_count": 38,
     "metadata": {},
     "output_type": "execute_result"
    },
    {
     "data": {
      "image/png": "[encoded data removed]",
      "text/plain": [
       "<Figure size 432x288 with 1 Axes>"
      ]
     },
     "metadata": {
      "needs_background": "light"
     },
     "output_type": "display_data"
    }
   ],
   "source": [
    "import matplotlib.pyplot as plt\n",
    "%pylab inline\n",
    "\n",
    "plt.imshow(digits.data[100].reshape(8,8), cmap=plt.cm.gray_r)\n",
    "digits.target[100]"
   ]
  },
  {
   "cell_type": "code",
   "execution_count": 40,
   "metadata": {},
   "outputs": [
    {
     "data": {
      "text/plain": [
       "array([[ 0.,  0.,  0.,  2., 13.,  0.,  0.,  0.],\n",
       "       [ 0.,  0.,  0.,  8., 15.,  0.,  0.,  0.],\n",
       "       [ 0.,  0.,  5., 16.,  5.,  2.,  0.,  0.],\n",
       "       [ 0.,  0., 15., 12.,  1., 16.,  4.,  0.],\n",
       "       [ 0.,  4., 16.,  2.,  9., 16.,  8.,  0.],\n",
       "       [ 0.,  0., 10., 14., 16., 16.,  4.,  0.],\n",
       "       [ 0.,  0.,  0.,  0., 13.,  8.,  0.,  0.],\n",
       "       [ 0.,  0.,  0.,  0., 13.,  6.,  0.,  0.]])"
      ]
     },
     "execution_count": 40,
     "metadata": {},
     "output_type": "execute_result"
    }
   ],
   "source": [
    "digits.data[100].reshape(8,8)"
   ]
  },
  {
   "cell_type": "code",
   "execution_count": 41,
   "metadata": {},
   "outputs": [],
   "source": [
    "from sklearn.model_selection import train_test_split\n",
    "X_train, X_test, y_train, y_test = train_test_split(\n",
    "    digits.data, y, random_state=0)"
   ]
  },
  {
   "cell_type": "markdown",
   "metadata": {},
   "source": [
    "### Training Models"
   ]
  },
  {
   "cell_type": "code",
   "execution_count": 42,
   "metadata": {},
   "outputs": [],
   "source": [
    "from sklearn.dummy import DummyClassifier\n",
    "dummy = DummyClassifier(strategy='most_frequent').fit(X_train, y_train)\n",
    "pred_dummy = dummy.predict(X_test)"
   ]
  },
  {
   "cell_type": "code",
   "execution_count": 43,
   "metadata": {},
   "outputs": [],
   "source": [
    "from sklearn.tree import DecisionTreeClassifier\n",
    "tree = DecisionTreeClassifier(max_depth=2).fit(X_train, y_train)\n",
    "pred_tree = tree.predict(X_test)"
   ]
  },
  {
   "cell_type": "markdown",
   "metadata": {},
   "source": [
    "### Accuracy"
   ]
  },
  {
   "cell_type": "code",
   "execution_count": 44,
   "metadata": {},
   "outputs": [
    {
     "name": "stdout",
     "output_type": "stream",
     "text": [
      "Dummy model:\n",
      "0.8955555555555555\n",
      "Decision tree:\n",
      "0.9177777777777778\n"
     ]
    }
   ],
   "source": [
    "from sklearn.metrics import accuracy_score\n",
    "print(\"Dummy model:\")\n",
    "print(accuracy_score(y_test, pred_dummy))\n",
    "print(\"Decision tree:\")\n",
    "print(accuracy_score(y_test, pred_tree))"
   ]
  },
  {
   "cell_type": "markdown",
   "metadata": {},
   "source": [
    "##### Confusion Matrix"
   ]
  },
  {
   "cell_type": "code",
   "execution_count": 45,
   "metadata": {},
   "outputs": [
    {
     "name": "stdout",
     "output_type": "stream",
     "text": [
      "Dummy model:\n",
      "[[403   0]\n",
      " [ 47   0]]\n",
      "Decision tree:\n",
      "[[390  13]\n",
      " [ 24  23]]\n"
     ]
    }
   ],
   "source": [
    "from sklearn.metrics import confusion_matrix\n",
    "print(\"Dummy model:\")\n",
    "print(confusion_matrix(y_test, pred_dummy))\n",
    "print(\"Decision tree:\")\n",
    "print(confusion_matrix(y_test, pred_tree))"
   ]
  },
  {
   "cell_type": "code",
   "execution_count": null,
   "metadata": {},
   "outputs": [],
   "source": [
    "### Recall, Precision & F1"
   ]
  },
  {
   "cell_type": "code",
   "execution_count": 46,
   "metadata": {},
   "outputs": [
    {
     "name": "stdout",
     "output_type": "stream",
     "text": [
      "Dummy model:\n",
      "              precision    recall  f1-score   support\n",
      "\n",
      "       not 9       0.90      1.00      0.94       403\n",
      "           9       0.00      0.00      0.00        47\n",
      "\n",
      "    accuracy                           0.90       450\n",
      "   macro avg       0.45      0.50      0.47       450\n",
      "weighted avg       0.80      0.90      0.85       450\n",
      "\n",
      "\n",
      "Decision tree:\n",
      "              precision    recall  f1-score   support\n",
      "\n",
      "       not 9       0.94      0.97      0.95       403\n",
      "           9       0.64      0.49      0.55        47\n",
      "\n",
      "    accuracy                           0.92       450\n",
      "   macro avg       0.79      0.73      0.75       450\n",
      "weighted avg       0.91      0.92      0.91       450\n",
      "\n"
     ]
    },
    {
     "name": "stderr",
     "output_type": "stream",
     "text": [
      "C:\\Users\\028\\anaconda3\\lib\\site-packages\\sklearn\\metrics\\_classification.py:1221: UndefinedMetricWarning: Precision and F-score are ill-defined and being set to 0.0 in labels with no predicted samples. Use `zero_division` parameter to control this behavior.\n",
      "  _warn_prf(average, modifier, msg_start, len(result))\n"
     ]
    }
   ],
   "source": [
    "from sklearn.metrics import classification_report\n",
    "print(\"Dummy model:\")\n",
    "print(classification_report(y_test, pred_dummy, \n",
    "                            target_names=[\"not 9\", \"9\"]))\n",
    "print(\"\\nDecision tree:\")\n",
    "print(classification_report(y_test, pred_tree, \n",
    "                            target_names=[\"not 9\", \"9\"]))"
   ]
  },
  {
   "cell_type": "code",
   "execution_count": null,
   "metadata": {},
   "outputs": [],
   "source": [
    "\"\"\"\n",
    "결과에서 9가 아니라고 예측한 데이터의 94%가 실제로 9가 아니었고\n",
    "9이라고 예측한 데이터의 64%만 실제로 9이었음을 알 수 있다.\n",
    "또한 실제 9가 아닌 데이터 중의 97%가 9가 아닌 것으로 판별되었고\n",
    "실제 9인 데이터 중의 49%만 9로 판별되었음을 알 수 있다.\n",
    "\"\"\""
   ]
  },
  {
   "cell_type": "code",
   "execution_count": null,
   "metadata": {},
   "outputs": [],
   "source": [
    "\"\"\"\n",
    "PR curve\n",
    "Precision-Recall은 클래스가 매우 불균형한 경우 예측의 성공을 측정하는 데 유용하다\n",
    "정보 검색에서 정밀도는 결과 관련성의 척도인 반면, 리콜은 실제로 관련된 결과가 얼마나 많이 반환되는지를 측정하는 척도이다.\n",
    "(참고) https://scikit-learn.org/stable/auto_examples/model_selection/plot_precision_recall.html\n",
    "\"\"\""
   ]
  },
  {
   "cell_type": "code",
   "execution_count": 47,
   "metadata": {},
   "outputs": [],
   "source": [
    "from sklearn.metrics import precision_recall_curve\n",
    "\n",
    "def plot_precision_recall_curve(precisions, recalls) :\n",
    "    plt.plot(recalls, precisions, color='blue')\n",
    "    plt.axis([0,1,0,1])\n",
    "    plt.xlabel('Recall')\n",
    "    plt.ylabel('Precision')\n",
    "    plt.title('PR curve')"
   ]
  },
  {
   "cell_type": "code",
   "execution_count": 48,
   "metadata": {},
   "outputs": [],
   "source": [
    "precisions, recalls, _ = precision_recall_curve(y_test, \n",
    "                                    tree.predict_proba(X_test)[:,1])"
   ]
  },
  {
   "cell_type": "code",
   "execution_count": 49,
   "metadata": {},
   "outputs": [
    {
     "data": {
      "text/plain": [
       "array([0.10444444, 0.29752066, 0.46774194, 0.63888889, 1.        ])"
      ]
     },
     "execution_count": 49,
     "metadata": {},
     "output_type": "execute_result"
    }
   ],
   "source": [
    "precisions"
   ]
  },
  {
   "cell_type": "code",
   "execution_count": 50,
   "metadata": {
    "scrolled": true
   },
   "outputs": [
    {
     "data": {
      "text/plain": [
       "array([1.        , 0.76595745, 0.61702128, 0.4893617 , 0.        ])"
      ]
     },
     "execution_count": 50,
     "metadata": {},
     "output_type": "execute_result"
    }
   ],
   "source": [
    "recalls"
   ]
  },
  {
   "cell_type": "code",
   "execution_count": 51,
   "metadata": {},
   "outputs": [
    {
     "data": {
      "text/plain": [
       "array([0.02      , 0.06521739, 0.22580645, 0.71551724])"
      ]
     },
     "execution_count": 51,
     "metadata": {},
     "output_type": "execute_result"
    }
   ],
   "source": [
    "_"
   ]
  },
  {
   "cell_type": "code",
   "execution_count": 52,
   "metadata": {
    "scrolled": true
   },
   "outputs": [
    {
     "data": {
      "image/png": "[encoded data removed]",
      "text/plain": [
       "<Figure size 432x288 with 1 Axes>"
      ]
     },
     "metadata": {
      "needs_background": "light"
     },
     "output_type": "display_data"
    }
   ],
   "source": [
    "plot_precision_recall_curve(precisions, recalls)"
   ]
  },
  {
   "cell_type": "code",
   "execution_count": null,
   "metadata": {},
   "outputs": [],
   "source": [
    "\"\"\"\n",
    "ROC(Receiver Operating Characteristic)\n",
    "모든 임계값에서 분류 모델의 성능을 보여 주는 그래프\n",
    "\"\"\""
   ]
  },
  {
   "cell_type": "markdown",
   "metadata": {},
   "source": [
    "### ROC & AUC"
   ]
  },
  {
   "cell_type": "code",
   "execution_count": 53,
   "metadata": {},
   "outputs": [],
   "source": [
    "from sklearn.metrics import roc_curve\n",
    "from sklearn.metrics import auc"
   ]
  },
  {
   "cell_type": "markdown",
   "metadata": {},
   "source": [
    "##### AUC(Area Under the Curve)"
   ]
  },
  {
   "cell_type": "code",
   "execution_count": null,
   "metadata": {},
   "outputs": [],
   "source": [
    "# ROC 곡선 아래 영역"
   ]
  },
  {
   "cell_type": "code",
   "execution_count": 54,
   "metadata": {},
   "outputs": [
    {
     "data": {
      "text/plain": [
       "0.8213135526107387"
      ]
     },
     "execution_count": 54,
     "metadata": {},
     "output_type": "execute_result"
    }
   ],
   "source": [
    "# 모델이 예측한 확률이 필요\n",
    "# 0, 1 중 1의 값만 뽑아라\n",
    "fpr, tpr, _ = roc_curve(y_test, tree.predict_proba(X_test)[:,1])\n",
    "auc(fpr, tpr)"
   ]
  },
  {
   "cell_type": "markdown",
   "metadata": {},
   "source": [
    "##### Define ROC curve drawing fuction"
   ]
  },
  {
   "cell_type": "code",
   "execution_count": 55,
   "metadata": {},
   "outputs": [],
   "source": [
    "def plot_roc_curve(fpr, tpr, model, color=None) :\n",
    "    model = model + ' (auc = %0.3f)' % auc(fpr, tpr)\n",
    "    plt.plot(fpr, tpr, label=model, color=color)\n",
    "    plt.plot([0, 1], [0, 1], color='navy', linestyle='--')\n",
    "    plt.axis([0,1,0,1])\n",
    "    plt.xlabel('FPR (1 - specificity)')\n",
    "    plt.ylabel('TPR (recall)')\n",
    "    plt.title('ROC curve')\n",
    "    plt.legend(loc=\"lower right\")"
   ]
  },
  {
   "cell_type": "markdown",
   "metadata": {},
   "source": [
    "##### Plot multiple ROC curves"
   ]
  },
  {
   "cell_type": "code",
   "execution_count": 56,
   "metadata": {},
   "outputs": [
    {
     "data": {
      "image/png": "[encoded data removed]",
      "text/plain": [
       "<Figure size 432x288 with 1 Axes>"
      ]
     },
     "metadata": {
      "needs_background": "light"
     },
     "output_type": "display_data"
    }
   ],
   "source": [
    "fpr_dummy, tpr_dummy, _ = roc_curve(y_test, \n",
    "                                    dummy.predict_proba(X_test)[:,1])\n",
    "plot_roc_curve(fpr_dummy, tpr_dummy, 'dummy model', 'hotpink')\n",
    "fpr_tree, tpr_tree, _ = roc_curve(y_test, \n",
    "                                  tree.predict_proba(X_test)[:,1])\n",
    "plot_roc_curve(fpr_tree, tpr_tree, 'decision tree', 'darkgreen')"
   ]
  },
  {
   "cell_type": "code",
   "execution_count": null,
   "metadata": {},
   "outputs": [],
   "source": []
  }
 ],
 "metadata": {
  "kernelspec": {
   "display_name": "Python 3",
   "language": "python",
   "name": "python3"
  },
  "language_info": {
   "codemirror_mode": {
    "name": "ipython",
    "version": 3
   },
   "file_extension": ".py",
   "mimetype": "text/x-python",
   "name": "python",
   "nbconvert_exporter": "python",
   "pygments_lexer": "ipython3",
   "version": "3.8.5"
  }
 },
 "nbformat": 4,
 "nbformat_minor": 4
}
