{
 "cells": [
  {
   "cell_type": "markdown",
   "metadata": {},
   "source": [
    "# Lecture 11. Word Embeddings and Sentiment Analysis\n"
   ]
  },
  {
   "cell_type": "markdown",
   "metadata": {},
   "source": [
    "<img src=\"./figures/embedding_exp.jpg\" width=\"500\" />"
   ]
  },
  {
   "cell_type": "markdown",
   "metadata": {},
   "source": [
    "## Working with text data\n",
    "- Text data를 모형의 입력값으로 사용하기 위해서는 text를 숫자 vector로 표현하는 과정이 필요(vectorize)\n",
    "    - Text를 word 단위로 쪼개어 각 단어를 vector로 표현 \n",
    "    - Text를 character 단위로 쪼개어 각 character를 vector로 표현\n",
    "    - Text를 word나 character의 \"n-gram\"(연속된 n개의 word나 character)으로 쪼개여 각 \"n-gram\"을 vector로 표현 \n",
    "- Token: 텍스트를 쪼개어 만들어낸 입력 단위\n",
    "- One-hot encoding \n",
    "    - Text에 총 10000개의 단어가 있다면 각 단어를 0과 1로 이루어진 $10000 \\times 1$  vector로 표현 \n",
    "    - Input dimension의 수가 커지기 때문에 복잡도 증가 \n",
    "- Word embedding \n",
    "    - 저차원의 dense vector로 mapping하여 표현 \n",
    "    \n",
    "\n",
    "<img src=\"figures/w2v.PNG\" width=\"40%\" align=\"left\">\n",
    "<img src=\"figures/textvec.PNG\" width=\"30%\" >\n",
    "\n",
    " <br>   \n",
    "  <br> \n",
    "   <br> \n",
    "    \n",
    "<img src=\"https://s3.amazonaws.com/book.keras.io/img/ch6/word_embeddings.png\" width=\"50%\" align=\"center\">"
   ]
  },
  {
   "cell_type": "markdown",
   "metadata": {},
   "source": [
    "## Word embedding\n",
    "\n",
    "- 단어 사이의 추상적이고 기하학적인 관계를 반영하여 벡터화 하는 방법\n",
    "- 동의어가 비슷한 벡터로 임베딩이 될 수 있음(벡터 간의 거리가 가까움)\n",
    "- 단어 벡터 간의 방향이 의미를 내포할 수 있음 \n",
    "- 단어 벡터 간의 연산이 의미를 가짐\n",
    "    - man과 king의 관계 = woman과 queen의 관계 \n",
    "    - king - man + woman = queen\n",
    "![](https://cdn-images-1.medium.com/max/1200/1*sXNXYfAqfLUeiDXPCo130w.png)\n",
    "\n",
    "![](https://blogs.mathworks.com/images/loren/2017/vecs.png)\n",
    "\n",
    "## Two approaches for word embedding\n",
    "1. Main task(document classification, sentiment classifiation 등)와 동시에 embedding 학습\n",
    "    - Prediction 성능에 최적화된 embedding 계산\n",
    "    - 단어 간의 의미상 거리가 잘 보존되지 않을 수 있음 \n",
    "    - Keras의 `Embedding` layer를 통해 학습 \n",
    "    \n",
    "2. Embedding을 따로 학습하고 사전학습된 embedding matrix를 사용하여 main task 수행 \n",
    "    - 단어 간의 의미상 거리를 보다 잘 표현하는 방법\n",
    "    - Prediction 성능은 저하될 수 있음 \n",
    "    - gensim의 Word2Vec을 통해 embedding을 학습한 후 keras input으로 활용 "
   ]
  },
  {
   "cell_type": "markdown",
   "metadata": {},
   "source": [
    "## 11.1 Learning word embeddings with the embedding layer\n"
   ]
  },
  {
   "cell_type": "markdown",
   "metadata": {},
   "source": [
    "### Keras embedding layer \n",
    "- Dictionary에 포함된 단어의 정수 index를 실수 벡터(dense vector)로 mapping하는 층\n",
    "- `Embedding` layer의 arguments\n",
    "    - `input_dim`: vocabulary의 크기. 즉, 총 vocabulary가 1000개의 단어를 포함하고 있으면 `input_dim=1000`\n",
    "    - `output_dim`: Dense vector로 표현되는 embedding vector의 크기(embedding dimensionality). 64차원의 벡터로 각 단어를 표현한다면 `output_dim=64`\n",
    "    - `input_length`: input data가 가지는 시퀀스의 길이. 즉, 몇 time step를 각 sample이 포함하는가? 몇 개의 단어로 하나의 입력문장이 이루어져 있는가?output_dim\n",
    "    \n",
    "\n",
    "- `Embedding` layer에 입력되는 데이터의 shape = `(samples, input_length)`\n",
    "    - 단어의 index를 포함하는 array\n",
    "    - 단어 10개로 이루어진 문장이 32개 포함된 batch일 경우 (32, 10) \n",
    "    - 모든 sequence는 같은 길이어야 함. (같은 사이즈의 np.array를 입력받음)\n",
    "        - 만일 길이가 짧다면 0을 넣어 길이를 동일하게 맞추어 줌 \n",
    "\n",
    "\n",
    "- `Embedding` layer의  Output shape =  `(samples, input_length, output_dim)` \n",
    "    - RNN의 input으로 사용 가능 \n",
    "\n",
    "\n"
   ]
  },
  {
   "cell_type": "code",
   "execution_count": 1,
   "metadata": {
    "ExecuteTime": {
     "end_time": "2018-07-10T17:02:19.922986Z",
     "start_time": "2018-07-10T17:02:19.917314Z"
    },
    "scrolled": true
   },
   "outputs": [
    {
     "name": "stderr",
     "output_type": "stream",
     "text": [
      "Using TensorFlow backend.\n"
     ]
    },
    {
     "name": "stdout",
     "output_type": "stream",
     "text": [
      "Model: \"sequential_1\"\n",
      "_________________________________________________________________\n",
      "Layer (type)                 Output Shape              Param #   \n",
      "=================================================================\n",
      "embedding_1 (Embedding)      (None, 20, 64)            64000     \n",
      "=================================================================\n",
      "Total params: 64,000\n",
      "Trainable params: 64,000\n",
      "Non-trainable params: 0\n",
      "_________________________________________________________________\n"
     ]
    }
   ],
   "source": [
    "from keras.layers import Embedding\n",
    "from keras.models import Sequential\n",
    "\n",
    "model = Sequential()\n",
    "model.add(Embedding(1000, 64, input_length=20))\n",
    "model.summary()"
   ]
  },
  {
   "cell_type": "markdown",
   "metadata": {},
   "source": [
    "- $(1000 \\times 1)$ one-hot vector를 $(64 \\times 1)$ dense vector로 변환\n",
    "- 단어 20개로 이루어진 문장을 단어 index로 표현하여 입력하면 각 단어가 $(64 \\times 1)$ dense vector로 표현된 결과로 출력됨"
   ]
  },
  {
   "cell_type": "markdown",
   "metadata": {},
   "source": [
    "### Example: Sentiment analysis for movie review\n",
    "- 영화리뷰 문장이 긍정/부정인지 판단하는 모형 \n",
    "- Input = “The Da Vinci Code book is just awesome.”\n",
    "- Output = 1 (긍정)\n",
    "- 한 문장의 각 단어를 매 시점의 input으로 사용 \n",
    "- 매 단어(시점)마다 긍/부정의 답이 필요하지 않으므로 마지막 시점에 대한  output만을 사용: many-to-one 구조\n",
    "<img src=\"figures/sentiment.png\" width=\"40%\">\n",
    "(umich-sentiment-train.txt)\n",
    "\n",
    "        1\tThe Da Vinci Code book is just awesome.\n",
    "        1\tthis was the first clive cussler i've ever read, but even books like Relic, and Da Vinci code were more plausible than this.\n",
    "        1\ti liked the Da Vinci Code a lot.\n",
    "        1\ti liked the Da Vinci Code a lot.\n",
    "        1\tI liked the Da Vinci Code but it ultimatly didn't seem to hold it's own.\n",
    "        1\tthat's not even an exaggeration ) and at midnight we went to Wal-Mart to buy the Da Vinci Code, which is amazing of course.\n",
    "        1\tI loved the Da Vinci Code, but now I want something better and different!..\n",
    "        ...\n"
   ]
  },
  {
   "cell_type": "markdown",
   "metadata": {},
   "source": [
    "#### Data preprocessing\n"
   ]
  },
  {
   "cell_type": "code",
   "execution_count": 2,
   "metadata": {},
   "outputs": [],
   "source": [
    "MAX_FEATURES = 2000   \n",
    "MAX_SENTENCE_LENGTH = 40  "
   ]
  },
  {
   "cell_type": "markdown",
   "metadata": {},
   "source": [
    "- `MAX_FEATURES = 2000`: 최대 2000개의 단어를 사용하여 dictionary 구성  \n",
    "- `MAX_SENTENCE_LENGTH = 40`: 문장의 최대 길이을 40개 단어로 제한 "
   ]
  },
  {
   "cell_type": "markdown",
   "metadata": {},
   "source": [
    "- NLTK 자연어 처리 패키지\n",
    "- 주요 기능\n",
    "  - 말뭉치\n",
    "  - 토큰 생성\n",
    "  - 형태소 분석\n",
    "  - 품사 태깅"
   ]
  },
  {
   "cell_type": "code",
   "execution_count": 3,
   "metadata": {
    "scrolled": true
   },
   "outputs": [
    {
     "name": "stderr",
     "output_type": "stream",
     "text": [
      "[nltk_data] Downloading package punkt to\n",
      "[nltk_data]     C:\\Users\\028\\AppData\\Roaming\\nltk_data...\n",
      "[nltk_data]   Package punkt is already up-to-date!\n"
     ]
    },
    {
     "name": "stdout",
     "output_type": "stream",
     "text": [
      "Counter({'i': 4707, ',': 4194, '.': 3364, 'the': 3221, 'and': 2150, '!': 2131, 'potter': 2093, 'harry': 2088, 'vinci': 2001, 'da': 1998, 'brokeback': 1996, 'code': 1994, 'mountain': 1994, 'love': 1542, 'is': 1521, '...': 1441, 'a': 1305, 'was': 1179, '..': 1153, 'awesome': 1126, 'impossible': 1091, 'mission': 1090, 'like': 974, 'it': 899, 'to': 808, 'movie': 783, 'that': 718, \"'s\": 629, 'because': 608, 'sucks': 601, 'sucked': 596, 'hate': 578, 'so': 506, 'as': 473, 'my': 462, 'much': 452, '``': 449, 'of': 424, 'really': 374, 'movies': 366, 'stupid': 365, 'you': 330, 'down': 322, 'but': 295, 'we': 295, 'be': 290, 'with': 288, 'just': 287, 'one': 283, 'know': 276, 'suck': 276, '3': 271, 'out': 269, 'who': 263, '/': 263, 'or': 263, 'am': 259, 'loved': 256, 'want': 254, 'into': 253, 'which': 251, 'right': 249, 'for': 241, 'an': 225, \"n't\": 224, 'this': 213, 'me': 213, ':': 207, 'are': 203, 'think': 202, 'not': 198, 'how': 197, 'if': 195, '....': 190, 'depressing': 188, 'people': 183, 'his': 182, 'would': 181, 'horrible': 181, 'up': 180, 'reading': 179, 'why': 178, 'series': 177, 'there': 176, 'in': 175, 'only': 175, 'fucking': 174, 'terrible': 174, 'she': 171, 'oh': 170, 'story': 170, 'being': 168, 'left': 166, 'ok': 163, 'guy': 163, 'here': 163, 'start': 161, 'felicia': 160, '(': 137, 'book': 135, 'have': 135, 'about': 129, 'beautiful': 127, 'good': 123, 'too': 122, 'also': 118, 'do': 116, 'on': 116, 'went': 115, 'read': 113, 'at': 110, 'then': 108, 'can': 108, 'saw': 106, 'first': 104, 'more': 103, 'by': 103, '2': 103, 'tom': 103, 'thought': 102, 'most': 102, 'liked': 101, 'way': 101, 'from': 101, 'absolutely': 101, 'still': 100, 'well': 99, 'time': 99, 'got': 98, 'he': 98, 'when': 98, 'film': 97, 'big': 97, 'heard': 97, 'ever': 96, 'were': 96, 'better': 96, 'what': 96, 'watch': 96, 'going': 96, 'great': 95, 'seen': 94, 'such': 93, 'things': 93, 'does': 92, 'last': 92, 'said': 92, '=': 92, 'boring': 92, '?': 91, 'ca': 91, 'yeah': 90, 'gay': 90, \"'\": 89, 'both': 89, 'watching': 89, 'man': 89, 'again': 88, 'wait': 88, 'making': 88, 'never': 88, 'same': 87, \"'re\": 87, '’': 87, 'these': 87, 'excellent': 86, 'friday': 86, 'friends': 86, 'cool': 86, 'always': 86, 'person': 86, 'opinion': 85, 'anyone': 85, 'na': 85, 'rocks': 85, 'around': 85, 'him': 85, 'says': 85, 'cock': 85, 'side': 84, 'fun': 84, 'make': 84, 'take': 84, 'anyway': 84, 's': 83, 'mom': 83, 'where': 83, 'worth': 83, 'either': 83, 'knows': 83, 'place': 83, 'thats': 82, 'luv': 82, 'wanted': 82, 'dad': 82, 'care': 82, 'freakin': 82, 'character': 82, 'daniel': 82, 'community': 82, 'main': 82, 'hates': 82, 'review': 82, 'b': 82, 'crazy': 81, 'stand': 81, 'begin': 81, 'turned': 81, 'soo': 81, 'gon': 81, 'reality': 81, 'bitch': 81, 'table': 81, 'type': 81, 'dies': 81, 'cowboy': 81, 'hat': 81, 'snuck': 81, 'awards': 81, 'acceptable': 81, 'becoming': 81, 'past': 81, 'needs': 81, 'head': 81, 'jokes': 81, 'desperately': 80, \"love'the\": 80, 'lubb': 80, 'hoot': 80, 'silent': 80, 'hill': 80, 'coz': 80, 'hella': 80, 'goin': 80, 'sentry': 80, 'station': 80, 'bonkers': 80, 'cleaning': 80, 'grabs': 80, 'keys': 80, 'dash': 80, 'kirsten': 80, 'leah': 80, 'kate': 80, 'escapades': 80, 'joining': 80, 'deep': 80, 'profound': 80, 'differently': 80, 'serious': 80, 'count': 80, 'catcher': 80, 'tye': 80, 'jane': 80, 'eyre': 80, 'virgin': 80, 'suicides': 80, \"'yeah\": 80, 'acne': 80, 'dudeee': 80, 'homosexuality': 80, 'hung': 80, 'kelsie': 80, 'combining': 80, 'gary': 80, 'gin': 80, 'zen': 80, 'letting': 80, '2.5': 80, 'stars': 80, 'quiz': 80, 'bye': 80, 'retarted': 80, 'black': 80, 'outshines': 80, 'material': 80, 'plain': 80, 'likes': 80, 'dragged': 80, 'draco': 80, 'malfoy': 80, 'trousers': 80, 'hips': 80, 'throat': 80, 'vigor': 80, 'whimpering': 80, 'noises': 80, 'panting': 80, 'groaning': 80, 'blonds': 80, 'rock-hard': 80, 'aching': 80, 'wotshisface': 80, 'slap': 80, 'helped': 80, 'bobbypin': 80, 'insanely': 80, 'laughed': 80, 'sit': 80, 'mtv': 80, 'reminded': 80, 'despised': 80, 'see': 48, ')': 44, 'iii': 40, 'hated': 38, 'all': 36, \"'m\": 35, 'did': 33, 'evil': 32, 'pretty': 31, 'ass': 31, 'though': 29, 'books': 28, 'even': 27, '*': 24, 'say': 24, 'they': 24, 'go': 23, 'had': 23, 'lot': 22, 'now': 21, 'get': 20, 'other': 19, 'will': 19, 'after': 19, 'cruise': 19, 'very': 18, 'some': 17, '.....': 17, '--': 17, 'amazing': 16, '<': 16, 'its': 16, 'watched': 16, 'balls': 16, 'best': 15, 'kinda': 15, 'than': 14, 'actually': 14, 'no': 14, 'already': 13, 'lol': 13, 'made': 13, 'awful': 13, 'thing': 12, 'has': 12, 'may': 12, 'two': 12, 'sad': 12, 'second': 12, 'since': 12, \"'ve\": 11, \"'d\": 11, 'over': 11, 'off': 11, 'us': 11, 'new': 11, 'miss': 10, 'far': 10, '......': 10, \"'ll\": 10, 'been': 10, 'those': 10, 'enjoy': 9, 'night': 9, '&': 9, '[': 9, 'tell': 9, ']': 9, 'shit': 9, 'should': 9, 'three': 9, 'everyone': 9, 'action': 9, 'theme': 9, 'before': 9, 'your': 9, 'real': 9, 'could': 9, 'talk': 9, 'crash': 9, 'enjoyed': 8, 'yet': 8, 'having': 8, 'looks': 8, 'while': 8, 'bad': 8, 'them': 8, 'life': 8, '>': 8, 'try': 8, 'course': 7, 'something': 7, 'wrong': 7, 'hey': 7, 'interesting': 7, 'times': 7, 'totally': 7, 'mean': 7, 'talking': 7, 'else': 7, 'feel': 7, 'little': 7, 'sure': 7, 'thinking': 7, 'glad': 7, 'anything': 7, 'world': 7, '-': 7, 'demons': 6, 'bit': 6, 'quite': 6, 'seeing': 6, 'finished': 6, 'week': 6, 'lost': 6, 'our': 6, 'x-men': 6, 'day': 6, 'back': 6, 'almost': 6, 'long': 6, 'year': 6, 'fan': 6, 'fact': 6, 'freaking': 6, 'school': 6, 'picture': 6, 'might': 6, 'kids': 6, 'okay': 6, 'saying': 6, 'fandom': 6, 'every': 6, 'told': 6, 'cowboys': 6, 'god': 6, 'crappy': 6, 'sucking': 6, 'angels': 5, 'few': 5, 'personally': 5, 'crap': 5, 'probably': 5, 'im': 5, 'sick': 5, 'must': 5, 'their': 5, 'until': 5, 'end': 5, 'kind': 5, 'novel': 5, 'days': 5, 'luck': 5, 'officially': 5, 'tonight': 5, 'doing': 5, 'song': 5, 'least': 5, 'stories': 5, 'theater': 5, 'show': 5, 'money': 5, 'used': 5, 'culture': 5, 'lord': 5, 'rings': 5, '”': 5, 'apparently': 5, 'through': 5, 'news': 5, 'won': 5, 'give': 5, '-we': 5, 'bogus': 5, 'inaccurate': 5, 'hear': 5, 'mother': 5, 'own': 4, 'different': 4, 'girl': 4, 'idea': 4, 'telling': 4, 'music': 4, 'omg': 4, 'damn': 4, 'half': 4, 'wan': 4, 'come': 4, 'jesus': 4, 'move': 4, 'funny': 4, 'played': 4, 'finally': 4, 'fell': 4, 'classes': 4, 'fire': 4, 'films': 4, 'yes': 4, 'comes': 4, 'children': 4, 'food': 4, 'club': 4, 'win': 4, 'fuck': 4, 'sexy': 4, 'part': 4, 'someone': 4, 'ta': 4, 'incredibly': 4, 'once': 4, 'decided': 4, 'hope': 4, 'oscar': 4, 'shitty': 4, 'stinks': 4, 'majorly': 4, 'major': 4, 'lame': 4, 'john': 4, 'woo': 4, '$': 4, 'georgia': 4, 'her': 4, 'board': 4, 'nearly': 4, 'hollywood': 4, ';': 3, 'religious': 3, 'heart': 3, 'hard': 3, 'dan': 3, 'brown': 3, 'lit': 3, 'absurd': 3, 'next': 3, 'pages': 3, '+': 3, 'besides': 3, 'myself': 3, 'many': 3, 'came': 3, 'agree': 3, 'hell': 3, 'ones': 3, 'playing': 3, 'hedge': 3, 'given': 3, 'kick': 3, 'stayed': 3, 'update': 3, 'sort': 3, 'fat': 3, 'rent': 3, 'looking': 3, 'nothing': 3, 'ten': 3, 'top': 3, 'gun': 3, 'stop': 3, 'cuz': 3, 'anyways': 3, 'instead': 3, 'btw': 3, 'ask': 3, 'wondering': 3, 'except': 3, 'rather': 3, 'let': 3, 'especially': 3, '~': 3, 'guys': 3, 'between': 3, 'shows': 3, '.......': 3, 'dumb': 3, 'stuff': 3, 'minutes': 3, 'example': 3, 'goblet': 3, '�': 3, 'eragon': 3, '6th': 3, 'wish': 3, 'write': 3, 'loves': 3, 'm': 3, 'deal': 3, 'fanfiction': 3, 'any': 3, '4': 3, 'gorgeous': 3, 'christmas': 3, 'friend': 3, 'level': 3, '_': 3, 'case': 3, 'comment': 3, 'felt': 3, 'none': 3, 'college': 3, 'death': 3, 'halloween': 3, 'need': 3, 'gift': 3, 'nc-17': 3, 'taking': 3, 'sorry': 3, 'along': 3, 'during': 3, 'hands': 3, 'short': 3, 'thank': 3, 'jake': 3, 'ban': 3, 'critics': 3, 'jack': 3, 'cried': 3, 'racism': 3, 'worthless': 3, 'audrey': 3, 'tautou': 3, 'work': 3, 'erm': 3, 'looked': 3, 't': 3, 'passion': 3, 'donkey': 3, 'conclusion': 3, 'true': 3, 'whole': 3, 'god-awful': 3, '“': 3, 'bullshit': 3, 'rant': 3, 'dont': 3, 'mouth': 3, 'live': 3, 'extremely': 3, 'disliked': 3, 'hold': 2, 'buy': 2, 'ive': 2, 'turn': 2, 'figures': 2, 'old': 2, 'takes': 2, 'normal': 2, 'biased': 2, 'able': 2, 'equal': 2, 'nor': 2, 'cold': 2, 'page': 2, 'awesomest': 2, 'sounds': 2, 'aaron': 2, 'knew': 2, 'took': 2, 'recently': 2, 'theaters': 2, 'against': 2, 'religion': 2, 'together': 2, 'whatever': 2, 'lah': 2, 'soon': 2, 'hand': 2, 'hanks': 2, 'sooo': 2, 'hating': 2, 'awesomeness': 2, 'hardcore': 2, 'fireworks': 2, '‘': 2, 'accompaniment': 2, 'whistles': 2, 'bangs': 2, 'colourfully': 2, 'sky': 2, 'events': 2, 'drive': 2, 'haunt': 2, '-and': 2, 'yea': 2, 'fall': 2, 'class': 2, 'trailers': 2, 'catch': 2, 'flick': 2, 'saturday': 2, 'job': 2, 'ticket': 2, '7': 2, 'run': 2, 'sing': 2, 'makes': 2, 'cute': 2, 'problem': 2, 'geek': 2, 'tickets': 2, 'definitely': 2, 'x': 2, 'meeting': 2, 'party': 2, 'special': 2, 'ya': 2, 'definately': 2, 'hide': 2, 'feeling': 2, 'hot': 2, 'third': 2, 'scene': 2, 'chris': 2, 'showing': 2, 'pictures': 2, 'putting': 2, 'pocket': 2, 'hero': 2, 'tv': 2, 'although': 2, 'tc': 2, 'issues': 2, 'play': 2, 'today': 2, 'joke': 2, 'girls': 2, 'maybe': 2, 'politics': 2, 'house': 2, 'proud': 2, 'ron': 2, 'favourite': 2, 're-reading': 2, 'half-blood': 2, 'prince': 2, 'final': 2, 'shoes': 2, 'stone': 2, 'j.': 2, 'k.': 2, 'rowling': 2, 'strangely': 2, 'hp': 2, 'fanfic': 2, 'kid': 2, 'perhaps': 2, 'often': 2, 'decent': 2, 'enough': 2, 'suppose': 2, 'pop': 2, 'funniest': 2, 'costumes': 2, 'la': 2, 'narnia': 2, 'disney': 2, 'eating': 2, 'fault': 2, 'empty': 2, 'dream': 2, 'body': 2, 'nerd': 2, 'ruined': 2, 'fabulous': 2, 'scar': 2, 'bought': 2, '–': 2, 'adult': 2, 'adorable': 2, 'everything': 2, \"y'all\": 2, 'author': 2, 'student': 2, 'forgotten': 2, 'dragons': 2, 'hogwarts': 2, '33': 2, 'emma': 2, 'watson': 2, 'icons': 2, 'brilliant': 2, 'popular': 2, 'craze': 2, 'word': 2, 'fic': 2, 'vampire': 2, 'n': 2, 'sivullinen': 2, 'requested': 2, 'het': 2, 'quizzes': 2, 'future': 2, 'till': 2, 'simply': 2, 'writing': 2, 'sense': 2, 'conquering': 2, 'friendships': 2, 'formed': 2, 'related': 2, 'whether': 2, 'stopped': 2, 'months': 2, 'idk': 2, 'honor': 2, 'cry': 2, 'asking': 2, 'queer': 2, 'heath': 2, 'dick': 2, 'yesterday': 2, 'asian': 2, 'copy': 2, 'choice': 2, 'kiss': 2, 'unbelievably': 2, '©': 2, 'asleep': 2, 'mentioned': 2, 'capote': 2, 'mention': 2, 'ang': 2, 'lee': 2, 'u': 2, 'understand': 2, 'industry': 2, 'rest': 2, 'acting': 2, 'deserved': 2, 'full': 2, 'carefully': 2, 'happy': 2, 'generally': 2, 'score': 2, 'white': 2, 'mainstream': 2, 'challenge': 2, 'actor': 2, 'super': 2, 'written': 2, 'expected': 2, 'question': 2, 'beat': 2, 'piece': 2, 'butt': 2, 'code-sucked': 2, 'loathe': 2, 'lie': 2, 'favorite': 2, 'everybody': 2, 'hoover': 2, 'less': 2, '-the': 2, 'hopefully': 2, 'coming': 2, 'name': 2, 'due': 2, 'weekend': 2, 'couple': 2, 'didnt': 2, 'compared': 2, 'use': 2, 'reaction': 2, 'royally': 2, '-have': 2, '-da': 2, 'attempt': 2, 'johnny': 2, 'article': 2, 'draw': 2, 'christian': 2, 'beans': 2, 'wo': 2, 'getting': 2, 'tho': 2, 'chinese': 2, 'nice': 2, 'mi3': 2, 'please': 2, 'tired': 2, 'franchise': 2, 'ran': 2, 'cocktail': 2, 'phillip': 2, 'hoffman': 2, 'remix': 2, 'laid': 2, 'egg': 2, 'cringe': 2, 'whenever': 2, 'respect': 2, 'lousy': 2, 'point': 2, 'fit': 2, 'aka': 2, 'actual': 2, 'blame': 2, 'ending': 2, 'dementors': 2, 'costume': 2, 'tea': 2, 'infuser': 2, 'die': 2, 'sometimes': 2, 'wesley': 2, 'captain': 2, 'picard': 2, 'douche': 2, 'tragic': 2, 'bible': 2, 'libraries': 2, 'witchcraft': 2, 'color': 2, 'dance': 2, 'obnoxious': 2, 'thinks': 2, 'thousand': 2, 'ultimate': 2, 'marvel': 2, 'education': 2, 'exquisite': 2, 'marcia': 2, 'gaither': 2, 'teaches': 2, 'wiccanism': 2, 'controversy': 2, 'working': 2, 'overall': 2, 'lords': 2, 'soul': 2, 'equally': 2, 'ago': 2, 'opened': 2, 'dictate': 2, 'reply': 2, 'cut': 2, 'mirror': 2, 'speaking': 2, 'home': 2, 'goth': 2, '…': 2, 'academy': 2, 'gayness': 2, 'tried': 2, '10': 2, 'tale': 2, '\\x80': 2, '\\x99': 2, 'rented': 2, 'twist': 2, 'record': 2, 'murderball-immediately': 2, 'robbed': 2, 'favor': 2, 'dislike': 2, 'shittiest': 2, 'clive': 1, 'cussler': 1, 'relic': 1, 'plausible': 1, 'ultimatly': 1, 'seem': 1, 'exaggeration': 1, 'midnight': 1, 'wal-mart': 1, 'kite': 1, 'runner': 1, 'light': 1, 'radio': 1, 'mind': 1, 'slash': 1, 'race': 1, 'disappointed': 1, '#': 1, '8230': 1, 'backtory': 1, 'various': 1, 'historical': 1, 'scifi': 1, 'ian': 1, 'mckellen': 1, 'husband': 1, 'joe': 1, 'bridget': 1, 'jones': 1, 'appeals': 1, 'chick': 1, 'arenas': 1, 'genre': 1, 'explore': 1, 'novels': 1, 'soundtrack': 1, 'pleased': 1, 'open-mindedness': 1, 'enjoyment': 1, 'reads': 1, 'ripping': 1, 'acoustic': 1, 'neither': 1, 'amazingly': 1, 'possibly': 1, 'figure': 1, '286': 1, 'seriously': 1, 'probable': 1, 'fr': 1, 'code-that': 1, 'raises': 1, 'theological': 1, 'questions': 1, '\\x92': 1, 'tour': 1, 'inside': 1, '3333': 1, 'onto': 1, 'angel': 1, 'code-illustrated': 1, 'edition': 1, 'thriller': 1, \"code'it\": 1, 'code-very': 1, 'angle': 1, 'friggin': 1, '30': 1, 'undercover': 1, 'outta': 1, 'drowining': 1, 'lynn': 1, 'jon': 1, 'code-other': 1, 'luau': 1, 'gasp': 1, 'protests': 1, 'share': 1, 'idiots': 1, 'dating': 1, 'sister': 1, 'admired': 1, 'bachelor': 1, 'beyond': 1, 'tome': 1, 'unauthorized': 1, 'deals': 1, 'inspired': 1, 'ridiculous': 1, 'panties': 1, 'bunch': 1, 'heresies': 1, 'blashpemies': 1, 'allegedly': 1, 'contains': 1, 'decide': 1, 'ti': 1, 'hooked': 1, 'melbourne': 1, 'hahash': 1, 'tooo': 1, 'honestly': 1, 'awesome-good': 1, 'ur': 1, 'tennis': 1, 'tournament': 1, 'america': 1, 'supporting': 1, \"book'da\": 1, 'finshed': 1, 'comprehend': 1, 'explain': 1, 'power': 1, 'ps': 1, 'exciting': 1, 'wow': 1, 'updated': 1, 'hammy': 1, 'unpredictable': 1, 'spy': 1, 'scenario': 1, 'astonishingly': 1, 'free': 1, 'three-generation': 1, 'team': 1, 'infiltrate': 1, 'hour': 1, 'doors': 1, 'open': 1, 'wicked': 1, '10.9': 1, 'gym': 1, 'suspenseful': 1, 'plus': 1, 'attached': 1, 'clarksville': 1, 'summer': 1, 'grown': 1, 'teevee': 1, 'cant': 1, 'eek': 1, 'rolled': 1, 'fallon': 1, 'convo': 1, 'daddy': 1, 'speaker': 1, 'exelent': 1, 'game': 1, 'jamie': 1, '8': 1, 'lil': 1, 'bro': 1, 'tied': 1, 'mall': 1, 'shopping': 1, 'wacked': 1, 'however': 1, 'matters': 1, 'pressing': 1, 'alarm': 1, 'codes': 1, 'fortress': 1, 'excersizing': 1, 'funner': 1, 'latest': 1, 'kicked': 1, 'period': 1, 'characterization': 1, 'effects': 1, 'pretending': 1, 'moives': 1, 'mindless': 1, 'tech': 1, 'small': 1, 'cars': 1, 'etc': 1, 'surprisingly': 1, 'asshole': 1, '1': 1, 'sunday': 1, 'tests': 1, 'afterschool': 1, 'relaxed': 1, 'ate': 1, 'margaritas': 1, 'w': 1, 'emily': 1, 'despise': 1, 'scientology': 1, 'crusade': 1, 'stinkin': 1, '-ike': 1, 'holy': 1, 'fyi-mission': 1, 'brazil': 1, 'harrison': 1, 'viewings': 1, 'vic': 1, 'bday': 1, 'impossible-3': 1, 'screening': 1, 'awesomely': 1, 'um': 1, 'trece': 1, 'bet': 1, 'blows': 1, 'exception': 1, 'eh': 1, 'experience': 1, 'camp': 1, 'setting': 1, 'land': 1, 'places': 1, 'spin': 1, 'middle': 1, 'tan': 1, 'baby': 1, 'possum': 1, 'vault': 1, 'kelse': 1, 'spontaneously': 1, '10pm': 1, 'erin': 1, '..........': 1, 'firstly': 1, 'settin': 1, 'halls': 1, 'partyin': 1, 'weekends': 1, 'clubbin': 1, 'lunch': 1, 'causing': 1, 'disruption': 1, 'wherever': 1, 'dart': 1, 'considered': 1, 'hooker': 1, 'gay-scientologist-mission': 1, 'orig': 1, 'alright': 1, 'halle': 1, 'barry': 1, 'hugh': 1, 'jackson': 1, 'jessica': 1, 'frenzied': 1, 'phone': 1, 'calls': 1, 'laura': 1, 'garrett': 1, 'abrams': 1, 'reason': 1, 'explosions': 1, 'straight': 1, 'row': 1, 'magic': 1, 'rocked': 1, 'preview': 1, 'note': 1, 'davinci': 1, 'quip': 1, 'v': 1, 'freak': 1, 'pull': 1, 'style': 1, 'th': 1, 'bond': 1, 'kicking': 1, 'throw': 1, 'jail': 1, 'break': 1, 'reader': 1, 'excited': 1, 'lines': 1, 'whom': 1, 'shadeslayer': 1, 'truth': 1, 'philosopher': 1, 'paper': 1, 'entitled': 1, 'twilight': 1, 'unfortunate': 1, 'tons': 1, 'clickfive': 1, 'cake': 1, 'texts-fantasy': 1, 'obviously-is': 1, 'criticized': 1, 'oversimplifying': 1, 'struggle': 1, 'vs.': 1, 've': 1, 'thick': 1, 'burnt': 1, 'heavy': 1, 'enjoying': 1, 'sawyer': 1, 'hookup': 1, 'rereading': 1, 'picky': 1, '1st': 1, '2nd': 1, 'clearly': 1, 'planned': 1, 'biggie': 1, 'admiring': 1, 'sisters': 1, 'collection': 1, 'waited': 1, 'planning': 1, '2007': 1, 'unfortunately': 1, 'japenese': 1, 'undoubtedly': 1, 'purchase': 1, 'dvd': 1, 'walks': 1, 'beach': 1, 'oreos': 1, 'ootp': 1, 'sixth': 1, 'desperate': 1, 'discovered': 1, 'dork': 1, 'found': 1, 'german': 1, 'primary': 1, 'bits': 1, 'happiness': 1, 'usually': 1, 'form': 1, 'storytimes': 1, 'occasional': 1, 'talks': 1, 'julia': 1, 'marisa': 1, 'spec': 1, 'candy': 1, 'requim': 1, 'christopher': 1, 'creed': 1, '@': 1, 'shraddha': 1, 'lotr': 1, 'superman': 1, 'budget': 1, 'rare': 1, 'books-not': 1, 'bootlegged': 1, 'radcliffe': 1, 'completely': 1, 'poem': 1, 'chance': 1, 'prize': 1, 'equus': 1, 'measure': 1, 'march': 1, '31st': 1, 'artemis': 1, 'fowl': 1, 'colony': 1, 'eoin': 1, 'colfer': 1, '385': 1, 'young': 1, 'near': 1, 'realize': 1, 'mocking': 1, \"freagin'love\": 1, 'magical': 1, 'lore': 1, 'personaly': 1, 'encourage': 1, 'wholesome': 1, 'sakes': 1, 'scarf': 1, 'kept': 1, 'g': 1, 'lilo': 1, 'stitch': 1, 'barnyard': 1, 'discuss': 1, 'theories': 1, 'sorcerer': 1, 'low': 1, 'discussing': 1, 'learn': 1, 'appeal': 1, 'date': 1, 'jamaica': 1, 'queens': 1, 'earrings': 1, 'goes': 1, 'adore': 1, 'thanks': 1, 'task': 1, 'achieved': 1, 'reasons': 1, 'belong': 1, 'grey': 1, 'anatomy': 1, 'dedicated': 1, 'friday-harry': 1, 'feast': 1, 'spoke': 1, 'mrs.': 1, 'cowan': 1, 'briefly': 1, 'independent': 1, 'study': 1, 'lazy': 1, 'semester': 1, 'dorks': 1, 'delicious': 1, 'away': 1, 'enjoys': 1, 'in-depth': 1, 'conversations': 1, 'subjects': 1, 'interested': 1, 'intrigued': 1, 'kick-ass': 1, 'robe': 1, 'lends': 1, 'itself': 1, 'nicely': 1, 'deemed': 1, 'gavin': 1, 'degraw': 1, 'beatles': 1, 'drawing': 1, 'fantasy': 1, 'hall': 1, 'kaka': 1, 'television': 1, 'screens': 1, 'perfect': 1, 'literary': 1, 'version': 1, 'adaptation': 1, 'grips': 1, 'state': 1, 'dress': 1, 'find': 1, 'anywhere': 1, 'town': 1, 'veil': 1, 'darkness': 1, 'oceans': 1, 'phoenix': 1, 'total': 1, '517,648': 1, 'counting': 1, 'fairly': 1, 'drawn': 1, 'deciding': 1, '7th': 1, 'xd': 1, 'anime': 1, 'manga': 1, 'grow': 1, 'rehearsal': 1, 'invisibility': 1, 'cloak': 1, 'folows': 1, '........': 1, 'machine': 1, 'lets': 1, 'portuguese': 1, 'spanish': 1, '200': 1, 'explaination': 1, 'travel': 1, 'packs': 1, 'animated': 1, 'emotes': 1, 'keep': 1, 'gettting': 1, 'fits': 1, '5': 1, 'cast': 1, 'spells': 1, 'fair': 1, 'lower': 1, 'shade': 1, 'others': 1, 'book-i': 1, 'posts': 1, 'pirates': 1, 'caribbean': 1, 'sarcastic': 1, 'quirky': 1, 'humor': 1, 'otp': 1, 'shipping': 1, 'winter': 1, 'specifically': 1, 'tree': 1, 'snowing': 1, 'outside': 1, 'devastate': 1, 'included': 1, 'coloured': 1, 'intellectual': 1, 'debates': 1, 'irrespective': 1, 'writes': 1, 'legacy': 1, 'grand': 1, 'finale': 1, 'lives': 1, 'hype': 1, 'younger': 1, 'sis': 1, 'theres': 1, 'avatar': 1, 'sports': 1, 'messiah': 1, 'complex': 1, 'police': 1, 'longer': 1, 'intense': 1, 'phase': 1, 'literature': 1, 'val': 1, 'starring': 1, 'performance': 1, 'titus': 1, 'rep': 1, 'explains': 1, 'oddly': 1, 'cover': 1, 'chronological': 1, 'ground': 1, 'unexpected': 1, 'basically': 1, 'diversity': 1, 'shout': 1, 'esther': 1, 'calling': 1, 'screenplay': 1, 'mph': 1, 'sale': 1, 'expo': 1, 'gosh': 1, 'whereas': 1, 'brother': 1, 'cousins': 1, 'parents': 1, 'mountain-watched': 1, 'twice': 1, 'genres': 1, 'eye': 1, 'gn': 1, 'gl': 1, 'important': 1, 'hyped': 1, 'mountain-beautiful': 1, 'sweeping': 1, 'moving': 1, 'bbm': 1, 'rps': 1, 'figured': 1, 'interest': 1, 'picturesque': 1, 'quaintly': 1, 'attractive': 1, 'impressive': 1, 'tourist': 1, 'horses': 1, 'hugged': 1, 'wranglers': 1, 'o': 1, 'story-i': 1, 'riding': 1, 'giants': 1, 'napoleon': 1, 'dynamite': 1, 'silly': 1, 'pc': 1, 'check': 1, 'spectacularly': 1, 'confess': 1, 'judgement': 1, '16': 1, '£': 1, 'hill-form': 1, 'ai': 1, 'springer': 1, '-yes': 1, 'supper': 1, 'latter': 1, 'tiny': 1, 'pink': 1, 'shame': 1, 'transamerica': 1, 'apart': 1, 'defensive': 1, 'positions': 1, 'gays': 1, 'wonderful': 1, 'discussed': 1, 'abortion': 1, 'south': 1, 'dakota': 1, 'strip': 1, 'sexual': 1, 'crash-and': 1, 'tells': 1, 'easy': 1, 'wondered': 1, 'happened': 1, 'ennis': 1, 'spend': 1, 'gayer': 1, 'picnic': 1, 'basket': 1, 'haunted': 1, 'mountain-hard': 1, 'ignore': 1, 'photography': 1, 'madly': 1, 'p.': 1, 's.': 1, 'change': 1, 'background': 1, 'tragically': 1, 'romantic': 1, 'heartbraking': 1, 'dearly': 1, 'truly': 1, 'ashamed': 1, 'wept': 1, 'five': 1, 'afterwards': 1, '-it': 1, 'done': 1, 'success': 1, 'derek': 1, 'heartbreaking': 1, \"mountain'is\": 1, 'matter': 1, 'gyllenhaal': 1, 'leder': 1, 'mrs': 1, 'yip': 1, 'score-brokeback': 1, 'changes': 1, 'receive': 1, 'director': 1, 'mountain-this': 1, 'finish': 1, 'random': 1, 'thoughts': 1, 'bitter': 1, 'bound': 1, 'wins': 1, 'heteronormativity': 1, 'dissapointed': 1, 'surprised': 1, 'packed': 1, 'sceneries': 1, '700': 1, 'million': 1, 'tomorrow': 1, 'yahoo': 1, 'games': 1, 'truly-awful': 1, 'code-themed': 1, 'skin': 1, 'chessboard': 1, 'disappointing': 1, 'fabricated': 1, 'christianity': 1, 'bolsters': 1, 'arguments': 1, 'england': 1, 'slow': 1, 'threw': 1, 'phenomenon': 1, 'congrats': 1, 'beating': 1, 'jay': 1, 'rickards': 1, 'finals': 1, 'poorly': 1, 'worst': 1, 'rachel': 1, 'nans': 1, 'libarian': 1, \"hated'the\": 1, 'turner': 1, 'forget': 1, 'paul': 1, 'bentlys': 1, 'timings': 1, 'ended': 1, 'fer': 1, 'runaway': 1, 'vacation': 1, 'conversation': 1, 'professors': 1, 'overslept': 1, 'jenn': 1, 'later': 1, 'ballz': 1, 'amã': 1, 'forgot': 1, '\\\\': 1, 'nd': 1, 'x3-good': 1, 'nacho': 1, 'libre-sucked': 1, 'cars-good': 1, 'hedge-good': 1, 'hank': 1, 'smoking-had': 1, 'moments': 1, 'bored': 1, 'coherent': 1, 'uh': 1, 'usage': 1, 'phrase': 1, 'dogfucking': 1, 'retarded': 1, 'worse': 1, 'started': 1, 'gathered': 1, 'lamest': 1, 'cinema': 1, 'lama': 1, 'aimee': 1, '.-sean': 1, 'supportive': 1, '-indian': 1, 'reservations': 1, 'lately': 1, 'hanging': 1, 'happen': 1, 'sometime': 1, 'holding': 1, 'signs': 1, 'christ': 1, 'project': 1, 'witha': 1, 'blasphying': 1, 'wide': 1, 'drove': 1, 'bayers': 1, 'lake': 1, 'dramatic': 1, 'supposed': 1, 'hello': 1, 'cos': 1, 'effort': 1, 'mang': 1, 'latin': 1, 'anyhow': 1, 'rofls': 1, 'howard': 1, 'google': 1, 'urls': 1, 'songs': 1, 'lucky': 1, 'refusing': 1, 'public': 1, 'place-there': 1, 'imo': 1, 'mood': 1, 'shop': 1, 'quick': 1, 'smoked': 1, 'consumed': 1, 'meat': 1, '-love': 1, '-broke': 1, 'ideas': 1, 'sucky': 1, '.-wish': 1, 'crack': 1, 'motherfuckers': 1, 'tonite': 1, '-poseidon': 1, '-hooray': 1, 'memoirs': 1, 'geisha': 1, 'kelsey': 1, 'oceanwalk': 1, 'rockets': 1, 'bless': 1, 'linked': 1, 'symantec': 1, 'suing': 1, 'microsoft': 1, 'street': 1, 'without': 1, 'touching': 1, 'delayed': 1, 'banning': 1, 'omen': 1, 'muahahaahahah': 1, 'weeeellllllll': 1, 'therefor': 1, 'frakking': 1, 'media': 1, 'seems': 1, 'thirdly-the': 1, 'post': 1, 'add': 1, 'save': 1, 'showcasing': 1, 'aniwae': 1, 'men': 1, 'trip': 1, '007': 1, 'freshman': 1, 'itz': 1, 'altogether': 1, 'theatan': 1, 'energy': 1, 'field': 1, 'eat': 1, 'dim': 1, 'sum': 1, 'whos': 1, 'extent': 1, 'rv': 1, 'predictable': 1, 'iii-sucks': 1, 'big-time': 1, 'weird': 1, 'tomkat': 1, 'back.-jill': 1, 'staying': 1, 'weekend.-mission': 1, 'd': 1, 'loathed': 1, 'involving': 1, 'badness': 1, 'increasing': 1, 'exponentially': 1, 'imagine': 1, 'sold': 1, 'flat': 1, 'shipmates': 1, 'burbank': 1, 'calif.': 1, 'ap': 1, '-brooke': 1, 'shields': 1, 'publicly': 1, 'apologized': 1, 'career': 1, 'including': 1, 'war': 1, 'worlds': 1, 'atrocious': 1, 'hahaha': 1, 'search': 1, 'boycotting': 1, 'mybutthole': 1, 'yuh': 1, 'nasy': 1, 'c.': 1, 'joiners': 1, '9am': 1, 'aside': 1, 'seymore': 1, 'nifty': 1, 'gadgets': 1, 'wif': 1, 'haha': 1, 'credit': 1, 'insane': 1, 'listen': 1, 'kanye': 1, 'west': 1, 'sequels': 1, 'facing': 1, 'richard': 1, 'simmons': 1, 'closet': 1, 'blogbacklinktitle': 1, 'blogbacklinksnippet': 1, 'seymour': 1, 'simon': 1, 'pegg': 1, '^': 1, 'prediction': 1, 'correct': 1, 'boycott': 1, 'impossible-tom': 1, 'talkin': 1, 'bout': 1, 'mi': 1, 'agreed': 1, '.-mission': 1, 'cobequid': 1, 'health': 1, 'center': 1, 'soooooooo': 1, 'vs': 1, 'et': 1, 'al': 1, 'useless': 1, 'realized': 1, 'chunnel': 1, 'fears': 1, 'scared': 1, 'regardless': 1, 'track': 1, 'dumbest': 1, 'futile': 1, 'began': 1, 'teri': 1, '12': 1, 'interview': 1, 'anne': 1, 'rice': 1, 'attraction': 1, 'reopened': 1, 'release': 1, 'unable': 1, 'ignorant': 1, 'villains': 1, 'creatures': 1, 'called': 1, 'monthly': 1, 'mad': 1, 'vintage': 1, 'silver': 1, 'shaped': 1, 'frog': 1, 'idiot': 1, 'kenley': 1, 'decides': 1, 'plastic': 1, 'axes': 1, 'amazes': 1, 'afraid': 1, 'shit-i': 1, 'pastings': 1, 'mpreg': 1, 'archive': 1, 'section': 1, 'starting': 1, 'deluded': 1, 'loose': 1, 'allegory': 1, 'wants': 1, 'local': 1, 'schools': 1, 'leads': 1, 'according': 1, 'images': 1, 'lin': 1, 'pale': 1, 'comparrison': 1, 'overlooking': 1, 'hair': 1, 'trivia': 1, 'eyes': 1, 'absolute': 1, 'denial': 1, 'general': 1, 'involved': 1, 'dumbass': 1, 'highly': 1, 'inappropriate': 1, 'headmistress': 1, 'office': 1, 'melandry': 1, 'fuckers': 1, 'shut': 1, 'ripper': 1, 'following': 1, 'clips': 1, 'featured': 1, 'believably': 1, 'judging': 1, 'generated': 1, 'gives': 1, 'returning': 1, 'spite': 1, 'knowing': 1, 'clit': 1, \"was'harry\": 1, 'everytime': 1, \"said'harry\": 1, 'outnumbered': 1, \"saying'harry\": 1, 'rules': 1, 'anax': 1, 'rife': 1, 'faked': 1, 'mary': 1, 'sue-ism': 1, 'hogwash': 1, 'listens': 1, 'campaign': 1, 'rid': 1, 'soooooo': 1, 'claiming': 1, 'drain': 1, 'warns': 1, 'indoctrinate': 1, 'wicca': 1, 'seeking': 1, 'wiccans': 1, 'react': 1, 'possible': 1, 'look': 1, 'precious': 1, 'classic': 1, 'cheapened': 1, 'association': 1, 'glitz': 1, 'gossip': 1, 'talked': 1, 'writer': 1, 'immortal': 1, 'psychology': 1, 'thesis': 1, 'iq': 1, 'cucumber': 1, 'potterholic': 1, 'ew': 1, 'jame': 1, 'living': 1, 'guts': 1, 'depp': 1, 'haircut': 1, 'meganpenworthy': 1, 'dressed': 1, 'selfish': 1, 'iron': 1, 'optimus': 1, 'prime': 1, '1984': 1, 'indicative': 1, 'decline': 1, 'english-speaking': 1, 'predictability': 1, 'pretty-packaging': 1, 'standpoint': 1, 'horridly': 1, 'basic': 1, 'cheap': 1, 'christain': 1, 'lynne': 1, 'devil': 1, 'chronicles': 1, 'ring': 1, 'arse': 1, 'rides': 1, 'broom': 1, 'simple': 1, 'exhausted': 1, 'hilarious': 1, '..................': 1, 'fiber': 1, 'inherently': 1, 'invisible': 1, 'murdered': 1, 'fade': 1, 'creature': 1, 'demeantor': 1, 'decaying': 1, 'decomposing': 1, 'hippie': 1, 'bringing': 1, 'mcgarther': 1, 'park': 1, '.-sorcerer': 1, 'stone.-chamber': 1, 'secrets.-prisoner': 1, 'azkaban.-goblet': 1, 'fire.-i': 1, '.-i': 1, 'giving': 1, 'benefit': 1, 'doubt': 1, 'online': 1, 'offence': 1, 'roommate': 1, 'believe': 1, 'facebook': 1, 'group': 1, \"called'harry\": 1, 'addition': 1, 'screwed': 1, 'malaguena': 1, 'russotti': 1, 'changed': 1, 'plays': 1, 'dumbledor': 1, 'hours': 1, 'suncoast': 1, 'kat-tun': 1, 'starred': 1, 'topic': 1, 'yuck': 1, 'yeah-i': 1, 'gladly': 1, 'dungeons': 1, 'asks': 1, 'scent': 1, 'nature': 1, 'hairy': 1, 'otters': 1, 'wussies': 1, 'prisoner': 1, 'azkaban': 1, 'joy': 1, 'titanic': 1, 'durno': 1, 'offense': 1, 'whatev': 1, 'huge': 1, 'loser': 1, 'hahahaha': 1, 'sent': 1, '50': 1, 'musiclove': 1, 'crystal': 1, 'condeming': 1, 'walk': 1, 'forever': 1, 'shell': 1, 'huh': 1, 'jelly': 1, 'pic': 1, 'frodo': 1, 'vice': 1, 'versa': 1, 'whiny': 1, 'canceled': 1, 'postponed': 1, 'hermione': 1, 'childishly': 1, 'immensely': 1, 'well-executed': 1, 'moralistic': 1, '-sucked': 1, 'actors': 1, 'awkward': 1, 'award': 1, 'harder': 1, 'pup-tent': 1, 'boys': 1, 'fill': 1, 'blanks': 1, 'joan': 1, 'keeps': 1, 'characters': 1, 'juicy': 1, 'posted': 1, 'livejournal': 1, 'µª': 1, '0': 1, 'close': 1, 'waaaaaaaaaaaaaaaaaaaaaaaaaaaaaaaaaaaaaaaaaaaaaaaaaaaaaaaaaaaaa': 1, 'anus': 1, 'larry': 1, 'mcmurtry': 1, 'diana': 1, 'ossana-the': 1, 'freezing': 1, '-after': 1, 'evilpinkmunky': 1, 'soooo': 1, 'shameful': 1, 'master': 1, 'himself': 1, 'sitting': 1, 'chicken': 1, 'sam': 1, 'scenes': 1, 'backdrop': 1, 'ah': 1, 'nothin': 1, 'heather': 1, 'shes': 1, 'stites': 1, 'knight': 1, 'seemed': 1, 'josie': 1, 'zach': 1, 'loudest': 1, 'criticizers': 1, 'didnâ': 1, 'donâ': 1, 'ps-brokeback': 1, 'nanny': 1, 'mcphee': 1, 'revise': 1, 'unless': 1, 'crafted': 1, 'involve': 1, 'pop-culture': 1, '00': 1, 'rode': 1, 'bikes': 1, 'complaints': 1, 'vito-being-gay': 1, 'plot': 1, 'facile': 1, 'comparsions': 1, 'overcoming': 1, 'adversity': 1, 'stupidest': 1, 'offensive': 1, 'concocted': 1, 'dinner': 1, 'min': 1, 'rosie': 1, 'independant': 1, 'pudding': 1, 'category': 1, 'shattered-spine': 1, 'emo-mound': 1, 'cow': 1, 'kill': 1, 'writers': 1, 'ruining': 1, 'image': 1, 'liberal': 1, 'exploitation': 1, 'boyy': 1, 'hahahahahaha': 1, 'weiners': 1, 'generalized': 1, 'condemnation': 1, 'entire': 1, 'voted': 1, 'targeted': 1, 'mob': 1, \"watched'10\": 1, \"you'and\": 1, \"of'brokeback\": 1, 'homophobic': 1, 'died': 1, 'france': 1, 'portugal': 1, 'match': 1, 'dvds': 1, 'kudos': 1, 'blog': 1, 'overexagerated': 1, 'requiem': 1, 'patirot': 1, 'knights': 1, 'four': 1, 'feathers': 1, 'casanova': 1, 'dogtown': 1, 'monsters': 1, 'ball': 1, 'visually': 1, 'incredible': 1, 'directed': 1, 'lapse': 1, 'created': 1, 'account': 1, 'comments': 1, 'becuase': 1, 'consider': 1, '1-brokeback': 1, 'reference': 1, 'answers': 1, 'wrote': 1, 'letter': 1, 'editor': 1, '6': 1, 'folk': 1, 'families': 1, 'boycotted': 1, 'festivities': 1, 'madre': 1, 'tiffani': 1, 'pirated': 1, 'illegally': 1, 'presented': 1, 'subtitles': 1, 'backward': 1, 'mormon': 1, 'danielle': 1, 'mostly': 1, 'honest': 1, 'lesson': 1, 'fix': 1, 'homophobes': 1, 'corrupting': 1, 'mountain-which': 1, 'thursday': 1, 'hollywoord': 1, 'reviews': 1, 'fully': 1, 'clothed': 1, 'combonation': 1, 'halfway': 1, 'van': 1, 'insurance': 1, 'runs': 1, 'room': 1, 'messy': 1, 'clean': 1, 'ony': 1, 'monchel': 1, 'brigid': 1})\n"
     ]
    }
   ],
   "source": [
    "import collections\n",
    "import os \n",
    "import nltk\n",
    "nltk.download('punkt')\n",
    "\n",
    "maxlen = 0\n",
    "word_freqs = collections.Counter() # 컨테이너에 동일한 값의 자료가 몇개인지를 파악하는데 사용하는 객체\n",
    "num_recs = 0\n",
    "ftrain = open(\"data/umich-sentiment-train.txt\", 'rb')\n",
    "for line in ftrain:\n",
    "    label, sentence = line.decode('utf8').strip().split(\"\\t\")\n",
    "    words = nltk.word_tokenize(sentence.lower())\n",
    "    #print(words)\n",
    "    if len(words) > maxlen:\n",
    "        maxlen = len(words)  # the maximum number of words in a sentence\n",
    "    for word in words:\n",
    "        word_freqs[word] += 1  # frequency for each word\n",
    "    num_recs += 1 # total number of records\n",
    "ftrain.close()\n",
    "\n",
    "print(word_freqs)"
   ]
  },
  {
   "cell_type": "code",
   "execution_count": null,
   "metadata": {},
   "outputs": [],
   "source": []
  },
  {
   "cell_type": "markdown",
   "metadata": {},
   "source": [
    "- collections.Counter: dict의 subclass로 요소들의 개수 저장\n",
    "- 단어의 출현 빈도를 계산 "
   ]
  },
  {
   "cell_type": "code",
   "execution_count": 4,
   "metadata": {},
   "outputs": [
    {
     "data": {
      "text/plain": [
       "(42, 2268)"
      ]
     },
     "execution_count": 4,
     "metadata": {},
     "output_type": "execute_result"
    }
   ],
   "source": [
    "maxlen, len(word_freqs)"
   ]
  },
  {
   "cell_type": "markdown",
   "metadata": {},
   "source": [
    "- 총 2328개의 단어가 포함되어 있음\n",
    "- 가장 긴 문장이 42개의 단어로 구성됨 "
   ]
  },
  {
   "cell_type": "markdown",
   "metadata": {},
   "source": [
    "----\n",
    "##### --- Practice line-by-line ---"
   ]
  },
  {
   "cell_type": "code",
   "execution_count": 5,
   "metadata": {},
   "outputs": [],
   "source": [
    "maxlen = 0\n",
    "word_freqs = collections.Counter()\n",
    "num_recs = 0\n",
    "ftrain = open(\"data/umich-sentiment-train.txt\", 'rb')"
   ]
  },
  {
   "cell_type": "code",
   "execution_count": 6,
   "metadata": {},
   "outputs": [],
   "source": [
    "line = b'1\\tThe Da Vinci Code book is just awesome.\\n'\n",
    "label, sentence = line.decode('utf8').strip().split(\"\\t\")"
   ]
  },
  {
   "cell_type": "code",
   "execution_count": 7,
   "metadata": {},
   "outputs": [
    {
     "data": {
      "text/plain": [
       "'1'"
      ]
     },
     "execution_count": 7,
     "metadata": {},
     "output_type": "execute_result"
    }
   ],
   "source": [
    "label"
   ]
  },
  {
   "cell_type": "code",
   "execution_count": 8,
   "metadata": {},
   "outputs": [
    {
     "data": {
      "text/plain": [
       "'the da vinci code book is just awesome.'"
      ]
     },
     "execution_count": 8,
     "metadata": {},
     "output_type": "execute_result"
    }
   ],
   "source": [
    "sentence.lower()"
   ]
  },
  {
   "cell_type": "code",
   "execution_count": 9,
   "metadata": {},
   "outputs": [],
   "source": [
    "words = nltk.word_tokenize(sentence.lower())"
   ]
  },
  {
   "cell_type": "code",
   "execution_count": 10,
   "metadata": {},
   "outputs": [
    {
     "data": {
      "text/plain": [
       "['the', 'da', 'vinci', 'code', 'book', 'is', 'just', 'awesome', '.']"
      ]
     },
     "execution_count": 10,
     "metadata": {},
     "output_type": "execute_result"
    }
   ],
   "source": [
    "words"
   ]
  },
  {
   "cell_type": "code",
   "execution_count": 11,
   "metadata": {},
   "outputs": [],
   "source": [
    "for word in words:\n",
    "    word_freqs[word] += 1 "
   ]
  },
  {
   "cell_type": "code",
   "execution_count": 12,
   "metadata": {
    "scrolled": true
   },
   "outputs": [
    {
     "data": {
      "text/plain": [
       "Counter({'the': 1,\n",
       "         'da': 1,\n",
       "         'vinci': 1,\n",
       "         'code': 1,\n",
       "         'book': 1,\n",
       "         'is': 1,\n",
       "         'just': 1,\n",
       "         'awesome': 1,\n",
       "         '.': 1})"
      ]
     },
     "execution_count": 12,
     "metadata": {},
     "output_type": "execute_result"
    }
   ],
   "source": [
    "word_freqs"
   ]
  },
  {
   "cell_type": "code",
   "execution_count": 13,
   "metadata": {},
   "outputs": [],
   "source": [
    "\n",
    "maxlen = 0\n",
    "word_freqs = collections.Counter()\n",
    "num_recs = 0\n",
    "ftrain = open(\"data/umich-sentiment-train.txt\", 'rb')\n",
    "for line in ftrain:\n",
    "    label, sentence = line.decode('utf8').strip().split(\"\\t\")\n",
    "    words = nltk.word_tokenize(sentence.lower())\n",
    "    if len(words) > maxlen:\n",
    "        maxlen = len(words)  # the maximum number of words in a sentence\n",
    "    for word in words:\n",
    "        word_freqs[word] += 1  # frequency for each word\n",
    "    num_recs += 1 # total number of records\n",
    "ftrain.close()"
   ]
  },
  {
   "cell_type": "markdown",
   "metadata": {},
   "source": [
    "----"
   ]
  },
  {
   "cell_type": "code",
   "execution_count": 14,
   "metadata": {},
   "outputs": [],
   "source": [
    "# 1 is UNK, 0 is PAD\n",
    "vocab_size = min(MAX_FEATURES, len(word_freqs)) + 2\n",
    "word2index = {x[0]: i+2 for i, x in enumerate(word_freqs.most_common(MAX_FEATURES))}\n",
    "word2index[\"PAD\"] = 0   # for sentences shorter than MAX_SENTENCE_LENGTH\n",
    "word2index[\"UNK\"] = 1   # for words not in the vocabulary\n",
    "index2word = {v:k for k, v in word2index.items()}"
   ]
  },
  {
   "cell_type": "markdown",
   "metadata": {},
   "source": [
    "- `word2index`: 단어를 index로 mapping하는 dictionary\n",
    "- `index2word`: index를 단어로 mapping하는 dictionary\n",
    "- `\"PAD\"`: 입력 데이터의 차원을 동일하게 만들기 위해 문장의 길이가 MAX_SENTENCE_LENGTH보다 짧을 경우 `\"PAD\"`를 채워줌 (index=0)\n",
    "- `\"UNK\"`: dictionary에 포함되지 않은 단어는 `\"UNK\"`으로 입력"
   ]
  },
  {
   "cell_type": "markdown",
   "metadata": {},
   "source": [
    "#### Construct dataset"
   ]
  },
  {
   "cell_type": "code",
   "execution_count": 15,
   "metadata": {},
   "outputs": [],
   "source": [
    "import numpy as np \n",
    "from keras.preprocessing import sequence\n",
    "\n",
    "X = np.empty((num_recs, ), dtype=list)\n",
    "y = np.zeros((num_recs, ))\n",
    "i = 0\n",
    "ftrain = open(\"data/umich-sentiment-train.txt\", 'rb')\n",
    "\n",
    "for line in ftrain:\n",
    "    label, sentence = line.decode('utf8').strip().split(\"\\t\")\n",
    "    words = nltk.word_tokenize(sentence.lower())\n",
    "    seqs = []\n",
    "    for word in words:\n",
    "        if word in word2index:\n",
    "            seqs.append(word2index[word])\n",
    "        else:\n",
    "            seqs.append(word2index[\"UNK\"])\n",
    "    X[i] = seqs\n",
    "    y[i] = int(label)\n",
    "    i += 1\n",
    "ftrain.close()"
   ]
  },
  {
   "cell_type": "code",
   "execution_count": 16,
   "metadata": {},
   "outputs": [
    {
     "data": {
      "text/plain": [
       "[5, 11, 10, 13, 101, 16, 49, 21, 4]"
      ]
     },
     "execution_count": 16,
     "metadata": {},
     "output_type": "execute_result"
    }
   ],
   "source": [
    "X[0]"
   ]
  },
  {
   "cell_type": "code",
   "execution_count": 17,
   "metadata": {},
   "outputs": [],
   "source": [
    "X = sequence.pad_sequences(X, maxlen=MAX_SENTENCE_LENGTH)"
   ]
  },
  {
   "cell_type": "code",
   "execution_count": 18,
   "metadata": {},
   "outputs": [
    {
     "data": {
      "text/plain": [
       "array([  0,   0,   0,   0,   0,   0,   0,   0,   0,   0,   0,   0,   0,\n",
       "         0,   0,   0,   0,   0,   0,   0,   0,   0,   0,   0,   0,   0,\n",
       "         0,   0,   0,   0,   0,   5,  11,  10,  13, 101,  16,  49,  21,\n",
       "         4])"
      ]
     },
     "execution_count": 18,
     "metadata": {},
     "output_type": "execute_result"
    }
   ],
   "source": [
    "X[0]\n"
   ]
  },
  {
   "cell_type": "markdown",
   "metadata": {},
   "source": [
    "- 문장을 단어의 index로 변환하여 list로 생성\n",
    "- 문장의 길이가 `MAX_SENTENCE_LENGTH`보다 작으면 0으로 padding \n"
   ]
  },
  {
   "cell_type": "markdown",
   "metadata": {},
   "source": [
    "#### Train/test data split"
   ]
  },
  {
   "cell_type": "code",
   "execution_count": 19,
   "metadata": {},
   "outputs": [
    {
     "name": "stdout",
     "output_type": "stream",
     "text": [
      "(5668, 40) (1418, 40) (5668,) (1418,)\n"
     ]
    }
   ],
   "source": [
    "from sklearn.model_selection import train_test_split\n",
    "\n",
    "Xtrain, Xtest, ytrain, ytest = train_test_split(X, y, test_size=0.2, random_state=0)\n",
    "print(Xtrain.shape, Xtest.shape, ytrain.shape, ytest.shape)"
   ]
  },
  {
   "cell_type": "markdown",
   "metadata": {},
   "source": [
    "#### Building and fitting a model"
   ]
  },
  {
   "cell_type": "code",
   "execution_count": 20,
   "metadata": {},
   "outputs": [],
   "source": [
    "BATCH_SIZE = 512\n",
    "NUM_EPOCHS = 100\n",
    "EMBEDDING_SIZE = 128"
   ]
  },
  {
   "cell_type": "code",
   "execution_count": 21,
   "metadata": {},
   "outputs": [
    {
     "name": "stdout",
     "output_type": "stream",
     "text": [
      "Model: \"sequential_2\"\n",
      "_________________________________________________________________\n",
      "Layer (type)                 Output Shape              Param #   \n",
      "=================================================================\n",
      "embedding_2 (Embedding)      (None, 40, 128)           256256    \n",
      "_________________________________________________________________\n",
      "lstm_1 (LSTM)                (None, 32)                20608     \n",
      "_________________________________________________________________\n",
      "dense_1 (Dense)              (None, 1)                 33        \n",
      "=================================================================\n",
      "Total params: 276,897\n",
      "Trainable params: 276,897\n",
      "Non-trainable params: 0\n",
      "_________________________________________________________________\n"
     ]
    }
   ],
   "source": [
    "from keras.models import Sequential\n",
    "from keras.layers import Embedding, Dropout, LSTM, Dense\n",
    "from keras.callbacks import TensorBoard, ModelCheckpoint, EarlyStopping\n",
    "\n",
    "model = Sequential()\n",
    "model.add(Embedding(vocab_size, EMBEDDING_SIZE, input_length=MAX_SENTENCE_LENGTH, mask_zero = True))\n",
    "model.add(LSTM(32, recurrent_dropout=0.2, return_sequences = False, activation = 'relu'))\n",
    "model.add(Dense(1, activation = \"sigmoid\"))\n",
    "model.compile(loss=\"binary_crossentropy\", optimizer=\"adam\", metrics=[\"acc\"])\n",
    "model.summary()"
   ]
  },
  {
   "cell_type": "markdown",
   "metadata": {},
   "source": [
    "- `vocab_size` 크기의 dictionary로 표현된 input을 EMBEDDING_SIZE로 표현 \n",
    "- `input_length=MAX_SENTENCE_LENGTH`: 뒤이어 연결되는 recurrent layer에 입력을 위한 순차적인 입력단어의 수 \n",
    "- `mask_zero = True`: 0으로 padding 한 부분을 학습시 사용하지 않음 "
   ]
  },
  {
   "cell_type": "code",
   "execution_count": 22,
   "metadata": {
    "scrolled": true
   },
   "outputs": [
    {
     "name": "stderr",
     "output_type": "stream",
     "text": [
      "C:\\Users\\028\\anaconda3\\lib\\site-packages\\keras\\callbacks\\tensorboard_v2.py:102: UserWarning: The TensorBoard callback does not support embeddings display when using TensorFlow 2.0. Embeddings-related arguments are ignored.\n",
      "  warnings.warn('The TensorBoard callback does not support '\n",
      "C:\\Users\\028\\anaconda3\\lib\\site-packages\\tensorflow\\python\\framework\\indexed_slices.py:433: UserWarning: Converting sparse IndexedSlices to a dense Tensor of unknown shape. This may consume a large amount of memory.\n",
      "  warnings.warn(\n"
     ]
    },
    {
     "name": "stdout",
     "output_type": "stream",
     "text": [
      "Train on 5668 samples, validate on 1418 samples\n",
      "Epoch 1/100\n",
      "5668/5668 [==============================] - 2s 279us/step - loss: 0.6831 - acc: 0.5873 - val_loss: 0.6674 - val_acc: 0.6848\n",
      "Epoch 2/100\n",
      "5668/5668 [==============================] - 1s 199us/step - loss: 0.6470 - acc: 0.7064 - val_loss: 0.6089 - val_acc: 0.7370\n",
      "Epoch 3/100\n",
      "5668/5668 [==============================] - 1s 194us/step - loss: 0.5442 - acc: 0.7618 - val_loss: 0.4357 - val_acc: 0.8251\n",
      "Epoch 4/100\n",
      "5668/5668 [==============================] - 1s 187us/step - loss: 0.9187 - acc: 0.8986 - val_loss: 0.3647 - val_acc: 0.9295\n",
      "Epoch 5/100\n",
      "5668/5668 [==============================] - 1s 179us/step - loss: 0.3233 - acc: 0.9323 - val_loss: 0.2756 - val_acc: 0.9351\n",
      "Epoch 6/100\n",
      "5668/5668 [==============================] - 1s 181us/step - loss: 0.2335 - acc: 0.9439 - val_loss: 0.1995 - val_acc: 0.9478\n",
      "Epoch 7/100\n",
      "5668/5668 [==============================] - 1s 176us/step - loss: 0.2379 - acc: 0.9513 - val_loss: 0.1715 - val_acc: 0.9499\n",
      "Epoch 8/100\n",
      "5668/5668 [==============================] - 1s 181us/step - loss: 0.1472 - acc: 0.9732 - val_loss: 0.1413 - val_acc: 0.9676\n",
      "Epoch 9/100\n",
      "5668/5668 [==============================] - 1s 180us/step - loss: 0.1382 - acc: 0.9852 - val_loss: 0.1181 - val_acc: 0.9732\n",
      "Epoch 10/100\n",
      "5668/5668 [==============================] - 1s 168us/step - loss: 0.0944 - acc: 0.9891 - val_loss: 0.0969 - val_acc: 0.9767\n",
      "Epoch 11/100\n",
      "5668/5668 [==============================] - 1s 172us/step - loss: 0.0772 - acc: 0.9898 - val_loss: 0.0797 - val_acc: 0.9788\n",
      "Epoch 12/100\n",
      "5668/5668 [==============================] - 1s 173us/step - loss: 0.0602 - acc: 0.9917 - val_loss: 0.0676 - val_acc: 0.9795\n",
      "Epoch 13/100\n",
      "5668/5668 [==============================] - 1s 174us/step - loss: 0.0487 - acc: 0.9936 - val_loss: 0.0591 - val_acc: 0.9795\n",
      "Epoch 14/100\n",
      "5668/5668 [==============================] - 1s 180us/step - loss: 0.0455 - acc: 0.9929 - val_loss: 0.0534 - val_acc: 0.9810\n",
      "Epoch 15/100\n",
      "5668/5668 [==============================] - 1s 184us/step - loss: 0.0351 - acc: 0.9942 - val_loss: 0.0483 - val_acc: 0.9831\n",
      "Epoch 16/100\n",
      "5668/5668 [==============================] - 1s 166us/step - loss: 0.0265 - acc: 0.9963 - val_loss: 0.0443 - val_acc: 0.9831\n",
      "Epoch 17/100\n",
      "5668/5668 [==============================] - 1s 170us/step - loss: 0.0229 - acc: 0.9963 - val_loss: 0.0410 - val_acc: 0.9838\n",
      "Epoch 18/100\n",
      "5668/5668 [==============================] - 1s 171us/step - loss: 0.0188 - acc: 0.9972 - val_loss: 0.0386 - val_acc: 0.9852\n",
      "Epoch 19/100\n",
      "5668/5668 [==============================] - 1s 171us/step - loss: 0.0167 - acc: 0.9972 - val_loss: 0.0365 - val_acc: 0.9852\n",
      "Epoch 20/100\n",
      "5668/5668 [==============================] - 1s 171us/step - loss: 0.0141 - acc: 0.9986 - val_loss: 0.0349 - val_acc: 0.9859\n",
      "Epoch 21/100\n",
      "5668/5668 [==============================] - 1s 166us/step - loss: 0.0121 - acc: 0.9986 - val_loss: 0.0339 - val_acc: 0.9859\n",
      "Epoch 22/100\n",
      "5668/5668 [==============================] - 1s 171us/step - loss: 0.0133 - acc: 0.9977 - val_loss: 0.0345 - val_acc: 0.9859\n",
      "Epoch 23/100\n",
      "5668/5668 [==============================] - 1s 181us/step - loss: 0.0099 - acc: 0.9984 - val_loss: 0.0346 - val_acc: 0.9873\n",
      "Epoch 24/100\n",
      "5668/5668 [==============================] - 1s 171us/step - loss: 0.0102 - acc: 0.9989 - val_loss: 0.0343 - val_acc: 0.9866\n"
     ]
    },
    {
     "data": {
      "text/plain": [
       "<keras.callbacks.callbacks.History at 0x28c0aa35fa0>"
      ]
     },
     "execution_count": 22,
     "metadata": {},
     "output_type": "execute_result"
    }
   ],
   "source": [
    "import time \n",
    "\n",
    "now = time.strftime(\"%c\")\n",
    "callbacks_list = [\n",
    "    ModelCheckpoint(filepath='logs/sentiment_analysis.h5', monitor='val_loss', save_best_only=True),\n",
    "    TensorBoard(log_dir='logs/sentiment_analysis', histogram_freq=1, embeddings_freq=1,\n",
    "               profile_batch=100000000),\n",
    "    # histogram_freq=1 : 1 에포크마다 활성화 출력의 히스토그램을 기록\n",
    "    # embeddings_freq=1 : 1에포크 마다 임베딩 데이터 기록\n",
    "    EarlyStopping(monitor='val_loss',patience=3)\n",
    "]\n",
    "model.fit(Xtrain, ytrain, batch_size=BATCH_SIZE, epochs=NUM_EPOCHS, validation_data=(Xtest, ytest), callbacks=callbacks_list)"
   ]
  },
  {
   "cell_type": "code",
   "execution_count": 23,
   "metadata": {},
   "outputs": [],
   "source": [
    "model.save('logs/sentiment_analysis.h5')"
   ]
  },
  {
   "cell_type": "code",
   "execution_count": 24,
   "metadata": {},
   "outputs": [
    {
     "name": "stdout",
     "output_type": "stream",
     "text": [
      "1418/1418 [==============================] - 0s 101us/step\n"
     ]
    },
    {
     "data": {
      "text/plain": [
       "[0.03429427678855754, 0.9866008758544922]"
      ]
     },
     "execution_count": 24,
     "metadata": {},
     "output_type": "execute_result"
    }
   ],
   "source": [
    "from keras.models import load_model\n",
    "\n",
    "model=load_model('logs/sentiment_analysis.h5')\n",
    "model.evaluate(Xtest, ytest, batch_size=BATCH_SIZE)"
   ]
  },
  {
   "cell_type": "markdown",
   "metadata": {},
   "source": [
    "#### Prediction for test sentences"
   ]
  },
  {
   "cell_type": "code",
   "execution_count": 25,
   "metadata": {},
   "outputs": [
    {
     "name": "stdout",
     "output_type": "stream",
     "text": [
      "1\t1\ti love being a sentry for mission impossible and a station for bonkers .\n",
      "1\t1\tanyway , thats why i love `` brokeback mountain .\n",
      "0\t0\tfriday hung out with kelsie and we went and saw the da vinci code sucked ! ! ! ! !\n",
      "0\t0\tcombining the opinion / review from gary and gin zen , the da vinci code sucks .\n",
      "1\t1\tman i loved brokeback mountain !\n"
     ]
    }
   ],
   "source": [
    "for i in range(5):\n",
    "    idx = np.random.randint(len(Xtest))\n",
    "    xtest = Xtest[idx].reshape(1,40)\n",
    "    ylabel = ytest[idx]\n",
    "    ypred = model.predict(xtest)[0][0]\n",
    "    sent = \" \".join([index2word[x] for x in xtest[0].tolist() if x != 0])\n",
    "    print(\"%.0f\\t%d\\t%s\" % (ypred, ylabel, sent))"
   ]
  },
  {
   "cell_type": "markdown",
   "metadata": {},
   "source": [
    "***\n",
    "## 11.2 Using pre-trained word embeddings"
   ]
  },
  {
   "cell_type": "markdown",
   "metadata": {},
   "source": [
    "- 풀고자 하는 main task와 함께 word embedding을 학습하는 대신 미리 계산된 embedding 공간에서 vector를 로드하여 사용\n",
    "- 충분한 데이터로 학습한 embedding vector는 언어구조의 일반적인 측면을 잡아낼 수 있음\n",
    "- Word embedding을 계산하는 알고리즘\n",
    "    - Word2vec(skip-gram, CBow)\n",
    "    - GloVe\n",
    "    - Fasttext\n",
    "    - ELMo\n",
    "    - BERT"
   ]
  },
  {
   "cell_type": "markdown",
   "metadata": {},
   "source": [
    "###  Word2Vec with Gensim"
   ]
  },
  {
   "cell_type": "markdown",
   "metadata": {},
   "source": [
    "- Word2Vec (Mikolov in Google, 2013)\n",
    "- Skipgram: 문장에서 중심 단어들로 주변에 위치한 단어들의 출현을 예측하는 알고리즘\n",
    "<img src=\"http://i.imgur.com/TupGxMl.png\" width=\"50%\" align=\"left\" >\n",
    "<img src=\"http://i.imgur.com/8zNRwsn.png\" width=\"50%\" >"
   ]
  },
  {
   "cell_type": "markdown",
   "metadata": {},
   "source": [
    "- word2vec으로 학습 된 embedding matrix를 keras의 embedding layer에 넣어 prediction model 학습\n",
    "- Input: 단어들로 이루어진 list "
   ]
  },
  {
   "cell_type": "code",
   "execution_count": 26,
   "metadata": {},
   "outputs": [],
   "source": [
    "## Toy example\n",
    "input_text = [['the', 'da', 'vinci', 'code', 'book', 'is', 'just', 'awesome', '.'],\n",
    "              ['i', 'liked', 'the', 'da', 'vinci', 'code', 'a', 'lot', '.']]"
   ]
  },
  {
   "cell_type": "code",
   "execution_count": 27,
   "metadata": {},
   "outputs": [
    {
     "name": "stdout",
     "output_type": "stream",
     "text": [
      "Collecting package metadata (current_repodata.json): ...working... done\n",
      "Solving environment: ...working... done\n",
      "\n",
      "# All requested packages already installed.\n",
      "\n"
     ]
    }
   ],
   "source": [
    "!conda install gensim"
   ]
  },
  {
   "cell_type": "code",
   "execution_count": 28,
   "metadata": {},
   "outputs": [],
   "source": [
    "from gensim.models import Word2Vec\n",
    "#embed_model = Word2Vec(input_text, sg=1, window=5, min_count=1)\n",
    "embed_model = Word2Vec(input_text, sg=1, size=5, window=5, min_count=1)"
   ]
  },
  {
   "cell_type": "markdown",
   "metadata": {},
   "source": [
    "- `sg=1`: skipgram 알고리즘 사용 \n",
    "- `size=5`: embedding size \n",
    "- `window=5`: 주변의 5개 단어를 사용하여 해당 단어의 출현 예측 \n",
    "- `min_count=1`: 최소 1번 이상 출현한 단어들만 사용 (default=5)"
   ]
  },
  {
   "cell_type": "markdown",
   "metadata": {},
   "source": [
    "#### Preparing data for Word2Vec"
   ]
  },
  {
   "cell_type": "code",
   "execution_count": 29,
   "metadata": {
    "ExecuteTime": {
     "end_time": "2018-07-10T17:03:10.031128Z",
     "start_time": "2018-07-10T17:03:09.018550Z"
    }
   },
   "outputs": [],
   "source": [
    "vocab = [v for v, _ in word_freqs.most_common(MAX_FEATURES)]\n",
    "\n",
    "sentences = np.empty((num_recs, ), dtype=list)\n",
    "i = 0\n",
    "ftrain = open(\"data/umich-sentiment-train.txt\", 'rb')\n",
    "\n",
    "for line in ftrain:\n",
    "    label, sentence = line.decode('utf8').strip().split(\"\\t\")\n",
    "    words = nltk.word_tokenize(sentence.lower())\n",
    "    sentence = []\n",
    "    for word in words:\n",
    "        if word in vocab:\n",
    "            sentence.append(word)\n",
    "        else:\n",
    "            sentence.append(\"UNK\")\n",
    "    sentences[i] = sentence\n",
    "    i += 1\n",
    "    \n",
    "ftrain.close()\n",
    "\n",
    "sentences=list(sentences)"
   ]
  },
  {
   "cell_type": "code",
   "execution_count": 30,
   "metadata": {
    "scrolled": true
   },
   "outputs": [
    {
     "data": {
      "text/plain": [
       "7086"
      ]
     },
     "execution_count": 30,
     "metadata": {},
     "output_type": "execute_result"
    }
   ],
   "source": [
    "len(sentences)"
   ]
  },
  {
   "cell_type": "code",
   "execution_count": 31,
   "metadata": {},
   "outputs": [
    {
     "data": {
      "text/plain": [
       "['the', 'da', 'vinci', 'code', 'book', 'is', 'just', 'awesome', '.']"
      ]
     },
     "execution_count": 31,
     "metadata": {},
     "output_type": "execute_result"
    }
   ],
   "source": [
    "sentences[0]"
   ]
  },
  {
   "cell_type": "markdown",
   "metadata": {},
   "source": [
    "- 문장을 단어로 쪼개어 단어로 이루어진  list로 변환 "
   ]
  },
  {
   "cell_type": "markdown",
   "metadata": {},
   "source": [
    "#### Word2Vec by gensim "
   ]
  },
  {
   "cell_type": "code",
   "execution_count": 32,
   "metadata": {
    "ExecuteTime": {
     "end_time": "2018-07-10T17:04:11.187511Z",
     "start_time": "2018-07-10T17:04:11.183966Z"
    }
   },
   "outputs": [],
   "source": [
    "from gensim.models import Word2Vec\n",
    "embed_model = Word2Vec(sentences, sg=1, size=EMBEDDING_SIZE, window=5, min_count=1)"
   ]
  },
  {
   "cell_type": "code",
   "execution_count": 33,
   "metadata": {},
   "outputs": [
    {
     "data": {
      "text/plain": [
       "['i',\n",
       " ',',\n",
       " '.',\n",
       " 'the',\n",
       " 'and',\n",
       " '!',\n",
       " 'potter',\n",
       " 'harry',\n",
       " 'vinci',\n",
       " 'da',\n",
       " 'brokeback',\n",
       " 'code',\n",
       " 'mountain',\n",
       " 'love',\n",
       " 'is',\n",
       " '...',\n",
       " 'a',\n",
       " 'was',\n",
       " '..',\n",
       " 'awesome',\n",
       " 'impossible',\n",
       " 'mission',\n",
       " 'like',\n",
       " 'it',\n",
       " 'to',\n",
       " 'movie',\n",
       " 'that',\n",
       " \"'s\",\n",
       " 'because',\n",
       " 'sucks',\n",
       " 'sucked',\n",
       " 'hate',\n",
       " 'so',\n",
       " 'as',\n",
       " 'my',\n",
       " 'much',\n",
       " '``',\n",
       " 'of',\n",
       " 'really',\n",
       " 'movies',\n",
       " 'stupid',\n",
       " 'you',\n",
       " 'down',\n",
       " 'but',\n",
       " 'we',\n",
       " 'be',\n",
       " 'with',\n",
       " 'just',\n",
       " 'one',\n",
       " 'know',\n",
       " 'suck',\n",
       " '3',\n",
       " 'out',\n",
       " 'UNK',\n",
       " 'who',\n",
       " '/',\n",
       " 'or',\n",
       " 'am',\n",
       " 'loved',\n",
       " 'want',\n",
       " 'into',\n",
       " 'which',\n",
       " 'right',\n",
       " 'for',\n",
       " 'an',\n",
       " \"n't\",\n",
       " 'this',\n",
       " 'me',\n",
       " ':',\n",
       " 'are',\n",
       " 'think',\n",
       " 'not',\n",
       " 'how',\n",
       " 'if',\n",
       " '....',\n",
       " 'depressing',\n",
       " 'people',\n",
       " 'his',\n",
       " 'would',\n",
       " 'horrible',\n",
       " 'up',\n",
       " 'reading',\n",
       " 'why',\n",
       " 'series',\n",
       " 'there',\n",
       " 'in',\n",
       " 'only',\n",
       " 'fucking',\n",
       " 'terrible',\n",
       " 'she',\n",
       " 'oh',\n",
       " 'story',\n",
       " 'being',\n",
       " 'left',\n",
       " 'ok',\n",
       " 'guy',\n",
       " 'here',\n",
       " 'start',\n",
       " 'felicia',\n",
       " '(',\n",
       " 'book',\n",
       " 'have',\n",
       " 'about',\n",
       " 'beautiful',\n",
       " 'good',\n",
       " 'too',\n",
       " 'also',\n",
       " 'do',\n",
       " 'on',\n",
       " 'went',\n",
       " 'read',\n",
       " 'at',\n",
       " 'then',\n",
       " 'can',\n",
       " 'saw',\n",
       " 'first',\n",
       " 'more',\n",
       " 'by',\n",
       " '2',\n",
       " 'tom',\n",
       " 'thought',\n",
       " 'most',\n",
       " 'liked',\n",
       " 'way',\n",
       " 'from',\n",
       " 'absolutely',\n",
       " 'still',\n",
       " 'well',\n",
       " 'time',\n",
       " 'got',\n",
       " 'he',\n",
       " 'when',\n",
       " 'film',\n",
       " 'big',\n",
       " 'heard',\n",
       " 'ever',\n",
       " 'were',\n",
       " 'better',\n",
       " 'what',\n",
       " 'watch',\n",
       " 'going',\n",
       " 'great',\n",
       " 'seen',\n",
       " 'such',\n",
       " 'things',\n",
       " 'does',\n",
       " 'last',\n",
       " 'said',\n",
       " '=',\n",
       " 'boring',\n",
       " '?',\n",
       " 'ca',\n",
       " 'yeah',\n",
       " 'gay',\n",
       " \"'\",\n",
       " 'both',\n",
       " 'watching',\n",
       " 'man',\n",
       " 'again',\n",
       " 'wait',\n",
       " 'making',\n",
       " 'never',\n",
       " 'same',\n",
       " \"'re\",\n",
       " '’',\n",
       " 'these',\n",
       " 'excellent',\n",
       " 'friday',\n",
       " 'friends',\n",
       " 'cool',\n",
       " 'always',\n",
       " 'person',\n",
       " 'opinion',\n",
       " 'anyone',\n",
       " 'na',\n",
       " 'rocks',\n",
       " 'around',\n",
       " 'him',\n",
       " 'says',\n",
       " 'cock',\n",
       " 'side',\n",
       " 'fun',\n",
       " 'make',\n",
       " 'take',\n",
       " 'anyway',\n",
       " 's',\n",
       " 'mom',\n",
       " 'where',\n",
       " 'worth',\n",
       " 'either',\n",
       " 'knows',\n",
       " 'place',\n",
       " 'thats',\n",
       " 'luv',\n",
       " 'wanted',\n",
       " 'dad',\n",
       " 'care',\n",
       " 'freakin',\n",
       " 'character',\n",
       " 'daniel',\n",
       " 'community',\n",
       " 'main',\n",
       " 'hates',\n",
       " 'review',\n",
       " 'b',\n",
       " 'crazy',\n",
       " 'stand',\n",
       " 'begin',\n",
       " 'turned',\n",
       " 'soo',\n",
       " 'gon',\n",
       " 'reality',\n",
       " 'bitch',\n",
       " 'table',\n",
       " 'type',\n",
       " 'dies',\n",
       " 'cowboy',\n",
       " 'hat',\n",
       " 'snuck',\n",
       " 'awards',\n",
       " 'acceptable',\n",
       " 'becoming',\n",
       " 'past',\n",
       " 'needs',\n",
       " 'head',\n",
       " 'jokes',\n",
       " 'desperately',\n",
       " \"love'the\",\n",
       " 'lubb',\n",
       " 'hoot',\n",
       " 'silent',\n",
       " 'hill',\n",
       " 'coz',\n",
       " 'hella',\n",
       " 'goin',\n",
       " 'sentry',\n",
       " 'station',\n",
       " 'bonkers',\n",
       " 'cleaning',\n",
       " 'grabs',\n",
       " 'keys',\n",
       " 'dash',\n",
       " 'kirsten',\n",
       " 'leah',\n",
       " 'kate',\n",
       " 'escapades',\n",
       " 'joining',\n",
       " 'deep',\n",
       " 'profound',\n",
       " 'differently',\n",
       " 'serious',\n",
       " 'count',\n",
       " 'catcher',\n",
       " 'tye',\n",
       " 'jane',\n",
       " 'eyre',\n",
       " 'virgin',\n",
       " 'suicides',\n",
       " \"'yeah\",\n",
       " 'acne',\n",
       " 'dudeee',\n",
       " 'homosexuality',\n",
       " 'hung',\n",
       " 'kelsie',\n",
       " 'combining',\n",
       " 'gary',\n",
       " 'gin',\n",
       " 'zen',\n",
       " 'letting',\n",
       " '2.5',\n",
       " 'stars',\n",
       " 'quiz',\n",
       " 'bye',\n",
       " 'retarted',\n",
       " 'black',\n",
       " 'outshines',\n",
       " 'material',\n",
       " 'plain',\n",
       " 'likes',\n",
       " 'dragged',\n",
       " 'draco',\n",
       " 'malfoy',\n",
       " 'trousers',\n",
       " 'hips',\n",
       " 'throat',\n",
       " 'vigor',\n",
       " 'whimpering',\n",
       " 'noises',\n",
       " 'panting',\n",
       " 'groaning',\n",
       " 'blonds',\n",
       " 'rock-hard',\n",
       " 'aching',\n",
       " 'wotshisface',\n",
       " 'slap',\n",
       " 'helped',\n",
       " 'bobbypin',\n",
       " 'insanely',\n",
       " 'laughed',\n",
       " 'sit',\n",
       " 'mtv',\n",
       " 'reminded',\n",
       " 'despised',\n",
       " 'see',\n",
       " ')',\n",
       " 'iii',\n",
       " 'hated',\n",
       " 'all',\n",
       " \"'m\",\n",
       " 'did',\n",
       " 'evil',\n",
       " 'pretty',\n",
       " 'ass',\n",
       " 'though',\n",
       " 'books',\n",
       " 'even',\n",
       " '*',\n",
       " 'say',\n",
       " 'they',\n",
       " 'go',\n",
       " 'had',\n",
       " 'lot',\n",
       " 'now',\n",
       " 'get',\n",
       " 'other',\n",
       " 'will',\n",
       " 'after',\n",
       " 'cruise',\n",
       " 'very',\n",
       " 'some',\n",
       " '.....',\n",
       " '--',\n",
       " 'amazing',\n",
       " '<',\n",
       " 'its',\n",
       " 'watched',\n",
       " 'balls',\n",
       " 'best',\n",
       " 'kinda',\n",
       " 'than',\n",
       " 'actually',\n",
       " 'no',\n",
       " 'already',\n",
       " 'lol',\n",
       " 'made',\n",
       " 'awful',\n",
       " 'thing',\n",
       " 'has',\n",
       " 'may',\n",
       " 'two',\n",
       " 'sad',\n",
       " 'second',\n",
       " 'since',\n",
       " \"'ve\",\n",
       " \"'d\",\n",
       " 'over',\n",
       " 'off',\n",
       " 'us',\n",
       " 'new',\n",
       " 'miss',\n",
       " 'far',\n",
       " '......',\n",
       " \"'ll\",\n",
       " 'been',\n",
       " 'those',\n",
       " 'enjoy',\n",
       " 'night',\n",
       " '&',\n",
       " '[',\n",
       " 'tell',\n",
       " ']',\n",
       " 'shit',\n",
       " 'should',\n",
       " 'three',\n",
       " 'everyone',\n",
       " 'action',\n",
       " 'theme',\n",
       " 'before',\n",
       " 'your',\n",
       " 'real',\n",
       " 'could',\n",
       " 'talk',\n",
       " 'crash',\n",
       " 'enjoyed',\n",
       " 'yet',\n",
       " 'having',\n",
       " 'looks',\n",
       " 'while',\n",
       " 'bad',\n",
       " 'them',\n",
       " 'life',\n",
       " '>',\n",
       " 'try',\n",
       " 'course',\n",
       " 'something',\n",
       " 'wrong',\n",
       " 'hey',\n",
       " 'interesting',\n",
       " 'times',\n",
       " 'totally',\n",
       " 'mean',\n",
       " 'talking',\n",
       " 'else',\n",
       " 'feel',\n",
       " 'little',\n",
       " 'sure',\n",
       " 'thinking',\n",
       " 'glad',\n",
       " 'anything',\n",
       " 'world',\n",
       " '-',\n",
       " 'demons',\n",
       " 'bit',\n",
       " 'quite',\n",
       " 'seeing',\n",
       " 'finished',\n",
       " 'week',\n",
       " 'lost',\n",
       " 'our',\n",
       " 'x-men',\n",
       " 'day',\n",
       " 'back',\n",
       " 'almost',\n",
       " 'long',\n",
       " 'year',\n",
       " 'fan',\n",
       " 'fact',\n",
       " 'freaking',\n",
       " 'school',\n",
       " 'picture',\n",
       " 'might',\n",
       " 'kids',\n",
       " 'okay',\n",
       " 'saying',\n",
       " 'fandom',\n",
       " 'every',\n",
       " 'told',\n",
       " 'cowboys',\n",
       " 'god',\n",
       " 'crappy',\n",
       " 'sucking',\n",
       " 'angels',\n",
       " 'few',\n",
       " 'personally',\n",
       " 'crap',\n",
       " 'probably',\n",
       " 'im',\n",
       " 'sick',\n",
       " 'must',\n",
       " 'their',\n",
       " 'until',\n",
       " 'end',\n",
       " 'kind',\n",
       " 'novel',\n",
       " 'days',\n",
       " 'luck',\n",
       " 'officially',\n",
       " 'tonight',\n",
       " 'doing',\n",
       " 'song',\n",
       " 'least',\n",
       " 'stories',\n",
       " 'theater',\n",
       " 'show',\n",
       " 'money',\n",
       " 'used',\n",
       " 'culture',\n",
       " 'lord',\n",
       " 'rings',\n",
       " '”',\n",
       " 'apparently',\n",
       " 'through',\n",
       " 'news',\n",
       " 'won',\n",
       " 'give',\n",
       " '-we',\n",
       " 'bogus',\n",
       " 'inaccurate',\n",
       " 'hear',\n",
       " 'mother',\n",
       " 'own',\n",
       " 'different',\n",
       " 'girl',\n",
       " 'idea',\n",
       " 'telling',\n",
       " 'music',\n",
       " 'omg',\n",
       " 'damn',\n",
       " 'half',\n",
       " 'wan',\n",
       " 'come',\n",
       " 'jesus',\n",
       " 'move',\n",
       " 'funny',\n",
       " 'played',\n",
       " 'finally',\n",
       " 'fell',\n",
       " 'classes',\n",
       " 'fire',\n",
       " 'films',\n",
       " 'yes',\n",
       " 'comes',\n",
       " 'children',\n",
       " 'food',\n",
       " 'club',\n",
       " 'win',\n",
       " 'fuck',\n",
       " 'sexy',\n",
       " 'part',\n",
       " 'someone',\n",
       " 'ta',\n",
       " 'incredibly',\n",
       " 'once',\n",
       " 'decided',\n",
       " 'hope',\n",
       " 'oscar',\n",
       " 'shitty',\n",
       " 'stinks',\n",
       " 'majorly',\n",
       " 'major',\n",
       " 'lame',\n",
       " 'john',\n",
       " 'woo',\n",
       " '$',\n",
       " 'georgia',\n",
       " 'her',\n",
       " 'board',\n",
       " 'nearly',\n",
       " 'hollywood',\n",
       " ';',\n",
       " 'religious',\n",
       " 'heart',\n",
       " 'hard',\n",
       " 'dan',\n",
       " 'brown',\n",
       " 'lit',\n",
       " 'absurd',\n",
       " 'next',\n",
       " 'pages',\n",
       " '+',\n",
       " 'besides',\n",
       " 'myself',\n",
       " 'many',\n",
       " 'came',\n",
       " 'agree',\n",
       " 'hell',\n",
       " 'ones',\n",
       " 'playing',\n",
       " 'hedge',\n",
       " 'given',\n",
       " 'kick',\n",
       " 'stayed',\n",
       " 'update',\n",
       " 'sort',\n",
       " 'fat',\n",
       " 'rent',\n",
       " 'looking',\n",
       " 'nothing',\n",
       " 'ten',\n",
       " 'top',\n",
       " 'gun',\n",
       " 'stop',\n",
       " 'cuz',\n",
       " 'anyways',\n",
       " 'instead',\n",
       " 'btw',\n",
       " 'ask',\n",
       " 'wondering',\n",
       " 'except',\n",
       " 'rather',\n",
       " 'let',\n",
       " 'especially',\n",
       " '~',\n",
       " 'guys',\n",
       " 'between',\n",
       " 'shows',\n",
       " '.......',\n",
       " 'dumb',\n",
       " 'stuff',\n",
       " 'minutes',\n",
       " 'example',\n",
       " 'goblet',\n",
       " '�',\n",
       " 'eragon',\n",
       " '6th',\n",
       " 'wish',\n",
       " 'write',\n",
       " 'loves',\n",
       " 'm',\n",
       " 'deal',\n",
       " 'fanfiction',\n",
       " 'any',\n",
       " '4',\n",
       " 'gorgeous',\n",
       " 'christmas',\n",
       " 'friend',\n",
       " 'level',\n",
       " '_',\n",
       " 'case',\n",
       " 'comment',\n",
       " 'felt',\n",
       " 'none',\n",
       " 'college',\n",
       " 'death',\n",
       " 'halloween',\n",
       " 'need',\n",
       " 'gift',\n",
       " 'nc-17',\n",
       " 'taking',\n",
       " 'sorry',\n",
       " 'along',\n",
       " 'during',\n",
       " 'hands',\n",
       " 'short',\n",
       " 'thank',\n",
       " 'jake',\n",
       " 'ban',\n",
       " 'critics',\n",
       " 'jack',\n",
       " 'cried',\n",
       " 'racism',\n",
       " 'worthless',\n",
       " 'audrey',\n",
       " 'tautou',\n",
       " 'work',\n",
       " 'erm',\n",
       " 'looked',\n",
       " 't',\n",
       " 'passion',\n",
       " 'donkey',\n",
       " 'conclusion',\n",
       " 'true',\n",
       " 'whole',\n",
       " 'god-awful',\n",
       " '“',\n",
       " 'bullshit',\n",
       " 'rant',\n",
       " 'dont',\n",
       " 'mouth',\n",
       " 'live',\n",
       " 'extremely',\n",
       " 'disliked',\n",
       " 'hold',\n",
       " 'buy',\n",
       " 'ive',\n",
       " 'turn',\n",
       " 'figures',\n",
       " 'old',\n",
       " 'takes',\n",
       " 'normal',\n",
       " 'biased',\n",
       " 'able',\n",
       " 'equal',\n",
       " 'nor',\n",
       " 'cold',\n",
       " 'page',\n",
       " 'awesomest',\n",
       " 'sounds',\n",
       " 'aaron',\n",
       " 'knew',\n",
       " 'took',\n",
       " 'recently',\n",
       " 'theaters',\n",
       " 'against',\n",
       " 'religion',\n",
       " 'together',\n",
       " 'whatever',\n",
       " 'lah',\n",
       " 'soon',\n",
       " 'hand',\n",
       " 'hanks',\n",
       " 'sooo',\n",
       " 'hating',\n",
       " 'awesomeness',\n",
       " 'hardcore',\n",
       " 'fireworks',\n",
       " '‘',\n",
       " 'accompaniment',\n",
       " 'whistles',\n",
       " 'bangs',\n",
       " 'colourfully',\n",
       " 'sky',\n",
       " 'events',\n",
       " 'drive',\n",
       " 'haunt',\n",
       " '-and',\n",
       " 'yea',\n",
       " 'fall',\n",
       " 'class',\n",
       " 'trailers',\n",
       " 'catch',\n",
       " 'flick',\n",
       " 'saturday',\n",
       " 'job',\n",
       " 'ticket',\n",
       " '7',\n",
       " 'run',\n",
       " 'sing',\n",
       " 'makes',\n",
       " 'cute',\n",
       " 'problem',\n",
       " 'geek',\n",
       " 'tickets',\n",
       " 'definitely',\n",
       " 'x',\n",
       " 'meeting',\n",
       " 'party',\n",
       " 'special',\n",
       " 'ya',\n",
       " 'definately',\n",
       " 'hide',\n",
       " 'feeling',\n",
       " 'hot',\n",
       " 'third',\n",
       " 'scene',\n",
       " 'chris',\n",
       " 'showing',\n",
       " 'pictures',\n",
       " 'putting',\n",
       " 'pocket',\n",
       " 'hero',\n",
       " 'tv',\n",
       " 'although',\n",
       " 'tc',\n",
       " 'issues',\n",
       " 'play',\n",
       " 'today',\n",
       " 'joke',\n",
       " 'girls',\n",
       " 'maybe',\n",
       " 'politics',\n",
       " 'house',\n",
       " 'proud',\n",
       " 'ron',\n",
       " 'favourite',\n",
       " 're-reading',\n",
       " 'half-blood',\n",
       " 'prince',\n",
       " 'final',\n",
       " 'shoes',\n",
       " 'stone',\n",
       " 'j.',\n",
       " 'k.',\n",
       " 'rowling',\n",
       " 'strangely',\n",
       " 'hp',\n",
       " 'fanfic',\n",
       " 'kid',\n",
       " 'perhaps',\n",
       " 'often',\n",
       " 'decent',\n",
       " 'enough',\n",
       " 'suppose',\n",
       " 'pop',\n",
       " 'funniest',\n",
       " 'costumes',\n",
       " 'la',\n",
       " 'narnia',\n",
       " 'disney',\n",
       " 'eating',\n",
       " 'fault',\n",
       " 'empty',\n",
       " 'dream',\n",
       " 'body',\n",
       " 'nerd',\n",
       " 'ruined',\n",
       " 'fabulous',\n",
       " 'scar',\n",
       " 'bought',\n",
       " '–',\n",
       " 'adult',\n",
       " 'adorable',\n",
       " 'everything',\n",
       " \"y'all\",\n",
       " 'author',\n",
       " 'student',\n",
       " 'forgotten',\n",
       " 'dragons',\n",
       " 'hogwarts',\n",
       " '33',\n",
       " 'emma',\n",
       " 'watson',\n",
       " 'icons',\n",
       " 'brilliant',\n",
       " 'popular',\n",
       " 'craze',\n",
       " 'word',\n",
       " 'fic',\n",
       " 'vampire',\n",
       " 'n',\n",
       " 'sivullinen',\n",
       " 'requested',\n",
       " 'het',\n",
       " 'quizzes',\n",
       " 'future',\n",
       " 'till',\n",
       " 'simply',\n",
       " 'writing',\n",
       " 'sense',\n",
       " 'conquering',\n",
       " 'friendships',\n",
       " 'formed',\n",
       " 'related',\n",
       " 'whether',\n",
       " 'stopped',\n",
       " 'months',\n",
       " 'idk',\n",
       " 'honor',\n",
       " 'cry',\n",
       " 'asking',\n",
       " 'queer',\n",
       " 'heath',\n",
       " 'dick',\n",
       " 'yesterday',\n",
       " 'asian',\n",
       " 'copy',\n",
       " 'choice',\n",
       " 'kiss',\n",
       " 'unbelievably',\n",
       " '©',\n",
       " 'asleep',\n",
       " 'mentioned',\n",
       " 'capote',\n",
       " 'mention',\n",
       " 'ang',\n",
       " 'lee',\n",
       " 'u',\n",
       " 'understand',\n",
       " 'industry',\n",
       " 'rest',\n",
       " 'acting',\n",
       " 'deserved',\n",
       " 'full',\n",
       " 'carefully',\n",
       " 'happy',\n",
       " 'generally',\n",
       " 'score',\n",
       " 'white',\n",
       " 'mainstream',\n",
       " 'challenge',\n",
       " 'actor',\n",
       " 'super',\n",
       " 'written',\n",
       " 'expected',\n",
       " 'question',\n",
       " 'beat',\n",
       " 'piece',\n",
       " 'butt',\n",
       " 'code-sucked',\n",
       " 'loathe',\n",
       " 'lie',\n",
       " 'favorite',\n",
       " 'everybody',\n",
       " 'hoover',\n",
       " 'less',\n",
       " '-the',\n",
       " 'hopefully',\n",
       " 'coming',\n",
       " 'name',\n",
       " 'due',\n",
       " 'weekend',\n",
       " 'couple',\n",
       " 'didnt',\n",
       " 'compared',\n",
       " 'use',\n",
       " 'reaction',\n",
       " 'royally',\n",
       " '-have',\n",
       " '-da',\n",
       " 'attempt',\n",
       " 'johnny',\n",
       " 'article',\n",
       " 'draw',\n",
       " 'christian',\n",
       " 'beans',\n",
       " 'wo',\n",
       " 'getting',\n",
       " 'tho',\n",
       " 'chinese',\n",
       " 'nice',\n",
       " 'mi3',\n",
       " 'please',\n",
       " 'tired',\n",
       " 'franchise',\n",
       " 'ran',\n",
       " 'cocktail',\n",
       " 'phillip',\n",
       " 'hoffman',\n",
       " 'remix',\n",
       " 'laid',\n",
       " 'egg',\n",
       " 'cringe',\n",
       " 'whenever',\n",
       " 'respect',\n",
       " 'lousy',\n",
       " 'point',\n",
       " 'fit',\n",
       " 'aka',\n",
       " 'actual',\n",
       " 'blame',\n",
       " 'ending',\n",
       " 'dementors',\n",
       " 'costume',\n",
       " 'tea',\n",
       " 'infuser',\n",
       " 'die',\n",
       " 'sometimes',\n",
       " 'wesley',\n",
       " 'captain',\n",
       " 'picard',\n",
       " 'douche',\n",
       " 'tragic',\n",
       " 'bible',\n",
       " 'libraries',\n",
       " 'witchcraft',\n",
       " 'color',\n",
       " 'dance',\n",
       " 'obnoxious',\n",
       " 'thinks',\n",
       " 'thousand',\n",
       " 'ultimate',\n",
       " 'marvel',\n",
       " 'education',\n",
       " 'exquisite',\n",
       " 'marcia',\n",
       " 'gaither',\n",
       " 'teaches',\n",
       " 'wiccanism',\n",
       " 'controversy',\n",
       " 'working',\n",
       " 'overall',\n",
       " 'lords',\n",
       " 'soul',\n",
       " 'equally',\n",
       " 'ago',\n",
       " 'opened',\n",
       " 'dictate',\n",
       " 'reply',\n",
       " 'cut',\n",
       " 'mirror',\n",
       " 'speaking',\n",
       " 'home',\n",
       " 'goth',\n",
       " '…',\n",
       " 'academy',\n",
       " 'gayness',\n",
       " 'tried',\n",
       " '10',\n",
       " 'tale',\n",
       " '\\x80',\n",
       " '\\x99',\n",
       " 'rented',\n",
       " 'twist',\n",
       " 'record',\n",
       " 'murderball-immediately',\n",
       " 'robbed',\n",
       " 'favor',\n",
       " 'dislike',\n",
       " 'shittiest',\n",
       " 'clive',\n",
       " 'cussler',\n",
       " 'relic',\n",
       " 'plausible',\n",
       " 'ultimatly',\n",
       " 'seem',\n",
       " 'exaggeration',\n",
       " 'midnight',\n",
       " 'wal-mart',\n",
       " 'kite',\n",
       " 'runner',\n",
       " 'light',\n",
       " 'radio',\n",
       " 'mind',\n",
       " 'slash',\n",
       " 'race',\n",
       " 'disappointed',\n",
       " '#',\n",
       " '8230',\n",
       " 'backtory',\n",
       " 'various',\n",
       " 'historical',\n",
       " 'scifi',\n",
       " 'ian',\n",
       " 'mckellen',\n",
       " 'husband',\n",
       " 'joe',\n",
       " 'bridget',\n",
       " 'jones',\n",
       " 'appeals',\n",
       " 'chick',\n",
       " 'arenas',\n",
       " 'genre',\n",
       " 'explore',\n",
       " 'novels',\n",
       " 'soundtrack',\n",
       " 'pleased',\n",
       " 'open-mindedness',\n",
       " 'enjoyment',\n",
       " 'reads',\n",
       " 'ripping',\n",
       " ...]"
      ]
     },
     "execution_count": 33,
     "metadata": {},
     "output_type": "execute_result"
    }
   ],
   "source": [
    "embed_model.wv.index2word"
   ]
  },
  {
   "cell_type": "code",
   "execution_count": 34,
   "metadata": {
    "ExecuteTime": {
     "end_time": "2018-07-10T17:04:11.187511Z",
     "start_time": "2018-07-10T17:04:11.183966Z"
    }
   },
   "outputs": [
    {
     "name": "stderr",
     "output_type": "stream",
     "text": [
      "<ipython-input-34-51a12bfb6e99>:2: DeprecationWarning: Call to deprecated `most_similar` (Method will be removed in 4.0.0, use self.wv.most_similar() instead).\n",
      "  embed_model.most_similar('horrible')\n"
     ]
    },
    {
     "data": {
      "text/plain": [
       "[('such', 0.9520995616912842),\n",
       " ('ok', 0.8805176019668579),\n",
       " ('fucking', 0.8642287254333496),\n",
       " ('pretty', 0.8005291223526001),\n",
       " ('boring', 0.7800683379173279),\n",
       " ('shitty', 0.762804388999939),\n",
       " ('terrible', 0.7506769895553589),\n",
       " ('omg', 0.7477649450302124),\n",
       " ('actually', 0.7406018376350403),\n",
       " ('film', 0.7383289337158203)]"
      ]
     },
     "execution_count": 34,
     "metadata": {},
     "output_type": "execute_result"
    }
   ],
   "source": [
    "embed_model.save('embed_model.model')\n",
    "embed_model.most_similar('horrible')"
   ]
  },
  {
   "cell_type": "markdown",
   "metadata": {},
   "source": [
    "#### Extract embedding matrix "
   ]
  },
  {
   "cell_type": "code",
   "execution_count": 35,
   "metadata": {},
   "outputs": [],
   "source": [
    "embedding_matrix = embed_model.wv.vectors"
   ]
  },
  {
   "cell_type": "code",
   "execution_count": 36,
   "metadata": {},
   "outputs": [
    {
     "data": {
      "text/plain": [
       "(2001, 128)"
      ]
     },
     "execution_count": 36,
     "metadata": {},
     "output_type": "execute_result"
    }
   ],
   "source": [
    "embedding_matrix.shape"
   ]
  },
  {
   "cell_type": "markdown",
   "metadata": {},
   "source": [
    "- Word2vec 학습 시 padding은 고려하지 않았기 때문에 vocabulary size = 2001\n",
    "- keras의 embedding layer에 입력할 때 padding('0')을 사용하므로 embedding matrix의 첫 행에 padding에 대한 weight를 0으로 추가"
   ]
  },
  {
   "cell_type": "code",
   "execution_count": 37,
   "metadata": {},
   "outputs": [],
   "source": [
    "embedding_matrix = np.append(np.zeros((1,EMBEDDING_SIZE)), embedding_matrix, axis=0)"
   ]
  },
  {
   "cell_type": "code",
   "execution_count": 38,
   "metadata": {
    "scrolled": true
   },
   "outputs": [
    {
     "data": {
      "text/plain": [
       "(2002, 128)"
      ]
     },
     "execution_count": 38,
     "metadata": {},
     "output_type": "execute_result"
    }
   ],
   "source": [
    "embedding_matrix.shape"
   ]
  },
  {
   "cell_type": "markdown",
   "metadata": {},
   "source": [
    "- Prediction model에서 사용하기 위해 embedding matrix를 저장 \n",
    "- 2000개 단어 + \"UNK\"를 128 차원의 dense vector로 mapping 하는 행렬"
   ]
  },
  {
   "cell_type": "markdown",
   "metadata": {},
   "source": [
    "#### Construct input and outputs for prediction models"
   ]
  },
  {
   "cell_type": "code",
   "execution_count": 39,
   "metadata": {},
   "outputs": [],
   "source": [
    "index2word = {i+1: w for i, w in enumerate(embed_model.wv.index2word)} \n",
    "index2word[0] = 'PAD'\n",
    "word2index = {w: i for i, w in index2word.items() }"
   ]
  },
  {
   "cell_type": "code",
   "execution_count": 40,
   "metadata": {
    "ExecuteTime": {
     "end_time": "2018-07-10T17:04:31.526793Z",
     "start_time": "2018-07-10T17:04:31.502991Z"
    }
   },
   "outputs": [],
   "source": [
    "X = np.empty((num_recs, ), dtype=list)\n",
    "y = np.zeros((num_recs, ))\n",
    "i = 0\n",
    "ftrain = open(\"data/umich-sentiment-train.txt\", 'rb')\n",
    "\n",
    "for line in ftrain:\n",
    "    label, sentence = line.decode('utf8').strip().split(\"\\t\")\n",
    "    words = nltk.word_tokenize(sentence.lower())\n",
    "    seqs = []\n",
    "    for word in words:\n",
    "        if word in word2index:\n",
    "            seqs.append(word2index[word])\n",
    "        else:\n",
    "            seqs.append(word2index[\"UNK\"])\n",
    "    X[i] = seqs\n",
    "    y[i] = int(label)\n",
    "    i += 1\n",
    "ftrain.close()\n",
    "X = sequence.pad_sequences(X, maxlen=MAX_SENTENCE_LENGTH)"
   ]
  },
  {
   "cell_type": "code",
   "execution_count": 41,
   "metadata": {},
   "outputs": [
    {
     "data": {
      "text/plain": [
       "(7086, 40)"
      ]
     },
     "execution_count": 41,
     "metadata": {},
     "output_type": "execute_result"
    }
   ],
   "source": [
    "X.shape"
   ]
  },
  {
   "cell_type": "markdown",
   "metadata": {},
   "source": [
    "- Keras를 사용한 prediction model의 첫 layer에 Embedding layer를 사용하므로 embedding layer의 input data 형태인 단어의 index로 구성된 list로 데이터 변환 \n"
   ]
  },
  {
   "cell_type": "markdown",
   "metadata": {},
   "source": [
    "#### Building and fitting a model "
   ]
  },
  {
   "cell_type": "code",
   "execution_count": 42,
   "metadata": {},
   "outputs": [],
   "source": [
    "BATCH_SIZE = 512\n",
    "NUM_EPOCHS = 100\n",
    "EMBEDDING_SIZE = 128"
   ]
  },
  {
   "cell_type": "markdown",
   "metadata": {},
   "source": []
  },
  {
   "cell_type": "code",
   "execution_count": 43,
   "metadata": {},
   "outputs": [
    {
     "name": "stdout",
     "output_type": "stream",
     "text": [
      "Model: \"sequential_3\"\n",
      "_________________________________________________________________\n",
      "Layer (type)                 Output Shape              Param #   \n",
      "=================================================================\n",
      "embedding_3 (Embedding)      (None, 40, 128)           256256    \n",
      "_________________________________________________________________\n",
      "lstm_2 (LSTM)                (None, 32)                20608     \n",
      "_________________________________________________________________\n",
      "dense_2 (Dense)              (None, 1)                 33        \n",
      "=================================================================\n",
      "Total params: 276,897\n",
      "Trainable params: 20,641\n",
      "Non-trainable params: 256,256\n",
      "_________________________________________________________________\n"
     ]
    }
   ],
   "source": [
    "model = Sequential()\n",
    "model.add(Embedding(vocab_size, EMBEDDING_SIZE, input_length = MAX_SENTENCE_LENGTH, mask_zero = True,\n",
    "                    weights = [embedding_matrix], trainable = False)) \n",
    "\n",
    "model.add(LSTM(32, recurrent_dropout = 0.2, return_sequences = False, activation = 'relu'))\n",
    "model.add(Dense(1, activation = \"sigmoid\"))\n",
    "model.compile(loss=\"binary_crossentropy\", optimizer=\"adam\", metrics=[\"acc\"])\n",
    "model.summary()"
   ]
  },
  {
   "cell_type": "markdown",
   "metadata": {},
   "source": [
    "- Embedding layer의 옵션\n",
    "\n",
    "    - `weights = [embedding_matrix]`: 사전에 학습된 embedding matrix을 사용\n",
    "    - `trainable = False`: embedding layer의 weight를 학습시키지 않고 주어진 embedding matrix 값으로 고정 \n",
    "    - `mask_zero` : 어디가 패딩한 부분이고, 어디가 의미가 존재하는지를 알려줌<br> https://wiserloner.tistory.com/1061"
   ]
  },
  {
   "cell_type": "code",
   "execution_count": 44,
   "metadata": {},
   "outputs": [
    {
     "name": "stdout",
     "output_type": "stream",
     "text": [
      "Train on 5668 samples, validate on 1418 samples\n",
      "Epoch 1/100\n",
      "2048/5668 [=========>....................] - ETA: 1s - loss: 0.6908 - acc: 0.5376"
     ]
    },
    {
     "name": "stderr",
     "output_type": "stream",
     "text": [
      "C:\\Users\\028\\anaconda3\\lib\\site-packages\\keras\\callbacks\\callbacks.py:92: RuntimeWarning: Method (on_train_batch_end) is slow compared to the batch update (0.208071). Check your callbacks.\n",
      "  warnings.warn(\n"
     ]
    },
    {
     "name": "stdout",
     "output_type": "stream",
     "text": [
      "5668/5668 [==============================] - 2s 312us/step - loss: 0.6674 - acc: 0.5868 - val_loss: 0.6315 - val_acc: 0.6700\n",
      "Epoch 2/100\n",
      "5668/5668 [==============================] - 1s 151us/step - loss: 0.5964 - acc: 0.7085 - val_loss: 0.5398 - val_acc: 0.7447\n",
      "Epoch 3/100\n",
      "5668/5668 [==============================] - 1s 164us/step - loss: 0.5096 - acc: 0.7685 - val_loss: 0.4452 - val_acc: 0.7849\n",
      "Epoch 4/100\n",
      "5668/5668 [==============================] - 1s 148us/step - loss: 0.4284 - acc: 0.8065 - val_loss: 0.3621 - val_acc: 0.8702\n",
      "Epoch 5/100\n",
      "5668/5668 [==============================] - 1s 157us/step - loss: 0.3552 - acc: 0.8649 - val_loss: 0.2968 - val_acc: 0.9006\n",
      "Epoch 6/100\n",
      "5668/5668 [==============================] - 1s 144us/step - loss: 0.2970 - acc: 0.8867 - val_loss: 0.2372 - val_acc: 0.9055\n",
      "Epoch 7/100\n",
      "5668/5668 [==============================] - 1s 145us/step - loss: 0.2564 - acc: 0.9056 - val_loss: 0.2060 - val_acc: 0.9090\n",
      "Epoch 8/100\n",
      "5668/5668 [==============================] - 1s 143us/step - loss: 0.2225 - acc: 0.9185 - val_loss: 0.1754 - val_acc: 0.9295\n",
      "Epoch 9/100\n",
      "5668/5668 [==============================] - 1s 155us/step - loss: 0.1963 - acc: 0.9289 - val_loss: 0.1543 - val_acc: 0.9520\n",
      "Epoch 10/100\n",
      "5668/5668 [==============================] - 1s 147us/step - loss: 0.1723 - acc: 0.9439 - val_loss: 0.1352 - val_acc: 0.9570\n",
      "Epoch 11/100\n",
      "5668/5668 [==============================] - 1s 145us/step - loss: 0.1562 - acc: 0.9465 - val_loss: 0.1287 - val_acc: 0.9549\n",
      "Epoch 12/100\n",
      "5668/5668 [==============================] - 1s 149us/step - loss: 0.1420 - acc: 0.9497 - val_loss: 0.1159 - val_acc: 0.9584\n",
      "Epoch 13/100\n",
      "5668/5668 [==============================] - 1s 151us/step - loss: 0.1421 - acc: 0.9499 - val_loss: 0.1163 - val_acc: 0.9591\n",
      "Epoch 14/100\n",
      "5668/5668 [==============================] - 1s 150us/step - loss: 0.1326 - acc: 0.9580 - val_loss: 0.1103 - val_acc: 0.9584\n",
      "Epoch 15/100\n",
      "5668/5668 [==============================] - 1s 147us/step - loss: 0.1248 - acc: 0.9570 - val_loss: 0.1031 - val_acc: 0.9605\n",
      "Epoch 16/100\n",
      "5668/5668 [==============================] - 1s 142us/step - loss: 0.1237 - acc: 0.9550 - val_loss: 0.0990 - val_acc: 0.9591\n",
      "Epoch 17/100\n",
      "5668/5668 [==============================] - 1s 145us/step - loss: 0.1117 - acc: 0.9598 - val_loss: 0.0964 - val_acc: 0.9619\n",
      "Epoch 18/100\n",
      "5668/5668 [==============================] - 1s 144us/step - loss: 0.1083 - acc: 0.9617 - val_loss: 0.0907 - val_acc: 0.9626\n",
      "Epoch 19/100\n",
      "5668/5668 [==============================] - 1s 148us/step - loss: 0.1082 - acc: 0.9621 - val_loss: 0.0889 - val_acc: 0.9654\n",
      "Epoch 20/100\n",
      "5668/5668 [==============================] - 1s 144us/step - loss: 0.1014 - acc: 0.9592 - val_loss: 0.0837 - val_acc: 0.9661\n",
      "Epoch 21/100\n",
      "5668/5668 [==============================] - 1s 157us/step - loss: 0.1017 - acc: 0.9635 - val_loss: 0.0822 - val_acc: 0.9661\n",
      "Epoch 22/100\n",
      "5668/5668 [==============================] - 1s 155us/step - loss: 0.0994 - acc: 0.9629 - val_loss: 0.0792 - val_acc: 0.9676\n",
      "Epoch 23/100\n",
      "5668/5668 [==============================] - 1s 142us/step - loss: 0.0948 - acc: 0.9629 - val_loss: 0.0777 - val_acc: 0.9676\n",
      "Epoch 24/100\n",
      "5668/5668 [==============================] - 1s 144us/step - loss: 0.0932 - acc: 0.9631 - val_loss: 0.0759 - val_acc: 0.9690\n",
      "Epoch 25/100\n",
      "5668/5668 [==============================] - 1s 147us/step - loss: 0.0914 - acc: 0.9659 - val_loss: 0.0762 - val_acc: 0.9669\n",
      "Epoch 26/100\n",
      "5668/5668 [==============================] - 1s 150us/step - loss: 0.0856 - acc: 0.9659 - val_loss: 0.0720 - val_acc: 0.9697\n",
      "Epoch 27/100\n",
      "5668/5668 [==============================] - 1s 145us/step - loss: 0.0840 - acc: 0.9677 - val_loss: 0.0701 - val_acc: 0.9704\n",
      "Epoch 28/100\n",
      "5668/5668 [==============================] - 1s 147us/step - loss: 0.0821 - acc: 0.9681 - val_loss: 0.0683 - val_acc: 0.9697\n",
      "Epoch 29/100\n",
      "5668/5668 [==============================] - 1s 141us/step - loss: 0.0802 - acc: 0.9682 - val_loss: 0.0694 - val_acc: 0.9711\n",
      "Epoch 30/100\n",
      "5668/5668 [==============================] - 1s 147us/step - loss: 0.0813 - acc: 0.9674 - val_loss: 0.0667 - val_acc: 0.9704\n",
      "Epoch 31/100\n",
      "5668/5668 [==============================] - 1s 146us/step - loss: 0.0745 - acc: 0.9709 - val_loss: 0.0651 - val_acc: 0.9725\n",
      "Epoch 32/100\n",
      "5668/5668 [==============================] - 1s 142us/step - loss: 0.0766 - acc: 0.9689 - val_loss: 0.0625 - val_acc: 0.9725\n",
      "Epoch 33/100\n",
      "5668/5668 [==============================] - 1s 147us/step - loss: 0.0735 - acc: 0.9723 - val_loss: 0.0672 - val_acc: 0.9746\n",
      "Epoch 34/100\n",
      "5668/5668 [==============================] - 1s 149us/step - loss: 0.0774 - acc: 0.9700 - val_loss: 0.0604 - val_acc: 0.9753\n",
      "Epoch 35/100\n",
      "5668/5668 [==============================] - 1s 162us/step - loss: 0.0724 - acc: 0.9697 - val_loss: 0.0598 - val_acc: 0.9725\n",
      "Epoch 36/100\n",
      "5668/5668 [==============================] - 1s 154us/step - loss: 0.0723 - acc: 0.9712 - val_loss: 0.0589 - val_acc: 0.9753\n",
      "Epoch 37/100\n",
      "5668/5668 [==============================] - 1s 152us/step - loss: 0.0671 - acc: 0.9732 - val_loss: 0.0603 - val_acc: 0.9760\n",
      "Epoch 38/100\n",
      "5668/5668 [==============================] - 1s 142us/step - loss: 0.0661 - acc: 0.9728 - val_loss: 0.0561 - val_acc: 0.9732\n",
      "Epoch 39/100\n",
      "5668/5668 [==============================] - 1s 153us/step - loss: 0.0646 - acc: 0.9746 - val_loss: 0.0561 - val_acc: 0.9774\n",
      "Epoch 40/100\n",
      "5668/5668 [==============================] - 1s 142us/step - loss: 0.0625 - acc: 0.9755 - val_loss: 0.0533 - val_acc: 0.9774\n",
      "Epoch 41/100\n",
      "5668/5668 [==============================] - 1s 152us/step - loss: 0.0605 - acc: 0.9764 - val_loss: 0.0529 - val_acc: 0.9753\n",
      "Epoch 42/100\n",
      "5668/5668 [==============================] - 1s 144us/step - loss: 0.0611 - acc: 0.9758 - val_loss: 0.0529 - val_acc: 0.9753\n",
      "Epoch 43/100\n",
      "5668/5668 [==============================] - 1s 146us/step - loss: 0.0601 - acc: 0.9751 - val_loss: 0.0523 - val_acc: 0.9781\n",
      "Epoch 44/100\n",
      "5668/5668 [==============================] - 1s 144us/step - loss: 0.0588 - acc: 0.9765 - val_loss: 0.0499 - val_acc: 0.9767\n",
      "Epoch 45/100\n",
      "5668/5668 [==============================] - 1s 151us/step - loss: 0.0640 - acc: 0.9764 - val_loss: 0.0537 - val_acc: 0.9739\n",
      "Epoch 46/100\n",
      "5668/5668 [==============================] - 1s 144us/step - loss: 0.0607 - acc: 0.9779 - val_loss: 0.0560 - val_acc: 0.9746\n",
      "Epoch 47/100\n",
      "5668/5668 [==============================] - 1s 144us/step - loss: 0.0580 - acc: 0.9772 - val_loss: 0.0513 - val_acc: 0.9767\n"
     ]
    },
    {
     "data": {
      "text/plain": [
       "<keras.callbacks.callbacks.History at 0x28c131ac9a0>"
      ]
     },
     "execution_count": 44,
     "metadata": {},
     "output_type": "execute_result"
    }
   ],
   "source": [
    "#now = time.strftime(\"%c\")\n",
    "now = time.strftime('%Y-%m-%d', time.localtime(time.time()))\n",
    "callbacks_list = [\n",
    "    ModelCheckpoint(filepath='logs/sentiment_analysis_w2v.h5', monitor='val_loss', save_best_only=True),\n",
    "    TensorBoard(log_dir='logs/sentiment_analysis_w2v/'+now),\n",
    "    EarlyStopping(monitor='val_loss',patience=3)\n",
    "]\n",
    "model.fit(Xtrain, ytrain, batch_size=BATCH_SIZE, epochs=NUM_EPOCHS, validation_data=(Xtest, ytest), callbacks=callbacks_list)"
   ]
  },
  {
   "cell_type": "code",
   "execution_count": 45,
   "metadata": {},
   "outputs": [
    {
     "name": "stdout",
     "output_type": "stream",
     "text": [
      "1418/1418 [==============================] - 0s 62us/step\n",
      "Test loss: 0.051, accuracy: 0.977\n"
     ]
    }
   ],
   "source": [
    "loss_test, acc_test = model.evaluate(Xtest, ytest, batch_size=BATCH_SIZE)\n",
    "print(\"Test loss: %.3f, accuracy: %.3f\" % (loss_test, acc_test))"
   ]
  },
  {
   "cell_type": "markdown",
   "metadata": {},
   "source": [
    "#### Prediction for test sentences"
   ]
  },
  {
   "cell_type": "code",
   "execution_count": 55,
   "metadata": {},
   "outputs": [
    {
     "name": "stdout",
     "output_type": "stream",
     "text": [
      "1\t1\t, is vinci ... the\n",
      "1\t1\t, want movie be here sucks , is vinci ... . ! , movies want was place where people take to serious . but to a still as of fun the\n",
      "1\t1\t, is impossible awesome . to because it and only action that , it . plus tom cruise a in to the\n",
      "1\t1\t, . too . it vinci potter..\n",
      "0\t0\tbrokeback da mountain hate the\n"
     ]
    }
   ],
   "source": [
    "for i in range(5):\n",
    "    idx = np.random.randint(len(Xtest))\n",
    "    xtest = Xtest[idx].reshape(1,40)\n",
    "    ylabel = ytest[idx]\n",
    "    ypred = model.predict(xtest)[0][0]\n",
    "    \n",
    "    sent = \" \".join([index2word[x] for x in xtest[0].tolist() if x != 0])\n",
    "    print(\"%.0f\\t%d\\t%s\" % (ypred, ylabel, sent))"
   ]
  },
  {
   "cell_type": "markdown",
   "metadata": {},
   "source": [
    "#### Visualize word embedding using t-SNE"
   ]
  },
  {
   "cell_type": "markdown",
   "metadata": {},
   "source": [
    "- Embedding 결과 단어 간의 의미 상 거리를 보존하는지 2차원 평면에서 확인 \n",
    "- t-SNE를 통해 `EMBEDDING_SIZE` 차원의 행렬을 2차원으로 표현 "
   ]
  },
  {
   "cell_type": "code",
   "execution_count": 46,
   "metadata": {},
   "outputs": [],
   "source": [
    "from sklearn.manifold import TSNE\n",
    "#from sklearn.decomposition import PCA\n",
    "from matplotlib import pyplot as plt\n",
    "\n",
    "model = TSNE(learning_rate=100)\n",
    "transformed = model.fit_transform(embedding_matrix)"
   ]
  },
  {
   "cell_type": "code",
   "execution_count": 47,
   "metadata": {},
   "outputs": [
    {
     "data": {
      "image/png": "[encoded data removed]",
      "text/plain": [
       "<Figure size 720x720 with 1 Axes>"
      ]
     },
     "metadata": {
      "needs_background": "light"
     },
     "output_type": "display_data"
    }
   ],
   "source": [
    "TOPN=100\n",
    "\n",
    "fig = plt.figure(figsize=(10,10))\n",
    "plt.scatter(transformed[:TOPN, 0], transformed[:TOPN, 1])\n",
    "\n",
    "words = list(index2word.values())[:TOPN]\n",
    "for i, word in enumerate(words):\n",
    "    plt.annotate(word, xy=(transformed[i, 0], transformed[i, 1]))\n",
    "plt.show()"
   ]
  },
  {
   "cell_type": "code",
   "execution_count": null,
   "metadata": {},
   "outputs": [],
   "source": []
  }
 ],
 "metadata": {
  "kernelspec": {
   "display_name": "Python 3",
   "language": "python",
   "name": "python3"
  },
  "language_info": {
   "codemirror_mode": {
    "name": "ipython",
    "version": 3
   },
   "file_extension": ".py",
   "mimetype": "text/x-python",
   "name": "python",
   "nbconvert_exporter": "python",
   "pygments_lexer": "ipython3",
   "version": "3.8.5"
  }
 },
 "nbformat": 4,
 "nbformat_minor": 4
}
