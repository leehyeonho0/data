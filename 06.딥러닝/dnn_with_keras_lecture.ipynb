{
 "cells": [
  {
   "cell_type": "code",
   "execution_count": null,
   "metadata": {},
   "outputs": [],
   "source": [
    "#!pip install tensorflow==2.2.0\n",
    "#!pip install keras==2.3.1"
   ]
  },
  {
   "cell_type": "code",
   "execution_count": 1,
   "metadata": {},
   "outputs": [
    {
     "name": "stderr",
     "output_type": "stream",
     "text": [
      "Using TensorFlow backend.\n"
     ]
    }
   ],
   "source": [
    "import numpy as np\n",
    "import tensorflow as tf\n",
    "import random as rn\n",
    "import keras, sklearn\n",
    "import matplotlib.pyplot as plt\n",
    "from keras.datasets import mnist\n",
    "from keras.models import Sequential\n",
    "from keras.layers.core import Dense, Activation\n",
    "from keras.optimizers import SGD\n",
    "from keras.utils import np_utils"
   ]
  },
  {
   "cell_type": "code",
   "execution_count": 2,
   "metadata": {},
   "outputs": [
    {
     "name": "stdout",
     "output_type": "stream",
     "text": [
      "2.2.0\n"
     ]
    }
   ],
   "source": [
    "print(tf.__version__)"
   ]
  },
  {
   "cell_type": "code",
   "execution_count": 3,
   "metadata": {},
   "outputs": [
    {
     "name": "stdout",
     "output_type": "stream",
     "text": [
      "2.3.1\n"
     ]
    }
   ],
   "source": [
    "print(keras.__version__)"
   ]
  },
  {
   "cell_type": "markdown",
   "metadata": {},
   "source": [
    "\n",
    "### 신경망 구축 방법\n",
    "\"\"\" <br>\n",
    "단계 1: 데이터 로드 및 처리 <br>\n",
    "단계 2: 모델과 아키텍처를 정의 <br>\n",
    "단계 3: 최적화 도구 및 함수 선택 <br>\n",
    "단계 4: 모델 학습 <br>\n",
    "단계 5: 모델 성능 평가 <br>\n",
    "단계 6: 성능 최적화 <br>\n",
    "\"\"\""
   ]
  },
  {
   "cell_type": "markdown",
   "metadata": {},
   "source": [
    "\n",
    "### A real example — recognizing handwritten digits(손글씨) \n",
    "\"\"\" <br>\n",
    "우리는 손으로 쓴 숫자를 인식할 수 있는 네트워크를 구축할 것이다.\n",
    "이 목표를 달성하기 위해, 우리는 60,000개의 예와 10,000개의 예제의 훈련 세트로 구성된 손으로 쓴 숫자의 데이터베이스인 MNIST를 사용한다.\n",
    "교육 예에는 정답이 적힌 주석이 달려 있다.\n",
    "예를 들어 손으로 쓴 숫자가 숫자 3이면 숫자 3은 해당 예제와 연관된 레이블일 뿐입니다.\n",
    "각 MNIST 영상은 그레이 스케일로 구성되며 28 x 28픽셀로 구성됩니다.\n",
    "다음 다이어그램에는 이러한 숫자들이 나와 있습니다. <br>\n",
    "\"\"\""
   ]
  },
  {
   "cell_type": "markdown",
   "metadata": {},
   "source": [
    "\"\"\"\n",
    "아래 6개의 서로 다른 신경망을 구축하고 그 성능을 비교합니다. <br>\n",
    "\n",
    "Case #1: Defining a simple neural net in Keras <br>\n",
    "Case #2: Improving the simple net in Keras with hidden layers <br>\n",
    "Case #3: Further improving the simple net in Keras with dropout <br>\n",
    "Case #4: Testing different optimizers in Keras <br>\n",
    "Case #5: Adopting regularization for avoiding overfitting <br>\n",
    "Case #6: Optimizing hyperparameters with Keras-scikit-wrapper <br>\n",
    "\"\"\""
   ]
  },
  {
   "cell_type": "markdown",
   "metadata": {},
   "source": [
    "## Case #1: Defining a simple neural net in Keras"
   ]
  },
  {
   "cell_type": "markdown",
   "metadata": {},
   "source": [
    "### Step 1: Load and Process the Data"
   ]
  },
  {
   "cell_type": "code",
   "execution_count": 5,
   "metadata": {},
   "outputs": [
    {
     "name": "stdout",
     "output_type": "stream",
     "text": [
      "Downloading data from https://s3.amazonaws.com/img-datasets/mnist.npz\n",
      "11493376/11490434 [==============================] - 7s 1us/step\n",
      "60000 train samples\n",
      "10000 test samples\n"
     ]
    }
   ],
   "source": [
    "# mnist 이미지 데이터\n",
    "(X_train, y_train), (X_test, y_test) = mnist.load_data()\n",
    "#X_train is 60000 rows of 28x28 values --> reshaped in 60000 x 784\n",
    "RESHAPED = 784 # 전체 픽셀 갯수\n",
    "\n",
    "X_train = X_train.reshape(60000, RESHAPED) # 학습이미지 6만개\n",
    "X_test = X_test.reshape(10000, RESHAPED) # 평가이미지 만개\n",
    "X_train = X_train.astype('float32')\n",
    "X_test = X_test.astype('float32')\n",
    "\n",
    "# 한 픽셀 값은 0~255로 표현된다. 0은 흰색, 255는 검은색\n",
    "\n",
    "# normalize\n",
    "X_train /= 255 \n",
    "X_test /= 255\n",
    "print(X_train.shape[0], 'train samples')\n",
    "print(X_test.shape[0], 'test samples')\n",
    "\n",
    "# convert class vectors to binary class matrices\n",
    "# 뉴럴넷은 입력데이터에 대한 스케일 조정이 필요\n",
    "# to_categorical : 찾을 값이 0~9까지이므로 10개로 원핫 인코딩을 한다.\n",
    "Y_train = np_utils.to_categorical(y_train, 10)\n",
    "Y_test = np_utils.to_categorical(y_test, 10)"
   ]
  },
  {
   "cell_type": "markdown",
   "metadata": {},
   "source": [
    "### Step 2: Define the Model & its Architecture"
   ]
  },
  {
   "cell_type": "code",
   "execution_count": 6,
   "metadata": {},
   "outputs": [
    {
     "name": "stdout",
     "output_type": "stream",
     "text": [
      "Model: \"sequential_1\"\n",
      "_________________________________________________________________\n",
      "Layer (type)                 Output Shape              Param #   \n",
      "=================================================================\n",
      "dense_1 (Dense)              (None, 10)                7850      \n",
      "_________________________________________________________________\n",
      "activation_1 (Activation)    (None, 10)                0         \n",
      "=================================================================\n",
      "Total params: 7,850\n",
      "Trainable params: 7,850\n",
      "Non-trainable params: 0\n",
      "_________________________________________________________________\n"
     ]
    }
   ],
   "source": [
    "# 10 outputs\n",
    "# final stage is softmax\n",
    "model = Sequential()\n",
    "\n",
    "# Dense : 입력모드가 784(RESHAPED), 첫번째 히든레이어는 10개로 연결하라\n",
    "model.add(Dense(10, input_shape=(RESHAPED,))) \n",
    "model.add(Activation('softmax'))\n",
    "\n",
    "model.summary() # 종합한것을 본다.  \n",
    "# Param 이 weight 이다. 7850개를 학습시키면 된다."
   ]
  },
  {
   "cell_type": "markdown",
   "metadata": {},
   "source": [
    "### Step 3: Choose the Optimizer and the Cost function"
   ]
  },
  {
   "cell_type": "code",
   "execution_count": 7,
   "metadata": {},
   "outputs": [],
   "source": [
    "# optimizer : SGD 는 최적의 방법을 찾는 것\n",
    "model.compile(loss='categorical_crossentropy', optimizer=SGD(), metrics=['accuracy'])"
   ]
  },
  {
   "cell_type": "markdown",
   "metadata": {},
   "source": [
    "### Step 4: Train the Model"
   ]
  },
  {
   "cell_type": "code",
   "execution_count": 8,
   "metadata": {},
   "outputs": [
    {
     "name": "stdout",
     "output_type": "stream",
     "text": [
      "Train on 48000 samples, validate on 12000 samples\n",
      "Epoch 1/30\n",
      "48000/48000 [==============================] - 1s 11us/step - loss: 1.3622 - accuracy: 0.6811 - val_loss: 0.8830 - val_accuracy: 0.8319\n",
      "Epoch 2/30\n",
      "48000/48000 [==============================] - 0s 10us/step - loss: 0.7898 - accuracy: 0.8275 - val_loss: 0.6524 - val_accuracy: 0.8603\n",
      "Epoch 3/30\n",
      "48000/48000 [==============================] - 0s 9us/step - loss: 0.6421 - accuracy: 0.8503 - val_loss: 0.5582 - val_accuracy: 0.8733\n",
      "Epoch 4/30\n",
      "48000/48000 [==============================] - 0s 9us/step - loss: 0.5702 - accuracy: 0.8615 - val_loss: 0.5060 - val_accuracy: 0.8793\n",
      "Epoch 5/30\n",
      "48000/48000 [==============================] - 0s 9us/step - loss: 0.5263 - accuracy: 0.8678 - val_loss: 0.4724 - val_accuracy: 0.8843\n",
      "Epoch 6/30\n",
      "48000/48000 [==============================] - 0s 9us/step - loss: 0.4961 - accuracy: 0.8733 - val_loss: 0.4486 - val_accuracy: 0.8870\n",
      "Epoch 7/30\n",
      "48000/48000 [==============================] - 0s 9us/step - loss: 0.4738 - accuracy: 0.8773 - val_loss: 0.4306 - val_accuracy: 0.8911\n",
      "Epoch 8/30\n",
      "48000/48000 [==============================] - 0s 9us/step - loss: 0.4564 - accuracy: 0.8803 - val_loss: 0.4166 - val_accuracy: 0.8938\n",
      "Epoch 9/30\n",
      "48000/48000 [==============================] - 0s 9us/step - loss: 0.4424 - accuracy: 0.8832 - val_loss: 0.4052 - val_accuracy: 0.8950\n",
      "Epoch 10/30\n",
      "48000/48000 [==============================] - 0s 9us/step - loss: 0.4308 - accuracy: 0.8856 - val_loss: 0.3958 - val_accuracy: 0.8972\n",
      "Epoch 11/30\n",
      "48000/48000 [==============================] - 0s 9us/step - loss: 0.4211 - accuracy: 0.8875 - val_loss: 0.3878 - val_accuracy: 0.8979\n",
      "Epoch 12/30\n",
      "48000/48000 [==============================] - 0s 9us/step - loss: 0.4127 - accuracy: 0.8891 - val_loss: 0.3810 - val_accuracy: 0.8992\n",
      "Epoch 13/30\n",
      "48000/48000 [==============================] - 0s 9us/step - loss: 0.4054 - accuracy: 0.8906 - val_loss: 0.3749 - val_accuracy: 0.9015\n",
      "Epoch 14/30\n",
      "48000/48000 [==============================] - 0s 9us/step - loss: 0.3989 - accuracy: 0.8919 - val_loss: 0.3699 - val_accuracy: 0.9011\n",
      "Epoch 15/30\n",
      "48000/48000 [==============================] - 0s 9us/step - loss: 0.3931 - accuracy: 0.8927 - val_loss: 0.3651 - val_accuracy: 0.9023\n",
      "Epoch 16/30\n",
      "48000/48000 [==============================] - 0s 9us/step - loss: 0.3880 - accuracy: 0.8938 - val_loss: 0.3609 - val_accuracy: 0.9032\n",
      "Epoch 17/30\n",
      "48000/48000 [==============================] - 0s 9us/step - loss: 0.3833 - accuracy: 0.8951 - val_loss: 0.3571 - val_accuracy: 0.9043\n",
      "Epoch 18/30\n",
      "48000/48000 [==============================] - 0s 9us/step - loss: 0.3790 - accuracy: 0.8956 - val_loss: 0.3537 - val_accuracy: 0.9049\n",
      "Epoch 19/30\n",
      "48000/48000 [==============================] - 0s 9us/step - loss: 0.3751 - accuracy: 0.8970 - val_loss: 0.3504 - val_accuracy: 0.9047\n",
      "Epoch 20/30\n",
      "48000/48000 [==============================] - 0s 9us/step - loss: 0.3715 - accuracy: 0.8974 - val_loss: 0.3476 - val_accuracy: 0.9059\n",
      "Epoch 21/30\n",
      "48000/48000 [==============================] - 0s 9us/step - loss: 0.3682 - accuracy: 0.8984 - val_loss: 0.3448 - val_accuracy: 0.9066\n",
      "Epoch 22/30\n",
      "48000/48000 [==============================] - 0s 9us/step - loss: 0.3651 - accuracy: 0.8987 - val_loss: 0.3423 - val_accuracy: 0.9072\n",
      "Epoch 23/30\n",
      "48000/48000 [==============================] - 0s 9us/step - loss: 0.3622 - accuracy: 0.8992 - val_loss: 0.3400 - val_accuracy: 0.9079\n",
      "Epoch 24/30\n",
      "48000/48000 [==============================] - 0s 9us/step - loss: 0.3595 - accuracy: 0.9003 - val_loss: 0.3380 - val_accuracy: 0.9087\n",
      "Epoch 25/30\n",
      "48000/48000 [==============================] - 0s 9us/step - loss: 0.3570 - accuracy: 0.9005 - val_loss: 0.3357 - val_accuracy: 0.9088\n",
      "Epoch 26/30\n",
      "48000/48000 [==============================] - 0s 9us/step - loss: 0.3546 - accuracy: 0.9016 - val_loss: 0.3340 - val_accuracy: 0.9090\n",
      "Epoch 27/30\n",
      "48000/48000 [==============================] - 0s 9us/step - loss: 0.3524 - accuracy: 0.9021 - val_loss: 0.3321 - val_accuracy: 0.9097\n",
      "Epoch 28/30\n",
      "48000/48000 [==============================] - 0s 9us/step - loss: 0.3503 - accuracy: 0.9024 - val_loss: 0.3305 - val_accuracy: 0.9097\n",
      "Epoch 29/30\n",
      "48000/48000 [==============================] - 0s 9us/step - loss: 0.3483 - accuracy: 0.9031 - val_loss: 0.3288 - val_accuracy: 0.9096\n",
      "Epoch 30/30\n",
      "48000/48000 [==============================] - 0s 9us/step - loss: 0.3464 - accuracy: 0.9036 - val_loss: 0.3272 - val_accuracy: 0.9107\n",
      "Wall time: 13.5 s\n"
     ]
    }
   ],
   "source": [
    "%%time\n",
    "# validation_split 0.2 : 80은 학습하고 20%는 평가를 위해 남겨 두겠다\n",
    "# verbose : 중간 중간의 과정을 찍을 것인지 말것인지, 얼마나 자세하게 정보를 표시할 것인가를 지정. (0, 1, 2)\n",
    "history = model.fit(X_train, Y_train, batch_size=128, epochs=30, verbose=1, \n",
    "                    validation_split=0.2)\n",
    "# history변수에 저장한 것은 나중에 체크해보기 위함."
   ]
  },
  {
   "cell_type": "code",
   "execution_count": 9,
   "metadata": {},
   "outputs": [
    {
     "data": {
      "image/png": "[encoded data removed]",
      "text/plain": [
       "<Figure size 432x288 with 1 Axes>"
      ]
     },
     "metadata": {
      "needs_background": "light"
     },
     "output_type": "display_data"
    }
   ],
   "source": [
    "plt.plot(history.history[\"loss\"], label=\"train loss\")\n",
    "plt.plot(history.history[\"val_loss\"], label=\"validation loss\")\n",
    "plt.legend()\n",
    "plt.title(\"Loss\")\n",
    "plt.show()"
   ]
  },
  {
   "cell_type": "markdown",
   "metadata": {},
   "source": [
    "### Step 5: Evaluate the Model performance"
   ]
  },
  {
   "cell_type": "code",
   "execution_count": 10,
   "metadata": {},
   "outputs": [
    {
     "name": "stdout",
     "output_type": "stream",
     "text": [
      "10000/10000 [==============================] - 0s 12us/step\n",
      "Test score: 0.3260914154827595\n",
      "Test accuracy: 0.9104999899864197\n"
     ]
    }
   ],
   "source": [
    "# evaluate : 전체\n",
    "# 케라스는 pridict 하면 확률을 출력한다.\n",
    "score = model.evaluate(X_test, Y_test, verbose=1)\n",
    "print(\"Test score:\", score[0])\n",
    "print('Test accuracy:', score[1])"
   ]
  },
  {
   "cell_type": "markdown",
   "metadata": {},
   "source": [
    "##### Save & Load the Model"
   ]
  },
  {
   "cell_type": "code",
   "execution_count": 11,
   "metadata": {},
   "outputs": [],
   "source": [
    "from keras.models import load_model"
   ]
  },
  {
   "cell_type": "code",
   "execution_count": 12,
   "metadata": {},
   "outputs": [
    {
     "name": "stdout",
     "output_type": "stream",
     "text": [
      " D 드라이브의 볼륨에는 이름이 없습니다.\n",
      " 볼륨 일련 번호: C64D-C287\n",
      "\n",
      " D:\\빅데이터분석전문가\\강의자료\\딥러닝 디렉터리\n",
      "\n",
      "2021-03-16  오후 03:11    <DIR>          .\n",
      "2021-03-16  오후 03:11    <DIR>          ..\n",
      "2021-03-16  오후 12:09    <DIR>          .ipynb_checkpoints\n",
      "2021-03-16  오후 12:07           458,560 dnn_with_keras_lecture.html\n",
      "2021-03-16  오후 02:51            31,290 dnn_with_keras_lecture.ipynb\n",
      "2021-03-16  오후 03:11            78,480 mnist_dnn_01.h5\n",
      "2021-03-16  오후 12:02         3,494,613 Neural_Networks_with_Keras.pdf\n",
      "2021-03-16  오후 02:28        14,871,096 VC_redist.x64.exe\n",
      "               5개 파일          18,934,039 바이트\n",
      "               3개 디렉터리  137,431,891,968 바이트 남음\n"
     ]
    }
   ],
   "source": [
    "# 모델 저장\n",
    "model.save('mnist_dnn_01.h5')\n",
    "%ls"
   ]
  },
  {
   "cell_type": "code",
   "execution_count": 13,
   "metadata": {},
   "outputs": [],
   "source": [
    "# 모델 로딩\n",
    "model2 = load_model('mnist_dnn_01.h5')"
   ]
  },
  {
   "cell_type": "code",
   "execution_count": null,
   "metadata": {},
   "outputs": [],
   "source": []
  },
  {
   "cell_type": "markdown",
   "metadata": {},
   "source": [
    "## Case #2: Improving the simple net in Keras with hidden layers"
   ]
  },
  {
   "cell_type": "markdown",
   "metadata": {},
   "source": [
    "### Step 2: Define the Model & its Architecture"
   ]
  },
  {
   "cell_type": "code",
   "execution_count": 14,
   "metadata": {},
   "outputs": [
    {
     "name": "stdout",
     "output_type": "stream",
     "text": [
      "Model: \"sequential_2\"\n",
      "_________________________________________________________________\n",
      "Layer (type)                 Output Shape              Param #   \n",
      "=================================================================\n",
      "dense_2 (Dense)              (None, 32)                25120     \n",
      "_________________________________________________________________\n",
      "activation_2 (Activation)    (None, 32)                0         \n",
      "_________________________________________________________________\n",
      "dense_3 (Dense)              (None, 32)                1056      \n",
      "_________________________________________________________________\n",
      "dense_4 (Dense)              (None, 32)                1056      \n",
      "_________________________________________________________________\n",
      "activation_3 (Activation)    (None, 32)                0         \n",
      "_________________________________________________________________\n",
      "dense_5 (Dense)              (None, 10)                330       \n",
      "_________________________________________________________________\n",
      "activation_4 (Activation)    (None, 10)                0         \n",
      "=================================================================\n",
      "Total params: 27,562\n",
      "Trainable params: 27,562\n",
      "Non-trainable params: 0\n",
      "_________________________________________________________________\n"
     ]
    }
   ],
   "source": [
    "model = Sequential()\n",
    "\n",
    "# 첫번째 층\n",
    "model.add(Dense(32, input_shape=(RESHAPED,)))\n",
    "model.add(Activation('relu')) # 엑티베이션 함수를 relu 함수로 사용\n",
    "\n",
    "# 두변째 층\n",
    "model.add(Dense(32, activation='relu')) # 위의 두줄을 한줄로 표현\n",
    "#model.add(Activation('relu'))\n",
    "\n",
    "# 세번째 층\n",
    "model.add(Dense(32))\n",
    "model.add(Activation('relu'))\n",
    "\n",
    "# 출력층\n",
    "model.add(Dense(10))\n",
    "model.add(Activation('softmax'))\n",
    "\n",
    "model.summary()\n",
    "\n",
    "# 총 weight 수가 27,562개"
   ]
  },
  {
   "cell_type": "markdown",
   "metadata": {},
   "source": [
    "### Step 3: Choose the Optimizer and the Cost function"
   ]
  },
  {
   "cell_type": "code",
   "execution_count": 15,
   "metadata": {},
   "outputs": [],
   "source": [
    "model.compile(loss='categorical_crossentropy', optimizer=SGD(), metrics=['accuracy'])\n",
    "#model.compile(loss='categorical_crossentropy', optimizer=Adam, metrics=['accuracy'])"
   ]
  },
  {
   "cell_type": "markdown",
   "metadata": {},
   "source": [
    "### Step 4: Train the Model"
   ]
  },
  {
   "cell_type": "code",
   "execution_count": 16,
   "metadata": {},
   "outputs": [
    {
     "name": "stdout",
     "output_type": "stream",
     "text": [
      "Train on 48000 samples, validate on 12000 samples\n",
      "Epoch 1/30\n",
      "48000/48000 [==============================] - 1s 12us/step - loss: 1.9816 - accuracy: 0.3262 - val_loss: 1.4749 - val_accuracy: 0.5918\n",
      "Epoch 2/30\n",
      "48000/48000 [==============================] - 0s 10us/step - loss: 1.0064 - accuracy: 0.7235 - val_loss: 0.6657 - val_accuracy: 0.8187\n",
      "Epoch 3/30\n",
      "48000/48000 [==============================] - 0s 10us/step - loss: 0.5950 - accuracy: 0.8299 - val_loss: 0.4834 - val_accuracy: 0.8662\n",
      "Epoch 4/30\n",
      "48000/48000 [==============================] - 1s 11us/step - loss: 0.4711 - accuracy: 0.8667 - val_loss: 0.4030 - val_accuracy: 0.8880\n",
      "Epoch 5/30\n",
      "48000/48000 [==============================] - 1s 11us/step - loss: 0.4061 - accuracy: 0.8864 - val_loss: 0.3580 - val_accuracy: 0.8999\n",
      "Epoch 6/30\n",
      "48000/48000 [==============================] - 1s 10us/step - loss: 0.3660 - accuracy: 0.8971 - val_loss: 0.3338 - val_accuracy: 0.9066\n",
      "Epoch 7/30\n",
      "48000/48000 [==============================] - 0s 10us/step - loss: 0.3394 - accuracy: 0.9034 - val_loss: 0.3078 - val_accuracy: 0.9111\n",
      "Epoch 8/30\n",
      "48000/48000 [==============================] - 0s 10us/step - loss: 0.3188 - accuracy: 0.9086 - val_loss: 0.2918 - val_accuracy: 0.9156\n",
      "Epoch 9/30\n",
      "48000/48000 [==============================] - 0s 10us/step - loss: 0.3031 - accuracy: 0.9128 - val_loss: 0.2847 - val_accuracy: 0.9162\n",
      "Epoch 10/30\n",
      "48000/48000 [==============================] - 1s 11us/step - loss: 0.2900 - accuracy: 0.9165 - val_loss: 0.2713 - val_accuracy: 0.9198\n",
      "Epoch 11/30\n",
      "48000/48000 [==============================] - 1s 10us/step - loss: 0.2781 - accuracy: 0.9200 - val_loss: 0.2604 - val_accuracy: 0.9224\n",
      "Epoch 12/30\n",
      "48000/48000 [==============================] - 0s 10us/step - loss: 0.2684 - accuracy: 0.9223 - val_loss: 0.2590 - val_accuracy: 0.9244\n",
      "Epoch 13/30\n",
      "48000/48000 [==============================] - 0s 10us/step - loss: 0.2598 - accuracy: 0.9251 - val_loss: 0.2483 - val_accuracy: 0.9277\n",
      "Epoch 14/30\n",
      "48000/48000 [==============================] - 0s 10us/step - loss: 0.2517 - accuracy: 0.9274 - val_loss: 0.2383 - val_accuracy: 0.9314\n",
      "Epoch 15/30\n",
      "48000/48000 [==============================] - 0s 10us/step - loss: 0.2443 - accuracy: 0.9295 - val_loss: 0.2343 - val_accuracy: 0.9317\n",
      "Epoch 16/30\n",
      "48000/48000 [==============================] - 0s 10us/step - loss: 0.2378 - accuracy: 0.9309 - val_loss: 0.2273 - val_accuracy: 0.9336\n",
      "Epoch 17/30\n",
      "48000/48000 [==============================] - 1s 10us/step - loss: 0.2319 - accuracy: 0.9330 - val_loss: 0.2240 - val_accuracy: 0.9348\n",
      "Epoch 18/30\n",
      "48000/48000 [==============================] - 1s 11us/step - loss: 0.2258 - accuracy: 0.9350 - val_loss: 0.2221 - val_accuracy: 0.9368\n",
      "Epoch 19/30\n",
      "48000/48000 [==============================] - 1s 11us/step - loss: 0.2207 - accuracy: 0.9363 - val_loss: 0.2155 - val_accuracy: 0.9383\n",
      "Epoch 20/30\n",
      "48000/48000 [==============================] - 0s 10us/step - loss: 0.2155 - accuracy: 0.9376 - val_loss: 0.2120 - val_accuracy: 0.9383\n",
      "Epoch 21/30\n",
      "48000/48000 [==============================] - 1s 11us/step - loss: 0.2110 - accuracy: 0.9393 - val_loss: 0.2087 - val_accuracy: 0.9402\n",
      "Epoch 22/30\n",
      "48000/48000 [==============================] - 0s 10us/step - loss: 0.2062 - accuracy: 0.9403 - val_loss: 0.2114 - val_accuracy: 0.9408\n",
      "Epoch 23/30\n",
      "48000/48000 [==============================] - 0s 10us/step - loss: 0.2025 - accuracy: 0.9419 - val_loss: 0.2017 - val_accuracy: 0.9423\n",
      "Epoch 24/30\n",
      "48000/48000 [==============================] - 0s 10us/step - loss: 0.1975 - accuracy: 0.9436 - val_loss: 0.2004 - val_accuracy: 0.9421\n",
      "Epoch 25/30\n",
      "48000/48000 [==============================] - 0s 10us/step - loss: 0.1939 - accuracy: 0.9436 - val_loss: 0.1992 - val_accuracy: 0.9433\n",
      "Epoch 26/30\n",
      "48000/48000 [==============================] - 0s 10us/step - loss: 0.1905 - accuracy: 0.9450 - val_loss: 0.1935 - val_accuracy: 0.9434\n",
      "Epoch 27/30\n",
      "48000/48000 [==============================] - 0s 10us/step - loss: 0.1864 - accuracy: 0.9462 - val_loss: 0.1930 - val_accuracy: 0.9437\n",
      "Epoch 28/30\n",
      "48000/48000 [==============================] - 0s 10us/step - loss: 0.1836 - accuracy: 0.9468 - val_loss: 0.1894 - val_accuracy: 0.9443\n",
      "Epoch 29/30\n",
      "48000/48000 [==============================] - 0s 10us/step - loss: 0.1800 - accuracy: 0.9481 - val_loss: 0.1896 - val_accuracy: 0.9455\n",
      "Epoch 30/30\n",
      "48000/48000 [==============================] - 0s 10us/step - loss: 0.1767 - accuracy: 0.9494 - val_loss: 0.1838 - val_accuracy: 0.9475\n"
     ]
    }
   ],
   "source": [
    "history = model.fit(X_train, Y_train, batch_size=128, epochs=30, verbose=1, \n",
    "                    validation_split=0.2)"
   ]
  },
  {
   "cell_type": "code",
   "execution_count": 17,
   "metadata": {},
   "outputs": [
    {
     "data": {
      "image/png": "[encoded data removed]",
      "text/plain": [
       "<Figure size 432x288 with 1 Axes>"
      ]
     },
     "metadata": {
      "needs_background": "light"
     },
     "output_type": "display_data"
    }
   ],
   "source": [
    "plt.plot(history.history[\"loss\"], label=\"train loss\")\n",
    "plt.plot(history.history[\"val_loss\"], label=\"validation loss\")\n",
    "plt.legend()\n",
    "plt.title(\"Loss\")\n",
    "plt.show()"
   ]
  },
  {
   "cell_type": "markdown",
   "metadata": {},
   "source": [
    "### Step 5: Evaluate the Model performance"
   ]
  },
  {
   "cell_type": "code",
   "execution_count": 18,
   "metadata": {},
   "outputs": [
    {
     "name": "stdout",
     "output_type": "stream",
     "text": [
      "10000/10000 [==============================] - 0s 13us/step\n",
      "Test score: 0.18451542791351677\n",
      "Test accuracy: 0.9447000026702881\n"
     ]
    }
   ],
   "source": [
    "score = model.evaluate(X_test, Y_test, verbose=1)\n",
    "print(\"Test score:\", score[0])\n",
    "print('Test accuracy:', score[1])\n",
    "\n",
    "model.save('mnist_dnn_02.h5')"
   ]
  },
  {
   "cell_type": "code",
   "execution_count": null,
   "metadata": {},
   "outputs": [],
   "source": []
  },
  {
   "cell_type": "markdown",
   "metadata": {},
   "source": [
    "## Case #3: Further improving the simple net in Keras with dropout"
   ]
  },
  {
   "cell_type": "markdown",
   "metadata": {},
   "source": [
    "### Step 2: Define the Model & its Architecture"
   ]
  },
  {
   "cell_type": "code",
   "execution_count": 19,
   "metadata": {},
   "outputs": [
    {
     "name": "stdout",
     "output_type": "stream",
     "text": [
      "Model: \"sequential_3\"\n",
      "_________________________________________________________________\n",
      "Layer (type)                 Output Shape              Param #   \n",
      "=================================================================\n",
      "dense_6 (Dense)              (None, 128)               100480    \n",
      "_________________________________________________________________\n",
      "activation_5 (Activation)    (None, 128)               0         \n",
      "_________________________________________________________________\n",
      "dropout_1 (Dropout)          (None, 128)               0         \n",
      "_________________________________________________________________\n",
      "dense_7 (Dense)              (None, 64)                8256      \n",
      "_________________________________________________________________\n",
      "activation_6 (Activation)    (None, 64)                0         \n",
      "_________________________________________________________________\n",
      "dropout_2 (Dropout)          (None, 64)                0         \n",
      "_________________________________________________________________\n",
      "dense_8 (Dense)              (None, 10)                650       \n",
      "_________________________________________________________________\n",
      "activation_7 (Activation)    (None, 10)                0         \n",
      "=================================================================\n",
      "Total params: 109,386\n",
      "Trainable params: 109,386\n",
      "Non-trainable params: 0\n",
      "_________________________________________________________________\n"
     ]
    }
   ],
   "source": [
    "from keras.layers.core import Dropout\n",
    "\n",
    "# Dropout : 층별로 오버피팅을 줄일 수 있도록 지정할 수 있다.\n",
    "model = Sequential()\n",
    "\n",
    "model.add(Dense(128, input_shape=(RESHAPED,)))\n",
    "model.add(Activation('relu'))\n",
    "model.add(Dropout(0.2)) # Dropout 비율을 20%로 하라\n",
    "\n",
    "model.add(Dense(64))\n",
    "model.add(Activation('relu'))\n",
    "model.add(Dropout(0.2))\n",
    "\n",
    "model.add(Dense(10))\n",
    "model.add(Activation('softmax'))\n",
    "\n",
    "model.summary()"
   ]
  },
  {
   "cell_type": "markdown",
   "metadata": {},
   "source": [
    "### Step 3: Choose the Optimizer and the Cost function"
   ]
  },
  {
   "cell_type": "code",
   "execution_count": 20,
   "metadata": {},
   "outputs": [],
   "source": [
    "model.compile(loss='categorical_crossentropy', optimizer=SGD(), metrics=['accuracy'])"
   ]
  },
  {
   "cell_type": "markdown",
   "metadata": {},
   "source": [
    "### Step 4: Train the Model"
   ]
  },
  {
   "cell_type": "code",
   "execution_count": 21,
   "metadata": {},
   "outputs": [
    {
     "name": "stdout",
     "output_type": "stream",
     "text": [
      "Train on 48000 samples, validate on 12000 samples\n",
      "Epoch 1/30\n",
      "48000/48000 [==============================] - 1s 20us/step - loss: 1.6017 - accuracy: 0.4956 - val_loss: 0.8498 - val_accuracy: 0.8140\n",
      "Epoch 2/30\n",
      "48000/48000 [==============================] - 1s 18us/step - loss: 0.8439 - accuracy: 0.7467 - val_loss: 0.5087 - val_accuracy: 0.8745\n",
      "Epoch 3/30\n",
      "48000/48000 [==============================] - 1s 18us/step - loss: 0.6403 - accuracy: 0.8090 - val_loss: 0.4100 - val_accuracy: 0.8913\n",
      "Epoch 4/30\n",
      "48000/48000 [==============================] - 1s 17us/step - loss: 0.5440 - accuracy: 0.8382 - val_loss: 0.3582 - val_accuracy: 0.9018\n",
      "Epoch 5/30\n",
      "48000/48000 [==============================] - 1s 16us/step - loss: 0.4863 - accuracy: 0.8586 - val_loss: 0.3280 - val_accuracy: 0.9089\n",
      "Epoch 6/30\n",
      "48000/48000 [==============================] - 1s 17us/step - loss: 0.4495 - accuracy: 0.8685 - val_loss: 0.3057 - val_accuracy: 0.9146\n",
      "Epoch 7/30\n",
      "48000/48000 [==============================] - 1s 17us/step - loss: 0.4213 - accuracy: 0.8753 - val_loss: 0.2887 - val_accuracy: 0.9172\n",
      "Epoch 8/30\n",
      "48000/48000 [==============================] - 1s 17us/step - loss: 0.3959 - accuracy: 0.8848 - val_loss: 0.2734 - val_accuracy: 0.9204\n",
      "Epoch 9/30\n",
      "48000/48000 [==============================] - 1s 16us/step - loss: 0.3778 - accuracy: 0.8898 - val_loss: 0.2624 - val_accuracy: 0.9237\n",
      "Epoch 10/30\n",
      "48000/48000 [==============================] - 1s 18us/step - loss: 0.3624 - accuracy: 0.8959 - val_loss: 0.2521 - val_accuracy: 0.9268\n",
      "Epoch 11/30\n",
      "48000/48000 [==============================] - 1s 17us/step - loss: 0.3456 - accuracy: 0.8997 - val_loss: 0.2427 - val_accuracy: 0.9298\n",
      "Epoch 12/30\n",
      "48000/48000 [==============================] - 1s 18us/step - loss: 0.3340 - accuracy: 0.9036 - val_loss: 0.2338 - val_accuracy: 0.9323\n",
      "Epoch 13/30\n",
      "48000/48000 [==============================] - 1s 18us/step - loss: 0.3185 - accuracy: 0.9068 - val_loss: 0.2256 - val_accuracy: 0.9343\n",
      "Epoch 14/30\n",
      "48000/48000 [==============================] - 1s 18us/step - loss: 0.3090 - accuracy: 0.9103 - val_loss: 0.2197 - val_accuracy: 0.9361\n",
      "Epoch 15/30\n",
      "48000/48000 [==============================] - 1s 17us/step - loss: 0.3014 - accuracy: 0.9120 - val_loss: 0.2140 - val_accuracy: 0.9379\n",
      "Epoch 16/30\n",
      "48000/48000 [==============================] - 1s 18us/step - loss: 0.2920 - accuracy: 0.9151 - val_loss: 0.2081 - val_accuracy: 0.9394\n",
      "Epoch 17/30\n",
      "48000/48000 [==============================] - 1s 18us/step - loss: 0.2818 - accuracy: 0.9194 - val_loss: 0.2018 - val_accuracy: 0.9401\n",
      "Epoch 18/30\n",
      "48000/48000 [==============================] - 1s 17us/step - loss: 0.2793 - accuracy: 0.9189 - val_loss: 0.1983 - val_accuracy: 0.9423\n",
      "Epoch 19/30\n",
      "48000/48000 [==============================] - 1s 18us/step - loss: 0.2692 - accuracy: 0.9220 - val_loss: 0.1926 - val_accuracy: 0.9438\n",
      "Epoch 20/30\n",
      "48000/48000 [==============================] - 1s 17us/step - loss: 0.2645 - accuracy: 0.9230 - val_loss: 0.1878 - val_accuracy: 0.9450\n",
      "Epoch 21/30\n",
      "48000/48000 [==============================] - 1s 19us/step - loss: 0.2561 - accuracy: 0.9252 - val_loss: 0.1844 - val_accuracy: 0.9465\n",
      "Epoch 22/30\n",
      "48000/48000 [==============================] - 1s 17us/step - loss: 0.2511 - accuracy: 0.9275 - val_loss: 0.1801 - val_accuracy: 0.9467\n",
      "Epoch 23/30\n",
      "48000/48000 [==============================] - 1s 17us/step - loss: 0.2474 - accuracy: 0.9269 - val_loss: 0.1774 - val_accuracy: 0.9484\n",
      "Epoch 24/30\n",
      "48000/48000 [==============================] - 1s 17us/step - loss: 0.2400 - accuracy: 0.9297 - val_loss: 0.1724 - val_accuracy: 0.9490\n",
      "Epoch 25/30\n",
      "48000/48000 [==============================] - 1s 18us/step - loss: 0.2362 - accuracy: 0.9309 - val_loss: 0.1694 - val_accuracy: 0.9501\n",
      "Epoch 26/30\n",
      "48000/48000 [==============================] - 1s 18us/step - loss: 0.2289 - accuracy: 0.9332 - val_loss: 0.1667 - val_accuracy: 0.9512\n",
      "Epoch 27/30\n",
      "48000/48000 [==============================] - 1s 18us/step - loss: 0.2231 - accuracy: 0.9348 - val_loss: 0.1630 - val_accuracy: 0.9521\n",
      "Epoch 28/30\n",
      "48000/48000 [==============================] - 1s 17us/step - loss: 0.2213 - accuracy: 0.9346 - val_loss: 0.1607 - val_accuracy: 0.9527\n",
      "Epoch 29/30\n",
      "48000/48000 [==============================] - 1s 18us/step - loss: 0.2180 - accuracy: 0.9358 - val_loss: 0.1586 - val_accuracy: 0.9528\n",
      "Epoch 30/30\n",
      "48000/48000 [==============================] - 1s 17us/step - loss: 0.2123 - accuracy: 0.9372 - val_loss: 0.1554 - val_accuracy: 0.9540\n"
     ]
    }
   ],
   "source": [
    "history = model.fit(X_train, Y_train, batch_size=128, epochs=30, verbose=1, \n",
    "                    validation_split=0.2)"
   ]
  },
  {
   "cell_type": "code",
   "execution_count": 22,
   "metadata": {},
   "outputs": [
    {
     "data": {
      "image/png": "[encoded data removed]",
      "text/plain": [
       "<Figure size 432x288 with 1 Axes>"
      ]
     },
     "metadata": {
      "needs_background": "light"
     },
     "output_type": "display_data"
    }
   ],
   "source": [
    "plt.plot(history.history[\"loss\"], label=\"train loss\")\n",
    "plt.plot(history.history[\"val_loss\"], label=\"validation loss\")\n",
    "plt.legend()\n",
    "plt.title(\"Loss\")\n",
    "plt.show()"
   ]
  },
  {
   "cell_type": "markdown",
   "metadata": {},
   "source": [
    "### Step 5: Evaluate the Model performance"
   ]
  },
  {
   "cell_type": "code",
   "execution_count": 23,
   "metadata": {},
   "outputs": [
    {
     "name": "stdout",
     "output_type": "stream",
     "text": [
      "10000/10000 [==============================] - 0s 17us/step\n",
      "Test score: 0.15048114033639431\n",
      "Test accuracy: 0.9552000164985657\n"
     ]
    }
   ],
   "source": [
    "score = model.evaluate(X_test, Y_test, verbose=1)\n",
    "print(\"Test score:\", score[0])\n",
    "print('Test accuracy:', score[1])\n",
    "\n",
    "model.save('mnist_dnn_03.h5')"
   ]
  },
  {
   "cell_type": "code",
   "execution_count": null,
   "metadata": {},
   "outputs": [],
   "source": []
  },
  {
   "cell_type": "markdown",
   "metadata": {},
   "source": [
    "## Case #4: Testing different optimizers in Keras"
   ]
  },
  {
   "cell_type": "markdown",
   "metadata": {},
   "source": [
    "### Step 2: Define the Model & its Architecture"
   ]
  },
  {
   "cell_type": "code",
   "execution_count": 24,
   "metadata": {},
   "outputs": [
    {
     "name": "stdout",
     "output_type": "stream",
     "text": [
      "Model: \"sequential_4\"\n",
      "_________________________________________________________________\n",
      "Layer (type)                 Output Shape              Param #   \n",
      "=================================================================\n",
      "dense_9 (Dense)              (None, 128)               100480    \n",
      "_________________________________________________________________\n",
      "activation_8 (Activation)    (None, 128)               0         \n",
      "_________________________________________________________________\n",
      "dropout_3 (Dropout)          (None, 128)               0         \n",
      "_________________________________________________________________\n",
      "dense_10 (Dense)             (None, 64)                8256      \n",
      "_________________________________________________________________\n",
      "activation_9 (Activation)    (None, 64)                0         \n",
      "_________________________________________________________________\n",
      "dropout_4 (Dropout)          (None, 64)                0         \n",
      "_________________________________________________________________\n",
      "dense_11 (Dense)             (None, 10)                650       \n",
      "_________________________________________________________________\n",
      "activation_10 (Activation)   (None, 10)                0         \n",
      "=================================================================\n",
      "Total params: 109,386\n",
      "Trainable params: 109,386\n",
      "Non-trainable params: 0\n",
      "_________________________________________________________________\n"
     ]
    }
   ],
   "source": [
    "model = Sequential()\n",
    "model.add(Dense(128, input_shape=(RESHAPED,)))\n",
    "model.add(Activation('relu'))\n",
    "model.add(Dropout(0.2))\n",
    "model.add(Dense(64))\n",
    "model.add(Activation('relu'))\n",
    "model.add(Dropout(0.2))\n",
    "model.add(Dense(10))\n",
    "model.add(Activation('softmax'))\n",
    "model.summary()"
   ]
  },
  {
   "cell_type": "markdown",
   "metadata": {},
   "source": [
    "### Step 3: Choose the Optimizer and the Cost function"
   ]
  },
  {
   "cell_type": "code",
   "execution_count": 25,
   "metadata": {},
   "outputs": [],
   "source": [
    "from keras.optimizers import Adam\n",
    "\n",
    "model.compile(loss='categorical_crossentropy', optimizer=Adam(), metrics=['accuracy'])"
   ]
  },
  {
   "cell_type": "markdown",
   "metadata": {},
   "source": [
    "### Step 4: Train the Model"
   ]
  },
  {
   "cell_type": "code",
   "execution_count": 26,
   "metadata": {},
   "outputs": [
    {
     "name": "stdout",
     "output_type": "stream",
     "text": [
      "Train on 48000 samples, validate on 12000 samples\n",
      "Epoch 1/30\n",
      "48000/48000 [==============================] - 1s 24us/step - loss: 0.5077 - accuracy: 0.8491 - val_loss: 0.1904 - val_accuracy: 0.9437\n",
      "Epoch 2/30\n",
      "48000/48000 [==============================] - 1s 22us/step - loss: 0.2229 - accuracy: 0.9340 - val_loss: 0.1410 - val_accuracy: 0.9582\n",
      "Epoch 3/30\n",
      "48000/48000 [==============================] - 1s 22us/step - loss: 0.1694 - accuracy: 0.9496 - val_loss: 0.1147 - val_accuracy: 0.9655\n",
      "Epoch 4/30\n",
      "48000/48000 [==============================] - 1s 20us/step - loss: 0.1376 - accuracy: 0.9593 - val_loss: 0.1041 - val_accuracy: 0.9682\n",
      "Epoch 5/30\n",
      "48000/48000 [==============================] - 1s 20us/step - loss: 0.1197 - accuracy: 0.9638 - val_loss: 0.0963 - val_accuracy: 0.9720\n",
      "Epoch 6/30\n",
      "48000/48000 [==============================] - 1s 22us/step - loss: 0.1054 - accuracy: 0.9681 - val_loss: 0.0901 - val_accuracy: 0.9718\n",
      "Epoch 7/30\n",
      "48000/48000 [==============================] - 1s 21us/step - loss: 0.0936 - accuracy: 0.9715 - val_loss: 0.0897 - val_accuracy: 0.9722\n",
      "Epoch 8/30\n",
      "48000/48000 [==============================] - 1s 21us/step - loss: 0.0830 - accuracy: 0.9744 - val_loss: 0.0865 - val_accuracy: 0.9733\n",
      "Epoch 9/30\n",
      "48000/48000 [==============================] - 1s 22us/step - loss: 0.0750 - accuracy: 0.9764 - val_loss: 0.0875 - val_accuracy: 0.9747\n",
      "Epoch 10/30\n",
      "48000/48000 [==============================] - 1s 21us/step - loss: 0.0743 - accuracy: 0.9768 - val_loss: 0.0854 - val_accuracy: 0.9749\n",
      "Epoch 11/30\n",
      "48000/48000 [==============================] - 1s 21us/step - loss: 0.0645 - accuracy: 0.9795 - val_loss: 0.0819 - val_accuracy: 0.9762\n",
      "Epoch 12/30\n",
      "48000/48000 [==============================] - 1s 20us/step - loss: 0.0606 - accuracy: 0.9807 - val_loss: 0.0799 - val_accuracy: 0.9774\n",
      "Epoch 13/30\n",
      "48000/48000 [==============================] - 1s 21us/step - loss: 0.0574 - accuracy: 0.9820 - val_loss: 0.0860 - val_accuracy: 0.9757\n",
      "Epoch 14/30\n",
      "48000/48000 [==============================] - 1s 20us/step - loss: 0.0543 - accuracy: 0.9826 - val_loss: 0.0822 - val_accuracy: 0.9764\n",
      "Epoch 15/30\n",
      "48000/48000 [==============================] - 1s 21us/step - loss: 0.0514 - accuracy: 0.9837 - val_loss: 0.0851 - val_accuracy: 0.9755\n",
      "Epoch 16/30\n",
      "48000/48000 [==============================] - 1s 20us/step - loss: 0.0482 - accuracy: 0.9842 - val_loss: 0.0819 - val_accuracy: 0.9784\n",
      "Epoch 17/30\n",
      "48000/48000 [==============================] - 1s 20us/step - loss: 0.0497 - accuracy: 0.9841 - val_loss: 0.0859 - val_accuracy: 0.9768\n",
      "Epoch 18/30\n",
      "48000/48000 [==============================] - 1s 22us/step - loss: 0.0436 - accuracy: 0.9858 - val_loss: 0.0853 - val_accuracy: 0.9764\n",
      "Epoch 19/30\n",
      "48000/48000 [==============================] - 1s 22us/step - loss: 0.0435 - accuracy: 0.9858 - val_loss: 0.0879 - val_accuracy: 0.9764\n",
      "Epoch 20/30\n",
      "48000/48000 [==============================] - 1s 21us/step - loss: 0.0388 - accuracy: 0.9870 - val_loss: 0.0862 - val_accuracy: 0.9762\n",
      "Epoch 21/30\n",
      "48000/48000 [==============================] - 1s 21us/step - loss: 0.0402 - accuracy: 0.9870 - val_loss: 0.0970 - val_accuracy: 0.9754\n",
      "Epoch 22/30\n",
      "48000/48000 [==============================] - 1s 22us/step - loss: 0.0362 - accuracy: 0.9879 - val_loss: 0.0970 - val_accuracy: 0.9777\n",
      "Epoch 23/30\n",
      "48000/48000 [==============================] - 1s 20us/step - loss: 0.0350 - accuracy: 0.9886 - val_loss: 0.0921 - val_accuracy: 0.9772\n",
      "Epoch 24/30\n",
      "48000/48000 [==============================] - 1s 21us/step - loss: 0.0347 - accuracy: 0.9888 - val_loss: 0.0846 - val_accuracy: 0.9782\n",
      "Epoch 25/30\n",
      "48000/48000 [==============================] - 1s 23us/step - loss: 0.0350 - accuracy: 0.9880 - val_loss: 0.0861 - val_accuracy: 0.9778\n",
      "Epoch 26/30\n",
      "48000/48000 [==============================] - 1s 22us/step - loss: 0.0324 - accuracy: 0.9891 - val_loss: 0.0914 - val_accuracy: 0.9776\n",
      "Epoch 27/30\n",
      "48000/48000 [==============================] - 1s 20us/step - loss: 0.0350 - accuracy: 0.9879 - val_loss: 0.0936 - val_accuracy: 0.9774\n",
      "Epoch 28/30\n",
      "48000/48000 [==============================] - 1s 20us/step - loss: 0.0314 - accuracy: 0.9892 - val_loss: 0.0927 - val_accuracy: 0.9781\n",
      "Epoch 29/30\n",
      "48000/48000 [==============================] - 1s 21us/step - loss: 0.0324 - accuracy: 0.9897 - val_loss: 0.0950 - val_accuracy: 0.9760\n",
      "Epoch 30/30\n",
      "48000/48000 [==============================] - 1s 21us/step - loss: 0.0296 - accuracy: 0.9902 - val_loss: 0.0930 - val_accuracy: 0.9776\n"
     ]
    }
   ],
   "source": [
    "history = model.fit(X_train, Y_train, batch_size=128, epochs=30, verbose=1, \n",
    "                    validation_split=0.2)"
   ]
  },
  {
   "cell_type": "code",
   "execution_count": 27,
   "metadata": {},
   "outputs": [
    {
     "data": {
      "image/png": "[encoded data removed]",
      "text/plain": [
       "<Figure size 432x288 with 1 Axes>"
      ]
     },
     "metadata": {
      "needs_background": "light"
     },
     "output_type": "display_data"
    }
   ],
   "source": [
    "plt.plot(history.history[\"loss\"], label=\"train loss\")\n",
    "plt.plot(history.history[\"val_loss\"], label=\"validation loss\")\n",
    "plt.legend()\n",
    "plt.title(\"Loss\")\n",
    "plt.show()"
   ]
  },
  {
   "cell_type": "markdown",
   "metadata": {},
   "source": [
    "### Step 5: Evaluate the Model performance"
   ]
  },
  {
   "cell_type": "code",
   "execution_count": 28,
   "metadata": {},
   "outputs": [
    {
     "name": "stdout",
     "output_type": "stream",
     "text": [
      "10000/10000 [==============================] - 0s 15us/step\n",
      "Test score: 0.08819945456340929\n",
      "Test accuracy: 0.9797999858856201\n"
     ]
    }
   ],
   "source": [
    "score = model.evaluate(X_test, Y_test, verbose=1)\n",
    "print(\"Test score:\", score[0])\n",
    "print('Test accuracy:', score[1])\n",
    "\n",
    "model.save('mnist_dnn_04.h5')"
   ]
  },
  {
   "cell_type": "code",
   "execution_count": null,
   "metadata": {},
   "outputs": [],
   "source": []
  },
  {
   "cell_type": "markdown",
   "metadata": {},
   "source": [
    "## Case #5: Adopting regularization for avoiding overfitting"
   ]
  },
  {
   "cell_type": "markdown",
   "metadata": {},
   "source": [
    "### Step 2: Define the Model & its Architecture"
   ]
  },
  {
   "cell_type": "code",
   "execution_count": 29,
   "metadata": {},
   "outputs": [
    {
     "name": "stdout",
     "output_type": "stream",
     "text": [
      "Model: \"sequential_5\"\n",
      "_________________________________________________________________\n",
      "Layer (type)                 Output Shape              Param #   \n",
      "=================================================================\n",
      "dense_12 (Dense)             (None, 128)               100480    \n",
      "_________________________________________________________________\n",
      "batch_normalization_1 (Batch (None, 128)               512       \n",
      "_________________________________________________________________\n",
      "activation_11 (Activation)   (None, 128)               0         \n",
      "_________________________________________________________________\n",
      "dropout_5 (Dropout)          (None, 128)               0         \n",
      "_________________________________________________________________\n",
      "dense_13 (Dense)             (None, 64)                8256      \n",
      "_________________________________________________________________\n",
      "batch_normalization_2 (Batch (None, 64)                256       \n",
      "_________________________________________________________________\n",
      "activation_12 (Activation)   (None, 64)                0         \n",
      "_________________________________________________________________\n",
      "dropout_6 (Dropout)          (None, 64)                0         \n",
      "_________________________________________________________________\n",
      "dense_14 (Dense)             (None, 10)                650       \n",
      "_________________________________________________________________\n",
      "activation_13 (Activation)   (None, 10)                0         \n",
      "=================================================================\n",
      "Total params: 110,154\n",
      "Trainable params: 109,770\n",
      "Non-trainable params: 384\n",
      "_________________________________________________________________\n"
     ]
    }
   ],
   "source": [
    "# 오버피팅을 줄이는 방법\n",
    "from keras import regularizers\n",
    "from keras.constraints import max_norm\n",
    "from keras.layers import BatchNormalization\n",
    "\n",
    "model = Sequential()\n",
    "#model.add(Dense(128, input_shape=(RESHAPED,), kernel_regularizer=regularizers.l2(0.01), kernel_initializer=\"glorot_normal\"))\n",
    "model.add(Dense(128, input_shape=(RESHAPED,), kernel_constraint=max_norm(2.), kernel_initializer=\"he_normal\"))\n",
    "model.add(BatchNormalization())\n",
    "model.add(Activation('relu'))\n",
    "model.add(Dropout(0.2))\n",
    "#model.add(Dense(64, kernel_regularizer=regularizers.l2(0.01), kernel_initializer=\"glorot_normal\"))\n",
    "model.add(Dense(64, kernel_constraint=max_norm(2.), kernel_initializer=\"he_normal\"))\n",
    "model.add(BatchNormalization())\n",
    "model.add(Activation('relu'))\n",
    "model.add(Dropout(0.2))\n",
    "model.add(Dense(10))\n",
    "model.add(Activation('softmax'))\n",
    "model.summary()"
   ]
  },
  {
   "cell_type": "markdown",
   "metadata": {},
   "source": [
    "### Step 3: Choose the Optimizer and the Cost function"
   ]
  },
  {
   "cell_type": "code",
   "execution_count": 30,
   "metadata": {},
   "outputs": [],
   "source": [
    "model.compile(loss='categorical_crossentropy', optimizer=Adam(), metrics=['accuracy'])"
   ]
  },
  {
   "cell_type": "markdown",
   "metadata": {},
   "source": [
    "### Step 4: Train the Model"
   ]
  },
  {
   "cell_type": "code",
   "execution_count": 31,
   "metadata": {},
   "outputs": [
    {
     "name": "stdout",
     "output_type": "stream",
     "text": [
      "Train on 48000 samples, validate on 12000 samples\n",
      "Epoch 1/30\n",
      "48000/48000 [==============================] - 2s 37us/step - loss: 0.4936 - accuracy: 0.8618 - val_loss: 0.1830 - val_accuracy: 0.9512\n",
      "Epoch 2/30\n",
      "48000/48000 [==============================] - 1s 29us/step - loss: 0.2195 - accuracy: 0.9364 - val_loss: 0.1399 - val_accuracy: 0.9575\n",
      "Epoch 3/30\n",
      "48000/48000 [==============================] - 1s 27us/step - loss: 0.1671 - accuracy: 0.9500 - val_loss: 0.1119 - val_accuracy: 0.9680\n",
      "Epoch 4/30\n",
      "48000/48000 [==============================] - 1s 29us/step - loss: 0.1358 - accuracy: 0.9589 - val_loss: 0.0961 - val_accuracy: 0.9718\n",
      "Epoch 5/30\n",
      "48000/48000 [==============================] - 1s 30us/step - loss: 0.1182 - accuracy: 0.9643 - val_loss: 0.0950 - val_accuracy: 0.9720\n",
      "Epoch 6/30\n",
      "48000/48000 [==============================] - 1s 30us/step - loss: 0.1039 - accuracy: 0.9674 - val_loss: 0.0886 - val_accuracy: 0.9728\n",
      "Epoch 7/30\n",
      "48000/48000 [==============================] - 1s 29us/step - loss: 0.0975 - accuracy: 0.9695 - val_loss: 0.0777 - val_accuracy: 0.9762\n",
      "Epoch 8/30\n",
      "48000/48000 [==============================] - 1s 28us/step - loss: 0.0897 - accuracy: 0.9716 - val_loss: 0.0892 - val_accuracy: 0.9738\n",
      "Epoch 9/30\n",
      "48000/48000 [==============================] - 1s 29us/step - loss: 0.0794 - accuracy: 0.9748 - val_loss: 0.0848 - val_accuracy: 0.9759\n",
      "Epoch 10/30\n",
      "48000/48000 [==============================] - 1s 30us/step - loss: 0.0758 - accuracy: 0.9760 - val_loss: 0.0839 - val_accuracy: 0.9768\n"
     ]
    }
   ],
   "source": [
    "# Early stopping is basically stopping the training once your loss starts to increase.\n",
    "# 학습 조기 종료를 위해 더 이상 개선의 여지가 없을 때 학습을 종료시키는 콜백함수\n",
    "from keras.callbacks import EarlyStopping\n",
    "early_stop = EarlyStopping(patience=3)\n",
    "# patience : 개선이 없다고 바로 종료하지 않고 개선이 없는 에포크를 얼마나 기다려 \n",
    "#           줄 것인 가를 지정합니다. \n",
    "# 만약 10이라고 지정하면 개선이 없는 에포크가 10번째 지속될 경우 학습을 종료합니다.\n",
    "\n",
    "history = model.fit(X_train, Y_train, batch_size=128, epochs=30, verbose=1, \n",
    "                    validation_split=0.2, callbacks=[early_stop])"
   ]
  },
  {
   "cell_type": "code",
   "execution_count": 32,
   "metadata": {},
   "outputs": [
    {
     "data": {
      "image/png": "[encoded data removed]",
      "text/plain": [
       "<Figure size 432x288 with 1 Axes>"
      ]
     },
     "metadata": {
      "needs_background": "light"
     },
     "output_type": "display_data"
    }
   ],
   "source": [
    "plt.plot(history.history[\"loss\"], label=\"train loss\")\n",
    "plt.plot(history.history[\"val_loss\"], label=\"validation loss\")\n",
    "plt.legend()\n",
    "plt.title(\"Loss\")\n",
    "plt.show()"
   ]
  },
  {
   "cell_type": "markdown",
   "metadata": {},
   "source": [
    "### Step 5: Evaluate the Model performance"
   ]
  },
  {
   "cell_type": "code",
   "execution_count": 33,
   "metadata": {},
   "outputs": [
    {
     "name": "stdout",
     "output_type": "stream",
     "text": [
      "10000/10000 [==============================] - 0s 17us/step\n",
      "Test score: 0.0769301350798225\n",
      "Test accuracy: 0.9753000140190125\n"
     ]
    }
   ],
   "source": [
    "score = model.evaluate(X_test, Y_test, verbose=1)\n",
    "print(\"Test score:\", score[0])\n",
    "print('Test accuracy:', score[1])\n",
    "\n",
    "model.save('mnist_dnn_05.h5')"
   ]
  },
  {
   "cell_type": "code",
   "execution_count": null,
   "metadata": {},
   "outputs": [],
   "source": []
  },
  {
   "cell_type": "markdown",
   "metadata": {},
   "source": [
    "## Case #6: Optimizing hyperparameters with Keras-scikit-wrapper"
   ]
  },
  {
   "cell_type": "markdown",
   "metadata": {},
   "source": [
    "### 1) Define a function which constructs, compiles and returns a Keras model"
   ]
  },
  {
   "cell_type": "code",
   "execution_count": null,
   "metadata": {},
   "outputs": [],
   "source": [
    "def dnn_model(optimizer=Adam(), dropout_rate=0.0):\n",
    "    # Define the model & its architecture    \n",
    "    model = Sequential()\n",
    "    model.add(Dense(128, input_shape=(RESHAPED,), activation='relu'))\n",
    "    model.add(Dropout(dropout_rate))\n",
    "    model.add(Dense(64, activation='relu'))\n",
    "    model.add(Dropout(dropout_rate))\n",
    "    model.add(Dense(10, activation='softmax'))\n",
    "    # Choose the optimizer and the cost function\n",
    "    model.compile(loss='categorical_crossentropy', optimizer=optimizer, metrics=['accuracy'])\n",
    "    # Return model           \n",
    "    return model"
   ]
  },
  {
   "cell_type": "markdown",
   "metadata": {},
   "source": [
    "### 2) Instantiate KerasClassifier which implements the Scikit-Learn classifier interface"
   ]
  },
  {
   "cell_type": "code",
   "execution_count": null,
   "metadata": {},
   "outputs": [],
   "source": [
    "from keras.wrappers.scikit_learn import KerasClassifier\n",
    "# call Keras scikit wrapper\n",
    "dnn = KerasClassifier(build_fn=dnn_model, epochs=1)"
   ]
  },
  {
   "cell_type": "markdown",
   "metadata": {},
   "source": [
    "### 3) Apply scikit-learn's RandomizedSearchCV (or GridSearchCV)"
   ]
  },
  {
   "cell_type": "code",
   "execution_count": null,
   "metadata": {},
   "outputs": [],
   "source": [
    "from sklearn.model_selection import RandomizedSearchCV\n",
    "\n",
    "# Specify parameters and distributions to sample from\n",
    "param_dist = {\n",
    "    'dropout_rate': [0.0, 0.2, 0.5], \n",
    "    'optimizer': ['rmsprop', 'adam'], \n",
    "    'batch_size': [32, 64, 128]\n",
    "}\n",
    "\n",
    "# Run randomized search\n",
    "#n_iter : int, 훈련 데이터셋 반복 횟수\n",
    "n_iter_search = 5\n",
    "random_search = RandomizedSearchCV(dnn, param_distributions=param_dist, n_iter=n_iter_search, cv=3)\n",
    "random_search.fit(X_train, y_train)\n",
    "print(random_search.score(X_test, y_test))\n",
    "\n",
    "# Summarize results\n",
    "print(\"Best: %f using %s\" % (random_search.best_score_, random_search.best_params_))\n",
    "means = random_search.cv_results_['mean_test_score']\n",
    "stds = random_search.cv_results_['std_test_score']\n",
    "params = random_search.cv_results_['params']\n",
    "for mean, stdev, param in zip(means, stds, params):\n",
    "    print(\"%f (%f) with: %s\" % (mean, stdev, param))"
   ]
  },
  {
   "cell_type": "code",
   "execution_count": null,
   "metadata": {},
   "outputs": [],
   "source": []
  }
 ],
 "metadata": {
  "kernelspec": {
   "display_name": "Python 3",
   "language": "python",
   "name": "python3"
  },
  "language_info": {
   "codemirror_mode": {
    "name": "ipython",
    "version": 3
   },
   "file_extension": ".py",
   "mimetype": "text/x-python",
   "name": "python",
   "nbconvert_exporter": "python",
   "pygments_lexer": "ipython3",
   "version": "3.8.5"
  }
 },
 "nbformat": 4,
 "nbformat_minor": 4
}
