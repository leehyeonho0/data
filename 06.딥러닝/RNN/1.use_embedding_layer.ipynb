{
 "cells": [
  {
   "cell_type": "markdown",
   "metadata": {},
   "source": [
    "# Embedding\n",
    "- 수많은 단어(또는 데이터)를 벡터 형태로 표현"
   ]
  },
  {
   "cell_type": "markdown",
   "metadata": {},
   "source": [
    "## 토큰화 작업 수행하기\n",
    "- 토큰 : 문법적으로 더 이상 나눌 수 없는 언어요소\n",
    "- 1) 토큰화 : 토큰으로 변환하는 작업\n",
    "    예) 'You are the Best' (텍스트 데이터) -> 'You', 'are', 'the', 'Best' (토큰화)\n",
    "- 2) 이진 인코딩 : 'You', 'are',  'the',  'Best'\n",
    "                  1      1      1     0\n",
    "- 3) 워드 임베딩 : 'You',  'are',  'the',  'Best'\n",
    "                 0.3     0     0.5    0.8\n",
    "* 텍스트 데이터를 신경망에 입력하려면 1), 2), 3)을 통해 적절한 형태로 바꾸는 전처리 작업을 거쳐야 한다"
   ]
  },
  {
   "cell_type": "code",
   "execution_count": 1,
   "metadata": {},
   "outputs": [
    {
     "name": "stdout",
     "output_type": "stream",
     "text": [
      "{'<OOV>': 1, 'you': 2, 'are': 3, 'the': 4, 'best': 5, 'nice': 6}\n",
      "--------------------\n",
      "sequences: [[2, 3, 4, 5], [2, 3, 4, 6]]\n",
      "\n",
      "binary_vectors:\n",
      " [[0. 0. 1. 1. 1. 1. 0. 0. 0. 0.]\n",
      " [0. 0. 1. 1. 1. 0. 1. 0. 0. 0.]]\n",
      "\n",
      "test sequences: [[2, 3, 4, 1]]\n"
     ]
    }
   ],
   "source": [
    "from tensorflow.keras.preprocessing.text import Tokenizer\n",
    "from tensorflow.keras.utils import to_categorical # 원핫인코딩\n",
    "\n",
    "texts = ['You are the Best', \n",
    "         'You are the Nice']\n",
    "\n",
    "# num_words : 빈번하게 사용되는 단어의 개수\n",
    "# oov_token : 주어진 문장에 포함되지 않은 단어가 존재할 경우 '<OOV>' 로 대체\n",
    "tokenizer = Tokenizer(num_words = 10, oov_token =  '<OOV>')\n",
    "tokenizer.fit_on_texts(texts)\n",
    "\n",
    "# 텍스트 데이터를 정수 인덱스 형태로 변환합니다.\n",
    "sequences = tokenizer.texts_to_sequences(texts)\n",
    "\n",
    "# 이진 형태로 인코딩합니다.\n",
    "binary_results = tokenizer.sequences_to_matrix(sequences, mode = 'binary')\n",
    "\n",
    "print(tokenizer.word_index) # 토큰화\n",
    "print('--------------------')\n",
    "\n",
    "print(f'sequences: {sequences}\\n')\n",
    "print(f'binary_vectors:\\n {binary_results}\\n')\n",
    "# 원-핫 형태로 인코딩합니다.\n",
    "# print(to_categorical(sequences))\n",
    "\n",
    "test_text = ['You are the One']\n",
    "test_seq = tokenizer.texts_to_sequences(test_text)\n",
    "\n",
    "print(f'test sequences: {test_seq}')\n"
   ]
  },
  {
   "cell_type": "markdown",
   "metadata": {},
   "source": [
    "## 데이터셋 다운받기"
   ]
  },
  {
   "cell_type": "code",
   "execution_count": 2,
   "metadata": {},
   "outputs": [
    {
     "name": "stderr",
     "output_type": "stream",
     "text": [
      "C:\\Users\\028\\anaconda3\\lib\\site-packages\\tensorflow\\python\\keras\\datasets\\imdb.py:155: VisibleDeprecationWarning: Creating an ndarray from ragged nested sequences (which is a list-or-tuple of lists-or-tuples-or ndarrays with different lengths or shapes) is deprecated. If you meant to do this, you must specify 'dtype=object' when creating the ndarray\n",
      "  x_train, y_train = np.array(xs[:idx]), np.array(labels[:idx])\n",
      "C:\\Users\\028\\anaconda3\\lib\\site-packages\\tensorflow\\python\\keras\\datasets\\imdb.py:156: VisibleDeprecationWarning: Creating an ndarray from ragged nested sequences (which is a list-or-tuple of lists-or-tuples-or ndarrays with different lengths or shapes) is deprecated. If you meant to do this, you must specify 'dtype=object' when creating the ndarray\n",
      "  x_test, y_test = np.array(xs[idx:]), np.array(labels[idx:])\n"
     ]
    }
   ],
   "source": [
    "from tensorflow.keras.datasets import imdb\n",
    "\n",
    "num_words = 10000\n",
    "(X_train, y_train), (X_test, y_test) = imdb.load_data(num_words=num_words)"
   ]
  },
  {
   "cell_type": "markdown",
   "metadata": {},
   "source": [
    "## 데이터 형태 확인하기"
   ]
  },
  {
   "cell_type": "code",
   "execution_count": 3,
   "metadata": {},
   "outputs": [
    {
     "name": "stdout",
     "output_type": "stream",
     "text": [
      "(25000,) (25000,)\n",
      "(25000,) (25000,)\n"
     ]
    }
   ],
   "source": [
    "print(X_train.shape, y_train.shape)\n",
    "print(X_test.shape, y_test.shape)"
   ]
  },
  {
   "cell_type": "markdown",
   "metadata": {},
   "source": [
    "## 첫 번째 데이터 확인하기"
   ]
  },
  {
   "cell_type": "code",
   "execution_count": 4,
   "metadata": {},
   "outputs": [
    {
     "name": "stdout",
     "output_type": "stream",
     "text": [
      "[1, 14, 22, 16, 43, 530, 973, 1622, 1385, 65, 458, 4468, 66, 3941, 4, 173, 36, 256, 5, 25, 100, 43, 838, 112, 50, 670, 2, 9, 35, 480, 284, 5, 150, 4, 172, 112, 167, 2, 336, 385, 39, 4, 172, 4536, 1111, 17, 546, 38, 13, 447, 4, 192, 50, 16, 6, 147, 2025, 19, 14, 22, 4, 1920, 4613, 469, 4, 22, 71, 87, 12, 16, 43, 530, 38, 76, 15, 13, 1247, 4, 22, 17, 515, 17, 12, 16, 626, 18, 2, 5, 62, 386, 12, 8, 316, 8, 106, 5, 4, 2223, 5244, 16, 480, 66, 3785, 33, 4, 130, 12, 16, 38, 619, 5, 25, 124, 51, 36, 135, 48, 25, 1415, 33, 6, 22, 12, 215, 28, 77, 52, 5, 14, 407, 16, 82, 2, 8, 4, 107, 117, 5952, 15, 256, 4, 2, 7, 3766, 5, 723, 36, 71, 43, 530, 476, 26, 400, 317, 46, 7, 4, 2, 1029, 13, 104, 88, 4, 381, 15, 297, 98, 32, 2071, 56, 26, 141, 6, 194, 7486, 18, 4, 226, 22, 21, 134, 476, 26, 480, 5, 144, 30, 5535, 18, 51, 36, 28, 224, 92, 25, 104, 4, 226, 65, 16, 38, 1334, 88, 12, 16, 283, 5, 16, 4472, 113, 103, 32, 15, 16, 5345, 19, 178, 32]\n",
      "-------\n",
      "1\n"
     ]
    }
   ],
   "source": [
    "print(X_train[0])\n",
    "print('-------')\n",
    "print(y_train[0])"
   ]
  },
  {
   "cell_type": "markdown",
   "metadata": {},
   "source": [
    "## IMDB 데이터셋에서 가장 빈번하게 사용되는 3개의 단어"
   ]
  },
  {
   "cell_type": "code",
   "execution_count": 5,
   "metadata": {},
   "outputs": [
    {
     "name": "stdout",
     "output_type": "stream",
     "text": [
      "1 번째로 가장 많이 쓰인 단어 = the\n",
      "2 번째로 가장 많이 쓰인 단어 = and\n",
      "3 번째로 가장 많이 쓰인 단어 = a\n"
     ]
    }
   ],
   "source": [
    "imdb_get_word_index = {}\n",
    "\n",
    "for key, value in imdb.get_word_index().items():\n",
    "    imdb_get_word_index[value] = key\n",
    "    #print(imdb_get_word_index[value])\n",
    "    \n",
    "for i in range(1, 4):\n",
    "    print('{} 번째로 가장 많이 쓰인 단어 = {}'.format(i, imdb_get_word_index[i]))"
   ]
  },
  {
   "cell_type": "markdown",
   "metadata": {},
   "source": [
    "## 데이터를 동일한 길이로 맞추기\n",
    "- Embedding 층을 사용하기 위해서는 시퀀스 데이터(문장)의 길이가 전부 동일해야 한다. 이를위해 pad_sequences()함수를 사용한다\n",
    "- 이 함수는 해당 데이터가 지정해준 길이 보다 짧은 경우 0으로 채워넣고, 긴 경우는 잘라낸다"
   ]
  },
  {
   "cell_type": "code",
   "execution_count": 6,
   "metadata": {},
   "outputs": [
    {
     "name": "stdout",
     "output_type": "stream",
     "text": [
      "Before pad_sequences:  218\n",
      "After pad_sequences:  500\n"
     ]
    }
   ],
   "source": [
    "from tensorflow.keras.preprocessing.sequence import pad_sequences\n",
    "\n",
    "max_len = 500\n",
    "\n",
    "print('Before pad_sequences: ', len(X_train[0]))\n",
    "\n",
    "pad_X_train = pad_sequences(X_train, maxlen=max_len, padding = 'pre')\n",
    "pad_X_test = pad_sequences(X_test, maxlen=max_len, padding = 'pre')\n",
    "\n",
    "print('After pad_sequences: ', len(pad_X_train[0]))"
   ]
  },
  {
   "cell_type": "markdown",
   "metadata": {},
   "source": [
    "## Embedding 층을 사용하여 모델 구성하기\n",
    "- 모델의 첫 번째 층으로만 사용할 수 있다\n",
    "- 입력 : (batch_size, sequence_length) 형태로 입력\n",
    "- 출력 : (batch_size, sequence_length, output_dim)"
   ]
  },
  {
   "cell_type": "code",
   "execution_count": 7,
   "metadata": {},
   "outputs": [],
   "source": [
    "from tensorflow.keras.models import Sequential\n",
    "from tensorflow.keras.layers import Dense, Embedding, Flatten\n",
    "\n",
    "model = Sequential()\n",
    "\n",
    "# 이 층은 모델의 제일 첫 번째 층으로만 사용할 수 있습니다.\n",
    "# Flatten 층을 사용하기 위해 input_length를 전달합니다.\n",
    "# input_length 인자는 Embedding층과 연결된 층이 순환신경망일 경우엔 사용하지 않는다\n",
    "model.add(Embedding(input_dim = num_words, output_dim = 32, input_length = max_len))\n",
    "model.add(Flatten())\n",
    "model.add(Dense(1, activation = 'sigmoid'))\n",
    "\n",
    "model.compile(optimizer='adam',\n",
    "             loss = 'binary_crossentropy',\n",
    "             metrics = ['acc'])"
   ]
  },
  {
   "cell_type": "code",
   "execution_count": 8,
   "metadata": {},
   "outputs": [
    {
     "name": "stdout",
     "output_type": "stream",
     "text": [
      "Model: \"sequential\"\n",
      "_________________________________________________________________\n",
      "Layer (type)                 Output Shape              Param #   \n",
      "=================================================================\n",
      "embedding (Embedding)        (None, 500, 32)           320000    \n",
      "_________________________________________________________________\n",
      "flatten (Flatten)            (None, 16000)             0         \n",
      "_________________________________________________________________\n",
      "dense (Dense)                (None, 1)                 16001     \n",
      "=================================================================\n",
      "Total params: 336,001\n",
      "Trainable params: 336,001\n",
      "Non-trainable params: 0\n",
      "_________________________________________________________________\n"
     ]
    }
   ],
   "source": [
    "model.summary()"
   ]
  },
  {
   "cell_type": "markdown",
   "metadata": {},
   "source": [
    "## 모델 학습시키기"
   ]
  },
  {
   "cell_type": "code",
   "execution_count": 9,
   "metadata": {},
   "outputs": [
    {
     "name": "stdout",
     "output_type": "stream",
     "text": [
      "Epoch 1/30\n",
      "625/625 [==============================] - 4s 6ms/step - loss: 0.4784 - acc: 0.7577 - val_loss: 0.3096 - val_acc: 0.8662\n",
      "Epoch 2/30\n",
      "625/625 [==============================] - 4s 6ms/step - loss: 0.2009 - acc: 0.9258 - val_loss: 0.2755 - val_acc: 0.8854\n",
      "Epoch 3/30\n",
      "625/625 [==============================] - 4s 6ms/step - loss: 0.1070 - acc: 0.9711 - val_loss: 0.2933 - val_acc: 0.8812\n",
      "Epoch 4/30\n",
      "625/625 [==============================] - 4s 6ms/step - loss: 0.0521 - acc: 0.9905 - val_loss: 0.3092 - val_acc: 0.8826\n",
      "Epoch 5/30\n",
      "625/625 [==============================] - 4s 6ms/step - loss: 0.0241 - acc: 0.9974 - val_loss: 0.3342 - val_acc: 0.8824\n",
      "Epoch 6/30\n",
      "625/625 [==============================] - 4s 6ms/step - loss: 0.0120 - acc: 0.9995 - val_loss: 0.3579 - val_acc: 0.8812\n",
      "Epoch 7/30\n",
      "625/625 [==============================] - 4s 6ms/step - loss: 0.0064 - acc: 0.9998 - val_loss: 0.3791 - val_acc: 0.8790\n",
      "Epoch 8/30\n",
      "625/625 [==============================] - 4s 6ms/step - loss: 0.0038 - acc: 0.9999 - val_loss: 0.4029 - val_acc: 0.8782\n",
      "Epoch 9/30\n",
      "625/625 [==============================] - 4s 6ms/step - loss: 0.0023 - acc: 0.9999 - val_loss: 0.4216 - val_acc: 0.8794\n",
      "Epoch 10/30\n",
      "625/625 [==============================] - 4s 6ms/step - loss: 0.0015 - acc: 1.0000 - val_loss: 0.4417 - val_acc: 0.8752\n",
      "Epoch 11/30\n",
      "625/625 [==============================] - 4s 6ms/step - loss: 9.3731e-04 - acc: 1.0000 - val_loss: 0.4624 - val_acc: 0.8742\n",
      "Epoch 12/30\n",
      "625/625 [==============================] - 4s 6ms/step - loss: 6.2317e-04 - acc: 1.0000 - val_loss: 0.4802 - val_acc: 0.8740\n",
      "Epoch 13/30\n",
      "625/625 [==============================] - 4s 6ms/step - loss: 4.2918e-04 - acc: 1.0000 - val_loss: 0.4982 - val_acc: 0.8742\n",
      "Epoch 14/30\n",
      "625/625 [==============================] - 4s 6ms/step - loss: 2.8595e-04 - acc: 1.0000 - val_loss: 0.5157 - val_acc: 0.8750\n",
      "Epoch 15/30\n",
      "625/625 [==============================] - 4s 6ms/step - loss: 1.9642e-04 - acc: 1.0000 - val_loss: 0.5330 - val_acc: 0.8758\n",
      "Epoch 16/30\n",
      "625/625 [==============================] - 4s 6ms/step - loss: 1.3589e-04 - acc: 1.0000 - val_loss: 0.5509 - val_acc: 0.8742\n",
      "Epoch 17/30\n",
      "625/625 [==============================] - 4s 6ms/step - loss: 9.5596e-05 - acc: 1.0000 - val_loss: 0.5702 - val_acc: 0.8744\n",
      "Epoch 18/30\n",
      "625/625 [==============================] - 4s 6ms/step - loss: 6.6265e-05 - acc: 1.0000 - val_loss: 0.5872 - val_acc: 0.8726\n",
      "Epoch 19/30\n",
      "625/625 [==============================] - 4s 6ms/step - loss: 4.6473e-05 - acc: 1.0000 - val_loss: 0.6047 - val_acc: 0.8732\n",
      "Epoch 20/30\n",
      "625/625 [==============================] - 4s 6ms/step - loss: 3.3161e-05 - acc: 1.0000 - val_loss: 0.6221 - val_acc: 0.8746\n",
      "Epoch 21/30\n",
      "625/625 [==============================] - 4s 6ms/step - loss: 2.3270e-05 - acc: 1.0000 - val_loss: 0.6371 - val_acc: 0.8756\n",
      "Epoch 22/30\n",
      "625/625 [==============================] - 4s 6ms/step - loss: 1.6341e-05 - acc: 1.0000 - val_loss: 0.6543 - val_acc: 0.8734\n",
      "Epoch 23/30\n",
      "625/625 [==============================] - 4s 6ms/step - loss: 1.1565e-05 - acc: 1.0000 - val_loss: 0.6736 - val_acc: 0.8726\n",
      "Epoch 24/30\n",
      "625/625 [==============================] - 4s 7ms/step - loss: 8.3526e-06 - acc: 1.0000 - val_loss: 0.6886 - val_acc: 0.8740\n",
      "Epoch 25/30\n",
      "625/625 [==============================] - 4s 7ms/step - loss: 5.9642e-06 - acc: 1.0000 - val_loss: 0.7067 - val_acc: 0.8728\n",
      "Epoch 26/30\n",
      "625/625 [==============================] - 4s 6ms/step - loss: 4.2836e-06 - acc: 1.0000 - val_loss: 0.7237 - val_acc: 0.8732\n",
      "Epoch 27/30\n",
      "625/625 [==============================] - 4s 6ms/step - loss: 3.1023e-06 - acc: 1.0000 - val_loss: 0.7398 - val_acc: 0.8738\n",
      "Epoch 28/30\n",
      "625/625 [==============================] - 4s 6ms/step - loss: 2.2668e-06 - acc: 1.0000 - val_loss: 0.7549 - val_acc: 0.8732\n",
      "Epoch 29/30\n",
      "625/625 [==============================] - 4s 6ms/step - loss: 1.6856e-06 - acc: 1.0000 - val_loss: 0.7707 - val_acc: 0.8732\n",
      "Epoch 30/30\n",
      "625/625 [==============================] - 4s 6ms/step - loss: 1.2340e-06 - acc: 1.0000 - val_loss: 0.7856 - val_acc: 0.8738\n"
     ]
    }
   ],
   "source": [
    "history = model.fit(pad_X_train, y_train, \n",
    "                    batch_size = 32, \n",
    "                    epochs = 30, \n",
    "                    validation_split = 0.2)"
   ]
  },
  {
   "cell_type": "markdown",
   "metadata": {},
   "source": [
    "## 모델 평가하기"
   ]
  },
  {
   "cell_type": "code",
   "execution_count": 10,
   "metadata": {},
   "outputs": [
    {
     "name": "stdout",
     "output_type": "stream",
     "text": [
      "782/782 [==============================] - 1s 2ms/step - loss: 0.7897 - acc: 0.8699\n"
     ]
    },
    {
     "data": {
      "text/plain": [
       "[0.7896711230278015, 0.8698800206184387]"
      ]
     },
     "execution_count": 10,
     "metadata": {},
     "output_type": "execute_result"
    }
   ],
   "source": [
    "model.evaluate(pad_X_test, y_test)"
   ]
  },
  {
   "cell_type": "markdown",
   "metadata": {},
   "source": [
    "## 학습과정 확인하기"
   ]
  },
  {
   "cell_type": "code",
   "execution_count": 11,
   "metadata": {},
   "outputs": [
    {
     "data": {
      "image/png": "[encoded data removed]",
      "text/plain": [
       "<Figure size 720x360 with 2 Axes>"
      ]
     },
     "metadata": {
      "needs_background": "light"
     },
     "output_type": "display_data"
    }
   ],
   "source": [
    "import matplotlib.pyplot as plt\n",
    "\n",
    "his_dict = history.history\n",
    "loss = his_dict['loss']\n",
    "val_loss = his_dict['val_loss'] \n",
    "\n",
    "epochs = range(1, len(loss) + 1)\n",
    "fig = plt.figure(figsize = (10, 5))\n",
    "\n",
    "# 훈련 및 검증 손실 그리기\n",
    "ax1 = fig.add_subplot(1, 2, 1)\n",
    "ax1.plot(epochs, loss, color = 'blue', label = 'train_loss')\n",
    "ax1.plot(epochs, val_loss, color = 'orange', label = 'val_loss')\n",
    "ax1.set_title('train and val loss')\n",
    "ax1.set_xlabel('epochs')\n",
    "ax1.set_ylabel('loss')\n",
    "ax1.legend()\n",
    "\n",
    "acc = his_dict['acc']\n",
    "val_acc = his_dict['val_acc']\n",
    "\n",
    "# 훈련 및 검증 정확도 그리기\n",
    "ax2 = fig.add_subplot(1, 2, 2)\n",
    "ax2.plot(epochs, acc, color = 'blue', label = 'train_acc')\n",
    "ax2.plot(epochs, val_acc, color = 'orange', label = 'val_acc')\n",
    "ax2.set_title('train and val acc')\n",
    "ax2.set_xlabel('epochs')\n",
    "ax2.set_ylabel('acc')\n",
    "ax2.legend()\n",
    "\n",
    "plt.show()"
   ]
  },
  {
   "cell_type": "code",
   "execution_count": null,
   "metadata": {},
   "outputs": [],
   "source": []
  }
 ],
 "metadata": {
  "kernelspec": {
   "display_name": "Python 3",
   "language": "python",
   "name": "python3"
  },
  "language_info": {
   "codemirror_mode": {
    "name": "ipython",
    "version": 3
   },
   "file_extension": ".py",
   "mimetype": "text/x-python",
   "name": "python",
   "nbconvert_exporter": "python",
   "pygments_lexer": "ipython3",
   "version": "3.8.5"
  }
 },
 "nbformat": 4,
 "nbformat_minor": 2
}
