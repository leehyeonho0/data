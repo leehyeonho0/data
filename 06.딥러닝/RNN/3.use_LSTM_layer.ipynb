{
 "cells": [
  {
   "cell_type": "markdown",
   "metadata": {},
   "source": [
    "## IMDB 데이터셋으로 LSTM 학습시키기"
   ]
  },
  {
   "cell_type": "code",
   "execution_count": 1,
   "metadata": {},
   "outputs": [
    {
     "name": "stderr",
     "output_type": "stream",
     "text": [
      "C:\\Users\\028\\anaconda3\\lib\\site-packages\\tensorflow\\python\\keras\\datasets\\imdb.py:155: VisibleDeprecationWarning: Creating an ndarray from ragged nested sequences (which is a list-or-tuple of lists-or-tuples-or ndarrays with different lengths or shapes) is deprecated. If you meant to do this, you must specify 'dtype=object' when creating the ndarray\n",
      "  x_train, y_train = np.array(xs[:idx]), np.array(labels[:idx])\n"
     ]
    },
    {
     "name": "stdout",
     "output_type": "stream",
     "text": [
      "(25000,) (25000,)\n",
      "(25000,) (25000,)\n"
     ]
    },
    {
     "name": "stderr",
     "output_type": "stream",
     "text": [
      "C:\\Users\\028\\anaconda3\\lib\\site-packages\\tensorflow\\python\\keras\\datasets\\imdb.py:156: VisibleDeprecationWarning: Creating an ndarray from ragged nested sequences (which is a list-or-tuple of lists-or-tuples-or ndarrays with different lengths or shapes) is deprecated. If you meant to do this, you must specify 'dtype=object' when creating the ndarray\n",
      "  x_test, y_test = np.array(xs[idx:]), np.array(labels[idx:])\n"
     ]
    }
   ],
   "source": [
    "from tensorflow.keras.datasets import imdb\n",
    "\n",
    "num_words = 10000\n",
    "(X_train, y_train), (X_test, y_test) = imdb.load_data(num_words=num_words)\n",
    "\n",
    "print(X_train.shape, y_train.shape)\n",
    "print(X_test.shape, y_test.shape)"
   ]
  },
  {
   "cell_type": "code",
   "execution_count": 2,
   "metadata": {},
   "outputs": [
    {
     "name": "stdout",
     "output_type": "stream",
     "text": [
      "350\n"
     ]
    }
   ],
   "source": [
    "from tensorflow.keras.preprocessing.sequence import pad_sequences\n",
    "\n",
    "max_len = 350\n",
    "# X_train의 모든 문장의 길이를 350으로 고정한다.\n",
    "pad_X_train = pad_sequences(X_train, maxlen=max_len)\n",
    "pad_X_test = pad_sequences(X_test, maxlen=max_len)\n",
    "\n",
    "print(len(pad_X_train[0]))"
   ]
  },
  {
   "cell_type": "code",
   "execution_count": 3,
   "metadata": {},
   "outputs": [],
   "source": [
    "from tensorflow.keras.models import Sequential\n",
    "from tensorflow.keras.layers import LSTM, Dense, Embedding  \n",
    "\n",
    "model = Sequential()\n",
    "\n",
    "model.add(Embedding(input_dim = num_words, output_dim = 32))\n",
    "model.add(LSTM(64, return_sequences = True))\n",
    "model.add(LSTM(64, return_sequences = True))\n",
    "model.add(LSTM(32))\n",
    "model.add(Dense(1, activation = 'sigmoid'))\n",
    "\n",
    "model.compile(optimizer='adam',\n",
    "             loss = 'binary_crossentropy',\n",
    "             metrics = ['acc'])"
   ]
  },
  {
   "cell_type": "code",
   "execution_count": 4,
   "metadata": {
    "scrolled": true
   },
   "outputs": [
    {
     "name": "stdout",
     "output_type": "stream",
     "text": [
      "Model: \"sequential\"\n",
      "_________________________________________________________________\n",
      "Layer (type)                 Output Shape              Param #   \n",
      "=================================================================\n",
      "embedding (Embedding)        (None, None, 32)          320000    \n",
      "_________________________________________________________________\n",
      "lstm (LSTM)                  (None, None, 64)          24832     \n",
      "_________________________________________________________________\n",
      "lstm_1 (LSTM)                (None, None, 64)          33024     \n",
      "_________________________________________________________________\n",
      "lstm_2 (LSTM)                (None, 32)                12416     \n",
      "_________________________________________________________________\n",
      "dense (Dense)                (None, 1)                 33        \n",
      "=================================================================\n",
      "Total params: 390,305\n",
      "Trainable params: 390,305\n",
      "Non-trainable params: 0\n",
      "_________________________________________________________________\n"
     ]
    }
   ],
   "source": [
    "model.summary()"
   ]
  },
  {
   "cell_type": "code",
   "execution_count": 5,
   "metadata": {},
   "outputs": [
    {
     "name": "stdout",
     "output_type": "stream",
     "text": [
      "Epoch 1/15\n",
      "625/625 [==============================] - 160s 257ms/step - loss: 0.4377 - acc: 0.7961 - val_loss: 0.3275 - val_acc: 0.8696\n",
      "Epoch 2/15\n",
      "625/625 [==============================] - 157s 251ms/step - loss: 0.2619 - acc: 0.9011 - val_loss: 0.3191 - val_acc: 0.8584\n",
      "Epoch 3/15\n",
      "625/625 [==============================] - 157s 251ms/step - loss: 0.1967 - acc: 0.9291 - val_loss: 0.3283 - val_acc: 0.8770\n",
      "Epoch 4/15\n",
      "625/625 [==============================] - 158s 253ms/step - loss: 0.1526 - acc: 0.9463 - val_loss: 0.3755 - val_acc: 0.8476\n",
      "Epoch 5/15\n",
      "625/625 [==============================] - 158s 253ms/step - loss: 0.1147 - acc: 0.9614 - val_loss: 0.3564 - val_acc: 0.8622\n",
      "Epoch 6/15\n",
      "625/625 [==============================] - 157s 251ms/step - loss: 0.0877 - acc: 0.9718 - val_loss: 0.4613 - val_acc: 0.8642\n",
      "Epoch 7/15\n",
      "625/625 [==============================] - 158s 252ms/step - loss: 0.0680 - acc: 0.9782 - val_loss: 0.4925 - val_acc: 0.8410\n",
      "Epoch 8/15\n",
      "625/625 [==============================] - 157s 251ms/step - loss: 0.0613 - acc: 0.9803 - val_loss: 0.5090 - val_acc: 0.8552\n",
      "Epoch 9/15\n",
      "625/625 [==============================] - 157s 251ms/step - loss: 0.0687 - acc: 0.9789 - val_loss: 0.5403 - val_acc: 0.8434\n",
      "Epoch 10/15\n",
      "625/625 [==============================] - 158s 253ms/step - loss: 0.0532 - acc: 0.9833 - val_loss: 0.5495 - val_acc: 0.8560\n",
      "Epoch 11/15\n",
      "625/625 [==============================] - 157s 252ms/step - loss: 0.0366 - acc: 0.9901 - val_loss: 0.6113 - val_acc: 0.8430\n",
      "Epoch 12/15\n",
      "625/625 [==============================] - 157s 252ms/step - loss: 0.0332 - acc: 0.9903 - val_loss: 0.6274 - val_acc: 0.8514\n",
      "Epoch 13/15\n",
      "625/625 [==============================] - 157s 252ms/step - loss: 0.0355 - acc: 0.9896 - val_loss: 0.5827 - val_acc: 0.8368\n",
      "Epoch 14/15\n",
      "625/625 [==============================] - 157s 251ms/step - loss: 0.0271 - acc: 0.9919 - val_loss: 0.7158 - val_acc: 0.8482\n",
      "Epoch 15/15\n",
      "625/625 [==============================] - 157s 251ms/step - loss: 0.0207 - acc: 0.9944 - val_loss: 0.7526 - val_acc: 0.8300\n"
     ]
    }
   ],
   "source": [
    "history = model.fit(pad_X_train, y_train, \n",
    "                    batch_size = 32, epochs = 15, \n",
    "                    validation_split = 0.2)"
   ]
  },
  {
   "cell_type": "code",
   "execution_count": 6,
   "metadata": {},
   "outputs": [
    {
     "data": {
      "image/png": "[encoded data removed]",
      "text/plain": [
       "<Figure size 720x360 with 2 Axes>"
      ]
     },
     "metadata": {
      "needs_background": "light"
     },
     "output_type": "display_data"
    }
   ],
   "source": [
    "import matplotlib.pyplot as plt\n",
    "\n",
    "his_dict = history.history\n",
    "loss = his_dict['loss']\n",
    "val_loss = his_dict['val_loss'] \n",
    "\n",
    "epochs = range(1, len(loss) + 1)\n",
    "fig = plt.figure(figsize = (10, 5))\n",
    "\n",
    "# 훈련 및 검증 손실 그리기\n",
    "ax1 = fig.add_subplot(1, 2, 1)\n",
    "ax1.plot(epochs, loss, color = 'blue', label = 'train_loss')\n",
    "ax1.plot(epochs, val_loss, color = 'orange', label = 'val_loss')\n",
    "ax1.set_title('train and val loss')\n",
    "ax1.set_xlabel('epochs')\n",
    "ax1.set_ylabel('loss')\n",
    "ax1.legend()\n",
    "\n",
    "acc = his_dict['acc']\n",
    "val_acc = his_dict['val_acc']\n",
    "\n",
    "# 훈련 및 검증 정확도 그리기\n",
    "ax2 = fig.add_subplot(1, 2, 2)\n",
    "ax2.plot(epochs, acc, color = 'blue', label = 'train_acc')\n",
    "ax2.plot(epochs, val_acc, color = 'orange', label = 'val_acc')\n",
    "ax2.set_title('train and val acc')\n",
    "ax2.set_xlabel('epochs')\n",
    "ax2.set_ylabel('acc')\n",
    "ax2.legend()\n",
    "\n",
    "plt.show()"
   ]
  },
  {
   "cell_type": "markdown",
   "metadata": {},
   "source": [
    "## reuters 데이터셋 다뤄보기"
   ]
  },
  {
   "cell_type": "code",
   "execution_count": 7,
   "metadata": {},
   "outputs": [
    {
     "name": "stdout",
     "output_type": "stream",
     "text": [
      "Downloading data from https://storage.googleapis.com/tensorflow/tf-keras-datasets/reuters.npz\n",
      "2113536/2110848 [==============================] - 0s 0us/step\n"
     ]
    },
    {
     "name": "stderr",
     "output_type": "stream",
     "text": [
      "C:\\Users\\028\\anaconda3\\lib\\site-packages\\tensorflow\\python\\keras\\datasets\\reuters.py:148: VisibleDeprecationWarning: Creating an ndarray from ragged nested sequences (which is a list-or-tuple of lists-or-tuples-or ndarrays with different lengths or shapes) is deprecated. If you meant to do this, you must specify 'dtype=object' when creating the ndarray\n",
      "  x_train, y_train = np.array(xs[:idx]), np.array(labels[:idx])\n",
      "C:\\Users\\028\\anaconda3\\lib\\site-packages\\tensorflow\\python\\keras\\datasets\\reuters.py:149: VisibleDeprecationWarning: Creating an ndarray from ragged nested sequences (which is a list-or-tuple of lists-or-tuples-or ndarrays with different lengths or shapes) is deprecated. If you meant to do this, you must specify 'dtype=object' when creating the ndarray\n",
      "  x_test, y_test = np.array(xs[idx:]), np.array(labels[idx:])\n"
     ]
    },
    {
     "name": "stdout",
     "output_type": "stream",
     "text": [
      "(8982,) (8982,)\n",
      "(2246,) (2246,)\n",
      "500\n"
     ]
    }
   ],
   "source": [
    "from tensorflow.keras.datasets import reuters\n",
    "\n",
    "num_words = 10000\n",
    "(X_train, y_train), (X_test, y_test) = reuters.load_data(num_words=num_words)\n",
    "\n",
    "print(X_train.shape, y_train.shape)\n",
    "print(X_test.shape, y_test.shape)\n",
    "\n",
    "from tensorflow.keras.preprocessing.sequence import pad_sequences\n",
    "\n",
    "max_len = 500\n",
    "\n",
    "pad_X_train = pad_sequences(X_train, maxlen=max_len)\n",
    "pad_X_test = pad_sequences(X_test, maxlen=max_len)\n",
    "\n",
    "print(len(pad_X_train[0]))"
   ]
  },
  {
   "cell_type": "markdown",
   "metadata": {},
   "source": [
    "## LSTM 층을 사용하여 모델 구성하기"
   ]
  },
  {
   "cell_type": "code",
   "execution_count": 8,
   "metadata": {},
   "outputs": [],
   "source": [
    "from tensorflow.keras.models import Sequential\n",
    "from tensorflow.keras.layers import LSTM, Dense, Embedding  \n",
    "\n",
    "model = Sequential()\n",
    "\n",
    "model.add(Embedding(input_dim = num_words, output_dim = 64))\n",
    "model.add(LSTM(64, return_sequences = True))\n",
    "model.add(LSTM(32))\n",
    "model.add(Dense(46, activation = 'softmax'))\n",
    "\n",
    "model.compile(optimizer='adam',\n",
    "             loss = 'sparse_categorical_crossentropy',\n",
    "             metrics = ['acc'])"
   ]
  },
  {
   "cell_type": "markdown",
   "metadata": {},
   "source": [
    "## 모델 학습하기"
   ]
  },
  {
   "cell_type": "code",
   "execution_count": 9,
   "metadata": {
    "scrolled": true
   },
   "outputs": [
    {
     "name": "stdout",
     "output_type": "stream",
     "text": [
      "Epoch 1/20\n",
      "225/225 [==============================] - 69s 306ms/step - loss: 2.5619 - acc: 0.3496 - val_loss: 2.4126 - val_acc: 0.3450\n",
      "Epoch 2/20\n",
      "225/225 [==============================] - 67s 300ms/step - loss: 2.4127 - acc: 0.3534 - val_loss: 2.4082 - val_acc: 0.3450\n",
      "Epoch 3/20\n",
      "225/225 [==============================] - 67s 296ms/step - loss: 2.2857 - acc: 0.3854 - val_loss: 2.0691 - val_acc: 0.4786\n",
      "Epoch 4/20\n",
      "225/225 [==============================] - 121s 540ms/step - loss: 1.8748 - acc: 0.5042 - val_loss: 1.8989 - val_acc: 0.4869\n",
      "Epoch 5/20\n",
      "225/225 [==============================] - 140s 620ms/step - loss: 1.7256 - acc: 0.5481 - val_loss: 1.7749 - val_acc: 0.5242\n",
      "Epoch 6/20\n",
      "225/225 [==============================] - 142s 629ms/step - loss: 1.6715 - acc: 0.5711 - val_loss: 1.7329 - val_acc: 0.5576\n",
      "Epoch 7/20\n",
      "225/225 [==============================] - 110s 491ms/step - loss: 1.5734 - acc: 0.6064 - val_loss: 1.6746 - val_acc: 0.5793\n",
      "Epoch 8/20\n",
      "225/225 [==============================] - 65s 288ms/step - loss: 1.4735 - acc: 0.6340 - val_loss: 1.6391 - val_acc: 0.5865\n",
      "Epoch 9/20\n",
      "225/225 [==============================] - 64s 285ms/step - loss: 1.4207 - acc: 0.6415 - val_loss: 1.6136 - val_acc: 0.6027\n",
      "Epoch 10/20\n",
      "225/225 [==============================] - 64s 286ms/step - loss: 1.3541 - acc: 0.6582 - val_loss: 1.5924 - val_acc: 0.6138\n",
      "Epoch 11/20\n",
      "225/225 [==============================] - 64s 286ms/step - loss: 1.3069 - acc: 0.6692 - val_loss: 1.5742 - val_acc: 0.6183\n",
      "Epoch 12/20\n",
      "225/225 [==============================] - 67s 298ms/step - loss: 1.2636 - acc: 0.6772 - val_loss: 1.5770 - val_acc: 0.6194\n",
      "Epoch 13/20\n",
      "225/225 [==============================] - 66s 295ms/step - loss: 1.2120 - acc: 0.6934 - val_loss: 1.5849 - val_acc: 0.6110\n",
      "Epoch 14/20\n",
      "225/225 [==============================] - 64s 286ms/step - loss: 1.1776 - acc: 0.6981 - val_loss: 1.5954 - val_acc: 0.6238\n",
      "Epoch 15/20\n",
      "225/225 [==============================] - 64s 285ms/step - loss: 1.1639 - acc: 0.7049 - val_loss: 1.5622 - val_acc: 0.6238\n",
      "Epoch 16/20\n",
      "225/225 [==============================] - 64s 285ms/step - loss: 1.0846 - acc: 0.7228 - val_loss: 1.5672 - val_acc: 0.6221\n",
      "Epoch 17/20\n",
      "225/225 [==============================] - 64s 285ms/step - loss: 1.0214 - acc: 0.7396 - val_loss: 1.5426 - val_acc: 0.6277\n",
      "Epoch 18/20\n",
      "225/225 [==============================] - 64s 286ms/step - loss: 1.0492 - acc: 0.7370 - val_loss: 1.5765 - val_acc: 0.6305\n",
      "Epoch 19/20\n",
      "225/225 [==============================] - 64s 286ms/step - loss: 0.9603 - acc: 0.7539 - val_loss: 1.5692 - val_acc: 0.6311\n",
      "Epoch 20/20\n",
      "225/225 [==============================] - 65s 288ms/step - loss: 0.9315 - acc: 0.7674 - val_loss: 1.6130 - val_acc: 0.6366\n"
     ]
    }
   ],
   "source": [
    "history = model.fit(pad_X_train, y_train, \n",
    "                    batch_size = 32, epochs = 20, \n",
    "                    validation_split = 0.2)"
   ]
  },
  {
   "cell_type": "markdown",
   "metadata": {},
   "source": [
    "## 학습과정 그리기"
   ]
  },
  {
   "cell_type": "code",
   "execution_count": 10,
   "metadata": {
    "scrolled": true
   },
   "outputs": [
    {
     "data": {
      "image/png": "[encoded data removed]",
      "text/plain": [
       "<Figure size 720x360 with 2 Axes>"
      ]
     },
     "metadata": {
      "needs_background": "light"
     },
     "output_type": "display_data"
    }
   ],
   "source": [
    "import matplotlib.pyplot as plt\n",
    "\n",
    "his_dict = history.history\n",
    "loss = his_dict['loss']\n",
    "val_loss = his_dict['val_loss'] \n",
    "\n",
    "epochs = range(1, len(loss) + 1)\n",
    "fig = plt.figure(figsize = (10, 5))\n",
    "\n",
    "# 훈련 및 검증 손실 그리기\n",
    "ax1 = fig.add_subplot(1, 2, 1)\n",
    "ax1.plot(epochs, loss, color = 'blue', label = 'train_loss')\n",
    "ax1.plot(epochs, val_loss, color = 'orange', label = 'val_loss')\n",
    "ax1.set_title('train and val loss')\n",
    "ax1.set_xlabel('epochs')\n",
    "ax1.set_ylabel('loss')\n",
    "ax1.legend()\n",
    "\n",
    "acc = his_dict['acc']\n",
    "val_acc = his_dict['val_acc']\n",
    "\n",
    "# 훈련 및 검증 정확도 그리기\n",
    "ax2 = fig.add_subplot(1, 2, 2)\n",
    "ax2.plot(epochs, acc, color = 'blue', label = 'train_acc')\n",
    "ax2.plot(epochs, val_acc, color = 'orange', label = 'val_acc')\n",
    "ax2.set_title('train and val acc')\n",
    "ax2.set_xlabel('epochs')\n",
    "ax2.set_ylabel('acc')\n",
    "ax2.legend()\n",
    "\n",
    "plt.show()"
   ]
  },
  {
   "cell_type": "code",
   "execution_count": null,
   "metadata": {},
   "outputs": [],
   "source": []
  }
 ],
 "metadata": {
  "kernelspec": {
   "display_name": "Python 3",
   "language": "python",
   "name": "python3"
  },
  "language_info": {
   "codemirror_mode": {
    "name": "ipython",
    "version": 3
   },
   "file_extension": ".py",
   "mimetype": "text/x-python",
   "name": "python",
   "nbconvert_exporter": "python",
   "pygments_lexer": "ipython3",
   "version": "3.8.5"
  }
 },
 "nbformat": 4,
 "nbformat_minor": 2
}
