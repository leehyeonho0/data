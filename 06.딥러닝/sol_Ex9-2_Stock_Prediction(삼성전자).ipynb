{
 "cells": [
  {
   "cell_type": "markdown",
   "metadata": {},
   "source": [
    "# Ex 9-2: Stock Prediction"
   ]
  },
  {
   "cell_type": "markdown",
   "metadata": {},
   "source": [
    "- 주가 예측 모델을 만드는 것이 목표 \n",
    "- 5일 간의 open, high, low, close, volume, change 값을 사용하여 그 다음날 close 값을 예측\n"
   ]
  },
  {
   "cell_type": "code",
   "execution_count": 1,
   "metadata": {
    "scrolled": true
   },
   "outputs": [
    {
     "name": "stdout",
     "output_type": "stream",
     "text": [
      "Collecting finance-datareader\n",
      "  Downloading finance_datareader-0.9.31-py3-none-any.whl (17 kB)\n",
      "Requirement already satisfied: requests>=2.3.0 in c:\\users\\028\\anaconda3\\lib\\site-packages (from finance-datareader) (2.24.0)\n",
      "Requirement already satisfied: pandas>=0.19.2 in c:\\users\\028\\anaconda3\\lib\\site-packages (from finance-datareader) (1.1.3)\n",
      "Requirement already satisfied: tqdm in c:\\users\\028\\anaconda3\\lib\\site-packages (from finance-datareader) (4.50.2)\n",
      "Collecting requests-file\n",
      "  Downloading requests_file-1.5.1-py2.py3-none-any.whl (3.7 kB)\n",
      "Requirement already satisfied: lxml in c:\\users\\028\\anaconda3\\lib\\site-packages (from finance-datareader) (4.6.1)\n",
      "Requirement already satisfied: idna<3,>=2.5 in c:\\users\\028\\anaconda3\\lib\\site-packages (from requests>=2.3.0->finance-datareader) (2.10)\n",
      "Requirement already satisfied: certifi>=2017.4.17 in c:\\users\\028\\anaconda3\\lib\\site-packages (from requests>=2.3.0->finance-datareader) (2020.6.20)\n",
      "Requirement already satisfied: urllib3!=1.25.0,!=1.25.1,<1.26,>=1.21.1 in c:\\users\\028\\anaconda3\\lib\\site-packages (from requests>=2.3.0->finance-datareader) (1.25.11)\n",
      "Requirement already satisfied: chardet<4,>=3.0.2 in c:\\users\\028\\anaconda3\\lib\\site-packages (from requests>=2.3.0->finance-datareader) (3.0.4)\n",
      "Requirement already satisfied: python-dateutil>=2.7.3 in c:\\users\\028\\anaconda3\\lib\\site-packages (from pandas>=0.19.2->finance-datareader) (2.8.1)\n",
      "Requirement already satisfied: numpy>=1.15.4 in c:\\users\\028\\anaconda3\\lib\\site-packages (from pandas>=0.19.2->finance-datareader) (1.19.2)\n",
      "Requirement already satisfied: pytz>=2017.2 in c:\\users\\028\\anaconda3\\lib\\site-packages (from pandas>=0.19.2->finance-datareader) (2020.1)\n",
      "Requirement already satisfied: six in c:\\users\\028\\anaconda3\\lib\\site-packages (from requests-file->finance-datareader) (1.15.0)\n",
      "Installing collected packages: requests-file, finance-datareader\n",
      "Successfully installed finance-datareader-0.9.31 requests-file-1.5.1\n"
     ]
    }
   ],
   "source": [
    "#!pip install finance-datareader"
   ]
  },
  {
   "cell_type": "code",
   "execution_count": 1,
   "metadata": {
    "scrolled": true
   },
   "outputs": [
    {
     "name": "stderr",
     "output_type": "stream",
     "text": [
      "Using TensorFlow backend.\n"
     ]
    }
   ],
   "source": [
    "from keras.models import Sequential, load_model\n",
    "from keras import layers\n",
    "from keras import backend as K\n",
    "from keras import optimizers\n",
    "from keras.utils import plot_model\n",
    "from keras.callbacks import EarlyStopping, TensorBoard, ModelCheckpoint\n",
    "from keras.preprocessing import image\n",
    "\n",
    "import numpy as np\n",
    "import matplotlib.pyplot as plt\n",
    "from IPython.display import Image\n",
    "import time\n",
    "from sklearn.preprocessing import MinMaxScaler\n",
    "from sklearn.metrics import mean_absolute_error\n",
    "from datetime import datetime\n",
    "import FinanceDataReader as fdr\n"
   ]
  },
  {
   "cell_type": "markdown",
   "metadata": {},
   "source": [
    "## Data 준비\n",
    "\n",
    "### Data 불러오기"
   ]
  },
  {
   "cell_type": "markdown",
   "metadata": {},
   "source": [
    "- 원하는 주식 종목을 선택하여 데이터를 불러옴 "
   ]
  },
  {
   "cell_type": "code",
   "execution_count": 2,
   "metadata": {},
   "outputs": [
    {
     "data": {
      "text/html": [
       "<div>\n",
       "<style scoped>\n",
       "    .dataframe tbody tr th:only-of-type {\n",
       "        vertical-align: middle;\n",
       "    }\n",
       "\n",
       "    .dataframe tbody tr th {\n",
       "        vertical-align: top;\n",
       "    }\n",
       "\n",
       "    .dataframe thead th {\n",
       "        text-align: right;\n",
       "    }\n",
       "</style>\n",
       "<table border=\"1\" class=\"dataframe\">\n",
       "  <thead>\n",
       "    <tr style=\"text-align: right;\">\n",
       "      <th></th>\n",
       "      <th>Symbol</th>\n",
       "      <th>Market</th>\n",
       "      <th>Name</th>\n",
       "      <th>Sector</th>\n",
       "      <th>Industry</th>\n",
       "      <th>ListingDate</th>\n",
       "      <th>SettleMonth</th>\n",
       "      <th>Representative</th>\n",
       "      <th>HomePage</th>\n",
       "      <th>Region</th>\n",
       "    </tr>\n",
       "  </thead>\n",
       "  <tbody>\n",
       "    <tr>\n",
       "      <th>0</th>\n",
       "      <td>060310</td>\n",
       "      <td>KOSDAQ</td>\n",
       "      <td>3S</td>\n",
       "      <td>특수 목적용 기계 제조업</td>\n",
       "      <td>반도체 웨이퍼 캐리어</td>\n",
       "      <td>2002-04-23</td>\n",
       "      <td>03월</td>\n",
       "      <td>박종익, 김세완 (각자 대표이사)</td>\n",
       "      <td>http://www.3sref.com</td>\n",
       "      <td>서울특별시</td>\n",
       "    </tr>\n",
       "    <tr>\n",
       "      <th>1</th>\n",
       "      <td>095570</td>\n",
       "      <td>KOSPI</td>\n",
       "      <td>AJ네트웍스</td>\n",
       "      <td>산업용 기계 및 장비 임대업</td>\n",
       "      <td>렌탈(파렛트, OA장비, 건설장비)</td>\n",
       "      <td>2015-08-21</td>\n",
       "      <td>12월</td>\n",
       "      <td>이현우, 박대현</td>\n",
       "      <td>http://www.ajnet.co.kr</td>\n",
       "      <td>서울특별시</td>\n",
       "    </tr>\n",
       "    <tr>\n",
       "      <th>2</th>\n",
       "      <td>006840</td>\n",
       "      <td>KOSPI</td>\n",
       "      <td>AK홀딩스</td>\n",
       "      <td>기타 금융업</td>\n",
       "      <td>지주사업</td>\n",
       "      <td>1999-08-11</td>\n",
       "      <td>12월</td>\n",
       "      <td>채형석, 이석주(각자 대표이사)</td>\n",
       "      <td>http://www.aekyunggroup.co.kr</td>\n",
       "      <td>서울특별시</td>\n",
       "    </tr>\n",
       "    <tr>\n",
       "      <th>3</th>\n",
       "      <td>054620</td>\n",
       "      <td>KOSDAQ</td>\n",
       "      <td>APS홀딩스</td>\n",
       "      <td>기타 금융업</td>\n",
       "      <td>인터넷 트래픽 솔루션</td>\n",
       "      <td>2001-12-04</td>\n",
       "      <td>12월</td>\n",
       "      <td>정기로</td>\n",
       "      <td>http://www.apsholdings.co.kr</td>\n",
       "      <td>경기도</td>\n",
       "    </tr>\n",
       "    <tr>\n",
       "      <th>4</th>\n",
       "      <td>265520</td>\n",
       "      <td>KOSDAQ</td>\n",
       "      <td>AP시스템</td>\n",
       "      <td>특수 목적용 기계 제조업</td>\n",
       "      <td>디스플레이 제조 장비</td>\n",
       "      <td>2017-04-07</td>\n",
       "      <td>12월</td>\n",
       "      <td>김영주</td>\n",
       "      <td>http://www.apsystems.co.kr</td>\n",
       "      <td>경기도</td>\n",
       "    </tr>\n",
       "    <tr>\n",
       "      <th>...</th>\n",
       "      <td>...</td>\n",
       "      <td>...</td>\n",
       "      <td>...</td>\n",
       "      <td>...</td>\n",
       "      <td>...</td>\n",
       "      <td>...</td>\n",
       "      <td>...</td>\n",
       "      <td>...</td>\n",
       "      <td>...</td>\n",
       "      <td>...</td>\n",
       "    </tr>\n",
       "    <tr>\n",
       "      <th>7251</th>\n",
       "      <td>000547</td>\n",
       "      <td>KOSPI</td>\n",
       "      <td>흥국화재2우B</td>\n",
       "      <td>NaN</td>\n",
       "      <td>NaN</td>\n",
       "      <td>NaT</td>\n",
       "      <td>NaN</td>\n",
       "      <td>NaN</td>\n",
       "      <td>NaN</td>\n",
       "      <td>NaN</td>\n",
       "    </tr>\n",
       "    <tr>\n",
       "      <th>7252</th>\n",
       "      <td>000545</td>\n",
       "      <td>KOSPI</td>\n",
       "      <td>흥국화재우</td>\n",
       "      <td>NaN</td>\n",
       "      <td>NaN</td>\n",
       "      <td>NaT</td>\n",
       "      <td>NaN</td>\n",
       "      <td>NaN</td>\n",
       "      <td>NaN</td>\n",
       "      <td>NaN</td>\n",
       "    </tr>\n",
       "    <tr>\n",
       "      <th>7253</th>\n",
       "      <td>003280</td>\n",
       "      <td>KOSPI</td>\n",
       "      <td>흥아해운</td>\n",
       "      <td>해상 운송업</td>\n",
       "      <td>외항화물운송업(케미컬탱커)</td>\n",
       "      <td>1976-06-29</td>\n",
       "      <td>12월</td>\n",
       "      <td>이환구</td>\n",
       "      <td>http://www.heung-a.com</td>\n",
       "      <td>서울특별시</td>\n",
       "    </tr>\n",
       "    <tr>\n",
       "      <th>7254</th>\n",
       "      <td>037440</td>\n",
       "      <td>KOSDAQ</td>\n",
       "      <td>희림</td>\n",
       "      <td>건축기술, 엔지니어링 및 관련 기술 서비스업</td>\n",
       "      <td>설계 및 감리용역</td>\n",
       "      <td>2000-02-03</td>\n",
       "      <td>12월</td>\n",
       "      <td>정영균, 이목운, 허철호 (각자대표)</td>\n",
       "      <td>http://www.heerim.com</td>\n",
       "      <td>서울특별시</td>\n",
       "    </tr>\n",
       "    <tr>\n",
       "      <th>7255</th>\n",
       "      <td>238490</td>\n",
       "      <td>KOSDAQ</td>\n",
       "      <td>힘스</td>\n",
       "      <td>특수 목적용 기계 제조업</td>\n",
       "      <td>OLED Mask 인장기, OLED Mask 검사기 등</td>\n",
       "      <td>2017-07-20</td>\n",
       "      <td>12월</td>\n",
       "      <td>김주환</td>\n",
       "      <td>http://www.hims.co.kr</td>\n",
       "      <td>인천광역시</td>\n",
       "    </tr>\n",
       "  </tbody>\n",
       "</table>\n",
       "<p>7256 rows × 10 columns</p>\n",
       "</div>"
      ],
      "text/plain": [
       "      Symbol  Market     Name                    Sector  \\\n",
       "0     060310  KOSDAQ       3S             특수 목적용 기계 제조업   \n",
       "1     095570   KOSPI   AJ네트웍스           산업용 기계 및 장비 임대업   \n",
       "2     006840   KOSPI    AK홀딩스                    기타 금융업   \n",
       "3     054620  KOSDAQ   APS홀딩스                    기타 금융업   \n",
       "4     265520  KOSDAQ    AP시스템             특수 목적용 기계 제조업   \n",
       "...      ...     ...      ...                       ...   \n",
       "7251  000547   KOSPI  흥국화재2우B                       NaN   \n",
       "7252  000545   KOSPI    흥국화재우                       NaN   \n",
       "7253  003280   KOSPI     흥아해운                    해상 운송업   \n",
       "7254  037440  KOSDAQ       희림  건축기술, 엔지니어링 및 관련 기술 서비스업   \n",
       "7255  238490  KOSDAQ       힘스             특수 목적용 기계 제조업   \n",
       "\n",
       "                            Industry ListingDate SettleMonth  \\\n",
       "0                        반도체 웨이퍼 캐리어  2002-04-23         03월   \n",
       "1                렌탈(파렛트, OA장비, 건설장비)  2015-08-21         12월   \n",
       "2                               지주사업  1999-08-11         12월   \n",
       "3                        인터넷 트래픽 솔루션  2001-12-04         12월   \n",
       "4                        디스플레이 제조 장비  2017-04-07         12월   \n",
       "...                              ...         ...         ...   \n",
       "7251                             NaN         NaT         NaN   \n",
       "7252                             NaN         NaT         NaN   \n",
       "7253                  외항화물운송업(케미컬탱커)  1976-06-29         12월   \n",
       "7254                       설계 및 감리용역  2000-02-03         12월   \n",
       "7255  OLED Mask 인장기, OLED Mask 검사기 등  2017-07-20         12월   \n",
       "\n",
       "            Representative                       HomePage Region  \n",
       "0       박종익, 김세완 (각자 대표이사)           http://www.3sref.com  서울특별시  \n",
       "1                 이현우, 박대현         http://www.ajnet.co.kr  서울특별시  \n",
       "2        채형석, 이석주(각자 대표이사)  http://www.aekyunggroup.co.kr  서울특별시  \n",
       "3                      정기로   http://www.apsholdings.co.kr    경기도  \n",
       "4                      김영주     http://www.apsystems.co.kr    경기도  \n",
       "...                    ...                            ...    ...  \n",
       "7251                   NaN                            NaN    NaN  \n",
       "7252                   NaN                            NaN    NaN  \n",
       "7253                   이환구         http://www.heung-a.com  서울특별시  \n",
       "7254  정영균, 이목운, 허철호 (각자대표)          http://www.heerim.com  서울특별시  \n",
       "7255                   김주환          http://www.hims.co.kr  인천광역시  \n",
       "\n",
       "[7256 rows x 10 columns]"
      ]
     },
     "execution_count": 2,
     "metadata": {},
     "output_type": "execute_result"
    }
   ],
   "source": [
    "df_krx = fdr.StockListing('KRX')  # 코스피, 코스닥, 코넥스 전체\n",
    "df_krx\n",
    "# https://github.com/FinanceData/FinanceDataReader"
   ]
  },
  {
   "cell_type": "code",
   "execution_count": 22,
   "metadata": {},
   "outputs": [
    {
     "data": {
      "text/html": [
       "<div>\n",
       "<style scoped>\n",
       "    .dataframe tbody tr th:only-of-type {\n",
       "        vertical-align: middle;\n",
       "    }\n",
       "\n",
       "    .dataframe tbody tr th {\n",
       "        vertical-align: top;\n",
       "    }\n",
       "\n",
       "    .dataframe thead th {\n",
       "        text-align: right;\n",
       "    }\n",
       "</style>\n",
       "<table border=\"1\" class=\"dataframe\">\n",
       "  <thead>\n",
       "    <tr style=\"text-align: right;\">\n",
       "      <th></th>\n",
       "      <th>Symbol</th>\n",
       "      <th>Market</th>\n",
       "      <th>Name</th>\n",
       "      <th>Sector</th>\n",
       "      <th>Industry</th>\n",
       "      <th>ListingDate</th>\n",
       "      <th>SettleMonth</th>\n",
       "      <th>Representative</th>\n",
       "      <th>HomePage</th>\n",
       "      <th>Region</th>\n",
       "    </tr>\n",
       "  </thead>\n",
       "  <tbody>\n",
       "    <tr>\n",
       "      <th>167</th>\n",
       "      <td>58F739</td>\n",
       "      <td>KOSPI</td>\n",
       "      <td>KBF739삼성전자콜</td>\n",
       "      <td>NaN</td>\n",
       "      <td>NaN</td>\n",
       "      <td>NaT</td>\n",
       "      <td>NaN</td>\n",
       "      <td>NaN</td>\n",
       "      <td>NaN</td>\n",
       "      <td>NaN</td>\n",
       "    </tr>\n",
       "    <tr>\n",
       "      <th>171</th>\n",
       "      <td>58F935</td>\n",
       "      <td>KOSPI</td>\n",
       "      <td>KBF935삼성전자콜</td>\n",
       "      <td>NaN</td>\n",
       "      <td>NaN</td>\n",
       "      <td>NaT</td>\n",
       "      <td>NaN</td>\n",
       "      <td>NaN</td>\n",
       "      <td>NaN</td>\n",
       "      <td>NaN</td>\n",
       "    </tr>\n",
       "    <tr>\n",
       "      <th>172</th>\n",
       "      <td>58F937</td>\n",
       "      <td>KOSPI</td>\n",
       "      <td>KBF937삼성전자콜</td>\n",
       "      <td>NaN</td>\n",
       "      <td>NaN</td>\n",
       "      <td>NaT</td>\n",
       "      <td>NaN</td>\n",
       "      <td>NaN</td>\n",
       "      <td>NaN</td>\n",
       "      <td>NaN</td>\n",
       "    </tr>\n",
       "    <tr>\n",
       "      <th>176</th>\n",
       "      <td>58FA83</td>\n",
       "      <td>KOSPI</td>\n",
       "      <td>KBFA83삼성전자콜</td>\n",
       "      <td>NaN</td>\n",
       "      <td>NaN</td>\n",
       "      <td>NaT</td>\n",
       "      <td>NaN</td>\n",
       "      <td>NaN</td>\n",
       "      <td>NaN</td>\n",
       "      <td>NaN</td>\n",
       "    </tr>\n",
       "    <tr>\n",
       "      <th>179</th>\n",
       "      <td>58FA86</td>\n",
       "      <td>KOSPI</td>\n",
       "      <td>KBFA86삼성전자콜</td>\n",
       "      <td>NaN</td>\n",
       "      <td>NaN</td>\n",
       "      <td>NaT</td>\n",
       "      <td>NaN</td>\n",
       "      <td>NaN</td>\n",
       "      <td>NaN</td>\n",
       "      <td>NaN</td>\n",
       "    </tr>\n",
       "    <tr>\n",
       "      <th>...</th>\n",
       "      <td>...</td>\n",
       "      <td>...</td>\n",
       "      <td>...</td>\n",
       "      <td>...</td>\n",
       "      <td>...</td>\n",
       "      <td>...</td>\n",
       "      <td>...</td>\n",
       "      <td>...</td>\n",
       "      <td>...</td>\n",
       "      <td>...</td>\n",
       "    </tr>\n",
       "    <tr>\n",
       "      <th>6804</th>\n",
       "      <td>57GA13</td>\n",
       "      <td>KOSPI</td>\n",
       "      <td>한국GA13삼성전자콜</td>\n",
       "      <td>NaN</td>\n",
       "      <td>NaN</td>\n",
       "      <td>NaT</td>\n",
       "      <td>NaN</td>\n",
       "      <td>NaN</td>\n",
       "      <td>NaN</td>\n",
       "      <td>NaN</td>\n",
       "    </tr>\n",
       "    <tr>\n",
       "      <th>6805</th>\n",
       "      <td>57GA14</td>\n",
       "      <td>KOSPI</td>\n",
       "      <td>한국GA14삼성전자콜</td>\n",
       "      <td>NaN</td>\n",
       "      <td>NaN</td>\n",
       "      <td>NaT</td>\n",
       "      <td>NaN</td>\n",
       "      <td>NaN</td>\n",
       "      <td>NaN</td>\n",
       "      <td>NaN</td>\n",
       "    </tr>\n",
       "    <tr>\n",
       "      <th>6916</th>\n",
       "      <td>57GB25</td>\n",
       "      <td>KOSPI</td>\n",
       "      <td>한국GB25삼성전자풋</td>\n",
       "      <td>NaN</td>\n",
       "      <td>NaN</td>\n",
       "      <td>NaT</td>\n",
       "      <td>NaN</td>\n",
       "      <td>NaN</td>\n",
       "      <td>NaN</td>\n",
       "      <td>NaN</td>\n",
       "    </tr>\n",
       "    <tr>\n",
       "      <th>6917</th>\n",
       "      <td>57GB26</td>\n",
       "      <td>KOSPI</td>\n",
       "      <td>한국GB26삼성전자풋</td>\n",
       "      <td>NaN</td>\n",
       "      <td>NaN</td>\n",
       "      <td>NaT</td>\n",
       "      <td>NaN</td>\n",
       "      <td>NaN</td>\n",
       "      <td>NaN</td>\n",
       "      <td>NaN</td>\n",
       "    </tr>\n",
       "    <tr>\n",
       "      <th>6918</th>\n",
       "      <td>57GB27</td>\n",
       "      <td>KOSPI</td>\n",
       "      <td>한국GB27삼성전자풋</td>\n",
       "      <td>NaN</td>\n",
       "      <td>NaN</td>\n",
       "      <td>NaT</td>\n",
       "      <td>NaN</td>\n",
       "      <td>NaN</td>\n",
       "      <td>NaN</td>\n",
       "      <td>NaN</td>\n",
       "    </tr>\n",
       "  </tbody>\n",
       "</table>\n",
       "<p>221 rows × 10 columns</p>\n",
       "</div>"
      ],
      "text/plain": [
       "      Symbol Market         Name Sector Industry ListingDate SettleMonth  \\\n",
       "167   58F739  KOSPI  KBF739삼성전자콜    NaN      NaN         NaT         NaN   \n",
       "171   58F935  KOSPI  KBF935삼성전자콜    NaN      NaN         NaT         NaN   \n",
       "172   58F937  KOSPI  KBF937삼성전자콜    NaN      NaN         NaT         NaN   \n",
       "176   58FA83  KOSPI  KBFA83삼성전자콜    NaN      NaN         NaT         NaN   \n",
       "179   58FA86  KOSPI  KBFA86삼성전자콜    NaN      NaN         NaT         NaN   \n",
       "...      ...    ...          ...    ...      ...         ...         ...   \n",
       "6804  57GA13  KOSPI  한국GA13삼성전자콜    NaN      NaN         NaT         NaN   \n",
       "6805  57GA14  KOSPI  한국GA14삼성전자콜    NaN      NaN         NaT         NaN   \n",
       "6916  57GB25  KOSPI  한국GB25삼성전자풋    NaN      NaN         NaT         NaN   \n",
       "6917  57GB26  KOSPI  한국GB26삼성전자풋    NaN      NaN         NaT         NaN   \n",
       "6918  57GB27  KOSPI  한국GB27삼성전자풋    NaN      NaN         NaT         NaN   \n",
       "\n",
       "     Representative HomePage Region  \n",
       "167             NaN      NaN    NaN  \n",
       "171             NaN      NaN    NaN  \n",
       "172             NaN      NaN    NaN  \n",
       "176             NaN      NaN    NaN  \n",
       "179             NaN      NaN    NaN  \n",
       "...             ...      ...    ...  \n",
       "6804            NaN      NaN    NaN  \n",
       "6805            NaN      NaN    NaN  \n",
       "6916            NaN      NaN    NaN  \n",
       "6917            NaN      NaN    NaN  \n",
       "6918            NaN      NaN    NaN  \n",
       "\n",
       "[221 rows x 10 columns]"
      ]
     },
     "execution_count": 22,
     "metadata": {},
     "output_type": "execute_result"
    }
   ],
   "source": [
    "df_krx[df_krx['Name'].str.contains(\"삼성전자\")]"
   ]
  },
  {
   "cell_type": "code",
   "execution_count": 4,
   "metadata": {},
   "outputs": [
    {
     "name": "stdout",
     "output_type": "stream",
     "text": [
      "(5248, 6)\n",
      "(5248, 6)\n"
     ]
    }
   ],
   "source": [
    "df = fdr.DataReader('005930', '2000')\n",
    "print(df.shape)\n",
    "df = df.dropna()\n",
    "print(df.shape)"
   ]
  },
  {
   "cell_type": "code",
   "execution_count": 6,
   "metadata": {},
   "outputs": [
    {
     "data": {
      "text/html": [
       "<div>\n",
       "<style scoped>\n",
       "    .dataframe tbody tr th:only-of-type {\n",
       "        vertical-align: middle;\n",
       "    }\n",
       "\n",
       "    .dataframe tbody tr th {\n",
       "        vertical-align: top;\n",
       "    }\n",
       "\n",
       "    .dataframe thead th {\n",
       "        text-align: right;\n",
       "    }\n",
       "</style>\n",
       "<table border=\"1\" class=\"dataframe\">\n",
       "  <thead>\n",
       "    <tr style=\"text-align: right;\">\n",
       "      <th></th>\n",
       "      <th>Open</th>\n",
       "      <th>High</th>\n",
       "      <th>Low</th>\n",
       "      <th>Close</th>\n",
       "      <th>Volume</th>\n",
       "      <th>Change</th>\n",
       "    </tr>\n",
       "    <tr>\n",
       "      <th>Date</th>\n",
       "      <th></th>\n",
       "      <th></th>\n",
       "      <th></th>\n",
       "      <th></th>\n",
       "      <th></th>\n",
       "      <th></th>\n",
       "    </tr>\n",
       "  </thead>\n",
       "  <tbody>\n",
       "    <tr>\n",
       "      <th>2021-03-31</th>\n",
       "      <td>82400</td>\n",
       "      <td>82700</td>\n",
       "      <td>81400</td>\n",
       "      <td>81400</td>\n",
       "      <td>17240518</td>\n",
       "      <td>-0.009732</td>\n",
       "    </tr>\n",
       "    <tr>\n",
       "      <th>2021-04-01</th>\n",
       "      <td>82500</td>\n",
       "      <td>83000</td>\n",
       "      <td>82000</td>\n",
       "      <td>82900</td>\n",
       "      <td>18676461</td>\n",
       "      <td>0.018428</td>\n",
       "    </tr>\n",
       "    <tr>\n",
       "      <th>2021-04-02</th>\n",
       "      <td>84000</td>\n",
       "      <td>85200</td>\n",
       "      <td>83900</td>\n",
       "      <td>84800</td>\n",
       "      <td>22997538</td>\n",
       "      <td>0.022919</td>\n",
       "    </tr>\n",
       "    <tr>\n",
       "      <th>2021-04-05</th>\n",
       "      <td>85800</td>\n",
       "      <td>86000</td>\n",
       "      <td>84800</td>\n",
       "      <td>85400</td>\n",
       "      <td>16255990</td>\n",
       "      <td>0.007075</td>\n",
       "    </tr>\n",
       "    <tr>\n",
       "      <th>2021-04-06</th>\n",
       "      <td>86200</td>\n",
       "      <td>86200</td>\n",
       "      <td>85100</td>\n",
       "      <td>86000</td>\n",
       "      <td>18883288</td>\n",
       "      <td>0.007026</td>\n",
       "    </tr>\n",
       "  </tbody>\n",
       "</table>\n",
       "</div>"
      ],
      "text/plain": [
       "             Open   High    Low  Close    Volume    Change\n",
       "Date                                                      \n",
       "2021-03-31  82400  82700  81400  81400  17240518 -0.009732\n",
       "2021-04-01  82500  83000  82000  82900  18676461  0.018428\n",
       "2021-04-02  84000  85200  83900  84800  22997538  0.022919\n",
       "2021-04-05  85800  86000  84800  85400  16255990  0.007075\n",
       "2021-04-06  86200  86200  85100  86000  18883288  0.007026"
      ]
     },
     "execution_count": 6,
     "metadata": {},
     "output_type": "execute_result"
    }
   ],
   "source": [
    "df.tail()"
   ]
  },
  {
   "cell_type": "markdown",
   "metadata": {},
   "source": [
    "### Scaling data"
   ]
  },
  {
   "cell_type": "markdown",
   "metadata": {},
   "source": [
    "<font color=blue>\n",
    "\n",
    "TO DO: MinMaxScaler를 사용해 x와 y의 scaling 진행 http://scikit-learn.org/stable/modules/generated/sklearn.preprocessing.MinMaxScaler.html <br>\n",
    "    x와 y의 scaler를 따로 생성하여 예측된 y를 inverse scaling 하는데 사용 <br>\n",
    "\n",
    "- x: 'Close'를 포함한 모든 column <br>\n",
    "- y: 'Close'"
   ]
  },
  {
   "cell_type": "code",
   "execution_count": 7,
   "metadata": {
    "scrolled": true
   },
   "outputs": [],
   "source": [
    "scaler_x = MinMaxScaler()\n",
    "scaler_y = MinMaxScaler()\n",
    "x = scaler_x.fit_transform(df)\n",
    "y = scaler_y.fit_transform(df.iloc[:,[3]]) "
   ]
  },
  {
   "cell_type": "code",
   "execution_count": 8,
   "metadata": {},
   "outputs": [
    {
     "data": {
      "text/plain": [
       "Text(0, 0.5, 'Close')"
      ]
     },
     "execution_count": 8,
     "metadata": {},
     "output_type": "execute_result"
    },
    {
     "data": {
      "image/png": "[encoded data removed]",
      "text/plain": [
       "<Figure size 432x288 with 1 Axes>"
      ]
     },
     "metadata": {
      "needs_background": "light"
     },
     "output_type": "display_data"
    }
   ],
   "source": [
    "plt.plot(y)\n",
    "plt.xlabel(\"Time Period\")\n",
    "plt.ylabel(\"Close\")"
   ]
  },
  {
   "cell_type": "markdown",
   "metadata": {},
   "source": [
    "### Construct input and output sequences"
   ]
  },
  {
   "cell_type": "markdown",
   "metadata": {},
   "source": [
    "<font color=blue>\n",
    "    \n",
    " TO DO: Input과 output sequence 만들기 \n",
    "\n",
    "- `# Example 9-1:  RNN - Toy Example`의 \"Construct training instances\" 참고\n",
    "- dataX: 5일 간 6개 변수 값. \n",
    "- dataY: 다음 날 close 값."
   ]
  },
  {
   "cell_type": "code",
   "execution_count": 9,
   "metadata": {},
   "outputs": [],
   "source": [
    "SEQ_LEN = 5"
   ]
  },
  {
   "cell_type": "code",
   "execution_count": 10,
   "metadata": {},
   "outputs": [],
   "source": [
    "# build a dataset\n",
    "dataX = []\n",
    "dataY = []\n",
    "for i in range(0, len(y) - SEQ_LEN):\n",
    "    _x = x[i:i + SEQ_LEN ]\n",
    "    _y = y[i + SEQ_LEN]  \n",
    "    dataX.append(_x)\n",
    "    dataY.append(_y)"
   ]
  },
  {
   "cell_type": "code",
   "execution_count": 11,
   "metadata": {},
   "outputs": [
    {
     "data": {
      "text/plain": [
       "((5243, 5, 6), (5243, 1))"
      ]
     },
     "execution_count": 11,
     "metadata": {},
     "output_type": "execute_result"
    }
   ],
   "source": [
    "np.shape(dataX), np.shape(dataY)"
   ]
  },
  {
   "cell_type": "markdown",
   "metadata": {},
   "source": [
    "#### Train/test split"
   ]
  },
  {
   "cell_type": "code",
   "execution_count": 12,
   "metadata": {},
   "outputs": [],
   "source": [
    "train_size = int(len(dataY) * 0.7)\n",
    "test_size = len(dataY) - train_size\n",
    "Xtrain, Xtest = np.array(dataX[0:train_size]), np.array(dataX[train_size:len(dataX)])\n",
    "ytrain, ytest = np.array(dataY[0:train_size]), np.array(dataY[train_size:len(dataY)])"
   ]
  },
  {
   "cell_type": "markdown",
   "metadata": {},
   "source": [
    "- 가장 최근 30%  자료를 test set으로 분리 "
   ]
  },
  {
   "cell_type": "code",
   "execution_count": 13,
   "metadata": {
    "scrolled": true
   },
   "outputs": [
    {
     "data": {
      "text/plain": [
       "((3670, 5, 6), (1573, 5, 6))"
      ]
     },
     "execution_count": 13,
     "metadata": {},
     "output_type": "execute_result"
    }
   ],
   "source": [
    "np.shape(Xtrain), np.shape(Xtest)"
   ]
  },
  {
   "cell_type": "markdown",
   "metadata": {},
   "source": [
    "## Model building"
   ]
  },
  {
   "cell_type": "markdown",
   "metadata": {},
   "source": [
    "<font color=blue> \n",
    "\n",
    "TO DO: LSTM, Dense, Dropout 등을 사용하여 model 만들고 compile하여 확인.\n"
   ]
  },
  {
   "cell_type": "code",
   "execution_count": 14,
   "metadata": {},
   "outputs": [],
   "source": [
    "model = Sequential()\n",
    "\n",
    "model.add(layers.LSTM(32, input_shape = (SEQ_LEN, 6), return_sequences = True, activation=\"relu\"))\n",
    "model.add(layers.Dropout(0.2))\n",
    "model.add(layers.LSTM(32, return_sequences = False, activation=\"relu\"))\n",
    "model.add(layers.Dropout(0.2))\n",
    "model.add(layers.Dense(32, activation=\"relu\"))\n",
    "model.add(layers.Dense(1))\n",
    "\n",
    "model.compile(loss='mse',optimizer='adam')\n"
   ]
  },
  {
   "cell_type": "code",
   "execution_count": 15,
   "metadata": {},
   "outputs": [
    {
     "name": "stdout",
     "output_type": "stream",
     "text": [
      "Model: \"sequential_1\"\n",
      "_________________________________________________________________\n",
      "Layer (type)                 Output Shape              Param #   \n",
      "=================================================================\n",
      "lstm_1 (LSTM)                (None, 5, 32)             4992      \n",
      "_________________________________________________________________\n",
      "dropout_1 (Dropout)          (None, 5, 32)             0         \n",
      "_________________________________________________________________\n",
      "lstm_2 (LSTM)                (None, 32)                8320      \n",
      "_________________________________________________________________\n",
      "dropout_2 (Dropout)          (None, 32)                0         \n",
      "_________________________________________________________________\n",
      "dense_1 (Dense)              (None, 32)                1056      \n",
      "_________________________________________________________________\n",
      "dense_2 (Dense)              (None, 1)                 33        \n",
      "=================================================================\n",
      "Total params: 14,401\n",
      "Trainable params: 14,401\n",
      "Non-trainable params: 0\n",
      "_________________________________________________________________\n"
     ]
    }
   ],
   "source": [
    "model.summary()"
   ]
  },
  {
   "cell_type": "markdown",
   "metadata": {},
   "source": [
    "## Model fitting and checking with Tensorboard"
   ]
  },
  {
   "cell_type": "markdown",
   "metadata": {},
   "source": [
    "<font color=blue>\n",
    "\n",
    "TO DO: 위에서 생성한 model을 training. \n",
    "\n",
    "- Tensorboard를 통해 training과 validation loss 확인\n",
    "- Validation loss 기준 best model을 저장"
   ]
  },
  {
   "cell_type": "code",
   "execution_count": 16,
   "metadata": {
    "scrolled": true
   },
   "outputs": [
    {
     "name": "stdout",
     "output_type": "stream",
     "text": [
      "Train on 2569 samples, validate on 1101 samples\n",
      "Epoch 1/50\n",
      "2048/2569 [======================>.......] - ETA: 0s - loss: 0.0033"
     ]
    },
    {
     "name": "stderr",
     "output_type": "stream",
     "text": [
      "C:\\Users\\028\\anaconda3\\lib\\site-packages\\keras\\callbacks\\callbacks.py:92: RuntimeWarning: Method (on_train_batch_end) is slow compared to the batch update (0.165164). Check your callbacks.\n",
      "  warnings.warn(\n"
     ]
    },
    {
     "name": "stdout",
     "output_type": "stream",
     "text": [
      "2569/2569 [==============================] - 1s 492us/step - loss: 0.0030 - val_loss: 0.0212\n",
      "Epoch 2/50\n",
      "2569/2569 [==============================] - 0s 61us/step - loss: 0.0013 - val_loss: 0.0190\n",
      "Epoch 3/50\n",
      "2569/2569 [==============================] - 0s 64us/step - loss: 8.6667e-04 - val_loss: 0.0120\n",
      "Epoch 4/50\n",
      "2569/2569 [==============================] - 0s 69us/step - loss: 3.2920e-04 - val_loss: 0.0044\n",
      "Epoch 5/50\n",
      "2569/2569 [==============================] - 0s 62us/step - loss: 1.8098e-04 - val_loss: 0.0032\n",
      "Epoch 6/50\n",
      "2569/2569 [==============================] - 0s 71us/step - loss: 1.2856e-04 - val_loss: 0.0028\n",
      "Epoch 7/50\n",
      "2569/2569 [==============================] - 0s 77us/step - loss: 1.2195e-04 - val_loss: 0.0027\n",
      "Epoch 8/50\n",
      "2569/2569 [==============================] - 0s 66us/step - loss: 1.1146e-04 - val_loss: 0.0026\n",
      "Epoch 9/50\n",
      "2569/2569 [==============================] - 0s 64us/step - loss: 1.0320e-04 - val_loss: 0.0021\n",
      "Epoch 10/50\n",
      "2569/2569 [==============================] - 0s 61us/step - loss: 9.0082e-05 - val_loss: 0.0029\n",
      "Epoch 11/50\n",
      "2569/2569 [==============================] - 0s 86us/step - loss: 9.9514e-05 - val_loss: 0.0027\n",
      "Epoch 12/50\n",
      "2569/2569 [==============================] - 0s 63us/step - loss: 7.8877e-05 - val_loss: 0.0028\n",
      "Epoch 13/50\n",
      "2569/2569 [==============================] - 0s 70us/step - loss: 8.0478e-05 - val_loss: 0.0022\n",
      "Epoch 14/50\n",
      "2569/2569 [==============================] - 0s 64us/step - loss: 7.7206e-05 - val_loss: 0.0021\n",
      "Epoch 15/50\n",
      "2569/2569 [==============================] - 0s 79us/step - loss: 6.9385e-05 - val_loss: 0.0023\n",
      "Epoch 16/50\n",
      "2569/2569 [==============================] - 0s 63us/step - loss: 6.7904e-05 - val_loss: 0.0022\n",
      "Epoch 17/50\n",
      "2569/2569 [==============================] - 0s 60us/step - loss: 6.4981e-05 - val_loss: 0.0022\n",
      "Epoch 18/50\n",
      "2569/2569 [==============================] - 0s 61us/step - loss: 6.4679e-05 - val_loss: 0.0026\n",
      "Epoch 19/50\n",
      "2569/2569 [==============================] - 0s 60us/step - loss: 6.0205e-05 - val_loss: 0.0028\n",
      "Epoch 20/50\n",
      "2569/2569 [==============================] - 0s 59us/step - loss: 6.2639e-05 - val_loss: 0.0025\n",
      "Epoch 21/50\n",
      "2569/2569 [==============================] - 0s 76us/step - loss: 5.8951e-05 - val_loss: 0.0034\n",
      "Epoch 22/50\n",
      "2569/2569 [==============================] - 0s 76us/step - loss: 5.8333e-05 - val_loss: 0.0023\n",
      "Epoch 23/50\n",
      "2569/2569 [==============================] - 0s 63us/step - loss: 6.1426e-05 - val_loss: 0.0022\n",
      "Epoch 24/50\n",
      "2569/2569 [==============================] - 0s 70us/step - loss: 5.4280e-05 - val_loss: 0.0024\n",
      "Epoch 25/50\n",
      "2569/2569 [==============================] - 0s 62us/step - loss: 4.9818e-05 - val_loss: 0.0026\n",
      "Epoch 26/50\n",
      "2569/2569 [==============================] - 0s 74us/step - loss: 5.0425e-05 - val_loss: 0.0019\n",
      "Epoch 27/50\n",
      "2569/2569 [==============================] - 0s 73us/step - loss: 4.8336e-05 - val_loss: 0.0019\n",
      "Epoch 28/50\n",
      "2569/2569 [==============================] - 0s 62us/step - loss: 4.8281e-05 - val_loss: 0.0017\n",
      "Epoch 29/50\n",
      "2569/2569 [==============================] - 0s 60us/step - loss: 4.6853e-05 - val_loss: 0.0012\n",
      "Epoch 30/50\n",
      "2569/2569 [==============================] - 0s 66us/step - loss: 4.9044e-05 - val_loss: 0.0013\n",
      "Epoch 31/50\n",
      "2569/2569 [==============================] - 0s 67us/step - loss: 4.2899e-05 - val_loss: 0.0019\n",
      "Epoch 32/50\n",
      "2569/2569 [==============================] - 0s 62us/step - loss: 4.2023e-05 - val_loss: 0.0018\n",
      "Epoch 33/50\n",
      "2569/2569 [==============================] - 0s 71us/step - loss: 4.1690e-05 - val_loss: 0.0023\n",
      "Epoch 34/50\n",
      "2569/2569 [==============================] - 0s 69us/step - loss: 4.4302e-05 - val_loss: 0.0018\n",
      "Epoch 35/50\n",
      "2569/2569 [==============================] - 0s 64us/step - loss: 4.0758e-05 - val_loss: 0.0014\n",
      "Epoch 36/50\n",
      "2569/2569 [==============================] - 0s 62us/step - loss: 3.6546e-05 - val_loss: 0.0017\n",
      "Epoch 37/50\n",
      "2569/2569 [==============================] - 0s 65us/step - loss: 3.5814e-05 - val_loss: 0.0013\n",
      "Epoch 38/50\n",
      "2569/2569 [==============================] - 0s 81us/step - loss: 3.7061e-05 - val_loss: 0.0015\n",
      "Epoch 39/50\n",
      "2569/2569 [==============================] - 0s 63us/step - loss: 3.3246e-05 - val_loss: 0.0019\n",
      "Epoch 40/50\n",
      "2569/2569 [==============================] - 0s 58us/step - loss: 3.4870e-05 - val_loss: 0.0011\n",
      "Epoch 41/50\n",
      "2569/2569 [==============================] - 0s 59us/step - loss: 3.7751e-05 - val_loss: 0.0015\n",
      "Epoch 42/50\n",
      "2569/2569 [==============================] - 0s 72us/step - loss: 3.5386e-05 - val_loss: 0.0017\n",
      "Epoch 43/50\n",
      "2569/2569 [==============================] - 0s 71us/step - loss: 3.7970e-05 - val_loss: 0.0016\n",
      "Epoch 44/50\n",
      "2569/2569 [==============================] - 0s 70us/step - loss: 3.1743e-05 - val_loss: 0.0017\n",
      "Epoch 45/50\n",
      "2569/2569 [==============================] - 0s 58us/step - loss: 3.4811e-05 - val_loss: 0.0018\n",
      "Epoch 46/50\n",
      "2569/2569 [==============================] - 0s 58us/step - loss: 3.3394e-05 - val_loss: 0.0018\n",
      "Epoch 47/50\n",
      "2569/2569 [==============================] - 0s 62us/step - loss: 3.1201e-05 - val_loss: 0.0014\n",
      "Epoch 48/50\n",
      "2569/2569 [==============================] - 0s 77us/step - loss: 3.0739e-05 - val_loss: 0.0014\n",
      "Epoch 49/50\n",
      "2569/2569 [==============================] - 0s 75us/step - loss: 3.1443e-05 - val_loss: 0.0012\n",
      "Epoch 50/50\n",
      "2569/2569 [==============================] - 0s 64us/step - loss: 3.2403e-05 - val_loss: 0.0015\n"
     ]
    },
    {
     "data": {
      "text/plain": [
       "<keras.callbacks.callbacks.History at 0x1eb1e29f670>"
      ]
     },
     "execution_count": 16,
     "metadata": {},
     "output_type": "execute_result"
    }
   ],
   "source": [
    "#now = time.strftime(\"%c\")\n",
    "now = time.strftime('%Y-%m-%d', time.localtime(time.time()))\n",
    "callbacks_list = [\n",
    "    TensorBoard(log_dir = 'logs/stock_prediction/node33'+now, histogram_freq = 0, write_graph = True),\n",
    "    #TensorBoard(log_dir = 'logs/stock_prediction1/', histogram_freq=1, embeddings_freq=1,\n",
    "                # histogram_freq=1 : 1 에포크마다 활성화 출력의 히스토그램을 기록\n",
    "                # embeddings_freq=1 : 1에포크 마다 임베딩 데이터 기록\n",
    "                # profile_batch : https://www.tensorflow.org/api_docs/python/tf/keras/callbacks/TensorBoard\n",
    "               #profile_batch=100000000),\n",
    "    ModelCheckpoint(filepath=\"logs/stock_prediction_node33.h5\", monitor='val_loss', verbose=0, save_best_only=True)\n",
    "]\n",
    "\n",
    "model.fit(Xtrain, ytrain, \n",
    "          batch_size = 128, \n",
    "          epochs = 50, \n",
    "          validation_split = 0.3, \n",
    "          callbacks = callbacks_list)"
   ]
  },
  {
   "cell_type": "markdown",
   "metadata": {},
   "source": [
    "## Prediction"
   ]
  },
  {
   "cell_type": "code",
   "execution_count": 17,
   "metadata": {},
   "outputs": [],
   "source": [
    "model = load_model('logs/stock_prediction_node33.h5')\n",
    "test_predict = model.predict(Xtest)\n",
    "test_predict_back = scaler_y.inverse_transform(test_predict)\n",
    "ytest_back = scaler_y.inverse_transform(ytest)"
   ]
  },
  {
   "cell_type": "markdown",
   "metadata": {},
   "source": [
    "- output 값을 original scale로 재변환"
   ]
  },
  {
   "cell_type": "code",
   "execution_count": 18,
   "metadata": {
    "scrolled": true
   },
   "outputs": [
    {
     "data": {
      "image/png": "[encoded data removed]",
      "text/plain": [
       "<Figure size 432x288 with 1 Axes>"
      ]
     },
     "metadata": {
      "needs_background": "light"
     },
     "output_type": "display_data"
    }
   ],
   "source": [
    "# Plot predictions\n",
    "plt.plot(ytest_back, label = 'Y')\n",
    "plt.plot(test_predict_back, label = 'Y_predicted')\n",
    "plt.xlabel(\"Time Period\")\n",
    "plt.ylabel(\"Stock Price\")\n",
    "plt.legend()\n",
    "plt.show()"
   ]
  },
  {
   "cell_type": "code",
   "execution_count": 19,
   "metadata": {
    "scrolled": true
   },
   "outputs": [
    {
     "data": {
      "text/plain": [
       "(6087.013933864431, 0.002138640412162607)"
      ]
     },
     "execution_count": 19,
     "metadata": {},
     "output_type": "execute_result"
    }
   ],
   "source": [
    "mean_absolute_error(test_predict_back, ytest_back), np.mean(test_predict_back / ytest_back) - 1\n",
    "# mean_absolute_error 실제 값과 예측 값의 차이(Error)를 절대값으로 변환해 평균화 \n",
    "# 참고 https://mizykk.tistory.com/102"
   ]
  },
  {
   "cell_type": "code",
   "execution_count": null,
   "metadata": {},
   "outputs": [],
   "source": []
  }
 ],
 "metadata": {
  "anaconda-cloud": {},
  "kernelspec": {
   "display_name": "Python 3",
   "language": "python",
   "name": "python3"
  },
  "language_info": {
   "codemirror_mode": {
    "name": "ipython",
    "version": 3
   },
   "file_extension": ".py",
   "mimetype": "text/x-python",
   "name": "python",
   "nbconvert_exporter": "python",
   "pygments_lexer": "ipython3",
   "version": "3.8.5"
  }
 },
 "nbformat": 4,
 "nbformat_minor": 4
}
