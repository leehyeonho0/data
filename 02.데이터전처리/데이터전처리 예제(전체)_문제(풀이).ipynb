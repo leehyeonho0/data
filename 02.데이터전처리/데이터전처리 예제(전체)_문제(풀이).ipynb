{
 "cells": [
  {
   "cell_type": "markdown",
   "metadata": {},
   "source": [
    "# 데이터 전처리 과제\n",
    "\n",
    "* **데이터 설명**\n",
    "  * 본 데이터는 A대학 도서관에서 제공하는 온라인 DB에 대한 사용자별 이용기록(Transaction)입니다.\n",
    "  * user_id : 사용자ID\n",
    "  * region : 지역코드\n",
    "  * college : 단과대학코드\n",
    "  * major : 전공코드\n",
    "  * social_position : 직급코드\n",
    "  * month : 이용월\n",
    "  * weekday : 이용요일(1:일요일, 2:월요일, 3:화요일, 4:수요일, 5:목요일, 6:금요일, 7:토요일)\n",
    "  * hour : 이용시각(24H)\n",
    "  * DB : 이용 온라인 DB"
   ]
  },
  {
   "cell_type": "markdown",
   "metadata": {},
   "source": [
    "### 0.0. 필요한 패키지를 로딩하세요"
   ]
  },
  {
   "cell_type": "code",
   "execution_count": 1,
   "metadata": {},
   "outputs": [],
   "source": [
    "# 넘파이\n",
    "# 판다스\n",
    "import numpy as np\n",
    "import pandas as pd"
   ]
  },
  {
   "cell_type": "markdown",
   "metadata": {},
   "source": [
    "## 1. 데이터 로딩 및 문제 파악하기"
   ]
  },
  {
   "cell_type": "markdown",
   "metadata": {},
   "source": [
    "### 1.1. 데이터를 로딩하고 처음 5개의 레코드를 출력하세요."
   ]
  },
  {
   "cell_type": "code",
   "execution_count": 3,
   "metadata": {},
   "outputs": [],
   "source": [
    "data_01 = pd.read_csv('DATA_01/DATA_01.csv')"
   ]
  },
  {
   "cell_type": "markdown",
   "metadata": {},
   "source": [
    "### 1.2. 변수별 데이터 타입을 알아볼 수는 코드를 제시하고 문제점이 있을 경우 서술하세요."
   ]
  },
  {
   "cell_type": "code",
   "execution_count": null,
   "metadata": {},
   "outputs": [],
   "source": []
  },
  {
   "cell_type": "markdown",
   "metadata": {},
   "source": [
    "### 1.3. 수치형 변수의 요약 통계량을 제시하세요."
   ]
  },
  {
   "cell_type": "code",
   "execution_count": null,
   "metadata": {},
   "outputs": [],
   "source": [
    "# describe() 활용\n"
   ]
  },
  {
   "cell_type": "markdown",
   "metadata": {},
   "source": [
    "### 1.4. 범주형 변수의 요약 통계량을 제시하세요."
   ]
  },
  {
   "cell_type": "code",
   "execution_count": null,
   "metadata": {},
   "outputs": [],
   "source": []
  },
  {
   "cell_type": "markdown",
   "metadata": {},
   "source": [
    "## 2. 데이터의 문제 수정하기"
   ]
  },
  {
   "cell_type": "markdown",
   "metadata": {},
   "source": [
    "### 2.1. NULL값이 존재하는 변수 중 범주형 변수의 NULL값을 'UNKNOWN'으로 대체하고 처리 결과를 제시하세요."
   ]
  },
  {
   "cell_type": "code",
   "execution_count": 4,
   "metadata": {},
   "outputs": [],
   "source": [
    "data_01['major'] = data_01['major'].fillna('UNKNOWN')"
   ]
  },
  {
   "cell_type": "markdown",
   "metadata": {},
   "source": [
    "### 2.2. NULL값이 존재하는 변수 중 수치형 변수의 NULL값은 제거하고 처리 뒤 데이터의 행과 열을 제시하세요."
   ]
  },
  {
   "cell_type": "code",
   "execution_count": 5,
   "metadata": {},
   "outputs": [],
   "source": [
    "data_01 = data_01.dropna(subset=['month'])"
   ]
  },
  {
   "cell_type": "markdown",
   "metadata": {},
   "source": [
    "## 3. 데이터 파악하기"
   ]
  },
  {
   "cell_type": "markdown",
   "metadata": {},
   "source": [
    "### 3.1. 전공 중 가장 많은 전공 코드를 제시하세요."
   ]
  },
  {
   "cell_type": "code",
   "execution_count": 6,
   "metadata": {},
   "outputs": [
    {
     "data": {
      "text/html": [
       "<div>\n",
       "<style scoped>\n",
       "    .dataframe tbody tr th:only-of-type {\n",
       "        vertical-align: middle;\n",
       "    }\n",
       "\n",
       "    .dataframe tbody tr th {\n",
       "        vertical-align: top;\n",
       "    }\n",
       "\n",
       "    .dataframe thead th {\n",
       "        text-align: right;\n",
       "    }\n",
       "</style>\n",
       "<table border=\"1\" class=\"dataframe\">\n",
       "  <thead>\n",
       "    <tr style=\"text-align: right;\">\n",
       "      <th></th>\n",
       "      <th>user_id</th>\n",
       "      <th>region</th>\n",
       "      <th>college</th>\n",
       "      <th>major</th>\n",
       "      <th>social_position</th>\n",
       "      <th>month</th>\n",
       "      <th>weekday</th>\n",
       "      <th>hour</th>\n",
       "      <th>DB</th>\n",
       "    </tr>\n",
       "  </thead>\n",
       "  <tbody>\n",
       "    <tr>\n",
       "      <th>0</th>\n",
       "      <td>U0002</td>\n",
       "      <td>R01</td>\n",
       "      <td>C0002</td>\n",
       "      <td>M09</td>\n",
       "      <td>S005</td>\n",
       "      <td>3.0</td>\n",
       "      <td>3</td>\n",
       "      <td>21</td>\n",
       "      <td>DB048</td>\n",
       "    </tr>\n",
       "    <tr>\n",
       "      <th>1</th>\n",
       "      <td>U0003</td>\n",
       "      <td>R01</td>\n",
       "      <td>C0003</td>\n",
       "      <td>M01</td>\n",
       "      <td>S001</td>\n",
       "      <td>3.0</td>\n",
       "      <td>2</td>\n",
       "      <td>12</td>\n",
       "      <td>DB048</td>\n",
       "    </tr>\n",
       "    <tr>\n",
       "      <th>2</th>\n",
       "      <td>U0003</td>\n",
       "      <td>R01</td>\n",
       "      <td>C0003</td>\n",
       "      <td>M01</td>\n",
       "      <td>S001</td>\n",
       "      <td>3.0</td>\n",
       "      <td>2</td>\n",
       "      <td>13</td>\n",
       "      <td>DB048</td>\n",
       "    </tr>\n",
       "    <tr>\n",
       "      <th>3</th>\n",
       "      <td>U0006</td>\n",
       "      <td>R01</td>\n",
       "      <td>C0001</td>\n",
       "      <td>M11</td>\n",
       "      <td>S005</td>\n",
       "      <td>3.0</td>\n",
       "      <td>2</td>\n",
       "      <td>14</td>\n",
       "      <td>DB055</td>\n",
       "    </tr>\n",
       "    <tr>\n",
       "      <th>4</th>\n",
       "      <td>U0005</td>\n",
       "      <td>R01</td>\n",
       "      <td>C0001</td>\n",
       "      <td>M08</td>\n",
       "      <td>S005</td>\n",
       "      <td>3.0</td>\n",
       "      <td>2</td>\n",
       "      <td>14</td>\n",
       "      <td>DB044</td>\n",
       "    </tr>\n",
       "  </tbody>\n",
       "</table>\n",
       "</div>"
      ],
      "text/plain": [
       "  user_id region college major social_position  month  weekday  hour     DB\n",
       "0   U0002    R01   C0002   M09            S005    3.0        3    21  DB048\n",
       "1   U0003    R01   C0003   M01            S001    3.0        2    12  DB048\n",
       "2   U0003    R01   C0003   M01            S001    3.0        2    13  DB048\n",
       "3   U0006    R01   C0001   M11            S005    3.0        2    14  DB055\n",
       "4   U0005    R01   C0001   M08            S005    3.0        2    14  DB044"
      ]
     },
     "execution_count": 6,
     "metadata": {},
     "output_type": "execute_result"
    }
   ],
   "source": [
    "data_01.head()"
   ]
  },
  {
   "cell_type": "code",
   "execution_count": 17,
   "metadata": {},
   "outputs": [
    {
     "data": {
      "text/plain": [
       "27241"
      ]
     },
     "execution_count": 17,
     "metadata": {},
     "output_type": "execute_result"
    }
   ],
   "source": [
    "#data_01['major'].value_counts()\n",
    "data_01.major.value_counts().max()"
   ]
  },
  {
   "cell_type": "code",
   "execution_count": 11,
   "metadata": {},
   "outputs": [
    {
     "data": {
      "text/plain": [
       "M04        27241\n",
       "M11        15435\n",
       "M08        12536\n",
       "M09        12331\n",
       "M05        11500\n",
       "M01        11086\n",
       "M03         7433\n",
       "M06         7343\n",
       "M07         3564\n",
       "M02         3021\n",
       "M10         2888\n",
       "UNKNOWN     1808\n",
       "Name: major, dtype: int64"
      ]
     },
     "execution_count": 11,
     "metadata": {},
     "output_type": "execute_result"
    }
   ],
   "source": [
    "data_01.loc[:,'major'].value_counts()"
   ]
  },
  {
   "cell_type": "code",
   "execution_count": 14,
   "metadata": {},
   "outputs": [
    {
     "data": {
      "text/plain": [
       "M04        27241\n",
       "M11        15435\n",
       "M08        12536\n",
       "M09        12331\n",
       "M05        11500\n",
       "M01        11086\n",
       "M03         7433\n",
       "M06         7343\n",
       "M07         3564\n",
       "M02         3021\n",
       "M10         2888\n",
       "UNKNOWN     1808\n",
       "Name: major, dtype: int64"
      ]
     },
     "execution_count": 14,
     "metadata": {},
     "output_type": "execute_result"
    }
   ],
   "source": [
    "g = data_01.loc[:,'major'].value_counts()\n",
    "g"
   ]
  },
  {
   "cell_type": "code",
   "execution_count": 15,
   "metadata": {},
   "outputs": [
    {
     "data": {
      "text/plain": [
       "Index(['M04', 'M11', 'M08', 'M09', 'M05', 'M01', 'M03', 'M06', 'M07', 'M02',\n",
       "       'M10', 'UNKNOWN'],\n",
       "      dtype='object')"
      ]
     },
     "execution_count": 15,
     "metadata": {},
     "output_type": "execute_result"
    }
   ],
   "source": [
    "g.index"
   ]
  },
  {
   "cell_type": "code",
   "execution_count": 16,
   "metadata": {},
   "outputs": [
    {
     "data": {
      "text/plain": [
       "'M04'"
      ]
     },
     "execution_count": 16,
     "metadata": {},
     "output_type": "execute_result"
    }
   ],
   "source": [
    "g.index[0]"
   ]
  },
  {
   "cell_type": "markdown",
   "metadata": {},
   "source": [
    "### 3.2. 지역이 R02이면서 전공이 M01 이고 오전9시부터 10시까지 사용한 사람은 몇 명인지 제시하세요."
   ]
  },
  {
   "cell_type": "code",
   "execution_count": 20,
   "metadata": {},
   "outputs": [
    {
     "data": {
      "text/plain": [
       "R02    45\n",
       "Name: region, dtype: int64"
      ]
     },
     "execution_count": 20,
     "metadata": {},
     "output_type": "execute_result"
    }
   ],
   "source": [
    "id = ['R02']\n",
    "qs = \"region in @id and major == 'M01' and 9 <= hour <= 10\"\n",
    "data_01.query(qs).region.value_counts()"
   ]
  },
  {
   "cell_type": "code",
   "execution_count": 21,
   "metadata": {},
   "outputs": [
    {
     "data": {
      "text/plain": [
       "(45, 9)"
      ]
     },
     "execution_count": 21,
     "metadata": {},
     "output_type": "execute_result"
    }
   ],
   "source": [
    "data_01.query(qs).shape"
   ]
  },
  {
   "cell_type": "code",
   "execution_count": 18,
   "metadata": {},
   "outputs": [
    {
     "data": {
      "text/plain": [
       "(45, 9)"
      ]
     },
     "execution_count": 18,
     "metadata": {},
     "output_type": "execute_result"
    }
   ],
   "source": [
    "d1 = data_01.region == 'R02'\n",
    "d2 = data_01.major == 'M01'\n",
    "d3 = (data_01.hour >= 9) & (data_01.hour <= 10)\n",
    "d = d1 & d2 & d3\n",
    "data_01[d].shape"
   ]
  },
  {
   "cell_type": "code",
   "execution_count": 19,
   "metadata": {},
   "outputs": [
    {
     "data": {
      "text/html": [
       "<div>\n",
       "<style scoped>\n",
       "    .dataframe tbody tr th:only-of-type {\n",
       "        vertical-align: middle;\n",
       "    }\n",
       "\n",
       "    .dataframe tbody tr th {\n",
       "        vertical-align: top;\n",
       "    }\n",
       "\n",
       "    .dataframe thead th {\n",
       "        text-align: right;\n",
       "    }\n",
       "</style>\n",
       "<table border=\"1\" class=\"dataframe\">\n",
       "  <thead>\n",
       "    <tr style=\"text-align: right;\">\n",
       "      <th></th>\n",
       "      <th>user_id</th>\n",
       "      <th>region</th>\n",
       "      <th>college</th>\n",
       "      <th>major</th>\n",
       "      <th>social_position</th>\n",
       "      <th>month</th>\n",
       "      <th>weekday</th>\n",
       "      <th>hour</th>\n",
       "      <th>DB</th>\n",
       "    </tr>\n",
       "  </thead>\n",
       "  <tbody>\n",
       "    <tr>\n",
       "      <th>7014</th>\n",
       "      <td>U1120</td>\n",
       "      <td>R02</td>\n",
       "      <td>C0053</td>\n",
       "      <td>M01</td>\n",
       "      <td>S004</td>\n",
       "      <td>4.0</td>\n",
       "      <td>1</td>\n",
       "      <td>9</td>\n",
       "      <td>DB018</td>\n",
       "    </tr>\n",
       "    <tr>\n",
       "      <th>15109</th>\n",
       "      <td>U1899</td>\n",
       "      <td>R02</td>\n",
       "      <td>C0055</td>\n",
       "      <td>M01</td>\n",
       "      <td>S006</td>\n",
       "      <td>5.0</td>\n",
       "      <td>4</td>\n",
       "      <td>10</td>\n",
       "      <td>DB031</td>\n",
       "    </tr>\n",
       "  </tbody>\n",
       "</table>\n",
       "</div>"
      ],
      "text/plain": [
       "      user_id region college major social_position  month  weekday  hour  \\\n",
       "7014    U1120    R02   C0053   M01            S004    4.0        1     9   \n",
       "15109   U1899    R02   C0055   M01            S006    5.0        4    10   \n",
       "\n",
       "          DB  \n",
       "7014   DB018  \n",
       "15109  DB031  "
      ]
     },
     "execution_count": 19,
     "metadata": {},
     "output_type": "execute_result"
    }
   ],
   "source": [
    "data_01[d].head(2)"
   ]
  },
  {
   "cell_type": "markdown",
   "metadata": {},
   "source": [
    "### 3.2 에서 구한 내용에서 컬럼명이 user_id, region, major, hour의 리스트를 보여주세요"
   ]
  },
  {
   "cell_type": "code",
   "execution_count": 23,
   "metadata": {},
   "outputs": [
    {
     "data": {
      "text/html": [
       "<div>\n",
       "<style scoped>\n",
       "    .dataframe tbody tr th:only-of-type {\n",
       "        vertical-align: middle;\n",
       "    }\n",
       "\n",
       "    .dataframe tbody tr th {\n",
       "        vertical-align: top;\n",
       "    }\n",
       "\n",
       "    .dataframe thead th {\n",
       "        text-align: right;\n",
       "    }\n",
       "</style>\n",
       "<table border=\"1\" class=\"dataframe\">\n",
       "  <thead>\n",
       "    <tr style=\"text-align: right;\">\n",
       "      <th></th>\n",
       "      <th>user_id</th>\n",
       "      <th>region</th>\n",
       "      <th>major</th>\n",
       "      <th>hour</th>\n",
       "    </tr>\n",
       "  </thead>\n",
       "  <tbody>\n",
       "    <tr>\n",
       "      <th>7014</th>\n",
       "      <td>U1120</td>\n",
       "      <td>R02</td>\n",
       "      <td>M01</td>\n",
       "      <td>9</td>\n",
       "    </tr>\n",
       "    <tr>\n",
       "      <th>15109</th>\n",
       "      <td>U1899</td>\n",
       "      <td>R02</td>\n",
       "      <td>M01</td>\n",
       "      <td>10</td>\n",
       "    </tr>\n",
       "    <tr>\n",
       "      <th>15110</th>\n",
       "      <td>U1899</td>\n",
       "      <td>R02</td>\n",
       "      <td>M01</td>\n",
       "      <td>10</td>\n",
       "    </tr>\n",
       "  </tbody>\n",
       "</table>\n",
       "</div>"
      ],
      "text/plain": [
       "      user_id region major  hour\n",
       "7014    U1120    R02   M01     9\n",
       "15109   U1899    R02   M01    10\n",
       "15110   U1899    R02   M01    10"
      ]
     },
     "execution_count": 23,
     "metadata": {},
     "output_type": "execute_result"
    }
   ],
   "source": [
    "cols = ['user_id', 'region', 'major', 'hour']\n",
    "data_01.loc[d, cols].head(3)"
   ]
  },
  {
   "cell_type": "markdown",
   "metadata": {},
   "source": [
    "### 3.2 에서 구한 내용에서 컬럼수를 처음부터 6개만 보여주세요. "
   ]
  },
  {
   "cell_type": "code",
   "execution_count": 25,
   "metadata": {},
   "outputs": [
    {
     "data": {
      "text/html": [
       "<div>\n",
       "<style scoped>\n",
       "    .dataframe tbody tr th:only-of-type {\n",
       "        vertical-align: middle;\n",
       "    }\n",
       "\n",
       "    .dataframe tbody tr th {\n",
       "        vertical-align: top;\n",
       "    }\n",
       "\n",
       "    .dataframe thead th {\n",
       "        text-align: right;\n",
       "    }\n",
       "</style>\n",
       "<table border=\"1\" class=\"dataframe\">\n",
       "  <thead>\n",
       "    <tr style=\"text-align: right;\">\n",
       "      <th></th>\n",
       "      <th>user_id</th>\n",
       "      <th>region</th>\n",
       "      <th>college</th>\n",
       "      <th>major</th>\n",
       "      <th>social_position</th>\n",
       "      <th>month</th>\n",
       "      <th>weekday</th>\n",
       "      <th>hour</th>\n",
       "      <th>DB</th>\n",
       "    </tr>\n",
       "  </thead>\n",
       "  <tbody>\n",
       "    <tr>\n",
       "      <th>7014</th>\n",
       "      <td>U1120</td>\n",
       "      <td>R02</td>\n",
       "      <td>C0053</td>\n",
       "      <td>M01</td>\n",
       "      <td>S004</td>\n",
       "      <td>4.0</td>\n",
       "      <td>1</td>\n",
       "      <td>9</td>\n",
       "      <td>DB018</td>\n",
       "    </tr>\n",
       "    <tr>\n",
       "      <th>15109</th>\n",
       "      <td>U1899</td>\n",
       "      <td>R02</td>\n",
       "      <td>C0055</td>\n",
       "      <td>M01</td>\n",
       "      <td>S006</td>\n",
       "      <td>5.0</td>\n",
       "      <td>4</td>\n",
       "      <td>10</td>\n",
       "      <td>DB031</td>\n",
       "    </tr>\n",
       "  </tbody>\n",
       "</table>\n",
       "</div>"
      ],
      "text/plain": [
       "      user_id region college major social_position  month  weekday  hour  \\\n",
       "7014    U1120    R02   C0053   M01            S004    4.0        1     9   \n",
       "15109   U1899    R02   C0055   M01            S006    5.0        4    10   \n",
       "\n",
       "          DB  \n",
       "7014   DB018  \n",
       "15109  DB031  "
      ]
     },
     "execution_count": 25,
     "metadata": {},
     "output_type": "execute_result"
    }
   ],
   "source": [
    "data_01[d].head(2)"
   ]
  },
  {
   "cell_type": "code",
   "execution_count": 26,
   "metadata": {},
   "outputs": [
    {
     "data": {
      "text/html": [
       "<div>\n",
       "<style scoped>\n",
       "    .dataframe tbody tr th:only-of-type {\n",
       "        vertical-align: middle;\n",
       "    }\n",
       "\n",
       "    .dataframe tbody tr th {\n",
       "        vertical-align: top;\n",
       "    }\n",
       "\n",
       "    .dataframe thead th {\n",
       "        text-align: right;\n",
       "    }\n",
       "</style>\n",
       "<table border=\"1\" class=\"dataframe\">\n",
       "  <thead>\n",
       "    <tr style=\"text-align: right;\">\n",
       "      <th></th>\n",
       "      <th>user_id</th>\n",
       "      <th>region</th>\n",
       "      <th>college</th>\n",
       "      <th>major</th>\n",
       "      <th>social_position</th>\n",
       "    </tr>\n",
       "  </thead>\n",
       "  <tbody>\n",
       "    <tr>\n",
       "      <th>7014</th>\n",
       "      <td>U1120</td>\n",
       "      <td>R02</td>\n",
       "      <td>C0053</td>\n",
       "      <td>M01</td>\n",
       "      <td>S004</td>\n",
       "    </tr>\n",
       "    <tr>\n",
       "      <th>15109</th>\n",
       "      <td>U1899</td>\n",
       "      <td>R02</td>\n",
       "      <td>C0055</td>\n",
       "      <td>M01</td>\n",
       "      <td>S006</td>\n",
       "    </tr>\n",
       "    <tr>\n",
       "      <th>15110</th>\n",
       "      <td>U1899</td>\n",
       "      <td>R02</td>\n",
       "      <td>C0055</td>\n",
       "      <td>M01</td>\n",
       "      <td>S006</td>\n",
       "    </tr>\n",
       "    <tr>\n",
       "      <th>15111</th>\n",
       "      <td>U1899</td>\n",
       "      <td>R02</td>\n",
       "      <td>C0055</td>\n",
       "      <td>M01</td>\n",
       "      <td>S006</td>\n",
       "    </tr>\n",
       "    <tr>\n",
       "      <th>15325</th>\n",
       "      <td>U1899</td>\n",
       "      <td>R02</td>\n",
       "      <td>C0055</td>\n",
       "      <td>M01</td>\n",
       "      <td>S006</td>\n",
       "    </tr>\n",
       "  </tbody>\n",
       "</table>\n",
       "</div>"
      ],
      "text/plain": [
       "      user_id region college major social_position\n",
       "7014    U1120    R02   C0053   M01            S004\n",
       "15109   U1899    R02   C0055   M01            S006\n",
       "15110   U1899    R02   C0055   M01            S006\n",
       "15111   U1899    R02   C0055   M01            S006\n",
       "15325   U1899    R02   C0055   M01            S006"
      ]
     },
     "execution_count": 26,
     "metadata": {},
     "output_type": "execute_result"
    }
   ],
   "source": [
    "data_01.iloc[d.values, range(5)].head()"
   ]
  },
  {
   "cell_type": "code",
   "execution_count": 27,
   "metadata": {},
   "outputs": [
    {
     "data": {
      "text/html": [
       "<div>\n",
       "<style scoped>\n",
       "    .dataframe tbody tr th:only-of-type {\n",
       "        vertical-align: middle;\n",
       "    }\n",
       "\n",
       "    .dataframe tbody tr th {\n",
       "        vertical-align: top;\n",
       "    }\n",
       "\n",
       "    .dataframe thead th {\n",
       "        text-align: right;\n",
       "    }\n",
       "</style>\n",
       "<table border=\"1\" class=\"dataframe\">\n",
       "  <thead>\n",
       "    <tr style=\"text-align: right;\">\n",
       "      <th></th>\n",
       "      <th>user_id</th>\n",
       "      <th>region</th>\n",
       "      <th>college</th>\n",
       "      <th>major</th>\n",
       "      <th>social_position</th>\n",
       "      <th>month</th>\n",
       "    </tr>\n",
       "  </thead>\n",
       "  <tbody>\n",
       "    <tr>\n",
       "      <th>7014</th>\n",
       "      <td>U1120</td>\n",
       "      <td>R02</td>\n",
       "      <td>C0053</td>\n",
       "      <td>M01</td>\n",
       "      <td>S004</td>\n",
       "      <td>4.0</td>\n",
       "    </tr>\n",
       "    <tr>\n",
       "      <th>15109</th>\n",
       "      <td>U1899</td>\n",
       "      <td>R02</td>\n",
       "      <td>C0055</td>\n",
       "      <td>M01</td>\n",
       "      <td>S006</td>\n",
       "      <td>5.0</td>\n",
       "    </tr>\n",
       "    <tr>\n",
       "      <th>15110</th>\n",
       "      <td>U1899</td>\n",
       "      <td>R02</td>\n",
       "      <td>C0055</td>\n",
       "      <td>M01</td>\n",
       "      <td>S006</td>\n",
       "      <td>5.0</td>\n",
       "    </tr>\n",
       "    <tr>\n",
       "      <th>15111</th>\n",
       "      <td>U1899</td>\n",
       "      <td>R02</td>\n",
       "      <td>C0055</td>\n",
       "      <td>M01</td>\n",
       "      <td>S006</td>\n",
       "      <td>5.0</td>\n",
       "    </tr>\n",
       "    <tr>\n",
       "      <th>15325</th>\n",
       "      <td>U1899</td>\n",
       "      <td>R02</td>\n",
       "      <td>C0055</td>\n",
       "      <td>M01</td>\n",
       "      <td>S006</td>\n",
       "      <td>5.0</td>\n",
       "    </tr>\n",
       "  </tbody>\n",
       "</table>\n",
       "</div>"
      ],
      "text/plain": [
       "      user_id region college major social_position  month\n",
       "7014    U1120    R02   C0053   M01            S004    4.0\n",
       "15109   U1899    R02   C0055   M01            S006    5.0\n",
       "15110   U1899    R02   C0055   M01            S006    5.0\n",
       "15111   U1899    R02   C0055   M01            S006    5.0\n",
       "15325   U1899    R02   C0055   M01            S006    5.0"
      ]
     },
     "execution_count": 27,
     "metadata": {},
     "output_type": "execute_result"
    }
   ],
   "source": [
    "data_01.query(qs).iloc[:, 0:6].head()"
   ]
  },
  {
   "cell_type": "markdown",
   "metadata": {},
   "source": [
    "### 3.3. 월요일(weekday = 2)에 가장 빠른 시간에 이용한 기록을 5개 제시하세요."
   ]
  },
  {
   "cell_type": "code",
   "execution_count": 28,
   "metadata": {},
   "outputs": [
    {
     "data": {
      "text/html": [
       "<div>\n",
       "<style scoped>\n",
       "    .dataframe tbody tr th:only-of-type {\n",
       "        vertical-align: middle;\n",
       "    }\n",
       "\n",
       "    .dataframe tbody tr th {\n",
       "        vertical-align: top;\n",
       "    }\n",
       "\n",
       "    .dataframe thead th {\n",
       "        text-align: right;\n",
       "    }\n",
       "</style>\n",
       "<table border=\"1\" class=\"dataframe\">\n",
       "  <thead>\n",
       "    <tr style=\"text-align: right;\">\n",
       "      <th></th>\n",
       "      <th>user_id</th>\n",
       "      <th>region</th>\n",
       "      <th>college</th>\n",
       "      <th>major</th>\n",
       "      <th>social_position</th>\n",
       "      <th>month</th>\n",
       "      <th>weekday</th>\n",
       "      <th>hour</th>\n",
       "      <th>DB</th>\n",
       "    </tr>\n",
       "  </thead>\n",
       "  <tbody>\n",
       "    <tr>\n",
       "      <th>1</th>\n",
       "      <td>U0003</td>\n",
       "      <td>R01</td>\n",
       "      <td>C0003</td>\n",
       "      <td>M01</td>\n",
       "      <td>S001</td>\n",
       "      <td>3.0</td>\n",
       "      <td>2</td>\n",
       "      <td>12</td>\n",
       "      <td>DB048</td>\n",
       "    </tr>\n",
       "    <tr>\n",
       "      <th>2</th>\n",
       "      <td>U0003</td>\n",
       "      <td>R01</td>\n",
       "      <td>C0003</td>\n",
       "      <td>M01</td>\n",
       "      <td>S001</td>\n",
       "      <td>3.0</td>\n",
       "      <td>2</td>\n",
       "      <td>13</td>\n",
       "      <td>DB048</td>\n",
       "    </tr>\n",
       "    <tr>\n",
       "      <th>3</th>\n",
       "      <td>U0006</td>\n",
       "      <td>R01</td>\n",
       "      <td>C0001</td>\n",
       "      <td>M11</td>\n",
       "      <td>S005</td>\n",
       "      <td>3.0</td>\n",
       "      <td>2</td>\n",
       "      <td>14</td>\n",
       "      <td>DB055</td>\n",
       "    </tr>\n",
       "    <tr>\n",
       "      <th>4</th>\n",
       "      <td>U0005</td>\n",
       "      <td>R01</td>\n",
       "      <td>C0001</td>\n",
       "      <td>M08</td>\n",
       "      <td>S005</td>\n",
       "      <td>3.0</td>\n",
       "      <td>2</td>\n",
       "      <td>14</td>\n",
       "      <td>DB044</td>\n",
       "    </tr>\n",
       "    <tr>\n",
       "      <th>5</th>\n",
       "      <td>U0007</td>\n",
       "      <td>R01</td>\n",
       "      <td>C0001</td>\n",
       "      <td>M08</td>\n",
       "      <td>S005</td>\n",
       "      <td>3.0</td>\n",
       "      <td>2</td>\n",
       "      <td>14</td>\n",
       "      <td>DB044</td>\n",
       "    </tr>\n",
       "  </tbody>\n",
       "</table>\n",
       "</div>"
      ],
      "text/plain": [
       "  user_id region college major social_position  month  weekday  hour     DB\n",
       "1   U0003    R01   C0003   M01            S001    3.0        2    12  DB048\n",
       "2   U0003    R01   C0003   M01            S001    3.0        2    13  DB048\n",
       "3   U0006    R01   C0001   M11            S005    3.0        2    14  DB055\n",
       "4   U0005    R01   C0001   M08            S005    3.0        2    14  DB044\n",
       "5   U0007    R01   C0001   M08            S005    3.0        2    14  DB044"
      ]
     },
     "execution_count": 28,
     "metadata": {},
     "output_type": "execute_result"
    }
   ],
   "source": [
    "# 월요일(weekday = 2)\n",
    "dw = data_01.weekday == 2\n",
    "data_01[dw].head()"
   ]
  },
  {
   "cell_type": "code",
   "execution_count": 30,
   "metadata": {},
   "outputs": [
    {
     "data": {
      "text/plain": [
       "0"
      ]
     },
     "execution_count": 30,
     "metadata": {},
     "output_type": "execute_result"
    }
   ],
   "source": [
    "# 가장 빠른 시간\n",
    "data_01[dw]['hour'].min()"
   ]
  },
  {
   "cell_type": "code",
   "execution_count": 31,
   "metadata": {},
   "outputs": [
    {
     "data": {
      "text/html": [
       "<div>\n",
       "<style scoped>\n",
       "    .dataframe tbody tr th:only-of-type {\n",
       "        vertical-align: middle;\n",
       "    }\n",
       "\n",
       "    .dataframe tbody tr th {\n",
       "        vertical-align: top;\n",
       "    }\n",
       "\n",
       "    .dataframe thead th {\n",
       "        text-align: right;\n",
       "    }\n",
       "</style>\n",
       "<table border=\"1\" class=\"dataframe\">\n",
       "  <thead>\n",
       "    <tr style=\"text-align: right;\">\n",
       "      <th></th>\n",
       "      <th>user_id</th>\n",
       "      <th>region</th>\n",
       "      <th>college</th>\n",
       "      <th>major</th>\n",
       "      <th>social_position</th>\n",
       "      <th>month</th>\n",
       "      <th>weekday</th>\n",
       "      <th>hour</th>\n",
       "      <th>DB</th>\n",
       "    </tr>\n",
       "  </thead>\n",
       "  <tbody>\n",
       "    <tr>\n",
       "      <th>235</th>\n",
       "      <td>U0129</td>\n",
       "      <td>R01</td>\n",
       "      <td>C0030</td>\n",
       "      <td>M10</td>\n",
       "      <td>S002</td>\n",
       "      <td>3.0</td>\n",
       "      <td>2</td>\n",
       "      <td>0</td>\n",
       "      <td>DB077</td>\n",
       "    </tr>\n",
       "    <tr>\n",
       "      <th>236</th>\n",
       "      <td>U0003</td>\n",
       "      <td>R01</td>\n",
       "      <td>C0003</td>\n",
       "      <td>M01</td>\n",
       "      <td>S001</td>\n",
       "      <td>3.0</td>\n",
       "      <td>2</td>\n",
       "      <td>0</td>\n",
       "      <td>DB048</td>\n",
       "    </tr>\n",
       "    <tr>\n",
       "      <th>237</th>\n",
       "      <td>U0003</td>\n",
       "      <td>R01</td>\n",
       "      <td>C0003</td>\n",
       "      <td>M01</td>\n",
       "      <td>S001</td>\n",
       "      <td>3.0</td>\n",
       "      <td>2</td>\n",
       "      <td>0</td>\n",
       "      <td>DB048</td>\n",
       "    </tr>\n",
       "    <tr>\n",
       "      <th>238</th>\n",
       "      <td>U0129</td>\n",
       "      <td>R01</td>\n",
       "      <td>C0030</td>\n",
       "      <td>M10</td>\n",
       "      <td>S002</td>\n",
       "      <td>3.0</td>\n",
       "      <td>2</td>\n",
       "      <td>0</td>\n",
       "      <td>DB077</td>\n",
       "    </tr>\n",
       "    <tr>\n",
       "      <th>239</th>\n",
       "      <td>U0131</td>\n",
       "      <td>R02</td>\n",
       "      <td>C0031</td>\n",
       "      <td>M07</td>\n",
       "      <td>S004</td>\n",
       "      <td>3.0</td>\n",
       "      <td>2</td>\n",
       "      <td>0</td>\n",
       "      <td>DB031</td>\n",
       "    </tr>\n",
       "  </tbody>\n",
       "</table>\n",
       "</div>"
      ],
      "text/plain": [
       "    user_id region college major social_position  month  weekday  hour     DB\n",
       "235   U0129    R01   C0030   M10            S002    3.0        2     0  DB077\n",
       "236   U0003    R01   C0003   M01            S001    3.0        2     0  DB048\n",
       "237   U0003    R01   C0003   M01            S001    3.0        2     0  DB048\n",
       "238   U0129    R01   C0030   M10            S002    3.0        2     0  DB077\n",
       "239   U0131    R02   C0031   M07            S004    3.0        2     0  DB031"
      ]
     },
     "execution_count": 31,
     "metadata": {},
     "output_type": "execute_result"
    }
   ],
   "source": [
    "dh = data_01.hour == 0\n",
    "ds = dw & dh\n",
    "data_01[ds].head()"
   ]
  },
  {
   "cell_type": "code",
   "execution_count": 32,
   "metadata": {},
   "outputs": [
    {
     "data": {
      "text/html": [
       "<div>\n",
       "<style scoped>\n",
       "    .dataframe tbody tr th:only-of-type {\n",
       "        vertical-align: middle;\n",
       "    }\n",
       "\n",
       "    .dataframe tbody tr th {\n",
       "        vertical-align: top;\n",
       "    }\n",
       "\n",
       "    .dataframe thead th {\n",
       "        text-align: right;\n",
       "    }\n",
       "</style>\n",
       "<table border=\"1\" class=\"dataframe\">\n",
       "  <thead>\n",
       "    <tr style=\"text-align: right;\">\n",
       "      <th></th>\n",
       "      <th>user_id</th>\n",
       "      <th>region</th>\n",
       "      <th>college</th>\n",
       "      <th>major</th>\n",
       "      <th>social_position</th>\n",
       "      <th>month</th>\n",
       "      <th>weekday</th>\n",
       "      <th>hour</th>\n",
       "      <th>DB</th>\n",
       "    </tr>\n",
       "  </thead>\n",
       "  <tbody>\n",
       "    <tr>\n",
       "      <th>0</th>\n",
       "      <td>U0002</td>\n",
       "      <td>R01</td>\n",
       "      <td>C0002</td>\n",
       "      <td>M09</td>\n",
       "      <td>S005</td>\n",
       "      <td>3.0</td>\n",
       "      <td>3</td>\n",
       "      <td>21</td>\n",
       "      <td>DB048</td>\n",
       "    </tr>\n",
       "    <tr>\n",
       "      <th>1</th>\n",
       "      <td>U0003</td>\n",
       "      <td>R01</td>\n",
       "      <td>C0003</td>\n",
       "      <td>M01</td>\n",
       "      <td>S001</td>\n",
       "      <td>3.0</td>\n",
       "      <td>2</td>\n",
       "      <td>12</td>\n",
       "      <td>DB048</td>\n",
       "    </tr>\n",
       "    <tr>\n",
       "      <th>2</th>\n",
       "      <td>U0003</td>\n",
       "      <td>R01</td>\n",
       "      <td>C0003</td>\n",
       "      <td>M01</td>\n",
       "      <td>S001</td>\n",
       "      <td>3.0</td>\n",
       "      <td>2</td>\n",
       "      <td>13</td>\n",
       "      <td>DB048</td>\n",
       "    </tr>\n",
       "    <tr>\n",
       "      <th>3</th>\n",
       "      <td>U0006</td>\n",
       "      <td>R01</td>\n",
       "      <td>C0001</td>\n",
       "      <td>M11</td>\n",
       "      <td>S005</td>\n",
       "      <td>3.0</td>\n",
       "      <td>2</td>\n",
       "      <td>14</td>\n",
       "      <td>DB055</td>\n",
       "    </tr>\n",
       "    <tr>\n",
       "      <th>4</th>\n",
       "      <td>U0005</td>\n",
       "      <td>R01</td>\n",
       "      <td>C0001</td>\n",
       "      <td>M08</td>\n",
       "      <td>S005</td>\n",
       "      <td>3.0</td>\n",
       "      <td>2</td>\n",
       "      <td>14</td>\n",
       "      <td>DB044</td>\n",
       "    </tr>\n",
       "  </tbody>\n",
       "</table>\n",
       "</div>"
      ],
      "text/plain": [
       "  user_id region college major social_position  month  weekday  hour     DB\n",
       "0   U0002    R01   C0002   M09            S005    3.0        3    21  DB048\n",
       "1   U0003    R01   C0003   M01            S001    3.0        2    12  DB048\n",
       "2   U0003    R01   C0003   M01            S001    3.0        2    13  DB048\n",
       "3   U0006    R01   C0001   M11            S005    3.0        2    14  DB055\n",
       "4   U0005    R01   C0001   M08            S005    3.0        2    14  DB044"
      ]
     },
     "execution_count": 32,
     "metadata": {},
     "output_type": "execute_result"
    }
   ],
   "source": [
    "# 정하협\n",
    "data_01.head()"
   ]
  },
  {
   "cell_type": "code",
   "execution_count": 33,
   "metadata": {},
   "outputs": [],
   "source": [
    "e = data_01['weekday'] == 2\n",
    "data_04 = data_01[e].copy()"
   ]
  },
  {
   "cell_type": "code",
   "execution_count": 34,
   "metadata": {},
   "outputs": [
    {
     "data": {
      "text/plain": [
       "(19438, 9)"
      ]
     },
     "execution_count": 34,
     "metadata": {},
     "output_type": "execute_result"
    }
   ],
   "source": [
    "data_04.shape"
   ]
  },
  {
   "cell_type": "code",
   "execution_count": 36,
   "metadata": {},
   "outputs": [
    {
     "data": {
      "text/html": [
       "<div>\n",
       "<style scoped>\n",
       "    .dataframe tbody tr th:only-of-type {\n",
       "        vertical-align: middle;\n",
       "    }\n",
       "\n",
       "    .dataframe tbody tr th {\n",
       "        vertical-align: top;\n",
       "    }\n",
       "\n",
       "    .dataframe thead th {\n",
       "        text-align: right;\n",
       "    }\n",
       "</style>\n",
       "<table border=\"1\" class=\"dataframe\">\n",
       "  <thead>\n",
       "    <tr style=\"text-align: right;\">\n",
       "      <th></th>\n",
       "      <th>user_id</th>\n",
       "      <th>region</th>\n",
       "      <th>college</th>\n",
       "      <th>major</th>\n",
       "      <th>social_position</th>\n",
       "      <th>month</th>\n",
       "      <th>weekday</th>\n",
       "      <th>hour</th>\n",
       "      <th>DB</th>\n",
       "    </tr>\n",
       "  </thead>\n",
       "  <tbody>\n",
       "    <tr>\n",
       "      <th>37710</th>\n",
       "      <td>U0036</td>\n",
       "      <td>R01</td>\n",
       "      <td>C0001</td>\n",
       "      <td>M04</td>\n",
       "      <td>S006</td>\n",
       "      <td>9.0</td>\n",
       "      <td>2</td>\n",
       "      <td>0</td>\n",
       "      <td>DB048</td>\n",
       "    </tr>\n",
       "    <tr>\n",
       "      <th>91566</th>\n",
       "      <td>U5394</td>\n",
       "      <td>R01</td>\n",
       "      <td>C0008</td>\n",
       "      <td>M09</td>\n",
       "      <td>S004</td>\n",
       "      <td>12.0</td>\n",
       "      <td>2</td>\n",
       "      <td>0</td>\n",
       "      <td>DB018</td>\n",
       "    </tr>\n",
       "    <tr>\n",
       "      <th>86484</th>\n",
       "      <td>U0072</td>\n",
       "      <td>R01</td>\n",
       "      <td>C0001</td>\n",
       "      <td>UNKNOWN</td>\n",
       "      <td>S006</td>\n",
       "      <td>10.0</td>\n",
       "      <td>2</td>\n",
       "      <td>0</td>\n",
       "      <td>DB018</td>\n",
       "    </tr>\n",
       "    <tr>\n",
       "      <th>112339</th>\n",
       "      <td>U3212</td>\n",
       "      <td>R01</td>\n",
       "      <td>C0035</td>\n",
       "      <td>M04</td>\n",
       "      <td>S004</td>\n",
       "      <td>11.0</td>\n",
       "      <td>2</td>\n",
       "      <td>0</td>\n",
       "      <td>DB031</td>\n",
       "    </tr>\n",
       "    <tr>\n",
       "      <th>86483</th>\n",
       "      <td>U2913</td>\n",
       "      <td>R01</td>\n",
       "      <td>C0008</td>\n",
       "      <td>M09</td>\n",
       "      <td>S004</td>\n",
       "      <td>10.0</td>\n",
       "      <td>2</td>\n",
       "      <td>0</td>\n",
       "      <td>DB064</td>\n",
       "    </tr>\n",
       "    <tr>\n",
       "      <th>...</th>\n",
       "      <td>...</td>\n",
       "      <td>...</td>\n",
       "      <td>...</td>\n",
       "      <td>...</td>\n",
       "      <td>...</td>\n",
       "      <td>...</td>\n",
       "      <td>...</td>\n",
       "      <td>...</td>\n",
       "      <td>...</td>\n",
       "    </tr>\n",
       "    <tr>\n",
       "      <th>8861</th>\n",
       "      <td>U1747</td>\n",
       "      <td>R01</td>\n",
       "      <td>C0001</td>\n",
       "      <td>M04</td>\n",
       "      <td>S005</td>\n",
       "      <td>4.0</td>\n",
       "      <td>2</td>\n",
       "      <td>30</td>\n",
       "      <td>DB021</td>\n",
       "    </tr>\n",
       "    <tr>\n",
       "      <th>52874</th>\n",
       "      <td>U1008</td>\n",
       "      <td>R01</td>\n",
       "      <td>C0002</td>\n",
       "      <td>M09</td>\n",
       "      <td>S005</td>\n",
       "      <td>12.0</td>\n",
       "      <td>2</td>\n",
       "      <td>30</td>\n",
       "      <td>DB031</td>\n",
       "    </tr>\n",
       "    <tr>\n",
       "      <th>52772</th>\n",
       "      <td>U3449</td>\n",
       "      <td>R01</td>\n",
       "      <td>C0001</td>\n",
       "      <td>M08</td>\n",
       "      <td>S006</td>\n",
       "      <td>12.0</td>\n",
       "      <td>2</td>\n",
       "      <td>30</td>\n",
       "      <td>DB027</td>\n",
       "    </tr>\n",
       "    <tr>\n",
       "      <th>113242</th>\n",
       "      <td>U2381</td>\n",
       "      <td>R01</td>\n",
       "      <td>C0006</td>\n",
       "      <td>M11</td>\n",
       "      <td>S004</td>\n",
       "      <td>11.0</td>\n",
       "      <td>2</td>\n",
       "      <td>30</td>\n",
       "      <td>DB031</td>\n",
       "    </tr>\n",
       "    <tr>\n",
       "      <th>92426</th>\n",
       "      <td>U0018</td>\n",
       "      <td>R01</td>\n",
       "      <td>C0006</td>\n",
       "      <td>M11</td>\n",
       "      <td>S004</td>\n",
       "      <td>12.0</td>\n",
       "      <td>2</td>\n",
       "      <td>30</td>\n",
       "      <td>DB060</td>\n",
       "    </tr>\n",
       "  </tbody>\n",
       "</table>\n",
       "<p>19438 rows × 9 columns</p>\n",
       "</div>"
      ],
      "text/plain": [
       "       user_id region college    major social_position  month  weekday  hour  \\\n",
       "37710    U0036    R01   C0001      M04            S006    9.0        2     0   \n",
       "91566    U5394    R01   C0008      M09            S004   12.0        2     0   \n",
       "86484    U0072    R01   C0001  UNKNOWN            S006   10.0        2     0   \n",
       "112339   U3212    R01   C0035      M04            S004   11.0        2     0   \n",
       "86483    U2913    R01   C0008      M09            S004   10.0        2     0   \n",
       "...        ...    ...     ...      ...             ...    ...      ...   ...   \n",
       "8861     U1747    R01   C0001      M04            S005    4.0        2    30   \n",
       "52874    U1008    R01   C0002      M09            S005   12.0        2    30   \n",
       "52772    U3449    R01   C0001      M08            S006   12.0        2    30   \n",
       "113242   U2381    R01   C0006      M11            S004   11.0        2    30   \n",
       "92426    U0018    R01   C0006      M11            S004   12.0        2    30   \n",
       "\n",
       "           DB  \n",
       "37710   DB048  \n",
       "91566   DB018  \n",
       "86484   DB018  \n",
       "112339  DB031  \n",
       "86483   DB064  \n",
       "...       ...  \n",
       "8861    DB021  \n",
       "52874   DB031  \n",
       "52772   DB027  \n",
       "113242  DB031  \n",
       "92426   DB060  \n",
       "\n",
       "[19438 rows x 9 columns]"
      ]
     },
     "execution_count": 36,
     "metadata": {},
     "output_type": "execute_result"
    }
   ],
   "source": [
    "data_04.nsmallest(19438, 'hour')"
   ]
  },
  {
   "cell_type": "code",
   "execution_count": 37,
   "metadata": {},
   "outputs": [
    {
     "data": {
      "text/html": [
       "<div>\n",
       "<style scoped>\n",
       "    .dataframe tbody tr th:only-of-type {\n",
       "        vertical-align: middle;\n",
       "    }\n",
       "\n",
       "    .dataframe tbody tr th {\n",
       "        vertical-align: top;\n",
       "    }\n",
       "\n",
       "    .dataframe thead th {\n",
       "        text-align: right;\n",
       "    }\n",
       "</style>\n",
       "<table border=\"1\" class=\"dataframe\">\n",
       "  <thead>\n",
       "    <tr style=\"text-align: right;\">\n",
       "      <th></th>\n",
       "      <th>user_id</th>\n",
       "      <th>region</th>\n",
       "      <th>college</th>\n",
       "      <th>major</th>\n",
       "      <th>social_position</th>\n",
       "      <th>month</th>\n",
       "      <th>weekday</th>\n",
       "      <th>hour</th>\n",
       "      <th>DB</th>\n",
       "    </tr>\n",
       "  </thead>\n",
       "  <tbody>\n",
       "    <tr>\n",
       "      <th>235</th>\n",
       "      <td>U0129</td>\n",
       "      <td>R01</td>\n",
       "      <td>C0030</td>\n",
       "      <td>M10</td>\n",
       "      <td>S002</td>\n",
       "      <td>3.0</td>\n",
       "      <td>2</td>\n",
       "      <td>0</td>\n",
       "      <td>DB077</td>\n",
       "    </tr>\n",
       "    <tr>\n",
       "      <th>236</th>\n",
       "      <td>U0003</td>\n",
       "      <td>R01</td>\n",
       "      <td>C0003</td>\n",
       "      <td>M01</td>\n",
       "      <td>S001</td>\n",
       "      <td>3.0</td>\n",
       "      <td>2</td>\n",
       "      <td>0</td>\n",
       "      <td>DB048</td>\n",
       "    </tr>\n",
       "    <tr>\n",
       "      <th>237</th>\n",
       "      <td>U0003</td>\n",
       "      <td>R01</td>\n",
       "      <td>C0003</td>\n",
       "      <td>M01</td>\n",
       "      <td>S001</td>\n",
       "      <td>3.0</td>\n",
       "      <td>2</td>\n",
       "      <td>0</td>\n",
       "      <td>DB048</td>\n",
       "    </tr>\n",
       "    <tr>\n",
       "      <th>238</th>\n",
       "      <td>U0129</td>\n",
       "      <td>R01</td>\n",
       "      <td>C0030</td>\n",
       "      <td>M10</td>\n",
       "      <td>S002</td>\n",
       "      <td>3.0</td>\n",
       "      <td>2</td>\n",
       "      <td>0</td>\n",
       "      <td>DB077</td>\n",
       "    </tr>\n",
       "    <tr>\n",
       "      <th>239</th>\n",
       "      <td>U0131</td>\n",
       "      <td>R02</td>\n",
       "      <td>C0031</td>\n",
       "      <td>M07</td>\n",
       "      <td>S004</td>\n",
       "      <td>3.0</td>\n",
       "      <td>2</td>\n",
       "      <td>0</td>\n",
       "      <td>DB031</td>\n",
       "    </tr>\n",
       "  </tbody>\n",
       "</table>\n",
       "</div>"
      ],
      "text/plain": [
       "    user_id region college major social_position  month  weekday  hour     DB\n",
       "235   U0129    R01   C0030   M10            S002    3.0        2     0  DB077\n",
       "236   U0003    R01   C0003   M01            S001    3.0        2     0  DB048\n",
       "237   U0003    R01   C0003   M01            S001    3.0        2     0  DB048\n",
       "238   U0129    R01   C0030   M10            S002    3.0        2     0  DB077\n",
       "239   U0131    R02   C0031   M07            S004    3.0        2     0  DB031"
      ]
     },
     "execution_count": 37,
     "metadata": {},
     "output_type": "execute_result"
    }
   ],
   "source": [
    "data_04.nsmallest(5, 'hour')"
   ]
  },
  {
   "cell_type": "code",
   "execution_count": 39,
   "metadata": {},
   "outputs": [
    {
     "data": {
      "text/html": [
       "<div>\n",
       "<style scoped>\n",
       "    .dataframe tbody tr th:only-of-type {\n",
       "        vertical-align: middle;\n",
       "    }\n",
       "\n",
       "    .dataframe tbody tr th {\n",
       "        vertical-align: top;\n",
       "    }\n",
       "\n",
       "    .dataframe thead th {\n",
       "        text-align: right;\n",
       "    }\n",
       "</style>\n",
       "<table border=\"1\" class=\"dataframe\">\n",
       "  <thead>\n",
       "    <tr style=\"text-align: right;\">\n",
       "      <th></th>\n",
       "      <th>user_id</th>\n",
       "      <th>region</th>\n",
       "      <th>college</th>\n",
       "      <th>major</th>\n",
       "      <th>social_position</th>\n",
       "      <th>month</th>\n",
       "      <th>weekday</th>\n",
       "      <th>hour</th>\n",
       "      <th>DB</th>\n",
       "    </tr>\n",
       "  </thead>\n",
       "  <tbody>\n",
       "    <tr>\n",
       "      <th>37710</th>\n",
       "      <td>U0036</td>\n",
       "      <td>R01</td>\n",
       "      <td>C0001</td>\n",
       "      <td>M04</td>\n",
       "      <td>S006</td>\n",
       "      <td>9.0</td>\n",
       "      <td>2</td>\n",
       "      <td>0</td>\n",
       "      <td>DB048</td>\n",
       "    </tr>\n",
       "    <tr>\n",
       "      <th>91566</th>\n",
       "      <td>U5394</td>\n",
       "      <td>R01</td>\n",
       "      <td>C0008</td>\n",
       "      <td>M09</td>\n",
       "      <td>S004</td>\n",
       "      <td>12.0</td>\n",
       "      <td>2</td>\n",
       "      <td>0</td>\n",
       "      <td>DB018</td>\n",
       "    </tr>\n",
       "    <tr>\n",
       "      <th>86484</th>\n",
       "      <td>U0072</td>\n",
       "      <td>R01</td>\n",
       "      <td>C0001</td>\n",
       "      <td>UNKNOWN</td>\n",
       "      <td>S006</td>\n",
       "      <td>10.0</td>\n",
       "      <td>2</td>\n",
       "      <td>0</td>\n",
       "      <td>DB018</td>\n",
       "    </tr>\n",
       "    <tr>\n",
       "      <th>112339</th>\n",
       "      <td>U3212</td>\n",
       "      <td>R01</td>\n",
       "      <td>C0035</td>\n",
       "      <td>M04</td>\n",
       "      <td>S004</td>\n",
       "      <td>11.0</td>\n",
       "      <td>2</td>\n",
       "      <td>0</td>\n",
       "      <td>DB031</td>\n",
       "    </tr>\n",
       "    <tr>\n",
       "      <th>86483</th>\n",
       "      <td>U2913</td>\n",
       "      <td>R01</td>\n",
       "      <td>C0008</td>\n",
       "      <td>M09</td>\n",
       "      <td>S004</td>\n",
       "      <td>10.0</td>\n",
       "      <td>2</td>\n",
       "      <td>0</td>\n",
       "      <td>DB064</td>\n",
       "    </tr>\n",
       "  </tbody>\n",
       "</table>\n",
       "</div>"
      ],
      "text/plain": [
       "       user_id region college    major social_position  month  weekday  hour  \\\n",
       "37710    U0036    R01   C0001      M04            S006    9.0        2     0   \n",
       "91566    U5394    R01   C0008      M09            S004   12.0        2     0   \n",
       "86484    U0072    R01   C0001  UNKNOWN            S006   10.0        2     0   \n",
       "112339   U3212    R01   C0035      M04            S004   11.0        2     0   \n",
       "86483    U2913    R01   C0008      M09            S004   10.0        2     0   \n",
       "\n",
       "           DB  \n",
       "37710   DB048  \n",
       "91566   DB018  \n",
       "86484   DB018  \n",
       "112339  DB031  \n",
       "86483   DB064  "
      ]
     },
     "execution_count": 39,
     "metadata": {},
     "output_type": "execute_result"
    }
   ],
   "source": [
    "data_04.sort_values('hour', ascending=True).head()"
   ]
  }
 ],
 "metadata": {
  "kernelspec": {
   "display_name": "Python 3",
   "language": "python",
   "name": "python3"
  },
  "language_info": {
   "codemirror_mode": {
    "name": "ipython",
    "version": 3
   },
   "file_extension": ".py",
   "mimetype": "text/x-python",
   "name": "python",
   "nbconvert_exporter": "python",
   "pygments_lexer": "ipython3",
   "version": "3.8.5"
  }
 },
 "nbformat": 4,
 "nbformat_minor": 4
}
