{
 "cells": [
  {
   "cell_type": "markdown",
   "metadata": {},
   "source": [
    "# 데이터 전처리 예제 1\n",
    "\n",
    "* **데이터 설명**\n",
    "  * 본 데이터는 A대학 도서관에서 제공하는 온라인 DB에 대한 사용자별 이용기록(Transaction)입니다.\n",
    "  * user_id : 사용자ID\n",
    "  * region : 지역코드\n",
    "  * college : 단과대학코드\n",
    "  * major : 전공코드\n",
    "  * social_position : 직급코드\n",
    "  * month : 이용월\n",
    "  * weekday : 이용요일(1:일요일, 2:월요일, 3:화요일, 4:수요일, 5:목요일, 6:금요일, 7:토요일)\n",
    "  * hour : 이용시각(24H)\n",
    "  * DB : 이용 온라인 DB"
   ]
  },
  {
   "cell_type": "markdown",
   "metadata": {},
   "source": [
    "### 0.0. 필요한 패키지를 로딩하세요"
   ]
  },
  {
   "cell_type": "code",
   "execution_count": 1,
   "metadata": {},
   "outputs": [],
   "source": [
    "# 넘파이\n",
    "# 판다스\n",
    "import numpy as np\n",
    "import pandas as pd"
   ]
  },
  {
   "cell_type": "markdown",
   "metadata": {},
   "source": [
    "## 1. 데이터 로딩 및 문제 파악하기"
   ]
  },
  {
   "cell_type": "markdown",
   "metadata": {},
   "source": [
    "### 1.1. 데이터를 로딩하고 처음 5개의 레코드를 출력하세요."
   ]
  },
  {
   "cell_type": "markdown",
   "metadata": {},
   "source": [
    "data_01 = pd.read_csv('DATA_01.csv')"
   ]
  },
  {
   "cell_type": "code",
   "execution_count": 48,
   "metadata": {},
   "outputs": [
    {
     "data": {
      "text/html": [
       "<div>\n",
       "<style scoped>\n",
       "    .dataframe tbody tr th:only-of-type {\n",
       "        vertical-align: middle;\n",
       "    }\n",
       "\n",
       "    .dataframe tbody tr th {\n",
       "        vertical-align: top;\n",
       "    }\n",
       "\n",
       "    .dataframe thead th {\n",
       "        text-align: right;\n",
       "    }\n",
       "</style>\n",
       "<table border=\"1\" class=\"dataframe\">\n",
       "  <thead>\n",
       "    <tr style=\"text-align: right;\">\n",
       "      <th></th>\n",
       "      <th>user_id</th>\n",
       "      <th>region</th>\n",
       "      <th>college</th>\n",
       "      <th>major</th>\n",
       "      <th>social_position</th>\n",
       "      <th>month</th>\n",
       "      <th>weekday</th>\n",
       "      <th>hour</th>\n",
       "      <th>DB</th>\n",
       "    </tr>\n",
       "  </thead>\n",
       "  <tbody>\n",
       "    <tr>\n",
       "      <th>0</th>\n",
       "      <td>U0002</td>\n",
       "      <td>R01</td>\n",
       "      <td>C0002</td>\n",
       "      <td>M09</td>\n",
       "      <td>S005</td>\n",
       "      <td>3.0</td>\n",
       "      <td>3</td>\n",
       "      <td>21</td>\n",
       "      <td>DB048</td>\n",
       "    </tr>\n",
       "    <tr>\n",
       "      <th>1</th>\n",
       "      <td>U0003</td>\n",
       "      <td>R01</td>\n",
       "      <td>C0003</td>\n",
       "      <td>M01</td>\n",
       "      <td>S001</td>\n",
       "      <td>3.0</td>\n",
       "      <td>2</td>\n",
       "      <td>12</td>\n",
       "      <td>DB048</td>\n",
       "    </tr>\n",
       "    <tr>\n",
       "      <th>2</th>\n",
       "      <td>U0003</td>\n",
       "      <td>R01</td>\n",
       "      <td>C0003</td>\n",
       "      <td>M01</td>\n",
       "      <td>S001</td>\n",
       "      <td>3.0</td>\n",
       "      <td>2</td>\n",
       "      <td>13</td>\n",
       "      <td>DB048</td>\n",
       "    </tr>\n",
       "    <tr>\n",
       "      <th>3</th>\n",
       "      <td>U0006</td>\n",
       "      <td>R01</td>\n",
       "      <td>C0001</td>\n",
       "      <td>M11</td>\n",
       "      <td>S005</td>\n",
       "      <td>3.0</td>\n",
       "      <td>2</td>\n",
       "      <td>14</td>\n",
       "      <td>DB055</td>\n",
       "    </tr>\n",
       "    <tr>\n",
       "      <th>4</th>\n",
       "      <td>U0005</td>\n",
       "      <td>R01</td>\n",
       "      <td>C0001</td>\n",
       "      <td>M08</td>\n",
       "      <td>S005</td>\n",
       "      <td>3.0</td>\n",
       "      <td>2</td>\n",
       "      <td>14</td>\n",
       "      <td>DB044</td>\n",
       "    </tr>\n",
       "  </tbody>\n",
       "</table>\n",
       "</div>"
      ],
      "text/plain": [
       "  user_id region college major social_position  month  weekday  hour     DB\n",
       "0   U0002    R01   C0002   M09            S005    3.0        3    21  DB048\n",
       "1   U0003    R01   C0003   M01            S001    3.0        2    12  DB048\n",
       "2   U0003    R01   C0003   M01            S001    3.0        2    13  DB048\n",
       "3   U0006    R01   C0001   M11            S005    3.0        2    14  DB055\n",
       "4   U0005    R01   C0001   M08            S005    3.0        2    14  DB044"
      ]
     },
     "execution_count": 48,
     "metadata": {},
     "output_type": "execute_result"
    }
   ],
   "source": [
    "data_01 = pd.read_csv('DATA_01/DATA_01.csv')\n",
    "data_01.head()"
   ]
  },
  {
   "cell_type": "markdown",
   "metadata": {},
   "source": [
    "### 1.2. 변수별 데이터 타입을 알아볼 수는 코드를 제시하고 문제점이 있을 경우 서술하세요."
   ]
  },
  {
   "cell_type": "code",
   "execution_count": 4,
   "metadata": {
    "scrolled": true
   },
   "outputs": [
    {
     "name": "stdout",
     "output_type": "stream",
     "text": [
      "<class 'pandas.core.frame.DataFrame'>\n",
      "RangeIndex: 117729 entries, 0 to 117728\n",
      "Data columns (total 9 columns):\n",
      " #   Column           Non-Null Count   Dtype  \n",
      "---  ------           --------------   -----  \n",
      " 0   user_id          117729 non-null  object \n",
      " 1   region           117729 non-null  object \n",
      " 2   college          117729 non-null  object \n",
      " 3   major            115893 non-null  object \n",
      " 4   social_position  117729 non-null  object \n",
      " 5   month            116186 non-null  float64\n",
      " 6   weekday          117729 non-null  int64  \n",
      " 7   hour             117729 non-null  int64  \n",
      " 8   DB               117729 non-null  object \n",
      "dtypes: float64(1), int64(2), object(6)\n",
      "memory usage: 8.1+ MB\n"
     ]
    }
   ],
   "source": [
    "data_01.info()"
   ]
  },
  {
   "cell_type": "code",
   "execution_count": 7,
   "metadata": {},
   "outputs": [
    {
     "data": {
      "text/plain": [
       "user_id             object\n",
       "region              object\n",
       "college             object\n",
       "major               object\n",
       "social_position     object\n",
       "month              float64\n",
       "weekday              int64\n",
       "hour                 int64\n",
       "DB                  object\n",
       "dtype: object"
      ]
     },
     "execution_count": 7,
     "metadata": {},
     "output_type": "execute_result"
    }
   ],
   "source": [
    "data_01.dtypes"
   ]
  },
  {
   "cell_type": "markdown",
   "metadata": {},
   "source": [
    "### 1.3. 수치형 변수의 요약 통계량을 제시하세요."
   ]
  },
  {
   "cell_type": "code",
   "execution_count": 50,
   "metadata": {},
   "outputs": [
    {
     "data": {
      "text/html": [
       "<div>\n",
       "<style scoped>\n",
       "    .dataframe tbody tr th:only-of-type {\n",
       "        vertical-align: middle;\n",
       "    }\n",
       "\n",
       "    .dataframe tbody tr th {\n",
       "        vertical-align: top;\n",
       "    }\n",
       "\n",
       "    .dataframe thead th {\n",
       "        text-align: right;\n",
       "    }\n",
       "</style>\n",
       "<table border=\"1\" class=\"dataframe\">\n",
       "  <thead>\n",
       "    <tr style=\"text-align: right;\">\n",
       "      <th></th>\n",
       "      <th>count</th>\n",
       "      <th>mean</th>\n",
       "      <th>std</th>\n",
       "      <th>min</th>\n",
       "      <th>25%</th>\n",
       "      <th>50%</th>\n",
       "      <th>75%</th>\n",
       "      <th>max</th>\n",
       "    </tr>\n",
       "  </thead>\n",
       "  <tbody>\n",
       "    <tr>\n",
       "      <th>month</th>\n",
       "      <td>116186.0</td>\n",
       "      <td>6.879504</td>\n",
       "      <td>3.450912</td>\n",
       "      <td>1.0</td>\n",
       "      <td>4.0</td>\n",
       "      <td>7.0</td>\n",
       "      <td>10.0</td>\n",
       "      <td>12.0</td>\n",
       "    </tr>\n",
       "    <tr>\n",
       "      <th>weekday</th>\n",
       "      <td>117729.0</td>\n",
       "      <td>3.850946</td>\n",
       "      <td>1.871778</td>\n",
       "      <td>1.0</td>\n",
       "      <td>2.0</td>\n",
       "      <td>4.0</td>\n",
       "      <td>5.0</td>\n",
       "      <td>7.0</td>\n",
       "    </tr>\n",
       "    <tr>\n",
       "      <th>hour</th>\n",
       "      <td>117729.0</td>\n",
       "      <td>13.759974</td>\n",
       "      <td>6.733376</td>\n",
       "      <td>0.0</td>\n",
       "      <td>10.0</td>\n",
       "      <td>15.0</td>\n",
       "      <td>19.0</td>\n",
       "      <td>30.0</td>\n",
       "    </tr>\n",
       "  </tbody>\n",
       "</table>\n",
       "</div>"
      ],
      "text/plain": [
       "            count       mean       std  min   25%   50%   75%   max\n",
       "month    116186.0   6.879504  3.450912  1.0   4.0   7.0  10.0  12.0\n",
       "weekday  117729.0   3.850946  1.871778  1.0   2.0   4.0   5.0   7.0\n",
       "hour     117729.0  13.759974  6.733376  0.0  10.0  15.0  19.0  30.0"
      ]
     },
     "execution_count": 50,
     "metadata": {},
     "output_type": "execute_result"
    }
   ],
   "source": [
    "# describe() 활용\n",
    "data_01.describe(include = [np.number]).T\n",
    "#data_01.describe().T"
   ]
  },
  {
   "cell_type": "markdown",
   "metadata": {},
   "source": [
    "### 1.4. 범주형 변수의 요약 통계량을 제시하세요."
   ]
  },
  {
   "cell_type": "code",
   "execution_count": 11,
   "metadata": {},
   "outputs": [
    {
     "data": {
      "text/html": [
       "<div>\n",
       "<style scoped>\n",
       "    .dataframe tbody tr th:only-of-type {\n",
       "        vertical-align: middle;\n",
       "    }\n",
       "\n",
       "    .dataframe tbody tr th {\n",
       "        vertical-align: top;\n",
       "    }\n",
       "\n",
       "    .dataframe thead th {\n",
       "        text-align: right;\n",
       "    }\n",
       "</style>\n",
       "<table border=\"1\" class=\"dataframe\">\n",
       "  <thead>\n",
       "    <tr style=\"text-align: right;\">\n",
       "      <th></th>\n",
       "      <th>count</th>\n",
       "      <th>unique</th>\n",
       "      <th>top</th>\n",
       "      <th>freq</th>\n",
       "    </tr>\n",
       "  </thead>\n",
       "  <tbody>\n",
       "    <tr>\n",
       "      <th>user_id</th>\n",
       "      <td>117729</td>\n",
       "      <td>5473</td>\n",
       "      <td>U0061</td>\n",
       "      <td>2477</td>\n",
       "    </tr>\n",
       "    <tr>\n",
       "      <th>region</th>\n",
       "      <td>117729</td>\n",
       "      <td>3</td>\n",
       "      <td>R01</td>\n",
       "      <td>110166</td>\n",
       "    </tr>\n",
       "    <tr>\n",
       "      <th>college</th>\n",
       "      <td>117729</td>\n",
       "      <td>72</td>\n",
       "      <td>C0001</td>\n",
       "      <td>52531</td>\n",
       "    </tr>\n",
       "    <tr>\n",
       "      <th>major</th>\n",
       "      <td>115893</td>\n",
       "      <td>11</td>\n",
       "      <td>M04</td>\n",
       "      <td>27590</td>\n",
       "    </tr>\n",
       "    <tr>\n",
       "      <th>social_position</th>\n",
       "      <td>117729</td>\n",
       "      <td>8</td>\n",
       "      <td>S005</td>\n",
       "      <td>39578</td>\n",
       "    </tr>\n",
       "    <tr>\n",
       "      <th>DB</th>\n",
       "      <td>117729</td>\n",
       "      <td>76</td>\n",
       "      <td>DB031</td>\n",
       "      <td>23100</td>\n",
       "    </tr>\n",
       "  </tbody>\n",
       "</table>\n",
       "</div>"
      ],
      "text/plain": [
       "                  count unique    top    freq\n",
       "user_id          117729   5473  U0061    2477\n",
       "region           117729      3    R01  110166\n",
       "college          117729     72  C0001   52531\n",
       "major            115893     11    M04   27590\n",
       "social_position  117729      8   S005   39578\n",
       "DB               117729     76  DB031   23100"
      ]
     },
     "execution_count": 11,
     "metadata": {},
     "output_type": "execute_result"
    }
   ],
   "source": [
    "data_01.describe(include = [np.object]).T"
   ]
  },
  {
   "cell_type": "markdown",
   "metadata": {},
   "source": [
    "## 2. 데이터의 문제 수정하기"
   ]
  },
  {
   "cell_type": "markdown",
   "metadata": {},
   "source": [
    "### 2.1. NULL값이 존재하는 변수 중 범주형 변수의 NULL값을 'UNKNOWN'으로 대체하고 처리 결과를 제시하세요."
   ]
  },
  {
   "cell_type": "code",
   "execution_count": 51,
   "metadata": {},
   "outputs": [
    {
     "name": "stdout",
     "output_type": "stream",
     "text": [
      "<class 'pandas.core.frame.DataFrame'>\n",
      "RangeIndex: 117729 entries, 0 to 117728\n",
      "Data columns (total 9 columns):\n",
      " #   Column           Non-Null Count   Dtype  \n",
      "---  ------           --------------   -----  \n",
      " 0   user_id          117729 non-null  object \n",
      " 1   region           117729 non-null  object \n",
      " 2   college          117729 non-null  object \n",
      " 3   major            115893 non-null  object \n",
      " 4   social_position  117729 non-null  object \n",
      " 5   month            116186 non-null  float64\n",
      " 6   weekday          117729 non-null  int64  \n",
      " 7   hour             117729 non-null  int64  \n",
      " 8   DB               117729 non-null  object \n",
      "dtypes: float64(1), int64(2), object(6)\n",
      "memory usage: 8.1+ MB\n"
     ]
    }
   ],
   "source": [
    "data_01.info()"
   ]
  },
  {
   "cell_type": "code",
   "execution_count": 52,
   "metadata": {
    "scrolled": false
   },
   "outputs": [
    {
     "data": {
      "text/plain": [
       "user_id               0\n",
       "region                0\n",
       "college               0\n",
       "major              1836\n",
       "social_position       0\n",
       "month              1543\n",
       "weekday               0\n",
       "hour                  0\n",
       "DB                    0\n",
       "dtype: int64"
      ]
     },
     "execution_count": 52,
     "metadata": {},
     "output_type": "execute_result"
    }
   ],
   "source": [
    "data_01.isnull().sum()"
   ]
  },
  {
   "cell_type": "code",
   "execution_count": 53,
   "metadata": {},
   "outputs": [
    {
     "data": {
      "text/plain": [
       "user_id               0\n",
       "region                0\n",
       "college               0\n",
       "major                 0\n",
       "social_position       0\n",
       "month              1543\n",
       "weekday               0\n",
       "hour                  0\n",
       "DB                    0\n",
       "dtype: int64"
      ]
     },
     "execution_count": 53,
     "metadata": {},
     "output_type": "execute_result"
    }
   ],
   "source": [
    "data_01['major'] = data_01['major'].fillna('Unknown')\n",
    "data_01.isnull().sum()"
   ]
  },
  {
   "cell_type": "markdown",
   "metadata": {},
   "source": [
    "### 2.2. NULL값이 존재하는 변수 중 수치형 변수의 NULL값은 제거하고 처리 뒤 데이터의 행과 열을 제시하세요."
   ]
  },
  {
   "cell_type": "code",
   "execution_count": 54,
   "metadata": {},
   "outputs": [
    {
     "data": {
      "text/plain": [
       "user_id            0\n",
       "region             0\n",
       "college            0\n",
       "major              0\n",
       "social_position    0\n",
       "month              0\n",
       "weekday            0\n",
       "hour               0\n",
       "DB                 0\n",
       "dtype: int64"
      ]
     },
     "execution_count": 54,
     "metadata": {},
     "output_type": "execute_result"
    }
   ],
   "source": [
    "data_01 = data_01.dropna(subset=['month'])\n",
    "data_01.isnull().sum()"
   ]
  },
  {
   "cell_type": "code",
   "execution_count": 55,
   "metadata": {},
   "outputs": [],
   "source": [
    "data_01 = pd.read_csv('DATA_01/DATA_01.csv')\n",
    "df = data_01.copy()"
   ]
  },
  {
   "cell_type": "code",
   "execution_count": 57,
   "metadata": {},
   "outputs": [
    {
     "data": {
      "text/plain": [
       "3379"
      ]
     },
     "execution_count": 57,
     "metadata": {},
     "output_type": "execute_result"
    }
   ],
   "source": [
    "# 전체 결측값 삭제\n",
    "df.isnull().sum().sum()"
   ]
  },
  {
   "cell_type": "code",
   "execution_count": 58,
   "metadata": {},
   "outputs": [],
   "source": [
    "df = df.dropna()"
   ]
  },
  {
   "cell_type": "code",
   "execution_count": 59,
   "metadata": {},
   "outputs": [
    {
     "data": {
      "text/plain": [
       "0"
      ]
     },
     "execution_count": 59,
     "metadata": {},
     "output_type": "execute_result"
    }
   ],
   "source": [
    "df.isnull().sum().sum()"
   ]
  },
  {
   "cell_type": "code",
   "execution_count": 60,
   "metadata": {},
   "outputs": [],
   "source": [
    "data_01 = pd.read_csv('DATA_01/DATA_01.csv')\n",
    "df1 = data_01.copy()"
   ]
  },
  {
   "cell_type": "code",
   "execution_count": 62,
   "metadata": {},
   "outputs": [
    {
     "data": {
      "text/plain": [
       "user_id               0\n",
       "region                0\n",
       "college               0\n",
       "major              1836\n",
       "social_position       0\n",
       "month              1543\n",
       "weekday               0\n",
       "hour                  0\n",
       "DB                    0\n",
       "dtype: int64"
      ]
     },
     "execution_count": 62,
     "metadata": {},
     "output_type": "execute_result"
    }
   ],
   "source": [
    "df1.isnull().sum()"
   ]
  },
  {
   "cell_type": "code",
   "execution_count": 63,
   "metadata": {},
   "outputs": [
    {
     "name": "stdout",
     "output_type": "stream",
     "text": [
      "<class 'pandas.core.frame.DataFrame'>\n",
      "RangeIndex: 117729 entries, 0 to 117728\n",
      "Data columns (total 9 columns):\n",
      " #   Column           Non-Null Count   Dtype  \n",
      "---  ------           --------------   -----  \n",
      " 0   user_id          117729 non-null  object \n",
      " 1   region           117729 non-null  object \n",
      " 2   college          117729 non-null  object \n",
      " 3   major            115893 non-null  object \n",
      " 4   social_position  117729 non-null  object \n",
      " 5   month            116186 non-null  float64\n",
      " 6   weekday          117729 non-null  int64  \n",
      " 7   hour             117729 non-null  int64  \n",
      " 8   DB               117729 non-null  object \n",
      "dtypes: float64(1), int64(2), object(6)\n",
      "memory usage: 8.1+ MB\n"
     ]
    }
   ],
   "source": [
    "df1.info()"
   ]
  },
  {
   "cell_type": "code",
   "execution_count": 64,
   "metadata": {},
   "outputs": [],
   "source": [
    "# 결측치가 있는 컬럼이 있으면 해당 컬럼과 함께 모두 삭제\n",
    "df1 = df1.dropna(axis=1) # axis가 0 (행), 1(열)"
   ]
  },
  {
   "cell_type": "code",
   "execution_count": 65,
   "metadata": {},
   "outputs": [
    {
     "name": "stdout",
     "output_type": "stream",
     "text": [
      "<class 'pandas.core.frame.DataFrame'>\n",
      "RangeIndex: 117729 entries, 0 to 117728\n",
      "Data columns (total 7 columns):\n",
      " #   Column           Non-Null Count   Dtype \n",
      "---  ------           --------------   ----- \n",
      " 0   user_id          117729 non-null  object\n",
      " 1   region           117729 non-null  object\n",
      " 2   college          117729 non-null  object\n",
      " 3   social_position  117729 non-null  object\n",
      " 4   weekday          117729 non-null  int64 \n",
      " 5   hour             117729 non-null  int64 \n",
      " 6   DB               117729 non-null  object\n",
      "dtypes: int64(2), object(5)\n",
      "memory usage: 6.3+ MB\n"
     ]
    }
   ],
   "source": [
    "df1.info()"
   ]
  },
  {
   "cell_type": "code",
   "execution_count": 66,
   "metadata": {},
   "outputs": [
    {
     "name": "stdout",
     "output_type": "stream",
     "text": [
      "<class 'pandas.core.frame.DataFrame'>\n",
      "RangeIndex: 117729 entries, 0 to 117728\n",
      "Data columns (total 9 columns):\n",
      " #   Column           Non-Null Count   Dtype  \n",
      "---  ------           --------------   -----  \n",
      " 0   user_id          117729 non-null  object \n",
      " 1   region           117729 non-null  object \n",
      " 2   college          117729 non-null  object \n",
      " 3   major            115893 non-null  object \n",
      " 4   social_position  117729 non-null  object \n",
      " 5   month            116186 non-null  float64\n",
      " 6   weekday          117729 non-null  int64  \n",
      " 7   hour             117729 non-null  int64  \n",
      " 8   DB               117729 non-null  object \n",
      "dtypes: float64(1), int64(2), object(6)\n",
      "memory usage: 8.1+ MB\n"
     ]
    }
   ],
   "source": [
    "# 결측치가 있는 행이 있으면 해당 행을 삭제\n",
    "df2 = data_01.copy()\n",
    "df2.info()"
   ]
  },
  {
   "cell_type": "code",
   "execution_count": 67,
   "metadata": {},
   "outputs": [
    {
     "data": {
      "text/plain": [
       "0"
      ]
     },
     "execution_count": 67,
     "metadata": {},
     "output_type": "execute_result"
    }
   ],
   "source": [
    "df2 = df2.dropna(axis=0)\n",
    "df2.isnull().sum().sum()"
   ]
  },
  {
   "cell_type": "code",
   "execution_count": 68,
   "metadata": {},
   "outputs": [
    {
     "name": "stdout",
     "output_type": "stream",
     "text": [
      "<class 'pandas.core.frame.DataFrame'>\n",
      "Int64Index: 114378 entries, 0 to 117728\n",
      "Data columns (total 9 columns):\n",
      " #   Column           Non-Null Count   Dtype  \n",
      "---  ------           --------------   -----  \n",
      " 0   user_id          114378 non-null  object \n",
      " 1   region           114378 non-null  object \n",
      " 2   college          114378 non-null  object \n",
      " 3   major            114378 non-null  object \n",
      " 4   social_position  114378 non-null  object \n",
      " 5   month            114378 non-null  float64\n",
      " 6   weekday          114378 non-null  int64  \n",
      " 7   hour             114378 non-null  int64  \n",
      " 8   DB               114378 non-null  object \n",
      "dtypes: float64(1), int64(2), object(6)\n",
      "memory usage: 8.7+ MB\n"
     ]
    }
   ],
   "source": [
    "df2.info()"
   ]
  },
  {
   "cell_type": "code",
   "execution_count": null,
   "metadata": {},
   "outputs": [],
   "source": []
  }
 ],
 "metadata": {
  "kernelspec": {
   "display_name": "Python 3",
   "language": "python",
   "name": "python3"
  },
  "language_info": {
   "codemirror_mode": {
    "name": "ipython",
    "version": 3
   },
   "file_extension": ".py",
   "mimetype": "text/x-python",
   "name": "python",
   "nbconvert_exporter": "python",
   "pygments_lexer": "ipython3",
   "version": "3.8.5"
  }
 },
 "nbformat": 4,
 "nbformat_minor": 2
}
