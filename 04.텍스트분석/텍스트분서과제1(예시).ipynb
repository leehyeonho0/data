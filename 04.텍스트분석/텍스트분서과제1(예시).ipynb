{
 "cells": [
  {
   "cell_type": "markdown",
   "metadata": {},
   "source": [
    "### 웹크롤링 과제\n",
    "- 자신이 좋아하는 신문사이트에서 오늘 메인 기사의 제목과 내용을 가져와서 엑셀에 담기"
   ]
  },
  {
   "cell_type": "code",
   "execution_count": 3,
   "metadata": {},
   "outputs": [],
   "source": [
    "import os, re, csv\n",
    "import requests # URL 주소에 있는 내용을 요청할 때 사용하는 모듈\n",
    "import urllib.request as ur  # 웹에서 얻은 데이터를 다루는 파이썬 패키지\n",
    "from bs4 import BeautifulSoup as bs"
   ]
  },
  {
   "cell_type": "code",
   "execution_count": 12,
   "metadata": {},
   "outputs": [],
   "source": [
    "article1 = 'https://news.jtbc.joins.com/'\n",
    "soup2 = bs(ur.urlopen(article1).read(), 'html.parser')"
   ]
  },
  {
   "cell_type": "markdown",
   "metadata": {},
   "source": [
    "#### jtbc 헤드라인 기사 추출"
   ]
  },
  {
   "cell_type": "code",
   "execution_count": 5,
   "metadata": {},
   "outputs": [],
   "source": [
    "jtbc_news = 'https://news.jtbc.joins.com/'\n",
    "jtbcSoup = bs(ur.urlopen(jtbc_news).read(), 'html.parser')"
   ]
  },
  {
   "cell_type": "code",
   "execution_count": 6,
   "metadata": {},
   "outputs": [
    {
     "name": "stdout",
     "output_type": "stream",
     "text": [
      "http://news.jtbc.joins.com/html/285/NB11992285.html\n",
      "http://news.jtbc.joins.com/html/359/NB11992359.html\n",
      "http://news.jtbc.joins.com/html/380/NB11992380.html\n",
      "http://news.jtbc.joins.com/html/250/NB11992250.html\n",
      "http://news.jtbc.joins.com/html/138/NB11992138.html\n",
      "http://news.jtbc.joins.com/html/329/NB11992329.html\n",
      "http://news.jtbc.joins.com/html/365/NB11992365.html\n",
      "http://news.jtbc.joins.com/html/241/NB11992241.html\n",
      "http://news.jtbc.joins.com/html/249/NB11992249.html\n"
     ]
    }
   ],
   "source": [
    "jtbc_headline = jtbcSoup.find_all('div', {\"class\" : \"feed_img\"})\n",
    "# 여러 링크를 사용해 모든 머리기사의 제목과 내용을 가져오기\n",
    "for i in jtbc_headline:\n",
    "    #print(i.text, '\\n')\n",
    "    print(i.find_all('a')[0].get('href'))"
   ]
  },
  {
   "cell_type": "code",
   "execution_count": 7,
   "metadata": {},
   "outputs": [],
   "source": [
    "import pandas as pd"
   ]
  },
  {
   "cell_type": "code",
   "execution_count": 8,
   "metadata": {},
   "outputs": [
    {
     "data": {
      "text/html": [
       "<div>\n",
       "<style scoped>\n",
       "    .dataframe tbody tr th:only-of-type {\n",
       "        vertical-align: middle;\n",
       "    }\n",
       "\n",
       "    .dataframe tbody tr th {\n",
       "        vertical-align: top;\n",
       "    }\n",
       "\n",
       "    .dataframe thead th {\n",
       "        text-align: right;\n",
       "    }\n",
       "</style>\n",
       "<table border=\"1\" class=\"dataframe\">\n",
       "  <thead>\n",
       "    <tr style=\"text-align: right;\">\n",
       "      <th></th>\n",
       "      <th>account</th>\n",
       "      <th>Jan</th>\n",
       "      <th>Feb</th>\n",
       "      <th>Mar</th>\n",
       "    </tr>\n",
       "  </thead>\n",
       "  <tbody>\n",
       "    <tr>\n",
       "      <th>0</th>\n",
       "      <td>Jones LLC</td>\n",
       "      <td>150</td>\n",
       "      <td>200</td>\n",
       "      <td>140</td>\n",
       "    </tr>\n",
       "    <tr>\n",
       "      <th>1</th>\n",
       "      <td>Alpha Co</td>\n",
       "      <td>200</td>\n",
       "      <td>210</td>\n",
       "      <td>215</td>\n",
       "    </tr>\n",
       "    <tr>\n",
       "      <th>2</th>\n",
       "      <td>Blue Inc</td>\n",
       "      <td>50</td>\n",
       "      <td>90</td>\n",
       "      <td>95</td>\n",
       "    </tr>\n",
       "  </tbody>\n",
       "</table>\n",
       "</div>"
      ],
      "text/plain": [
       "     account  Jan  Feb  Mar\n",
       "0  Jones LLC  150  200  140\n",
       "1   Alpha Co  200  210  215\n",
       "2   Blue Inc   50   90   95"
      ]
     },
     "execution_count": 8,
     "metadata": {},
     "output_type": "execute_result"
    }
   ],
   "source": [
    "# 리스트로 데이터 프레임 만들기 예제\n",
    "sales = {'account': ['Jones LLC', 'Alpha Co', 'Blue Inc'],\n",
    "         'Jan': [150, 200, 50],\n",
    "         'Feb': [200, 210, 90],\n",
    "         'Mar': [140, 215, 95]}\n",
    "df = pd.DataFrame.from_dict(sales)\n",
    "df"
   ]
  },
  {
   "cell_type": "code",
   "execution_count": 9,
   "metadata": {},
   "outputs": [],
   "source": [
    "title = []\n",
    "content = []\n",
    "for i in jtbc_headline:\n",
    "    title.append(i.text) # 기사제목을 저장한다.\n",
    "    #print(i.text, '\\n') \n",
    "    \n",
    "    #  해당 기사가 올라와 있는 웹 사이트를 열어 soup3 객체에 저장한다.    \n",
    "    jSoup3 = bs(ur.urlopen(i.find_all('a')[0].get('href')).read(), 'html.parser')  \n",
    "    #print(jSoup3)\n",
    "    \n",
    "    for j in jSoup3.find_all('div', {\"class\" : \"bd article04 article_m\"}): # <div> 태그에서 텍스트만 출력한다.\n",
    "        content.append(j.text) # 기사 내용을 저장한다.\n",
    "        #print(j.text)\n",
    "\n",
    "articles = {'기사제목' : title,\n",
    "            '기사내용' : content}    "
   ]
  },
  {
   "cell_type": "code",
   "execution_count": 10,
   "metadata": {},
   "outputs": [
    {
     "data": {
      "text/html": [
       "<div>\n",
       "<style scoped>\n",
       "    .dataframe tbody tr th:only-of-type {\n",
       "        vertical-align: middle;\n",
       "    }\n",
       "\n",
       "    .dataframe tbody tr th {\n",
       "        vertical-align: top;\n",
       "    }\n",
       "\n",
       "    .dataframe thead th {\n",
       "        text-align: right;\n",
       "    }\n",
       "</style>\n",
       "<table border=\"1\" class=\"dataframe\">\n",
       "  <thead>\n",
       "    <tr style=\"text-align: right;\">\n",
       "      <th></th>\n",
       "      <th>기사제목</th>\n",
       "      <th>기사내용</th>\n",
       "    </tr>\n",
       "  </thead>\n",
       "  <tbody>\n",
       "    <tr>\n",
       "      <th>0</th>\n",
       "      <td>오늘부터 수도권 영업 밤 10시까지…'직계 5인' 허용</td>\n",
       "      <td>\\n\\n[앵커]코로나19 3차 대유행으로 두 달 넘게 이어져 온 고강도 사회적 거리...</td>\n",
       "    </tr>\n",
       "    <tr>\n",
       "      <th>1</th>\n",
       "      <td>지진 공포에 떠는 일본…전문가 \"규모 9.0 지진 가능성도\"</td>\n",
       "      <td>\\n\\n지난 13일 밤 일본 후쿠시마현 앞바다에서 발생한 규모 7.3의 지진으로 인...</td>\n",
       "    </tr>\n",
       "    <tr>\n",
       "      <th>2</th>\n",
       "      <td>비정규직 '쿠팡친구'도 쿠팡 주식 받는다…\"1인당 200만원 상당\"</td>\n",
       "      <td>\\n\\r\\n                       미국 뉴욕증권거래소 상장을 앞둔...</td>\n",
       "    </tr>\n",
       "    <tr>\n",
       "      <th>3</th>\n",
       "      <td>정어리 폐사, 사하라 사막 폭설…온난화의 역습</td>\n",
       "      <td>\\n\\n[앵커]지난해 여름에는 미국에서 물고기가 떼죽음을 당했는데…이번에는 칠레에서...</td>\n",
       "    </tr>\n",
       "    <tr>\n",
       "      <th>4</th>\n",
       "      <td>'얼굴 멍' 생후 2주 아기 숨져…부모 \"분유 토해서 때려\"</td>\n",
       "      <td>\\n\\n[앵커]아동학대 사건이 또 확인됐습니다. 이번엔 생후 2주된 아기입니다. 전...</td>\n",
       "    </tr>\n",
       "  </tbody>\n",
       "</table>\n",
       "</div>"
      ],
      "text/plain": [
       "                                    기사제목  \\\n",
       "0         오늘부터 수도권 영업 밤 10시까지…'직계 5인' 허용   \n",
       "1      지진 공포에 떠는 일본…전문가 \"규모 9.0 지진 가능성도\"   \n",
       "2  비정규직 '쿠팡친구'도 쿠팡 주식 받는다…\"1인당 200만원 상당\"   \n",
       "3              정어리 폐사, 사하라 사막 폭설…온난화의 역습   \n",
       "4      '얼굴 멍' 생후 2주 아기 숨져…부모 \"분유 토해서 때려\"   \n",
       "\n",
       "                                                기사내용  \n",
       "0  \\n\\n[앵커]코로나19 3차 대유행으로 두 달 넘게 이어져 온 고강도 사회적 거리...  \n",
       "1  \\n\\n지난 13일 밤 일본 후쿠시마현 앞바다에서 발생한 규모 7.3의 지진으로 인...  \n",
       "2  \\n\\r\\n                       미국 뉴욕증권거래소 상장을 앞둔...  \n",
       "3  \\n\\n[앵커]지난해 여름에는 미국에서 물고기가 떼죽음을 당했는데…이번에는 칠레에서...  \n",
       "4  \\n\\n[앵커]아동학대 사건이 또 확인됐습니다. 이번엔 생후 2주된 아기입니다. 전...  "
      ]
     },
     "execution_count": 10,
     "metadata": {},
     "output_type": "execute_result"
    }
   ],
   "source": [
    "df_jtbc = pd.DataFrame.from_dict(articles)\n",
    "df_jtbc.head()"
   ]
  },
  {
   "cell_type": "code",
   "execution_count": 11,
   "metadata": {},
   "outputs": [],
   "source": [
    "df_jtbc.to_excel(\"jtbc_headline_news.xlsx\", index=False) "
   ]
  }
 ],
 "metadata": {
  "kernelspec": {
   "display_name": "Python 3",
   "language": "python",
   "name": "python3"
  },
  "language_info": {
   "codemirror_mode": {
    "name": "ipython",
    "version": 3
   },
   "file_extension": ".py",
   "mimetype": "text/x-python",
   "name": "python",
   "nbconvert_exporter": "python",
   "pygments_lexer": "ipython3",
   "version": "3.8.5"
  }
 },
 "nbformat": 4,
 "nbformat_minor": 4
}
