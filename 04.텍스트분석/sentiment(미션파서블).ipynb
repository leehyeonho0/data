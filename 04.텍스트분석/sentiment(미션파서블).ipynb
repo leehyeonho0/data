{
 "cells": [
  {
   "cell_type": "markdown",
   "metadata": {},
   "source": [
    "## 감정분석\n",
    "- 감정 또는 감성(sentiment)\n",
    "- 텍스트에 나타난 긍정/부정의 태도\n",
    "- 기계학습 방식과 사전 방식\n",
    "\n",
    "### 감정사전\n",
    "- 긍정 표현, 부정 표현의 사전\n",
    "- 해당 분야 전문가가 있으면 데이터 없이도 만들 수 있음\n",
    "- 기계학습으로도 개발 가능"
   ]
  },
  {
   "cell_type": "markdown",
   "metadata": {},
   "source": [
    "## 네이버 영화평\n",
    "\n",
    "- 네이버 영화에서 분석하고 싶은 영화 페이지로 들어감\n",
    "- 네티즌 별점 클릭\n",
    "- 페이지 번호 우클릭 후 주소 복사"
   ]
  },
  {
   "cell_type": "code",
   "execution_count": 1,
   "metadata": {},
   "outputs": [],
   "source": [
    "# https://movie.naver.com/movie/bi/mi/point.nhn?code=189124\n",
    "# ( https://movie.naver.com ) + ( 검사 -> iframe src 부분 복사) + ( &page={} )\n",
    "url = 'https://movie.naver.com/movie/bi/mi/pointWriteFormList.nhn?code=189124&amp;type=after&amp;isActualPointWriteExecute=false&amp;isMileageSubscriptionAlready=false&amp;isMileageSubscriptionReject=false&page={}'"
   ]
  },
  {
   "cell_type": "markdown",
   "metadata": {},
   "source": [
    "리뷰 수집"
   ]
  },
  {
   "cell_type": "code",
   "execution_count": 2,
   "metadata": {},
   "outputs": [
    {
     "name": "stdout",
     "output_type": "stream",
     "text": [
      "  도대체 어디가 웃긴 건지 \n",
      "  요즘 같은 때 생각없이 보기 너무 좋은 영화네요 기분 좋아지네요 역시 영화는 극장에서 \n",
      "  즐겁게 볼 수 있는 영화 김영광 이선빈 둘 케미가 넘 유쾌하고 좋아여 \n",
      "  미친 둘이 왤케 웃김 로맨스 1도 없어서 걍 개웃기고 좋았음 이선빈 넘 좋앜 \n",
      "  오랜만에 극장에서 웃으면서 영화를 관람함 두 배우 코믹 케미도 좋고 억지스러운 로맨스 연결도 없이 오직 목표를 향해 달려가는 부분이 맘에 듬 코믹과 액션이 잘 배치했고 무엇보다 두 배우들의 케미가 굳 \n",
      "  김영광 액션신이 매우매우 멋지고 웃음 포인트가 많아요 꼭 보세요 두번보세요 세번보세요 \n",
      "  무슨 영화가 개연성도 하나도 없고 별로 웃기지도 않고 돈아까웠음 \n",
      "  아무생각없이 왔다가 웃으며 즐겁게 돌아갑니다 \n",
      "  감동도 없고 스토리도 없고 인생영화에요 제 인생에서 제일 재미없는 영화요 \n",
      "  오랜만에 영화보고 제대로 웃은거같아요 둘 케미가 너무 좋았구 갑자기 본거라 김영광 이선빈빼구 누구 나오는지도 몰랐는데 사람보는 재미도 있었던거같아요 \n",
      "  오랜만에 보는영화였는데 너무 재밌게 잘봤어요 액션신에서 감탄만 했습니다 김영광한테 빠질거 같네요 \n",
      "  처음으로 영화보다 나왔음예상되는스토리 뻔한개그 \n",
      "  웃기고 재밌음 시간가는줄 모름 \n",
      "  처음에는 유치한데 뭔가 계속 끌려요 중간중간 웃긴장면도 있어서 좋았어요 \n",
      "  기대없이 봤는데 재밌었어요 주인공 케미가 잘맞고 웃겨요코믹이랑 액션이 적절히 섞이고 시리즈 나와도 좋을듯 \n",
      "  두 배우 케미가 너무 좋다 코믹액션도 좋고 간만에 기분좋게 즐기며 본 영화 킬링타임용으로 딱이다 \n",
      "  별 기대없이 봤는데 시간 가는줄 모르고 히죽거리다가 나왔네요요즘 딱 보기 좋은영화임다 \n",
      "  액션이 생각보다 너무 좋아서 놀랐어요 코미디도 타율이 좋내요 보면서 계속 웃었어요 \n",
      "  재밌어요 남녀나오는데 멜로1도없는 \n",
      "  김영광 액션씬 겁나 멋있고 서현철 배우님 겁나 웃김 \n",
      "  음 그냥 아무생각없이 봤는데 웃음퍼인트있습니다 \n",
      "  레드벨벳 덕후로 나오는 김영광 줄리엔 강 마지막 장면 너무 웃겼어요 \n",
      "  김영광 재밌는데 싸울때 정말 멋있었음 \n",
      "  남자친구랑 기대 없이 영화를 봤는데 너무 재밌게 봤어요 \n",
      "  재밌어요 데이트하면서 보세요 \n",
      " 배우들 케미 좋고 요즘 머리 아픈 일이 많았는데 영화 보는 동안 내 머리속을 비워준 영화 \n",
      "  오랜만에 극장 찾았는데 넘 재밌게 웃었네요배우들 케미도 좋고 간만에 웃었습니다 \n",
      "  즐겁게보기에 좋았어요 추천 \n",
      "  김영광배우가 코미디를 너무 천연덕스럽게 잘하네요 \n",
      "  재밌게 잘봤어요 액션씬도 너무 멋있었어요 \n",
      "  오랜만에 극장와서 아무생각없이 실컷웃고가네 김영광은 사랑입니다 힐링이에요 \n",
      "  재미없어요 진짜 개노잼 중간에 나옴 \n",
      "  주인공들 피지컬이 좋아서 액션씬에 잘 어울림 특히 김영광 액션씬들 다 좋았어요 \n",
      "  김영광 왜 이렇게 액션 잘하나요 케미도 좋고 재밌어요 간만에 많이 웃었음 \n",
      "  재밌게 봤음 킬링타임용 코미디로 훌륭 \n",
      "  힐링타임으로 소소하게 웃으면서 보기 좋아요 오랜만이 웃고 재밋게 잘봤어요스토리는 조금 뻔해도 가볍게 볼만해요 \n",
      "  김영광 배우를 다시 보게 됐어요 간만에 극장에서 신나는 시간 보냈어요 \n",
      "  오랜만에 재미있게 보았습닏8 \n",
      "  미션파서블 재미있어요 \n",
      "  팝콘무비 최적화된 영화에요 아무생각없이 즐기기 좋고 요즘같은 우울한 시기에 딱인 영화 극장에 사람도 없어 쾌적하고 친구랑 둘이가서 간만에 웃다 왔어요 친구는 실실거리면서 봄 \n",
      "  코로나로 인해 힘든 시기에 미션파서블 보고 한바탕 웃고가세요 \n",
      "  복잡한 생각안하고 가볍게 보기 좋음 현실 넘 팍팍한데 유쾌하게 보면서 잊었담 배우들 케미도 좋아서 기분좋아짐 \n",
      "  볼만했음 한번정돈 봐주세요 \n",
      "  오랜만에 극장에서 영화 봤는데 재미있게 봤어요 귀엽기까지 \n",
      " 킬링타임으로 아주 좋은 영화웃긴 부분이 식상한듯 하지만 나도 모르게 빵 터짐김영광 이선빈님의 액션이 정말 좋았음너무 잔인하지도 않고 시원시원했음 \n",
      " 초반엔 능글맞고 둘이 티격태격하는 재미가 있고 후반엔 생각보다 훨씬 고퀄 액션에 놀랐음 진짜 코믹액션 영화로 보기 딱 좋음 6 \n",
      "  스토리도 지루하지않고 액션과 코믹을 적절히 잘섞어서 기대안하고 봤는데 재밌게 보고갑니다 \n",
      "  웃음포인트가 몇번 예상됐었지만 예상 못 했던 부분도 있어서 너무 재밌게 봤네요 연기와 케미도 찰떡이였어요 \n",
      "  액션 너무멋있었어요 재미있게 잘봤습니다 \n",
      "  재밌었어요 \n",
      "  내용을 아예 모르고 봤는데 재밌게 봤어용 오랜만에 재밌는 영화 본거 같아서 기분좋아요 \n",
      "  오랜만에 영화관에서 영화밧는데 너무 재밋게 밧네요 김영광님 액션도 화려하고 너무 웃겻어요 보는내내 웃음이 끊기질 않앗어요 \n",
      "  생각보다 엄청 재밌어요 \n",
      "  코믹하지만 제대로 액션에 초점을 둔 영화 두 주인공들이 멋진척 예쁜척 내려놓고 진심으로 연기하는거 같아서 더 잘 봄 김영광씨는 순도 100프로 액션 한번 도전해 보셔도 좋을거 같네요 이선빈씨는 이번에 제대로 연기를 \n",
      "  시간 가는줄 모르고 봐써용 잼써요 \n",
      "  기대없이 볼만한 영화 이시국에 오랜만에 영화관 가서 실없이 웃다가 옴 \n",
      "  재미있게 봤어요 스트레스 확 \n",
      "  완전 재미있게 봤어요 진짜 웃김 \n",
      " 재밌네요 볼만합니다아 \n",
      "  보기를 잘한듯 재밌게 봤어요^^ \n",
      "  개웃겨서 나오자마자 후기 남김 진짜 빵빵터지고 둘 케미 장난 없음 우리관 사람들 리액션도 좋아서 더 즐겁게 봄 \n",
      "  진짜 오랜만에 영화보면서 배잡고 웃었어요 코믹 원하시는 분들께 추천드려요 \n",
      "  나름 재미있게 보았습니다 \n",
      "  진짜 영화 보는 내내 이렇게 웃었던 적은 되게 오랜만이였던거 같아요 이시국이라 영화관은 잘 안가려고 하는데 이건 진짜 믿고 봐도 되는 영화 오랜만에 재밌는 영화 한 편 찾은 거 같아요 \n",
      "  \n",
      " 그저 그런 평범한 k식 오락무비가 아닐까 싶었는데 좋은 각본과 액션과 유머 사이의 조율이 의외로 탄탄하게 짜여져서 놀랬음 액션씬들도 고퀄임 \n",
      " 시간가는줄 모르고 웃고 즐기는 코믹 액션 \n",
      "  웃으며 시간을 보네기는 좋아요영화 잘봤어요 \n",
      "  너무 재밋어요 정말 굿이네요 \n",
      "  \n",
      "  재밌어요 김영광 이선빈 케미 대박 꼭 보러가세요 ^^ \n",
      "  오랜만에 극장에서 즐겁게 웃으며 봤네요 킬링타임용으로 딱 \n",
      "  코로나때문에 정말 오랫만에 봤는데 즐겁게 볼수있었습니다 \n",
      "  가볍게 보기 넘좋음 \n",
      "  재밌게 봤어요 ^^ \n",
      "  재밌게봤어요 \n",
      "  아주 재미있고 또 보고싶습니다 \n",
      "  재밌었어요 기대이상 \n",
      "  김영광 이선빈 너무 잘 맞아서 재밌고 액션과 코믹을 좋아하시면 보세요 2시간 금방 지나갔네요 \n",
      " 코믹액션 둘다 잘담은거같고 재밌다 알바아님 \n",
      "  오랜만에 극장에서 깔깔대며 봤네요 액션도 너무 멋있고 두 배우 케미도 좋아서 재밌게 봤습니다 \n",
      " 시사회에서 봤음다 취향을 좀 타겠지만 무자게 웃김니다 \n",
      "  정말 웃기고 재밌어요 \n",
      "  연기가 재밌고 줄리엔강이 너무웃겨요 \n",
      "  일부러 예고도 안보고 갔음 액션도 좋고 코믹연기 굿정말 재밌었음 \n",
      "  \n",
      "  재미지네요 케미가 좋네용 \n",
      "  생각보다 재밋고 생각보다 퀄리티 있는 액션이라 재밋게 봤습니다 \n",
      "  케미긴 아주좋네요 최고 \n",
      "  웃겨욬 생각보다 꿀잼 간만에쟈밌는영화 \n",
      "  액션도 좋았고 재밌었습니당 \n",
      "  이선빈 매우 이쁜거 같다 \n",
      "  최근에 본 영화 중에서 제일 재밌었어요 \n",
      "  가볍게 킬링타임으로 좋습니다 피곤했는데 기분좋게 나왔습니다 \n",
      "  김영광 잘생겼다 연기 좋았어요이선빈 존예 캐미 좋았어요 \n",
      "  오랜만에 재미있는 영화 봤어요 추천 \n",
      "  걍 진짜 보셈 솔직히 기대 안 했는데 진짜 재밋음 김영광 멋있어요 \n",
      "  멋지고 귀여운 배우들 \n",
      "  개꿀잼존잘 존예 액션 코믹 미션파서블 \n",
      "  김영광 이선빈 케미 대박 액션도 시원시원 간만에 웃었습니다 \n",
      "  볼만해요 코로나때문에 오랫만에봐서 그런지몰라도 영화봐서 좋았어요 \n",
      "  간만에 재미있는 한국영화 봤네요 코믹과 액션이 잘 조합 됐네요 시간 가는줄 모르고 봤네요 \n",
      "  주인공들이 매력터짐 액션도 좋고 웃김 \n",
      "  코로나 터진후에 처음 영화봤어요오랜만에 너무 재밌게 봤네요영광님 능글맞음 너무 귀엽고 액션도 너무 좋았어요 \n",
      "  너무 재밌어요 진짜 보는 내내 웃고 집중하고 재밌었네요 \n",
      "  김영광 잘하네 진짜로 기대이상 액션 \n",
      "  처음부터 끝까지 코믹 재밌어요 \n",
      "  \n",
      "  혼자 낄낄대며 재밌게 봤어요 \n",
      " 영화관 티켓값이 좀 아까웠음 \n",
      " 두 주연배우의 환상의 호흡 멋진 액션과 주조연을 가리지 않은 모든 배우들의 연기와 액션이 기대 이상의 재미를 준 영화 \n",
      "  딸램이랑 방학이라 데이트했어요 재밌게 한시간반 웃고나왔네요 남주 넘나멋지고 여주도 예쁘고 멋있어요 \n",
      "  액션씬빼고는 볼게 없어요 웃음포인트도 잘 모르겠고 스토리가 뻔하고 그냥 그랬어요 배우들 연기는 갠찮았습니다 \n",
      "  오랜만에 영화관 가서 본 영화인데 김영광 액션 대박임 두 배우의 케미 완전 좋아요 유쾌하게 봤음 \n",
      " 처음에 쭝궈들이 나오고 계속 쭝궈로 쏼라쏼라 하고 뭐가 막 날아가고 만화같고 너무 유치해 보여서 나갈까도 하다가 조금만 더 참고 쭉 보니까 주인공들의 연기력과 개그 코드들이 약간 아재스럽긴 해도 가볍게 볼 수 있는 \n",
      "  \n",
      "  \n",
      "  재밋게 잘 봤습니다 여자친구가 좋아하네요 \n",
      "  잘보고 잘 웃다가 왔습니다 보는 내내 즐거웠어요 \n",
      "  아무생각없이 재미있게 볼 수 있는 영화 \n",
      "  정말 정말 재밌었다 \n",
      "  킬링타임용 나쁘지않음 재미있음 \n",
      "  간만에 생각없이 웃긴 영화 \n",
      "  김영광 존잘임 진짜귀여웠다가 멋있다가 혼자 다함 보는 내내 웃겨서 재미있었음2시간이 금방감 \n",
      "  오랜만에 영화본건데 너무 재밌어요 \n",
      "  스포일러가 포함된 감상평입니다 감상평 보기 처음에 기대 안하고 봤지만 김영광의 과거 이선빈과의 케미를 보면서 액션신에서 살짝 긴장을 하고 봤습니다 스토리가 이어지긴하는데 뭔가 짧고 애매하다거 해야하나 \n",
      "  스포일러가 포함된 감상평입니다 감상평 보기 역시 기대 한것 만큼 재미 있었어요 강추예요^^ \n",
      "  킬링타임용으로 딱 입니다 굿굿굿 \n",
      "  좀 밋밋합니다 구체적인 담화가 부족합니다 \n",
      "  아무 생각 없이 그냥 보기 좋은 영화 ^^ \n",
      "  알바 풀었나 너무 재미없었어요 김영광 팬인데 왜이런 영활 찍었지 \n",
      "  빠른 전개 억지스럽지 않음 \n",
      "  액션도 볼만했고 가볍게 보기 좋습니다 웃겨요 \n",
      "  스토리도 괜찮았고 김영광씨와 다른 출연진의 코믹 액션 연기도 재밌었어요 특히 큰딸이 재밌다고 하니 더 좋았어요 \n",
      "  연기도 잘하시고 재밌게 잘 봤습니다 \n",
      "  스포일러가 포함된 감상평입니다 감상평 보기 재미잇게봣어요액션도짱 \n",
      "  정말 한번쯤은 재밋게 볼만한 영화 \n",
      "  꿀잼 이렇게 재밌을거라고는 생각 안했는데진짜 재밌어여 \n",
      " 재미있어요 혼자 킥킥 웃고 왔습니다 \n",
      "  이선빈때문에봤는데뜻밖에득템 한기분 중간중간피식하게웃게하는요소들이많아시간가는지모르고봤네요 \n",
      "  기대 안 하고 봤는데 생각보다 재밌었음 개인적으론 액션보다는 코미디가 더 재밌었던 영화오랜만에 극장에서 본 영화인데 만족 스트레스 확 풀려서 킬링타임으로 좋을듯 이런 코미디 영화 계속 나오길 \n",
      "  스포일러가 포함된 감상평입니다 감상평 보기 진부한 러브스토리 같은거 안 나와서 좋았어요 김영광 이야기를 좀 더 풀어줬으면 좋았을 것 같다는 생각이 들어룡 그래도 이선빈이라는 배우를 다시 볼 수 있었던 기회가 된 것 같네요 \n",
      " 평점이 안 좋다고 해서 기대 안 하고 봤어요 요즘에 하도 댓글 알바가 많길래 그냥 내가 보고 판단해야지 했는데 초반에는 중국어 연기가 어색해서 음 뭐지 했는데 김영광씨랑 이성빈씨 호흡도 너무 잘 맞고 되게 재 \n",
      "  9점평점은 오바지싶습니다 생각없이 웃으면서 보기좋다해서봣는데 너무 유치한건 어쩔수없네요 김영광님의 익살능청연기는 새로웠습니다이선빈님과의 캐미도괜찮았지만전체적인 유치한스토리와 영화흐름은 어쩔수없습니다6 5정도평점 생각 \n",
      "  너무남자주인공 여자주인공 연기도 잘하고 웃김 간만에 스트레스 해소되었다 그리고 남자의 꼿꼿한 성격이 최고임 \n",
      "  웃기고 재미있었어요영화에 심오한걸 기대하지 않으신다면 재미있으실거에요특히 경찰 조연으로 나온 배우 너무 재미있고 멋있었어요 \n",
      "  둘 케미가 봐줄만함 재밌음 \n",
      "  생각없이 보기 좋네요 재밌게 보고 왔어요 \n",
      "  재밌게 잘 봤어여 김영광 연기잘하네여 \n",
      "  아무생각없이 보기 딱조음 재밋엇음 \n",
      "  오랜만에 영화본거라 기대안하고 본건데 시간가는줄 모르고 봤네옄 \n",
      "  \n",
      "  재밌게 잘봤습니다 \n",
      "  재밌었어요 흥미진진합니다 \n",
      "  중간중간 웃긴부분 많았네요 \n",
      "  오랜만에 즐겁게 봤습니다 \n",
      "  재밌어요 돈 안아까워요 \n",
      "  요즘봤던 영화중에서 제일 웃겼고 너무 재미있었다 \n",
      "  재미있었고 중간중간 웃음포인트가 즈 겁네요 \n",
      "  간만에 재밌는 영화 봤네요 \n",
      "  스포일러가 포함된 감상평입니다 감상평 보기 멎있고 재미있었어요 \n",
      "  재밋게 잘봣습니다 ^^ \n",
      "  김영광 이선빈 케미좋구요 액션씬도좋고 유쾌해요 \n",
      " 코믹액션 둘다 잘담은거같고 재밌다 알바아님 \n",
      " 진짜 재밌어요 꼭 보세요 \n",
      "  보는내내 웃으면서 볼수있었던 영화였습니다 \n",
      " 액션신이 재미있고 코믹함도 적당히 있어서킬링타임으로 볼만한 영화였습니다 \n",
      " 배우들 캐미도 좋고 액션신도 스릴 넘치고 중간에 피식하는 장면들도 여러개있어요 네 무엇보다 눈이 정화됩니다 시즌2도 부탁드려요 \n",
      "  김영광과 이선빈의코믹액션 연기가괜찮음 \n",
      " 억지 감동 억지 신파 없고 아무생각 없이 낄낄거리며 봤습니다 킬링타임용으로 강추 \n",
      " 진짜 웃김 꼭 보세요 완전 강추 안 본 사람들이 보지도 않고 평점 쓰던데 진짜 보고 후회 안 함 \n",
      " 기대없이 내려놓고 보다보면 피식피식함 후반부 액션이 좋음 \n",
      " 액션코미디지만 액션에 더 가까운 영화 코미디도 섞여있어 액션과의 조화가 어우러짐 짜임새 있는 스토리 \n",
      "  액션 스토리 전부 너무 좋았습니다 지루하지도않고 집중해서 봤네요 너무 재밌습니다 \n",
      " 재밋엇어요 액션 코믹 다 재밋어요 \n",
      "  볼게 없어서 봤지만 역시 예상했던데로 기대없이 봐서 \n",
      " 백퍼 2 나온다 코로나 아니였으면 300만이상 \n",
      "  아무생각없이 재미로 보면 좋은영화 \n",
      "  재밌어요 김영광 잘 봤숩니다 \n",
      "  둘이 캐미도 좋고 액션코미디라 취향저격이였어용 그리고 여친이랑 봐서 더 좋았어용 \n",
      "  기대이상으로 재밌네요 \n",
      "  한바탕 웃고 가네요시국에 잼있는 일도 없는데 \n",
      "  김영광멋있음 재밋어여 캐 \n",
      "  가볍게 보기 좋은 영화인거 같아용 굿 \n",
      "  소소하게 재밌게 볼수있는 영화에요 ^^ \n",
      "  김영광 잘생김 꼭 보세요 재밌어요 \n",
      "  김영광 진짜 잘생기고 이서빈 진짜 이쁘고 둘이 너무 재미있고 내용도 재미있어요 꼭 보세요 \n",
      "  재밌긴하네요 연기는 좋았어요 \n",
      " 가볍게 보기 괜찮네요 솔직히 액션은 기대 별로 안했는데 생각보다 액션 장면이 쫄깃해서 보는 맛이 있었어요 개취지만 김영광 능청연기 넘 좋아요 \n",
      "  진짜 정말로재미없습니다 \n",
      "  재밌어용 웃다가 끝남 \n",
      "  완전재미있음 기대이상 \n",
      "  이거 진짜 재밌음 영화관에서 보는사람들 다 웃음 \n",
      "  걍 아무생각없이 봐야뎀 억지웃음은 있음 \n",
      " 좋아하는 배우들이라 꼭보고싶었는데 초반에는 정말 웃기고 막바지부분에는 생각보다 깅렬한 액션연기에 놀랐습니다 오랜맘에 너무 재밌는 영화였어요 \n",
      " 잔펀치 웃음과 큰펀치 액션으로 오락영화로 즐겁게 벌 수 있다 \n",
      " 개노잼 알바 개많네 진짜 \n",
      " 재미있다고 하는 사람들 믿을 수 없어요 각본이 이상한 건지 연기도 발연기처럼 느껴지는 그런 영화입니다 보다가 중간에 나온 거 유열의 음악앨범 이후로 처음이에요 진짜 헛웃음도 안나와요 제발 믿어주시고 \n",
      " 네이버 평점 믿었다 9점이라서 알바들인가 완전 재미없다 연출 내용 연기 다 노답 \n",
      " 이런 거 처음 써 보는데 여러분은 시간 버리지 말라고 씁니다 내가 본 영화 중 최악의 영화임 웃길려고 애쓰는데 진짜 하나도 안웃겨 개연성이라곤 눈 씻고도 찾아볼 수 없었다 재밌다는 사람은 다 뭐지 \n",
      " OO \n",
      " 빠바빨간맛 궁금해 허니 \n",
      "  김영광이 능글맞구 재밌네요 \n",
      "  너무 재밌었어요 웃긴 장면이 많아서 \n",
      " 알바에 속았다참다참다 결국 졸고나옴 \n",
      " 이거 보고 10점 주는 사람들 진짜 영화 본 사람인가 궁금함 영화관에서 한명도 안 웃는 영화는 처음 봄 심지어 요즘 영화관에 사람도 없는데 커플은 중간에 나가더구만 오히려 메이킹필름이 더 재밌음 보면 볼수 \n",
      " 아직도이런영화가있다니 \n",
      " 배우들 연기도 좋고 킬링타임용으로 부담없이 보기 딱이네요 \n",
      "  너무뻔해서 그냥그렇네요 \n",
      "  기대없이 아주 잼나게 봤어요 추천해요 \n",
      "  배우님들 캐미가 좋고 재미있게 봤어요 \n",
      "  어이없게 엄청 웃겨요 재밌었어요 \n",
      "  \n",
      "  액션도 멋있고 웃긴장면 빵빵터졌네요 재밌게 잘봤습니다 \n",
      "  개꿀잼 감영광 이선빈 둘다 흥해라 \n",
      "  김영광님의 액션 최공 \n",
      "  \n",
      "  \n",
      "  액션신 이선빈 좋예 ^^ \n",
      " 진짜 해도해도너무 너무한다 \n",
      " 내용은 모르겠고 김영광 얼굴에 홀려서 시간가는줄 모르고 봤음 \n",
      "  스포일러가 포함된 감상평입니다 감상평 보기 배우이광수씨 연인 배우이선빈배우님 영화오케이마담도잘봣습니다 코로나19조심하시구요 런닝맨이광수씨도응원하겠습니다 \n",
      "  액션최고 코믹최고 \n",
      "  너무 재밌게 시간가는줄 모르고 봤어요 김영광 이선빈 배우 케미가 잘어울리네요 막판 홍석천이 나와서 좀 안어울리긴함 \n",
      "  살짝 유치하긴한데 오랜만에 재밌게 봤어요 스토리 전개가 색다르고 좋네요 잘봤습니다 \n",
      "  생각보다 재밌어서 놀랬음 \n",
      "  스토리 괜찮았고두분 연기가 너무좋았어요 \n",
      " 넷플릭스에서라도 보지 않고 싶다 저예산 쓰레기 망작 내돈 만3천에 천불이 난다 \n",
      "  오랜만에 영화봤는데 후회 안 한 영화 즐기면서 봤음 \n",
      "  \n",
      "  영광오빠 너무 잘생겼고선빈언니 너무 예쁘고얼굴이 꿀잼 \n",
      " 요즘 한국영화 볼만한게 없었는데 모처럼 재밌는 영화 한편 보고왔네요 신인인듯한 배우들의 티격태격하는 연기들이 잘 어울려줘서 예전 투캅스때 웃으며 봤던 추억도 들었습니다 우연찮게 보게됐지만 즐겁게 잘 보고 모처럼 힐링 \n",
      " 액션물을 좋아하는 편이 아니지만 재미있게 볼 수 있었던 영화 \n",
      "  김영광이 그나마 살렸다 오대환의 연기력이 이영화에 아깝다 두명빼고 다조금씩 아쉬운 연기력임그냥 뻘하게 웃긴영화 생각없이볼 영화찾는다면 집에서 보세요 \n",
      " 재미없는줄알앗는데 생각보다 액션도멋있고 코믹도 살짝있는것같음내스타일 강추 \n",
      "  21년도 영화라는게 안믿길정도너무 재미없다 액션은 괜찮음 \n",
      "  이프로 사서 들어갔는데 한 모금 마심 계속 웃어서 뿜을까봐 \n",
      "  김영광 액션 무엇 다음에 찐액션영화 찍을 듯 \n",
      " 여친 또는 썸이랑 보지마세요 오늘 길에 차에서 영광영광 노래를 부르는데 교회다니는줄알어요 남자가 봐도 잘생겨서 뭐라할말은 없지만 영화는 재미있고 웃겨요 \n",
      " 기대안하고 봤는데 재밌게 봤어요 \n",
      " 그냥 묻지도 따지지도 말고 내가 쫌 힐링받고 웃고싶다하면 강추요 \n"
     ]
    },
    {
     "name": "stdout",
     "output_type": "stream",
     "text": [
      " 정말 오랜만에 크게 웃었어요 극장에서 이렇게 크게 웃은적이 없는데 별 기대안하고 봤는데 느무 재밌었어요 요즘시국에 유쾌하게 웃을 수 있는 영화입니다 그와중에 김영광 액션은 왜이렇게 멋진겨 \n",
      " 김영광님이 진짜 연기를 잘하셨어요 감독님의 능력으로 영화의 질이 좀 떨어진다고 생각해요 \n",
      "  b급 코미디의 정석입니다 \n",
      "  스포일러가 포함된 감상평입니다 감상평 보기 볼만해요 추천합니다 \n",
      " 초반 30분 1시간은 극장을 나가고 싶었음1 두 주연배우가 계속 떽떽거리며 재미도 없는 티격태격으로 웃음을 자아내려 했으나 유치함의 향연 2 긴장감이 넘쳐야 할 상황에 갑분 억지유머 끼워넣어서 갸우뚱 웃기도 \n",
      " 일단 로맨스 없어서 볼만했고 초반 중간 부분에 재미 있는 부분들이 많았음 그리고 후반갈수록 김영광이 진지해지고 액션에 집중하니까 완전 액션영화 그 자체임 김영광 사랑해 \n",
      " 김영광 배우님 귀엽네요 중간중간 코믹하니 재밌게 봤습니다 \n",
      " 시간 가는줄 모르고 보게됨 김영광 넘넘 귀엽고 연기 잘하네요 관심없다가 새로운 모습 발견 잼 있어요 \n",
      "  스포일러가 포함된 감상평입니다 감상평 보기 존잼이였어여 김영광 존잘 시부레총격전과 칼전 킬포에여 \n",
      " 평점 머선129 알바 쓰신건가여 남편이랑 낚여서 보고 왔어요 ^^하 \n",
      " 재밌다고 얘기한 사람 나오세요 재미 진짜 없고 처음으로 시간 가는줄 알고 본 영화였네요 가족들이랑 보러 갔는데 영화 평점 믿고 제가 보자고 했는데 노잼이라 민망했어요 좋아하는 배우들인데 뭐 이런식으로 됐는지 \n",
      " 존망영화특 배우가 이쁘다고 커버침 \n",
      " 알맹이없는 이런영화좀 그만나와라 제발 돈아깝다 \n",
      " 꾸역꾸역 참고 봄 진짜 너무하네 \n",
      "  짱잼 핵잼 어뜨케 이렇게 재밌담 \n",
      " 우연히 극장갔다가 이영회가 시간이 맞길레 혹시나 하고 평점이랑 관람평보니 나쁘다는게 거의없어 부담없이 들어갔는데 내인생 최악에 영화를 볼줄이야 어떻게 코믹을 저렇게 못만들까 싶네요 웃기려는건 알겠는데 도저히 웃기지 \n",
      " 재밌고 웃기고 화려하고 3개를 다 갖췄습니다 \n",
      "  모르겠어요 도대체 무슨 \n",
      " 역대급 유치뽕짝 쓰레기 영화평점에 낚임 차에 치일때 날아가는 연출은 도대체 모냐고 그 이후로 자서 기억이 없다 다행히 \n",
      " 보지마세요 진짜 한국영화퇴보의길 \n",
      " 킬링타임영화로는 10점임 \n",
      " 가벼운 마음으로 보면 웃음 포인트도 많고 액션 또한 부족하지 않은 좋은영화였던것 같아요 \n",
      "  3월에 IPTV로 보는것을 추천 \n",
      " 알바 댓글이 하도 많아서 못믿겠다 영화보는거 좋아하는 사람으로써 직접 보고 판단하겠음 \n",
      " 막 웃기려고 하는건 많아보였는데 그렇게 웃긴건 몇개 없었고 너무 웃기려고 하는게 너무 티나서 아쉬웠었음 내용이 가벼워서 재미로 보려는 분들께 추천 또 진지한장면이 여러번 있었으면 좋았을텐데 딱 한장면 운전 장면 \n",
      " 그냥 무난하게 볼만함 의외로 빠른전개 액션까지 나쁘지 않았음 평타는 되니까 보셔도 됩니다 \n",
      "  한국판 시티헌터 그나마 가끔 웃었다 크레딧이 제일 웃긴건 안비밀 \n",
      "  알고보니 이렇다더라식의 전개가 살짝 아쉬움 \n",
      "  \n",
      " 스포일러가 포함된 감상평입니다 감상평 보기 식탁보부터 재밌어요 \n",
      " 스포일러가 포함된 감상평입니다 감상평 보기 깜짝 깜짝 놀라고 남자주인공이 장난끼있으면서 싸울땐 멋있고 여자 배우자 도 대단한 듯 남자랑 싸워서 이기다시 그것도 빨간 치마입고 영화니까 가능한거 겠죠 \n",
      " g od good good \n",
      " 감동은 없지만 웃기고 재밌습니다 \n",
      " 개꿀잼 빵빵터짐 되게 재밌어요 꼭 보세요 \n",
      " 개꿀잼 빵빵터짐 되게 재밌어요 꼭 보세요 \n",
      " 솔까 아무기대없이봤다가 이백퍼센트만족한영화 넘 재밌게봤어용 김영광 너무귀여워 \n",
      " 정말 가볍게 재밌게 즐기고 올 수 있는 영화 \n",
      " 너무 재미써용 너무너무 재미써용 \n",
      " 시티헌터의 우수한과 사우리 생각나시는분 재밌게 봤습니다 ^^ \n",
      " 평점 내리는 알바입네다 저는 \n",
      "  주연 두분의 케미가 돋보이는 영화입니다 \n",
      "  예고편도 안보고갔지만 생각보다 재미있었습니다 \n",
      "  기대를 아예 안하고 봐서 그런가 괜찮았음 중간에 웃기는 장면들도 있고 쏠쏠하게 재밌게 봤음 \n",
      "  킬링타임 용으로는 괜찮아요 기대 전혀 없이 보면 괜찮습니다 약간 억지로 웃기는 느낌이 있기는 하지만 괜찮았어요마지막에 쿠키영상이 제일 웃겼어료오 \n",
      "  \n",
      "  재미있게 가볍게 보기 딱 좋은 영화 \n",
      "  생각없이 보면 재미있는 영화인것 같습니다요새같이 볼거 없는 영화 시즌에 보기에 딱 알맞은영화인것 같아요 \n",
      "  \n",
      "  \n"
     ]
    }
   ],
   "source": [
    "import requests\n",
    "import lxml.html\n",
    "import re # 정규표현식을 쓰겠다\n",
    "\n",
    "# 리뷰와 별점을 모을 빈 리스트를 만든다\n",
    "reviews = []\n",
    "scores = []\n",
    "\n",
    "for page in range(1, 30):  # 1~29페이지까지 반복\n",
    "    res = requests.get(url.format(page))  # 각 페이지에 접속한다\n",
    "    root = lxml.html.fromstring(res.text)  # html을 처리한다\n",
    "\n",
    "    # 리뷰를 가져와 reviews에 추가한다\n",
    "    for review in root.cssselect('.score_reple p'):\n",
    "        # 한글, 알파벳, 숫자를 제외한 문자를 제거\n",
    "        review_trans1 = re.sub(r'[^가-힣A-z0-9]+', ' ', review.text_content())\n",
    "        review_trans2 = review_trans1.replace('관람객','')\n",
    "        print(review_trans2)\n",
    "        reviews.append(review_trans2)\n",
    "\n",
    "    # 별점을 가져와 scores에 추가한다\n",
    "    for score in root.cssselect('.score_result .star_score em'):\n",
    "        scores.append(int(score.text_content()))\n",
    "        #print(int(score.text_content()))"
   ]
  },
  {
   "cell_type": "markdown",
   "metadata": {},
   "source": [
    "표 만들기"
   ]
  },
  {
   "cell_type": "code",
   "execution_count": 3,
   "metadata": {},
   "outputs": [],
   "source": [
    "import pandas as pd\n",
    "\n",
    "df = pd.DataFrame({\n",
    "    'score': scores, \n",
    "    'review': reviews\n",
    "})"
   ]
  },
  {
   "cell_type": "code",
   "execution_count": 4,
   "metadata": {},
   "outputs": [
    {
     "data": {
      "text/html": [
       "<div>\n",
       "<style scoped>\n",
       "    .dataframe tbody tr th:only-of-type {\n",
       "        vertical-align: middle;\n",
       "    }\n",
       "\n",
       "    .dataframe tbody tr th {\n",
       "        vertical-align: top;\n",
       "    }\n",
       "\n",
       "    .dataframe thead th {\n",
       "        text-align: right;\n",
       "    }\n",
       "</style>\n",
       "<table border=\"1\" class=\"dataframe\">\n",
       "  <thead>\n",
       "    <tr style=\"text-align: right;\">\n",
       "      <th></th>\n",
       "      <th>score</th>\n",
       "      <th>review</th>\n",
       "    </tr>\n",
       "  </thead>\n",
       "  <tbody>\n",
       "    <tr>\n",
       "      <th>0</th>\n",
       "      <td>1</td>\n",
       "      <td>도대체 어디가 웃긴 건지</td>\n",
       "    </tr>\n",
       "    <tr>\n",
       "      <th>1</th>\n",
       "      <td>10</td>\n",
       "      <td>요즘 같은 때 생각없이 보기 너무 좋은 영화네요 기분 좋아지네요 역시 영화는 극...</td>\n",
       "    </tr>\n",
       "    <tr>\n",
       "      <th>2</th>\n",
       "      <td>10</td>\n",
       "      <td>즐겁게 볼 수 있는 영화 김영광 이선빈 둘 케미가 넘 유쾌하고 좋아여</td>\n",
       "    </tr>\n",
       "    <tr>\n",
       "      <th>3</th>\n",
       "      <td>10</td>\n",
       "      <td>미친 둘이 왤케 웃김 로맨스 1도 없어서 걍 개웃기고 좋았음 이선빈 넘 좋앜</td>\n",
       "    </tr>\n",
       "    <tr>\n",
       "      <th>4</th>\n",
       "      <td>9</td>\n",
       "      <td>오랜만에 극장에서 웃으면서 영화를 관람함 두 배우 코믹 케미도 좋고 억지스러운 ...</td>\n",
       "    </tr>\n",
       "  </tbody>\n",
       "</table>\n",
       "</div>"
      ],
      "text/plain": [
       "   score                                             review\n",
       "0      1                                     도대체 어디가 웃긴 건지 \n",
       "1     10    요즘 같은 때 생각없이 보기 너무 좋은 영화네요 기분 좋아지네요 역시 영화는 극...\n",
       "2     10            즐겁게 볼 수 있는 영화 김영광 이선빈 둘 케미가 넘 유쾌하고 좋아여 \n",
       "3     10        미친 둘이 왤케 웃김 로맨스 1도 없어서 걍 개웃기고 좋았음 이선빈 넘 좋앜 \n",
       "4      9    오랜만에 극장에서 웃으면서 영화를 관람함 두 배우 코믹 케미도 좋고 억지스러운 ..."
      ]
     },
     "execution_count": 4,
     "metadata": {},
     "output_type": "execute_result"
    }
   ],
   "source": [
    "df.head()"
   ]
  },
  {
   "cell_type": "markdown",
   "metadata": {},
   "source": [
    "긍/부정 표시"
   ]
  },
  {
   "cell_type": "code",
   "execution_count": 5,
   "metadata": {},
   "outputs": [],
   "source": [
    "import numpy as np"
   ]
  },
  {
   "cell_type": "code",
   "execution_count": 6,
   "metadata": {},
   "outputs": [
    {
     "data": {
      "text/html": [
       "<div>\n",
       "<style scoped>\n",
       "    .dataframe tbody tr th:only-of-type {\n",
       "        vertical-align: middle;\n",
       "    }\n",
       "\n",
       "    .dataframe tbody tr th {\n",
       "        vertical-align: top;\n",
       "    }\n",
       "\n",
       "    .dataframe thead th {\n",
       "        text-align: right;\n",
       "    }\n",
       "</style>\n",
       "<table border=\"1\" class=\"dataframe\">\n",
       "  <thead>\n",
       "    <tr style=\"text-align: right;\">\n",
       "      <th></th>\n",
       "      <th>score</th>\n",
       "      <th>review</th>\n",
       "      <th>sentiment</th>\n",
       "    </tr>\n",
       "  </thead>\n",
       "  <tbody>\n",
       "    <tr>\n",
       "      <th>0</th>\n",
       "      <td>1</td>\n",
       "      <td>도대체 어디가 웃긴 건지</td>\n",
       "      <td>0</td>\n",
       "    </tr>\n",
       "    <tr>\n",
       "      <th>1</th>\n",
       "      <td>10</td>\n",
       "      <td>요즘 같은 때 생각없이 보기 너무 좋은 영화네요 기분 좋아지네요 역시 영화는 극...</td>\n",
       "      <td>1</td>\n",
       "    </tr>\n",
       "    <tr>\n",
       "      <th>2</th>\n",
       "      <td>10</td>\n",
       "      <td>즐겁게 볼 수 있는 영화 김영광 이선빈 둘 케미가 넘 유쾌하고 좋아여</td>\n",
       "      <td>1</td>\n",
       "    </tr>\n",
       "    <tr>\n",
       "      <th>3</th>\n",
       "      <td>10</td>\n",
       "      <td>미친 둘이 왤케 웃김 로맨스 1도 없어서 걍 개웃기고 좋았음 이선빈 넘 좋앜</td>\n",
       "      <td>1</td>\n",
       "    </tr>\n",
       "    <tr>\n",
       "      <th>4</th>\n",
       "      <td>9</td>\n",
       "      <td>오랜만에 극장에서 웃으면서 영화를 관람함 두 배우 코믹 케미도 좋고 억지스러운 ...</td>\n",
       "      <td>1</td>\n",
       "    </tr>\n",
       "  </tbody>\n",
       "</table>\n",
       "</div>"
      ],
      "text/plain": [
       "   score                                             review  sentiment\n",
       "0      1                                     도대체 어디가 웃긴 건지           0\n",
       "1     10    요즘 같은 때 생각없이 보기 너무 좋은 영화네요 기분 좋아지네요 역시 영화는 극...          1\n",
       "2     10            즐겁게 볼 수 있는 영화 김영광 이선빈 둘 케미가 넘 유쾌하고 좋아여           1\n",
       "3     10        미친 둘이 왤케 웃김 로맨스 1도 없어서 걍 개웃기고 좋았음 이선빈 넘 좋앜           1\n",
       "4      9    오랜만에 극장에서 웃으면서 영화를 관람함 두 배우 코믹 케미도 좋고 억지스러운 ...          1"
      ]
     },
     "execution_count": 6,
     "metadata": {},
     "output_type": "execute_result"
    }
   ],
   "source": [
    "# score가 5보다 크면 1, 아니면 0\n",
    "df['sentiment'] = np.where(df['score'] > 5, 1, 0)\n",
    "df.head()"
   ]
  },
  {
   "cell_type": "code",
   "execution_count": 7,
   "metadata": {},
   "outputs": [],
   "source": [
    "# 저장\n",
    "df.to_csv('movie_review_ex.csv', encoding='cp949', index=False)"
   ]
  },
  {
   "cell_type": "code",
   "execution_count": 8,
   "metadata": {},
   "outputs": [
    {
     "data": {
      "text/html": [
       "<div>\n",
       "<style scoped>\n",
       "    .dataframe tbody tr th:only-of-type {\n",
       "        vertical-align: middle;\n",
       "    }\n",
       "\n",
       "    .dataframe tbody tr th {\n",
       "        vertical-align: top;\n",
       "    }\n",
       "\n",
       "    .dataframe thead th {\n",
       "        text-align: right;\n",
       "    }\n",
       "</style>\n",
       "<table border=\"1\" class=\"dataframe\">\n",
       "  <thead>\n",
       "    <tr style=\"text-align: right;\">\n",
       "      <th></th>\n",
       "      <th>score</th>\n",
       "      <th>review</th>\n",
       "      <th>sentiment</th>\n",
       "    </tr>\n",
       "  </thead>\n",
       "  <tbody>\n",
       "    <tr>\n",
       "      <th>0</th>\n",
       "      <td>1</td>\n",
       "      <td>도대체 어디가 웃긴 건지</td>\n",
       "      <td>0</td>\n",
       "    </tr>\n",
       "    <tr>\n",
       "      <th>1</th>\n",
       "      <td>10</td>\n",
       "      <td>요즘 같은 때 생각없이 보기 너무 좋은 영화네요 기분 좋아지네요 역시 영화는 극...</td>\n",
       "      <td>1</td>\n",
       "    </tr>\n",
       "    <tr>\n",
       "      <th>2</th>\n",
       "      <td>10</td>\n",
       "      <td>즐겁게 볼 수 있는 영화 김영광 이선빈 둘 케미가 넘 유쾌하고 좋아여</td>\n",
       "      <td>1</td>\n",
       "    </tr>\n",
       "    <tr>\n",
       "      <th>3</th>\n",
       "      <td>10</td>\n",
       "      <td>미친 둘이 왤케 웃김 로맨스 1도 없어서 걍 개웃기고 좋았음 이선빈 넘 좋앜</td>\n",
       "      <td>1</td>\n",
       "    </tr>\n",
       "    <tr>\n",
       "      <th>4</th>\n",
       "      <td>9</td>\n",
       "      <td>오랜만에 극장에서 웃으면서 영화를 관람함 두 배우 코믹 케미도 좋고 억지스러운 ...</td>\n",
       "      <td>1</td>\n",
       "    </tr>\n",
       "  </tbody>\n",
       "</table>\n",
       "</div>"
      ],
      "text/plain": [
       "   score                                             review  sentiment\n",
       "0      1                                     도대체 어디가 웃긴 건지           0\n",
       "1     10    요즘 같은 때 생각없이 보기 너무 좋은 영화네요 기분 좋아지네요 역시 영화는 극...          1\n",
       "2     10            즐겁게 볼 수 있는 영화 김영광 이선빈 둘 케미가 넘 유쾌하고 좋아여           1\n",
       "3     10        미친 둘이 왤케 웃김 로맨스 1도 없어서 걍 개웃기고 좋았음 이선빈 넘 좋앜           1\n",
       "4      9    오랜만에 극장에서 웃으면서 영화를 관람함 두 배우 코믹 케미도 좋고 억지스러운 ...          1"
      ]
     },
     "execution_count": 8,
     "metadata": {},
     "output_type": "execute_result"
    }
   ],
   "source": [
    "# 불러오기\n",
    "df = pd.read_csv('movie_review_ex.csv', encoding='cp949')\n",
    "df.head()"
   ]
  },
  {
   "cell_type": "markdown",
   "metadata": {},
   "source": [
    "한글, 알파벳, 숫자 제외한 문자 제거"
   ]
  },
  {
   "cell_type": "code",
   "execution_count": 9,
   "metadata": {},
   "outputs": [],
   "source": [
    "import re"
   ]
  },
  {
   "cell_type": "code",
   "execution_count": 10,
   "metadata": {},
   "outputs": [],
   "source": [
    "def remove_non_word(text):\n",
    "    \"\"\"한글, 알파벳, 숫자를 제외한 문자를 제거\"\"\"\n",
    "    return re.sub(r'[^가-힣A-z0-9]+', ' ', text)"
   ]
  },
  {
   "cell_type": "markdown",
   "metadata": {},
   "source": [
    "WPM(Word Piece Model) 학습\n",
    " - 구글의 WPM에는 BPE(Byte Pair Encoding) 알고리즘\n",
    "    - 자연어 처리를 위한 주요 전처리 방법으로 사용"
   ]
  },
  {
   "cell_type": "code",
   "execution_count": 12,
   "metadata": {},
   "outputs": [
    {
     "name": "stdout",
     "output_type": "stream",
     "text": [
      "Collecting subword-nmt\n",
      "  Downloading subword_nmt-0.3.7-py2.py3-none-any.whl (26 kB)\n",
      "Installing collected packages: subword-nmt\n",
      "Successfully installed subword-nmt-0.3.7\n"
     ]
    }
   ],
   "source": [
    "#!pip install subword-nmt"
   ]
  },
  {
   "cell_type": "code",
   "execution_count": 11,
   "metadata": {},
   "outputs": [
    {
     "name": "stderr",
     "output_type": "stream",
     "text": [
      "no pair has frequency >= 2. Stopping\n"
     ]
    }
   ],
   "source": [
    "from subword_nmt.learn_bpe import learn_bpe\n",
    "import io\n",
    "\n",
    "with open('영화평점.txt', 'w', encoding='utf8') as outfile:\n",
    "    infile = io.StringIO(remove_non_word(' '.join(df['review'])))\n",
    "    learn_bpe(infile, outfile, 1000)"
   ]
  },
  {
   "cell_type": "code",
   "execution_count": 12,
   "metadata": {},
   "outputs": [],
   "source": [
    "from subword_nmt.apply_bpe import BPE\n",
    "\n",
    "with open('영화평점.txt', encoding='utf8') as f:\n",
    "    bpe = BPE(f, separator='~')"
   ]
  },
  {
   "cell_type": "markdown",
   "metadata": {},
   "source": [
    "TDM 만들기"
   ]
  },
  {
   "cell_type": "markdown",
   "metadata": {},
   "source": [
    "- BoW(Bag of Words)란 단어들의 순서는 전혀 고려하지 않고, 단어들의 출현 빈도(frequency)에만 집중하는 텍스트 데이터의 수치화 표현 방법\n",
    "<img src=\"TDM.jpg\">"
   ]
  },
  {
   "cell_type": "code",
   "execution_count": 13,
   "metadata": {},
   "outputs": [],
   "source": [
    "def tokenizer_wpm(text):\n",
    "    text = remove_non_word(text)\n",
    "    tokens = bpe.process_line(text)\n",
    "    tokens = tokens.split()\n",
    "    return [t for t in tokens\n",
    "            if (not t.endswith('~') and len(t) > 1) or len(t) > 2]"
   ]
  },
  {
   "cell_type": "code",
   "execution_count": 14,
   "metadata": {},
   "outputs": [],
   "source": [
    "from sklearn.feature_extraction.text import CountVectorizer"
   ]
  },
  {
   "cell_type": "code",
   "execution_count": 15,
   "metadata": {},
   "outputs": [],
   "source": [
    "cv_wpm = CountVectorizer(max_features=1000, tokenizer=tokenizer_wpm)"
   ]
  },
  {
   "cell_type": "code",
   "execution_count": 16,
   "metadata": {},
   "outputs": [],
   "source": [
    "tdm = cv_wpm.fit_transform(df['review'])"
   ]
  },
  {
   "cell_type": "markdown",
   "metadata": {},
   "source": [
    "토큰 빈도"
   ]
  },
  {
   "cell_type": "code",
   "execution_count": 17,
   "metadata": {},
   "outputs": [
    {
     "data": {
      "text/html": [
       "<div>\n",
       "<style scoped>\n",
       "    .dataframe tbody tr th:only-of-type {\n",
       "        vertical-align: middle;\n",
       "    }\n",
       "\n",
       "    .dataframe tbody tr th {\n",
       "        vertical-align: top;\n",
       "    }\n",
       "\n",
       "    .dataframe thead th {\n",
       "        text-align: right;\n",
       "    }\n",
       "</style>\n",
       "<table border=\"1\" class=\"dataframe\">\n",
       "  <thead>\n",
       "    <tr style=\"text-align: right;\">\n",
       "      <th></th>\n",
       "      <th>word</th>\n",
       "      <th>n</th>\n",
       "    </tr>\n",
       "  </thead>\n",
       "  <tbody>\n",
       "    <tr>\n",
       "      <th>0</th>\n",
       "      <td>10~</td>\n",
       "      <td>3</td>\n",
       "    </tr>\n",
       "    <tr>\n",
       "      <th>1</th>\n",
       "      <td>30~</td>\n",
       "      <td>2</td>\n",
       "    </tr>\n",
       "    <tr>\n",
       "      <th>2</th>\n",
       "      <td>9점~</td>\n",
       "      <td>2</td>\n",
       "    </tr>\n",
       "    <tr>\n",
       "      <th>3</th>\n",
       "      <td>^^</td>\n",
       "      <td>9</td>\n",
       "    </tr>\n",
       "    <tr>\n",
       "      <th>4</th>\n",
       "      <td>good</td>\n",
       "      <td>2</td>\n",
       "    </tr>\n",
       "  </tbody>\n",
       "</table>\n",
       "</div>"
      ],
      "text/plain": [
       "   word  n\n",
       "0   10~  3\n",
       "1   30~  2\n",
       "2   9점~  2\n",
       "3    ^^  9\n",
       "4  good  2"
      ]
     },
     "execution_count": 17,
     "metadata": {},
     "output_type": "execute_result"
    }
   ],
   "source": [
    "freq = pd.DataFrame({\n",
    "    'word': cv_wpm.get_feature_names(),\n",
    "    'n': tdm.sum(axis=0).flat\n",
    "})\n",
    "freq.head()"
   ]
  },
  {
   "cell_type": "code",
   "execution_count": 18,
   "metadata": {},
   "outputs": [
    {
     "data": {
      "text/html": [
       "<div>\n",
       "<style scoped>\n",
       "    .dataframe tbody tr th:only-of-type {\n",
       "        vertical-align: middle;\n",
       "    }\n",
       "\n",
       "    .dataframe tbody tr th {\n",
       "        vertical-align: top;\n",
       "    }\n",
       "\n",
       "    .dataframe thead th {\n",
       "        text-align: right;\n",
       "    }\n",
       "</style>\n",
       "<table border=\"1\" class=\"dataframe\">\n",
       "  <thead>\n",
       "    <tr style=\"text-align: right;\">\n",
       "      <th></th>\n",
       "      <th>word</th>\n",
       "      <th>n</th>\n",
       "    </tr>\n",
       "  </thead>\n",
       "  <tbody>\n",
       "    <tr>\n",
       "      <th>462</th>\n",
       "      <td>재밌어요</td>\n",
       "      <td>16</td>\n",
       "    </tr>\n",
       "    <tr>\n",
       "      <th>91</th>\n",
       "      <td>네요</td>\n",
       "      <td>17</td>\n",
       "    </tr>\n",
       "    <tr>\n",
       "      <th>176</th>\n",
       "      <td>보기</td>\n",
       "      <td>24</td>\n",
       "    </tr>\n",
       "    <tr>\n",
       "      <th>349</th>\n",
       "      <td>오랜만에</td>\n",
       "      <td>24</td>\n",
       "    </tr>\n",
       "    <tr>\n",
       "      <th>327</th>\n",
       "      <td>영화~</td>\n",
       "      <td>26</td>\n",
       "    </tr>\n",
       "    <tr>\n",
       "      <th>454</th>\n",
       "      <td>재밌게</td>\n",
       "      <td>27</td>\n",
       "    </tr>\n",
       "    <tr>\n",
       "      <th>512</th>\n",
       "      <td>진짜</td>\n",
       "      <td>27</td>\n",
       "    </tr>\n",
       "    <tr>\n",
       "      <th>65</th>\n",
       "      <td>김영광</td>\n",
       "      <td>35</td>\n",
       "    </tr>\n",
       "    <tr>\n",
       "      <th>326</th>\n",
       "      <td>영화</td>\n",
       "      <td>36</td>\n",
       "    </tr>\n",
       "    <tr>\n",
       "      <th>89</th>\n",
       "      <td>너무</td>\n",
       "      <td>41</td>\n",
       "    </tr>\n",
       "  </tbody>\n",
       "</table>\n",
       "</div>"
      ],
      "text/plain": [
       "     word   n\n",
       "462  재밌어요  16\n",
       "91     네요  17\n",
       "176    보기  24\n",
       "349  오랜만에  24\n",
       "327   영화~  26\n",
       "454   재밌게  27\n",
       "512    진짜  27\n",
       "65    김영광  35\n",
       "326    영화  36\n",
       "89     너무  41"
      ]
     },
     "execution_count": 18,
     "metadata": {},
     "output_type": "execute_result"
    }
   ],
   "source": [
    "freq.sort_values('n').tail(10)"
   ]
  },
  {
   "cell_type": "markdown",
   "metadata": {},
   "source": [
    "데이터 분할"
   ]
  },
  {
   "cell_type": "code",
   "execution_count": 19,
   "metadata": {},
   "outputs": [],
   "source": [
    "from sklearn.model_selection import train_test_split\n",
    "x_train, x_test, y_train, y_test = train_test_split(\n",
    "    tdm, df['sentiment'], test_size=.2, random_state=1234)"
   ]
  },
  {
   "cell_type": "markdown",
   "metadata": {},
   "source": [
    "학습"
   ]
  },
  {
   "cell_type": "code",
   "execution_count": 20,
   "metadata": {},
   "outputs": [
    {
     "data": {
      "text/plain": [
       "LogisticRegressionCV(random_state=1234)"
      ]
     },
     "execution_count": 20,
     "metadata": {},
     "output_type": "execute_result"
    }
   ],
   "source": [
    "from sklearn.linear_model import LogisticRegressionCV\n",
    "model = LogisticRegressionCV(random_state=1234)\n",
    "model.fit(x_train, y_train)"
   ]
  },
  {
   "cell_type": "markdown",
   "metadata": {},
   "source": [
    "성능 평가"
   ]
  },
  {
   "cell_type": "code",
   "execution_count": 21,
   "metadata": {},
   "outputs": [
    {
     "data": {
      "text/plain": [
       "0.9655172413793104"
      ]
     },
     "execution_count": 21,
     "metadata": {},
     "output_type": "execute_result"
    }
   ],
   "source": [
    "from sklearn.metrics import accuracy_score\n",
    "y_pred = model.predict(x_test)\n",
    "accuracy_score(y_test, y_pred)"
   ]
  },
  {
   "cell_type": "markdown",
   "metadata": {},
   "source": [
    "계수 분석"
   ]
  },
  {
   "cell_type": "code",
   "execution_count": 22,
   "metadata": {},
   "outputs": [],
   "source": [
    "word_coef = pd.DataFrame({\n",
    "    'word': cv_wpm.get_feature_names(),\n",
    "    'coef': model.coef_.flat\n",
    "})"
   ]
  },
  {
   "cell_type": "code",
   "execution_count": 23,
   "metadata": {},
   "outputs": [
    {
     "data": {
      "text/html": [
       "<div>\n",
       "<style scoped>\n",
       "    .dataframe tbody tr th:only-of-type {\n",
       "        vertical-align: middle;\n",
       "    }\n",
       "\n",
       "    .dataframe tbody tr th {\n",
       "        vertical-align: top;\n",
       "    }\n",
       "\n",
       "    .dataframe thead th {\n",
       "        text-align: right;\n",
       "    }\n",
       "</style>\n",
       "<table border=\"1\" class=\"dataframe\">\n",
       "  <thead>\n",
       "    <tr style=\"text-align: right;\">\n",
       "      <th></th>\n",
       "      <th>word</th>\n",
       "      <th>coef</th>\n",
       "    </tr>\n",
       "  </thead>\n",
       "  <tbody>\n",
       "    <tr>\n",
       "      <th>0</th>\n",
       "      <td>10~</td>\n",
       "      <td>2.270231</td>\n",
       "    </tr>\n",
       "    <tr>\n",
       "      <th>1</th>\n",
       "      <td>30~</td>\n",
       "      <td>-0.687893</td>\n",
       "    </tr>\n",
       "    <tr>\n",
       "      <th>2</th>\n",
       "      <td>9점~</td>\n",
       "      <td>0.003520</td>\n",
       "    </tr>\n",
       "    <tr>\n",
       "      <th>3</th>\n",
       "      <td>^^</td>\n",
       "      <td>2.130674</td>\n",
       "    </tr>\n",
       "    <tr>\n",
       "      <th>4</th>\n",
       "      <td>good</td>\n",
       "      <td>1.910383</td>\n",
       "    </tr>\n",
       "  </tbody>\n",
       "</table>\n",
       "</div>"
      ],
      "text/plain": [
       "   word      coef\n",
       "0   10~  2.270231\n",
       "1   30~ -0.687893\n",
       "2   9점~  0.003520\n",
       "3    ^^  2.130674\n",
       "4  good  1.910383"
      ]
     },
     "execution_count": 23,
     "metadata": {},
     "output_type": "execute_result"
    }
   ],
   "source": [
    "word_coef.head()"
   ]
  },
  {
   "cell_type": "code",
   "execution_count": 24,
   "metadata": {},
   "outputs": [
    {
     "data": {
      "text/html": [
       "<div>\n",
       "<style scoped>\n",
       "    .dataframe tbody tr th:only-of-type {\n",
       "        vertical-align: middle;\n",
       "    }\n",
       "\n",
       "    .dataframe tbody tr th {\n",
       "        vertical-align: top;\n",
       "    }\n",
       "\n",
       "    .dataframe thead th {\n",
       "        text-align: right;\n",
       "    }\n",
       "</style>\n",
       "<table border=\"1\" class=\"dataframe\">\n",
       "  <thead>\n",
       "    <tr style=\"text-align: right;\">\n",
       "      <th></th>\n",
       "      <th>word</th>\n",
       "      <th>coef</th>\n",
       "    </tr>\n",
       "  </thead>\n",
       "  <tbody>\n",
       "    <tr>\n",
       "      <th>464</th>\n",
       "      <td>재밌었어요</td>\n",
       "      <td>3.917889</td>\n",
       "    </tr>\n",
       "    <tr>\n",
       "      <th>186</th>\n",
       "      <td>보세요</td>\n",
       "      <td>3.889345</td>\n",
       "    </tr>\n",
       "    <tr>\n",
       "      <th>552</th>\n",
       "      <td>킬링타임~</td>\n",
       "      <td>3.657204</td>\n",
       "    </tr>\n",
       "    <tr>\n",
       "      <th>180</th>\n",
       "      <td>보는~</td>\n",
       "      <td>3.394036</td>\n",
       "    </tr>\n",
       "    <tr>\n",
       "      <th>462</th>\n",
       "      <td>재밌어요</td>\n",
       "      <td>3.328858</td>\n",
       "    </tr>\n",
       "    <tr>\n",
       "      <th>443</th>\n",
       "      <td>재미있게</td>\n",
       "      <td>3.159507</td>\n",
       "    </tr>\n",
       "    <tr>\n",
       "      <th>537</th>\n",
       "      <td>케미가</td>\n",
       "      <td>3.134167</td>\n",
       "    </tr>\n",
       "    <tr>\n",
       "      <th>454</th>\n",
       "      <td>재밌게</td>\n",
       "      <td>3.023005</td>\n",
       "    </tr>\n",
       "    <tr>\n",
       "      <th>258</th>\n",
       "      <td>아무생각없이</td>\n",
       "      <td>3.006969</td>\n",
       "    </tr>\n",
       "    <tr>\n",
       "      <th>457</th>\n",
       "      <td>재밌네요</td>\n",
       "      <td>2.886149</td>\n",
       "    </tr>\n",
       "  </tbody>\n",
       "</table>\n",
       "</div>"
      ],
      "text/plain": [
       "       word      coef\n",
       "464   재밌었어요  3.917889\n",
       "186     보세요  3.889345\n",
       "552   킬링타임~  3.657204\n",
       "180     보는~  3.394036\n",
       "462    재밌어요  3.328858\n",
       "443    재미있게  3.159507\n",
       "537     케미가  3.134167\n",
       "454     재밌게  3.023005\n",
       "258  아무생각없이  3.006969\n",
       "457    재밌네요  2.886149"
      ]
     },
     "execution_count": 24,
     "metadata": {},
     "output_type": "execute_result"
    }
   ],
   "source": [
    "word_coef.sort_values('coef', ascending=False).head(10)"
   ]
  },
  {
   "cell_type": "code",
   "execution_count": 25,
   "metadata": {},
   "outputs": [
    {
     "data": {
      "text/html": [
       "<div>\n",
       "<style scoped>\n",
       "    .dataframe tbody tr th:only-of-type {\n",
       "        vertical-align: middle;\n",
       "    }\n",
       "\n",
       "    .dataframe tbody tr th {\n",
       "        vertical-align: top;\n",
       "    }\n",
       "\n",
       "    .dataframe thead th {\n",
       "        text-align: right;\n",
       "    }\n",
       "</style>\n",
       "<table border=\"1\" class=\"dataframe\">\n",
       "  <thead>\n",
       "    <tr style=\"text-align: right;\">\n",
       "      <th></th>\n",
       "      <th>word</th>\n",
       "      <th>coef</th>\n",
       "    </tr>\n",
       "  </thead>\n",
       "  <tbody>\n",
       "    <tr>\n",
       "      <th>457</th>\n",
       "      <td>재밌네요</td>\n",
       "      <td>2.886149</td>\n",
       "    </tr>\n",
       "    <tr>\n",
       "      <th>258</th>\n",
       "      <td>아무생각없이</td>\n",
       "      <td>3.006969</td>\n",
       "    </tr>\n",
       "    <tr>\n",
       "      <th>454</th>\n",
       "      <td>재밌게</td>\n",
       "      <td>3.023005</td>\n",
       "    </tr>\n",
       "    <tr>\n",
       "      <th>537</th>\n",
       "      <td>케미가</td>\n",
       "      <td>3.134167</td>\n",
       "    </tr>\n",
       "    <tr>\n",
       "      <th>443</th>\n",
       "      <td>재미있게</td>\n",
       "      <td>3.159507</td>\n",
       "    </tr>\n",
       "    <tr>\n",
       "      <th>462</th>\n",
       "      <td>재밌어요</td>\n",
       "      <td>3.328858</td>\n",
       "    </tr>\n",
       "    <tr>\n",
       "      <th>180</th>\n",
       "      <td>보는~</td>\n",
       "      <td>3.394036</td>\n",
       "    </tr>\n",
       "    <tr>\n",
       "      <th>552</th>\n",
       "      <td>킬링타임~</td>\n",
       "      <td>3.657204</td>\n",
       "    </tr>\n",
       "    <tr>\n",
       "      <th>186</th>\n",
       "      <td>보세요</td>\n",
       "      <td>3.889345</td>\n",
       "    </tr>\n",
       "    <tr>\n",
       "      <th>464</th>\n",
       "      <td>재밌었어요</td>\n",
       "      <td>3.917889</td>\n",
       "    </tr>\n",
       "  </tbody>\n",
       "</table>\n",
       "</div>"
      ],
      "text/plain": [
       "       word      coef\n",
       "457    재밌네요  2.886149\n",
       "258  아무생각없이  3.006969\n",
       "454     재밌게  3.023005\n",
       "537     케미가  3.134167\n",
       "443    재미있게  3.159507\n",
       "462    재밌어요  3.328858\n",
       "180     보는~  3.394036\n",
       "552   킬링타임~  3.657204\n",
       "186     보세요  3.889345\n",
       "464   재밌었어요  3.917889"
      ]
     },
     "execution_count": 25,
     "metadata": {},
     "output_type": "execute_result"
    }
   ],
   "source": [
    "word_coef.sort_values('coef').tail(10)"
   ]
  },
  {
   "cell_type": "code",
   "execution_count": null,
   "metadata": {},
   "outputs": [],
   "source": []
  }
 ],
 "metadata": {
  "kernelspec": {
   "display_name": "Python 3",
   "language": "python",
   "name": "python3"
  },
  "language_info": {
   "codemirror_mode": {
    "name": "ipython",
    "version": 3
   },
   "file_extension": ".py",
   "mimetype": "text/x-python",
   "name": "python",
   "nbconvert_exporter": "python",
   "pygments_lexer": "ipython3",
   "version": "3.8.5"
  }
 },
 "nbformat": 4,
 "nbformat_minor": 4
}
